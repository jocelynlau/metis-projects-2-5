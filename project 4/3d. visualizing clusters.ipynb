{
 "cells": [
  {
   "cell_type": "code",
   "execution_count": 1,
   "metadata": {},
   "outputs": [],
   "source": [
    "from pymongo import MongoClient\n",
    "from pprint import pprint\n",
    "\n",
    "import pandas as pd\n",
    "import re\n",
    "import nltk\n",
    "\n",
    "import pickle\n",
    "import json"
   ]
  },
  {
   "cell_type": "code",
   "execution_count": 2,
   "metadata": {},
   "outputs": [],
   "source": [
    "from bson.objectid import ObjectId"
   ]
  },
  {
   "cell_type": "code",
   "execution_count": 3,
   "metadata": {
    "scrolled": true
   },
   "outputs": [
    {
     "name": "stderr",
     "output_type": "stream",
     "text": [
      "[nltk_data] Downloading package wordnet to /Users/Jocelyn/nltk_data...\n",
      "[nltk_data]   Package wordnet is already up-to-date!\n"
     ]
    },
    {
     "data": {
      "text/plain": [
       "True"
      ]
     },
     "execution_count": 3,
     "metadata": {},
     "output_type": "execute_result"
    }
   ],
   "source": [
    "# stemming\n",
    "from nltk.stem.lancaster import LancasterStemmer\n",
    "from nltk.stem.porter import PorterStemmer\n",
    "from nltk.stem.snowball import SnowballStemmer\n",
    "nltk.download('wordnet')"
   ]
  },
  {
   "cell_type": "code",
   "execution_count": 4,
   "metadata": {},
   "outputs": [],
   "source": [
    "# import product list\n",
    "with open('pickles/product_list.pickle', 'rb') as to_read:\n",
    "    product_list = pickle.load(to_read)\n",
    "\n",
    "with open('pickles/review_list.pickle', 'rb') as to_read:\n",
    "    review_list = pickle.load(to_read)\n",
    "    \n",
    "with open('pickles/sim_asin.pickle', 'rb') as to_read:\n",
    "    sim_asin = pickle.load(to_read)\n",
    "    \n",
    "with open('pickles/doc_topic.pickle', 'rb') as to_read:\n",
    "    doc_topic = pickle.load(to_read)"
   ]
  },
  {
   "cell_type": "code",
   "execution_count": 6,
   "metadata": {},
   "outputs": [
    {
     "data": {
      "text/html": [
       "<div>\n",
       "<style scoped>\n",
       "    .dataframe tbody tr th:only-of-type {\n",
       "        vertical-align: middle;\n",
       "    }\n",
       "\n",
       "    .dataframe tbody tr th {\n",
       "        vertical-align: top;\n",
       "    }\n",
       "\n",
       "    .dataframe thead th {\n",
       "        text-align: right;\n",
       "    }\n",
       "</style>\n",
       "<table border=\"1\" class=\"dataframe\">\n",
       "  <thead>\n",
       "    <tr style=\"text-align: right;\">\n",
       "      <th></th>\n",
       "      <th>0</th>\n",
       "      <th>1</th>\n",
       "      <th>2</th>\n",
       "      <th>3</th>\n",
       "      <th>4</th>\n",
       "      <th>5</th>\n",
       "      <th>6</th>\n",
       "      <th>7</th>\n",
       "      <th>8</th>\n",
       "      <th>9</th>\n",
       "    </tr>\n",
       "    <tr>\n",
       "      <th>asin</th>\n",
       "      <th></th>\n",
       "      <th></th>\n",
       "      <th></th>\n",
       "      <th></th>\n",
       "      <th></th>\n",
       "      <th></th>\n",
       "      <th></th>\n",
       "      <th></th>\n",
       "      <th></th>\n",
       "      <th></th>\n",
       "    </tr>\n",
       "  </thead>\n",
       "  <tbody>\n",
       "    <tr>\n",
       "      <td>B0000Y3NO6</td>\n",
       "      <td>0.05427</td>\n",
       "      <td>0.00904</td>\n",
       "      <td>0.00433</td>\n",
       "      <td>0.02289</td>\n",
       "      <td>0.10064</td>\n",
       "      <td>0.03511</td>\n",
       "      <td>0.04922</td>\n",
       "      <td>0.06427</td>\n",
       "      <td>0.00000</td>\n",
       "      <td>0.00097</td>\n",
       "    </tr>\n",
       "    <tr>\n",
       "      <td>B00012C5RS</td>\n",
       "      <td>0.05172</td>\n",
       "      <td>0.01705</td>\n",
       "      <td>0.00866</td>\n",
       "      <td>0.01602</td>\n",
       "      <td>0.04922</td>\n",
       "      <td>0.01919</td>\n",
       "      <td>0.12587</td>\n",
       "      <td>0.00586</td>\n",
       "      <td>0.00748</td>\n",
       "      <td>0.01431</td>\n",
       "    </tr>\n",
       "    <tr>\n",
       "      <td>B0001EKTTC</td>\n",
       "      <td>0.04839</td>\n",
       "      <td>0.02002</td>\n",
       "      <td>0.04258</td>\n",
       "      <td>0.07218</td>\n",
       "      <td>0.10511</td>\n",
       "      <td>0.00331</td>\n",
       "      <td>0.00418</td>\n",
       "      <td>0.00000</td>\n",
       "      <td>0.01376</td>\n",
       "      <td>0.00000</td>\n",
       "    </tr>\n",
       "    <tr>\n",
       "      <td>B0001EL5Q8</td>\n",
       "      <td>0.07574</td>\n",
       "      <td>0.00000</td>\n",
       "      <td>0.00000</td>\n",
       "      <td>0.08743</td>\n",
       "      <td>0.01846</td>\n",
       "      <td>0.00526</td>\n",
       "      <td>0.08463</td>\n",
       "      <td>0.01515</td>\n",
       "      <td>0.01931</td>\n",
       "      <td>0.00000</td>\n",
       "    </tr>\n",
       "    <tr>\n",
       "      <td>B0001EL5JA</td>\n",
       "      <td>0.03347</td>\n",
       "      <td>0.00424</td>\n",
       "      <td>0.00000</td>\n",
       "      <td>0.06206</td>\n",
       "      <td>0.03392</td>\n",
       "      <td>0.10670</td>\n",
       "      <td>0.02497</td>\n",
       "      <td>0.00439</td>\n",
       "      <td>0.00000</td>\n",
       "      <td>0.00969</td>\n",
       "    </tr>\n",
       "  </tbody>\n",
       "</table>\n",
       "</div>"
      ],
      "text/plain": [
       "                  0        1        2        3        4        5        6  \\\n",
       "asin                                                                        \n",
       "B0000Y3NO6  0.05427  0.00904  0.00433  0.02289  0.10064  0.03511  0.04922   \n",
       "B00012C5RS  0.05172  0.01705  0.00866  0.01602  0.04922  0.01919  0.12587   \n",
       "B0001EKTTC  0.04839  0.02002  0.04258  0.07218  0.10511  0.00331  0.00418   \n",
       "B0001EL5Q8  0.07574  0.00000  0.00000  0.08743  0.01846  0.00526  0.08463   \n",
       "B0001EL5JA  0.03347  0.00424  0.00000  0.06206  0.03392  0.10670  0.02497   \n",
       "\n",
       "                  7        8        9  \n",
       "asin                                   \n",
       "B0000Y3NO6  0.06427  0.00000  0.00097  \n",
       "B00012C5RS  0.00586  0.00748  0.01431  \n",
       "B0001EKTTC  0.00000  0.01376  0.00000  \n",
       "B0001EL5Q8  0.01515  0.01931  0.00000  \n",
       "B0001EL5JA  0.00439  0.00000  0.00969  "
      ]
     },
     "execution_count": 6,
     "metadata": {},
     "output_type": "execute_result"
    }
   ],
   "source": [
    "doc_topic.head(5)"
   ]
  },
  {
   "cell_type": "code",
   "execution_count": 15,
   "metadata": {},
   "outputs": [
    {
     "name": "stdout",
     "output_type": "stream",
     "text": [
      "0.0 0.20975\n",
      "0.0 0.22641\n",
      "0.0 0.30752\n",
      "0.0 0.13026\n",
      "0.0 0.23446\n",
      "0.0 0.16811\n",
      "0.0 0.19901\n",
      "0.0 0.18633\n",
      "0.0 0.21343\n",
      "0.0 0.31562\n"
     ]
    }
   ],
   "source": [
    "for i in range(0,10):\n",
    "    print(min(doc_topic[i]),max(doc_topic[i]))"
   ]
  },
  {
   "cell_type": "code",
   "execution_count": 16,
   "metadata": {},
   "outputs": [],
   "source": [
    "#PCA to reduce to 2 dimensions\n",
    "from sklearn.decomposition import PCA\n",
    "\n",
    "pca = PCA(n_components=2)\n",
    "pca.fit(doc_topic)\n",
    "pcafeatures_train = pca.transform(doc_topic)"
   ]
  },
  {
   "cell_type": "code",
   "execution_count": 18,
   "metadata": {},
   "outputs": [],
   "source": [
    "import matplotlib.pyplot as plt"
   ]
  },
  {
   "cell_type": "code",
   "execution_count": 27,
   "metadata": {},
   "outputs": [
    {
     "data": {
      "image/png": "[encoded data removed]",
      "text/plain": [
       "<Figure size 432x288 with 1 Axes>"
      ]
     },
     "metadata": {
      "needs_background": "light"
     },
     "output_type": "display_data"
    }
   ],
   "source": [
    "plt.scatter(pcafeatures_train[:,0],pcafeatures_train[:,1]);"
   ]
  },
  {
   "cell_type": "code",
   "execution_count": null,
   "metadata": {},
   "outputs": [],
   "source": []
  }
 ],
 "metadata": {
  "kernelspec": {
   "display_name": "Python [conda env:metis] *",
   "language": "python",
   "name": "conda-env-metis-py"
  },
  "language_info": {
   "codemirror_mode": {
    "name": "ipython",
    "version": 3
   },
   "file_extension": ".py",
   "mimetype": "text/x-python",
   "name": "python",
   "nbconvert_exporter": "python",
   "pygments_lexer": "ipython3",
   "version": "3.6.9"
  }
 },
 "nbformat": 4,
 "nbformat_minor": 2
}
