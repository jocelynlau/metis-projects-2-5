{
 "cells": [
  {
   "cell_type": "markdown",
   "metadata": {},
   "source": [
    "## Set up"
   ]
  },
  {
   "cell_type": "code",
   "execution_count": 2,
   "metadata": {},
   "outputs": [],
   "source": [
    "from pymongo import MongoClient\n",
    "from pprint import pprint\n",
    "\n",
    "import pandas as pd\n",
    "import re\n",
    "import nltk\n",
    "\n",
    "import pickle\n",
    "import json"
   ]
  },
  {
   "cell_type": "code",
   "execution_count": 3,
   "metadata": {},
   "outputs": [],
   "source": [
    "from bson.objectid import ObjectId"
   ]
  },
  {
   "cell_type": "code",
   "execution_count": 4,
   "metadata": {},
   "outputs": [],
   "source": [
    "from sklearn.feature_extraction.text import CountVectorizer\n",
    "from sklearn.feature_extraction.text import TfidfVectorizer\n",
    "\n",
    "from sklearn.feature_extraction.text import CountVectorizer \n",
    "from sklearn.decomposition import TruncatedSVD\n",
    "from sklearn.decomposition import NMF\n",
    "from sklearn.metrics.pairwise import cosine_similarity"
   ]
  },
  {
   "cell_type": "code",
   "execution_count": 5,
   "metadata": {},
   "outputs": [
    {
     "name": "stderr",
     "output_type": "stream",
     "text": [
      "[nltk_data] Downloading package wordnet to /Users/Jocelyn/nltk_data...\n",
      "[nltk_data]   Package wordnet is already up-to-date!\n"
     ]
    },
    {
     "data": {
      "text/plain": [
       "True"
      ]
     },
     "execution_count": 5,
     "metadata": {},
     "output_type": "execute_result"
    }
   ],
   "source": [
    "# stemming\n",
    "from nltk.stem.lancaster import LancasterStemmer\n",
    "from nltk.stem.porter import PorterStemmer\n",
    "from nltk.stem.snowball import SnowballStemmer\n",
    "nltk.download('wordnet')"
   ]
  },
  {
   "cell_type": "code",
   "execution_count": 6,
   "metadata": {},
   "outputs": [],
   "source": [
    "# This creates a client that uses the default port on localhost.\n",
    "# If connecting to AWS, you need a connection string.\n",
    "# Can do the same thing with MongoClient(\"mongodb://localhost:27017\")\n",
    "# client = MongoClient()\n",
    "client = MongoClient(\"mongodb://localhost:27017\")"
   ]
  },
  {
   "cell_type": "code",
   "execution_count": 7,
   "metadata": {},
   "outputs": [],
   "source": [
    "# Makes it look similar to shell mongo\n",
    "db = client.amazon_lb"
   ]
  },
  {
   "cell_type": "code",
   "execution_count": 8,
   "metadata": {},
   "outputs": [
    {
     "data": {
      "text/plain": [
       "['product_reviews',\n",
       " 'skin_care_face_rev_agg',\n",
       " 'product_metadata',\n",
       " 'skin_care_face_reviews',\n",
       " 'skin_care_face_prod_rev',\n",
       " 'skin_care_face_products']"
      ]
     },
     "execution_count": 8,
     "metadata": {},
     "output_type": "execute_result"
    }
   ],
   "source": [
    "db.list_collection_names()"
   ]
  },
  {
   "cell_type": "code",
   "execution_count": 9,
   "metadata": {},
   "outputs": [],
   "source": [
    "# cursor = db.skin_care_face_products.find()\n",
    "# products = list(cursor)\n",
    "# products[0]"
   ]
  },
  {
   "cell_type": "code",
   "execution_count": 10,
   "metadata": {},
   "outputs": [],
   "source": [
    "# cursor = db.skin_care_face_prod_rev.find()\n",
    "# products = list(cursor)\n",
    "# products[0]"
   ]
  },
  {
   "cell_type": "code",
   "execution_count": 20,
   "metadata": {},
   "outputs": [],
   "source": [
    "# import product list\n",
    "with open('pickles/product_list.pickle', 'rb') as to_read:\n",
    "    product_list = pickle.load(to_read)\n",
    "\n",
    "with open('pickles/review_list.pickle', 'rb') as to_read:\n",
    "    review_list = pickle.load(to_read)\n",
    "    \n",
    "with open('pickles/all_review_list.pickle', 'rb') as to_read:\n",
    "    all_review_list = pickle.load(to_read)\n",
    "# product_list.head(5)"
   ]
  },
  {
   "cell_type": "code",
   "execution_count": 22,
   "metadata": {},
   "outputs": [
    {
     "data": {
      "text/html": [
       "<div>\n",
       "<style scoped>\n",
       "    .dataframe tbody tr th:only-of-type {\n",
       "        vertical-align: middle;\n",
       "    }\n",
       "\n",
       "    .dataframe tbody tr th {\n",
       "        vertical-align: top;\n",
       "    }\n",
       "\n",
       "    .dataframe thead th {\n",
       "        text-align: right;\n",
       "    }\n",
       "</style>\n",
       "<table border=\"1\" class=\"dataframe\">\n",
       "  <thead>\n",
       "    <tr style=\"text-align: right;\">\n",
       "      <th></th>\n",
       "      <th>asin</th>\n",
       "      <th>reviewer_id</th>\n",
       "      <th>review_id</th>\n",
       "      <th>rating</th>\n",
       "      <th>review_text</th>\n",
       "    </tr>\n",
       "  </thead>\n",
       "  <tbody>\n",
       "    <tr>\n",
       "      <td>0</td>\n",
       "      <td>B0000Y3NO6</td>\n",
       "      <td>A3AAWP3AWC4UR1</td>\n",
       "      <td>5dc881afaf3db5220c9582ee</td>\n",
       "      <td>2.0</td>\n",
       "      <td>I gave it a shot for a while until the small b...</td>\n",
       "    </tr>\n",
       "    <tr>\n",
       "      <td>1</td>\n",
       "      <td>B0000Y3NO6</td>\n",
       "      <td>A2DKQ5CLJ2KWM3</td>\n",
       "      <td>5dc881afaf3db5220c9582ef</td>\n",
       "      <td>5.0</td>\n",
       "      <td>After trying all the drugstore rosacea product...</td>\n",
       "    </tr>\n",
       "    <tr>\n",
       "      <td>2</td>\n",
       "      <td>B0000Y3NO6</td>\n",
       "      <td>ALZPAFF6H463C</td>\n",
       "      <td>5dc881afaf3db5220c9582f0</td>\n",
       "      <td>3.0</td>\n",
       "      <td>DERMAdoctor Calm, Cool &amp; Corrected 2N1 Rosacea...</td>\n",
       "    </tr>\n",
       "    <tr>\n",
       "      <td>3</td>\n",
       "      <td>B0000Y3NO6</td>\n",
       "      <td>A3UKAU8GVKQMBR</td>\n",
       "      <td>5dc881afaf3db5220c9582f1</td>\n",
       "      <td>1.0</td>\n",
       "      <td>I was very excited to try this as nothing else...</td>\n",
       "    </tr>\n",
       "    <tr>\n",
       "      <td>4</td>\n",
       "      <td>B0000Y3NO6</td>\n",
       "      <td>ARTQZJRQRW6NB</td>\n",
       "      <td>5dc881afaf3db5220c9582f2</td>\n",
       "      <td>5.0</td>\n",
       "      <td>Been using this for over 3 years. Helped long ...</td>\n",
       "    </tr>\n",
       "  </tbody>\n",
       "</table>\n",
       "</div>"
      ],
      "text/plain": [
       "         asin     reviewer_id                 review_id  rating  \\\n",
       "0  B0000Y3NO6  A3AAWP3AWC4UR1  5dc881afaf3db5220c9582ee     2.0   \n",
       "1  B0000Y3NO6  A2DKQ5CLJ2KWM3  5dc881afaf3db5220c9582ef     5.0   \n",
       "2  B0000Y3NO6   ALZPAFF6H463C  5dc881afaf3db5220c9582f0     3.0   \n",
       "3  B0000Y3NO6  A3UKAU8GVKQMBR  5dc881afaf3db5220c9582f1     1.0   \n",
       "4  B0000Y3NO6   ARTQZJRQRW6NB  5dc881afaf3db5220c9582f2     5.0   \n",
       "\n",
       "                                         review_text  \n",
       "0  I gave it a shot for a while until the small b...  \n",
       "1  After trying all the drugstore rosacea product...  \n",
       "2  DERMAdoctor Calm, Cool & Corrected 2N1 Rosacea...  \n",
       "3  I was very excited to try this as nothing else...  \n",
       "4  Been using this for over 3 years. Helped long ...  "
      ]
     },
     "execution_count": 22,
     "metadata": {},
     "output_type": "execute_result"
    }
   ],
   "source": [
    "review_list.head(5)"
   ]
  },
  {
   "cell_type": "code",
   "execution_count": 23,
   "metadata": {},
   "outputs": [],
   "source": [
    "pos_revs = review_list[review_list['rating'] >=4]\n",
    "neg_revs = review_list[review_list['rating'] <=3]"
   ]
  },
  {
   "cell_type": "code",
   "execution_count": 24,
   "metadata": {},
   "outputs": [
    {
     "data": {
      "text/plain": [
       "(16582, 5)"
      ]
     },
     "execution_count": 24,
     "metadata": {},
     "output_type": "execute_result"
    }
   ],
   "source": [
    "neg_revs.shape"
   ]
  },
  {
   "cell_type": "code",
   "execution_count": 21,
   "metadata": {},
   "outputs": [
    {
     "data": {
      "text/plain": [
       "(81038, 5)"
      ]
     },
     "execution_count": 21,
     "metadata": {},
     "output_type": "execute_result"
    }
   ],
   "source": [
    "review_list.shape"
   ]
  },
  {
   "cell_type": "markdown",
   "metadata": {},
   "source": [
    "#### group by product"
   ]
  },
  {
   "cell_type": "code",
   "execution_count": 39,
   "metadata": {},
   "outputs": [],
   "source": [
    "def join(x):\n",
    "    return ' '.join(x)\n",
    "pos_revs2 = pos_revs.groupby('asin')['review_text'].apply(join)\n",
    "neg_revs2 = neg_revs.groupby('asin')['review_text'].apply(join)"
   ]
  },
  {
   "cell_type": "code",
   "execution_count": 45,
   "metadata": {},
   "outputs": [
    {
     "data": {
      "text/plain": [
       "pandas.core.series.Series"
      ]
     },
     "execution_count": 45,
     "metadata": {},
     "output_type": "execute_result"
    }
   ],
   "source": [
    "# pos_revs[pos_revs['asin']=='B0000Y3NO6']"
   ]
  },
  {
   "cell_type": "code",
   "execution_count": 47,
   "metadata": {},
   "outputs": [
    {
     "data": {
      "text/html": [
       "<div>\n",
       "<style scoped>\n",
       "    .dataframe tbody tr th:only-of-type {\n",
       "        vertical-align: middle;\n",
       "    }\n",
       "\n",
       "    .dataframe tbody tr th {\n",
       "        vertical-align: top;\n",
       "    }\n",
       "\n",
       "    .dataframe thead th {\n",
       "        text-align: right;\n",
       "    }\n",
       "</style>\n",
       "<table border=\"1\" class=\"dataframe\">\n",
       "  <thead>\n",
       "    <tr style=\"text-align: right;\">\n",
       "      <th></th>\n",
       "      <th>asin</th>\n",
       "      <th>review_text</th>\n",
       "    </tr>\n",
       "  </thead>\n",
       "  <tbody>\n",
       "    <tr>\n",
       "      <td>0</td>\n",
       "      <td>B0000Y3NO6</td>\n",
       "      <td>After trying all the drugstore rosacea product...</td>\n",
       "    </tr>\n",
       "    <tr>\n",
       "      <td>1</td>\n",
       "      <td>B00012C5RS</td>\n",
       "      <td>I haven't splurged on a full-size bottle yet, ...</td>\n",
       "    </tr>\n",
       "    <tr>\n",
       "      <td>2</td>\n",
       "      <td>B0001EKTTC</td>\n",
       "      <td>Great product . Gets the job done. Leaves your...</td>\n",
       "    </tr>\n",
       "    <tr>\n",
       "      <td>3</td>\n",
       "      <td>B0001EL0WC</td>\n",
       "      <td>I love this night cream.  It is smooth and soa...</td>\n",
       "    </tr>\n",
       "    <tr>\n",
       "      <td>4</td>\n",
       "      <td>B0001EL4M8</td>\n",
       "      <td>I was gifted with this originally, and when I ...</td>\n",
       "    </tr>\n",
       "    <tr>\n",
       "      <td>...</td>\n",
       "      <td>...</td>\n",
       "      <td>...</td>\n",
       "    </tr>\n",
       "    <tr>\n",
       "      <td>2165</td>\n",
       "      <td>B01HBS7WW2</td>\n",
       "      <td>Nice face cream for the dry seasons. New packa...</td>\n",
       "    </tr>\n",
       "    <tr>\n",
       "      <td>2166</td>\n",
       "      <td>B01HBS7XP8</td>\n",
       "      <td>Great product! Removes layer of dirt that most...</td>\n",
       "    </tr>\n",
       "    <tr>\n",
       "      <td>2167</td>\n",
       "      <td>B01HBS87ZS</td>\n",
       "      <td>an esthetician recommended this product to me ...</td>\n",
       "    </tr>\n",
       "    <tr>\n",
       "      <td>2168</td>\n",
       "      <td>B01HEESSHG</td>\n",
       "      <td>Everything in this pack is exceThe perfume see...</td>\n",
       "    </tr>\n",
       "    <tr>\n",
       "      <td>2169</td>\n",
       "      <td>B01HGSJPMW</td>\n",
       "      <td>This is my holy grail!! I use this everyday an...</td>\n",
       "    </tr>\n",
       "  </tbody>\n",
       "</table>\n",
       "<p>2170 rows × 2 columns</p>\n",
       "</div>"
      ],
      "text/plain": [
       "            asin                                        review_text\n",
       "0     B0000Y3NO6  After trying all the drugstore rosacea product...\n",
       "1     B00012C5RS  I haven't splurged on a full-size bottle yet, ...\n",
       "2     B0001EKTTC  Great product . Gets the job done. Leaves your...\n",
       "3     B0001EL0WC  I love this night cream.  It is smooth and soa...\n",
       "4     B0001EL4M8  I was gifted with this originally, and when I ...\n",
       "...          ...                                                ...\n",
       "2165  B01HBS7WW2  Nice face cream for the dry seasons. New packa...\n",
       "2166  B01HBS7XP8  Great product! Removes layer of dirt that most...\n",
       "2167  B01HBS87ZS  an esthetician recommended this product to me ...\n",
       "2168  B01HEESSHG  Everything in this pack is exceThe perfume see...\n",
       "2169  B01HGSJPMW  This is my holy grail!! I use this everyday an...\n",
       "\n",
       "[2170 rows x 2 columns]"
      ]
     },
     "execution_count": 47,
     "metadata": {},
     "output_type": "execute_result"
    }
   ],
   "source": [
    "neg_revs2 = pd.DataFrame(neg_revs2).reset_index()\n",
    "neg_revs2\n",
    "pos_revs2 = pd.DataFrame(pos_revs2).reset_index()\n",
    "pos_revs2"
   ]
  },
  {
   "cell_type": "markdown",
   "metadata": {},
   "source": [
    "#### text processing"
   ]
  },
  {
   "cell_type": "code",
   "execution_count": 48,
   "metadata": {},
   "outputs": [],
   "source": [
    "#Compound phrases\n",
    "from nltk.tokenize import word_tokenize\n",
    "from nltk.tokenize import MWETokenizer # multi-word expression\n",
    "\n",
    "mwe_tokenizer = MWETokenizer([('times','a','day'),('holy','grail'),('t','zone')])"
   ]
  },
  {
   "cell_type": "code",
   "execution_count": 49,
   "metadata": {},
   "outputs": [],
   "source": [
    "# Text preprocessing steps - remove numbers, captial letters and punctuation\n",
    "import re\n",
    "import string\n",
    "\n",
    "remove_links = lambda x: re.sub('<[^<]+?>', '', x)\n",
    "alphanumeric = lambda x: re.sub('\\w*\\d\\w*', ' ', x)\n",
    "punc_lower = lambda x: re.sub('[%s]' % re.escape(string.punctuation), ' ', x.lower())\n",
    "\n",
    "#custom stop words\n",
    "more_stop_words = lambda x: re.sub('oz|ml|mls|ounce|ounces','',x)\n",
    "more_stop_words2 = lambda x: re.sub('use|using|product|products|work|works|working|buy|buys|buying|stuff','',x)\n",
    "\n",
    "#custom replacements\n",
    "mwe = lambda x: ' '.join(mwe_tokenizer.tokenize(word_tokenize(x)))\n",
    "\n",
    "neg_revs2['review_text'] = neg_revs2.review_text.map(remove_links).map(alphanumeric).map(punc_lower).map(more_stop_words).map(more_stop_words2)\n",
    "pos_revs2['review_text'] = pos_revs2.review_text.map(remove_links).map(alphanumeric).map(punc_lower).map(more_stop_words).map(more_stop_words2)\n"
   ]
  },
  {
   "cell_type": "code",
   "execution_count": 50,
   "metadata": {},
   "outputs": [],
   "source": [
    "# Stemmers\n",
    "\n",
    "stemmer = LancasterStemmer()\n",
    "# stemmer = PorterStemmer\n",
    "# stemmer = SnowballStemmer('english')\n",
    "# lemmatizer = WordNetLemmatizer()\n",
    "\n",
    "neg_revs2['review_text']=[' '.join([stemmer.stem(word) for word in text.split(' ')])\n",
    "          for text in neg_revs2['review_text']]\n",
    "pos_revs2['review_text']=[' '.join([stemmer.stem(word) for word in text.split(' ')])\n",
    "          for text in pos_revs2['review_text']]"
   ]
  },
  {
   "cell_type": "code",
   "execution_count": null,
   "metadata": {},
   "outputs": [],
   "source": []
  },
  {
   "cell_type": "markdown",
   "metadata": {},
   "source": [
    "#### vectorizing"
   ]
  },
  {
   "cell_type": "code",
   "execution_count": 56,
   "metadata": {},
   "outputs": [
    {
     "data": {
      "text/plain": [
       "(1664, 1342)"
      ]
     },
     "execution_count": 56,
     "metadata": {},
     "output_type": "execute_result"
    }
   ],
   "source": [
    "tfidf_n = TfidfVectorizer(stop_words='english', min_df = 20)\n",
    "\n",
    "rev_td_n = tfidf_n.fit_transform(neg_revs2['review_text'])\n",
    "rev_td_n_matrix = pd.DataFrame(rev_td_n.toarray(),columns=tfidf_n.get_feature_names())\n",
    "\n",
    "rev_td_n_matrix.shape"
   ]
  },
  {
   "cell_type": "code",
   "execution_count": 57,
   "metadata": {},
   "outputs": [
    {
     "data": {
      "text/html": [
       "<div>\n",
       "<style scoped>\n",
       "    .dataframe tbody tr th:only-of-type {\n",
       "        vertical-align: middle;\n",
       "    }\n",
       "\n",
       "    .dataframe tbody tr th {\n",
       "        vertical-align: top;\n",
       "    }\n",
       "\n",
       "    .dataframe thead th {\n",
       "        text-align: right;\n",
       "    }\n",
       "</style>\n",
       "<table border=\"1\" class=\"dataframe\">\n",
       "  <thead>\n",
       "    <tr style=\"text-align: right;\">\n",
       "      <th></th>\n",
       "      <th>abl</th>\n",
       "      <th>abov</th>\n",
       "      <th>absolv</th>\n",
       "      <th>absorb</th>\n",
       "      <th>acceiv</th>\n",
       "      <th>accid</th>\n",
       "      <th>accord</th>\n",
       "      <th>achiev</th>\n",
       "      <th>acid</th>\n",
       "      <th>acn</th>\n",
       "      <th>...</th>\n",
       "      <th>yo</th>\n",
       "      <th>young</th>\n",
       "      <th>youth</th>\n",
       "      <th>youtub</th>\n",
       "      <th>yr</th>\n",
       "      <th>yuck</th>\n",
       "      <th>zero</th>\n",
       "      <th>zint</th>\n",
       "      <th>zit</th>\n",
       "      <th>zon</th>\n",
       "    </tr>\n",
       "  </thead>\n",
       "  <tbody>\n",
       "    <tr>\n",
       "      <td>0</td>\n",
       "      <td>0.000000</td>\n",
       "      <td>0.047094</td>\n",
       "      <td>0.000000</td>\n",
       "      <td>0.0</td>\n",
       "      <td>0.0</td>\n",
       "      <td>0.0</td>\n",
       "      <td>0.000000</td>\n",
       "      <td>0.0</td>\n",
       "      <td>0.0</td>\n",
       "      <td>0.050528</td>\n",
       "      <td>...</td>\n",
       "      <td>0.078123</td>\n",
       "      <td>0.0</td>\n",
       "      <td>0.0</td>\n",
       "      <td>0.0</td>\n",
       "      <td>0.0</td>\n",
       "      <td>0.0</td>\n",
       "      <td>0.0</td>\n",
       "      <td>0.050549</td>\n",
       "      <td>0.0</td>\n",
       "      <td>0.084763</td>\n",
       "    </tr>\n",
       "    <tr>\n",
       "      <td>1</td>\n",
       "      <td>0.000000</td>\n",
       "      <td>0.000000</td>\n",
       "      <td>0.104303</td>\n",
       "      <td>0.0</td>\n",
       "      <td>0.0</td>\n",
       "      <td>0.0</td>\n",
       "      <td>0.076081</td>\n",
       "      <td>0.0</td>\n",
       "      <td>0.0</td>\n",
       "      <td>0.043134</td>\n",
       "      <td>...</td>\n",
       "      <td>0.033346</td>\n",
       "      <td>0.0</td>\n",
       "      <td>0.0</td>\n",
       "      <td>0.0</td>\n",
       "      <td>0.0</td>\n",
       "      <td>0.0</td>\n",
       "      <td>0.0</td>\n",
       "      <td>0.000000</td>\n",
       "      <td>0.0</td>\n",
       "      <td>0.000000</td>\n",
       "    </tr>\n",
       "    <tr>\n",
       "      <td>2</td>\n",
       "      <td>0.000000</td>\n",
       "      <td>0.000000</td>\n",
       "      <td>0.000000</td>\n",
       "      <td>0.0</td>\n",
       "      <td>0.0</td>\n",
       "      <td>0.0</td>\n",
       "      <td>0.000000</td>\n",
       "      <td>0.0</td>\n",
       "      <td>0.0</td>\n",
       "      <td>0.000000</td>\n",
       "      <td>...</td>\n",
       "      <td>0.000000</td>\n",
       "      <td>0.0</td>\n",
       "      <td>0.0</td>\n",
       "      <td>0.0</td>\n",
       "      <td>0.0</td>\n",
       "      <td>0.0</td>\n",
       "      <td>0.0</td>\n",
       "      <td>0.000000</td>\n",
       "      <td>0.0</td>\n",
       "      <td>0.000000</td>\n",
       "    </tr>\n",
       "    <tr>\n",
       "      <td>3</td>\n",
       "      <td>0.101823</td>\n",
       "      <td>0.000000</td>\n",
       "      <td>0.000000</td>\n",
       "      <td>0.0</td>\n",
       "      <td>0.0</td>\n",
       "      <td>0.0</td>\n",
       "      <td>0.000000</td>\n",
       "      <td>0.0</td>\n",
       "      <td>0.0</td>\n",
       "      <td>0.000000</td>\n",
       "      <td>...</td>\n",
       "      <td>0.061351</td>\n",
       "      <td>0.0</td>\n",
       "      <td>0.0</td>\n",
       "      <td>0.0</td>\n",
       "      <td>0.0</td>\n",
       "      <td>0.0</td>\n",
       "      <td>0.0</td>\n",
       "      <td>0.000000</td>\n",
       "      <td>0.0</td>\n",
       "      <td>0.000000</td>\n",
       "    </tr>\n",
       "    <tr>\n",
       "      <td>4</td>\n",
       "      <td>0.000000</td>\n",
       "      <td>0.000000</td>\n",
       "      <td>0.050458</td>\n",
       "      <td>0.0</td>\n",
       "      <td>0.0</td>\n",
       "      <td>0.0</td>\n",
       "      <td>0.000000</td>\n",
       "      <td>0.0</td>\n",
       "      <td>0.0</td>\n",
       "      <td>0.000000</td>\n",
       "      <td>...</td>\n",
       "      <td>0.032263</td>\n",
       "      <td>0.0</td>\n",
       "      <td>0.0</td>\n",
       "      <td>0.0</td>\n",
       "      <td>0.0</td>\n",
       "      <td>0.0</td>\n",
       "      <td>0.0</td>\n",
       "      <td>0.000000</td>\n",
       "      <td>0.0</td>\n",
       "      <td>0.000000</td>\n",
       "    </tr>\n",
       "  </tbody>\n",
       "</table>\n",
       "<p>5 rows × 1342 columns</p>\n",
       "</div>"
      ],
      "text/plain": [
       "        abl      abov    absolv  absorb  acceiv  accid    accord  achiev  \\\n",
       "0  0.000000  0.047094  0.000000     0.0     0.0    0.0  0.000000     0.0   \n",
       "1  0.000000  0.000000  0.104303     0.0     0.0    0.0  0.076081     0.0   \n",
       "2  0.000000  0.000000  0.000000     0.0     0.0    0.0  0.000000     0.0   \n",
       "3  0.101823  0.000000  0.000000     0.0     0.0    0.0  0.000000     0.0   \n",
       "4  0.000000  0.000000  0.050458     0.0     0.0    0.0  0.000000     0.0   \n",
       "\n",
       "   acid       acn  ...        yo  young  youth  youtub   yr  yuck  zero  \\\n",
       "0   0.0  0.050528  ...  0.078123    0.0    0.0     0.0  0.0   0.0   0.0   \n",
       "1   0.0  0.043134  ...  0.033346    0.0    0.0     0.0  0.0   0.0   0.0   \n",
       "2   0.0  0.000000  ...  0.000000    0.0    0.0     0.0  0.0   0.0   0.0   \n",
       "3   0.0  0.000000  ...  0.061351    0.0    0.0     0.0  0.0   0.0   0.0   \n",
       "4   0.0  0.000000  ...  0.032263    0.0    0.0     0.0  0.0   0.0   0.0   \n",
       "\n",
       "       zint  zit       zon  \n",
       "0  0.050549  0.0  0.084763  \n",
       "1  0.000000  0.0  0.000000  \n",
       "2  0.000000  0.0  0.000000  \n",
       "3  0.000000  0.0  0.000000  \n",
       "4  0.000000  0.0  0.000000  \n",
       "\n",
       "[5 rows x 1342 columns]"
      ]
     },
     "execution_count": 57,
     "metadata": {},
     "output_type": "execute_result"
    }
   ],
   "source": [
    "rev_td_n_matrix.head(5)"
   ]
  },
  {
   "cell_type": "code",
   "execution_count": 58,
   "metadata": {},
   "outputs": [
    {
     "data": {
      "text/plain": [
       "(2170, 2151)"
      ]
     },
     "execution_count": 58,
     "metadata": {},
     "output_type": "execute_result"
    }
   ],
   "source": [
    "tfidf_p = TfidfVectorizer(stop_words='english', min_df = 20)\n",
    "\n",
    "rev_td_p = tfidf_p.fit_transform(pos_revs2['review_text'])\n",
    "rev_td_p_matrix = pd.DataFrame(rev_td_p.toarray(),columns=tfidf_p.get_feature_names())\n",
    "\n",
    "rev_td_p_matrix.shape"
   ]
  },
  {
   "cell_type": "code",
   "execution_count": 59,
   "metadata": {},
   "outputs": [
    {
     "data": {
      "text/html": [
       "<div>\n",
       "<style scoped>\n",
       "    .dataframe tbody tr th:only-of-type {\n",
       "        vertical-align: middle;\n",
       "    }\n",
       "\n",
       "    .dataframe tbody tr th {\n",
       "        vertical-align: top;\n",
       "    }\n",
       "\n",
       "    .dataframe thead th {\n",
       "        text-align: right;\n",
       "    }\n",
       "</style>\n",
       "<table border=\"1\" class=\"dataframe\">\n",
       "  <thead>\n",
       "    <tr style=\"text-align: right;\">\n",
       "      <th></th>\n",
       "      <th>aa</th>\n",
       "      <th>abl</th>\n",
       "      <th>abov</th>\n",
       "      <th>abras</th>\n",
       "      <th>absolv</th>\n",
       "      <th>absorb</th>\n",
       "      <th>ac</th>\n",
       "      <th>acc</th>\n",
       "      <th>acceiv</th>\n",
       "      <th>access</th>\n",
       "      <th>...</th>\n",
       "      <th>yo</th>\n",
       "      <th>york</th>\n",
       "      <th>young</th>\n",
       "      <th>youth</th>\n",
       "      <th>youtub</th>\n",
       "      <th>yr</th>\n",
       "      <th>zero</th>\n",
       "      <th>zint</th>\n",
       "      <th>zit</th>\n",
       "      <th>zon</th>\n",
       "    </tr>\n",
       "  </thead>\n",
       "  <tbody>\n",
       "    <tr>\n",
       "      <td>0</td>\n",
       "      <td>0.0</td>\n",
       "      <td>0.015647</td>\n",
       "      <td>0.022882</td>\n",
       "      <td>0.000000</td>\n",
       "      <td>0.000000</td>\n",
       "      <td>0.000000</td>\n",
       "      <td>0.0</td>\n",
       "      <td>0.0</td>\n",
       "      <td>0.000000</td>\n",
       "      <td>0.0</td>\n",
       "      <td>...</td>\n",
       "      <td>0.036924</td>\n",
       "      <td>0.0</td>\n",
       "      <td>0.000000</td>\n",
       "      <td>0.000000</td>\n",
       "      <td>0.0</td>\n",
       "      <td>0.000000</td>\n",
       "      <td>0.000000</td>\n",
       "      <td>0.026237</td>\n",
       "      <td>0.000000</td>\n",
       "      <td>0.000000</td>\n",
       "    </tr>\n",
       "    <tr>\n",
       "      <td>1</td>\n",
       "      <td>0.0</td>\n",
       "      <td>0.020291</td>\n",
       "      <td>0.000000</td>\n",
       "      <td>0.000000</td>\n",
       "      <td>0.000000</td>\n",
       "      <td>0.000000</td>\n",
       "      <td>0.0</td>\n",
       "      <td>0.0</td>\n",
       "      <td>0.034572</td>\n",
       "      <td>0.0</td>\n",
       "      <td>...</td>\n",
       "      <td>0.035911</td>\n",
       "      <td>0.0</td>\n",
       "      <td>0.018975</td>\n",
       "      <td>0.000000</td>\n",
       "      <td>0.0</td>\n",
       "      <td>0.000000</td>\n",
       "      <td>0.000000</td>\n",
       "      <td>0.000000</td>\n",
       "      <td>0.028468</td>\n",
       "      <td>0.000000</td>\n",
       "    </tr>\n",
       "    <tr>\n",
       "      <td>2</td>\n",
       "      <td>0.0</td>\n",
       "      <td>0.000000</td>\n",
       "      <td>0.000000</td>\n",
       "      <td>0.044297</td>\n",
       "      <td>0.024453</td>\n",
       "      <td>0.000000</td>\n",
       "      <td>0.0</td>\n",
       "      <td>0.0</td>\n",
       "      <td>0.000000</td>\n",
       "      <td>0.0</td>\n",
       "      <td>...</td>\n",
       "      <td>0.138615</td>\n",
       "      <td>0.0</td>\n",
       "      <td>0.027465</td>\n",
       "      <td>0.000000</td>\n",
       "      <td>0.0</td>\n",
       "      <td>0.000000</td>\n",
       "      <td>0.000000</td>\n",
       "      <td>0.000000</td>\n",
       "      <td>0.000000</td>\n",
       "      <td>0.034839</td>\n",
       "    </tr>\n",
       "    <tr>\n",
       "      <td>3</td>\n",
       "      <td>0.0</td>\n",
       "      <td>0.019657</td>\n",
       "      <td>0.000000</td>\n",
       "      <td>0.000000</td>\n",
       "      <td>0.049098</td>\n",
       "      <td>0.034914</td>\n",
       "      <td>0.0</td>\n",
       "      <td>0.0</td>\n",
       "      <td>0.000000</td>\n",
       "      <td>0.0</td>\n",
       "      <td>...</td>\n",
       "      <td>0.092771</td>\n",
       "      <td>0.0</td>\n",
       "      <td>0.018382</td>\n",
       "      <td>0.024524</td>\n",
       "      <td>0.0</td>\n",
       "      <td>0.000000</td>\n",
       "      <td>0.031675</td>\n",
       "      <td>0.000000</td>\n",
       "      <td>0.000000</td>\n",
       "      <td>0.000000</td>\n",
       "    </tr>\n",
       "    <tr>\n",
       "      <td>4</td>\n",
       "      <td>0.0</td>\n",
       "      <td>0.000000</td>\n",
       "      <td>0.000000</td>\n",
       "      <td>0.000000</td>\n",
       "      <td>0.011351</td>\n",
       "      <td>0.000000</td>\n",
       "      <td>0.0</td>\n",
       "      <td>0.0</td>\n",
       "      <td>0.000000</td>\n",
       "      <td>0.0</td>\n",
       "      <td>...</td>\n",
       "      <td>0.152822</td>\n",
       "      <td>0.0</td>\n",
       "      <td>0.000000</td>\n",
       "      <td>0.017010</td>\n",
       "      <td>0.0</td>\n",
       "      <td>0.018693</td>\n",
       "      <td>0.000000</td>\n",
       "      <td>0.000000</td>\n",
       "      <td>0.000000</td>\n",
       "      <td>0.000000</td>\n",
       "    </tr>\n",
       "  </tbody>\n",
       "</table>\n",
       "<p>5 rows × 2151 columns</p>\n",
       "</div>"
      ],
      "text/plain": [
       "    aa       abl      abov     abras    absolv    absorb   ac  acc    acceiv  \\\n",
       "0  0.0  0.015647  0.022882  0.000000  0.000000  0.000000  0.0  0.0  0.000000   \n",
       "1  0.0  0.020291  0.000000  0.000000  0.000000  0.000000  0.0  0.0  0.034572   \n",
       "2  0.0  0.000000  0.000000  0.044297  0.024453  0.000000  0.0  0.0  0.000000   \n",
       "3  0.0  0.019657  0.000000  0.000000  0.049098  0.034914  0.0  0.0  0.000000   \n",
       "4  0.0  0.000000  0.000000  0.000000  0.011351  0.000000  0.0  0.0  0.000000   \n",
       "\n",
       "   access  ...        yo  york     young     youth  youtub        yr  \\\n",
       "0     0.0  ...  0.036924   0.0  0.000000  0.000000     0.0  0.000000   \n",
       "1     0.0  ...  0.035911   0.0  0.018975  0.000000     0.0  0.000000   \n",
       "2     0.0  ...  0.138615   0.0  0.027465  0.000000     0.0  0.000000   \n",
       "3     0.0  ...  0.092771   0.0  0.018382  0.024524     0.0  0.000000   \n",
       "4     0.0  ...  0.152822   0.0  0.000000  0.017010     0.0  0.018693   \n",
       "\n",
       "       zero      zint       zit       zon  \n",
       "0  0.000000  0.026237  0.000000  0.000000  \n",
       "1  0.000000  0.000000  0.028468  0.000000  \n",
       "2  0.000000  0.000000  0.000000  0.034839  \n",
       "3  0.031675  0.000000  0.000000  0.000000  \n",
       "4  0.000000  0.000000  0.000000  0.000000  \n",
       "\n",
       "[5 rows x 2151 columns]"
      ]
     },
     "execution_count": 59,
     "metadata": {},
     "output_type": "execute_result"
    }
   ],
   "source": [
    "rev_td_p_matrix.head(5)"
   ]
  },
  {
   "cell_type": "markdown",
   "metadata": {},
   "source": [
    "#### topic modeling"
   ]
  },
  {
   "cell_type": "code",
   "execution_count": 60,
   "metadata": {},
   "outputs": [],
   "source": [
    "def display_topics(model, feature_names, no_top_words, topic_names=None):\n",
    "    for ix, topic in enumerate(model.components_):\n",
    "        if not topic_names or not topic_names[ix]:\n",
    "            print(\"\\nTopic \", ix)\n",
    "        else:\n",
    "            print(\"\\nTopic: '\",topic_names[ix],\"'\")\n",
    "        print(\", \".join([feature_names[i]\n",
    "                        for i in topic.argsort()[:-no_top_words - 1:-1]]))"
   ]
  },
  {
   "cell_type": "code",
   "execution_count": 65,
   "metadata": {},
   "outputs": [
    {
     "name": "stdout",
     "output_type": "stream",
     "text": [
      "\n",
      "Topic  0\n",
      "skin, thi, moist, hav, cream, dry, fac, feel, sensit, lik\n",
      "\n",
      "Topic  1\n",
      "cleans, fac, thi, makeup, cle, skin, wash, remov, feel, lik\n",
      "\n",
      "Topic  2\n",
      "thi, hav, bottl, diff, purchas, wil, tim, money, ord, ar\n",
      "\n",
      "Topic  3\n",
      "smel, lik, cream, thi, scent, strong, bad, don, real, perfum\n",
      "\n",
      "Topic  4\n",
      "mask, fac, yo, clay, peel, ar, ther, box, thi, didn\n"
     ]
    }
   ],
   "source": [
    "nmf_n = NMF(5)\n",
    "doc_topic = nmf_n.fit_transform(rev_td_n_matrix)\n",
    "topic_word = pd.DataFrame(nmf_n.components_.round(3),\n",
    "#                         index = [\"component_1\",\"component_2\",\"component_3\",\"component_4\"],\n",
    "                        columns = tfidf_n.get_feature_names())\n",
    "# print(topic_word)\n",
    "\n",
    "display_topics(nmf_n, tfidf_n.get_feature_names(), 10)"
   ]
  },
  {
   "cell_type": "code",
   "execution_count": 66,
   "metadata": {},
   "outputs": [
    {
     "name": "stdout",
     "output_type": "stream",
     "text": [
      "\n",
      "Topic  0\n",
      "thi, skin, hav, acn, ser, week, wil, look, ar, aft\n",
      "\n",
      "Topic  1\n",
      "cleans, skin, fac, thi, cle, wash, dry, feel, hav, gentl\n",
      "\n",
      "Topic  2\n",
      "lov, gre, thi, year, smel, good, excel, pric, wond, purchas\n",
      "\n",
      "Topic  3\n",
      "mask, fac, skin, aft, thi, feel, minut, thes, yo, soft\n",
      "\n",
      "Topic  4\n",
      "skin, moist, cream, thi, hav, feel, fac, lik, dry, greasy\n"
     ]
    }
   ],
   "source": [
    "nmf_p = NMF(5)\n",
    "doc_topic_p = nmf_p.fit_transform(rev_td_p_matrix)\n",
    "topic_word_p = pd.DataFrame(nmf_p.components_.round(3),\n",
    "#                         index = [\"component_1\",\"component_2\",\"component_3\",\"component_4\"],\n",
    "                        columns = tfidf_p.get_feature_names())\n",
    "# print(topic_word_p)\n",
    "\n",
    "display_topics(nmf_p, tfidf_p.get_feature_names(), 10)"
   ]
  },
  {
   "cell_type": "code",
   "execution_count": null,
   "metadata": {},
   "outputs": [],
   "source": []
  }
 ],
 "metadata": {
  "kernelspec": {
   "display_name": "Python [conda env:metis] *",
   "language": "python",
   "name": "conda-env-metis-py"
  },
  "language_info": {
   "codemirror_mode": {
    "name": "ipython",
    "version": 3
   },
   "file_extension": ".py",
   "mimetype": "text/x-python",
   "name": "python",
   "nbconvert_exporter": "python",
   "pygments_lexer": "ipython3",
   "version": "3.6.9"
  }
 },
 "nbformat": 4,
 "nbformat_minor": 2
}
