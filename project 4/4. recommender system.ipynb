{
 "cells": [
  {
   "cell_type": "markdown",
   "metadata": {},
   "source": [
    "## Set up"
   ]
  },
  {
   "cell_type": "code",
   "execution_count": 1,
   "metadata": {},
   "outputs": [],
   "source": [
    "from pymongo import MongoClient\n",
    "from pprint import pprint\n",
    "\n",
    "import pandas as pd\n",
    "import re\n",
    "import nltk\n",
    "\n",
    "import pickle\n",
    "import json"
   ]
  },
  {
   "cell_type": "code",
   "execution_count": 2,
   "metadata": {},
   "outputs": [],
   "source": [
    "from bson.objectid import ObjectId"
   ]
  },
  {
   "cell_type": "code",
   "execution_count": 3,
   "metadata": {
    "scrolled": true
   },
   "outputs": [
    {
     "name": "stderr",
     "output_type": "stream",
     "text": [
      "[nltk_data] Downloading package wordnet to /Users/Jocelyn/nltk_data...\n",
      "[nltk_data]   Package wordnet is already up-to-date!\n"
     ]
    },
    {
     "data": {
      "text/plain": [
       "True"
      ]
     },
     "execution_count": 3,
     "metadata": {},
     "output_type": "execute_result"
    }
   ],
   "source": [
    "# stemming\n",
    "from nltk.stem.lancaster import LancasterStemmer\n",
    "from nltk.stem.porter import PorterStemmer\n",
    "from nltk.stem.snowball import SnowballStemmer\n",
    "nltk.download('wordnet')"
   ]
  },
  {
   "cell_type": "code",
   "execution_count": 5,
   "metadata": {},
   "outputs": [],
   "source": [
    "# import product list\n",
    "with open('pickles/product_list.pickle', 'rb') as to_read:\n",
    "    product_list = pickle.load(to_read)\n",
    "\n",
    "with open('pickles/review_list.pickle', 'rb') as to_read:\n",
    "    review_list = pickle.load(to_read)\n",
    "    \n",
    "with open('pickles/sim_asin.pickle', 'rb') as to_read:\n",
    "    sim_asin = pickle.load(to_read)"
   ]
  },
  {
   "cell_type": "code",
   "execution_count": null,
   "metadata": {},
   "outputs": [],
   "source": [
    "# recommend:\n",
    "# - top 5 products for each category\n",
    "# - return dictionary with the product info"
   ]
  },
  {
   "cell_type": "code",
   "execution_count": 16,
   "metadata": {},
   "outputs": [],
   "source": [
    "sim = pd.DataFrame(columns=['prod1','prod2','similarity'])\n",
    "\n",
    "sim['prod1'] = [i[1][0] for i in sim_asin]\n",
    "sim['prod2'] = [i[1][1] for i in sim_asin]\n",
    "sim['similarity'] = [i[0][0][0] for i in sim_asin]"
   ]
  },
  {
   "cell_type": "code",
   "execution_count": 18,
   "metadata": {},
   "outputs": [
    {
     "data": {
      "text/html": [
       "<div>\n",
       "<style scoped>\n",
       "    .dataframe tbody tr th:only-of-type {\n",
       "        vertical-align: middle;\n",
       "    }\n",
       "\n",
       "    .dataframe tbody tr th {\n",
       "        vertical-align: top;\n",
       "    }\n",
       "\n",
       "    .dataframe thead th {\n",
       "        text-align: right;\n",
       "    }\n",
       "</style>\n",
       "<table border=\"1\" class=\"dataframe\">\n",
       "  <thead>\n",
       "    <tr style=\"text-align: right;\">\n",
       "      <th></th>\n",
       "      <th>prod1</th>\n",
       "      <th>prod2</th>\n",
       "      <th>similarity</th>\n",
       "    </tr>\n",
       "  </thead>\n",
       "  <tbody>\n",
       "    <tr>\n",
       "      <td>2509915</td>\n",
       "      <td>B0000Y3NO6</td>\n",
       "      <td>B00AF3RYHE</td>\n",
       "      <td>0.0</td>\n",
       "    </tr>\n",
       "    <tr>\n",
       "      <td>2509916</td>\n",
       "      <td>B0000Y3NO6</td>\n",
       "      <td>B008KAA8P4</td>\n",
       "      <td>0.0</td>\n",
       "    </tr>\n",
       "    <tr>\n",
       "      <td>2509917</td>\n",
       "      <td>B0000Y3NO6</td>\n",
       "      <td>B005JEK7DC</td>\n",
       "      <td>0.0</td>\n",
       "    </tr>\n",
       "    <tr>\n",
       "      <td>2509918</td>\n",
       "      <td>B0000Y3NO6</td>\n",
       "      <td>B003VCKZZO</td>\n",
       "      <td>0.0</td>\n",
       "    </tr>\n",
       "    <tr>\n",
       "      <td>2509919</td>\n",
       "      <td>B0000Y3NO6</td>\n",
       "      <td>B000AV31NC</td>\n",
       "      <td>0.0</td>\n",
       "    </tr>\n",
       "  </tbody>\n",
       "</table>\n",
       "</div>"
      ],
      "text/plain": [
       "              prod1       prod2  similarity\n",
       "2509915  B0000Y3NO6  B00AF3RYHE         0.0\n",
       "2509916  B0000Y3NO6  B008KAA8P4         0.0\n",
       "2509917  B0000Y3NO6  B005JEK7DC         0.0\n",
       "2509918  B0000Y3NO6  B003VCKZZO         0.0\n",
       "2509919  B0000Y3NO6  B000AV31NC         0.0"
      ]
     },
     "execution_count": 18,
     "metadata": {},
     "output_type": "execute_result"
    }
   ],
   "source": [
    "sim.tail(5)"
   ]
  },
  {
   "cell_type": "code",
   "execution_count": 143,
   "metadata": {},
   "outputs": [],
   "source": [
    "# for given product, get complete list of similarities\n",
    "prod = 'B0001EL5JA'\n",
    "def get_other_prod(x,asin=prod):\n",
    "    if x['prod1'] != asin:\n",
    "        return x['prod1']\n",
    "    else:\n",
    "        return x['prod2']\n",
    "    \n",
    "def get_sims(asin):\n",
    "    df = pd.DataFrame(sim[(sim['prod1']==asin)|(sim['prod2']==asin)])\n",
    "    df['selected_asin'] = asin\n",
    "    df['other_asin'] = df.apply(get_other_prod, axis=1)\n",
    "    df.drop(['prod1','prod2'],axis=1,inplace=True)\n",
    "    return df\n",
    "\n",
    "sim_out = get_sims(prod)\n",
    "# test[test['prod1']!='B0001EL5JA']"
   ]
  },
  {
   "cell_type": "code",
   "execution_count": 144,
   "metadata": {},
   "outputs": [],
   "source": [
    "sim1 = pd.merge(sim_out,product_list,left_on='selected_asin',right_on='asin')\n",
    "sim2 = pd.merge(sim1,product_list,left_on='other_asin',right_on='asin',suffixes=('_1','_2'))"
   ]
  },
  {
   "cell_type": "code",
   "execution_count": 145,
   "metadata": {},
   "outputs": [
    {
     "data": {
      "text/html": [
       "<div>\n",
       "<style scoped>\n",
       "    .dataframe tbody tr th:only-of-type {\n",
       "        vertical-align: middle;\n",
       "    }\n",
       "\n",
       "    .dataframe tbody tr th {\n",
       "        vertical-align: top;\n",
       "    }\n",
       "\n",
       "    .dataframe thead th {\n",
       "        text-align: right;\n",
       "    }\n",
       "</style>\n",
       "<table border=\"1\" class=\"dataframe\">\n",
       "  <thead>\n",
       "    <tr style=\"text-align: right;\">\n",
       "      <th></th>\n",
       "      <th>similarity</th>\n",
       "      <th>selected_asin</th>\n",
       "      <th>other_asin</th>\n",
       "      <th>id_1</th>\n",
       "      <th>asin_1</th>\n",
       "      <th>product_1</th>\n",
       "      <th>overall_rating_1</th>\n",
       "      <th>review_count_1</th>\n",
       "      <th>description_1</th>\n",
       "      <th>category2_1</th>\n",
       "      <th>category3_1</th>\n",
       "      <th>id_2</th>\n",
       "      <th>asin_2</th>\n",
       "      <th>product_2</th>\n",
       "      <th>overall_rating_2</th>\n",
       "      <th>review_count_2</th>\n",
       "      <th>description_2</th>\n",
       "      <th>category2_2</th>\n",
       "      <th>category3_2</th>\n",
       "    </tr>\n",
       "  </thead>\n",
       "  <tbody>\n",
       "    <tr>\n",
       "      <td>0</td>\n",
       "      <td>0.983379</td>\n",
       "      <td>B0001EL5JA</td>\n",
       "      <td>B00172M9Q8</td>\n",
       "      <td>5dc881769f9b98109203bcc5</td>\n",
       "      <td>B0001EL5JA</td>\n",
       "      <td>PCA SKIN  Protecting Hydrator Broad Spectrum S...</td>\n",
       "      <td>4.3</td>\n",
       "      <td>41</td>\n",
       "      <td>This non-oily daily hydrator and sunscreen pr...</td>\n",
       "      <td>Creams &amp; Moisturizers</td>\n",
       "      <td>Face Moisturizers</td>\n",
       "      <td>5dc881779f9b98109203c4b1</td>\n",
       "      <td>B00172M9Q8</td>\n",
       "      <td>Mario Badescu Hydrating Moisturizer with Bioca...</td>\n",
       "      <td>4.2</td>\n",
       "      <td>116</td>\n",
       "      <td>Intense moisture retention and antioxidant pro...</td>\n",
       "      <td>Creams &amp; Moisturizers</td>\n",
       "      <td>Face Moisturizers</td>\n",
       "    </tr>\n",
       "    <tr>\n",
       "      <td>1</td>\n",
       "      <td>0.974769</td>\n",
       "      <td>B0001EL5JA</td>\n",
       "      <td>B0015ZAO6E</td>\n",
       "      <td>5dc881769f9b98109203bcc5</td>\n",
       "      <td>B0001EL5JA</td>\n",
       "      <td>PCA SKIN  Protecting Hydrator Broad Spectrum S...</td>\n",
       "      <td>4.3</td>\n",
       "      <td>41</td>\n",
       "      <td>This non-oily daily hydrator and sunscreen pr...</td>\n",
       "      <td>Creams &amp; Moisturizers</td>\n",
       "      <td>Face Moisturizers</td>\n",
       "      <td>5dc881769f9b98109203c454</td>\n",
       "      <td>B0015ZAO6E</td>\n",
       "      <td>Mario Badescu Buttermilk Moisturizer, 2 oz.</td>\n",
       "      <td>3.9</td>\n",
       "      <td>98</td>\n",
       "      <td>Hydrate and rejuvenate your complexion. Lactic...</td>\n",
       "      <td>Creams &amp; Moisturizers</td>\n",
       "      <td>Face Moisturizers</td>\n",
       "    </tr>\n",
       "    <tr>\n",
       "      <td>2</td>\n",
       "      <td>0.972906</td>\n",
       "      <td>B0001EL5JA</td>\n",
       "      <td>B000IO6NFE</td>\n",
       "      <td>5dc881769f9b98109203bcc5</td>\n",
       "      <td>B0001EL5JA</td>\n",
       "      <td>PCA SKIN  Protecting Hydrator Broad Spectrum S...</td>\n",
       "      <td>4.3</td>\n",
       "      <td>41</td>\n",
       "      <td>This non-oily daily hydrator and sunscreen pr...</td>\n",
       "      <td>Creams &amp; Moisturizers</td>\n",
       "      <td>Face Moisturizers</td>\n",
       "      <td>5dc881769f9b98109203c060</td>\n",
       "      <td>B000IO6NFE</td>\n",
       "      <td>La Roche-Posay Toleriane Fluide Soothing Prote...</td>\n",
       "      <td>4.0</td>\n",
       "      <td>207</td>\n",
       "      <td>Amazon is an authorized retailer of La Roche-...</td>\n",
       "      <td>Creams &amp; Moisturizers</td>\n",
       "      <td>Not listed</td>\n",
       "    </tr>\n",
       "    <tr>\n",
       "      <td>3</td>\n",
       "      <td>0.970851</td>\n",
       "      <td>B0001EL5JA</td>\n",
       "      <td>B01EETSH5M</td>\n",
       "      <td>5dc881769f9b98109203bcc5</td>\n",
       "      <td>B0001EL5JA</td>\n",
       "      <td>PCA SKIN  Protecting Hydrator Broad Spectrum S...</td>\n",
       "      <td>4.3</td>\n",
       "      <td>41</td>\n",
       "      <td>This non-oily daily hydrator and sunscreen pr...</td>\n",
       "      <td>Creams &amp; Moisturizers</td>\n",
       "      <td>Face Moisturizers</td>\n",
       "      <td>5dc881799f9b98109203eb9c</td>\n",
       "      <td>B01EETSH5M</td>\n",
       "      <td>IMAGE Skincare Clear Cell Mattifying Moisturiz...</td>\n",
       "      <td>3.7</td>\n",
       "      <td>9</td>\n",
       "      <td>CLEAR CELL mattifying moisturizer for oily ski...</td>\n",
       "      <td>Creams &amp; Moisturizers</td>\n",
       "      <td>Not listed</td>\n",
       "    </tr>\n",
       "    <tr>\n",
       "      <td>4</td>\n",
       "      <td>0.969799</td>\n",
       "      <td>B0001EL5JA</td>\n",
       "      <td>B0051OY7MC</td>\n",
       "      <td>5dc881769f9b98109203bcc5</td>\n",
       "      <td>B0001EL5JA</td>\n",
       "      <td>PCA SKIN  Protecting Hydrator Broad Spectrum S...</td>\n",
       "      <td>4.3</td>\n",
       "      <td>41</td>\n",
       "      <td>This non-oily daily hydrator and sunscreen pr...</td>\n",
       "      <td>Creams &amp; Moisturizers</td>\n",
       "      <td>Face Moisturizers</td>\n",
       "      <td>5dc881779f9b98109203ccec</td>\n",
       "      <td>B0051OY7MC</td>\n",
       "      <td>L'Occitane Angelica Protective Lotion SPF 15, ...</td>\n",
       "      <td>4.5</td>\n",
       "      <td>3</td>\n",
       "      <td>Angelica Protective Lotion SPF 15 helps moistu...</td>\n",
       "      <td>Creams &amp; Moisturizers</td>\n",
       "      <td>Not listed</td>\n",
       "    </tr>\n",
       "  </tbody>\n",
       "</table>\n",
       "</div>"
      ],
      "text/plain": [
       "   similarity selected_asin  other_asin                      id_1      asin_1  \\\n",
       "0    0.983379    B0001EL5JA  B00172M9Q8  5dc881769f9b98109203bcc5  B0001EL5JA   \n",
       "1    0.974769    B0001EL5JA  B0015ZAO6E  5dc881769f9b98109203bcc5  B0001EL5JA   \n",
       "2    0.972906    B0001EL5JA  B000IO6NFE  5dc881769f9b98109203bcc5  B0001EL5JA   \n",
       "3    0.970851    B0001EL5JA  B01EETSH5M  5dc881769f9b98109203bcc5  B0001EL5JA   \n",
       "4    0.969799    B0001EL5JA  B0051OY7MC  5dc881769f9b98109203bcc5  B0001EL5JA   \n",
       "\n",
       "                                           product_1  overall_rating_1  \\\n",
       "0  PCA SKIN  Protecting Hydrator Broad Spectrum S...               4.3   \n",
       "1  PCA SKIN  Protecting Hydrator Broad Spectrum S...               4.3   \n",
       "2  PCA SKIN  Protecting Hydrator Broad Spectrum S...               4.3   \n",
       "3  PCA SKIN  Protecting Hydrator Broad Spectrum S...               4.3   \n",
       "4  PCA SKIN  Protecting Hydrator Broad Spectrum S...               4.3   \n",
       "\n",
       "   review_count_1                                      description_1  \\\n",
       "0              41   This non-oily daily hydrator and sunscreen pr...   \n",
       "1              41   This non-oily daily hydrator and sunscreen pr...   \n",
       "2              41   This non-oily daily hydrator and sunscreen pr...   \n",
       "3              41   This non-oily daily hydrator and sunscreen pr...   \n",
       "4              41   This non-oily daily hydrator and sunscreen pr...   \n",
       "\n",
       "             category2_1        category3_1                      id_2  \\\n",
       "0  Creams & Moisturizers  Face Moisturizers  5dc881779f9b98109203c4b1   \n",
       "1  Creams & Moisturizers  Face Moisturizers  5dc881769f9b98109203c454   \n",
       "2  Creams & Moisturizers  Face Moisturizers  5dc881769f9b98109203c060   \n",
       "3  Creams & Moisturizers  Face Moisturizers  5dc881799f9b98109203eb9c   \n",
       "4  Creams & Moisturizers  Face Moisturizers  5dc881779f9b98109203ccec   \n",
       "\n",
       "       asin_2                                          product_2  \\\n",
       "0  B00172M9Q8  Mario Badescu Hydrating Moisturizer with Bioca...   \n",
       "1  B0015ZAO6E        Mario Badescu Buttermilk Moisturizer, 2 oz.   \n",
       "2  B000IO6NFE  La Roche-Posay Toleriane Fluide Soothing Prote...   \n",
       "3  B01EETSH5M  IMAGE Skincare Clear Cell Mattifying Moisturiz...   \n",
       "4  B0051OY7MC  L'Occitane Angelica Protective Lotion SPF 15, ...   \n",
       "\n",
       "   overall_rating_2  review_count_2  \\\n",
       "0               4.2             116   \n",
       "1               3.9              98   \n",
       "2               4.0             207   \n",
       "3               3.7               9   \n",
       "4               4.5               3   \n",
       "\n",
       "                                       description_2            category2_2  \\\n",
       "0  Intense moisture retention and antioxidant pro...  Creams & Moisturizers   \n",
       "1  Hydrate and rejuvenate your complexion. Lactic...  Creams & Moisturizers   \n",
       "2   Amazon is an authorized retailer of La Roche-...  Creams & Moisturizers   \n",
       "3  CLEAR CELL mattifying moisturizer for oily ski...  Creams & Moisturizers   \n",
       "4  Angelica Protective Lotion SPF 15 helps moistu...  Creams & Moisturizers   \n",
       "\n",
       "         category3_2  \n",
       "0  Face Moisturizers  \n",
       "1  Face Moisturizers  \n",
       "2         Not listed  \n",
       "3         Not listed  \n",
       "4         Not listed  "
      ]
     },
     "execution_count": 145,
     "metadata": {},
     "output_type": "execute_result"
    }
   ],
   "source": [
    "sim2.head(5)"
   ]
  },
  {
   "cell_type": "code",
   "execution_count": 85,
   "metadata": {},
   "outputs": [
    {
     "data": {
      "text/plain": [
       "(2492028, 19)"
      ]
     },
     "execution_count": 85,
     "metadata": {},
     "output_type": "execute_result"
    }
   ],
   "source": [
    "sim2.shape"
   ]
  },
  {
   "cell_type": "markdown",
   "metadata": {},
   "source": [
    "### generate recommendation"
   ]
  },
  {
   "cell_type": "code",
   "execution_count": 45,
   "metadata": {},
   "outputs": [],
   "source": [
    "# generate top 5 matches in each category\n",
    "\n",
    "def get_rec(asin):\n",
    "    prods = sim2[sim2['prod1']==asin].sort_values(['category2_2','similarity'],ascending=False)\n",
    "    recs = prods.groupby(['category2_2']).head(5)\n",
    "    return recs\n",
    "    "
   ]
  },
  {
   "cell_type": "code",
   "execution_count": 82,
   "metadata": {},
   "outputs": [
    {
     "data": {
      "text/plain": [
       "(2, 19)"
      ]
     },
     "execution_count": 82,
     "metadata": {},
     "output_type": "execute_result"
    }
   ],
   "source": [
    "# test = get_rec('B0001EL5Q8') #anti-aging\n",
    "# test = get_rec('B0001EL5JA') #hydrating\n",
    "test = get_rec('B01HEESSHG')\n",
    "test.shape"
   ]
  },
  {
   "cell_type": "code",
   "execution_count": 83,
   "metadata": {},
   "outputs": [
    {
     "data": {
      "text/html": [
       "<div>\n",
       "<style scoped>\n",
       "    .dataframe tbody tr th:only-of-type {\n",
       "        vertical-align: middle;\n",
       "    }\n",
       "\n",
       "    .dataframe tbody tr th {\n",
       "        vertical-align: top;\n",
       "    }\n",
       "\n",
       "    .dataframe thead th {\n",
       "        text-align: right;\n",
       "    }\n",
       "</style>\n",
       "<table border=\"1\" class=\"dataframe\">\n",
       "  <thead>\n",
       "    <tr style=\"text-align: right;\">\n",
       "      <th></th>\n",
       "      <th>prod1</th>\n",
       "      <th>prod2</th>\n",
       "      <th>similarity</th>\n",
       "      <th>id_1</th>\n",
       "      <th>asin_1</th>\n",
       "      <th>product_1</th>\n",
       "      <th>overall_rating_1</th>\n",
       "      <th>review_count_1</th>\n",
       "      <th>description_1</th>\n",
       "      <th>category2_1</th>\n",
       "      <th>category3_1</th>\n",
       "      <th>id_2</th>\n",
       "      <th>asin_2</th>\n",
       "      <th>product_2</th>\n",
       "      <th>overall_rating_2</th>\n",
       "      <th>review_count_2</th>\n",
       "      <th>description_2</th>\n",
       "      <th>category2_2</th>\n",
       "      <th>category3_2</th>\n",
       "    </tr>\n",
       "  </thead>\n",
       "  <tbody>\n",
       "    <tr>\n",
       "      <td>620054</td>\n",
       "      <td>B01HEESSHG</td>\n",
       "      <td>B01HBS7XP8</td>\n",
       "      <td>0.570531</td>\n",
       "      <td>5dc881799f9b98109203ec9d</td>\n",
       "      <td>B01HEESSHG</td>\n",
       "      <td>L'Occitane 20-Piece Summer Treat</td>\n",
       "      <td>4.1</td>\n",
       "      <td>6</td>\n",
       "      <td>Composed with some of the most cherished scent...</td>\n",
       "      <td>Sets &amp; Kits</td>\n",
       "      <td>Not listed</td>\n",
       "      <td>5dc881799f9b98109203eca3</td>\n",
       "      <td>B01HBS7XP8</td>\n",
       "      <td>COSMEDIX Benefit Balance Antioxidant Infused T...</td>\n",
       "      <td>5.0</td>\n",
       "      <td>3</td>\n",
       "      <td>Soothe, calm and nourish the skin with green t...</td>\n",
       "      <td>Toners &amp; Astringents</td>\n",
       "      <td>Not listed</td>\n",
       "    </tr>\n",
       "    <tr>\n",
       "      <td>248905</td>\n",
       "      <td>B01HEESSHG</td>\n",
       "      <td>B01HGSJPMW</td>\n",
       "      <td>0.837413</td>\n",
       "      <td>5dc881799f9b98109203ec9d</td>\n",
       "      <td>B01HEESSHG</td>\n",
       "      <td>L'Occitane 20-Piece Summer Treat</td>\n",
       "      <td>4.1</td>\n",
       "      <td>6</td>\n",
       "      <td>Composed with some of the most cherished scent...</td>\n",
       "      <td>Sets &amp; Kits</td>\n",
       "      <td>Not listed</td>\n",
       "      <td>5dc881799f9b98109203eca4</td>\n",
       "      <td>B01HGSJPMW</td>\n",
       "      <td>ELEMIS Superfood Facial Oil - Nourishing Face ...</td>\n",
       "      <td>4.7</td>\n",
       "      <td>33</td>\n",
       "      <td>This natural blend of highly concentrated plan...</td>\n",
       "      <td>Creams &amp; Moisturizers</td>\n",
       "      <td>Face Oil</td>\n",
       "    </tr>\n",
       "  </tbody>\n",
       "</table>\n",
       "</div>"
      ],
      "text/plain": [
       "             prod1       prod2  similarity                      id_1  \\\n",
       "620054  B01HEESSHG  B01HBS7XP8    0.570531  5dc881799f9b98109203ec9d   \n",
       "248905  B01HEESSHG  B01HGSJPMW    0.837413  5dc881799f9b98109203ec9d   \n",
       "\n",
       "            asin_1                         product_1  overall_rating_1  \\\n",
       "620054  B01HEESSHG  L'Occitane 20-Piece Summer Treat               4.1   \n",
       "248905  B01HEESSHG  L'Occitane 20-Piece Summer Treat               4.1   \n",
       "\n",
       "        review_count_1                                      description_1  \\\n",
       "620054               6  Composed with some of the most cherished scent...   \n",
       "248905               6  Composed with some of the most cherished scent...   \n",
       "\n",
       "        category2_1 category3_1                      id_2      asin_2  \\\n",
       "620054  Sets & Kits  Not listed  5dc881799f9b98109203eca3  B01HBS7XP8   \n",
       "248905  Sets & Kits  Not listed  5dc881799f9b98109203eca4  B01HGSJPMW   \n",
       "\n",
       "                                                product_2  overall_rating_2  \\\n",
       "620054  COSMEDIX Benefit Balance Antioxidant Infused T...               5.0   \n",
       "248905  ELEMIS Superfood Facial Oil - Nourishing Face ...               4.7   \n",
       "\n",
       "        review_count_2                                      description_2  \\\n",
       "620054               3  Soothe, calm and nourish the skin with green t...   \n",
       "248905              33  This natural blend of highly concentrated plan...   \n",
       "\n",
       "                  category2_2 category3_2  \n",
       "620054   Toners & Astringents  Not listed  \n",
       "248905  Creams & Moisturizers    Face Oil  "
      ]
     },
     "execution_count": 83,
     "metadata": {},
     "output_type": "execute_result"
    }
   ],
   "source": [
    "test[0:5]"
   ]
  },
  {
   "cell_type": "code",
   "execution_count": 71,
   "metadata": {},
   "outputs": [
    {
     "data": {
      "text/plain": [
       "' This non-oily daily hydrator and sunscreen provides light moisture with a matte finish. Active Ingredients: Directions: For the best protection, apply sunscreen every day, year-round, in every type of weather. Apply sunscreen 15 minutes prior to exposure to allow the active ingredients to penetrate the skin. Formulated with Beautiful Skin in Mind Our products are scientifically developed and carefully formulated to improve the health and appearance of your unique skin. We understand the importance of formulating with the best combinations of innovative ingredients to provide you with safe, highly effective products that deliver on their promises. All of our products are free of potential irritants like synthetic dyes and fragrances. PCA SKIN does not perform or condone animal testing.  PCA SKIN is a trusted innovator in the development of highly effective skincare products. Our vision is to improve peoples lives by providing results-oriented skin care solutions for the health of your unique skin.   '"
      ]
     },
     "execution_count": 71,
     "metadata": {},
     "output_type": "execute_result"
    }
   ],
   "source": [
    "test.iloc[0]['description_1']"
   ]
  },
  {
   "cell_type": "code",
   "execution_count": 73,
   "metadata": {},
   "outputs": [
    {
     "data": {
      "text/plain": [
       "\"Intense moisture retention and antioxidant protection to meet the needs of dry and mature skin. Vitamin A and collagen formula nourishes and softens rough, dry skin keeping it plump and supple. Hyaluronic acid holds the skin's natural moisture preventing moisture loss all day long.\""
      ]
     },
     "execution_count": 73,
     "metadata": {},
     "output_type": "execute_result"
    }
   ],
   "source": [
    "test.iloc[25]['description_2']"
   ]
  },
  {
   "cell_type": "code",
   "execution_count": null,
   "metadata": {},
   "outputs": [],
   "source": [
    "# Save out dictionaries for flask app\n",
    "# dictionary of product info - asin, product name, description, overall rating, category, topic values?\n",
    "# dictionary of similarities (sim2)\n"
   ]
  }
 ],
 "metadata": {
  "kernelspec": {
   "display_name": "Python [conda env:metis] *",
   "language": "python",
   "name": "conda-env-metis-py"
  },
  "language_info": {
   "codemirror_mode": {
    "name": "ipython",
    "version": 3
   },
   "file_extension": ".py",
   "mimetype": "text/x-python",
   "name": "python",
   "nbconvert_exporter": "python",
   "pygments_lexer": "ipython3",
   "version": "3.6.9"
  }
 },
 "nbformat": 4,
 "nbformat_minor": 2
}
