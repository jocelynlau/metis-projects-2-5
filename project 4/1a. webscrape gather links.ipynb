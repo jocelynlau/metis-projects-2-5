{
 "cells": [
  {
   "cell_type": "markdown",
   "metadata": {},
   "source": [
    "https://www.sephora.com/robots.txt"
   ]
  },
  {
   "cell_type": "markdown",
   "metadata": {},
   "source": [
    "## Set Up"
   ]
  },
  {
   "cell_type": "code",
   "execution_count": 96,
   "metadata": {},
   "outputs": [],
   "source": [
    "from __future__ import print_function, division\n",
    "\n",
    "# if needed: pip install requests or conda install requests\n",
    "import requests\n",
    "\n",
    "requests.__path__\n",
    "\n",
    "from bs4 import BeautifulSoup\n",
    "\n",
    "from selenium import webdriver\n",
    "from selenium.webdriver.common.keys import Keys\n",
    "import time\n",
    "\n",
    "import chromedriver_binary\n",
    "\n",
    "import pandas as pd\n",
    "import pickle\n",
    "import json"
   ]
  },
  {
   "cell_type": "markdown",
   "metadata": {},
   "source": [
    "### gather all links from xml sitemap"
   ]
  },
  {
   "cell_type": "code",
   "execution_count": 35,
   "metadata": {},
   "outputs": [],
   "source": [
    "xml_url = 'https://www.sephora.com/products-sitemap.xml'\n",
    "\n",
    "response = requests.get(xml_url)"
   ]
  },
  {
   "cell_type": "code",
   "execution_count": 36,
   "metadata": {},
   "outputs": [],
   "source": [
    "# response\n",
    "soup = BeautifulSoup(response.text, \"xml\")"
   ]
  },
  {
   "cell_type": "code",
   "execution_count": 40,
   "metadata": {},
   "outputs": [
    {
     "name": "stdout",
     "output_type": "stream",
     "text": [
      "10157\n"
     ]
    },
    {
     "data": {
      "text/plain": [
       "['https://www.sephora.com/product/double-ended-blemish-extractor-P0417',\n",
       " 'https://www.sephora.com/product/body-lava-P04546871',\n",
       " 'https://www.sephora.com/product/pro-filtr-instant-retouch-primer-P04897543',\n",
       " 'https://www.sephora.com/product/shalimar-eau-de-toilette-P0771',\n",
       " 'https://www.sephora.com/product/amarige-P0782']"
      ]
     },
     "execution_count": 40,
     "metadata": {},
     "output_type": "execute_result"
    }
   ],
   "source": [
    "all_links = []\n",
    "\n",
    "for _ in soup.find_all('loc'):\n",
    "    all_links.append(_.text)\n",
    "\n",
    "print(len(all_links))\n",
    "all_links[0:5]"
   ]
  },
  {
   "cell_type": "markdown",
   "metadata": {},
   "source": [
    "### gather links from each category"
   ]
  },
  {
   "cell_type": "code",
   "execution_count": 46,
   "metadata": {},
   "outputs": [],
   "source": [
    "skincare_url = 'https://www.sephora.com/shop/skincare'\n",
    "\n",
    "response_skincare = requests.get(skincare_url)\n",
    "soup2 = BeautifulSoup(response_skincare.text,'lxml')"
   ]
  },
  {
   "cell_type": "code",
   "execution_count": 50,
   "metadata": {
    "scrolled": true
   },
   "outputs": [
    {
     "name": "stdout",
     "output_type": "stream",
     "text": [
      "/shop/acne-treatment-blemish-remover\n",
      "/shop/anti-aging-skin-care\n",
      "/shop/dark-spot-remover\n",
      "/shop/pore-minimizing-products\n",
      "/shop/dry-skin-treatment\n",
      "/shop/wrinkle-cream-wrinkle-remover\n",
      "/shop/skin-brighteners-dull-skin-treatments\n",
      "/shop/moisturizer-skincare\n",
      "/shop/night-cream\n",
      "/shop/cleansing-oil-face-oil\n",
      "/shop/face-mist-face-spray\n",
      "/shop/neck-cream-decollete\n",
      "/shop/bb-cream-cc-cream\n",
      "/shop/face-wash-facial-cleanser\n",
      "/shop/exfoliating-scrub-exfoliator\n",
      "/shop/makeup-remover-skincare\n",
      "/shop/face-wipes\n",
      "/shop/facial-toner-skin-toner\n",
      "/shop/blotting-paper-oil-control-skincare\n",
      "/shop/face-serum\n",
      "/shop/acne-products-acne-cream\n",
      "/shop/facial-peels\n",
      "/shop/vitamins-for-hair-skin-nails\n",
      "/shop/holistic-wellness\n",
      "/shop/wellness-tools-rollers\n",
      "/shop/eye-cream-dark-circles\n",
      "/shop/eye-mask\n",
      "/shop/facial-treatment-masks\n",
      "/shop/sheet-masks\n",
      "/shop/facial-cleansing-brushes\n",
      "/shop/hair-removal-products\n",
      "/shop/anti-aging-tools\n",
      "/shop/teeth-whitening-at-home\n",
      "/shop/face-sunscreen\n",
      "/shop/sunblock\n",
      "/shop/after-sun-care\n",
      "/shop/face-tanner-self-tanner-face\n",
      "/shop/self-tanner-self-tanning\n",
      "/shop/lip-balm-lip-care\n",
      "/shop/lip-sunscreen\n",
      "/skin-care-quiz\n",
      "/korean-skin-care\n",
      "/clean-beauty-products\n",
      "/skincare-by-skin-concern\n",
      "/allure-best-of-beauty-skin-care\n",
      "/best-acne-treatment\n",
      "/skin-care-for-different-skin-types\n",
      "/j-beauty-japanese-skincare\n"
     ]
    }
   ],
   "source": [
    "for _ in soup2.find_all(class_='css-oftl0u'):\n",
    "    print(_['href'])"
   ]
  },
  {
   "cell_type": "markdown",
   "metadata": {},
   "source": [
    "### keeping categories: moisturizers, cleansers, treatments, eye care, masks, sun care, lip treatments\n",
    "\n",
    "/shop/moisturizer-skincare\n",
    "/shop/night-cream\n",
    "/shop/cleansing-oil-face-oil\n",
    "/shop/face-mist-face-spray\n",
    "/shop/neck-cream-decollete\n",
    "/shop/bb-cream-cc-cream\n",
    "\n",
    "/shop/face-wash-facial-cleanser\n",
    "/shop/exfoliating-scrub-exfoliator\n",
    "/shop/makeup-remover-skincare\n",
    "/shop/face-wipes\n",
    "/shop/facial-toner-skin-toner\n",
    "/shop/blotting-paper-oil-control-skincare\n",
    "\n",
    "/shop/face-serum\n",
    "/shop/acne-products-acne-cream\n",
    "/shop/facial-peels\n",
    "\n",
    "/shop/eye-cream-dark-circles\n",
    "/shop/eye-mask\n",
    "\n",
    "/shop/facial-treatment-masks\n",
    "/shop/sheet-masks\n",
    "\n",
    "/shop/face-sunscreen\n",
    "/shop/sunblock\n",
    "\n",
    "/shop/lip-balm-lip-care\n",
    "/shop/lip-sunscreen\n",
    "\n",
    "### tier 2 priorities: wellness,  high-tech tools\n",
    "\n",
    "/shop/vitamins-for-hair-skin-nails\n",
    "/shop/holistic-wellness\n",
    "/shop/wellness-tools-rollers\n",
    "\n",
    "/shop/facial-cleansing-brushes\n",
    "/shop/hair-removal-products\n",
    "/shop/anti-aging-tools\n",
    "/shop/teeth-whitening-at-home\n",
    "\n",
    "### excluding categories: self tanner\n",
    "\n",
    "/shop/after-sun-care\n",
    "/shop/face-tanner-self-tanner-face\n",
    "/shop/self-tanner-self-tanning\n"
   ]
  },
  {
   "cell_type": "code",
   "execution_count": 58,
   "metadata": {},
   "outputs": [],
   "source": [
    "cat_urls = ['/shop/moisturizer-skincare',\n",
    "            '/shop/night-cream',\n",
    "            '/shop/cleansing-oil-face-oil',\n",
    "            '/shop/face-mist-face-spray',\n",
    "            '/shop/neck-cream-decollete',\n",
    "            '/shop/bb-cream-cc-cream',\n",
    "            '/shop/face-wash-facial-cleanser',\n",
    "            '/shop/exfoliating-scrub-exfoliator',\n",
    "            '/shop/makeup-remover-skincare',\n",
    "            '/shop/face-wipes',\n",
    "            '/shop/facial-toner-skin-toner',\n",
    "            '/shop/blotting-paper-oil-control-skincare',\n",
    "            '/shop/face-serum',\n",
    "            '/shop/acne-products-acne-cream',\n",
    "            '/shop/facial-peels',\n",
    "            '/shop/eye-cream-dark-circles',\n",
    "            '/shop/eye-mask',\n",
    "            '/shop/facial-treatment-masks',\n",
    "            '/shop/sheet-masks',\n",
    "            '/shop/face-sunscreen',\n",
    "            '/shop/sunblock',\n",
    "            '/shop/lip-balm-lip-care',\n",
    "            '/shop/lip-sunscreen'\n",
    "            ]"
   ]
  },
  {
   "cell_type": "markdown",
   "metadata": {},
   "source": [
    "### pull IDs for each cat"
   ]
  },
  {
   "cell_type": "code",
   "execution_count": 59,
   "metadata": {},
   "outputs": [],
   "source": [
    "# url = 'https://www.sephora.com/shop/moisturizer-skincare'\n",
    "dict_ids = {}\n",
    "\n",
    "for cat in cat_urls:\n",
    "    url = 'https://www.sephora.com'+cat\n",
    "\n",
    "    response_cat = requests.get(url)\n",
    "\n",
    "    soup_cat = BeautifulSoup(response_cat.text,'lxml')\n",
    "\n",
    "    ids = []\n",
    "    for _ in soup_cat.find_all(class_ = 'css-ix8km1'):\n",
    "        ids.append(_['data-uid'].split()[0])\n",
    "    dict_ids.update({cat:ids})\n",
    "\n",
    "len(dict_ids)"
   ]
  },
  {
   "cell_type": "code",
   "execution_count": 68,
   "metadata": {},
   "outputs": [
    {
     "data": {
      "text/plain": [
       "276"
      ]
     },
     "execution_count": 68,
     "metadata": {},
     "output_type": "execute_result"
    }
   ],
   "source": [
    "#total ids scraped\n",
    "len(dict_ids)*12"
   ]
  },
  {
   "cell_type": "code",
   "execution_count": 78,
   "metadata": {},
   "outputs": [
    {
     "data": {
      "text/plain": [
       "239"
      ]
     },
     "execution_count": 78,
     "metadata": {},
     "output_type": "execute_result"
    }
   ],
   "source": [
    "#gather unique ids\n",
    "unique_ids = []\n",
    "\n",
    "for key,val in dict_ids.items():\n",
    "    for v in val:\n",
    "        if v not in unique_ids:\n",
    "            unique_ids.append(v)\n",
    "\n",
    "len(unique_ids)"
   ]
  },
  {
   "cell_type": "code",
   "execution_count": 100,
   "metadata": {},
   "outputs": [],
   "source": [
    "# lst = [link for link in all_links if ids in unique_ids]"
   ]
  },
  {
   "cell_type": "code",
   "execution_count": 98,
   "metadata": {},
   "outputs": [
    {
     "data": {
      "text/plain": [
       "239"
      ]
     },
     "execution_count": 98,
     "metadata": {},
     "output_type": "execute_result"
    }
   ],
   "source": [
    "link_list = []\n",
    "for link in all_links:\n",
    "    for i in unique_ids:\n",
    "        if i == link[link.find('-P')+1:]:\n",
    "            link_list.append(link)\n",
    "\n",
    "len(link_list)"
   ]
  },
  {
   "cell_type": "code",
   "execution_count": 99,
   "metadata": {},
   "outputs": [],
   "source": [
    "# save out link_list\n",
    "with open('pickles/link_list1.pickle', 'wb') as to_write:\n",
    "    pickle.dump(link_list, to_write)"
   ]
  },
  {
   "cell_type": "code",
   "execution_count": null,
   "metadata": {},
   "outputs": [],
   "source": []
  }
 ],
 "metadata": {
  "kernelspec": {
   "display_name": "Python 3",
   "language": "python",
   "name": "python3"
  },
  "language_info": {
   "codemirror_mode": {
    "name": "ipython",
    "version": 3
   },
   "file_extension": ".py",
   "mimetype": "text/x-python",
   "name": "python",
   "nbconvert_exporter": "python",
   "pygments_lexer": "ipython3",
   "version": "3.6.9"
  }
 },
 "nbformat": 4,
 "nbformat_minor": 2
}
