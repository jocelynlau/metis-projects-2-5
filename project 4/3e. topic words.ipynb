{
 "cells": [
  {
   "cell_type": "code",
   "execution_count": 1,
   "metadata": {},
   "outputs": [],
   "source": [
    "from pymongo import MongoClient\n",
    "from pprint import pprint\n",
    "\n",
    "import pandas as pd\n",
    "import re\n",
    "import nltk\n",
    "\n",
    "import pickle\n",
    "import json"
   ]
  },
  {
   "cell_type": "code",
   "execution_count": 2,
   "metadata": {},
   "outputs": [],
   "source": [
    "from bson.objectid import ObjectId"
   ]
  },
  {
   "cell_type": "code",
   "execution_count": 3,
   "metadata": {},
   "outputs": [],
   "source": [
    "from sklearn.feature_extraction.text import CountVectorizer\n",
    "from sklearn.feature_extraction.text import TfidfVectorizer\n",
    "\n",
    "from sklearn.feature_extraction.text import CountVectorizer \n",
    "from sklearn.decomposition import TruncatedSVD\n",
    "from sklearn.decomposition import NMF\n",
    "from sklearn.metrics.pairwise import cosine_similarity"
   ]
  },
  {
   "cell_type": "code",
   "execution_count": 4,
   "metadata": {},
   "outputs": [],
   "source": [
    "from nltk.tokenize import sent_tokenize"
   ]
  },
  {
   "cell_type": "code",
   "execution_count": 5,
   "metadata": {},
   "outputs": [
    {
     "name": "stderr",
     "output_type": "stream",
     "text": [
      "[nltk_data] Downloading package wordnet to /Users/Jocelyn/nltk_data...\n",
      "[nltk_data]   Package wordnet is already up-to-date!\n"
     ]
    },
    {
     "data": {
      "text/plain": [
       "True"
      ]
     },
     "execution_count": 5,
     "metadata": {},
     "output_type": "execute_result"
    }
   ],
   "source": [
    "# stemming\n",
    "from nltk.stem.lancaster import LancasterStemmer\n",
    "from nltk.stem.porter import PorterStemmer\n",
    "from nltk.stem.snowball import SnowballStemmer\n",
    "nltk.download('wordnet')"
   ]
  },
  {
   "cell_type": "code",
   "execution_count": 6,
   "metadata": {},
   "outputs": [],
   "source": [
    "# cursor = db.skin_care_face_products.find()\n",
    "# products = list(cursor)\n",
    "# products[0]"
   ]
  },
  {
   "cell_type": "code",
   "execution_count": 7,
   "metadata": {},
   "outputs": [],
   "source": [
    "# cursor = db.skin_care_face_prod_rev.find()\n",
    "# products = list(cursor)\n",
    "# products[0]"
   ]
  },
  {
   "cell_type": "code",
   "execution_count": 8,
   "metadata": {},
   "outputs": [],
   "source": [
    "# import product list\n",
    "with open('pickles/product_list.pickle', 'rb') as to_read:\n",
    "    product_list = pickle.load(to_read)\n",
    "\n",
    "with open('pickles/review_list.pickle', 'rb') as to_read:\n",
    "    review_list = pickle.load(to_read)\n",
    "    \n",
    "with open('pickles/all_review_list.pickle', 'rb') as to_read:\n",
    "    all_review_list = pickle.load(to_read)\n",
    "# product_list.head(5)\n",
    "\n",
    "with open('pickles/topic_words_dict.pickle', 'rb') as to_read:\n",
    "    topic_words_dict = pickle.load(to_read)"
   ]
  },
  {
   "cell_type": "code",
   "execution_count": 9,
   "metadata": {},
   "outputs": [
    {
     "data": {
      "text/plain": [
       "{0: ['thi',\n",
       "  'year',\n",
       "  'hav',\n",
       "  'ord',\n",
       "  'purchas',\n",
       "  'recommend',\n",
       "  've',\n",
       "  'tim',\n",
       "  'amazon',\n",
       "  'pric'],\n",
       " 1: ['cleans',\n",
       "  'cle',\n",
       "  'fac',\n",
       "  'remov',\n",
       "  'wash',\n",
       "  'makeup',\n",
       "  'gentl',\n",
       "  'foam',\n",
       "  'dry',\n",
       "  'thi'],\n",
       " 2: ['mask',\n",
       "  'thi',\n",
       "  'fac',\n",
       "  'clay',\n",
       "  'minut',\n",
       "  'aft',\n",
       "  'mud',\n",
       "  'sheet',\n",
       "  'thes',\n",
       "  'felt'],\n",
       " 3: ['skin',\n",
       "  'sensit',\n",
       "  'feel',\n",
       "  'dry',\n",
       "  'hav',\n",
       "  'soft',\n",
       "  'aft',\n",
       "  'car',\n",
       "  'look',\n",
       "  'irrit'],\n",
       " 4: ['acn',\n",
       "  'hav',\n",
       "  'thi',\n",
       "  'skin',\n",
       "  'clear',\n",
       "  'help',\n",
       "  'breakout',\n",
       "  'fac',\n",
       "  'blem',\n",
       "  'pimpl'],\n",
       " 5: ['moist',\n",
       "  'thi',\n",
       "  'greasy',\n",
       "  'fac',\n",
       "  'light',\n",
       "  'oi',\n",
       "  'lot',\n",
       "  'spf',\n",
       "  'oil',\n",
       "  'feel'],\n",
       " 6: ['ser',\n",
       "  'hav',\n",
       "  'ar',\n",
       "  'result',\n",
       "  'look',\n",
       "  'lin',\n",
       "  'wrinkl',\n",
       "  'skin',\n",
       "  'week',\n",
       "  'ey'],\n",
       " 7: ['cream',\n",
       "  'night',\n",
       "  'jar',\n",
       "  'neck',\n",
       "  'hav',\n",
       "  'fac',\n",
       "  'day',\n",
       "  'smel',\n",
       "  'rich',\n",
       "  'nic'],\n",
       " 8: ['fac',\n",
       "  'smel',\n",
       "  'scrub',\n",
       "  'feel',\n",
       "  'exfo',\n",
       "  'wash',\n",
       "  'cle',\n",
       "  'yo',\n",
       "  'aft',\n",
       "  'leav'],\n",
       " 9: ['ton',\n",
       "  'spray',\n",
       "  'mist',\n",
       "  'refresh',\n",
       "  'thi',\n",
       "  'wat',\n",
       "  'makeup',\n",
       "  'fac',\n",
       "  'pad',\n",
       "  'set']}"
      ]
     },
     "execution_count": 9,
     "metadata": {},
     "output_type": "execute_result"
    }
   ],
   "source": [
    "topic_words_dict"
   ]
  }
 ],
 "metadata": {
  "kernelspec": {
   "display_name": "Python [conda env:metis] *",
   "language": "python",
   "name": "conda-env-metis-py"
  },
  "language_info": {
   "codemirror_mode": {
    "name": "ipython",
    "version": 3
   },
   "file_extension": ".py",
   "mimetype": "text/x-python",
   "name": "python",
   "nbconvert_exporter": "python",
   "pygments_lexer": "ipython3",
   "version": "3.6.9"
  }
 },
 "nbformat": 4,
 "nbformat_minor": 2
}
