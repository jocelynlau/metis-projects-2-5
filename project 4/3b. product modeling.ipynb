{
 "cells": [
  {
   "cell_type": "markdown",
   "metadata": {},
   "source": [
    "## Set up"
   ]
  },
  {
   "cell_type": "code",
   "execution_count": 1,
   "metadata": {},
   "outputs": [],
   "source": [
    "from pymongo import MongoClient\n",
    "from pprint import pprint\n",
    "\n",
    "import pandas as pd\n",
    "import re\n",
    "import nltk\n",
    "\n",
    "import pickle\n",
    "import json"
   ]
  },
  {
   "cell_type": "code",
   "execution_count": 2,
   "metadata": {},
   "outputs": [],
   "source": [
    "from bson.objectid import ObjectId"
   ]
  },
  {
   "cell_type": "code",
   "execution_count": 3,
   "metadata": {},
   "outputs": [],
   "source": [
    "from sklearn.feature_extraction.text import CountVectorizer\n",
    "from sklearn.feature_extraction.text import TfidfVectorizer\n",
    "\n",
    "from sklearn.feature_extraction.text import CountVectorizer \n",
    "from sklearn.decomposition import TruncatedSVD\n",
    "from sklearn.decomposition import NMF\n",
    "from sklearn.metrics.pairwise import cosine_similarity"
   ]
  },
  {
   "cell_type": "code",
   "execution_count": 4,
   "metadata": {},
   "outputs": [
    {
     "name": "stderr",
     "output_type": "stream",
     "text": [
      "[nltk_data] Downloading package wordnet to /Users/Jocelyn/nltk_data...\n",
      "[nltk_data]   Package wordnet is already up-to-date!\n"
     ]
    },
    {
     "data": {
      "text/plain": [
       "True"
      ]
     },
     "execution_count": 4,
     "metadata": {},
     "output_type": "execute_result"
    }
   ],
   "source": [
    "# stemming\n",
    "from nltk.stem.lancaster import LancasterStemmer\n",
    "from nltk.stem.porter import PorterStemmer\n",
    "from nltk.stem.snowball import SnowballStemmer\n",
    "nltk.download('wordnet')"
   ]
  },
  {
   "cell_type": "code",
   "execution_count": 5,
   "metadata": {},
   "outputs": [],
   "source": [
    "# This creates a client that uses the default port on localhost.\n",
    "# If connecting to AWS, you need a connection string.\n",
    "# Can do the same thing with MongoClient(\"mongodb://localhost:27017\")\n",
    "# client = MongoClient()\n",
    "client = MongoClient(\"mongodb://localhost:27017\")"
   ]
  },
  {
   "cell_type": "code",
   "execution_count": 6,
   "metadata": {},
   "outputs": [],
   "source": [
    "# Makes it look similar to shell mongo\n",
    "db = client.amazon_lb"
   ]
  },
  {
   "cell_type": "code",
   "execution_count": 7,
   "metadata": {},
   "outputs": [
    {
     "data": {
      "text/plain": [
       "['product_reviews',\n",
       " 'skin_care_face_rev_agg',\n",
       " 'product_metadata',\n",
       " 'skin_care_face_reviews',\n",
       " 'skin_care_face_prod_rev',\n",
       " 'skin_care_face_products']"
      ]
     },
     "execution_count": 7,
     "metadata": {},
     "output_type": "execute_result"
    }
   ],
   "source": [
    "db.list_collection_names()"
   ]
  },
  {
   "cell_type": "code",
   "execution_count": 8,
   "metadata": {},
   "outputs": [],
   "source": [
    "# cursor = db.skin_care_face_products.find()\n",
    "# products = list(cursor)\n",
    "# products[0]"
   ]
  },
  {
   "cell_type": "code",
   "execution_count": 9,
   "metadata": {},
   "outputs": [],
   "source": [
    "# cursor = db.skin_care_face_prod_rev.find()\n",
    "# products = list(cursor)\n",
    "# products[0]"
   ]
  },
  {
   "cell_type": "code",
   "execution_count": 199,
   "metadata": {},
   "outputs": [],
   "source": [
    "# import product list\n",
    "with open('pickles/product_list.pickle', 'rb') as to_read:\n",
    "    product_list = pickle.load(to_read)\n",
    "\n",
    "with open('pickles/review_list.pickle', 'rb') as to_read:\n",
    "    review_list = pickle.load(to_read)\n",
    "    \n",
    "with open('pickles/all_review_list.pickle', 'rb') as to_read:\n",
    "    all_review_list = pickle.load(to_read)\n",
    "# product_list.head(5)"
   ]
  },
  {
   "cell_type": "code",
   "execution_count": 200,
   "metadata": {},
   "outputs": [
    {
     "name": "stdout",
     "output_type": "stream",
     "text": [
      "A 5% liquid benzoyl peroxide acne treatment used to spot-treat affected areas, penetrate pores to clear existing acne blemishes and prevent the occurrence of future breakouts. PCA SKIN is a trusted innovator in the development of highly effective skincare products. Our vision is to improve peoples lives by providing results-oriented skin care solutions for the health of your unique skin. \n"
     ]
    }
   ],
   "source": [
    "print(product_list['description'][8])"
   ]
  },
  {
   "cell_type": "markdown",
   "metadata": {},
   "source": [
    "### Text processing"
   ]
  },
  {
   "cell_type": "code",
   "execution_count": 201,
   "metadata": {},
   "outputs": [],
   "source": [
    "#Compound phrases\n",
    "from nltk.tokenize import word_tokenize\n",
    "from nltk.tokenize import MWETokenizer # multi-word expression\n",
    "\n",
    "mwe_tokenizer = MWETokenizer([('times','a','day'),('holy','grail'),('t','zone')])"
   ]
  },
  {
   "cell_type": "code",
   "execution_count": 202,
   "metadata": {},
   "outputs": [
    {
     "name": "stderr",
     "output_type": "stream",
     "text": [
      "<>:6: DeprecationWarning: invalid escape sequence \\w\n",
      "<>:6: DeprecationWarning: invalid escape sequence \\w\n",
      "<>:6: DeprecationWarning: invalid escape sequence \\w\n",
      "<ipython-input-202-fb32add62829>:6: DeprecationWarning: invalid escape sequence \\w\n",
      "  alphanumeric = lambda x: re.sub('\\w*\\d\\w*', ' ', x)\n"
     ]
    }
   ],
   "source": [
    "# Text preprocessing steps - remove numbers, captial letters and punctuation\n",
    "import re\n",
    "import string\n",
    "\n",
    "remove_links = lambda x: re.sub('<[^<]+?>', '', x)\n",
    "alphanumeric = lambda x: re.sub('\\w*\\d\\w*', ' ', x)\n",
    "punc_lower = lambda x: re.sub('[%s]' % re.escape(string.punctuation), ' ', x.lower())\n",
    "\n",
    "#custom stop words\n",
    "more_stop_words = lambda x: re.sub('oz|ml|mls|ounce|ounces','',x)\n",
    "# more_stop_words2 = lambda x: re.sub('use|using|product|products|work|works|working|buy|buys|buying|stuff','',x)\n",
    "more_stop_words2 = lambda x: re.sub('use|using|product|products|work|works|working|buy|buys|buying|stuff|good|excellent|great|bad|terrible|like|love|really','',x)\n",
    "more_stop_words3 = lambda x: re.sub('face|skin','',x)\n",
    "#custom replacements\n",
    "mwe = lambda x: ' '.join(mwe_tokenizer.tokenize(word_tokenize(x)))\n",
    "\n",
    "product_list['description'] = product_list.description.map(remove_links).map(alphanumeric).map(punc_lower)\n",
    "all_review_list['all_review_text'] = all_review_list.all_review_text.map(remove_links).map(alphanumeric).map(punc_lower).map(more_stop_words).map(more_stop_words2).map(mwe)\n"
   ]
  },
  {
   "cell_type": "code",
   "execution_count": 203,
   "metadata": {},
   "outputs": [],
   "source": [
    "# Stemmers\n",
    "\n",
    "stemmer = LancasterStemmer()\n",
    "# stemmer = PorterStemmer()\n",
    "# stemmer = SnowballStemmer('english')\n",
    "# lemmatizer = WordNetLemmatizer()\n",
    "\n",
    "all_review_list['all_review_text']=[' '.join([stemmer.stem(word) for word in text.split(' ')])\n",
    "          for text in all_review_list['all_review_text']]"
   ]
  },
  {
   "cell_type": "markdown",
   "metadata": {},
   "source": [
    "### Vectorize"
   ]
  },
  {
   "cell_type": "code",
   "execution_count": 204,
   "metadata": {},
   "outputs": [
    {
     "data": {
      "text/plain": [
       "(2233, 1272)"
      ]
     },
     "execution_count": 204,
     "metadata": {},
     "output_type": "execute_result"
    }
   ],
   "source": [
    "tfidf_d = TfidfVectorizer(stop_words='english', min_df = 20)\n",
    "\n",
    "rev_td_d = tfidf_d.fit_transform(product_list['description'])\n",
    "rev_td_d_matrix = pd.DataFrame(rev_td_d.toarray(),columns=tfidf_d.get_feature_names())\n",
    "# rev_td_d_matrix.head(5)\n",
    "rev_td_d_matrix.shape"
   ]
  },
  {
   "cell_type": "code",
   "execution_count": 205,
   "metadata": {},
   "outputs": [
    {
     "data": {
      "text/html": [
       "<div>\n",
       "<style scoped>\n",
       "    .dataframe tbody tr th:only-of-type {\n",
       "        vertical-align: middle;\n",
       "    }\n",
       "\n",
       "    .dataframe tbody tr th {\n",
       "        vertical-align: top;\n",
       "    }\n",
       "\n",
       "    .dataframe thead th {\n",
       "        text-align: right;\n",
       "    }\n",
       "</style>\n",
       "<table border=\"1\" class=\"dataframe\">\n",
       "  <thead>\n",
       "    <tr style=\"text-align: right;\">\n",
       "      <th></th>\n",
       "      <th>ability</th>\n",
       "      <th>absolute</th>\n",
       "      <th>absorb</th>\n",
       "      <th>absorbed</th>\n",
       "      <th>absorbing</th>\n",
       "      <th>absorbs</th>\n",
       "      <th>absorption</th>\n",
       "      <th>acetate</th>\n",
       "      <th>achieve</th>\n",
       "      <th>acid</th>\n",
       "      <th>...</th>\n",
       "      <th>worldwide</th>\n",
       "      <th>wrinkle</th>\n",
       "      <th>wrinkles</th>\n",
       "      <th>xanthan</th>\n",
       "      <th>year</th>\n",
       "      <th>years</th>\n",
       "      <th>younger</th>\n",
       "      <th>youth</th>\n",
       "      <th>youthful</th>\n",
       "      <th>zinc</th>\n",
       "    </tr>\n",
       "  </thead>\n",
       "  <tbody>\n",
       "    <tr>\n",
       "      <td>0</td>\n",
       "      <td>0.0</td>\n",
       "      <td>0.0</td>\n",
       "      <td>0.0</td>\n",
       "      <td>0.0</td>\n",
       "      <td>0.0</td>\n",
       "      <td>0.0</td>\n",
       "      <td>0.0</td>\n",
       "      <td>0.0</td>\n",
       "      <td>0.0</td>\n",
       "      <td>0.0</td>\n",
       "      <td>...</td>\n",
       "      <td>0.0</td>\n",
       "      <td>0.0</td>\n",
       "      <td>0.000000</td>\n",
       "      <td>0.0</td>\n",
       "      <td>0.000000</td>\n",
       "      <td>0.0</td>\n",
       "      <td>0.0</td>\n",
       "      <td>0.0</td>\n",
       "      <td>0.0</td>\n",
       "      <td>0.0</td>\n",
       "    </tr>\n",
       "    <tr>\n",
       "      <td>1</td>\n",
       "      <td>0.0</td>\n",
       "      <td>0.0</td>\n",
       "      <td>0.0</td>\n",
       "      <td>0.0</td>\n",
       "      <td>0.0</td>\n",
       "      <td>0.0</td>\n",
       "      <td>0.0</td>\n",
       "      <td>0.0</td>\n",
       "      <td>0.0</td>\n",
       "      <td>0.0</td>\n",
       "      <td>...</td>\n",
       "      <td>0.0</td>\n",
       "      <td>0.0</td>\n",
       "      <td>0.000000</td>\n",
       "      <td>0.0</td>\n",
       "      <td>0.000000</td>\n",
       "      <td>0.0</td>\n",
       "      <td>0.0</td>\n",
       "      <td>0.0</td>\n",
       "      <td>0.0</td>\n",
       "      <td>0.0</td>\n",
       "    </tr>\n",
       "    <tr>\n",
       "      <td>2</td>\n",
       "      <td>0.0</td>\n",
       "      <td>0.0</td>\n",
       "      <td>0.0</td>\n",
       "      <td>0.0</td>\n",
       "      <td>0.0</td>\n",
       "      <td>0.0</td>\n",
       "      <td>0.0</td>\n",
       "      <td>0.0</td>\n",
       "      <td>0.0</td>\n",
       "      <td>0.0</td>\n",
       "      <td>...</td>\n",
       "      <td>0.0</td>\n",
       "      <td>0.0</td>\n",
       "      <td>0.000000</td>\n",
       "      <td>0.0</td>\n",
       "      <td>0.000000</td>\n",
       "      <td>0.0</td>\n",
       "      <td>0.0</td>\n",
       "      <td>0.0</td>\n",
       "      <td>0.0</td>\n",
       "      <td>0.0</td>\n",
       "    </tr>\n",
       "    <tr>\n",
       "      <td>3</td>\n",
       "      <td>0.0</td>\n",
       "      <td>0.0</td>\n",
       "      <td>0.0</td>\n",
       "      <td>0.0</td>\n",
       "      <td>0.0</td>\n",
       "      <td>0.0</td>\n",
       "      <td>0.0</td>\n",
       "      <td>0.0</td>\n",
       "      <td>0.0</td>\n",
       "      <td>0.0</td>\n",
       "      <td>...</td>\n",
       "      <td>0.0</td>\n",
       "      <td>0.0</td>\n",
       "      <td>0.051457</td>\n",
       "      <td>0.0</td>\n",
       "      <td>0.000000</td>\n",
       "      <td>0.0</td>\n",
       "      <td>0.0</td>\n",
       "      <td>0.0</td>\n",
       "      <td>0.0</td>\n",
       "      <td>0.0</td>\n",
       "    </tr>\n",
       "    <tr>\n",
       "      <td>4</td>\n",
       "      <td>0.0</td>\n",
       "      <td>0.0</td>\n",
       "      <td>0.0</td>\n",
       "      <td>0.0</td>\n",
       "      <td>0.0</td>\n",
       "      <td>0.0</td>\n",
       "      <td>0.0</td>\n",
       "      <td>0.0</td>\n",
       "      <td>0.0</td>\n",
       "      <td>0.0</td>\n",
       "      <td>...</td>\n",
       "      <td>0.0</td>\n",
       "      <td>0.0</td>\n",
       "      <td>0.000000</td>\n",
       "      <td>0.0</td>\n",
       "      <td>0.131415</td>\n",
       "      <td>0.0</td>\n",
       "      <td>0.0</td>\n",
       "      <td>0.0</td>\n",
       "      <td>0.0</td>\n",
       "      <td>0.0</td>\n",
       "    </tr>\n",
       "  </tbody>\n",
       "</table>\n",
       "<p>5 rows × 1272 columns</p>\n",
       "</div>"
      ],
      "text/plain": [
       "   ability  absolute  absorb  absorbed  absorbing  absorbs  absorption  \\\n",
       "0      0.0       0.0     0.0       0.0        0.0      0.0         0.0   \n",
       "1      0.0       0.0     0.0       0.0        0.0      0.0         0.0   \n",
       "2      0.0       0.0     0.0       0.0        0.0      0.0         0.0   \n",
       "3      0.0       0.0     0.0       0.0        0.0      0.0         0.0   \n",
       "4      0.0       0.0     0.0       0.0        0.0      0.0         0.0   \n",
       "\n",
       "   acetate  achieve  acid  ...  worldwide  wrinkle  wrinkles  xanthan  \\\n",
       "0      0.0      0.0   0.0  ...        0.0      0.0  0.000000      0.0   \n",
       "1      0.0      0.0   0.0  ...        0.0      0.0  0.000000      0.0   \n",
       "2      0.0      0.0   0.0  ...        0.0      0.0  0.000000      0.0   \n",
       "3      0.0      0.0   0.0  ...        0.0      0.0  0.051457      0.0   \n",
       "4      0.0      0.0   0.0  ...        0.0      0.0  0.000000      0.0   \n",
       "\n",
       "       year  years  younger  youth  youthful  zinc  \n",
       "0  0.000000    0.0      0.0    0.0       0.0   0.0  \n",
       "1  0.000000    0.0      0.0    0.0       0.0   0.0  \n",
       "2  0.000000    0.0      0.0    0.0       0.0   0.0  \n",
       "3  0.000000    0.0      0.0    0.0       0.0   0.0  \n",
       "4  0.131415    0.0      0.0    0.0       0.0   0.0  \n",
       "\n",
       "[5 rows x 1272 columns]"
      ]
     },
     "execution_count": 205,
     "metadata": {},
     "output_type": "execute_result"
    }
   ],
   "source": [
    "rev_td_d_matrix.head(5)"
   ]
  },
  {
   "cell_type": "code",
   "execution_count": 206,
   "metadata": {},
   "outputs": [
    {
     "data": {
      "text/plain": [
       "(2241, 2538)"
      ]
     },
     "execution_count": 206,
     "metadata": {},
     "output_type": "execute_result"
    }
   ],
   "source": [
    "tfidf_r = TfidfVectorizer(stop_words='english', min_df = 20)\n",
    "\n",
    "rev_td_r = tfidf_r.fit_transform(all_review_list['all_review_text'])\n",
    "rev_td_r_matrix = pd.DataFrame(rev_td_r.toarray(),columns=tfidf_r.get_feature_names())\n",
    "# rev_td_r_matrix.head(5)\n",
    "rev_td_r_matrix.shape"
   ]
  },
  {
   "cell_type": "code",
   "execution_count": 207,
   "metadata": {},
   "outputs": [
    {
     "data": {
      "text/html": [
       "<div>\n",
       "<style scoped>\n",
       "    .dataframe tbody tr th:only-of-type {\n",
       "        vertical-align: middle;\n",
       "    }\n",
       "\n",
       "    .dataframe tbody tr th {\n",
       "        vertical-align: top;\n",
       "    }\n",
       "\n",
       "    .dataframe thead th {\n",
       "        text-align: right;\n",
       "    }\n",
       "</style>\n",
       "<table border=\"1\" class=\"dataframe\">\n",
       "  <thead>\n",
       "    <tr style=\"text-align: right;\">\n",
       "      <th></th>\n",
       "      <th>ab</th>\n",
       "      <th>abl</th>\n",
       "      <th>abov</th>\n",
       "      <th>abras</th>\n",
       "      <th>absolv</th>\n",
       "      <th>absorb</th>\n",
       "      <th>ac</th>\n",
       "      <th>acc</th>\n",
       "      <th>acceiv</th>\n",
       "      <th>access</th>\n",
       "      <th>...</th>\n",
       "      <th>young</th>\n",
       "      <th>youth</th>\n",
       "      <th>youtub</th>\n",
       "      <th>yr</th>\n",
       "      <th>yuck</th>\n",
       "      <th>yummy</th>\n",
       "      <th>zero</th>\n",
       "      <th>zint</th>\n",
       "      <th>zit</th>\n",
       "      <th>zon</th>\n",
       "    </tr>\n",
       "  </thead>\n",
       "  <tbody>\n",
       "    <tr>\n",
       "      <td>0</td>\n",
       "      <td>0.0</td>\n",
       "      <td>0.011502</td>\n",
       "      <td>0.033792</td>\n",
       "      <td>0.00000</td>\n",
       "      <td>0.000000</td>\n",
       "      <td>0.000000</td>\n",
       "      <td>0.0</td>\n",
       "      <td>0.0</td>\n",
       "      <td>0.000000</td>\n",
       "      <td>0.0</td>\n",
       "      <td>...</td>\n",
       "      <td>0.000000</td>\n",
       "      <td>0.0</td>\n",
       "      <td>0.0</td>\n",
       "      <td>0.00000</td>\n",
       "      <td>0.0</td>\n",
       "      <td>0.0</td>\n",
       "      <td>0.0</td>\n",
       "      <td>0.038877</td>\n",
       "      <td>0.000000</td>\n",
       "      <td>0.000000</td>\n",
       "    </tr>\n",
       "    <tr>\n",
       "      <td>1</td>\n",
       "      <td>0.0</td>\n",
       "      <td>0.015829</td>\n",
       "      <td>0.000000</td>\n",
       "      <td>0.00000</td>\n",
       "      <td>0.026817</td>\n",
       "      <td>0.000000</td>\n",
       "      <td>0.0</td>\n",
       "      <td>0.0</td>\n",
       "      <td>0.025723</td>\n",
       "      <td>0.0</td>\n",
       "      <td>...</td>\n",
       "      <td>0.015414</td>\n",
       "      <td>0.0</td>\n",
       "      <td>0.0</td>\n",
       "      <td>0.00000</td>\n",
       "      <td>0.0</td>\n",
       "      <td>0.0</td>\n",
       "      <td>0.0</td>\n",
       "      <td>0.000000</td>\n",
       "      <td>0.022444</td>\n",
       "      <td>0.000000</td>\n",
       "    </tr>\n",
       "    <tr>\n",
       "      <td>2</td>\n",
       "      <td>0.0</td>\n",
       "      <td>0.000000</td>\n",
       "      <td>0.000000</td>\n",
       "      <td>0.04415</td>\n",
       "      <td>0.024126</td>\n",
       "      <td>0.000000</td>\n",
       "      <td>0.0</td>\n",
       "      <td>0.0</td>\n",
       "      <td>0.000000</td>\n",
       "      <td>0.0</td>\n",
       "      <td>...</td>\n",
       "      <td>0.027734</td>\n",
       "      <td>0.0</td>\n",
       "      <td>0.0</td>\n",
       "      <td>0.00000</td>\n",
       "      <td>0.0</td>\n",
       "      <td>0.0</td>\n",
       "      <td>0.0</td>\n",
       "      <td>0.000000</td>\n",
       "      <td>0.000000</td>\n",
       "      <td>0.054831</td>\n",
       "    </tr>\n",
       "    <tr>\n",
       "      <td>3</td>\n",
       "      <td>0.0</td>\n",
       "      <td>0.000000</td>\n",
       "      <td>0.000000</td>\n",
       "      <td>0.00000</td>\n",
       "      <td>0.000000</td>\n",
       "      <td>0.000000</td>\n",
       "      <td>0.0</td>\n",
       "      <td>0.0</td>\n",
       "      <td>0.000000</td>\n",
       "      <td>0.0</td>\n",
       "      <td>...</td>\n",
       "      <td>0.040096</td>\n",
       "      <td>0.0</td>\n",
       "      <td>0.0</td>\n",
       "      <td>0.05743</td>\n",
       "      <td>0.0</td>\n",
       "      <td>0.0</td>\n",
       "      <td>0.0</td>\n",
       "      <td>0.000000</td>\n",
       "      <td>0.000000</td>\n",
       "      <td>0.000000</td>\n",
       "    </tr>\n",
       "    <tr>\n",
       "      <td>4</td>\n",
       "      <td>0.0</td>\n",
       "      <td>0.000000</td>\n",
       "      <td>0.000000</td>\n",
       "      <td>0.00000</td>\n",
       "      <td>0.062505</td>\n",
       "      <td>0.116967</td>\n",
       "      <td>0.0</td>\n",
       "      <td>0.0</td>\n",
       "      <td>0.000000</td>\n",
       "      <td>0.0</td>\n",
       "      <td>...</td>\n",
       "      <td>0.000000</td>\n",
       "      <td>0.0</td>\n",
       "      <td>0.0</td>\n",
       "      <td>0.00000</td>\n",
       "      <td>0.0</td>\n",
       "      <td>0.0</td>\n",
       "      <td>0.0</td>\n",
       "      <td>0.218245</td>\n",
       "      <td>0.000000</td>\n",
       "      <td>0.000000</td>\n",
       "    </tr>\n",
       "  </tbody>\n",
       "</table>\n",
       "<p>5 rows × 2538 columns</p>\n",
       "</div>"
      ],
      "text/plain": [
       "    ab       abl      abov    abras    absolv    absorb   ac  acc    acceiv  \\\n",
       "0  0.0  0.011502  0.033792  0.00000  0.000000  0.000000  0.0  0.0  0.000000   \n",
       "1  0.0  0.015829  0.000000  0.00000  0.026817  0.000000  0.0  0.0  0.025723   \n",
       "2  0.0  0.000000  0.000000  0.04415  0.024126  0.000000  0.0  0.0  0.000000   \n",
       "3  0.0  0.000000  0.000000  0.00000  0.000000  0.000000  0.0  0.0  0.000000   \n",
       "4  0.0  0.000000  0.000000  0.00000  0.062505  0.116967  0.0  0.0  0.000000   \n",
       "\n",
       "   access  ...     young  youth  youtub       yr  yuck  yummy  zero      zint  \\\n",
       "0     0.0  ...  0.000000    0.0     0.0  0.00000   0.0    0.0   0.0  0.038877   \n",
       "1     0.0  ...  0.015414    0.0     0.0  0.00000   0.0    0.0   0.0  0.000000   \n",
       "2     0.0  ...  0.027734    0.0     0.0  0.00000   0.0    0.0   0.0  0.000000   \n",
       "3     0.0  ...  0.040096    0.0     0.0  0.05743   0.0    0.0   0.0  0.000000   \n",
       "4     0.0  ...  0.000000    0.0     0.0  0.00000   0.0    0.0   0.0  0.218245   \n",
       "\n",
       "        zit       zon  \n",
       "0  0.000000  0.000000  \n",
       "1  0.022444  0.000000  \n",
       "2  0.000000  0.054831  \n",
       "3  0.000000  0.000000  \n",
       "4  0.000000  0.000000  \n",
       "\n",
       "[5 rows x 2538 columns]"
      ]
     },
     "execution_count": 207,
     "metadata": {},
     "output_type": "execute_result"
    }
   ],
   "source": [
    "rev_td_r_matrix.head(5)"
   ]
  },
  {
   "cell_type": "markdown",
   "metadata": {},
   "source": [
    "### Reduce dimensionality"
   ]
  },
  {
   "cell_type": "code",
   "execution_count": 208,
   "metadata": {},
   "outputs": [],
   "source": [
    "def display_topics(model, feature_names, no_top_words, topic_names=None):\n",
    "    for ix, topic in enumerate(model.components_):\n",
    "        if not topic_names or not topic_names[ix]:\n",
    "            print(\"\\nTopic \", ix)\n",
    "        else:\n",
    "            print(\"\\nTopic: '\",topic_names[ix],\"'\")\n",
    "        print(\", \".join([feature_names[i]\n",
    "                        for i in topic.argsort()[:-no_top_words - 1:-1]]))"
   ]
  },
  {
   "cell_type": "code",
   "execution_count": 209,
   "metadata": {},
   "outputs": [
    {
     "name": "stdout",
     "output_type": "stream",
     "text": [
      "      ab    abl   abov  abras  absolv  absorb     ac    acc  acceiv  access  \\\n",
      "0  0.000  0.010  0.009  0.000   0.032   0.236  0.001  0.005   0.010   0.000   \n",
      "1  0.000  0.008  0.003  0.019   0.018   0.000  0.000  0.003   0.000   0.002   \n",
      "2  0.004  0.012  0.001  0.002   0.015   0.000  0.007  0.000   0.001   0.001   \n",
      "3  0.000  0.006  0.000  0.007   0.007   0.000  0.000  0.000   0.000   0.000   \n",
      "4  0.000  0.018  0.000  0.011   0.041   0.000  0.000  0.003   0.001   0.003   \n",
      "5  0.002  0.048  0.020  0.010   0.031   0.072  0.004  0.002   0.007   0.012   \n",
      "6  0.004  0.030  0.003  0.000   0.027   0.117  0.000  0.002   0.013   0.003   \n",
      "7  0.003  0.011  0.000  0.000   0.060   0.012  0.000  0.000   0.003   0.000   \n",
      "8  0.002  0.009  0.000  0.016   0.028   0.000  0.000  0.000   0.001   0.002   \n",
      "9  0.000  0.025  0.002  0.000   0.044   0.000  0.003  0.002   0.000   0.000   \n",
      "\n",
      "   ...  young  youth  youtub     yr   yuck  yummy   zero   zint    zit    zon  \n",
      "0  ...  0.000  0.000   0.003  0.000  0.001  0.000  0.005  0.038  0.000  0.005  \n",
      "1  ...  0.000  0.000   0.003  0.000  0.005  0.006  0.006  0.000  0.000  0.000  \n",
      "2  ...  0.000  0.000   0.003  0.015  0.000  0.000  0.004  0.006  0.096  0.004  \n",
      "3  ...  0.005  0.000   0.008  0.000  0.005  0.000  0.002  0.000  0.000  0.000  \n",
      "4  ...  0.019  0.000   0.000  0.006  0.000  0.001  0.000  0.000  0.000  0.001  \n",
      "5  ...  0.095  0.048   0.009  0.024  0.006  0.000  0.021  0.005  0.000  0.002  \n",
      "6  ...  0.064  0.016   0.000  0.020  0.002  0.000  0.005  0.000  0.000  0.000  \n",
      "7  ...  0.041  0.022   0.000  0.000  0.000  0.007  0.000  0.000  0.000  0.000  \n",
      "8  ...  0.000  0.007   0.000  0.000  0.000  0.000  0.001  0.000  0.000  0.000  \n",
      "9  ...  0.000  0.000   0.002  0.009  0.005  0.000  0.000  0.004  0.000  0.000  \n",
      "\n",
      "[10 rows x 2538 columns]\n",
      "\n",
      "Topic  0\n",
      "moist, thi, fac, greasy, lik, light, lot, oi, spf, feel\n",
      "\n",
      "Topic  1\n",
      "cleans, fac, cle, thi, wash, remov, gentl, makeup, foam, feel\n",
      "\n",
      "Topic  2\n",
      "acn, thi, hav, skin, clear, help, breakout, fac, blem, pimpl\n",
      "\n",
      "Topic  3\n",
      "mask, fac, thi, aft, minut, clay, feel, lik, mud, felt\n",
      "\n",
      "Topic  4\n",
      "lov, thi, year, smel, excel, purchas, ord, gift, elem, amazon\n",
      "\n",
      "Topic  5\n",
      "thi, hav, ser, result, diff, wil, look, ar, lik, lin\n",
      "\n",
      "Topic  6\n",
      "cream, thi, night, hav, jar, neck, fac, good, day, best\n",
      "\n",
      "Topic  7\n",
      "skin, dry, sensit, feel, hav, soft, look, car, aft, irrit\n",
      "\n",
      "Topic  8\n",
      "gre, smel, scrub, pric, good, year, ship, deal, recommend, advert\n",
      "\n",
      "Topic  9\n",
      "ton, spray, refresh, mist, thes, pad, fac, ar, wat, smel\n"
     ]
    }
   ],
   "source": [
    "nmf = NMF(10)\n",
    "doc_topic = nmf.fit_transform(rev_td_r_matrix)\n",
    "topic_word = pd.DataFrame(nmf.components_.round(3),\n",
    "#                         index = [\"component_1\",\"component_2\",\"component_3\",\"component_4\"],\n",
    "                        columns = tfidf_r.get_feature_names())\n",
    "print(topic_word)\n",
    "\n",
    "display_topics(nmf, tfidf_r.get_feature_names(), 10)"
   ]
  },
  {
   "cell_type": "code",
   "execution_count": 34,
   "metadata": {},
   "outputs": [
    {
     "data": {
      "text/html": [
       "<div>\n",
       "<style scoped>\n",
       "    .dataframe tbody tr th:only-of-type {\n",
       "        vertical-align: middle;\n",
       "    }\n",
       "\n",
       "    .dataframe tbody tr th {\n",
       "        vertical-align: top;\n",
       "    }\n",
       "\n",
       "    .dataframe thead th {\n",
       "        text-align: right;\n",
       "    }\n",
       "</style>\n",
       "<table border=\"1\" class=\"dataframe\">\n",
       "  <thead>\n",
       "    <tr style=\"text-align: right;\">\n",
       "      <th></th>\n",
       "      <th>0</th>\n",
       "      <th>1</th>\n",
       "      <th>2</th>\n",
       "      <th>3</th>\n",
       "      <th>4</th>\n",
       "      <th>5</th>\n",
       "      <th>6</th>\n",
       "      <th>7</th>\n",
       "      <th>8</th>\n",
       "      <th>9</th>\n",
       "    </tr>\n",
       "    <tr>\n",
       "      <th>asin</th>\n",
       "      <th></th>\n",
       "      <th></th>\n",
       "      <th></th>\n",
       "      <th></th>\n",
       "      <th></th>\n",
       "      <th></th>\n",
       "      <th></th>\n",
       "      <th></th>\n",
       "      <th></th>\n",
       "      <th></th>\n",
       "    </tr>\n",
       "  </thead>\n",
       "  <tbody>\n",
       "    <tr>\n",
       "      <td>B0000Y3NO6</td>\n",
       "      <td>0.05427</td>\n",
       "      <td>0.00904</td>\n",
       "      <td>0.00433</td>\n",
       "      <td>0.02289</td>\n",
       "      <td>0.10064</td>\n",
       "      <td>0.03511</td>\n",
       "      <td>0.04922</td>\n",
       "      <td>0.06427</td>\n",
       "      <td>0.00000</td>\n",
       "      <td>0.00097</td>\n",
       "    </tr>\n",
       "    <tr>\n",
       "      <td>B00012C5RS</td>\n",
       "      <td>0.05172</td>\n",
       "      <td>0.01705</td>\n",
       "      <td>0.00866</td>\n",
       "      <td>0.01602</td>\n",
       "      <td>0.04922</td>\n",
       "      <td>0.01919</td>\n",
       "      <td>0.12587</td>\n",
       "      <td>0.00586</td>\n",
       "      <td>0.00748</td>\n",
       "      <td>0.01431</td>\n",
       "    </tr>\n",
       "    <tr>\n",
       "      <td>B0001EKTTC</td>\n",
       "      <td>0.04839</td>\n",
       "      <td>0.02002</td>\n",
       "      <td>0.04258</td>\n",
       "      <td>0.07218</td>\n",
       "      <td>0.10511</td>\n",
       "      <td>0.00331</td>\n",
       "      <td>0.00418</td>\n",
       "      <td>0.00000</td>\n",
       "      <td>0.01376</td>\n",
       "      <td>0.00000</td>\n",
       "    </tr>\n",
       "    <tr>\n",
       "      <td>B0001EL5Q8</td>\n",
       "      <td>0.07574</td>\n",
       "      <td>0.00000</td>\n",
       "      <td>0.00000</td>\n",
       "      <td>0.08743</td>\n",
       "      <td>0.01846</td>\n",
       "      <td>0.00526</td>\n",
       "      <td>0.08463</td>\n",
       "      <td>0.01515</td>\n",
       "      <td>0.01931</td>\n",
       "      <td>0.00000</td>\n",
       "    </tr>\n",
       "    <tr>\n",
       "      <td>B0001EL5JA</td>\n",
       "      <td>0.03347</td>\n",
       "      <td>0.00424</td>\n",
       "      <td>0.00000</td>\n",
       "      <td>0.06206</td>\n",
       "      <td>0.03392</td>\n",
       "      <td>0.10670</td>\n",
       "      <td>0.02497</td>\n",
       "      <td>0.00439</td>\n",
       "      <td>0.00000</td>\n",
       "      <td>0.00969</td>\n",
       "    </tr>\n",
       "    <tr>\n",
       "      <td>...</td>\n",
       "      <td>...</td>\n",
       "      <td>...</td>\n",
       "      <td>...</td>\n",
       "      <td>...</td>\n",
       "      <td>...</td>\n",
       "      <td>...</td>\n",
       "      <td>...</td>\n",
       "      <td>...</td>\n",
       "      <td>...</td>\n",
       "      <td>...</td>\n",
       "    </tr>\n",
       "    <tr>\n",
       "      <td>B01HBS87ZS</td>\n",
       "      <td>0.03087</td>\n",
       "      <td>0.00000</td>\n",
       "      <td>0.00198</td>\n",
       "      <td>0.02127</td>\n",
       "      <td>0.07257</td>\n",
       "      <td>0.00000</td>\n",
       "      <td>0.04794</td>\n",
       "      <td>0.00000</td>\n",
       "      <td>0.00925</td>\n",
       "      <td>0.00000</td>\n",
       "    </tr>\n",
       "    <tr>\n",
       "      <td>B01HBS7WW2</td>\n",
       "      <td>0.08177</td>\n",
       "      <td>0.00252</td>\n",
       "      <td>0.00628</td>\n",
       "      <td>0.02420</td>\n",
       "      <td>0.00000</td>\n",
       "      <td>0.03299</td>\n",
       "      <td>0.00000</td>\n",
       "      <td>0.02416</td>\n",
       "      <td>0.03790</td>\n",
       "      <td>0.01069</td>\n",
       "    </tr>\n",
       "    <tr>\n",
       "      <td>B01HEESSHG</td>\n",
       "      <td>0.04060</td>\n",
       "      <td>0.00000</td>\n",
       "      <td>0.00492</td>\n",
       "      <td>0.00000</td>\n",
       "      <td>0.00000</td>\n",
       "      <td>0.01717</td>\n",
       "      <td>0.03695</td>\n",
       "      <td>0.03207</td>\n",
       "      <td>0.03331</td>\n",
       "      <td>0.03320</td>\n",
       "    </tr>\n",
       "    <tr>\n",
       "      <td>B01HBS7XP8</td>\n",
       "      <td>0.06500</td>\n",
       "      <td>0.02685</td>\n",
       "      <td>0.00368</td>\n",
       "      <td>0.03079</td>\n",
       "      <td>0.00000</td>\n",
       "      <td>0.00000</td>\n",
       "      <td>0.00000</td>\n",
       "      <td>0.00000</td>\n",
       "      <td>0.00880</td>\n",
       "      <td>0.02398</td>\n",
       "    </tr>\n",
       "    <tr>\n",
       "      <td>B01HGSJPMW</td>\n",
       "      <td>0.04684</td>\n",
       "      <td>0.01821</td>\n",
       "      <td>0.00406</td>\n",
       "      <td>0.03639</td>\n",
       "      <td>0.00556</td>\n",
       "      <td>0.06108</td>\n",
       "      <td>0.07480</td>\n",
       "      <td>0.02492</td>\n",
       "      <td>0.06200</td>\n",
       "      <td>0.01461</td>\n",
       "    </tr>\n",
       "  </tbody>\n",
       "</table>\n",
       "<p>2241 rows × 10 columns</p>\n",
       "</div>"
      ],
      "text/plain": [
       "                  0        1        2        3        4        5        6  \\\n",
       "asin                                                                        \n",
       "B0000Y3NO6  0.05427  0.00904  0.00433  0.02289  0.10064  0.03511  0.04922   \n",
       "B00012C5RS  0.05172  0.01705  0.00866  0.01602  0.04922  0.01919  0.12587   \n",
       "B0001EKTTC  0.04839  0.02002  0.04258  0.07218  0.10511  0.00331  0.00418   \n",
       "B0001EL5Q8  0.07574  0.00000  0.00000  0.08743  0.01846  0.00526  0.08463   \n",
       "B0001EL5JA  0.03347  0.00424  0.00000  0.06206  0.03392  0.10670  0.02497   \n",
       "...             ...      ...      ...      ...      ...      ...      ...   \n",
       "B01HBS87ZS  0.03087  0.00000  0.00198  0.02127  0.07257  0.00000  0.04794   \n",
       "B01HBS7WW2  0.08177  0.00252  0.00628  0.02420  0.00000  0.03299  0.00000   \n",
       "B01HEESSHG  0.04060  0.00000  0.00492  0.00000  0.00000  0.01717  0.03695   \n",
       "B01HBS7XP8  0.06500  0.02685  0.00368  0.03079  0.00000  0.00000  0.00000   \n",
       "B01HGSJPMW  0.04684  0.01821  0.00406  0.03639  0.00556  0.06108  0.07480   \n",
       "\n",
       "                  7        8        9  \n",
       "asin                                   \n",
       "B0000Y3NO6  0.06427  0.00000  0.00097  \n",
       "B00012C5RS  0.00586  0.00748  0.01431  \n",
       "B0001EKTTC  0.00000  0.01376  0.00000  \n",
       "B0001EL5Q8  0.01515  0.01931  0.00000  \n",
       "B0001EL5JA  0.00439  0.00000  0.00969  \n",
       "...             ...      ...      ...  \n",
       "B01HBS87ZS  0.00000  0.00925  0.00000  \n",
       "B01HBS7WW2  0.02416  0.03790  0.01069  \n",
       "B01HEESSHG  0.03207  0.03331  0.03320  \n",
       "B01HBS7XP8  0.00000  0.00880  0.02398  \n",
       "B01HGSJPMW  0.02492  0.06200  0.01461  \n",
       "\n",
       "[2241 rows x 10 columns]"
      ]
     },
     "execution_count": 34,
     "metadata": {},
     "output_type": "execute_result"
    }
   ],
   "source": [
    "H_r = pd.DataFrame(doc_topic.round(5),\n",
    "             index = all_review_list['asin'])\n",
    "H_r"
   ]
  },
  {
   "cell_type": "code",
   "execution_count": 131,
   "metadata": {},
   "outputs": [],
   "source": [
    "# save out dictionary of topic words\n",
    "def save_topic_words(model, feature_names, no_top_words, topic_names=None):\n",
    "    topic_words = {}\n",
    "    for ix, topic in enumerate(model.components_):\n",
    "        lst = [feature_names[i]\n",
    "            for i in topic.argsort()[:-no_top_words - 1:-1]]\n",
    "        topic_words.update({ix:lst})\n",
    "    return topic_words"
   ]
  },
  {
   "cell_type": "code",
   "execution_count": 132,
   "metadata": {},
   "outputs": [
    {
     "data": {
      "text/plain": [
       "['thi',\n",
       " 'year',\n",
       " 'hav',\n",
       " 'ord',\n",
       " 'purchas',\n",
       " 'recommend',\n",
       " 've',\n",
       " 'tim',\n",
       " 'amazon',\n",
       " 'pric']"
      ]
     },
     "execution_count": 132,
     "metadata": {},
     "output_type": "execute_result"
    }
   ],
   "source": [
    "topic_dict = save_topic_words(nmf,tfidf_r.get_feature_names(), 10)\n",
    "topic_dict[0]"
   ]
  },
  {
   "cell_type": "markdown",
   "metadata": {},
   "source": [
    "### Cosine similarity on product description"
   ]
  },
  {
   "cell_type": "code",
   "execution_count": 22,
   "metadata": {},
   "outputs": [],
   "source": [
    "from sklearn.metrics.pairwise import cosine_similarity"
   ]
  },
  {
   "cell_type": "code",
   "execution_count": 23,
   "metadata": {},
   "outputs": [],
   "source": [
    "# calculate the cosine similarity between all combinations of documents\n",
    "from itertools import combinations\n",
    "\n",
    "# # list all of the combinations of 5 take 2 as well as the pairs of phrases\n",
    "# corpus = []\n",
    "# for i in product_list['product'][0:100]:\n",
    "#     corpus.append(i)\n",
    "    \n",
    "# pairs = list(combinations(enumerate(corpus),2))\n",
    "# combos = [(a[0], b[0]) for a, b in pairs]\n",
    "# phrases = [(a[1], b[1]) for a, b in pairs]"
   ]
  },
  {
   "cell_type": "code",
   "execution_count": 134,
   "metadata": {},
   "outputs": [],
   "source": [
    "# results_tfidf = [cosine_similarity(rev_td_d_matrix.iloc[a].values.reshape(1,-1), rev_td_d_matrix.iloc[b].values.reshape(1,-1)) for a, b in combos]\n",
    "\n",
    "# results_tfidf\n",
    "# sorted(zip(results_tfidf, phrases), reverse=True)"
   ]
  },
  {
   "cell_type": "markdown",
   "metadata": {},
   "source": [
    "### Cosine similarity on product reviews"
   ]
  },
  {
   "cell_type": "code",
   "execution_count": 25,
   "metadata": {},
   "outputs": [],
   "source": [
    "# calculate the cosine similarity between all combinations of documents\n",
    "from itertools import combinations\n",
    "\n",
    "# list all of the combinations of 5 take 2 as well as the pairs of phrases\n",
    "corpus = []\n",
    "for i in all_review_list['asin']:\n",
    "    corpus.append(i)\n",
    "    \n",
    "pairs = list(combinations(enumerate(corpus),2))\n",
    "combos = [(a[0], b[0]) for a, b in pairs]\n",
    "phrases = [(a[1], b[1]) for a, b in pairs]"
   ]
  },
  {
   "cell_type": "code",
   "execution_count": 26,
   "metadata": {},
   "outputs": [],
   "source": [
    "results_tfidf = [cosine_similarity(H_r.iloc[a].values.reshape(1,-1), H_r.iloc[b].values.reshape(1,-1)) for a, b in combos]\n",
    "\n",
    "results_tfidf\n",
    "sim_asin = sorted(zip(results_tfidf, phrases), reverse=True)"
   ]
  },
  {
   "cell_type": "code",
   "execution_count": 27,
   "metadata": {},
   "outputs": [
    {
     "data": {
      "text/plain": [
       "[(array([[1.]]), ('B00E6QU4WS', 'B01EM45E4G')),\n",
       " (array([[1.]]), ('B00AZJDNR8', 'B00JLQOO7O')),\n",
       " (array([[1.]]), ('B00AGOOFYM', 'B00IS41WTS')),\n",
       " (array([[1.]]), ('B0075RKSR6', 'B00IS41WTS')),\n",
       " (array([[1.]]), ('B0075RKSR6', 'B00AGOOFYM'))]"
      ]
     },
     "execution_count": 27,
     "metadata": {},
     "output_type": "execute_result"
    }
   ],
   "source": [
    "sim_asin[0:5]"
   ]
  },
  {
   "cell_type": "code",
   "execution_count": 28,
   "metadata": {},
   "outputs": [],
   "source": [
    "# save out all_review_list\n",
    "with open('pickles/sim_asin.pickle', 'wb') as to_write:\n",
    "    pickle.dump(sim_asin, to_write)"
   ]
  },
  {
   "cell_type": "code",
   "execution_count": 35,
   "metadata": {},
   "outputs": [],
   "source": [
    "# save out all_review_list\n",
    "with open('pickles/doc_topic.pickle', 'wb') as to_write:\n",
    "    pickle.dump(H_r, to_write)"
   ]
  },
  {
   "cell_type": "code",
   "execution_count": 133,
   "metadata": {},
   "outputs": [],
   "source": [
    "# save out topic words\n",
    "with open('pickles/topic_words_dict.pickle', 'wb') as to_write:\n",
    "    pickle.dump(topic_dict, to_write)"
   ]
  },
  {
   "cell_type": "markdown",
   "metadata": {},
   "source": [
    "###  Visualizing w/ pyLDAvis"
   ]
  },
  {
   "cell_type": "code",
   "execution_count": 42,
   "metadata": {},
   "outputs": [],
   "source": [
    "\n",
    "import pyLDAvis\n",
    "\n",
    "import pyLDAvis.sklearn\n",
    "pyLDAvis.enable_notebook()"
   ]
  },
  {
   "cell_type": "code",
   "execution_count": 69,
   "metadata": {},
   "outputs": [],
   "source": [
    "# need to drop documents that don't match any of the topics (the row sums to zero)\n",
    "a = np.sum(rev_td_r_matrix,axis=1)[np.sum(rev_td_r_matrix,axis=1)==0].index\n",
    "rev_matrix2 = rev_td_r_matrix.drop(index=a)"
   ]
  },
  {
   "cell_type": "code",
   "execution_count": 85,
   "metadata": {},
   "outputs": [],
   "source": [
    "# turn back into sparse matrix\n",
    "from scipy import sparse"
   ]
  },
  {
   "cell_type": "code",
   "execution_count": 86,
   "metadata": {},
   "outputs": [],
   "source": [
    "sparse_rev = sparse.csr_matrix(rev_matrix2.values)\n",
    "type(sparse_rev)"
   ]
  },
  {
   "cell_type": "code",
   "execution_count": 91,
   "metadata": {},
   "outputs": [
    {
     "name": "stderr",
     "output_type": "stream",
     "text": [
      "/Users/Jocelyn/anaconda3/envs/metis/lib/python3.6/site-packages/pyLDAvis/_prepare.py:223: RuntimeWarning: divide by zero encountered in log\n",
      "  kernel = (topic_given_term * np.log((topic_given_term.T / topic_proportion).T))\n",
      "/Users/Jocelyn/anaconda3/envs/metis/lib/python3.6/site-packages/pyLDAvis/_prepare.py:240: RuntimeWarning: divide by zero encountered in log\n",
      "  log_lift = np.log(topic_term_dists / term_proportion)\n",
      "/Users/Jocelyn/anaconda3/envs/metis/lib/python3.6/site-packages/pyLDAvis/_prepare.py:241: RuntimeWarning: divide by zero encountered in log\n",
      "  log_ttd = np.log(topic_term_dists)\n",
      "/Users/Jocelyn/anaconda3/envs/metis/lib/python3.6/site-packages/pyLDAvis/_prepare.py:257: FutureWarning: Sorting because non-concatenation axis is not aligned. A future version\n",
      "of pandas will change to not sort by default.\n",
      "\n",
      "To accept the future behavior, pass 'sort=False'.\n",
      "\n",
      "To retain the current behavior and silence the warning, pass 'sort=True'.\n",
      "\n",
      "  return pd.concat([default_term_info] + list(topic_dfs))\n"
     ]
    },
    {
     "data": {
      "text/html": [
       "\n",
       "<link rel=\"stylesheet\" type=\"text/css\" href=\"https://cdn.rawgit.com/bmabey/pyLDAvis/files/ldavis.v1.0.0.css\">\n",
       "\n",
       "\n",
       "<div id=\"ldavis_el65611137160994961135324169\"></div>\n",
       "<script type=\"text/javascript\">\n",
       "\n",
       "var ldavis_el65611137160994961135324169_data = {\"mdsDat\": {\"x\": [0.30399022440694906, 0.007181781235531611, -0.010101495810473654, -0.09426311162837846, -0.09398057138882893, 0.02800806746588077, -0.09907826525441277, 0.0061467995108146515, -0.0479034285370821], \"y\": [-0.045679337330269264, -0.04165148949426054, 0.30878541417214794, -0.10394488387478003, 0.01312826130777927, 0.03767358609579372, -0.044431804851213945, -0.04905850314206253, -0.07482124288313452], \"topics\": [1, 2, 3, 4, 5, 6, 7, 8, 9], \"cluster\": [1, 1, 1, 1, 1, 1, 1, 1, 1], \"Freq\": [18.479518103698354, 16.767236479155965, 12.95592338764649, 10.55828048410955, 10.352495308931235, 9.42645800495581, 8.901845820521933, 8.170096913121943, 4.388145497858717]}, \"tinfo\": {\"Category\": [\"Default\", \"Default\", \"Default\", \"Default\", \"Default\", \"Default\", \"Default\", \"Default\", \"Default\", \"Default\", \"Default\", \"Default\", \"Default\", \"Default\", \"Default\", \"Default\", \"Default\", \"Default\", \"Default\", \"Default\", \"Default\", \"Default\", \"Default\", \"Default\", \"Default\", \"Default\", \"Default\", \"Default\", \"Default\", \"Default\", \"Topic1\", \"Topic1\", \"Topic1\", \"Topic1\", \"Topic1\", \"Topic1\", \"Topic1\", \"Topic1\", \"Topic1\", \"Topic1\", \"Topic1\", \"Topic1\", \"Topic1\", \"Topic1\", \"Topic1\", \"Topic1\", \"Topic1\", \"Topic1\", \"Topic1\", \"Topic1\", \"Topic1\", \"Topic1\", \"Topic1\", \"Topic1\", \"Topic1\", \"Topic1\", \"Topic1\", \"Topic1\", \"Topic1\", \"Topic1\", \"Topic1\", \"Topic1\", \"Topic1\", \"Topic1\", \"Topic1\", \"Topic1\", \"Topic1\", \"Topic1\", \"Topic1\", \"Topic1\", \"Topic1\", \"Topic1\", \"Topic1\", \"Topic1\", \"Topic1\", \"Topic1\", \"Topic1\", \"Topic1\", \"Topic1\", \"Topic1\", \"Topic1\", \"Topic1\", \"Topic1\", \"Topic1\", \"Topic1\", \"Topic1\", \"Topic1\", \"Topic1\", \"Topic1\", \"Topic1\", \"Topic1\", \"Topic2\", \"Topic2\", \"Topic2\", \"Topic2\", \"Topic2\", \"Topic2\", \"Topic2\", \"Topic2\", \"Topic2\", \"Topic2\", \"Topic2\", \"Topic2\", \"Topic2\", \"Topic2\", \"Topic2\", \"Topic2\", \"Topic2\", \"Topic2\", \"Topic2\", \"Topic2\", \"Topic2\", \"Topic2\", \"Topic2\", \"Topic2\", \"Topic2\", \"Topic2\", \"Topic2\", \"Topic2\", \"Topic2\", \"Topic2\", \"Topic2\", \"Topic2\", \"Topic2\", \"Topic2\", \"Topic2\", \"Topic2\", \"Topic2\", \"Topic2\", \"Topic2\", \"Topic2\", \"Topic2\", \"Topic2\", \"Topic2\", \"Topic2\", \"Topic2\", \"Topic2\", \"Topic2\", \"Topic2\", \"Topic2\", \"Topic2\", \"Topic2\", \"Topic2\", \"Topic2\", \"Topic2\", \"Topic2\", \"Topic2\", \"Topic2\", \"Topic2\", \"Topic2\", \"Topic2\", \"Topic2\", \"Topic2\", \"Topic2\", \"Topic2\", \"Topic2\", \"Topic2\", \"Topic2\", \"Topic2\", \"Topic2\", \"Topic2\", \"Topic2\", \"Topic2\", \"Topic2\", \"Topic2\", \"Topic2\", \"Topic2\", \"Topic2\", \"Topic2\", \"Topic2\", \"Topic2\", \"Topic2\", \"Topic2\", \"Topic2\", \"Topic3\", \"Topic3\", \"Topic3\", \"Topic3\", \"Topic3\", \"Topic3\", \"Topic3\", \"Topic3\", \"Topic3\", \"Topic3\", \"Topic3\", \"Topic3\", \"Topic3\", \"Topic3\", \"Topic3\", \"Topic3\", \"Topic3\", \"Topic3\", \"Topic3\", \"Topic3\", \"Topic3\", \"Topic3\", \"Topic3\", \"Topic3\", \"Topic3\", \"Topic3\", \"Topic3\", \"Topic3\", \"Topic3\", \"Topic3\", \"Topic3\", \"Topic3\", \"Topic3\", \"Topic3\", \"Topic3\", \"Topic3\", \"Topic3\", \"Topic3\", \"Topic3\", \"Topic3\", \"Topic3\", \"Topic3\", \"Topic3\", \"Topic3\", \"Topic3\", \"Topic3\", \"Topic3\", \"Topic3\", \"Topic3\", \"Topic3\", \"Topic3\", \"Topic3\", \"Topic3\", \"Topic3\", \"Topic3\", \"Topic3\", \"Topic3\", \"Topic3\", \"Topic3\", \"Topic3\", \"Topic3\", \"Topic3\", \"Topic3\", \"Topic3\", \"Topic3\", \"Topic4\", \"Topic4\", \"Topic4\", \"Topic4\", \"Topic4\", \"Topic4\", \"Topic4\", \"Topic4\", \"Topic4\", \"Topic4\", \"Topic4\", \"Topic4\", \"Topic4\", \"Topic4\", \"Topic4\", \"Topic4\", \"Topic4\", \"Topic4\", \"Topic4\", \"Topic4\", \"Topic4\", \"Topic4\", \"Topic4\", \"Topic4\", \"Topic4\", \"Topic4\", \"Topic4\", \"Topic4\", \"Topic4\", \"Topic4\", \"Topic4\", \"Topic4\", \"Topic4\", \"Topic4\", \"Topic4\", \"Topic4\", \"Topic4\", \"Topic4\", \"Topic4\", \"Topic4\", \"Topic4\", \"Topic4\", \"Topic4\", \"Topic4\", \"Topic4\", \"Topic4\", \"Topic4\", \"Topic4\", \"Topic4\", \"Topic4\", \"Topic4\", \"Topic4\", \"Topic4\", \"Topic4\", \"Topic4\", \"Topic4\", \"Topic4\", \"Topic4\", \"Topic4\", \"Topic5\", \"Topic5\", \"Topic5\", \"Topic5\", \"Topic5\", \"Topic5\", \"Topic5\", \"Topic5\", \"Topic5\", \"Topic5\", \"Topic5\", \"Topic5\", \"Topic5\", \"Topic5\", \"Topic5\", \"Topic5\", \"Topic5\", \"Topic5\", \"Topic5\", \"Topic5\", \"Topic5\", \"Topic5\", \"Topic5\", \"Topic5\", \"Topic5\", \"Topic5\", \"Topic5\", \"Topic5\", \"Topic5\", \"Topic5\", \"Topic5\", \"Topic5\", \"Topic5\", \"Topic5\", \"Topic5\", \"Topic5\", \"Topic5\", \"Topic5\", \"Topic5\", \"Topic5\", \"Topic5\", \"Topic5\", \"Topic5\", \"Topic5\", \"Topic5\", \"Topic5\", \"Topic5\", \"Topic5\", \"Topic5\", \"Topic5\", \"Topic5\", \"Topic5\", \"Topic5\", \"Topic5\", \"Topic5\", \"Topic5\", \"Topic5\", \"Topic5\", \"Topic5\", \"Topic5\", \"Topic5\", \"Topic5\", \"Topic5\", \"Topic5\", \"Topic5\", \"Topic6\", \"Topic6\", \"Topic6\", \"Topic6\", \"Topic6\", \"Topic6\", \"Topic6\", \"Topic6\", \"Topic6\", \"Topic6\", \"Topic6\", \"Topic6\", \"Topic6\", \"Topic6\", \"Topic6\", \"Topic6\", \"Topic6\", \"Topic6\", \"Topic6\", \"Topic6\", \"Topic6\", \"Topic6\", \"Topic6\", \"Topic6\", \"Topic6\", \"Topic6\", \"Topic6\", \"Topic6\", \"Topic6\", \"Topic6\", \"Topic6\", \"Topic6\", \"Topic6\", \"Topic6\", \"Topic6\", \"Topic6\", \"Topic6\", \"Topic6\", \"Topic6\", \"Topic6\", \"Topic6\", \"Topic6\", \"Topic6\", \"Topic6\", \"Topic6\", \"Topic6\", \"Topic6\", \"Topic6\", \"Topic6\", \"Topic6\", \"Topic6\", \"Topic6\", \"Topic6\", \"Topic6\", \"Topic6\", \"Topic6\", \"Topic6\", \"Topic6\", \"Topic6\", \"Topic6\", \"Topic6\", \"Topic6\", \"Topic6\", \"Topic6\", \"Topic7\", \"Topic7\", \"Topic7\", \"Topic7\", \"Topic7\", \"Topic7\", \"Topic7\", \"Topic7\", \"Topic7\", \"Topic7\", \"Topic7\", \"Topic7\", \"Topic7\", \"Topic7\", \"Topic7\", \"Topic7\", \"Topic7\", \"Topic7\", \"Topic7\", \"Topic7\", \"Topic7\", \"Topic7\", \"Topic7\", \"Topic7\", \"Topic7\", \"Topic7\", \"Topic7\", \"Topic7\", \"Topic7\", \"Topic7\", \"Topic7\", \"Topic7\", \"Topic7\", \"Topic7\", \"Topic7\", \"Topic7\", \"Topic7\", \"Topic7\", \"Topic7\", \"Topic7\", \"Topic7\", \"Topic7\", \"Topic7\", \"Topic7\", \"Topic7\", \"Topic7\", \"Topic7\", \"Topic7\", \"Topic7\", \"Topic7\", \"Topic7\", \"Topic7\", \"Topic7\", \"Topic7\", \"Topic7\", \"Topic7\", \"Topic7\", \"Topic7\", \"Topic7\", \"Topic7\", \"Topic7\", \"Topic7\", \"Topic8\", \"Topic8\", \"Topic8\", \"Topic8\", \"Topic8\", \"Topic8\", \"Topic8\", \"Topic8\", \"Topic8\", \"Topic8\", \"Topic8\", \"Topic8\", \"Topic8\", \"Topic8\", \"Topic8\", \"Topic8\", \"Topic8\", \"Topic8\", \"Topic8\", \"Topic8\", \"Topic8\", \"Topic8\", \"Topic8\", \"Topic8\", \"Topic8\", \"Topic8\", \"Topic8\", \"Topic8\", \"Topic8\", \"Topic8\", \"Topic8\", \"Topic8\", \"Topic8\", \"Topic8\", \"Topic8\", \"Topic8\", \"Topic8\", \"Topic8\", \"Topic8\", \"Topic8\", \"Topic8\", \"Topic8\", \"Topic8\", \"Topic8\", \"Topic8\", \"Topic8\", \"Topic8\", \"Topic8\", \"Topic8\", \"Topic8\", \"Topic8\", \"Topic8\", \"Topic8\", \"Topic8\", \"Topic8\", \"Topic8\", \"Topic8\", \"Topic8\", \"Topic8\", \"Topic8\", \"Topic8\", \"Topic8\", \"Topic8\", \"Topic8\", \"Topic8\", \"Topic8\", \"Topic8\", \"Topic8\", \"Topic8\", \"Topic9\", \"Topic9\", \"Topic9\", \"Topic9\", \"Topic9\", \"Topic9\", \"Topic9\", \"Topic9\", \"Topic9\", \"Topic9\", \"Topic9\", \"Topic9\", \"Topic9\", \"Topic9\", \"Topic9\", \"Topic9\", \"Topic9\", \"Topic9\", \"Topic9\", \"Topic9\", \"Topic9\", \"Topic9\", \"Topic9\", \"Topic9\", \"Topic9\", \"Topic9\", \"Topic9\", \"Topic9\", \"Topic9\", \"Topic9\", \"Topic9\", \"Topic9\", \"Topic9\", \"Topic9\", \"Topic9\", \"Topic9\", \"Topic9\", \"Topic9\", \"Topic9\", \"Topic9\", \"Topic9\", \"Topic9\", \"Topic9\", \"Topic9\", \"Topic9\", \"Topic9\", \"Topic9\", \"Topic9\", \"Topic9\", \"Topic9\", \"Topic9\", \"Topic9\", \"Topic9\", \"Topic9\", \"Topic9\", \"Topic9\", \"Topic9\", \"Topic9\", \"Topic9\", \"Topic9\", \"Topic9\", \"Topic9\", \"Topic9\", \"Topic9\", \"Topic9\"], \"Freq\": [460.0, 558.0, 149.0, 101.0, 116.0, 122.0, 60.0, 102.0, 73.0, 203.0, 82.0, 120.0, 95.0, 158.0, 64.0, 63.0, 42.0, 63.0, 30.0, 37.0, 29.0, 47.0, 69.0, 47.0, 38.0, 41.0, 39.0, 30.0, 33.0, 23.0, 1.959415108119032, 2.2008876031372955, 1.932443118780262, 5.719311697346046, 3.764926168429277, 5.742040735044851, 15.706665307471273, 8.025668515846315, 9.148209551039406, 19.760868234501874, 44.81967243225041, 37.27777151133285, 2.598062497451008, 1.267451115857532, 93.87564009461994, 1.7448927267805647, 4.479132239465122, 7.936824707482742, 6.507339891368497, 1.6358736539834167, 6.940366081753753, 1.7209205644877872, 6.753690054422926, 7.246510278093152, 0.9056867097761008, 19.056027992147396, 2.1593226650413353, 18.708476913025876, 1.9592482290435365, 3.677343925002229, 14.695995803318016, 445.11619224995314, 44.16836110875945, 10.183133323135884, 17.628260217344657, 11.962429764517282, 14.808559169045127, 18.11386493671146, 28.362137640919244, 20.645167078736442, 8.312859329647177, 20.546869672579454, 37.14257418806881, 42.5116371635882, 41.42260225067727, 34.45582248398454, 18.07577985672077, 40.20521553100822, 88.30389166312865, 30.153417847430877, 17.47688731090594, 16.304387546404282, 35.64917590389962, 16.06378321154757, 17.2653361201044, 20.336955772343078, 18.18912082830839, 20.012822630083658, 17.287385272396634, 18.312504567472015, 17.73571219623563, 3.318103916973479, 42.83604902420029, 0.9409217057607902, 1.2962434676972958, 1.109643714976909, 0.7508669077642833, 0.8369257075584651, 2.3204033052414337, 1.0771563385501455, 0.591791232746703, 0.4356166466301367, 10.962339702914255, 6.970690608122061, 0.6207244053622069, 1.8162728813533942, 0.9648902260421014, 0.7523412562343236, 0.6410717989051495, 1.0639109620023932, 0.3733380204581237, 3.946096514687374, 1.6087271821285933, 0.7426741356908424, 1.3463645874582788, 0.4698204315687913, 0.6932940727059813, 1.5873609376690836, 0.7574633583527245, 0.4217173554234782, 9.00036924496836, 3.186772276303347, 12.550911479706452, 2.2688113275789634, 6.890356667645599, 2.3413241096670157, 21.367066449206405, 27.620397572183716, 5.357883447000953, 3.0743380059103913, 2.2196686119221787, 4.125852027017403, 3.758734810840224, 2.157846884214807, 21.09658003017147, 6.896857345806818, 13.414184471806967, 13.643017613719671, 8.224611796906135, 29.610153165480522, 12.933528224293813, 8.63666966989167, 6.25892100481746, 3.876974905862275, 5.43118277929995, 8.845694352811375, 7.858329694480275, 5.654824647432987, 21.542004411347847, 10.747328232745879, 20.12261090590706, 18.750486784927634, 16.46157388271943, 13.600681072324303, 12.894053474291445, 13.353747421683785, 19.754011177564507, 19.64964731089806, 14.436239871243767, 19.890522746538526, 15.074898820409482, 40.31289130941822, 21.54173590155938, 12.188331569045449, 17.023126398357775, 14.702628067189595, 18.589881615984503, 17.302982212503508, 17.473998327012428, 16.45861768249345, 19.74116183901259, 14.243946700952055, 14.220560051044611, 13.110096845962198, 1.762414783720959, 1.602045745580153, 0.9884926910287162, 1.514435217586088, 2.2694473087254337, 1.779779332409998, 1.010654983191108, 379.5414248128475, 2.6391938213014994, 4.582456391897399, 0.6746709011178248, 30.100679881787144, 64.0877108825435, 1.5921636475354044, 3.785804569390691, 1.0287341192818242, 1.4100318329678476, 2.5248065398406747, 0.5358880824743156, 2.091854269428371, 0.8747946413929325, 5.2217058627803326, 26.24619487591118, 0.7769669704782014, 2.087430186440902, 0.9008687976937197, 0.8233288760608031, 8.776414837551679, 1.6638429152850673, 1.8517071733465957, 46.16830907737176, 13.529837216488708, 9.428061392745242, 7.4672937608858625, 16.880525678823464, 5.521579912563641, 7.909029361630106, 62.15996087010818, 26.81907961940533, 7.201534000512209, 7.562824400030995, 66.2920702746531, 19.98035066694273, 22.60252292904608, 13.259428948469385, 12.118054120313834, 12.460774346917274, 23.3707602832045, 11.266165855354936, 22.39145329817452, 18.38434560321824, 27.919311825050496, 30.640155341468354, 54.94935239326852, 18.505143504682188, 14.902590755995327, 22.41133776020295, 18.13280980823507, 23.576296140131138, 19.160068780528025, 19.038531728911906, 16.42345076228391, 13.525956809215971, 13.530484084299726, 13.247541886285784, 29.410982899455608, 21.682292601926004, 2.6440703256967284, 5.321232048312662, 0.5767032301409297, 4.816904479738289, 3.81369639069146, 1.9653301493825985, 30.766803803455137, 1.2997165757820353, 2.5755234549006754, 2.1831844106410108, 1.4105036911161293, 3.177775410131239, 2.661056055241276, 1.080186023273316, 3.2394324141458486, 4.815320182886657, 0.7152549371826414, 1.1313118609078991, 10.84170960738402, 1.3623924646318106, 0.9744430372235854, 1.1183457379190207, 1.3308295274841087, 27.658824186609593, 1.4988037493666706, 10.17625518364594, 0.9268441179401496, 3.549219248766898, 1.6920477158564515, 9.325742297640948, 5.680906934088975, 7.534538951119921, 51.77233074153606, 28.983031189485413, 3.8187601165446425, 17.297029411921354, 63.42086208682183, 19.118112868887735, 7.472497391001596, 9.686179909758172, 11.802245059921413, 12.169682788743978, 18.028844143534478, 23.535130280979235, 32.93624809837022, 19.75481951049257, 21.894283881814182, 11.551525025247004, 15.68120637272727, 17.547412779205015, 12.790903204541344, 10.133819202075468, 10.808652798814176, 9.875291757603868, 9.900831369941487, 15.44018085245176, 9.045550587906586, 20.73627697063362, 1.3782467859890695, 2.481767111394031, 11.619795857940787, 3.7674811364334913, 1.0474703366107998, 0.523348834413519, 104.24243631114435, 5.759909908756513, 10.411925180648623, 1.076564711333766, 16.50208926017734, 1.441548375169055, 6.371917334865881, 1.1450957044544745, 5.555961678289868, 0.8489865434452939, 0.5455161142530601, 4.624251568280284, 2.1370970617198495, 2.578982537625826, 0.6137866036557438, 0.4170647245617467, 0.7966429571566763, 1.0204209866820344, 2.9727417261629165, 0.9485536447825476, 26.929337612483646, 11.826067124908839, 0.4873234787451052, 1.189385442508173, 2.1901292028303, 12.867138938214827, 8.220321730224047, 5.695739225475866, 23.36567199591707, 4.431661320521406, 7.055678510586085, 12.881036686099682, 5.647801800512911, 22.451395060248828, 20.880562537948318, 17.448829782980305, 7.99304416033296, 12.586593257257515, 8.95426971699726, 7.010420672824612, 6.511006845365227, 14.08646249831577, 14.027637361570413, 11.774205016907544, 13.907677998932275, 15.5801198752963, 22.87754825664691, 11.878556547645568, 16.481543053924327, 17.94849194283945, 28.895080739813565, 12.938065972078869, 10.97813972252444, 23.279327380861186, 12.072987625520707, 12.44108236364814, 11.45319881584735, 11.867317965864347, 4.822836253352226, 1.9802738401184603, 60.37478891363589, 6.271740545771968, 6.588497142889848, 6.075211610044785, 0.8895885843280031, 0.6842965159734274, 1.9129433945482692, 4.520017605435654, 6.983074488423302, 13.33155757451841, 0.6120905784831074, 1.8627500414713953, 13.364634309517177, 8.376928752409924, 7.263990468675481, 0.4513103069879684, 6.354260577916698, 1.6138523862369014, 8.717793920583599, 1.823751854989754, 0.7706794497616167, 1.405293785166405, 0.8219471676227338, 2.26813568595048, 1.04601680811706, 1.4217577572034752, 3.349222558939549, 0.6676359404431595, 7.580070858240999, 23.432637173403403, 6.705486731599615, 12.20105945433695, 4.247387123216654, 4.3194340560841, 15.20571533316633, 8.216759781815114, 5.707435675629589, 11.852561753472441, 17.319741145321384, 6.35078885876598, 3.5314517066661137, 6.420763827994299, 12.606859588371014, 7.533115339256057, 4.56115635284801, 25.63228825481757, 12.45742437479776, 11.69575112178186, 9.449599074032845, 23.82943561198854, 25.078561505623775, 10.979983371852706, 10.137047224269, 14.975161601328832, 11.989439000189355, 10.68496790214255, 9.105460659181219, 8.031788670858974, 8.34888663295872, 7.960091133892059, 7.916112296811373, 7.89505547530249, 116.2065684747044, 5.004851137133639, 3.316399766248133, 6.21346991320538, 23.118939603299783, 7.01227906615936, 3.468147120486058, 2.920310433734015, 5.328507396925604, 0.949065110027361, 8.769227737594054, 1.0241934701681055, 29.87030969773743, 4.749900398137687, 3.8883405160334124, 2.856595667368466, 1.3846711293019498, 1.781055838398274, 2.3060438233788916, 0.5392653982993486, 50.03440764732244, 0.2308076071397888, 12.292297729185302, 0.4270851538667494, 3.853059223001155, 0.7421247283124937, 0.39200849128234033, 9.497930092466, 0.8052389624686686, 0.38806404150357765, 27.065866684777884, 4.249798783750953, 22.642953921478775, 34.23136503908377, 5.18448893803312, 1.7397362783796666, 2.6342398102647793, 5.929122493511648, 5.275284124645687, 46.772880727610286, 14.173730680123093, 10.208891553722067, 17.584745242056794, 11.772487898674777, 20.94985166673344, 7.895092291273087, 12.088571312404984, 8.317655416985964, 10.817284781420685, 17.220443055791307, 12.43472189192087, 7.060471623969029, 10.785058098880224, 10.451545954514312, 19.80588633122703, 9.089485982381591, 10.745406359528163, 14.292602238286685, 10.039401821178725, 12.889037626537684, 9.073926136979619, 8.510039046314432, 4.597041090714128, 147.48648364831732, 4.611310543762807, 0.9796568899752274, 1.02289076838504, 1.6538460477864136, 6.961690514812501, 2.961738739412423, 2.7355775527037753, 1.4734490928518205, 2.0543380215614193, 0.7064224482424805, 2.917377463415457, 20.319200138989842, 10.110086195376624, 0.7012531241286759, 1.1357633618251541, 1.4981395540400029, 1.5519419345646952, 0.7584967762297322, 18.030522660506577, 1.2992338413926048, 1.5224593112445577, 0.663745042001555, 0.7934061101361284, 1.5966906691078873, 0.6536076813127025, 0.6565372409727581, 0.6052385807119836, 0.5962000718723668, 33.51307503282886, 6.096493054048274, 2.21016312398058, 4.983755313239787, 1.5220321127178487, 4.570003912752872, 2.5523856161451834, 6.258989921064304, 5.752624646715334, 3.6762484232756085, 8.872524332520237, 4.299468408780558, 7.65597396110642, 4.798165379107493, 6.549696589443604, 7.082793020559654, 4.76241160691382, 8.804872562050086, 12.360027741311193, 7.707685214877742, 9.629238945934313, 12.510739212074597, 6.148787609129838, 8.322854300245428, 16.62809574054615, 6.946722615119086, 15.77511479548992, 9.330769974047337, 8.083013726731053, 8.080848814570029, 8.001536713255776, 10.312353656975494, 6.751948822689126, 7.45405625638751, 7.031034588299359, 7.000294570118993, 6.828713803666988, 6.5267479329559555, 6.64786986092638, 101.16378898226341, 5.899934120029302, 8.013345746639535, 1.1376990496462989, 0.6557350613920748, 6.356660721410668, 0.9608232312846936, 1.7687128678127024, 2.6830472814542086, 0.9977017739846149, 1.388475517573695, 1.0165999307505194, 0.4874732221223632, 0.795379882630116, 0.5654702843214373, 0.7662066912584415, 2.1731308758883294, 0.39619807550313735, 1.9576965573310583, 0.9085450207276409, 1.0138643922703354, 0.758362142082931, 0.29313489513173036, 0.43542348754311594, 0.8956620885595239, 0.6127088346751941, 7.923869071531944, 2.108105041829754, 0.6114416346705274, 0.7305466274759224, 1.001755642577298, 2.7493424158678375, 0.9670716267160395, 4.859871280439428, 5.839297880654692, 1.9156988098280516, 2.6937096583232387, 2.895514133393328, 2.514457010387882, 4.136038803287556, 4.5488186089447415, 4.998869663848835, 4.502110723910825, 2.147014703117182, 13.486672493702063, 4.468497555773858, 2.5338344280511946, 7.747895688773239, 3.8809838103256062, 2.4862506516781564, 12.153063608941558, 4.974291760842218, 4.539650800056489, 5.000282993101958, 4.645369753722217, 4.4702395875010685, 4.83322248841983, 4.698960831308383, 5.490271194049293, 4.4620788867431065, 3.8437024988289163, 3.6584352451444224, 3.281875864597943, 3.3049070154808935, 3.24109124778379], \"Term\": [\"skin\", \"thi\", \"cream\", \"mask\", \"cleans\", \"moist\", \"acn\", \"year\", \"cle\", \"fac\", \"sensit\", \"dry\", \"smel\", \"feel\", \"night\", \"wash\", \"ser\", \"ton\", \"spray\", \"remov\", \"scrub\", \"ord\", \"soft\", \"makeup\", \"greasy\", \"gentl\", \"amazon\", \"neck\", \"refresh\", \"foam\", \"march\", \"nail\", \"arizon\", \"remark\", \"counterfeit\", \"vend\", \"origin\", \"fak\", \"salon\", \"sel\", \"ord\", \"amazon\", \"tamp\", \"blist\", \"year\", \"licens\", \"skinmedic\", \"onlin\", \"auth\", \"scam\", \"reord\", \"meh\", \"discontinu\", \"paid\", \"employ\", \"im\", \"request\", \"item\", \"genuin\", \"surgeon\", \"ship\", \"thi\", \"purchas\", \"jan\", \"spa\", \"pevon\", \"return\", \"disappoint\", \"bought\", \"receiv\", \"expir\", \"sam\", \"pric\", \"recommend\", \"ve\", \"best\", \"happy\", \"tim\", \"hav\", \"diff\", \"old\", \"ing\", \"wil\", \"sev\", \"alway\", \"wond\", \"got\", \"lin\", \"bef\", \"look\", \"smel\", \"botox\", \"ser\", \"frown\", \"nurs\", \"inject\", \"fountain\", \"fat\", \"stem\", \"brow\", \"dilig\", \"lifetim\", \"strivectin\", \"serum\", \"conf\", \"machin\", \"latest\", \"sunspot\", \"war\", \"hydroquinon\", \"gimmick\", \"brown\", \"unit\", \"dep\", \"saggy\", \"cancel\", \"wrink\", \"eras\", \"ha\", \"plung\", \"vitamin\", \"dev\", \"dark\", \"brandt\", \"forehead\", \"crow\", \"wrinkl\", \"result\", \"lift\", \"tip\", \"creas\", \"fil\", \"pig\", \"freckl\", \"ey\", \"drop\", \"spot\", \"ag\", \"retinol\", \"ar\", \"improv\", \"appear\", \"saw\", \"instruct\", \"fad\", \"reduc\", \"firm\", \"claim\", \"lin\", \"pump\", \"week\", \"apply\", \"did\", \"thes\", \"neck\", \"fin\", \"don\", \"diff\", \"ther\", \"mor\", \"som\", \"hav\", \"look\", \"say\", \"day\", \"bottl\", \"wil\", \"just\", \"aft\", \"al\", \"skin\", \"oth\", \"yo\", \"doe\", \"phenom\", \"superb\", \"steady\", \"splotchy\", \"fee\", \"button\", \"rosy\", \"skin\", \"regardless\", \"dehydr\", \"gem\", \"car\", \"sensit\", \"ric\", \"drink\", \"nut\", \"england\", \"compl\", \"demand\", \"psorias\", \"insert\", \"comfort\", \"irrit\", \"keratos\", \"mil\", \"boot\", \"favourit\", \"av\", \"enco\", \"glowy\", \"soft\", \"sooth\", \"calm\", \"comply\", \"combin\", \"penny\", \"del\", \"dry\", \"smoo\", \"dead\", \"bioel\", \"feel\", \"red\", \"hydr\", \"glow\", \"bright\", \"smooth\", \"ton\", \"sup\", \"leav\", \"amaz\", \"look\", \"aft\", \"hav\", \"help\", \"exfo\", \"recommend\", \"week\", \"mak\", \"night\", \"yo\", \"wel\", \"gentl\", \"lin\", \"oi\", \"scrub\", \"mist\", \"grit\", \"spritz\", \"ground\", \"sprays\", \"spraying\", \"sprayed\", \"spray\", \"desk\", \"beard\", \"rosew\", \"nzle\", \"sand\", \"purs\", \"pool\", \"jack\", \"scrubs\", \"toothpast\", \"masculin\", \"ros\", \"fridg\", \"coff\", \"ingrown\", \"peppermint\", \"refresh\", \"peach\", \"set\", \"grab\", \"abras\", \"gritty\", \"shav\", \"anthony\", \"men\", \"smel\", \"ton\", \"bead\", \"exfo\", \"fac\", \"scent\", \"wip\", \"pad\", \"fresh\", \"wat\", \"nic\", \"yo\", \"feel\", \"cle\", \"aft\", \"thes\", \"wash\", \"mak\", \"ar\", \"bottl\", \"just\", \"don\", \"leav\", \"thi\", \"day\", \"spf\", \"ray\", \"uv\", \"protect\", \"matt\", \"dioxid\", \"weightless\", \"moist\", \"lightweight\", \"tint\", \"titan\", \"sunscreen\", \"colorado\", \"shin\", \"afternoon\", \"shiny\", \"spectr\", \"comprom\", \"blend\", \"zint\", \"shad\", \"lightest\", \"mac\", \"bronz\", \"reapply\", \"clim\", \"cakey\", \"greasy\", \"cov\", \"airy\", \"screen\", \"sunblock\", \"heavy\", \"mat\", \"provid\", \"light\", \"soak\", \"ahav\", \"absorb\", \"clog\", \"oi\", \"lot\", \"oil\", \"sun\", \"goe\", \"wint\", \"wear\", \"escu\", \"apply\", \"hydr\", \"nee\", \"doesn\", \"al\", \"fac\", \"littl\", \"dry\", \"feel\", \"thi\", \"day\", \"makeup\", \"skin\", \"doe\", \"mak\", \"just\", \"hav\", \"proact\", \"bp\", \"acn\", \"salicyl\", \"peroxid\", \"benzoyl\", \"benzyl\", \"infect\", \"antibiot\", \"zit\", \"hormon\", \"pimpl\", \"sporad\", \"buff\", \"blem\", \"cyst\", \"teen\", \"clearasil\", \"adult\", \"bleach\", \"glyton\", \"struggled\", \"shrinks\", \"bacter\", \"cyc\", \"effacl\", \"otc\", \"struggle\", \"sulf\", \"pesky\", \"scar\", \"clear\", \"control\", \"tre\", \"prescrib\", \"suff\", \"breakout\", \"acid\", \"glycol\", \"spot\", \"help\", \"heal\", \"son\", \"ed\", \"lot\", \"pron\", \"bump\", \"hav\", \"day\", \"wash\", \"red\", \"skin\", \"thi\", \"ton\", \"oi\", \"fac\", \"dry\", \"aft\", \"week\", \"start\", \"ev\", \"ve\", \"just\", \"al\", \"cleans\", \"waterproof\", \"squeaky\", \"clarison\", \"foam\", \"mascar\", \"stripping\", \"foamy\", \"micell\", \"clairson\", \"lath\", \"swip\", \"remov\", \"thorough\", \"clo\", \"strip\", \"eyelin\", \"trac\", \"stripped\", \"incid\", \"cle\", \"splashing\", \"rins\", \"hypoallerg\", \"milk\", \"drain\", \"nickel\", \"soap\", \"gal\", \"dermo\", \"makeup\", \"brush\", \"gentl\", \"wash\", \"gent\", \"washclo\", \"bioderm\", \"cotton\", \"residu\", \"fac\", \"oil\", \"wat\", \"leav\", \"ey\", \"dry\", \"pump\", \"doesn\", \"tak\", \"bottl\", \"feel\", \"yo\", \"gel\", \"wel\", \"doe\", \"thi\", \"scent\", \"al\", \"hav\", \"sensit\", \"skin\", \"oi\", \"mak\", \"elizabe\", \"cream\", \"ard\", \"weigh\", \"somebody\", \"crme\", \"nux\", \"immortel\", \"nighttim\", \"crep\", \"dens\", \"cloy\", \"frant\", \"jar\", \"rich\", \"sport\", \"study\", \"ceramid\", \"tremend\", \"spatul\", \"neck\", \"precy\", \"laud\", \"methylparab\", \"opportun\", \"divin\", \"whip\", \"parf\", \"die\", \"lancm\", \"night\", \"crem\", \"olay\", \"occit\", \"eyelid\", \"perfum\", \"daytim\", \"elem\", \"firm\", \"luxury\", \"wrinkl\", \"wak\", \"absorb\", \"vichy\", \"heavy\", \"ag\", \"creamy\", \"greasy\", \"day\", \"expend\", \"nic\", \"smel\", \"fragr\", \"scent\", \"fac\", \"morn\", \"hav\", \"just\", \"don\", \"oth\", \"best\", \"feel\", \"ey\", \"ar\", \"littl\", \"al\", \"dry\", \"wil\", \"thi\", \"mask\", \"sheet\", \"clay\", \"liquidy\", \"fabr\", \"mud\", \"pearl\", \"messy\", \"masqu\", \"tricky\", \"charco\", \"walmart\", \"stinky\", \"reserv\", \"chunk\", \"goop\", \"pul\", \"cat\", \"temp\", \"stain\", \"drip\", \"mislead\", \"commerc\", \"city\", \"steam\", \"kay\", \"minut\", \"relax\", \"anxy\", \"lux\", \"detox\", \"inst\", \"slimy\", \"rins\", \"felt\", \"excess\", \"lay\", \"borghes\", \"overnight\", \"left\", \"peel\", \"thes\", \"easy\", \"warm\", \"fac\", \"por\", \"afterward\", \"aft\", \"ont\", \"rub\", \"thi\", \"ar\", \"week\", \"tim\", \"soft\", \"leav\", \"wil\", \"look\", \"feel\", \"yo\", \"apply\", \"amaz\", \"jar\", \"remov\", \"tri\"], \"Total\": [460.0, 558.0, 149.0, 101.0, 116.0, 122.0, 60.0, 102.0, 73.0, 203.0, 82.0, 120.0, 95.0, 158.0, 64.0, 63.0, 42.0, 63.0, 30.0, 37.0, 29.0, 47.0, 69.0, 47.0, 38.0, 41.0, 39.0, 30.0, 33.0, 23.0, 1.959415108119032, 2.2008876031372955, 1.932443118780262, 5.731152870155674, 3.7825407737609935, 5.79764961825769, 16.142638071919997, 8.253604944473272, 9.495263010263203, 20.88520677319629, 47.376636678382134, 39.893785627596365, 2.7923123569365855, 1.3798700001184903, 102.37372628826421, 1.9070450500487237, 4.930793865021242, 8.879540246620541, 7.315753948069839, 1.8573321959756814, 7.909216077578517, 1.962406759000246, 7.753306924655164, 8.421597167064673, 1.0526738540025335, 22.15821570597119, 2.511333668426151, 21.78019391561198, 2.2859567394428986, 4.297701492913113, 17.28013645981312, 558.5974421644238, 53.37912843538329, 12.096648324186896, 21.38344894116715, 14.607726828454364, 18.329573640739348, 22.8246846281845, 39.244014033990226, 29.19170181541084, 10.44304280628212, 30.33258260365483, 61.52463061297405, 78.75362114814713, 78.29534057362821, 62.783271289129765, 28.149600119298537, 84.29112420069528, 252.83886463049944, 61.056279349063026, 29.4884072842773, 26.690695145388194, 90.85072640935866, 26.451815418271917, 30.026502528654447, 44.91470507862252, 35.73219221801631, 60.005786150286816, 42.92973855182497, 87.51858740854188, 95.83155979105791, 3.318103916973479, 42.83604902420029, 0.9409217057607902, 1.2962434676972958, 1.109643714976909, 0.7508669077642833, 0.8494705374434884, 2.3973405581870453, 1.1176461027349307, 0.6240772012972392, 0.46413522545599806, 11.873113745871558, 7.557308467683481, 0.6834859532161118, 2.006744500946202, 1.0708336124760427, 0.8581529929741314, 0.7501145028757602, 1.2635598379664459, 0.4442368454029286, 4.736252316979797, 1.935338430653566, 0.8978195681523955, 1.6303755849419852, 0.5714360506772103, 0.8514005934471613, 1.9557425202969585, 0.9344657490586236, 0.5255166591994999, 11.238205567610258, 3.981765154027124, 16.582193660478268, 2.872947727539487, 9.134721705414513, 2.9860641938252606, 30.23959078172664, 39.80274610384426, 7.212880780476899, 4.005096269597951, 2.8570817074109534, 5.7901805534336885, 5.275105824188732, 2.787863830274901, 40.10800462889001, 10.824233088217383, 25.26674622527941, 26.42807056143387, 14.263131565811317, 69.47171044218328, 25.54840580521544, 15.601011893455512, 10.507919631569493, 5.703620033007416, 8.9091777746209, 16.95384599834309, 14.886978933210486, 9.526599648792052, 60.005786150286816, 23.000353027275967, 55.40967553504028, 50.25916064327605, 42.63622612450726, 33.24375110941121, 30.924576134798023, 33.02764692252486, 60.35999124213866, 61.056279349063026, 38.436743726688974, 65.21049783383114, 43.032838220779475, 252.83886463049944, 87.51858740854188, 32.9230155734149, 69.83986368688213, 51.6164308868599, 90.85072640935866, 76.73763146256437, 100.04723190516114, 83.3781932777173, 460.8718844927998, 62.078261055315494, 89.24396370882528, 67.16787392412766, 1.9310885290678181, 1.7591188679344765, 1.112356228128957, 1.7235508875392511, 2.5866667763745537, 2.045956993132605, 1.2093029692322532, 460.8718844927998, 3.239934924393735, 5.674887904186699, 0.8440297557686839, 38.6944997749466, 82.72383848507845, 2.0747960853473444, 4.962231301587461, 1.357914074636403, 1.869606627208198, 3.3726560356758455, 0.7178458677545648, 2.871994117068377, 1.2078974034497947, 7.23006886286391, 37.29449847747026, 1.1077143853346327, 2.9850998613229387, 1.3234809505382417, 1.2133372626691967, 13.001151204720554, 2.4721020974484413, 2.7713267620135413, 69.20890420793103, 20.966025853732983, 14.671088343082834, 11.699996043527205, 27.541328625824693, 8.627186618513809, 12.760104599688429, 120.88826037553164, 48.73190876148997, 11.560916832800574, 12.336609018621589, 158.03193423892094, 40.31681441156754, 50.39799868346162, 27.43850260000516, 24.967346052937327, 26.509175204260586, 63.33377484454262, 24.205049545770304, 63.38894271988107, 48.385306465919385, 87.51858740854188, 100.04723190516114, 252.83886463049944, 52.85569663806935, 39.01754722611783, 78.75362114814713, 55.40967553504028, 88.10776578182987, 64.3885350464751, 89.24396370882528, 70.35437638766055, 41.145962586413305, 60.005786150286816, 54.909910307783235, 29.410982899455608, 21.682292601926004, 2.6440703256967284, 5.321232048312662, 0.5767032301409297, 4.816904479738289, 3.81369639069146, 1.9653301493825985, 30.766803803455137, 1.3127292242540503, 2.608510711277457, 2.2134126709975592, 1.510313286769991, 3.4218836941521698, 2.865545293674532, 1.1673168015895399, 3.529683411425328, 5.307158833910892, 0.8070240226135992, 1.2838203449810661, 12.415385649885, 1.5648012693581317, 1.1555215383636246, 1.3353441838336044, 1.602628686811595, 33.66030231854835, 1.8346985246464969, 12.959013969996695, 1.1808542881559667, 4.528194027033019, 2.1631556372922174, 12.260102693295655, 7.769411793443123, 10.725190594192163, 95.83155979105791, 63.33377484454262, 5.771052735709957, 39.01754722611783, 203.0644094998016, 46.903783453672375, 14.564568904899943, 20.50161416450227, 26.815269110848, 28.175272074783848, 53.18106784775153, 89.24396370882528, 158.03193423892094, 73.74729260184365, 100.04723190516114, 33.24375110941121, 63.607096519927495, 88.10776578182987, 69.47171044218328, 51.6164308868599, 76.73763146256437, 60.35999124213866, 63.38894271988107, 558.5974421644238, 69.83986368688213, 20.73627697063362, 1.3782467859890695, 2.481767111394031, 12.976824837145646, 4.249545029525356, 1.2134291899158907, 0.6125848768649492, 122.38615176233876, 6.8292863892980655, 12.504660704431194, 1.2947375478588594, 19.888088316741335, 1.8136684280542303, 8.022743584905243, 1.4540279940369378, 7.247889444530575, 1.1077221871829943, 0.7240923740296966, 6.143641137560529, 2.844649076463398, 3.4636868772890823, 0.8248794472081538, 0.5807820565924875, 1.1163034258846944, 1.4385733148544062, 4.197777559274065, 1.3477148796358853, 38.672008217725946, 17.037811058958603, 0.7094757750562298, 1.7530093218381508, 3.3107646141176765, 21.828861087495945, 13.60106484162375, 9.377615441285641, 43.711712184187384, 7.2662816253383955, 12.371914945403356, 26.601436134517733, 10.186058118815957, 54.909910307783235, 50.456528842415736, 42.73520133146641, 16.683471847066716, 30.760958603817844, 21.719410971478915, 15.699038556562671, 14.079223628583023, 50.25916064327605, 50.39799868346162, 39.45976484384033, 53.13079779836592, 83.3781932777173, 203.0644094998016, 54.04510615954635, 120.88826037553164, 158.03193423892094, 558.5974421644238, 69.83986368688213, 47.198828014195854, 460.8718844927998, 67.16787392412766, 88.10776578182987, 76.73763146256437, 252.83886463049944, 4.822836253352226, 1.9802738401184603, 60.37478891363589, 6.271740545771968, 6.588497142889848, 6.075211610044785, 0.8895885843280031, 0.6842965159734274, 1.9129433945482692, 4.520017605435654, 7.001541042001012, 13.479371051419736, 0.6286408055829542, 1.9445082340376707, 13.952968580956417, 8.876581034705534, 7.7187810376693315, 0.49351833999185835, 7.043956969125127, 1.8010968650130823, 9.900376220063997, 2.1676483456186606, 0.9209926071659655, 1.6983324805502342, 0.999878333834557, 2.862737904432691, 1.3901327515991697, 1.9315808295889212, 4.6540498130305945, 0.9640507513598692, 10.958556592742402, 37.47469447489081, 10.084253895867294, 21.708893732672777, 6.536609114244145, 6.711652876996995, 29.656720254009702, 14.338403980957722, 9.902249133163254, 25.26674622527941, 52.85569663806935, 13.188967715626283, 5.661000731821081, 15.034412204521184, 50.456528842415736, 21.044338103448137, 8.767039423652422, 252.83886463049944, 69.83986368688213, 63.607096519927495, 40.31681441156754, 460.8718844927998, 558.5974421644238, 63.33377484454262, 54.909910307783235, 203.0644094998016, 120.88826037553164, 100.04723190516114, 55.40967553504028, 35.15187417031485, 79.48485776618575, 78.29534057362821, 76.73763146256437, 83.3781932777173, 116.63298372172889, 5.086860105819418, 3.3987182486876506, 6.371396322737497, 23.955464614764594, 7.413385312107745, 3.6951420144300107, 3.112553337070579, 6.076906815936836, 1.1159283430514875, 10.875057612182726, 1.2754580870858216, 37.8916774535507, 6.078757730883933, 5.151787138550098, 3.907325143687144, 1.9749175591671733, 2.5539838728482285, 3.31863056698378, 0.7769158761123669, 73.74729260184365, 0.3452789315781186, 19.01176185155692, 0.6758192350575469, 6.208077289727008, 1.1965096871092993, 0.63483197445007, 15.394664020643429, 1.3275932992917578, 0.641405603205056, 47.198828014195854, 7.253596625220567, 41.145962586413305, 63.607096519927495, 9.00320529444114, 2.952423380779453, 4.707350425596202, 11.861178624080383, 11.215522713268168, 203.0644094998016, 42.73520133146641, 28.175272074783848, 63.38894271988107, 40.10800462889001, 120.88826037553164, 23.000353027275967, 53.13079779836592, 27.468135108811783, 51.6164308868599, 158.03193423892094, 89.24396370882528, 22.08453737088327, 70.35437638766055, 67.16787392412766, 558.5974421644238, 46.903783453672375, 83.3781932777173, 252.83886463049944, 82.72383848507845, 460.8718844927998, 54.909910307783235, 88.10776578182987, 4.624641581117748, 149.4249481786611, 4.807977905034859, 1.1752696346561478, 1.253448139372772, 2.0858872339643053, 9.323639201190097, 4.00238010868481, 3.705762757796334, 2.0542199688516822, 2.9384478661962303, 1.0173451228035022, 4.2036644984124525, 29.506604296554087, 14.703694112264522, 1.0718554992024587, 1.7737730924762534, 2.446288554393658, 2.59082041009062, 1.2979927543539018, 30.924576134798023, 2.2912014884910366, 2.6923180770716284, 1.1748617651522737, 1.4153542726685033, 2.851921385356734, 1.1760457077677189, 1.207525603073008, 1.122964050417505, 1.1139171256134526, 64.3885350464751, 11.739301284313466, 4.248013019525035, 10.366248165959941, 2.9011124521481677, 9.894093102150027, 5.523869063639479, 16.510266263946814, 14.886978933210486, 8.866094564048407, 30.23959078172664, 11.406255937640095, 26.601436134517733, 13.899103269194141, 21.828861087495945, 26.42807056143387, 14.388883696316537, 38.672008217725946, 69.83986368688213, 34.2020313873425, 53.18106784775153, 95.83155979105791, 25.41781839008375, 46.903783453672375, 203.0644094998016, 33.16352440822796, 252.83886463049944, 76.73763146256437, 60.35999124213866, 62.078261055315494, 62.783271289129765, 158.03193423892094, 40.10800462889001, 69.47171044218328, 54.04510615954635, 83.3781932777173, 120.88826037553164, 90.85072640935866, 558.5974421644238, 101.16378898226341, 5.9997799959682725, 8.800456944322676, 1.4931359988770123, 0.9417549345466294, 10.26506898110737, 1.6826756877432214, 3.1052898664275506, 4.79562069560405, 1.7855838242862396, 2.5059114907256554, 1.8892735390744448, 0.9148866316412629, 1.5056031462794437, 1.1280435183644162, 1.5835090563860763, 4.5239482937294015, 0.8334075283073991, 4.140194718868497, 1.9591867991534173, 2.1877617896867654, 1.6502392549883758, 0.639437839154571, 0.9946633126011868, 2.08649232495436, 1.4388074313575858, 18.664527221242107, 4.983200416676059, 1.4458883707466907, 1.7510454165778908, 2.412971348933463, 8.30620950284263, 2.5077461127882463, 19.01176185155692, 24.662293077379157, 6.12429661318607, 9.838774949242078, 10.96964861192799, 9.288307518580144, 19.27534586645177, 28.13790285997676, 33.24375110941121, 28.57800713345343, 8.492276193134757, 203.0644094998016, 33.61735317449056, 12.024774987181837, 100.04723190516114, 27.128308768192444, 12.160919980667067, 558.5974421644238, 69.47171044218328, 55.40967553504028, 84.29112420069528, 69.20890420793103, 63.38894271988107, 90.85072640935866, 87.51858740854188, 158.03193423892094, 89.24396370882528, 50.25916064327605, 48.385306465919385, 29.506604296554087, 37.8916774535507, 48.52203583459096], \"loglift\": [30.0, 29.0, 28.0, 27.0, 26.0, 25.0, 24.0, 23.0, 22.0, 21.0, 20.0, 19.0, 18.0, 17.0, 16.0, 15.0, 14.0, 13.0, 12.0, 11.0, 10.0, 9.0, 8.0, 7.0, 6.0, 5.0, 4.0, 3.0, 2.0, 1.0, 1.6885, 1.6885, 1.6885, 1.6864, 1.6838, 1.6789, 1.6611, 1.6605, 1.6513, 1.6332, 1.633, 1.6207, 1.6164, 1.6035, 1.6018, 1.5996, 1.5924, 1.5763, 1.5714, 1.5615, 1.5578, 1.5572, 1.5505, 1.5382, 1.5381, 1.5377, 1.5375, 1.5365, 1.5343, 1.5326, 1.5265, 1.4614, 1.4991, 1.5163, 1.4954, 1.4887, 1.4752, 1.4573, 1.3638, 1.3421, 1.4604, 1.299, 1.1838, 1.072, 1.0518, 1.0885, 1.2455, 0.9482, 0.6365, 0.983, 1.1654, 1.1956, 0.753, 1.1897, 1.1351, 0.8962, 1.0133, 0.5904, 0.7789, 0.1242, 0.0015, 1.7857, 1.7857, 1.7857, 1.7857, 1.7857, 1.7857, 1.7709, 1.7531, 1.7488, 1.7326, 1.7223, 1.7059, 1.7049, 1.6894, 1.686, 1.6816, 1.6542, 1.6287, 1.6138, 1.6119, 1.6032, 1.6009, 1.596, 1.5943, 1.5899, 1.5803, 1.577, 1.5757, 1.5657, 1.5637, 1.563, 1.5072, 1.5497, 1.5038, 1.5425, 1.4384, 1.4204, 1.4884, 1.5213, 1.5333, 1.4469, 1.4468, 1.5296, 1.1433, 1.335, 1.1526, 1.1245, 1.2352, 0.9329, 1.105, 1.1944, 1.2676, 1.3997, 1.2908, 1.1352, 1.1468, 1.2642, 0.7613, 1.0249, 0.7728, 0.7998, 0.8341, 0.892, 0.911, 0.8802, 0.6688, 0.652, 0.8065, 0.5984, 0.7368, -0.0503, 0.3839, 0.7921, 0.3741, 0.5299, 0.1991, 0.2962, 0.0408, 0.1632, -1.3647, 0.3137, -0.0509, 0.1519, 1.9522, 1.9501, 1.9256, 1.9143, 1.9128, 1.9042, 1.8642, 1.8495, 1.8385, 1.8298, 1.8197, 1.7925, 1.7884, 1.7788, 1.773, 1.766, 1.7615, 1.7541, 1.7513, 1.7267, 1.721, 1.7182, 1.6923, 1.689, 1.6859, 1.659, 1.6558, 1.6506, 1.6477, 1.6404, 1.6388, 1.6056, 1.6014, 1.5946, 1.5541, 1.5974, 1.5653, 1.3785, 1.4464, 1.5703, 1.5543, 1.1749, 1.3416, 1.2417, 1.3164, 1.3207, 1.2887, 1.0467, 1.2789, 1.003, 1.0759, 0.9011, 0.8603, 0.5173, 0.9941, 1.0811, 0.7869, 0.9266, 0.7253, 0.8315, 0.4987, 0.5888, 0.9311, 0.5541, 0.6217, 2.2483, 2.2483, 2.2483, 2.2483, 2.2483, 2.2483, 2.2483, 2.2483, 2.2483, 2.2383, 2.2355, 2.2345, 2.1799, 2.1742, 2.1742, 2.1707, 2.1624, 2.151, 2.1275, 2.1218, 2.1127, 2.1097, 2.0778, 2.0709, 2.0624, 2.0519, 2.046, 2.0065, 2.0061, 2.0047, 2.0026, 1.9747, 1.9352, 1.8952, 1.6325, 1.4666, 1.8353, 1.4348, 1.0845, 1.3508, 1.5809, 1.4985, 1.4276, 1.4088, 1.1665, 0.9154, 0.68, 0.931, 0.7288, 1.1912, 0.848, 0.6346, 0.5561, 0.6203, 0.2882, 0.438, 0.3916, -1.3402, 0.2043, 2.2679, 2.2679, 2.2679, 2.1575, 2.1475, 2.1209, 2.1105, 2.1075, 2.0976, 2.0848, 2.0834, 2.0813, 2.0383, 2.0376, 2.0291, 2.0021, 2.0019, 1.9848, 1.9838, 1.982, 1.973, 1.9724, 1.9368, 1.9306, 1.9245, 1.9229, 1.9167, 1.906, 1.9028, 1.8923, 1.88, 1.8547, 1.7394, 1.7644, 1.7693, 1.6416, 1.7735, 1.7063, 1.5427, 1.6782, 1.3736, 1.3856, 1.3722, 1.5321, 1.3743, 1.3819, 1.4617, 1.4967, 0.996, 0.989, 1.0586, 0.9276, 0.5906, 0.0846, 0.7529, 0.2753, 0.0927, -0.6938, 0.5819, 0.8095, -0.7176, 0.5517, 0.3104, 0.3658, -0.791, 2.3616, 2.3616, 2.3616, 2.3616, 2.3616, 2.3616, 2.3616, 2.3616, 2.3616, 2.3616, 2.359, 2.3506, 2.335, 2.3187, 2.3186, 2.3037, 2.3009, 2.2722, 2.2586, 2.2519, 2.2344, 2.1889, 2.1835, 2.1722, 2.1657, 2.1288, 2.0772, 2.0552, 2.0326, 1.9942, 1.9931, 1.8921, 1.9536, 1.7855, 1.9305, 1.9209, 1.6936, 1.8049, 1.8107, 1.6047, 1.2459, 1.6308, 1.8898, 1.5108, 0.9748, 1.3343, 1.7082, 0.0728, 0.6378, 0.6682, 0.9109, -0.6005, -0.7418, 0.6093, 0.6722, -0.2455, 0.0508, 0.1248, 0.5558, 0.8854, 0.1082, 0.0756, 0.0902, 0.0045, 2.4152, 2.4027, 2.3944, 2.3938, 2.3834, 2.3633, 2.3555, 2.3552, 2.2875, 2.2569, 2.2037, 2.1995, 2.181, 2.1722, 2.1376, 2.1057, 2.0638, 2.0585, 2.0549, 2.0538, 2.031, 2.0161, 1.9828, 1.96, 1.9419, 1.9413, 1.9368, 1.936, 1.9189, 1.9164, 1.8628, 1.8843, 1.8216, 1.7993, 1.867, 1.89, 1.8384, 1.7255, 1.6646, 0.9507, 1.3153, 1.4037, 1.1367, 1.1931, 0.6662, 1.3496, 0.9384, 1.2243, 0.8562, 0.2022, 0.448, 1.2785, 0.5435, 0.5585, -0.9205, 0.7779, 0.37, -0.4541, 0.3099, -1.1578, 0.6186, 0.0816, 2.4987, 2.4916, 2.4629, 2.3226, 2.3014, 2.2726, 2.2126, 2.2036, 2.2011, 2.1724, 2.1468, 2.14, 2.1394, 2.1316, 2.1301, 2.0804, 2.0589, 2.0143, 1.9922, 1.9675, 1.9652, 1.9374, 1.9346, 1.9337, 1.9259, 1.9246, 1.9173, 1.8953, 1.8866, 1.8796, 1.8517, 1.8495, 1.8513, 1.7723, 1.8596, 1.7323, 1.7326, 1.5347, 1.5539, 1.6243, 1.2785, 1.529, 1.2592, 1.4411, 1.3009, 1.1879, 1.399, 1.0249, 0.773, 1.0146, 0.7958, 0.4687, 1.0855, 0.7756, 0.0023, 0.9415, -0.2696, 0.3976, 0.4941, 0.4658, 0.4446, -0.2248, 0.7229, 0.2725, 0.4652, 0.0273, -0.369, -0.1286, -1.9264, 3.1263, 3.1095, 3.0326, 2.8544, 2.7643, 2.647, 2.5659, 2.5634, 2.5455, 2.5442, 2.5358, 2.5065, 2.4967, 2.4881, 2.4357, 2.4003, 2.393, 2.3827, 2.3773, 2.3578, 2.3572, 2.3487, 2.3463, 2.3002, 2.2806, 2.2726, 2.2695, 2.266, 2.2656, 2.2521, 2.2472, 2.0206, 2.1734, 1.7622, 1.6856, 1.9641, 1.8309, 1.7943, 1.8196, 1.5872, 1.304, 1.2316, 1.2782, 1.7512, 0.4144, 1.1083, 1.569, 0.568, 1.1818, 1.5388, -0.7016, 0.4896, 0.6244, 0.3015, 0.425, 0.4744, 0.1926, 0.2018, -0.2336, 0.1305, 0.5555, 0.5441, 0.9301, 0.6869, 0.4202], \"logprob\": [30.0, 29.0, 28.0, 27.0, 26.0, 25.0, 24.0, 23.0, 22.0, 21.0, 20.0, 19.0, 18.0, 17.0, 16.0, 15.0, 14.0, 13.0, 12.0, 11.0, 10.0, 9.0, 8.0, 7.0, 6.0, 5.0, 4.0, 3.0, 2.0, 1.0, -7.4725, -7.3563, -7.4864, -6.4013, -6.8194, -6.3974, -5.3911, -6.0625, -5.9316, -5.1615, -4.3425, -4.5268, -7.1904, -7.9082, -3.6032, -7.5885, -6.6457, -6.0737, -6.2722, -7.653, -6.2078, -7.6023, -6.2351, -6.1647, -8.2442, -5.1978, -7.3754, -5.2162, -7.4726, -6.843, -5.4576, -2.0468, -4.3572, -5.8244, -5.2757, -5.6634, -5.45, -5.2485, -4.8001, -5.1177, -6.0274, -5.1225, -4.5304, -4.3954, -4.4214, -4.6055, -5.2506, -4.4512, -3.6644, -4.7389, -5.2843, -5.3537, -4.5715, -5.3686, -5.2965, -5.1327, -5.2444, -5.1488, -5.2952, -5.2376, -5.2696, -6.8485, -4.2906, -8.1088, -7.7885, -7.9439, -8.3345, -8.226, -7.2062, -7.9736, -8.5725, -8.8789, -5.6535, -6.1062, -8.5248, -7.4512, -8.0837, -8.3325, -8.4926, -7.986, -9.0332, -6.6752, -7.5725, -8.3454, -7.7505, -8.8033, -8.4142, -7.5859, -8.3257, -8.9114, -5.8507, -6.8889, -5.5181, -7.2287, -6.1178, -7.1972, -4.9861, -4.7294, -6.3694, -6.9249, -7.2506, -6.6307, -6.7239, -7.2788, -4.9988, -6.1169, -5.4516, -5.4347, -5.9408, -4.6598, -5.4881, -5.8919, -6.2139, -6.6929, -6.3558, -5.868, -5.9864, -6.3154, -4.9779, -5.6733, -5.0461, -5.1167, -5.2469, -5.4378, -5.4912, -5.4561, -5.0646, -5.0699, -5.3782, -5.0577, -5.3349, -4.3513, -4.9779, -5.5475, -5.2134, -5.3599, -5.1253, -5.1971, -5.1872, -5.2471, -5.0652, -5.3916, -5.3933, -5.4746, -7.2234, -7.3188, -7.8016, -7.375, -6.9705, -7.2136, -7.7795, -1.8511, -6.8196, -6.2678, -8.1836, -4.3855, -3.6298, -7.325, -6.4588, -7.7617, -7.4465, -6.8639, -8.4139, -7.052, -7.9238, -6.1372, -4.5225, -8.0424, -7.0541, -7.8945, -7.9845, -5.618, -7.2809, -7.174, -3.9578, -5.1852, -5.5464, -5.7795, -4.9639, -6.0814, -5.7221, -3.6604, -4.501, -5.8158, -5.7668, -3.596, -4.7953, -4.672, -5.2054, -5.2954, -5.2675, -4.6386, -5.3683, -4.6814, -4.8786, -4.4607, -4.3678, -3.7837, -4.872, -5.0885, -4.6805, -4.8923, -4.6298, -4.8372, -4.8436, -4.9914, -5.1855, -5.1851, -5.2063, -4.2041, -4.5089, -6.6131, -5.9137, -8.1359, -6.0133, -6.2468, -6.9098, -4.159, -7.3233, -6.6394, -6.8046, -7.2415, -6.4292, -6.6067, -7.5083, -6.41, -6.0136, -7.9205, -7.462, -5.202, -7.2762, -7.6113, -7.4736, -7.2996, -4.2655, -7.1808, -5.2654, -7.6614, -6.3187, -7.0595, -5.3526, -5.8483, -5.5659, -3.6386, -4.2187, -6.2455, -4.7349, -3.4356, -4.6348, -5.5742, -5.3147, -5.1171, -5.0865, -4.6935, -4.4269, -4.0909, -4.602, -4.4992, -5.1386, -4.833, -4.7205, -5.0367, -5.2695, -5.2051, -5.2954, -5.2928, -4.8485, -5.3832, -4.5339, -7.2449, -6.6568, -5.113, -6.2393, -7.5194, -8.2132, -2.919, -5.8148, -5.2228, -7.492, -4.7623, -7.2, -5.7138, -7.4303, -5.8509, -7.7295, -8.1718, -6.0344, -6.8063, -6.6183, -8.0538, -8.4403, -7.7931, -7.5455, -6.4763, -7.6186, -4.2725, -5.0954, -8.2846, -7.3923, -6.7818, -5.0111, -5.4591, -5.826, -4.4145, -6.077, -5.6119, -5.01, -5.8345, -4.4544, -4.5269, -4.7065, -5.4872, -5.0331, -5.3736, -5.6183, -5.6922, -4.9205, -4.9247, -5.0998, -4.9333, -4.8197, -4.4356, -5.091, -4.7635, -4.6782, -4.2021, -5.0056, -5.1698, -4.4182, -5.0748, -5.0447, -5.1275, -5.092, -5.8987, -6.7888, -3.3715, -5.636, -5.5867, -5.6678, -7.589, -7.8514, -6.8234, -5.9635, -5.5285, -4.8819, -7.9629, -6.85, -4.8794, -5.3466, -5.4891, -8.2676, -5.6229, -6.9934, -5.3067, -6.8711, -7.7325, -7.1318, -7.6681, -6.6531, -7.427, -7.1201, -6.2633, -7.876, -5.4465, -4.3179, -5.5691, -4.9705, -6.0257, -6.0089, -4.7504, -5.3659, -5.7303, -4.9995, -4.6202, -5.6235, -6.2103, -5.6125, -4.9378, -5.4527, -5.9545, -4.2282, -4.9497, -5.0128, -5.2261, -4.3011, -4.25, -5.076, -5.1558, -4.7656, -4.988, -5.1032, -5.2632, -5.3886, -5.3499, -5.3976, -5.4031, -5.4058, -2.6594, -5.8044, -6.2159, -5.5881, -4.2741, -5.4671, -6.1712, -6.3431, -5.7417, -7.4671, -5.2435, -7.3909, -4.0179, -5.8566, -6.0568, -6.3651, -7.0893, -6.8376, -6.5792, -8.0323, -3.5021, -8.8809, -4.9058, -8.2655, -6.0659, -7.713, -8.3512, -5.1637, -7.6314, -8.3614, -4.1165, -5.9679, -4.2949, -3.8816, -5.7691, -6.861, -6.4462, -5.6349, -5.7517, -3.5695, -4.7634, -5.0915, -4.5477, -4.949, -4.3726, -5.3485, -4.9225, -5.2964, -5.0336, -4.5687, -4.8943, -5.4603, -5.0366, -5.068, -4.4288, -5.2077, -5.0403, -4.755, -5.1083, -4.8584, -5.2094, -5.2735, -5.8036, -2.3353, -5.8005, -7.3495, -7.3064, -6.8259, -5.3886, -6.2432, -6.3227, -6.9414, -6.609, -7.6765, -6.2583, -4.3174, -5.0155, -7.6839, -7.2017, -6.9248, -6.8895, -7.6054, -4.4369, -7.0672, -6.9087, -7.7389, -7.5604, -6.8611, -7.7542, -7.7498, -7.8311, -7.8462, -3.8171, -5.5213, -6.5359, -5.7228, -6.9089, -5.8095, -6.392, -5.495, -5.5793, -6.0271, -5.146, -5.8705, -5.2935, -5.7608, -5.4496, -5.3713, -5.7682, -5.1537, -4.8145, -5.2868, -5.0642, -4.8024, -5.5127, -5.21, -4.5179, -5.3907, -4.5706, -5.0957, -5.2392, -5.2395, -5.2494, -4.9957, -5.4192, -5.3202, -5.3787, -5.383, -5.4079, -5.4531, -5.4347, -2.0907, -4.9325, -4.6263, -6.5784, -7.1294, -4.8579, -6.7474, -6.1372, -5.7205, -6.7097, -6.3792, -6.691, -7.4259, -6.9364, -7.2775, -6.9737, -5.9313, -7.6333, -6.0357, -6.8033, -6.6937, -6.984, -7.9345, -7.5389, -6.8176, -7.1973, -4.6375, -5.9616, -7.1994, -7.0214, -6.7057, -5.6961, -6.7409, -5.1264, -4.9428, -6.0573, -5.7165, -5.6443, -5.7854, -5.2877, -5.1926, -5.0982, -5.2029, -5.9433, -4.1057, -5.2104, -5.7777, -4.66, -5.3513, -5.7966, -4.2098, -5.1031, -5.1946, -5.0979, -5.1715, -5.21, -5.1319, -5.1601, -5.0044, -5.2118, -5.361, -5.4104, -5.519, -5.512, -5.5315]}, \"token.table\": {\"Topic\": [4, 2, 3, 5, 8, 2, 4, 6, 6, 6, 7, 2, 3, 4, 5, 6, 7, 8, 9, 5, 3, 4, 7, 9, 1, 2, 3, 5, 8, 2, 3, 4, 5, 1, 2, 4, 5, 6, 7, 8, 9, 1, 2, 3, 4, 5, 6, 7, 8, 9, 1, 2, 3, 4, 6, 7, 8, 9, 1, 2, 2, 4, 5, 6, 9, 1, 2, 3, 6, 8, 2, 4, 5, 6, 8, 9, 2, 4, 5, 6, 7, 8, 9, 8, 1, 1, 3, 5, 7, 6, 4, 7, 4, 1, 2, 4, 5, 6, 7, 8, 9, 6, 6, 1, 3, 4, 5, 6, 7, 8, 9, 3, 5, 7, 1, 3, 5, 6, 6, 6, 2, 5, 1, 3, 1, 4, 9, 2, 1, 2, 4, 6, 7, 1, 2, 4, 5, 6, 7, 6, 2, 8, 3, 5, 6, 7, 2, 3, 4, 9, 5, 2, 2, 6, 1, 2, 4, 7, 6, 2, 3, 4, 6, 3, 5, 3, 6, 8, 9, 1, 2, 3, 6, 5, 8, 9, 9, 2, 3, 7, 8, 7, 7, 9, 4, 6, 7, 9, 7, 1, 2, 3, 4, 6, 7, 9, 1, 5, 7, 9, 3, 5, 6, 7, 8, 4, 5, 3, 5, 6, 7, 3, 9, 3, 8, 1, 2, 3, 5, 2, 5, 6, 7, 4, 7, 1, 2, 5, 6, 8, 3, 5, 7, 8, 2, 8, 1, 3, 5, 8, 8, 8, 2, 6, 6, 2, 5, 6, 2, 3, 4, 5, 6, 8, 3, 5, 8, 2, 3, 4, 9, 3, 5, 1, 2, 3, 4, 3, 4, 8, 2, 4, 9, 2, 4, 1, 2, 3, 4, 5, 6, 7, 8, 9, 8, 1, 2, 4, 6, 8, 9, 2, 5, 1, 2, 6, 8, 9, 1, 6, 4, 8, 1, 2, 3, 4, 5, 6, 7, 8, 9, 1, 2, 3, 4, 5, 6, 7, 8, 2, 3, 4, 5, 6, 7, 8, 9, 7, 3, 5, 2, 9, 2, 5, 7, 3, 5, 6, 7, 8, 9, 2, 4, 5, 6, 7, 8, 9, 1, 2, 3, 6, 6, 7, 1, 4, 8, 8, 1, 3, 3, 2, 5, 6, 9, 1, 2, 3, 4, 5, 6, 7, 8, 9, 4, 5, 6, 7, 9, 3, 4, 6, 7, 9, 1, 2, 3, 4, 5, 7, 8, 1, 2, 6, 2, 7, 8, 2, 8, 2, 7, 9, 1, 2, 4, 5, 6, 7, 8, 9, 2, 6, 1, 2, 3, 3, 2, 3, 4, 5, 7, 8, 9, 2, 3, 4, 5, 7, 8, 9, 2, 5, 8, 2, 3, 4, 5, 6, 8, 2, 3, 8, 7, 7, 2, 6, 2, 2, 4, 5, 7, 8, 4, 7, 8, 2, 2, 3, 4, 7, 8, 9, 4, 2, 7, 2, 4, 5, 6, 7, 8, 9, 3, 3, 4, 7, 3, 4, 7, 1, 1, 2, 3, 4, 5, 9, 3, 2, 3, 4, 6, 6, 8, 1, 2, 4, 5, 6, 7, 8, 9, 1, 2, 4, 6, 7, 8, 9, 4, 3, 5, 8, 4, 4, 4, 2, 1, 2, 3, 5, 6, 7, 8, 9, 1, 2, 3, 5, 6, 7, 8, 9, 1, 2, 3, 5, 6, 8, 3, 5, 7, 8, 1, 2, 3, 4, 5, 6, 6, 3, 4, 5, 8, 9, 2, 1, 2, 4, 6, 8, 2, 3, 6, 8, 7, 6, 1, 2, 4, 6, 7, 4, 2, 3, 2, 3, 4, 5, 9, 2, 9, 2, 3, 5, 6, 7, 1, 2, 4, 4, 1, 4, 6, 1, 2, 5, 8, 9, 1, 2, 4, 5, 6, 7, 8, 9, 3, 9, 3, 8, 2, 4, 7, 1, 8, 2, 3, 4, 5, 6, 8, 9, 3, 4, 5, 7, 9, 2, 3, 4, 5, 6, 7, 9, 1, 2, 8, 1, 2, 4, 5, 6, 7, 8, 5, 2, 5, 1, 2, 3, 8, 9, 2, 4, 5, 6, 7, 8, 9, 1, 2, 3, 4, 5, 8, 9, 2, 4, 5, 6, 7, 8, 8, 9, 4, 7, 8, 9, 2, 1, 2, 3, 4, 5, 6, 7, 8, 9, 2, 4, 5, 7, 1, 7, 4, 9, 3, 9, 2, 3, 5, 6, 7, 5, 1, 4, 5, 4, 9, 8, 7, 3, 3, 5, 7, 2, 3, 4, 5, 6, 9, 2, 9, 4, 3, 5, 8, 9, 1, 2, 3, 4, 5, 6, 7, 8, 9, 2, 3, 4, 5, 6, 7, 8, 9, 1, 4, 7, 9, 1, 2, 8, 2, 3, 4, 5, 6, 7, 8, 2, 3, 4, 5, 7, 8, 9, 2, 3, 6, 8, 9, 5, 8, 2, 3, 4, 8, 9, 4, 4, 5, 7, 8, 3, 5, 6, 7, 2, 4, 5, 6, 7, 9, 2, 7, 8, 1, 2, 3, 6, 7, 8, 1, 6, 1, 2, 3, 4, 6, 7, 9, 8, 1, 2, 9, 1, 6, 1, 2, 4, 5, 6, 7, 8, 9, 2, 6, 8, 9, 2, 4, 6, 7, 1, 2, 8, 4, 9, 2, 3, 4, 6, 9, 1, 2, 3, 4, 4, 5, 7, 8, 6, 6, 1, 3, 3, 2, 6, 6, 4, 1, 2, 3, 4, 5, 6, 7, 9, 8, 2, 6, 1, 2, 3, 4, 5, 7, 8, 9, 6, 3, 5, 6, 7, 2, 5, 1, 2, 5, 3, 2, 9, 1, 2, 5, 6, 7, 1, 2, 4, 6, 8, 9, 4, 5, 5, 1, 2, 4, 8, 9, 1, 3, 5, 6, 7, 8, 1, 2, 3, 6, 8, 9, 2, 3, 6, 8, 9, 3, 4, 7, 9, 3, 2, 4, 9, 1, 2, 4, 7, 9, 1, 3, 1, 9, 2, 4, 5, 7, 2, 6, 8, 9, 2, 3, 1, 2, 8, 3, 5, 7, 8, 4, 7, 9, 4, 5, 4, 3, 2, 4, 5, 7, 9, 2, 6, 1, 1, 2, 5, 6, 7, 9, 4, 2, 6, 8, 9, 2, 4, 5, 6, 7, 8, 9, 1, 2, 6, 2, 4, 5, 7, 8, 5, 4, 4, 1, 2, 6, 3, 5, 6, 7, 2, 2, 5, 2, 4, 1, 2, 3, 6, 8, 2, 5, 4, 5, 7, 9, 5, 6, 4, 5, 6, 1, 6, 7, 6, 2, 3, 5, 6, 7, 9, 1, 3, 4, 9, 1, 4, 5, 7, 8, 9, 1, 2, 3, 4, 5, 8, 9, 2, 3, 5, 8, 2, 3, 5, 4, 7, 3, 4, 5, 7, 8, 9, 2, 4, 5, 6, 7, 8, 9, 8, 4, 6, 7, 3, 4, 5, 8, 9, 1, 3, 4, 9, 8, 5, 5, 3, 6, 8, 2, 6, 4, 4, 4, 4, 4, 7, 9, 1, 2, 3, 6, 7, 8, 3, 4, 9, 2, 7, 3, 7, 7, 2, 8, 6, 6, 2, 8, 3, 5, 6, 6, 9, 2, 5, 6, 2, 5, 2, 5, 2, 3, 4, 5, 6, 7, 8, 9, 3, 1, 7, 2, 4, 5, 6, 7, 8, 9, 1, 6, 2, 9, 2, 4, 5, 6, 7, 8, 9, 2, 4, 6, 9, 1, 3, 4, 5, 6, 7, 8, 9, 6, 7, 1, 2, 3, 4, 5, 6, 7, 8, 9, 2, 5, 2, 6, 5, 3, 4, 6, 4, 4, 7, 2, 6, 8, 9, 8, 1, 2, 4, 5, 6, 7, 8, 9, 9, 2, 5, 1, 2, 4, 5, 6, 7, 8, 9, 1, 2, 4, 5, 7, 8, 2, 3, 4, 3, 4, 8, 9, 2, 4, 5, 7, 9, 4, 6, 7, 9, 7, 9, 2, 4, 5, 7, 9, 7, 2, 5, 6, 7, 8, 9, 2, 3, 4, 6, 9, 8, 5, 1, 2, 3, 4, 5, 6, 7, 8, 8, 1, 2, 3, 4, 5, 6, 7, 8, 9, 3, 5, 8, 2, 4, 7, 9, 1, 3, 4, 5, 7, 8, 9, 2, 2, 8, 1, 3, 6, 7, 8, 2, 3, 4, 5, 6, 7, 8, 9, 5, 6], \"Freq\": [0.8833543739778517, 0.18795977686001902, 0.037591955372003806, 0.4886954198360494, 0.30073564297603045, 0.3487138461603053, 0.06974276923206106, 0.5579421538564885, 0.993792294426536, 0.8517939598863296, 0.14196565998105493, 0.16991974366782076, 0.3098536502177908, 0.21989613886423864, 0.039981116157134296, 0.10994806943211932, 0.04997639519641787, 0.019990558078567148, 0.07996223231426859, 0.6877446679851174, 0.24948491786315655, 0.1663232785754377, 0.3326465571508754, 0.24948491786315655, 0.037838554943896915, 0.5297397692145568, 0.037838554943896915, 0.11351566483169073, 0.2648698846072784, 0.08082823107117613, 0.24248469321352842, 0.08082823107117613, 0.565797617498233, 0.16790961101026255, 0.1918966982974429, 0.09594834914872145, 0.1918966982974429, 0.09594834914872145, 0.131928980079492, 0.08395480550513128, 0.035980630930770544, 0.5661665051990924, 0.0666078241410697, 0.03330391207053485, 0.09991173621160454, 0.03330391207053485, 0.0666078241410697, 0.0666078241410697, 0.03330391207053485, 0.03330391207053485, 0.24800917626619365, 0.020667431355516137, 0.37201376439929046, 0.12400458813309682, 0.06200229406654841, 0.020667431355516137, 0.06200229406654841, 0.08266972542206455, 0.927462746839583, 0.050133121450788264, 0.12870987232829323, 0.7722592339697594, 0.12870987232829323, 1.0455092428243487, 0.6916163240759565, 0.06409840636167269, 0.5768856572550541, 0.19229521908501807, 0.06409840636167269, 0.12819681272334538, 0.37804053543305494, 0.11938122171570156, 0.2785561840033037, 0.0994843514297513, 0.05969061085785078, 0.07958748114380104, 0.43183045025164624, 0.18712652844238004, 0.043183045025164624, 0.08636609005032925, 0.0719717417086077, 0.10076043839205079, 0.0719717417086077, 1.0399382232526606, 1.0349593116419278, 0.9568391788035536, 0.6922463909759171, 0.23074879699197237, 0.07691626566399079, 0.588812856994889, 0.6931144425780262, 0.3465572212890131, 1.150081533892119, 0.3959958894107292, 0.1630571309338297, 0.18635100678151964, 0.06988162754306987, 0.11646937923844977, 0.023293875847689955, 0.023293875847689955, 0.023293875847689955, 0.9876199192929461, 1.1241151444804138, 0.541545531188126, 0.11149466818579065, 0.015927809740827237, 0.04778342922248171, 0.031855619481654475, 0.07963904870413618, 0.1274224779266179, 0.015927809740827237, 0.21243372801873925, 0.21243372801873925, 0.6373011840562177, 0.16211910395969303, 0.6484764158387721, 0.16211910395969303, 0.08105955197984652, 1.110434446281418, 0.9317013741249968, 0.3255398476601361, 0.8138496191503404, 0.7247059504983291, 0.7555832213476995, 0.5469637371497772, 0.18232124571659242, 0.2734818685748886, 0.9041308153894019, 0.27123146175463303, 0.29060513759424966, 0.19373675839616644, 0.03874735167923329, 0.21311043423578307, 0.7134846087800422, 0.07644477951214737, 0.07644477951214737, 0.025481593170715792, 0.07644477951214737, 0.025481593170715792, 1.0099613293282508, 0.69614910874584, 0.34807455437292, 0.3034725324619524, 0.10115751082065079, 0.5057875541032539, 0.06743834054710053, 0.24031388787892896, 0.4806277757578579, 0.16020925858595264, 0.12015694393946448, 0.8958137875528587, 0.8947376075064859, 0.8445496000413066, 0.21113740001032666, 0.1378626427230632, 0.1378626427230632, 0.1378626427230632, 0.5514505708922528, 1.0285376862853923, 0.22812718220523107, 0.11406359110261553, 0.11406359110261553, 0.5703179555130776, 0.9775376543657258, 0.7419967050227804, 0.613451421567054, 0.136322538126012, 0.068161269063006, 0.136322538126012, 0.02584346627598651, 0.15506079765591904, 0.7753039882795952, 0.05168693255197302, 0.4087825200358925, 0.4087825200358925, 0.39905639273413546, 0.8864906217890687, 0.6298154872878262, 0.10496924788130436, 0.10496924788130436, 0.10496924788130436, 0.8961148860737032, 0.941708802289994, 0.9090437065499123, 0.2711963964287959, 0.02711963964287959, 0.6779909910719898, 0.02711963964287959, 0.9945728583670713, 0.05336934771649869, 0.026684673858249346, 0.13342336929124674, 0.026684673858249346, 0.613747498739735, 0.10673869543299738, 0.026684673858249346, 0.23822129350106233, 0.714663880503187, 0.7764295947067694, 0.19410739867669236, 0.09817340411132874, 0.5890404246679725, 0.09817340411132874, 0.09817340411132874, 0.9829506011139031, 0.8654100912875548, 0.551368698121319, 0.6172541721193363, 0.14523627579278503, 0.14523627579278503, 0.10892720684458876, 0.6915563454286997, 0.13831126908573993, 0.8895066583328088, 0.29650221944426963, 0.08547011437266515, 0.1709402287453303, 0.598290800608656, 1.3810392649695105, 1.4630878590767606, 0.19832900090106176, 0.6941515031537161, 0.09916450045053088, 0.5058519216478953, 0.5058519216478953, 1.0574902530456496, 0.2934649282526797, 0.7043158278064314, 0.013384645766172088, 0.9837714638136484, 0.1389961891562156, 0.20849428373432338, 0.34749047289053897, 0.34749047289053897, 0.7000149820049674, 0.3500074910024837, 0.1703678908618251, 0.08518394543091255, 0.1703678908618251, 0.5111036725854753, 0.4868027841044717, 0.9588246034752926, 0.6697779653015178, 1.0001216809699, 0.9012478981177223, 0.7839734757762472, 0.06030565198278825, 0.18091695594836474, 0.2434139917027512, 0.08591082060097101, 0.12886623090145652, 0.18614011130210384, 0.17182164120194202, 0.17182164120194202, 0.18103253145199208, 0.18103253145199208, 0.5430975943559763, 0.08649833006001782, 0.6054883104201249, 0.17299666012003564, 0.08649833006001782, 0.881074672208275, 0.17621493444165498, 0.07836926352660288, 0.15673852705320576, 0.626954108212823, 0.07836926352660288, 1.393056706069812, 0.34031571956880846, 0.6806314391376169, 1.113809539769644, 0.7617717207204276, 0.4144268022253979, 0.7534346913870159, 0.2511448971290053, 0.11727116713845377, 0.3752677348430521, 0.09381693371076302, 0.07036270028307226, 0.023454233427690756, 0.14072540056614452, 0.07036270028307226, 0.04690846685538151, 0.04690846685538151, 0.8905004569186447, 0.49134995318807256, 0.32756663545871506, 0.032756663545871506, 0.04913499531880726, 0.06551332709174301, 0.032756663545871506, 1.6023658578159052, 0.8241107172222513, 0.7886198776991268, 0.1314366462831878, 0.04381221542772927, 0.04381221542772927, 0.04381221542772927, 0.9028405644229455, 0.1289772234889922, 0.3506408013679923, 0.7012816027359846, 0.08932841921984246, 0.19354490830965865, 0.10421648908981619, 0.10421648908981619, 0.1786568384396849, 0.0744403493498687, 0.1488806986997374, 0.05955227947989497, 0.029776139739947485, 0.09410737664763202, 0.037642950659052814, 0.22585770395431687, 0.05646442598857922, 0.2635006546133697, 0.09410737664763202, 0.22585770395431687, 0.018821475329526407, 0.33134530983890453, 0.01656726549194523, 0.16567265491945227, 0.1159708584436166, 0.1159708584436166, 0.09940359295167137, 0.13253812393556183, 0.03313453098389046, 0.835764232227776, 0.8060889863639298, 0.20152224659098245, 0.4570881549874659, 0.4570881549874659, 0.6466970863385956, 0.2771558941451124, 0.0923852980483708, 0.5128703135225949, 0.13235362929615352, 0.09926522197211514, 0.1737141384512015, 0.05790471281706717, 0.01654420366201919, 0.2099516586996858, 0.1049758293498429, 0.1749597155830715, 0.0349919431166143, 0.24494360181630007, 0.0699838862332286, 0.1749597155830715, 0.1330281472127361, 0.2660562944254722, 0.1330281472127361, 0.3990844416382082, 0.6986318925330819, 0.34931594626654094, 0.3028418754771033, 0.2422735003816826, 0.3634102505725239, 1.0811648670060892, 0.9499618482949357, 0.8090280745541548, 0.5348718738193907, 1.0226295022190965, 0.49718650578068146, 0.35513321841477247, 0.142053287365909, 0.1887151895537676, 0.15097215164301406, 0.12581012636917838, 0.10064810109534271, 0.13839113900609623, 0.10064810109534271, 0.10064810109534271, 0.06290506318458919, 0.025162025273835677, 0.16328405744537666, 0.16328405744537666, 0.16328405744537666, 0.16328405744537666, 0.3265681148907533, 0.384442412873129, 0.43570140125621293, 0.0768884825746258, 0.0768884825746258, 0.025629494191541934, 0.08771408826641335, 0.3216183236435156, 0.1754281765328267, 0.11695211768855114, 0.029238029422137785, 0.05847605884427557, 0.23390423537710228, 0.7660602516335102, 0.09575753145418878, 0.09575753145418878, 0.5235862565168248, 0.29919214658104276, 0.17452875217227493, 0.34469535962300824, 0.6893907192460165, 0.5063502500943391, 0.5063502500943391, 1.061847369540368, 0.06894364223886155, 0.04924545874204397, 0.310246390074877, 0.11326455510670112, 0.07386818811306595, 0.23145365608760662, 0.08371727986147474, 0.06401909636465715, 0.5612190177912078, 0.3367314106747247, 0.9692734331023332, 1.1772038651387902, 0.8241731551210417, 0.773195843495226, 0.05062267976740183, 0.41763710808106513, 0.20881855404053257, 0.11390102947665412, 0.1075731945057289, 0.0632783497092523, 0.03163917485462615, 0.16219091985687636, 0.24328637978531456, 0.12164318989265728, 0.08109545992843818, 0.12164318989265728, 0.04054772996421909, 0.24328637978531456, 0.6908247442522191, 0.17270618606305477, 0.17270618606305477, 0.393609633483577, 0.09083299234236393, 0.15138832057060655, 0.12111065645648524, 0.06055532822824262, 0.15138832057060655, 0.5373823685713205, 0.06717279607141506, 0.40303677642849034, 0.960114962071088, 0.9638389049498152, 0.7663068701754561, 0.2189448200501303, 1.331793943320147, 0.039342479541443647, 0.2753973567901055, 0.2753973567901055, 0.15736991816577459, 0.2360548772486619, 0.2378876811833242, 0.2378876811833242, 0.7136630435499727, 0.7173951533360176, 0.03729218587612288, 0.2237531152567373, 0.4475062305134746, 0.2237531152567373, 0.03729218587612288, 0.03729218587612288, 0.6390587863021044, 1.0627876834783416, 0.7532427291802981, 0.2716833003670038, 0.09056110012233459, 0.045280550061167296, 0.22640275030583648, 0.3169638504281711, 0.045280550061167296, 0.045280550061167296, 1.1847923525981252, 0.11107155366294172, 0.22214310732588344, 0.5553577683147086, 0.34025209570921305, 0.12151860561043325, 0.558985585807993, 0.8749071955261113, 0.1457805499925221, 0.1457805499925221, 0.4737867874756968, 0.036445137498130525, 0.07289027499626105, 0.10933541249439158, 0.7216759955606518, 0.3029614746767794, 0.10098715822559313, 0.10098715822559313, 0.6059229493535588, 0.9090563631067571, 0.10100626256741746, 0.032508739824378775, 0.2600699185950302, 0.032508739824378775, 0.422613617716924, 0.032508739824378775, 0.09752621947313632, 0.16254369912189387, 0.6315088606327424, 0.5037474300534052, 0.13992984168150144, 0.13992984168150144, 0.08395790500890087, 0.05597193667260058, 0.05597193667260058, 0.02798596833630029, 0.8468445345289888, 0.07757549034200145, 0.6981794130780131, 0.23272647102600436, 1.134614299341483, 0.9245751741208731, 1.7339941025744363, 1.0701301797389529, 0.6394406998222234, 0.07104896664691371, 0.035524483323456854, 0.035524483323456854, 0.07104896664691371, 0.035524483323456854, 0.07104896664691371, 0.035524483323456854, 0.34804775811900535, 0.1582035264177297, 0.2175298488243783, 0.047461057925318906, 0.1028322921715243, 0.055371234246205395, 0.06328141056709187, 0.007910176320886484, 0.0758209453204742, 0.0758209453204742, 0.1516418906409484, 0.0758209453204742, 0.4549256719228452, 0.0758209453204742, 0.0916218208537524, 0.5955418355493906, 0.0458109104268762, 0.32067637298813334, 0.07567774628702931, 0.17027492914581593, 0.3594692948633892, 0.037838873143514654, 0.037838873143514654, 0.32163042171987455, 0.9997798995975646, 0.45636732808494584, 0.07936823097129493, 0.27778880839953224, 0.1190523464569424, 0.0595261732284712, 0.7914148344643376, 0.8574697643583226, 0.045129987597806454, 0.045129987597806454, 0.045129987597806454, 0.7495539950066876, 0.5088380112291071, 0.2739896983541346, 0.11742415643748626, 0.07828277095832417, 1.2871406425672887, 1.4613548025704575, 0.5994598459442745, 0.18733120185758576, 0.037466240371517155, 0.11239872111455146, 0.037466240371517155, 0.7488705998846876, 0.9011901626647878, 0.8278848825603624, 0.2407837172076554, 0.1203918586038277, 0.1203918586038277, 0.2407837172076554, 0.36117557581148313, 0.7013089891773299, 0.17532724729433247, 0.053627212635885345, 0.6971537642665094, 0.053627212635885345, 0.08044081895382801, 0.10725442527177069, 0.8723521963861329, 0.09182654698801399, 0.04591327349400699, 0.8499345834499543, 0.8266752683886239, 0.08266752683886239, 0.08266752683886239, 0.06778143563722677, 0.10167215345584017, 0.033890717818613386, 0.6778143563722678, 0.10167215345584017, 0.11728274418256646, 0.22153407234484776, 0.1433455762231368, 0.1433455762231368, 0.1042513281622813, 0.1042513281622813, 0.11728274418256646, 0.039094248060855485, 0.6950200410463898, 0.6950200410463898, 0.9027597846875547, 0.8977328537338749, 0.9338518966431608, 0.1839070716976718, 0.8275818226395231, 0.37142713876054223, 0.7428542775210845, 0.20327733994505773, 0.10163866997252886, 0.10163866997252886, 0.20327733994505773, 0.10163866997252886, 0.10163866997252886, 0.3049160099175866, 0.3470636842330548, 0.157756220105934, 0.14198059809534058, 0.28396119619068116, 0.06310248804237359, 0.1556392305894454, 0.10375948705963027, 0.1556392305894454, 0.10375948705963027, 0.051879743529815135, 0.2593987176490757, 0.20751897411926054, 1.0487429229576415, 0.6932043038245548, 0.2772817215298219, 0.11438581904391151, 0.1830173104702584, 0.0228771638087823, 0.5261747676019929, 0.0228771638087823, 0.0686314914263469, 0.0457543276175646, 1.212298358729328, 0.14642818341416533, 0.8785691004849919, 0.33330119115362017, 0.3666313102689822, 0.23331083380753412, 0.08332529778840504, 0.6697313578616416, 0.2405398180109546, 0.14802450339135667, 0.22203675508703502, 0.07401225169567834, 0.12952144046743708, 0.12952144046743708, 0.055509188771758755, 0.20567059561844786, 0.2513751724225474, 0.3199320376286967, 0.03427843260307464, 0.09140915360819905, 0.04570457680409953, 0.05713072100512441, 0.11891424435357045, 0.13873328507916552, 0.4161998552374966, 0.257647529432736, 0.03963808145119015, 0.059457122176785226, 0.5710874147138476, 0.5710874147138476, 0.2255784647402595, 0.11278923237012975, 0.451156929480519, 0.11278923237012975, 0.9966390833795622, 0.1021476361378356, 0.1361968481837808, 0.2723936963675616, 0.2042952722756712, 0.1361968481837808, 0.0226994746972968, 0.1021476361378356, 0.0226994746972968, 0.0113497373486484, 0.08474786701900588, 0.12712180052850883, 0.2330566343022662, 0.5720481023782897, 1.0207127584720566, 0.9442379837680105, 0.7789251852172105, 0.99838095247409, 0.2085235808821701, 0.6255707426465102, 0.22057096520994512, 0.07352365506998171, 0.5881892405598537, 0.07352365506998171, 0.07352365506998171, 0.9412772360825582, 1.0191567017527527, 0.7459074903836309, 0.18647687259590773, 0.3220311284983002, 0.6440622569966004, 0.8511639664010942, 0.8227870117881977, 0.6699943361739458, 0.1610804687716724, 0.1610804687716724, 0.6443218750866896, 0.2143102770611622, 0.16073270779587165, 0.1071551385305811, 0.05357756926529055, 0.05357756926529055, 0.4286205541223244, 0.6059727381815578, 0.6059727381815578, 1.0146528507804462, 0.09805030901946127, 0.8497693448353311, 0.049025154509730634, 0.008170859084955106, 0.04600486270852548, 0.3066990847235032, 0.13801458812557646, 0.12267963388940128, 0.09200972541705096, 0.10734467965322612, 0.06133981694470064, 0.09200972541705096, 0.04600486270852548, 0.12061444226378996, 0.21107527396163242, 0.18092166339568494, 0.09046083169784247, 0.09046083169784247, 0.06030722113189498, 0.21107527396163242, 0.03015361056594749, 0.19483551485927228, 0.09741775742963614, 0.09741775742963614, 0.5845065445778168, 0.9087242788541602, 0.42037762921418637, 0.5820613327581042, 0.22808042662233197, 0.07602680887411066, 0.05068453924940711, 0.30410723549644264, 0.07602680887411066, 0.17739588737292486, 0.05068453924940711, 0.09401842050848172, 0.018803684101696343, 0.33846631383053416, 0.16923315691526708, 0.15042947281357075, 0.18803684101696344, 0.03760736820339269, 0.07765357600372555, 0.2950835888141571, 0.09318429120447065, 0.5280443168253337, 0.015530715200745109, 0.26984997836036845, 0.8095499350811053, 0.7714600111169271, 0.7364236211100187, 0.21450851505973267, 0.7507798027090644, 0.10725425752986634, 0.6621142836786101, 0.19293383372467185, 0.19293383372467185, 0.19293383372467185, 0.48233458431167964, 0.23675143388746908, 0.40065627273264, 0.18211648760574545, 0.1639048388451709, 0.09359965263705812, 0.0701997394777936, 0.397798523707497, 0.09359965263705812, 0.3275987842297034, 0.02339991315926453, 0.23540417494101953, 0.23540417494101953, 0.47080834988203907, 0.5764977347238452, 0.1695581572717192, 0.03391163145434384, 0.03391163145434384, 0.03391163145434384, 0.13564652581737535, 0.900947546585502, 0.11261844332318775, 0.25803304068137856, 0.11058558886344796, 0.18430931477241327, 0.11058558886344796, 0.18430931477241327, 0.036861862954482655, 0.14744745181793062, 0.7065368857187988, 0.9498352596340679, 0.042214900428180796, 0.021107450214090398, 0.9911638933311578, 0.7193557585414976, 0.1449782878418655, 0.22552178108734636, 0.11276089054367318, 0.09665219189457701, 0.11276089054367318, 0.11276089054367318, 0.12886958919276936, 0.03221739729819234, 0.1076622407257318, 0.4306489629029272, 0.2153244814514636, 0.3229867221771954, 0.24388323572381443, 0.48776647144762886, 0.24388323572381443, 0.04877664714476288, 0.8311962518672491, 0.1187423216953213, 0.8281397905395297, 0.5450486750637554, 0.5942915841026886, 0.1776962563586066, 0.39093176398893453, 0.07107850254344264, 0.1776962563586066, 0.1776962563586066, 0.11591264269791214, 0.11591264269791214, 0.6954758561874729, 0.6239748534574684, 0.303211215927217, 0.10107040530907233, 0.10107040530907233, 0.5053520265453616, 1.0624577727189632, 1.0372897885193508, 0.8214830507800311, 0.20537076269500779, 1.035685298677346, 0.7582786266880565, 0.37913931334402823, 0.9644366899916116, 0.8566654730218018, 0.029746541758047078, 0.1487327087902354, 0.35695850109656496, 0.08923962527414124, 0.059493083516094156, 0.17847925054828248, 0.029746541758047078, 0.11898616703218831, 0.43645223042282083, 0.3059690376225393, 0.6119380752450786, 0.601385162842369, 0.16253653049793756, 0.04876095914938127, 0.03250730609958751, 0.06501461219917502, 0.016253653049793756, 0.04876095914938127, 0.016253653049793756, 1.0367343482840896, 0.3801497562277424, 0.1425561585854034, 0.3801497562277424, 0.1425561585854034, 0.07706045296516138, 0.9247254355819365, 0.10663691705648608, 0.21327383411297215, 0.6398215023389164, 0.6963802565311396, 0.2210458508966802, 0.4420917017933604, 0.08695518706292087, 0.47825352884606476, 0.04347759353146043, 0.04347759353146043, 0.34782074825168346, 0.8242922147607383, 0.07493565588733984, 0.01873391397183496, 0.01873391397183496, 0.01873391397183496, 0.03746782794366992, 1.0469211589927636, 0.7255594645064753, 0.6951331500968424, 0.7193825194841402, 0.10276893135487716, 0.06851262090325144, 0.10276893135487716, 0.06851262090325144, 0.546006639099308, 0.27935223395778547, 0.025395657632525954, 0.08888480171384083, 0.038093486448788925, 0.012697828816262977, 0.024803546971535625, 0.12401773485767813, 0.4960709394307125, 0.22323192274382064, 0.07441064091460688, 0.04960709394307125, 0.5308529994244123, 0.05898366660271248, 0.2949183330135624, 0.11796733320542496, 0.05898366660271248, 0.059417172818971076, 0.8318404194655951, 0.029708586409485538, 0.059417172818971076, 0.9259445235806295, 0.20067424875257764, 0.4013484975051553, 0.4013484975051553, 1.0469097816678938, 0.07917305861366347, 0.052782039075775646, 0.7917305861366347, 0.07917305861366347, 0.8850434646543527, 0.12643478066490751, 0.7963895937625035, 0.6641856471083633, 0.089162139435283, 0.178324278870566, 0.267486418305849, 0.445810697176415, 0.7034690502747921, 0.12561947326335574, 0.12561947326335574, 0.07537168395801344, 0.5608866442188597, 0.4206649831641448, 0.818349640531789, 0.1636699281063578, 0.05455664270211927, 0.9639501511133695, 0.272040479722953, 0.06801011993073824, 0.6801011993073824, 0.10519803559585485, 0.6311882135751291, 0.26299508898963714, 0.8859974478603401, 0.1610904450655164, 0.903582068633692, 0.826922636793712, 0.16446124168068849, 0.16446124168068849, 0.2466918625210327, 0.2466918625210327, 0.16446124168068849, 0.6133556029886106, 0.9566722277828984, 0.9478410435047575, 0.692324826883342, 0.1648392444960338, 0.03296784889920676, 0.03296784889920676, 0.06593569779841352, 0.03296784889920676, 0.8767101012599732, 0.5709978959083286, 0.19033263196944286, 0.19033263196944286, 0.09516631598472143, 0.3644866605017164, 0.12149555350057215, 0.12149555350057215, 0.12149555350057215, 0.0911216651254291, 0.12149555350057215, 0.06074777675028607, 1.0768132939995547, 0.27375868113751683, 0.7300231497000448, 0.04264048340525519, 0.40508459234992433, 0.19188217532364837, 0.19188217532364837, 0.17056193362102076, 0.5704476225782024, 0.9860262099753485, 0.9421236779370058, 0.9576156088465282, 0.04788078044232641, 0.04788078044232641, 0.773658490370272, 0.0604420695601775, 0.0362652417361065, 0.120884139120355, 1.0038274065777422, 0.9262556940653355, 0.13232224200933365, 0.15433272968379322, 0.7716636484189661, 0.6048734178353522, 0.15121835445883805, 0.11341376584412853, 0.11341376584412853, 0.03780458861470951, 0.28870970022055464, 0.8661291006616639, 0.734088467702769, 0.16313077060061534, 0.08156538530030767, 1.0000366686831643, 0.7478738334961837, 0.12464563891603063, 0.137971199430287, 0.827827196581722, 0.137971199430287, 0.8680487005923921, 0.05786991337282615, 0.05786991337282615, 1.085785045633702, 0.043396008029455875, 0.8245241525596616, 0.04990540923387426, 0.05207520963534705, 0.02820740521914632, 0.0043396008029455875, 0.8112283963796909, 0.39876445023700846, 0.39876445023700846, 0.39876445023700846, 0.18782956302960632, 0.5426187376410849, 0.05217487861933509, 0.07304483006706913, 0.13565468441027123, 0.01043497572386702, 0.08208174277714668, 0.08208174277714668, 0.5540517637457401, 0.12312261416572001, 0.061561307082860006, 0.08208174277714668, 0.04104087138857334, 0.41495066954146753, 0.45267345768160094, 0.03772278814013341, 0.03772278814013341, 0.1376219711210862, 0.2752439422421724, 0.5504878844843448, 0.32478786112481994, 0.5846181500246759, 0.6646543609735206, 0.07224503923625224, 0.028898015694500897, 0.07224503923625224, 0.07224503923625224, 0.07224503923625224, 0.34857101274711827, 0.11619033758237275, 0.09295227006589821, 0.1394284050988473, 0.11619033758237275, 0.1394284050988473, 0.046476135032949104, 0.797799261563707, 0.17664721263484295, 0.7065888505393718, 0.17664721263484295, 0.6677469587068792, 0.09539242267241131, 0.19078484534482262, 0.047696211336205656, 0.047696211336205656, 0.8417725339595066, 0.046765140775528145, 0.046765140775528145, 0.046765140775528145, 0.770420325264271, 0.9027534264191832, 1.0127179546135432, 1.1603950973884158, 1.5907335176447466, 0.9329615799369182, 0.5145102532827708, 0.4749325414917884, 1.007579474229256, 1.017640725975884, 1.0488511906095288, 1.038011034063864, 0.9396320165337418, 0.8826857010457964, 0.5104158523485913, 0.22758388247633926, 0.25603186778588166, 0.22758388247633926, 0.22758388247633926, 0.028447985309542408, 0.028447985309542408, 0.898992584131123, 0.47927327028239797, 0.47927327028239797, 0.8342577750040118, 0.7677886763140097, 0.3013291114560169, 0.6026582229120337, 0.8118767799139003, 0.9264629511213811, 0.08422390464739829, 0.517710667180736, 0.9226588823978215, 0.5637699682341909, 0.5637699682341909, 0.14899459467388776, 0.14899459467388776, 0.595978378695551, 0.6445998905298521, 0.2148666301766174, 0.419576936033895, 0.4795164983244514, 0.11987912458111286, 0.3020450308475045, 0.604090061695009, 0.15084406063677167, 0.8547830102750394, 1.1652933779724572, 0.45445062936969643, 0.04131369357906332, 0.16525477431625327, 0.04131369357906332, 0.12394108073718994, 0.08262738715812663, 0.08262738715812663, 1.1369328340775298, 0.9307300673618163, 0.7840320353331321, 0.3276523857315963, 0.10921746191053208, 0.07281164127368805, 0.07281164127368805, 0.2912465650947522, 0.07281164127368805, 0.07281164127368805, 1.074378370509833, 0.9068789444652564, 0.2415345334949118, 0.4830690669898236, 0.36423480874314923, 0.10406708821232835, 0.13008386026541044, 0.07805031615924626, 0.10406708821232835, 0.13008386026541044, 0.07805031615924626, 0.42113177763614773, 0.3609700951166981, 0.09024252377917452, 0.1504042062986242, 0.7966380910656117, 0.008950989787254063, 0.02685296936176219, 0.05191574076607357, 0.04475494893627032, 0.035803959149016254, 0.012531385702155689, 0.021482375489409754, 0.16450729643646886, 0.8225364821823443, 0.4745458122584876, 0.14236374367754628, 0.15422738898400845, 0.02372729061292438, 0.02372729061292438, 0.05931822653231095, 0.03559093591938657, 0.01186364530646219, 0.05931822653231095, 0.15994036521848795, 0.7997018260924398, 0.7490456653370664, 0.2496818884456888, 0.7723573025697181, 0.36315536309741814, 0.45789154477500543, 0.17368299974224344, 1.2391204870970702, 0.39154515055131883, 0.7830903011026377, 0.27638441985506396, 0.5527688397101279, 0.046064069975843995, 0.09212813995168799, 0.7719562468361307, 0.3091378946080128, 0.14426435081707265, 0.04121838594773504, 0.10304596486933759, 0.14426435081707265, 0.08243677189547008, 0.12365515784320512, 0.06182757892160256, 0.5600409156930704, 1.0334109881363736, 0.8058773890659635, 0.5236582368709921, 0.11494936906924218, 0.02554430423760937, 0.0894050648316328, 0.10217721695043748, 0.07663291271282811, 0.03831645635641406, 0.03831645635641406, 1.0349021405338255, 0.21584126269852066, 0.07194708756617356, 0.14389417513234712, 0.21584126269852066, 0.35973543783086775, 0.8008395954189509, 0.17796435453754464, 0.08898217726877232, 0.3506847489543166, 0.1753423744771583, 0.3506847489543166, 0.5293039781258462, 1.3331298037382804, 0.2355081199098094, 0.1177540599549047, 0.3532621798647141, 0.2355081199098094, 0.2515442596092616, 0.18865819470694617, 0.5345315516696808, 0.0314430324511577, 0.6774096198465923, 0.33870480992329616, 0.07098423023889623, 0.42590538143337736, 0.07098423023889623, 0.35492115119448114, 0.035492115119448116, 0.9829246128235276, 0.1910945048762817, 0.44588717804465733, 0.0636981682920939, 0.1273963365841878, 0.0636981682920939, 0.0636981682920939, 0.36094779128154775, 0.32485301215339296, 0.05414216869223216, 0.16242650607669648, 0.09023694782038694, 0.8508685756120749, 1.6324268485336122, 0.09949629801889238, 0.12792381173857592, 0.22742010975746832, 0.08528254115905062, 0.1421375685984177, 0.08528254115905062, 0.15635132545825947, 0.08528254115905062, 0.8503070870418161, 0.3962543990874639, 0.20913426618505038, 0.04402826656527376, 0.07704946648922908, 0.03302119992395532, 0.07704946648922908, 0.05503533320659221, 0.07704946648922908, 0.05503533320659221, 0.3222923498796596, 0.4143758784167052, 0.230208821342614, 0.13731954670674407, 0.48061841347360423, 0.27463909341348813, 0.06865977335337203, 0.44528846321021814, 0.2671730779261309, 0.08905769264204362, 0.022264423160510905, 0.04452884632102181, 0.08905769264204362, 0.022264423160510905, 1.174535239576458, 0.6944538420371087, 0.29762307515876085, 0.9182043421503927, 0.029304393898416787, 0.019536262598944525, 0.019536262598944525, 0.009768131299472262, 0.15687335499437874, 0.21289955320665685, 0.268925751418935, 0.07843667749718937, 0.07843667749718937, 0.1344628757094675, 0.011205239642455624, 0.044820958569822496, 0.7030744201623964, 1.1061903816452245], \"Term\": [\"abras\", \"absorb\", \"absorb\", \"absorb\", \"absorb\", \"acid\", \"acid\", \"acid\", \"acn\", \"adult\", \"adult\", \"aft\", \"aft\", \"aft\", \"aft\", \"aft\", \"aft\", \"aft\", \"aft\", \"afternoon\", \"afterward\", \"afterward\", \"afterward\", \"afterward\", \"ag\", \"ag\", \"ag\", \"ag\", \"ag\", \"ahav\", \"ahav\", \"ahav\", \"ahav\", \"al\", \"al\", \"al\", \"al\", \"al\", \"al\", \"al\", \"al\", \"alway\", \"alway\", \"alway\", \"alway\", \"alway\", \"alway\", \"alway\", \"alway\", \"alway\", \"amaz\", \"amaz\", \"amaz\", \"amaz\", \"amaz\", \"amaz\", \"amaz\", \"amaz\", \"amazon\", \"amazon\", \"anthony\", \"anthony\", \"anthony\", \"antibiot\", \"anxy\", \"appear\", \"appear\", \"appear\", \"appear\", \"appear\", \"apply\", \"apply\", \"apply\", \"apply\", \"apply\", \"apply\", \"ar\", \"ar\", \"ar\", \"ar\", \"ar\", \"ar\", \"ar\", \"ard\", \"arizon\", \"auth\", \"av\", \"av\", \"av\", \"bacter\", \"bead\", \"bead\", \"beard\", \"bef\", \"bef\", \"bef\", \"bef\", \"bef\", \"bef\", \"bef\", \"bef\", \"benzoyl\", \"benzyl\", \"best\", \"best\", \"best\", \"best\", \"best\", \"best\", \"best\", \"best\", \"bioderm\", \"bioderm\", \"bioderm\", \"bioel\", \"bioel\", \"bioel\", \"bioel\", \"bleach\", \"blem\", \"blend\", \"blend\", \"blist\", \"boot\", \"borghes\", \"borghes\", \"borghes\", \"botox\", \"bottl\", \"bottl\", \"bottl\", \"bottl\", \"bottl\", \"bought\", \"bought\", \"bought\", \"bought\", \"bought\", \"bought\", \"bp\", \"brandt\", \"brandt\", \"breakout\", \"breakout\", \"breakout\", \"breakout\", \"bright\", \"bright\", \"bright\", \"bright\", \"bronz\", \"brow\", \"brown\", \"brown\", \"brush\", \"brush\", \"brush\", \"brush\", \"buff\", \"bump\", \"bump\", \"bump\", \"bump\", \"button\", \"cakey\", \"calm\", \"calm\", \"calm\", \"calm\", \"car\", \"car\", \"car\", \"car\", \"ceramid\", \"ceramid\", \"charco\", \"chunk\", \"claim\", \"claim\", \"claim\", \"claim\", \"clairson\", \"clarison\", \"clay\", \"cle\", \"cle\", \"cle\", \"cle\", \"cleans\", \"clear\", \"clear\", \"clear\", \"clear\", \"clear\", \"clear\", \"clear\", \"clim\", \"clim\", \"clo\", \"clo\", \"clog\", \"clog\", \"clog\", \"clog\", \"cloy\", \"coff\", \"colorado\", \"combin\", \"combin\", \"combin\", \"combin\", \"comfort\", \"comfort\", \"compl\", \"compl\", \"comply\", \"comply\", \"comply\", \"comprom\", \"conf\", \"control\", \"control\", \"control\", \"cotton\", \"cotton\", \"counterfeit\", \"cov\", \"cov\", \"cream\", \"cream\", \"creamy\", \"creamy\", \"creamy\", \"creamy\", \"creas\", \"creas\", \"crem\", \"crem\", \"crem\", \"crem\", \"crep\", \"crme\", \"crow\", \"cyc\", \"cyst\", \"dark\", \"dark\", \"dark\", \"day\", \"day\", \"day\", \"day\", \"day\", \"day\", \"daytim\", \"daytim\", \"daytim\", \"dead\", \"dead\", \"dead\", \"dead\", \"dehydr\", \"dehydr\", \"del\", \"del\", \"del\", \"del\", \"demand\", \"dens\", \"dens\", \"dep\", \"desk\", \"detox\", \"dev\", \"dev\", \"did\", \"did\", \"did\", \"did\", \"did\", \"did\", \"did\", \"did\", \"did\", \"die\", \"diff\", \"diff\", \"diff\", \"diff\", \"diff\", \"diff\", \"dilig\", \"dioxid\", \"disappoint\", \"disappoint\", \"disappoint\", \"disappoint\", \"disappoint\", \"discontinu\", \"discontinu\", \"divin\", \"divin\", \"doe\", \"doe\", \"doe\", \"doe\", \"doe\", \"doe\", \"doe\", \"doe\", \"doe\", \"doesn\", \"doesn\", \"doesn\", \"doesn\", \"doesn\", \"doesn\", \"doesn\", \"doesn\", \"don\", \"don\", \"don\", \"don\", \"don\", \"don\", \"don\", \"don\", \"drain\", \"drink\", \"drink\", \"drip\", \"drip\", \"drop\", \"drop\", \"drop\", \"dry\", \"dry\", \"dry\", \"dry\", \"dry\", \"dry\", \"easy\", \"easy\", \"easy\", \"easy\", \"easy\", \"easy\", \"easy\", \"ed\", \"ed\", \"ed\", \"ed\", \"effacl\", \"effacl\", \"elem\", \"elem\", \"elem\", \"elizabe\", \"employ\", \"enco\", \"england\", \"eras\", \"escu\", \"escu\", \"escu\", \"ev\", \"ev\", \"ev\", \"ev\", \"ev\", \"ev\", \"ev\", \"ev\", \"ev\", \"excess\", \"excess\", \"excess\", \"excess\", \"excess\", \"exfo\", \"exfo\", \"exfo\", \"exfo\", \"exfo\", \"expend\", \"expend\", \"expend\", \"expend\", \"expend\", \"expend\", \"expend\", \"expir\", \"expir\", \"expir\", \"ey\", \"ey\", \"ey\", \"eyelid\", \"eyelid\", \"eyelin\", \"eyelin\", \"fabr\", \"fac\", \"fac\", \"fac\", \"fac\", \"fac\", \"fac\", \"fac\", \"fac\", \"fad\", \"fad\", \"fak\", \"fat\", \"favourit\", \"fee\", \"feel\", \"feel\", \"feel\", \"feel\", \"feel\", \"feel\", \"feel\", \"felt\", \"felt\", \"felt\", \"felt\", \"felt\", \"felt\", \"felt\", \"fil\", \"fil\", \"fil\", \"fin\", \"fin\", \"fin\", \"fin\", \"fin\", \"fin\", \"firm\", \"firm\", \"firm\", \"foam\", \"foamy\", \"forehead\", \"forehead\", \"fountain\", \"fragr\", \"fragr\", \"fragr\", \"fragr\", \"fragr\", \"frant\", \"frant\", \"frant\", \"freckl\", \"fresh\", \"fresh\", \"fresh\", \"fresh\", \"fresh\", \"fresh\", \"fridg\", \"frown\", \"gal\", \"gel\", \"gel\", \"gel\", \"gel\", \"gel\", \"gel\", \"gel\", \"gem\", \"gent\", \"gent\", \"gent\", \"gentl\", \"gentl\", \"gentl\", \"genuin\", \"glow\", \"glow\", \"glow\", \"glow\", \"glow\", \"glow\", \"glowy\", \"glycol\", \"glycol\", \"glycol\", \"glycol\", \"glyton\", \"glyton\", \"goe\", \"goe\", \"goe\", \"goe\", \"goe\", \"goe\", \"goe\", \"goop\", \"got\", \"got\", \"got\", \"got\", \"got\", \"got\", \"got\", \"grab\", \"greasy\", \"greasy\", \"greasy\", \"grit\", \"gritty\", \"ground\", \"ha\", \"happy\", \"happy\", \"happy\", \"happy\", \"happy\", \"happy\", \"happy\", \"happy\", \"hav\", \"hav\", \"hav\", \"hav\", \"hav\", \"hav\", \"hav\", \"hav\", \"heal\", \"heal\", \"heal\", \"heal\", \"heal\", \"heal\", \"heavy\", \"heavy\", \"heavy\", \"heavy\", \"help\", \"help\", \"help\", \"help\", \"help\", \"help\", \"hormon\", \"hydr\", \"hydr\", \"hydr\", \"hydr\", \"hydr\", \"hydroquinon\", \"im\", \"im\", \"im\", \"im\", \"immortel\", \"improv\", \"improv\", \"improv\", \"improv\", \"incid\", \"infect\", \"ing\", \"ing\", \"ing\", \"ing\", \"ing\", \"ingrown\", \"inject\", \"insert\", \"inst\", \"inst\", \"inst\", \"inst\", \"inst\", \"instruct\", \"instruct\", \"irrit\", \"irrit\", \"irrit\", \"irrit\", \"irrit\", \"item\", \"item\", \"item\", \"jack\", \"jan\", \"jan\", \"jan\", \"jar\", \"jar\", \"jar\", \"jar\", \"jar\", \"just\", \"just\", \"just\", \"just\", \"just\", \"just\", \"just\", \"just\", \"kay\", \"kay\", \"keratos\", \"lancm\", \"latest\", \"lath\", \"lath\", \"laud\", \"laud\", \"lay\", \"lay\", \"lay\", \"lay\", \"lay\", \"lay\", \"lay\", \"leav\", \"leav\", \"leav\", \"leav\", \"leav\", \"left\", \"left\", \"left\", \"left\", \"left\", \"left\", \"left\", \"licens\", \"lift\", \"lift\", \"light\", \"light\", \"light\", \"light\", \"light\", \"light\", \"light\", \"lightest\", \"lightweight\", \"lightweight\", \"lin\", \"lin\", \"lin\", \"lin\", \"liquidy\", \"littl\", \"littl\", \"littl\", \"littl\", \"littl\", \"littl\", \"littl\", \"look\", \"look\", \"look\", \"look\", \"look\", \"look\", \"look\", \"lot\", \"lot\", \"lot\", \"lot\", \"lot\", \"lot\", \"lux\", \"lux\", \"luxury\", \"luxury\", \"luxury\", \"luxury\", \"machin\", \"mak\", \"mak\", \"mak\", \"mak\", \"mak\", \"mak\", \"mak\", \"mak\", \"mak\", \"makeup\", \"makeup\", \"makeup\", \"makeup\", \"march\", \"mascar\", \"masculin\", \"mask\", \"masqu\", \"masqu\", \"mat\", \"mat\", \"mat\", \"mat\", \"mat\", \"matt\", \"meh\", \"men\", \"men\", \"messy\", \"messy\", \"methylparab\", \"micell\", \"mil\", \"milk\", \"milk\", \"milk\", \"minut\", \"minut\", \"minut\", \"minut\", \"minut\", \"minut\", \"mislead\", \"mislead\", \"mist\", \"moist\", \"moist\", \"moist\", \"moist\", \"mor\", \"mor\", \"mor\", \"mor\", \"mor\", \"mor\", \"mor\", \"mor\", \"mor\", \"morn\", \"morn\", \"morn\", \"morn\", \"morn\", \"morn\", \"morn\", \"morn\", \"mud\", \"mud\", \"mud\", \"mud\", \"nail\", \"neck\", \"neck\", \"nee\", \"nee\", \"nee\", \"nee\", \"nee\", \"nee\", \"nee\", \"nic\", \"nic\", \"nic\", \"nic\", \"nic\", \"nic\", \"nic\", \"night\", \"night\", \"night\", \"night\", \"night\", \"nighttim\", \"nighttim\", \"nurs\", \"nut\", \"nux\", \"nux\", \"nux\", \"nzle\", \"occit\", \"occit\", \"occit\", \"occit\", \"oi\", \"oi\", \"oi\", \"oi\", \"oil\", \"oil\", \"oil\", \"oil\", \"oil\", \"oil\", \"olay\", \"olay\", \"olay\", \"old\", \"old\", \"old\", \"old\", \"old\", \"old\", \"onlin\", \"onlin\", \"ont\", \"ont\", \"ont\", \"ont\", \"ont\", \"ont\", \"ont\", \"opportun\", \"ord\", \"ord\", \"ord\", \"origin\", \"otc\", \"oth\", \"oth\", \"oth\", \"oth\", \"oth\", \"oth\", \"oth\", \"oth\", \"overnight\", \"overnight\", \"overnight\", \"overnight\", \"pad\", \"pad\", \"pad\", \"pad\", \"paid\", \"paid\", \"parf\", \"peach\", \"pearl\", \"peel\", \"peel\", \"peel\", \"peel\", \"peel\", \"penny\", \"penny\", \"penny\", \"peppermint\", \"perfum\", \"perfum\", \"perfum\", \"perfum\", \"peroxid\", \"pesky\", \"pevon\", \"pevon\", \"phenom\", \"pig\", \"pig\", \"pimpl\", \"pool\", \"por\", \"por\", \"por\", \"por\", \"por\", \"por\", \"por\", \"por\", \"precy\", \"prescrib\", \"prescrib\", \"pric\", \"pric\", \"pric\", \"pric\", \"pric\", \"pric\", \"pric\", \"pric\", \"proact\", \"pron\", \"pron\", \"pron\", \"pron\", \"protect\", \"protect\", \"provid\", \"provid\", \"provid\", \"psorias\", \"pul\", \"pul\", \"pump\", \"pump\", \"pump\", \"pump\", \"pump\", \"purchas\", \"purchas\", \"purchas\", \"purchas\", \"purchas\", \"purchas\", \"purs\", \"ray\", \"reapply\", \"receiv\", \"receiv\", \"receiv\", \"receiv\", \"receiv\", \"recommend\", \"recommend\", \"recommend\", \"recommend\", \"recommend\", \"recommend\", \"red\", \"red\", \"red\", \"red\", \"red\", \"red\", \"reduc\", \"reduc\", \"reduc\", \"reduc\", \"reduc\", \"refresh\", \"refresh\", \"refresh\", \"refresh\", \"regardless\", \"relax\", \"relax\", \"relax\", \"remark\", \"remov\", \"remov\", \"remov\", \"remov\", \"reord\", \"reord\", \"request\", \"reserv\", \"residu\", \"residu\", \"residu\", \"residu\", \"result\", \"result\", \"result\", \"result\", \"retinol\", \"retinol\", \"return\", \"return\", \"return\", \"ric\", \"rich\", \"rich\", \"rich\", \"rins\", \"rins\", \"rins\", \"ros\", \"ros\", \"rosew\", \"rosy\", \"rub\", \"rub\", \"rub\", \"rub\", \"rub\", \"saggy\", \"salicyl\", \"salon\", \"sam\", \"sam\", \"sam\", \"sam\", \"sam\", \"sam\", \"sand\", \"saw\", \"saw\", \"saw\", \"saw\", \"say\", \"say\", \"say\", \"say\", \"say\", \"say\", \"say\", \"scam\", \"scar\", \"scar\", \"scent\", \"scent\", \"scent\", \"scent\", \"scent\", \"screen\", \"scrub\", \"scrubs\", \"sel\", \"sel\", \"sel\", \"sensit\", \"sensit\", \"sensit\", \"sensit\", \"ser\", \"serum\", \"serum\", \"set\", \"set\", \"sev\", \"sev\", \"sev\", \"sev\", \"sev\", \"shad\", \"shad\", \"shav\", \"shav\", \"shav\", \"sheet\", \"shin\", \"shin\", \"shiny\", \"shiny\", \"shiny\", \"ship\", \"ship\", \"ship\", \"shrinks\", \"skin\", \"skin\", \"skin\", \"skin\", \"skin\", \"skin\", \"skinmedic\", \"slimy\", \"slimy\", \"slimy\", \"smel\", \"smel\", \"smel\", \"smel\", \"smel\", \"smel\", \"smoo\", \"smoo\", \"smoo\", \"smoo\", \"smoo\", \"smoo\", \"smoo\", \"smooth\", \"smooth\", \"smooth\", \"smooth\", \"soak\", \"soak\", \"soak\", \"soap\", \"soap\", \"soft\", \"soft\", \"soft\", \"soft\", \"soft\", \"soft\", \"som\", \"som\", \"som\", \"som\", \"som\", \"som\", \"som\", \"somebody\", \"son\", \"son\", \"son\", \"sooth\", \"sooth\", \"sooth\", \"sooth\", \"sooth\", \"spa\", \"spa\", \"spa\", \"spa\", \"spatul\", \"spectr\", \"spf\", \"splotchy\", \"sporad\", \"sport\", \"spot\", \"spot\", \"spray\", \"sprayed\", \"spraying\", \"sprays\", \"spritz\", \"squeaky\", \"stain\", \"start\", \"start\", \"start\", \"start\", \"start\", \"start\", \"steady\", \"steam\", \"steam\", \"stem\", \"strip\", \"stripped\", \"stripped\", \"stripping\", \"strivectin\", \"strivectin\", \"struggle\", \"struggled\", \"study\", \"study\", \"suff\", \"suff\", \"suff\", \"sulf\", \"sulf\", \"sun\", \"sun\", \"sun\", \"sunblock\", \"sunblock\", \"sunscreen\", \"sunscreen\", \"sunspot\", \"sup\", \"sup\", \"sup\", \"sup\", \"sup\", \"sup\", \"sup\", \"superb\", \"surgeon\", \"swip\", \"tak\", \"tak\", \"tak\", \"tak\", \"tak\", \"tak\", \"tak\", \"tamp\", \"teen\", \"temp\", \"temp\", \"ther\", \"ther\", \"ther\", \"ther\", \"ther\", \"ther\", \"ther\", \"thes\", \"thes\", \"thes\", \"thes\", \"thi\", \"thi\", \"thi\", \"thi\", \"thi\", \"thi\", \"thi\", \"thi\", \"thorough\", \"thorough\", \"tim\", \"tim\", \"tim\", \"tim\", \"tim\", \"tim\", \"tim\", \"tim\", \"tim\", \"tint\", \"tint\", \"tip\", \"tip\", \"titan\", \"ton\", \"ton\", \"ton\", \"toothpast\", \"trac\", \"trac\", \"tre\", \"tre\", \"tre\", \"tre\", \"tremend\", \"tri\", \"tri\", \"tri\", \"tri\", \"tri\", \"tri\", \"tri\", \"tri\", \"tricky\", \"unit\", \"uv\", \"ve\", \"ve\", \"ve\", \"ve\", \"ve\", \"ve\", \"ve\", \"ve\", \"vend\", \"vichy\", \"vichy\", \"vichy\", \"vichy\", \"vichy\", \"vitamin\", \"vitamin\", \"vitamin\", \"wak\", \"wak\", \"wak\", \"walmart\", \"war\", \"warm\", \"warm\", \"warm\", \"warm\", \"wash\", \"wash\", \"wash\", \"wash\", \"washclo\", \"washclo\", \"wat\", \"wat\", \"wat\", \"wat\", \"wat\", \"waterproof\", \"wear\", \"wear\", \"wear\", \"wear\", \"wear\", \"wear\", \"week\", \"week\", \"week\", \"week\", \"week\", \"weigh\", \"weightless\", \"wel\", \"wel\", \"wel\", \"wel\", \"wel\", \"wel\", \"wel\", \"wel\", \"whip\", \"wil\", \"wil\", \"wil\", \"wil\", \"wil\", \"wil\", \"wil\", \"wil\", \"wil\", \"wint\", \"wint\", \"wint\", \"wip\", \"wip\", \"wip\", \"wip\", \"wond\", \"wond\", \"wond\", \"wond\", \"wond\", \"wond\", \"wond\", \"wrink\", \"wrinkl\", \"wrinkl\", \"year\", \"year\", \"year\", \"year\", \"year\", \"yo\", \"yo\", \"yo\", \"yo\", \"yo\", \"yo\", \"yo\", \"yo\", \"zint\", \"zit\"]}, \"R\": 30, \"lambda.step\": 0.01, \"plot.opts\": {\"xlab\": \"PC1\", \"ylab\": \"PC2\"}, \"topic.order\": [1, 7, 4, 9, 6, 5, 2, 8, 3]};\n",
       "\n",
       "function LDAvis_load_lib(url, callback){\n",
       "  var s = document.createElement('script');\n",
       "  s.src = url;\n",
       "  s.async = true;\n",
       "  s.onreadystatechange = s.onload = callback;\n",
       "  s.onerror = function(){console.warn(\"failed to load library \" + url);};\n",
       "  document.getElementsByTagName(\"head\")[0].appendChild(s);\n",
       "}\n",
       "\n",
       "if(typeof(LDAvis) !== \"undefined\"){\n",
       "   // already loaded: just create the visualization\n",
       "   !function(LDAvis){\n",
       "       new LDAvis(\"#\" + \"ldavis_el65611137160994961135324169\", ldavis_el65611137160994961135324169_data);\n",
       "   }(LDAvis);\n",
       "}else if(typeof define === \"function\" && define.amd){\n",
       "   // require.js is available: use it to load d3/LDAvis\n",
       "   require.config({paths: {d3: \"https://cdnjs.cloudflare.com/ajax/libs/d3/3.5.5/d3.min\"}});\n",
       "   require([\"d3\"], function(d3){\n",
       "      window.d3 = d3;\n",
       "      LDAvis_load_lib(\"https://cdn.rawgit.com/bmabey/pyLDAvis/files/ldavis.v1.0.0.js\", function(){\n",
       "        new LDAvis(\"#\" + \"ldavis_el65611137160994961135324169\", ldavis_el65611137160994961135324169_data);\n",
       "      });\n",
       "    });\n",
       "}else{\n",
       "    // require.js not available: dynamically load d3 & LDAvis\n",
       "    LDAvis_load_lib(\"https://cdnjs.cloudflare.com/ajax/libs/d3/3.5.5/d3.min.js\", function(){\n",
       "         LDAvis_load_lib(\"https://cdn.rawgit.com/bmabey/pyLDAvis/files/ldavis.v1.0.0.js\", function(){\n",
       "                 new LDAvis(\"#\" + \"ldavis_el65611137160994961135324169\", ldavis_el65611137160994961135324169_data);\n",
       "            })\n",
       "         });\n",
       "}\n",
       "</script>"
      ],
      "text/plain": [
       "PreparedData(topic_coordinates=              x         y  topics  cluster       Freq\n",
       "topic                                                \n",
       "0      0.303990 -0.045679       1        1  18.479518\n",
       "6      0.007182 -0.041651       2        1  16.767236\n",
       "3     -0.010101  0.308785       3        1  12.955923\n",
       "8     -0.094263 -0.103945       4        1  10.558280\n",
       "5     -0.093981  0.013128       5        1  10.352495\n",
       "4      0.028008  0.037674       6        1   9.426458\n",
       "1     -0.099078 -0.044432       7        1   8.901846\n",
       "7      0.006147 -0.049059       8        1   8.170097\n",
       "2     -0.047903 -0.074821       9        1   4.388145, topic_info=     Category        Freq    Term       Total  loglift  logprob\n",
       "1999  Default  460.000000    skin  460.000000  30.0000  30.0000\n",
       "2253  Default  558.000000     thi  558.000000  29.0000  29.0000\n",
       "487   Default  149.000000   cream  149.000000  28.0000  28.0000\n",
       "1342  Default  101.000000    mask  101.000000  27.0000  27.0000\n",
       "381   Default  116.000000  cleans  116.000000  26.0000  26.0000\n",
       "...       ...         ...     ...         ...      ...      ...\n",
       "104    Topic9    3.843702   apply   50.259161   0.5555  -5.3610\n",
       "80     Topic9    3.658435    amaz   48.385306   0.5441  -5.4104\n",
       "1189   Topic9    3.281876     jar   29.506604   0.9301  -5.5190\n",
       "1791   Topic9    3.304907   remov   37.891677   0.6869  -5.5120\n",
       "2320   Topic9    3.241091     tri   48.522036   0.4202  -5.5315\n",
       "\n",
       "[623 rows x 6 columns], token_table=      Topic      Freq    Term\n",
       "term                         \n",
       "3         4  0.883354   abras\n",
       "5         2  0.187960  absorb\n",
       "5         3  0.037592  absorb\n",
       "5         5  0.488695  absorb\n",
       "5         8  0.300736  absorb\n",
       "...     ...       ...     ...\n",
       "2510      7  0.134463      yo\n",
       "2510      8  0.011205      yo\n",
       "2510      9  0.044821      yo\n",
       "2519      5  0.703074    zint\n",
       "2520      6  1.106190     zit\n",
       "\n",
       "[1323 rows x 3 columns], R=30, lambda_step=0.01, plot_opts={'xlab': 'PC1', 'ylab': 'PC2'}, topic_order=[1, 7, 4, 9, 6, 5, 2, 8, 3])"
      ]
     },
     "execution_count": 91,
     "metadata": {},
     "output_type": "execute_result"
    }
   ],
   "source": [
    "# dimension model\n",
    "# vectorizer model\n",
    "# doc-term matrix\n",
    "pyLDAvis.sklearn.prepare(nmf, sparse_rev, tfidf_r)"
   ]
  },
  {
   "cell_type": "code",
   "execution_count": null,
   "metadata": {},
   "outputs": [],
   "source": []
  }
 ],
 "metadata": {
  "kernelspec": {
   "display_name": "Python [conda env:metis] *",
   "language": "python",
   "name": "conda-env-metis-py"
  },
  "language_info": {
   "codemirror_mode": {
    "name": "ipython",
    "version": 3
   },
   "file_extension": ".py",
   "mimetype": "text/x-python",
   "name": "python",
   "nbconvert_exporter": "python",
   "pygments_lexer": "ipython3",
   "version": "3.6.9"
  }
 },
 "nbformat": 4,
 "nbformat_minor": 2
}
