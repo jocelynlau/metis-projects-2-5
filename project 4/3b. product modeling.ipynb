{
 "cells": [
  {
   "cell_type": "markdown",
   "metadata": {},
   "source": [
    "## Set up"
   ]
  },
  {
   "cell_type": "code",
   "execution_count": 1,
   "metadata": {},
   "outputs": [],
   "source": [
    "from pymongo import MongoClient\n",
    "from pprint import pprint\n",
    "\n",
    "import pandas as pd\n",
    "import re\n",
    "import nltk\n",
    "\n",
    "import pickle\n",
    "import json"
   ]
  },
  {
   "cell_type": "code",
   "execution_count": 2,
   "metadata": {},
   "outputs": [],
   "source": [
    "from bson.objectid import ObjectId"
   ]
  },
  {
   "cell_type": "code",
   "execution_count": 3,
   "metadata": {},
   "outputs": [],
   "source": [
    "from sklearn.feature_extraction.text import CountVectorizer\n",
    "from sklearn.feature_extraction.text import TfidfVectorizer\n",
    "\n",
    "from sklearn.feature_extraction.text import CountVectorizer \n",
    "from sklearn.decomposition import TruncatedSVD\n",
    "from sklearn.decomposition import NMF\n",
    "from sklearn.metrics.pairwise import cosine_similarity"
   ]
  },
  {
   "cell_type": "code",
   "execution_count": 4,
   "metadata": {},
   "outputs": [
    {
     "name": "stderr",
     "output_type": "stream",
     "text": [
      "[nltk_data] Downloading package wordnet to /Users/Jocelyn/nltk_data...\n",
      "[nltk_data]   Package wordnet is already up-to-date!\n"
     ]
    },
    {
     "data": {
      "text/plain": [
       "True"
      ]
     },
     "execution_count": 4,
     "metadata": {},
     "output_type": "execute_result"
    }
   ],
   "source": [
    "# stemming\n",
    "from nltk.stem.lancaster import LancasterStemmer\n",
    "from nltk.stem.porter import PorterStemmer\n",
    "from nltk.stem.snowball import SnowballStemmer\n",
    "nltk.download('wordnet')"
   ]
  },
  {
   "cell_type": "code",
   "execution_count": 5,
   "metadata": {},
   "outputs": [],
   "source": [
    "# This creates a client that uses the default port on localhost.\n",
    "# If connecting to AWS, you need a connection string.\n",
    "# Can do the same thing with MongoClient(\"mongodb://localhost:27017\")\n",
    "# client = MongoClient()\n",
    "client = MongoClient(\"mongodb://localhost:27017\")"
   ]
  },
  {
   "cell_type": "code",
   "execution_count": 6,
   "metadata": {},
   "outputs": [],
   "source": [
    "# Makes it look similar to shell mongo\n",
    "db = client.amazon_lb"
   ]
  },
  {
   "cell_type": "code",
   "execution_count": 7,
   "metadata": {},
   "outputs": [
    {
     "data": {
      "text/plain": [
       "['product_reviews',\n",
       " 'skin_care_face_rev_agg',\n",
       " 'product_metadata',\n",
       " 'skin_care_face_reviews',\n",
       " 'skin_care_face_prod_rev',\n",
       " 'skin_care_face_products']"
      ]
     },
     "execution_count": 7,
     "metadata": {},
     "output_type": "execute_result"
    }
   ],
   "source": [
    "db.list_collection_names()"
   ]
  },
  {
   "cell_type": "code",
   "execution_count": 8,
   "metadata": {},
   "outputs": [],
   "source": [
    "# cursor = db.skin_care_face_products.find()\n",
    "# products = list(cursor)\n",
    "# products[0]"
   ]
  },
  {
   "cell_type": "code",
   "execution_count": 9,
   "metadata": {},
   "outputs": [],
   "source": [
    "# cursor = db.skin_care_face_prod_rev.find()\n",
    "# products = list(cursor)\n",
    "# products[0]"
   ]
  },
  {
   "cell_type": "code",
   "execution_count": 10,
   "metadata": {},
   "outputs": [],
   "source": [
    "# import product list\n",
    "with open('pickles/product_list.pickle', 'rb') as to_read:\n",
    "    product_list = pickle.load(to_read)\n",
    "\n",
    "with open('pickles/review_list.pickle', 'rb') as to_read:\n",
    "    review_list = pickle.load(to_read)\n",
    "    \n",
    "with open('pickles/all_review_list.pickle', 'rb') as to_read:\n",
    "    all_review_list = pickle.load(to_read)\n",
    "# product_list.head(5)"
   ]
  },
  {
   "cell_type": "code",
   "execution_count": 11,
   "metadata": {},
   "outputs": [
    {
     "name": "stdout",
     "output_type": "stream",
     "text": [
      "A 5% liquid benzoyl peroxide acne treatment used to spot-treat affected areas, penetrate pores to clear existing acne blemishes and prevent the occurrence of future breakouts. PCA SKIN is a trusted innovator in the development of highly effective skincare products. Our vision is to improve peoples lives by providing results-oriented skin care solutions for the health of your unique skin. \n"
     ]
    }
   ],
   "source": [
    "print(product_list['description'][8])"
   ]
  },
  {
   "cell_type": "markdown",
   "metadata": {},
   "source": [
    "### Text processing"
   ]
  },
  {
   "cell_type": "code",
   "execution_count": 12,
   "metadata": {},
   "outputs": [],
   "source": [
    "#Compound phrases\n",
    "from nltk.tokenize import word_tokenize\n",
    "from nltk.tokenize import MWETokenizer # multi-word expression\n",
    "\n",
    "mwe_tokenizer = MWETokenizer([('times','a','day'),('holy','grail'),('t','zone')])"
   ]
  },
  {
   "cell_type": "code",
   "execution_count": 13,
   "metadata": {},
   "outputs": [],
   "source": [
    "# Text preprocessing steps - remove numbers, captial letters and punctuation\n",
    "import re\n",
    "import string\n",
    "\n",
    "remove_links = lambda x: re.sub('<[^<]+?>', '', x)\n",
    "alphanumeric = lambda x: re.sub('\\w*\\d\\w*', ' ', x)\n",
    "punc_lower = lambda x: re.sub('[%s]' % re.escape(string.punctuation), ' ', x.lower())\n",
    "\n",
    "#custom stop words\n",
    "more_stop_words = lambda x: re.sub('oz|ml|mls|ounce|ounces','',x)\n",
    "# more_stop_words2 = lambda x: re.sub('use|using|product|products|work|works|working|buy|buys|buying|stuff','',x)\n",
    "more_stop_words2 = lambda x: re.sub('use|using|product|products|work|works|working|buy|buys|buying|stuff|good|excellent|great|bad|terrible|like|love|really','',x)\n",
    "more_stop_words3 = lambda x: re.sub('face|skin','',x)\n",
    "#custom replacements\n",
    "mwe = lambda x: ' '.join(mwe_tokenizer.tokenize(word_tokenize(x)))\n",
    "\n",
    "product_list['description'] = product_list.description.map(remove_links).map(alphanumeric).map(punc_lower)\n",
    "all_review_list['all_review_text'] = all_review_list.all_review_text.map(remove_links).map(alphanumeric).map(punc_lower).map(more_stop_words).map(more_stop_words2).map(mwe)\n"
   ]
  },
  {
   "cell_type": "code",
   "execution_count": 14,
   "metadata": {},
   "outputs": [],
   "source": [
    "# Stemmers\n",
    "\n",
    "stemmer = LancasterStemmer()\n",
    "# stemmer = PorterStemmer()\n",
    "# stemmer = SnowballStemmer('english')\n",
    "# lemmatizer = WordNetLemmatizer()\n",
    "\n",
    "all_review_list['all_review_text']=[' '.join([stemmer.stem(word) for word in text.split(' ')])\n",
    "          for text in all_review_list['all_review_text']]"
   ]
  },
  {
   "cell_type": "markdown",
   "metadata": {},
   "source": [
    "### Vectorize"
   ]
  },
  {
   "cell_type": "code",
   "execution_count": 15,
   "metadata": {},
   "outputs": [
    {
     "data": {
      "text/plain": [
       "(2233, 1272)"
      ]
     },
     "execution_count": 15,
     "metadata": {},
     "output_type": "execute_result"
    }
   ],
   "source": [
    "tfidf_d = TfidfVectorizer(stop_words='english', min_df = 20)\n",
    "\n",
    "rev_td_d = tfidf_d.fit_transform(product_list['description'])\n",
    "rev_td_d_matrix = pd.DataFrame(rev_td_d.toarray(),columns=tfidf_d.get_feature_names())\n",
    "# rev_td_d_matrix.head(5)\n",
    "rev_td_d_matrix.shape"
   ]
  },
  {
   "cell_type": "code",
   "execution_count": 16,
   "metadata": {},
   "outputs": [
    {
     "data": {
      "text/html": [
       "<div>\n",
       "<style scoped>\n",
       "    .dataframe tbody tr th:only-of-type {\n",
       "        vertical-align: middle;\n",
       "    }\n",
       "\n",
       "    .dataframe tbody tr th {\n",
       "        vertical-align: top;\n",
       "    }\n",
       "\n",
       "    .dataframe thead th {\n",
       "        text-align: right;\n",
       "    }\n",
       "</style>\n",
       "<table border=\"1\" class=\"dataframe\">\n",
       "  <thead>\n",
       "    <tr style=\"text-align: right;\">\n",
       "      <th></th>\n",
       "      <th>ability</th>\n",
       "      <th>absolute</th>\n",
       "      <th>absorb</th>\n",
       "      <th>absorbed</th>\n",
       "      <th>absorbing</th>\n",
       "      <th>absorbs</th>\n",
       "      <th>absorption</th>\n",
       "      <th>acetate</th>\n",
       "      <th>achieve</th>\n",
       "      <th>acid</th>\n",
       "      <th>...</th>\n",
       "      <th>worldwide</th>\n",
       "      <th>wrinkle</th>\n",
       "      <th>wrinkles</th>\n",
       "      <th>xanthan</th>\n",
       "      <th>year</th>\n",
       "      <th>years</th>\n",
       "      <th>younger</th>\n",
       "      <th>youth</th>\n",
       "      <th>youthful</th>\n",
       "      <th>zinc</th>\n",
       "    </tr>\n",
       "  </thead>\n",
       "  <tbody>\n",
       "    <tr>\n",
       "      <td>0</td>\n",
       "      <td>0.0</td>\n",
       "      <td>0.0</td>\n",
       "      <td>0.0</td>\n",
       "      <td>0.0</td>\n",
       "      <td>0.0</td>\n",
       "      <td>0.0</td>\n",
       "      <td>0.0</td>\n",
       "      <td>0.0</td>\n",
       "      <td>0.0</td>\n",
       "      <td>0.0</td>\n",
       "      <td>...</td>\n",
       "      <td>0.0</td>\n",
       "      <td>0.0</td>\n",
       "      <td>0.000000</td>\n",
       "      <td>0.0</td>\n",
       "      <td>0.000000</td>\n",
       "      <td>0.0</td>\n",
       "      <td>0.0</td>\n",
       "      <td>0.0</td>\n",
       "      <td>0.0</td>\n",
       "      <td>0.0</td>\n",
       "    </tr>\n",
       "    <tr>\n",
       "      <td>1</td>\n",
       "      <td>0.0</td>\n",
       "      <td>0.0</td>\n",
       "      <td>0.0</td>\n",
       "      <td>0.0</td>\n",
       "      <td>0.0</td>\n",
       "      <td>0.0</td>\n",
       "      <td>0.0</td>\n",
       "      <td>0.0</td>\n",
       "      <td>0.0</td>\n",
       "      <td>0.0</td>\n",
       "      <td>...</td>\n",
       "      <td>0.0</td>\n",
       "      <td>0.0</td>\n",
       "      <td>0.000000</td>\n",
       "      <td>0.0</td>\n",
       "      <td>0.000000</td>\n",
       "      <td>0.0</td>\n",
       "      <td>0.0</td>\n",
       "      <td>0.0</td>\n",
       "      <td>0.0</td>\n",
       "      <td>0.0</td>\n",
       "    </tr>\n",
       "    <tr>\n",
       "      <td>2</td>\n",
       "      <td>0.0</td>\n",
       "      <td>0.0</td>\n",
       "      <td>0.0</td>\n",
       "      <td>0.0</td>\n",
       "      <td>0.0</td>\n",
       "      <td>0.0</td>\n",
       "      <td>0.0</td>\n",
       "      <td>0.0</td>\n",
       "      <td>0.0</td>\n",
       "      <td>0.0</td>\n",
       "      <td>...</td>\n",
       "      <td>0.0</td>\n",
       "      <td>0.0</td>\n",
       "      <td>0.000000</td>\n",
       "      <td>0.0</td>\n",
       "      <td>0.000000</td>\n",
       "      <td>0.0</td>\n",
       "      <td>0.0</td>\n",
       "      <td>0.0</td>\n",
       "      <td>0.0</td>\n",
       "      <td>0.0</td>\n",
       "    </tr>\n",
       "    <tr>\n",
       "      <td>3</td>\n",
       "      <td>0.0</td>\n",
       "      <td>0.0</td>\n",
       "      <td>0.0</td>\n",
       "      <td>0.0</td>\n",
       "      <td>0.0</td>\n",
       "      <td>0.0</td>\n",
       "      <td>0.0</td>\n",
       "      <td>0.0</td>\n",
       "      <td>0.0</td>\n",
       "      <td>0.0</td>\n",
       "      <td>...</td>\n",
       "      <td>0.0</td>\n",
       "      <td>0.0</td>\n",
       "      <td>0.051457</td>\n",
       "      <td>0.0</td>\n",
       "      <td>0.000000</td>\n",
       "      <td>0.0</td>\n",
       "      <td>0.0</td>\n",
       "      <td>0.0</td>\n",
       "      <td>0.0</td>\n",
       "      <td>0.0</td>\n",
       "    </tr>\n",
       "    <tr>\n",
       "      <td>4</td>\n",
       "      <td>0.0</td>\n",
       "      <td>0.0</td>\n",
       "      <td>0.0</td>\n",
       "      <td>0.0</td>\n",
       "      <td>0.0</td>\n",
       "      <td>0.0</td>\n",
       "      <td>0.0</td>\n",
       "      <td>0.0</td>\n",
       "      <td>0.0</td>\n",
       "      <td>0.0</td>\n",
       "      <td>...</td>\n",
       "      <td>0.0</td>\n",
       "      <td>0.0</td>\n",
       "      <td>0.000000</td>\n",
       "      <td>0.0</td>\n",
       "      <td>0.131415</td>\n",
       "      <td>0.0</td>\n",
       "      <td>0.0</td>\n",
       "      <td>0.0</td>\n",
       "      <td>0.0</td>\n",
       "      <td>0.0</td>\n",
       "    </tr>\n",
       "  </tbody>\n",
       "</table>\n",
       "<p>5 rows × 1272 columns</p>\n",
       "</div>"
      ],
      "text/plain": [
       "   ability  absolute  absorb  absorbed  absorbing  absorbs  absorption  \\\n",
       "0      0.0       0.0     0.0       0.0        0.0      0.0         0.0   \n",
       "1      0.0       0.0     0.0       0.0        0.0      0.0         0.0   \n",
       "2      0.0       0.0     0.0       0.0        0.0      0.0         0.0   \n",
       "3      0.0       0.0     0.0       0.0        0.0      0.0         0.0   \n",
       "4      0.0       0.0     0.0       0.0        0.0      0.0         0.0   \n",
       "\n",
       "   acetate  achieve  acid  ...  worldwide  wrinkle  wrinkles  xanthan  \\\n",
       "0      0.0      0.0   0.0  ...        0.0      0.0  0.000000      0.0   \n",
       "1      0.0      0.0   0.0  ...        0.0      0.0  0.000000      0.0   \n",
       "2      0.0      0.0   0.0  ...        0.0      0.0  0.000000      0.0   \n",
       "3      0.0      0.0   0.0  ...        0.0      0.0  0.051457      0.0   \n",
       "4      0.0      0.0   0.0  ...        0.0      0.0  0.000000      0.0   \n",
       "\n",
       "       year  years  younger  youth  youthful  zinc  \n",
       "0  0.000000    0.0      0.0    0.0       0.0   0.0  \n",
       "1  0.000000    0.0      0.0    0.0       0.0   0.0  \n",
       "2  0.000000    0.0      0.0    0.0       0.0   0.0  \n",
       "3  0.000000    0.0      0.0    0.0       0.0   0.0  \n",
       "4  0.131415    0.0      0.0    0.0       0.0   0.0  \n",
       "\n",
       "[5 rows x 1272 columns]"
      ]
     },
     "execution_count": 16,
     "metadata": {},
     "output_type": "execute_result"
    }
   ],
   "source": [
    "rev_td_d_matrix.head(5)"
   ]
  },
  {
   "cell_type": "code",
   "execution_count": 17,
   "metadata": {},
   "outputs": [
    {
     "data": {
      "text/plain": [
       "(2241, 2522)"
      ]
     },
     "execution_count": 17,
     "metadata": {},
     "output_type": "execute_result"
    }
   ],
   "source": [
    "tfidf_r = TfidfVectorizer(stop_words='english', min_df = 20)\n",
    "\n",
    "rev_td_r = tfidf_r.fit_transform(all_review_list['all_review_text'])\n",
    "rev_td_r_matrix = pd.DataFrame(rev_td_r.toarray(),columns=tfidf_r.get_feature_names())\n",
    "# rev_td_r_matrix.head(5)\n",
    "rev_td_r_matrix.shape"
   ]
  },
  {
   "cell_type": "code",
   "execution_count": 18,
   "metadata": {},
   "outputs": [
    {
     "data": {
      "text/html": [
       "<div>\n",
       "<style scoped>\n",
       "    .dataframe tbody tr th:only-of-type {\n",
       "        vertical-align: middle;\n",
       "    }\n",
       "\n",
       "    .dataframe tbody tr th {\n",
       "        vertical-align: top;\n",
       "    }\n",
       "\n",
       "    .dataframe thead th {\n",
       "        text-align: right;\n",
       "    }\n",
       "</style>\n",
       "<table border=\"1\" class=\"dataframe\">\n",
       "  <thead>\n",
       "    <tr style=\"text-align: right;\">\n",
       "      <th></th>\n",
       "      <th>ab</th>\n",
       "      <th>abl</th>\n",
       "      <th>abov</th>\n",
       "      <th>abras</th>\n",
       "      <th>absolv</th>\n",
       "      <th>absorb</th>\n",
       "      <th>ac</th>\n",
       "      <th>acc</th>\n",
       "      <th>acceiv</th>\n",
       "      <th>access</th>\n",
       "      <th>...</th>\n",
       "      <th>young</th>\n",
       "      <th>youth</th>\n",
       "      <th>youtub</th>\n",
       "      <th>yr</th>\n",
       "      <th>yuck</th>\n",
       "      <th>yummy</th>\n",
       "      <th>zero</th>\n",
       "      <th>zint</th>\n",
       "      <th>zit</th>\n",
       "      <th>zon</th>\n",
       "    </tr>\n",
       "  </thead>\n",
       "  <tbody>\n",
       "    <tr>\n",
       "      <td>0</td>\n",
       "      <td>0.0</td>\n",
       "      <td>0.011598</td>\n",
       "      <td>0.034075</td>\n",
       "      <td>0.000000</td>\n",
       "      <td>0.000000</td>\n",
       "      <td>0.000000</td>\n",
       "      <td>0.0</td>\n",
       "      <td>0.0</td>\n",
       "      <td>0.000000</td>\n",
       "      <td>0.0</td>\n",
       "      <td>...</td>\n",
       "      <td>0.000000</td>\n",
       "      <td>0.0</td>\n",
       "      <td>0.0</td>\n",
       "      <td>0.000000</td>\n",
       "      <td>0.0</td>\n",
       "      <td>0.0</td>\n",
       "      <td>0.0</td>\n",
       "      <td>0.039204</td>\n",
       "      <td>0.00000</td>\n",
       "      <td>0.000000</td>\n",
       "    </tr>\n",
       "    <tr>\n",
       "      <td>1</td>\n",
       "      <td>0.0</td>\n",
       "      <td>0.016109</td>\n",
       "      <td>0.000000</td>\n",
       "      <td>0.000000</td>\n",
       "      <td>0.027272</td>\n",
       "      <td>0.000000</td>\n",
       "      <td>0.0</td>\n",
       "      <td>0.0</td>\n",
       "      <td>0.026177</td>\n",
       "      <td>0.0</td>\n",
       "      <td>...</td>\n",
       "      <td>0.015673</td>\n",
       "      <td>0.0</td>\n",
       "      <td>0.0</td>\n",
       "      <td>0.000000</td>\n",
       "      <td>0.0</td>\n",
       "      <td>0.0</td>\n",
       "      <td>0.0</td>\n",
       "      <td>0.000000</td>\n",
       "      <td>0.02284</td>\n",
       "      <td>0.000000</td>\n",
       "    </tr>\n",
       "    <tr>\n",
       "      <td>2</td>\n",
       "      <td>0.0</td>\n",
       "      <td>0.000000</td>\n",
       "      <td>0.000000</td>\n",
       "      <td>0.044894</td>\n",
       "      <td>0.024515</td>\n",
       "      <td>0.000000</td>\n",
       "      <td>0.0</td>\n",
       "      <td>0.0</td>\n",
       "      <td>0.000000</td>\n",
       "      <td>0.0</td>\n",
       "      <td>...</td>\n",
       "      <td>0.028177</td>\n",
       "      <td>0.0</td>\n",
       "      <td>0.0</td>\n",
       "      <td>0.000000</td>\n",
       "      <td>0.0</td>\n",
       "      <td>0.0</td>\n",
       "      <td>0.0</td>\n",
       "      <td>0.000000</td>\n",
       "      <td>0.00000</td>\n",
       "      <td>0.055755</td>\n",
       "    </tr>\n",
       "    <tr>\n",
       "      <td>3</td>\n",
       "      <td>0.0</td>\n",
       "      <td>0.000000</td>\n",
       "      <td>0.000000</td>\n",
       "      <td>0.000000</td>\n",
       "      <td>0.000000</td>\n",
       "      <td>0.000000</td>\n",
       "      <td>0.0</td>\n",
       "      <td>0.0</td>\n",
       "      <td>0.000000</td>\n",
       "      <td>0.0</td>\n",
       "      <td>...</td>\n",
       "      <td>0.041171</td>\n",
       "      <td>0.0</td>\n",
       "      <td>0.0</td>\n",
       "      <td>0.059019</td>\n",
       "      <td>0.0</td>\n",
       "      <td>0.0</td>\n",
       "      <td>0.0</td>\n",
       "      <td>0.000000</td>\n",
       "      <td>0.00000</td>\n",
       "      <td>0.000000</td>\n",
       "    </tr>\n",
       "    <tr>\n",
       "      <td>4</td>\n",
       "      <td>0.0</td>\n",
       "      <td>0.000000</td>\n",
       "      <td>0.000000</td>\n",
       "      <td>0.000000</td>\n",
       "      <td>0.062652</td>\n",
       "      <td>0.117234</td>\n",
       "      <td>0.0</td>\n",
       "      <td>0.0</td>\n",
       "      <td>0.000000</td>\n",
       "      <td>0.0</td>\n",
       "      <td>...</td>\n",
       "      <td>0.000000</td>\n",
       "      <td>0.0</td>\n",
       "      <td>0.0</td>\n",
       "      <td>0.000000</td>\n",
       "      <td>0.0</td>\n",
       "      <td>0.0</td>\n",
       "      <td>0.0</td>\n",
       "      <td>0.218908</td>\n",
       "      <td>0.00000</td>\n",
       "      <td>0.000000</td>\n",
       "    </tr>\n",
       "  </tbody>\n",
       "</table>\n",
       "<p>5 rows × 2522 columns</p>\n",
       "</div>"
      ],
      "text/plain": [
       "    ab       abl      abov     abras    absolv    absorb   ac  acc    acceiv  \\\n",
       "0  0.0  0.011598  0.034075  0.000000  0.000000  0.000000  0.0  0.0  0.000000   \n",
       "1  0.0  0.016109  0.000000  0.000000  0.027272  0.000000  0.0  0.0  0.026177   \n",
       "2  0.0  0.000000  0.000000  0.044894  0.024515  0.000000  0.0  0.0  0.000000   \n",
       "3  0.0  0.000000  0.000000  0.000000  0.000000  0.000000  0.0  0.0  0.000000   \n",
       "4  0.0  0.000000  0.000000  0.000000  0.062652  0.117234  0.0  0.0  0.000000   \n",
       "\n",
       "   access  ...     young  youth  youtub        yr  yuck  yummy  zero  \\\n",
       "0     0.0  ...  0.000000    0.0     0.0  0.000000   0.0    0.0   0.0   \n",
       "1     0.0  ...  0.015673    0.0     0.0  0.000000   0.0    0.0   0.0   \n",
       "2     0.0  ...  0.028177    0.0     0.0  0.000000   0.0    0.0   0.0   \n",
       "3     0.0  ...  0.041171    0.0     0.0  0.059019   0.0    0.0   0.0   \n",
       "4     0.0  ...  0.000000    0.0     0.0  0.000000   0.0    0.0   0.0   \n",
       "\n",
       "       zint      zit       zon  \n",
       "0  0.039204  0.00000  0.000000  \n",
       "1  0.000000  0.02284  0.000000  \n",
       "2  0.000000  0.00000  0.055755  \n",
       "3  0.000000  0.00000  0.000000  \n",
       "4  0.218908  0.00000  0.000000  \n",
       "\n",
       "[5 rows x 2522 columns]"
      ]
     },
     "execution_count": 18,
     "metadata": {},
     "output_type": "execute_result"
    }
   ],
   "source": [
    "rev_td_r_matrix.head(5)"
   ]
  },
  {
   "cell_type": "markdown",
   "metadata": {},
   "source": [
    "### Reduce dimensionality"
   ]
  },
  {
   "cell_type": "code",
   "execution_count": 19,
   "metadata": {},
   "outputs": [],
   "source": [
    "def display_topics(model, feature_names, no_top_words, topic_names=None):\n",
    "    for ix, topic in enumerate(model.components_):\n",
    "        if not topic_names or not topic_names[ix]:\n",
    "            print(\"\\nTopic \", ix)\n",
    "        else:\n",
    "            print(\"\\nTopic: '\",topic_names[ix],\"'\")\n",
    "        print(\", \".join([feature_names[i]\n",
    "                        for i in topic.argsort()[:-no_top_words - 1:-1]]))"
   ]
  },
  {
   "cell_type": "code",
   "execution_count": 20,
   "metadata": {},
   "outputs": [
    {
     "name": "stdout",
     "output_type": "stream",
     "text": [
      "      ab    abl   abov  abras  absolv  absorb     ac    acc  acceiv  access  \\\n",
      "0  0.000  0.047  0.000  0.000   0.055   0.000  0.001  0.002   0.000   0.014   \n",
      "1  0.000  0.005  0.004  0.000   0.031   0.000  0.000  0.005   0.000   0.000   \n",
      "2  0.000  0.008  0.000  0.000   0.015   0.000  0.000  0.000   0.000   0.000   \n",
      "3  0.005  0.013  0.000  0.000   0.075   0.012  0.000  0.000   0.004   0.000   \n",
      "4  0.005  0.011  0.001  0.000   0.010   0.000  0.009  0.002   0.003   0.000   \n",
      "5  0.000  0.009  0.012  0.000   0.055   0.307  0.001  0.007   0.014   0.000   \n",
      "6  0.002  0.037  0.023  0.000   0.031   0.094  0.004  0.002   0.010   0.007   \n",
      "7  0.005  0.030  0.004  0.000   0.025   0.138  0.000  0.002   0.014   0.000   \n",
      "8  0.000  0.004  0.002  0.102   0.000   0.000  0.000  0.000   0.000   0.000   \n",
      "9  0.000  0.020  0.001  0.000   0.043   0.000  0.002  0.003   0.000   0.000   \n",
      "\n",
      "   ...  young  youth  youtub     yr   yuck  yummy   zero   zint    zit    zon  \n",
      "0  ...  0.032  0.000   0.002  0.017  0.003  0.000  0.013  0.000  0.000  0.002  \n",
      "1  ...  0.000  0.000   0.005  0.000  0.006  0.008  0.006  0.000  0.000  0.000  \n",
      "2  ...  0.003  0.000   0.009  0.000  0.005  0.000  0.002  0.000  0.000  0.000  \n",
      "3  ...  0.065  0.037   0.000  0.000  0.000  0.008  0.000  0.000  0.000  0.000  \n",
      "4  ...  0.000  0.000   0.002  0.015  0.000  0.000  0.002  0.008  0.125  0.005  \n",
      "5  ...  0.000  0.000   0.004  0.000  0.001  0.000  0.003  0.050  0.000  0.006  \n",
      "6  ...  0.089  0.053   0.008  0.024  0.005  0.000  0.017  0.006  0.000  0.002  \n",
      "7  ...  0.064  0.018   0.000  0.018  0.001  0.000  0.003  0.000  0.000  0.000  \n",
      "8  ...  0.000  0.000   0.000  0.000  0.000  0.003  0.000  0.000  0.000  0.000  \n",
      "9  ...  0.000  0.000   0.004  0.001  0.005  0.000  0.000  0.007  0.000  0.000  \n",
      "\n",
      "[10 rows x 2522 columns]\n",
      "\n",
      "Topic  0\n",
      "thi, year, hav, ord, purchas, recommend, ve, tim, amazon, pric\n",
      "\n",
      "Topic  1\n",
      "cleans, cle, fac, remov, wash, makeup, gentl, foam, dry, thi\n",
      "\n",
      "Topic  2\n",
      "mask, thi, fac, clay, minut, aft, mud, sheet, thes, felt\n",
      "\n",
      "Topic  3\n",
      "skin, sensit, feel, dry, hav, soft, aft, car, look, irrit\n",
      "\n",
      "Topic  4\n",
      "acn, hav, thi, skin, clear, help, breakout, fac, blem, pimpl\n",
      "\n",
      "Topic  5\n",
      "moist, thi, greasy, fac, light, oi, lot, spf, oil, feel\n",
      "\n",
      "Topic  6\n",
      "ser, hav, ar, result, look, lin, wrinkl, skin, week, ey\n",
      "\n",
      "Topic  7\n",
      "cream, night, jar, neck, hav, fac, day, smel, rich, nic\n",
      "\n",
      "Topic  8\n",
      "fac, smel, scrub, feel, exfo, wash, cle, yo, aft, leav\n",
      "\n",
      "Topic  9\n",
      "ton, spray, mist, refresh, thi, wat, makeup, fac, pad, set\n"
     ]
    }
   ],
   "source": [
    "nmf = NMF(10)\n",
    "doc_topic = nmf.fit_transform(rev_td_r_matrix)\n",
    "topic_word = pd.DataFrame(nmf.components_.round(3),\n",
    "#                         index = [\"component_1\",\"component_2\",\"component_3\",\"component_4\"],\n",
    "                        columns = tfidf_r.get_feature_names())\n",
    "print(topic_word)\n",
    "\n",
    "display_topics(nmf, tfidf_r.get_feature_names(), 10)"
   ]
  },
  {
   "cell_type": "code",
   "execution_count": 21,
   "metadata": {},
   "outputs": [
    {
     "data": {
      "text/html": [
       "<div>\n",
       "<style scoped>\n",
       "    .dataframe tbody tr th:only-of-type {\n",
       "        vertical-align: middle;\n",
       "    }\n",
       "\n",
       "    .dataframe tbody tr th {\n",
       "        vertical-align: top;\n",
       "    }\n",
       "\n",
       "    .dataframe thead th {\n",
       "        text-align: right;\n",
       "    }\n",
       "</style>\n",
       "<table border=\"1\" class=\"dataframe\">\n",
       "  <thead>\n",
       "    <tr style=\"text-align: right;\">\n",
       "      <th></th>\n",
       "      <th>0</th>\n",
       "      <th>1</th>\n",
       "      <th>2</th>\n",
       "      <th>3</th>\n",
       "      <th>4</th>\n",
       "      <th>5</th>\n",
       "      <th>6</th>\n",
       "      <th>7</th>\n",
       "      <th>8</th>\n",
       "      <th>9</th>\n",
       "    </tr>\n",
       "    <tr>\n",
       "      <th>asin</th>\n",
       "      <th></th>\n",
       "      <th></th>\n",
       "      <th></th>\n",
       "      <th></th>\n",
       "      <th></th>\n",
       "      <th></th>\n",
       "      <th></th>\n",
       "      <th></th>\n",
       "      <th></th>\n",
       "      <th></th>\n",
       "    </tr>\n",
       "  </thead>\n",
       "  <tbody>\n",
       "    <tr>\n",
       "      <td>B0000Y3NO6</td>\n",
       "      <td>0.05425</td>\n",
       "      <td>0.00904</td>\n",
       "      <td>0.00433</td>\n",
       "      <td>0.02283</td>\n",
       "      <td>0.10079</td>\n",
       "      <td>0.03511</td>\n",
       "      <td>0.04920</td>\n",
       "      <td>0.06421</td>\n",
       "      <td>0.00000</td>\n",
       "      <td>0.00097</td>\n",
       "    </tr>\n",
       "    <tr>\n",
       "      <td>B00012C5RS</td>\n",
       "      <td>0.05170</td>\n",
       "      <td>0.01705</td>\n",
       "      <td>0.00866</td>\n",
       "      <td>0.01598</td>\n",
       "      <td>0.04929</td>\n",
       "      <td>0.01919</td>\n",
       "      <td>0.12582</td>\n",
       "      <td>0.00585</td>\n",
       "      <td>0.00746</td>\n",
       "      <td>0.01432</td>\n",
       "    </tr>\n",
       "    <tr>\n",
       "      <td>B0001EKTTC</td>\n",
       "      <td>0.04838</td>\n",
       "      <td>0.02001</td>\n",
       "      <td>0.04257</td>\n",
       "      <td>0.07200</td>\n",
       "      <td>0.10526</td>\n",
       "      <td>0.00331</td>\n",
       "      <td>0.00418</td>\n",
       "      <td>0.00000</td>\n",
       "      <td>0.01372</td>\n",
       "      <td>0.00000</td>\n",
       "    </tr>\n",
       "    <tr>\n",
       "      <td>B0001EL5Q8</td>\n",
       "      <td>0.07571</td>\n",
       "      <td>0.00000</td>\n",
       "      <td>0.00000</td>\n",
       "      <td>0.08721</td>\n",
       "      <td>0.01848</td>\n",
       "      <td>0.00526</td>\n",
       "      <td>0.08459</td>\n",
       "      <td>0.01514</td>\n",
       "      <td>0.01924</td>\n",
       "      <td>0.00000</td>\n",
       "    </tr>\n",
       "    <tr>\n",
       "      <td>B0001EL5JA</td>\n",
       "      <td>0.03345</td>\n",
       "      <td>0.00424</td>\n",
       "      <td>0.00000</td>\n",
       "      <td>0.06189</td>\n",
       "      <td>0.03397</td>\n",
       "      <td>0.10668</td>\n",
       "      <td>0.02496</td>\n",
       "      <td>0.00438</td>\n",
       "      <td>0.00000</td>\n",
       "      <td>0.00970</td>\n",
       "    </tr>\n",
       "    <tr>\n",
       "      <td>...</td>\n",
       "      <td>...</td>\n",
       "      <td>...</td>\n",
       "      <td>...</td>\n",
       "      <td>...</td>\n",
       "      <td>...</td>\n",
       "      <td>...</td>\n",
       "      <td>...</td>\n",
       "      <td>...</td>\n",
       "      <td>...</td>\n",
       "      <td>...</td>\n",
       "    </tr>\n",
       "    <tr>\n",
       "      <td>B01HBS87ZS</td>\n",
       "      <td>0.03086</td>\n",
       "      <td>0.00000</td>\n",
       "      <td>0.00198</td>\n",
       "      <td>0.02121</td>\n",
       "      <td>0.07267</td>\n",
       "      <td>0.00000</td>\n",
       "      <td>0.04792</td>\n",
       "      <td>0.00000</td>\n",
       "      <td>0.00922</td>\n",
       "      <td>0.00000</td>\n",
       "    </tr>\n",
       "    <tr>\n",
       "      <td>B01HBS7WW2</td>\n",
       "      <td>0.08174</td>\n",
       "      <td>0.00252</td>\n",
       "      <td>0.00628</td>\n",
       "      <td>0.02414</td>\n",
       "      <td>0.00000</td>\n",
       "      <td>0.03298</td>\n",
       "      <td>0.00000</td>\n",
       "      <td>0.02414</td>\n",
       "      <td>0.03777</td>\n",
       "      <td>0.01070</td>\n",
       "    </tr>\n",
       "    <tr>\n",
       "      <td>B01HEESSHG</td>\n",
       "      <td>0.04058</td>\n",
       "      <td>0.00000</td>\n",
       "      <td>0.00492</td>\n",
       "      <td>0.00000</td>\n",
       "      <td>0.00000</td>\n",
       "      <td>0.01716</td>\n",
       "      <td>0.03694</td>\n",
       "      <td>0.03204</td>\n",
       "      <td>0.03320</td>\n",
       "      <td>0.03323</td>\n",
       "    </tr>\n",
       "    <tr>\n",
       "      <td>B01HBS7XP8</td>\n",
       "      <td>0.06497</td>\n",
       "      <td>0.02684</td>\n",
       "      <td>0.00368</td>\n",
       "      <td>0.03071</td>\n",
       "      <td>0.00000</td>\n",
       "      <td>0.00000</td>\n",
       "      <td>0.00000</td>\n",
       "      <td>0.00000</td>\n",
       "      <td>0.00876</td>\n",
       "      <td>0.02400</td>\n",
       "    </tr>\n",
       "    <tr>\n",
       "      <td>B01HGSJPMW</td>\n",
       "      <td>0.04682</td>\n",
       "      <td>0.01820</td>\n",
       "      <td>0.00406</td>\n",
       "      <td>0.03629</td>\n",
       "      <td>0.00557</td>\n",
       "      <td>0.06107</td>\n",
       "      <td>0.07477</td>\n",
       "      <td>0.02489</td>\n",
       "      <td>0.06178</td>\n",
       "      <td>0.01462</td>\n",
       "    </tr>\n",
       "  </tbody>\n",
       "</table>\n",
       "<p>2241 rows × 10 columns</p>\n",
       "</div>"
      ],
      "text/plain": [
       "                  0        1        2        3        4        5        6  \\\n",
       "asin                                                                        \n",
       "B0000Y3NO6  0.05425  0.00904  0.00433  0.02283  0.10079  0.03511  0.04920   \n",
       "B00012C5RS  0.05170  0.01705  0.00866  0.01598  0.04929  0.01919  0.12582   \n",
       "B0001EKTTC  0.04838  0.02001  0.04257  0.07200  0.10526  0.00331  0.00418   \n",
       "B0001EL5Q8  0.07571  0.00000  0.00000  0.08721  0.01848  0.00526  0.08459   \n",
       "B0001EL5JA  0.03345  0.00424  0.00000  0.06189  0.03397  0.10668  0.02496   \n",
       "...             ...      ...      ...      ...      ...      ...      ...   \n",
       "B01HBS87ZS  0.03086  0.00000  0.00198  0.02121  0.07267  0.00000  0.04792   \n",
       "B01HBS7WW2  0.08174  0.00252  0.00628  0.02414  0.00000  0.03298  0.00000   \n",
       "B01HEESSHG  0.04058  0.00000  0.00492  0.00000  0.00000  0.01716  0.03694   \n",
       "B01HBS7XP8  0.06497  0.02684  0.00368  0.03071  0.00000  0.00000  0.00000   \n",
       "B01HGSJPMW  0.04682  0.01820  0.00406  0.03629  0.00557  0.06107  0.07477   \n",
       "\n",
       "                  7        8        9  \n",
       "asin                                   \n",
       "B0000Y3NO6  0.06421  0.00000  0.00097  \n",
       "B00012C5RS  0.00585  0.00746  0.01432  \n",
       "B0001EKTTC  0.00000  0.01372  0.00000  \n",
       "B0001EL5Q8  0.01514  0.01924  0.00000  \n",
       "B0001EL5JA  0.00438  0.00000  0.00970  \n",
       "...             ...      ...      ...  \n",
       "B01HBS87ZS  0.00000  0.00922  0.00000  \n",
       "B01HBS7WW2  0.02414  0.03777  0.01070  \n",
       "B01HEESSHG  0.03204  0.03320  0.03323  \n",
       "B01HBS7XP8  0.00000  0.00876  0.02400  \n",
       "B01HGSJPMW  0.02489  0.06178  0.01462  \n",
       "\n",
       "[2241 rows x 10 columns]"
      ]
     },
     "execution_count": 21,
     "metadata": {},
     "output_type": "execute_result"
    }
   ],
   "source": [
    "H_r = pd.DataFrame(doc_topic.round(5),\n",
    "             index = all_review_list['asin'])\n",
    "H_r"
   ]
  },
  {
   "cell_type": "code",
   "execution_count": 22,
   "metadata": {},
   "outputs": [],
   "source": [
    "# save out dictionary of topic words\n",
    "def save_topic_words(model, feature_names, no_top_words, topic_names=None):\n",
    "    topic_words = {}\n",
    "    for ix, topic in enumerate(model.components_):\n",
    "        lst = [feature_names[i]\n",
    "            for i in topic.argsort()[:-no_top_words - 1:-1]]\n",
    "        topic_words.update({ix:lst})\n",
    "    return topic_words"
   ]
  },
  {
   "cell_type": "code",
   "execution_count": 23,
   "metadata": {},
   "outputs": [
    {
     "data": {
      "text/plain": [
       "['thi',\n",
       " 'year',\n",
       " 'hav',\n",
       " 'ord',\n",
       " 'purchas',\n",
       " 'recommend',\n",
       " 've',\n",
       " 'tim',\n",
       " 'amazon',\n",
       " 'pric']"
      ]
     },
     "execution_count": 23,
     "metadata": {},
     "output_type": "execute_result"
    }
   ],
   "source": [
    "topic_dict = save_topic_words(nmf,tfidf_r.get_feature_names(), 10)\n",
    "topic_dict[0]"
   ]
  },
  {
   "cell_type": "markdown",
   "metadata": {},
   "source": [
    "### Cosine similarity on product description"
   ]
  },
  {
   "cell_type": "code",
   "execution_count": 24,
   "metadata": {},
   "outputs": [],
   "source": [
    "from sklearn.metrics.pairwise import cosine_similarity"
   ]
  },
  {
   "cell_type": "code",
   "execution_count": 25,
   "metadata": {},
   "outputs": [],
   "source": [
    "# calculate the cosine similarity between all combinations of documents\n",
    "from itertools import combinations\n",
    "\n",
    "# # list all of the combinations of 5 take 2 as well as the pairs of phrases\n",
    "# corpus = []\n",
    "# for i in product_list['product'][0:100]:\n",
    "#     corpus.append(i)\n",
    "    \n",
    "# pairs = list(combinations(enumerate(corpus),2))\n",
    "# combos = [(a[0], b[0]) for a, b in pairs]\n",
    "# phrases = [(a[1], b[1]) for a, b in pairs]"
   ]
  },
  {
   "cell_type": "code",
   "execution_count": 26,
   "metadata": {},
   "outputs": [],
   "source": [
    "# results_tfidf = [cosine_similarity(rev_td_d_matrix.iloc[a].values.reshape(1,-1), rev_td_d_matrix.iloc[b].values.reshape(1,-1)) for a, b in combos]\n",
    "\n",
    "# results_tfidf\n",
    "# sorted(zip(results_tfidf, phrases), reverse=True)"
   ]
  },
  {
   "cell_type": "markdown",
   "metadata": {},
   "source": [
    "### Cosine similarity on product reviews"
   ]
  },
  {
   "cell_type": "code",
   "execution_count": 27,
   "metadata": {},
   "outputs": [],
   "source": [
    "# calculate the cosine similarity between all combinations of documents\n",
    "from itertools import combinations\n",
    "\n",
    "# list all of the combinations of 5 take 2 as well as the pairs of phrases\n",
    "corpus = []\n",
    "for i in all_review_list['asin']:\n",
    "    corpus.append(i)\n",
    "    \n",
    "pairs = list(combinations(enumerate(corpus),2))\n",
    "combos = [(a[0], b[0]) for a, b in pairs]\n",
    "phrases = [(a[1], b[1]) for a, b in pairs]"
   ]
  },
  {
   "cell_type": "code",
   "execution_count": 28,
   "metadata": {},
   "outputs": [],
   "source": [
    "results_tfidf = [cosine_similarity(H_r.iloc[a].values.reshape(1,-1), H_r.iloc[b].values.reshape(1,-1)) for a, b in combos]\n",
    "\n",
    "results_tfidf\n",
    "sim_asin = sorted(zip(results_tfidf, phrases), reverse=True)"
   ]
  },
  {
   "cell_type": "code",
   "execution_count": 29,
   "metadata": {},
   "outputs": [
    {
     "data": {
      "text/plain": [
       "[(array([[1.]]), ('B00E6QU4WS', 'B01EM45E4G')),\n",
       " (array([[1.]]), ('B00AZJDNR8', 'B00JLQOO7O')),\n",
       " (array([[1.]]), ('B00AGOOFYM', 'B00IS41WTS')),\n",
       " (array([[1.]]), ('B0075RKSR6', 'B00IS41WTS')),\n",
       " (array([[1.]]), ('B0075RKSR6', 'B00AGOOFYM'))]"
      ]
     },
     "execution_count": 29,
     "metadata": {},
     "output_type": "execute_result"
    }
   ],
   "source": [
    "sim_asin[0:5]"
   ]
  },
  {
   "cell_type": "code",
   "execution_count": 30,
   "metadata": {},
   "outputs": [],
   "source": [
    "# save out all_review_list\n",
    "with open('pickles/sim_asin.pickle', 'wb') as to_write:\n",
    "    pickle.dump(sim_asin, to_write)"
   ]
  },
  {
   "cell_type": "code",
   "execution_count": 31,
   "metadata": {},
   "outputs": [],
   "source": [
    "# save out all_review_list\n",
    "with open('pickles/doc_topic.pickle', 'wb') as to_write:\n",
    "    pickle.dump(H_r, to_write)"
   ]
  },
  {
   "cell_type": "code",
   "execution_count": 32,
   "metadata": {},
   "outputs": [],
   "source": [
    "# save out topic words\n",
    "with open('pickles/topic_words_dict.pickle', 'wb') as to_write:\n",
    "    pickle.dump(topic_dict, to_write)"
   ]
  },
  {
   "cell_type": "markdown",
   "metadata": {},
   "source": [
    "###  Visualizing w/ pyLDAvis"
   ]
  },
  {
   "cell_type": "code",
   "execution_count": 35,
   "metadata": {},
   "outputs": [],
   "source": [
    "import numpy as np\n",
    "import pyLDAvis\n",
    "\n",
    "import pyLDAvis.sklearn\n",
    "pyLDAvis.enable_notebook()"
   ]
  },
  {
   "cell_type": "code",
   "execution_count": 36,
   "metadata": {},
   "outputs": [],
   "source": [
    "# need to drop documents that don't match any of the topics (the row sums to zero)\n",
    "a = np.sum(rev_td_r_matrix,axis=1)[np.sum(rev_td_r_matrix,axis=1)==0].index\n",
    "rev_matrix2 = rev_td_r_matrix.drop(index=a)"
   ]
  },
  {
   "cell_type": "code",
   "execution_count": 37,
   "metadata": {},
   "outputs": [],
   "source": [
    "# turn back into sparse matrix\n",
    "from scipy import sparse"
   ]
  },
  {
   "cell_type": "code",
   "execution_count": 38,
   "metadata": {},
   "outputs": [
    {
     "data": {
      "text/plain": [
       "scipy.sparse.csr.csr_matrix"
      ]
     },
     "execution_count": 38,
     "metadata": {},
     "output_type": "execute_result"
    }
   ],
   "source": [
    "sparse_rev = sparse.csr_matrix(rev_matrix2.values)\n",
    "type(sparse_rev)"
   ]
  },
  {
   "cell_type": "code",
   "execution_count": 39,
   "metadata": {},
   "outputs": [
    {
     "name": "stderr",
     "output_type": "stream",
     "text": [
      "/Users/Jocelyn/anaconda3/envs/metis/lib/python3.6/site-packages/pyLDAvis/_prepare.py:223: RuntimeWarning: divide by zero encountered in log\n",
      "  kernel = (topic_given_term * np.log((topic_given_term.T / topic_proportion).T))\n",
      "/Users/Jocelyn/anaconda3/envs/metis/lib/python3.6/site-packages/pyLDAvis/_prepare.py:240: RuntimeWarning: divide by zero encountered in log\n",
      "  log_lift = np.log(topic_term_dists / term_proportion)\n",
      "/Users/Jocelyn/anaconda3/envs/metis/lib/python3.6/site-packages/pyLDAvis/_prepare.py:241: RuntimeWarning: divide by zero encountered in log\n",
      "  log_ttd = np.log(topic_term_dists)\n",
      "/Users/Jocelyn/anaconda3/envs/metis/lib/python3.6/site-packages/pyLDAvis/_prepare.py:257: FutureWarning: Sorting because non-concatenation axis is not aligned. A future version\n",
      "of pandas will change to not sort by default.\n",
      "\n",
      "To accept the future behavior, pass 'sort=False'.\n",
      "\n",
      "To retain the current behavior and silence the warning, pass 'sort=True'.\n",
      "\n",
      "  return pd.concat([default_term_info] + list(topic_dfs))\n"
     ]
    },
    {
     "data": {
      "text/html": [
       "\n",
       "<link rel=\"stylesheet\" type=\"text/css\" href=\"https://cdn.rawgit.com/bmabey/pyLDAvis/files/ldavis.v1.0.0.css\">\n",
       "\n",
       "\n",
       "<div id=\"ldavis_el141231139953605602234789896\"></div>\n",
       "<script type=\"text/javascript\">\n",
       "\n",
       "var ldavis_el141231139953605602234789896_data = {\"mdsDat\": {\"x\": [0.16793021429968885, -0.007437678915124865, 0.2461819977505183, -0.047134419110662094, 0.06891571134930659, -0.12347649910742951, -0.011158834323064902, -0.08872072210704725, -0.12474315198480473, -0.08035661785138022], \"y\": [-0.26615074112960313, -0.03117318912909913, 0.20839758416119947, 0.07354153269712789, 0.002827647062701944, 0.037759562896728126, -0.028220727775499672, 0.05710005978509017, -0.0337550863486422, -0.020326642220002765], \"topics\": [1, 2, 3, 4, 5, 6, 7, 8, 9, 10], \"cluster\": [1, 1, 1, 1, 1, 1, 1, 1, 1, 1], \"Freq\": [17.805327369687898, 16.35782174829652, 12.895945111686352, 9.229667432941342, 8.930043774087482, 8.499782189857829, 8.127074794579206, 7.975982664253518, 5.947364402143811, 4.230990512466028]}, \"tinfo\": {\"Category\": [\"Default\", \"Default\", \"Default\", \"Default\", \"Default\", \"Default\", \"Default\", \"Default\", \"Default\", \"Default\", \"Default\", \"Default\", \"Default\", \"Default\", \"Default\", \"Default\", \"Default\", \"Default\", \"Default\", \"Default\", \"Default\", \"Default\", \"Default\", \"Default\", \"Default\", \"Default\", \"Default\", \"Default\", \"Default\", \"Default\", \"Topic1\", \"Topic1\", \"Topic1\", \"Topic1\", \"Topic1\", \"Topic1\", \"Topic1\", \"Topic1\", \"Topic1\", \"Topic1\", \"Topic1\", \"Topic1\", \"Topic1\", \"Topic1\", \"Topic1\", \"Topic1\", \"Topic1\", \"Topic1\", \"Topic1\", \"Topic1\", \"Topic1\", \"Topic1\", \"Topic1\", \"Topic1\", \"Topic1\", \"Topic1\", \"Topic1\", \"Topic1\", \"Topic1\", \"Topic1\", \"Topic1\", \"Topic1\", \"Topic1\", \"Topic1\", \"Topic1\", \"Topic1\", \"Topic1\", \"Topic1\", \"Topic1\", \"Topic1\", \"Topic1\", \"Topic1\", \"Topic1\", \"Topic1\", \"Topic1\", \"Topic1\", \"Topic1\", \"Topic1\", \"Topic1\", \"Topic1\", \"Topic1\", \"Topic1\", \"Topic1\", \"Topic1\", \"Topic1\", \"Topic1\", \"Topic1\", \"Topic1\", \"Topic1\", \"Topic1\", \"Topic1\", \"Topic2\", \"Topic2\", \"Topic2\", \"Topic2\", \"Topic2\", \"Topic2\", \"Topic2\", \"Topic2\", \"Topic2\", \"Topic2\", \"Topic2\", \"Topic2\", \"Topic2\", \"Topic2\", \"Topic2\", \"Topic2\", \"Topic2\", \"Topic2\", \"Topic2\", \"Topic2\", \"Topic2\", \"Topic2\", \"Topic2\", \"Topic2\", \"Topic2\", \"Topic2\", \"Topic2\", \"Topic2\", \"Topic2\", \"Topic2\", \"Topic2\", \"Topic2\", \"Topic2\", \"Topic2\", \"Topic2\", \"Topic2\", \"Topic2\", \"Topic2\", \"Topic2\", \"Topic2\", \"Topic2\", \"Topic2\", \"Topic2\", \"Topic2\", \"Topic2\", \"Topic2\", \"Topic2\", \"Topic2\", \"Topic2\", \"Topic2\", \"Topic2\", \"Topic2\", \"Topic2\", \"Topic2\", \"Topic2\", \"Topic2\", \"Topic2\", \"Topic2\", \"Topic2\", \"Topic2\", \"Topic2\", \"Topic2\", \"Topic2\", \"Topic2\", \"Topic2\", \"Topic2\", \"Topic2\", \"Topic2\", \"Topic2\", \"Topic2\", \"Topic2\", \"Topic2\", \"Topic2\", \"Topic2\", \"Topic2\", \"Topic2\", \"Topic2\", \"Topic2\", \"Topic3\", \"Topic3\", \"Topic3\", \"Topic3\", \"Topic3\", \"Topic3\", \"Topic3\", \"Topic3\", \"Topic3\", \"Topic3\", \"Topic3\", \"Topic3\", \"Topic3\", \"Topic3\", \"Topic3\", \"Topic3\", \"Topic3\", \"Topic3\", \"Topic3\", \"Topic3\", \"Topic3\", \"Topic3\", \"Topic3\", \"Topic3\", \"Topic3\", \"Topic3\", \"Topic3\", \"Topic3\", \"Topic3\", \"Topic3\", \"Topic3\", \"Topic3\", \"Topic3\", \"Topic3\", \"Topic3\", \"Topic3\", \"Topic3\", \"Topic3\", \"Topic3\", \"Topic3\", \"Topic3\", \"Topic3\", \"Topic3\", \"Topic3\", \"Topic3\", \"Topic3\", \"Topic3\", \"Topic3\", \"Topic3\", \"Topic3\", \"Topic3\", \"Topic3\", \"Topic3\", \"Topic3\", \"Topic3\", \"Topic3\", \"Topic3\", \"Topic3\", \"Topic3\", \"Topic3\", \"Topic3\", \"Topic3\", \"Topic3\", \"Topic3\", \"Topic3\", \"Topic3\", \"Topic3\", \"Topic3\", \"Topic3\", \"Topic4\", \"Topic4\", \"Topic4\", \"Topic4\", \"Topic4\", \"Topic4\", \"Topic4\", \"Topic4\", \"Topic4\", \"Topic4\", \"Topic4\", \"Topic4\", \"Topic4\", \"Topic4\", \"Topic4\", \"Topic4\", \"Topic4\", \"Topic4\", \"Topic4\", \"Topic4\", \"Topic4\", \"Topic4\", \"Topic4\", \"Topic4\", \"Topic4\", \"Topic4\", \"Topic4\", \"Topic4\", \"Topic4\", \"Topic4\", \"Topic4\", \"Topic4\", \"Topic4\", \"Topic4\", \"Topic4\", \"Topic4\", \"Topic4\", \"Topic4\", \"Topic4\", \"Topic4\", \"Topic4\", \"Topic4\", \"Topic4\", \"Topic4\", \"Topic4\", \"Topic4\", \"Topic4\", \"Topic4\", \"Topic4\", \"Topic4\", \"Topic4\", \"Topic4\", \"Topic4\", \"Topic4\", \"Topic4\", \"Topic4\", \"Topic4\", \"Topic4\", \"Topic4\", \"Topic4\", \"Topic4\", \"Topic4\", \"Topic4\", \"Topic4\", \"Topic4\", \"Topic5\", \"Topic5\", \"Topic5\", \"Topic5\", \"Topic5\", \"Topic5\", \"Topic5\", \"Topic5\", \"Topic5\", \"Topic5\", \"Topic5\", \"Topic5\", \"Topic5\", \"Topic5\", \"Topic5\", \"Topic5\", \"Topic5\", \"Topic5\", \"Topic5\", \"Topic5\", \"Topic5\", \"Topic5\", \"Topic5\", \"Topic5\", \"Topic5\", \"Topic5\", \"Topic5\", \"Topic5\", \"Topic5\", \"Topic5\", \"Topic5\", \"Topic5\", \"Topic5\", \"Topic5\", \"Topic5\", \"Topic5\", \"Topic5\", \"Topic5\", \"Topic5\", \"Topic5\", \"Topic5\", \"Topic5\", \"Topic5\", \"Topic5\", \"Topic5\", \"Topic5\", \"Topic5\", \"Topic5\", \"Topic5\", \"Topic5\", \"Topic5\", \"Topic5\", \"Topic5\", \"Topic5\", \"Topic5\", \"Topic5\", \"Topic5\", \"Topic5\", \"Topic5\", \"Topic5\", \"Topic5\", \"Topic5\", \"Topic5\", \"Topic5\", \"Topic6\", \"Topic6\", \"Topic6\", \"Topic6\", \"Topic6\", \"Topic6\", \"Topic6\", \"Topic6\", \"Topic6\", \"Topic6\", \"Topic6\", \"Topic6\", \"Topic6\", \"Topic6\", \"Topic6\", \"Topic6\", \"Topic6\", \"Topic6\", \"Topic6\", \"Topic6\", \"Topic6\", \"Topic6\", \"Topic6\", \"Topic6\", \"Topic6\", \"Topic6\", \"Topic6\", \"Topic6\", \"Topic6\", \"Topic6\", \"Topic6\", \"Topic6\", \"Topic6\", \"Topic6\", \"Topic6\", \"Topic6\", \"Topic6\", \"Topic6\", \"Topic6\", \"Topic6\", \"Topic6\", \"Topic6\", \"Topic6\", \"Topic6\", \"Topic6\", \"Topic6\", \"Topic6\", \"Topic6\", \"Topic6\", \"Topic6\", \"Topic6\", \"Topic6\", \"Topic6\", \"Topic6\", \"Topic6\", \"Topic6\", \"Topic6\", \"Topic6\", \"Topic6\", \"Topic6\", \"Topic6\", \"Topic6\", \"Topic6\", \"Topic7\", \"Topic7\", \"Topic7\", \"Topic7\", \"Topic7\", \"Topic7\", \"Topic7\", \"Topic7\", \"Topic7\", \"Topic7\", \"Topic7\", \"Topic7\", \"Topic7\", \"Topic7\", \"Topic7\", \"Topic7\", \"Topic7\", \"Topic7\", \"Topic7\", \"Topic7\", \"Topic7\", \"Topic7\", \"Topic7\", \"Topic7\", \"Topic7\", \"Topic7\", \"Topic7\", \"Topic7\", \"Topic7\", \"Topic7\", \"Topic7\", \"Topic7\", \"Topic7\", \"Topic7\", \"Topic7\", \"Topic7\", \"Topic7\", \"Topic7\", \"Topic7\", \"Topic7\", \"Topic7\", \"Topic7\", \"Topic7\", \"Topic7\", \"Topic7\", \"Topic7\", \"Topic7\", \"Topic7\", \"Topic7\", \"Topic7\", \"Topic7\", \"Topic7\", \"Topic7\", \"Topic7\", \"Topic7\", \"Topic7\", \"Topic7\", \"Topic7\", \"Topic7\", \"Topic7\", \"Topic7\", \"Topic7\", \"Topic7\", \"Topic7\", \"Topic7\", \"Topic7\", \"Topic7\", \"Topic7\", \"Topic7\", \"Topic7\", \"Topic8\", \"Topic8\", \"Topic8\", \"Topic8\", \"Topic8\", \"Topic8\", \"Topic8\", \"Topic8\", \"Topic8\", \"Topic8\", \"Topic8\", \"Topic8\", \"Topic8\", \"Topic8\", \"Topic8\", \"Topic8\", \"Topic8\", \"Topic8\", \"Topic8\", \"Topic8\", \"Topic8\", \"Topic8\", \"Topic8\", \"Topic8\", \"Topic8\", \"Topic8\", \"Topic8\", \"Topic8\", \"Topic8\", \"Topic8\", \"Topic8\", \"Topic8\", \"Topic8\", \"Topic8\", \"Topic8\", \"Topic8\", \"Topic8\", \"Topic8\", \"Topic8\", \"Topic8\", \"Topic8\", \"Topic8\", \"Topic8\", \"Topic8\", \"Topic8\", \"Topic8\", \"Topic8\", \"Topic8\", \"Topic8\", \"Topic8\", \"Topic8\", \"Topic8\", \"Topic8\", \"Topic8\", \"Topic8\", \"Topic8\", \"Topic8\", \"Topic8\", \"Topic8\", \"Topic8\", \"Topic8\", \"Topic8\", \"Topic8\", \"Topic9\", \"Topic9\", \"Topic9\", \"Topic9\", \"Topic9\", \"Topic9\", \"Topic9\", \"Topic9\", \"Topic9\", \"Topic9\", \"Topic9\", \"Topic9\", \"Topic9\", \"Topic9\", \"Topic9\", \"Topic9\", \"Topic9\", \"Topic9\", \"Topic9\", \"Topic9\", \"Topic9\", \"Topic9\", \"Topic9\", \"Topic9\", \"Topic9\", \"Topic9\", \"Topic9\", \"Topic9\", \"Topic9\", \"Topic9\", \"Topic9\", \"Topic9\", \"Topic9\", \"Topic9\", \"Topic9\", \"Topic9\", \"Topic9\", \"Topic9\", \"Topic9\", \"Topic9\", \"Topic9\", \"Topic9\", \"Topic9\", \"Topic9\", \"Topic9\", \"Topic9\", \"Topic9\", \"Topic9\", \"Topic9\", \"Topic9\", \"Topic9\", \"Topic9\", \"Topic9\", \"Topic9\", \"Topic9\", \"Topic9\", \"Topic9\", \"Topic10\", \"Topic10\", \"Topic10\", \"Topic10\", \"Topic10\", \"Topic10\", \"Topic10\", \"Topic10\", \"Topic10\", \"Topic10\", \"Topic10\", \"Topic10\", \"Topic10\", \"Topic10\", \"Topic10\", \"Topic10\", \"Topic10\", \"Topic10\", \"Topic10\", \"Topic10\", \"Topic10\", \"Topic10\", \"Topic10\", \"Topic10\", \"Topic10\", \"Topic10\", \"Topic10\", \"Topic10\", \"Topic10\", \"Topic10\", \"Topic10\", \"Topic10\", \"Topic10\", \"Topic10\", \"Topic10\", \"Topic10\", \"Topic10\", \"Topic10\", \"Topic10\", \"Topic10\", \"Topic10\", \"Topic10\", \"Topic10\", \"Topic10\", \"Topic10\", \"Topic10\", \"Topic10\", \"Topic10\", \"Topic10\", \"Topic10\", \"Topic10\", \"Topic10\", \"Topic10\", \"Topic10\", \"Topic10\", \"Topic10\", \"Topic10\", \"Topic10\", \"Topic10\", \"Topic10\", \"Topic10\", \"Topic10\", \"Topic10\", \"Topic10\", \"Topic10\", \"Topic10\", \"Topic10\"], \"Freq\": [472.0, 551.0, 149.0, 100.0, 114.0, 112.0, 198.0, 58.0, 71.0, 101.0, 75.0, 84.0, 38.0, 93.0, 65.0, 38.0, 122.0, 159.0, 65.0, 50.0, 42.0, 26.0, 38.0, 40.0, 37.0, 70.0, 46.0, 41.0, 36.0, 39.0, 1.9298759709281905, 2.163657220222164, 1.9085359966000177, 5.62700886206502, 3.6989188640077617, 5.618040616415909, 15.459823582653057, 7.873363911868966, 9.032829984793011, 19.228284387068122, 36.66503516419204, 43.34047787988687, 93.32935491608353, 2.5532936370476254, 1.2347014295939376, 4.43955226682274, 1.7356051803301564, 6.380572219150785, 1.6029717153117615, 1.6422074240013853, 6.790884317290174, 1.952372088425139, 6.578197214804264, 12.395377237193296, 18.804306378450455, 2.069093606082999, 7.626390328792345, 3.634673382948454, 0.8859609359629067, 14.478262194071679, 18.357475047788306, 437.72706640749084, 17.36333185961455, 42.216202210941255, 6.9295725007609335, 14.503789657952334, 17.822782596526174, 9.669425629628316, 27.15766740528732, 20.214714865916925, 9.870153440690618, 36.38965685884789, 20.056189512674898, 40.161271333355366, 40.523680125960745, 32.821405856886514, 17.506027207849023, 87.79233850731616, 39.01463975278264, 30.418125079406696, 16.16703685421639, 17.0976167487426, 15.838628785873533, 34.181946595094885, 17.155908708192317, 16.90174305253117, 19.853493997108945, 17.796899078269035, 20.201780349091766, 17.303820680222, 17.251423580186717, 0.7361636091078813, 3.253802699066945, 1.0901905943606056, 1.275974979543843, 0.9237806530602984, 42.09116185976881, 0.8192124046255663, 1.0531942586383218, 2.2795725898152743, 0.42840150973856567, 10.774303908242356, 0.5772194602783414, 0.9420587352126397, 6.74544668156696, 1.7484618687037494, 1.0445966178829202, 0.6300244719087538, 0.5923586645849783, 0.4642009781326452, 0.7270216670882538, 1.3175617564972963, 0.36488061538785493, 0.73551819205507, 8.842825952858599, 0.6844991315662813, 2.240344517043703, 2.297962331583532, 1.7587137874458212, 3.7955816254684476, 2.117264106931131, 12.243329499867905, 6.786372873043179, 27.276809853730377, 21.05355845392869, 5.271183911914739, 2.9846575633035655, 2.1671054058504993, 3.679667437447021, 4.015680468313045, 3.0863942741277146, 6.716933314539272, 8.220269948345443, 13.185224333246797, 13.387016830788049, 19.70247726017809, 29.22268173673984, 12.759292613059278, 8.443139699403336, 5.338519855638699, 6.107367587281908, 8.710498178748267, 7.770925782456506, 5.557081125909577, 21.142580204509503, 19.86353274185978, 14.032497301757019, 18.235316360587714, 16.17015591600695, 10.435633473726853, 12.78451707574673, 13.069015904407916, 19.28348760122631, 19.30045094561927, 14.138154614552466, 19.429048273919918, 14.63503810065499, 39.35181417370074, 21.198625993827704, 11.915544308354201, 16.690264248631927, 18.183860441498254, 16.77258985146817, 14.06949613356962, 17.193338471064923, 15.862026775883198, 20.691529529731902, 13.782807815262695, 13.419536168800606, 1.7849173804346834, 1.6470905787940835, 2.3449210944446244, 0.9899162333393423, 1.790275171261769, 1.5120526739717846, 400.80604958712684, 4.810396649269371, 0.7030935532950459, 68.14819306029518, 1.0068893528718967, 2.623487128275314, 30.747114987944233, 1.4828202264681694, 2.6187053551981565, 1.0497134577257994, 0.5540790490453735, 2.1722966526825056, 0.8993835585082575, 2.1718467350328674, 27.20615594809367, 5.291414365481875, 3.632409418275726, 1.0799154501364823, 1.4360047440932593, 8.922225375391445, 1.9247671139105573, 0.903241539911552, 47.45914112089835, 1.103472590838578, 17.978720387771233, 7.717786363198491, 5.588354845260579, 67.56292886107985, 8.171914113441646, 4.951855962342581, 25.78602440458906, 12.438981511114102, 21.077910048685684, 7.510672160664727, 67.77804982233765, 8.740471666656841, 22.43402070319889, 13.583447159683283, 11.940163286737512, 12.103272678329937, 18.79058873865001, 28.685616613828078, 10.134561302004034, 30.94806551654092, 21.859430399568677, 57.30626323898882, 19.069867819298036, 22.206927835819034, 23.02570874490343, 23.78450006198506, 19.15281807746913, 10.836059011486155, 10.971453695982966, 12.26329628685205, 15.336075307899963, 16.900440748264636, 18.0828024114175, 14.188144614090374, 12.832552294899795, 12.825417816539618, 13.436776610926957, 13.234847807560692, 13.12077409220994, 1.238141249413821, 18.67653874409267, 2.2087484827613113, 10.424335200318003, 0.9478755262064675, 0.4725885409151225, 3.3546865646847497, 5.196082189841243, 94.0613183023974, 14.878532331204589, 0.9735744562905656, 9.35583975368434, 5.715544455358524, 0.7618381562603064, 1.2863094728913083, 4.999281300763693, 0.48881490225885005, 1.0091118966219164, 4.09895426176462, 0.5375403864335232, 1.892256029122807, 24.345041827965595, 2.681136024586771, 0.44070672813754325, 2.255780743388745, 0.9080412420524917, 0.22167761075634196, 0.45145263934763413, 10.410526743486491, 0.8345759459919484, 1.9439476870298438, 1.3883305625780589, 7.336472187742001, 11.535934878953492, 5.100681925357565, 21.072052420878787, 3.9688366050936787, 6.2514503944691775, 11.688524394271017, 5.084592596381691, 19.066178002423232, 19.669095451171078, 15.867477367777619, 7.164554763354434, 11.339928434676136, 7.928046650225436, 5.814592073020887, 12.609290668622403, 10.525365995165426, 12.40728307376736, 12.169591150788635, 14.030656854058641, 21.391328270296324, 10.79626850002016, 11.51881827301935, 26.10563299457853, 15.752885930568112, 13.451893600616765, 10.794685442183566, 9.308091159484333, 10.99893223103734, 10.377055994191856, 14.83323132721544, 9.727551577690326, 9.426343809551607, 4.383796376231235, 1.8552141785844807, 4.672648942231681, 5.888562747065456, 0.8625300954536355, 58.43394248555234, 6.066202741949471, 6.387396214637044, 1.9082236829935397, 6.757657834645129, 12.890954100915197, 0.6638815847958768, 0.5899221361983811, 12.94486653229519, 7.034998150202346, 8.094622675824558, 6.166063255423859, 1.5564216906502304, 0.4350272807171575, 1.7692491736208782, 8.354860216983067, 0.7959336815434214, 0.7427679554347412, 1.3578039957737658, 1.7502313386777122, 2.186881985445402, 1.3674012571839336, 1.0036172541268302, 3.2485840767155056, 7.3079495546745985, 22.64068989467737, 6.4509632766607945, 4.126546582500189, 11.704344252773442, 4.185530050092635, 14.720601879329857, 7.791269056214851, 11.457069360888145, 5.349108670088031, 16.508664645232233, 6.161279979008128, 3.3808669327793255, 6.176796229542711, 7.354915935570405, 12.012653560225369, 4.077179336194276, 4.319443792399416, 24.804907574325977, 9.192991806170339, 11.720882865478346, 10.689421925674223, 23.35421494846655, 24.286034330138474, 9.816667697647707, 14.083869945984588, 11.771506475230277, 9.77043209422668, 9.01568870154355, 8.534467006707242, 7.724806593658344, 7.919067923453231, 7.703360064752073, 7.436606907422479, 7.365064584642029, 3.2414908596280188, 4.060672856624024, 38.558882655746025, 3.0059601094181145, 6.509103198806488, 3.004230881209897, 1.4550924231443239, 4.248737440216458, 0.7343414498069105, 3.4622144110157853, 5.143482500869821, 2.4724074689483917, 1.3754554102363092, 1.6901690543355903, 1.7482814551857935, 6.358677872635693, 1.8970313959297842, 12.485598783652218, 1.3572003844657585, 1.8332646447659318, 4.3978820040961795, 1.1289273801414312, 1.10592967770959, 0.9563947490728877, 2.598909594204181, 10.0539572267108, 2.1244937705057896, 7.3126107126609385, 3.3989465191855555, 3.926942877071361, 30.540645235478376, 47.31134561706762, 3.5658367788240635, 82.64626055966006, 27.939153813943754, 4.389505336647012, 26.437997807426445, 25.30159113277849, 7.432610829668223, 4.771851954145982, 10.399337485724812, 31.876674610294106, 5.80131482085448, 12.585422869031307, 13.47265977607134, 14.146917247774173, 17.162978442430404, 11.178400369534495, 5.178103578559665, 11.751293531562801, 9.531843289558948, 7.473304353702702, 8.954133881598585, 8.031545796178355, 8.415241632391192, 5.736489470018429, 7.19085665878955, 7.535334382060064, 7.4069994970145245, 7.470715440670912, 7.590778082571901, 7.216970059052896, 7.845462960176873, 4.583860817566108, 147.86019704376056, 4.599106846759073, 0.9857645512840836, 1.0111789713566812, 1.6370885758388083, 7.110451916739182, 2.735294039938342, 2.9180913383384603, 10.102290714952995, 0.7058763739885678, 20.247635442372996, 2.9522540092971883, 1.4328620622871906, 1.9729346598294368, 1.1273593279308545, 1.494095902615047, 0.7208432543112017, 1.5702669350373641, 0.7581285545964074, 17.955319832715855, 0.8001529137596795, 1.508314894661987, 1.3187942449404282, 0.6698152163091375, 1.5589605817279883, 0.6031143849172583, 0.6194133016257295, 0.665525353895873, 0.6024521646051195, 33.65170695543595, 6.059909092392044, 2.2177026966423807, 1.5578334965313363, 1.2542749236486392, 4.8059410542758325, 4.498195492530729, 2.5587145878043125, 5.735260924493344, 6.234390246971603, 3.654682873928233, 8.761067566595994, 5.338713570472053, 6.545147368050785, 7.5088476809895655, 4.27601750803193, 7.006112177392258, 4.754622730431395, 8.609149548833631, 12.701172364623343, 7.466503321427815, 9.342135690561939, 6.005918252800781, 6.840991143751362, 7.995746968470264, 14.286237563750902, 15.711148166468822, 10.1823604706813, 9.261546611487825, 7.269227173791501, 8.035603179575839, 8.002868454540144, 7.869156387372396, 9.236983857012921, 7.3747326495770675, 6.9049324488168144, 7.025057449959245, 7.4164533489911735, 6.58585519700606, 6.739773950602956, 112.53746113480992, 5.92430741127306, 3.079972911530087, 3.2635684615152116, 4.816855722414664, 20.622354471927643, 6.730404299591096, 2.6271326560050334, 0.8536080539597565, 3.7638105311367536, 0.5490131585473147, 2.739898610889355, 28.58397746024395, 4.306682489929926, 2.260631028448941, 7.473376205284832, 0.9786296649452302, 0.7307730692017627, 0.38417613007182977, 1.7319357025200541, 4.909301889540127, 3.7587764525302143, 11.373516837980002, 1.313420617610034, 43.549934225775594, 0.7497396068235846, 0.2263470372189729, 1.2177548599281367, 1.1745887426517096, 0.4198697430796999, 1.6392421705888187, 3.976373148241836, 25.861847276932156, 21.0714896952467, 8.027947008977167, 4.646081956963485, 26.884286193941655, 2.5969554125458654, 5.02681919377176, 13.934011300988326, 1.9451254461116665, 10.50882193355071, 5.748785829553742, 7.642228179582105, 11.627678093669187, 33.44163748505659, 14.97202975761463, 19.680830879640922, 11.106242073836452, 7.843580796919442, 10.52561018756775, 6.505171621800692, 13.175077267050396, 9.634863003264066, 8.278791428393225, 18.390012423388548, 9.872666729116904, 9.194826764119775, 13.422886978474915, 9.607211889360242, 12.110888980544702, 8.802728935847385, 8.243677170202135, 38.025337278480826, 2.4196556092252606, 4.6372681603588815, 5.741984083415566, 6.416285763448465, 26.88281778408646, 1.5038776261327749, 3.3834466333715336, 1.744234655309507, 1.9957190539347018, 1.4534378109566357, 1.1619242145181539, 10.610300004405614, 0.46384561548630976, 0.8697666116030788, 0.881391233912813, 24.329746460719196, 3.314184299947693, 3.0040569780365853, 9.227975353086252, 3.9272750249439894, 39.874466459672014, 0.7154491243805579, 0.8318204802960413, 0.7809536393447051, 1.3497787572513549, 1.3465635562083542, 0.32658621707550295, 6.398985720213649, 0.5541610356536558, 10.74221406861969, 3.838149289150606, 14.505760189376984, 1.8761031567455986, 5.75114178943247, 6.274960694845762, 13.447553047268055, 3.1826259017009577, 9.17341876473037, 4.763009698820317, 3.4691812526674943, 8.451986252677482, 7.5089160753623325, 10.312972528459644, 7.480363122320581, 9.720283794927566, 6.734956871819513, 8.980291592175787, 11.527329826288438, 15.422539174358782, 9.802963431381027, 7.352847283023502, 6.685242488544391, 6.036661955135687, 7.227696991113703, 6.751767397342115, 5.826167125820401, 100.88408894146151, 5.908640904694088, 7.97924223375652, 1.1445282918045165, 0.6606722859471764, 6.088000924213357, 1.751954424057463, 2.625899525575055, 0.9786583726851255, 1.0145004291824287, 1.3989222524381826, 0.48707232609084017, 0.7887969069331596, 0.9245908284514119, 0.5749380744984686, 0.7860831369960742, 0.7527110213697604, 2.189885708956118, 1.9726276057134324, 0.9058626277578083, 0.388307963115459, 1.0465557002120092, 0.2991776233064868, 0.44723169999865753, 2.171603146231867, 0.6118251484098722, 0.7353270879742436, 7.723041111328466, 0.4322958810078321, 0.47738825113113137, 0.9784414352889163, 0.9526443235803551, 2.726758493563603, 0.8180925787489833, 1.948474231053496, 4.732799596007159, 5.642318841687998, 2.959493233369483, 2.5145320752699387, 2.6015229713280803, 4.138406548062698, 5.843634827639949, 4.516661040192669, 4.158256328428433, 2.054425647355377, 4.349375602676413, 2.608404622996257, 7.231129637390443, 3.5769831330740685, 9.255561493172053, 2.419203753429663, 2.4008258552470036, 5.17325948277848, 12.273317127177565, 4.007734563805931, 4.750841318472588, 3.633661343193793, 3.942210512873018, 4.474340180492235, 4.385404621798251, 4.059585045954529, 3.2555165976646006, 3.757771954885394, 4.271129154029729, 3.3282213788608086, 3.3214604707145363, 3.3916954034018505], \"Term\": [\"skin\", \"thi\", \"cream\", \"mask\", \"cleans\", \"moist\", \"fac\", \"acn\", \"ton\", \"year\", \"cle\", \"sensit\", \"spray\", \"smel\", \"wash\", \"scrub\", \"dry\", \"feel\", \"night\", \"makeup\", \"ser\", \"mist\", \"exfo\", \"remov\", \"refresh\", \"soft\", \"ord\", \"gentl\", \"greasy\", \"amazon\", \"march\", \"nail\", \"arizon\", \"remark\", \"counterfeit\", \"vend\", \"origin\", \"fak\", \"salon\", \"sel\", \"amazon\", \"ord\", \"year\", \"tamp\", \"blist\", \"skinmedic\", \"meh\", \"auth\", \"scam\", \"licens\", \"reord\", \"genuin\", \"discontinu\", \"pevon\", \"im\", \"distribut\", \"onlin\", \"surgeon\", \"employ\", \"ship\", \"item\", \"thi\", \"spa\", \"purchas\", \"paid\", \"return\", \"disappoint\", \"jan\", \"bought\", \"receiv\", \"esthet\", \"pric\", \"sam\", \"ve\", \"recommend\", \"best\", \"happy\", \"hav\", \"tim\", \"diff\", \"sev\", \"old\", \"ing\", \"wil\", \"alway\", \"dermatolog\", \"wond\", \"got\", \"lin\", \"bef\", \"look\", \"fountain\", \"botox\", \"inject\", \"nurs\", \"frown\", \"ser\", \"fat\", \"brow\", \"stem\", \"lifetim\", \"strivectin\", \"dilig\", \"latest\", \"serum\", \"machin\", \"hydroquinon\", \"war\", \"conf\", \"cancel\", \"dep\", \"saggy\", \"gimmick\", \"ha\", \"vitamin\", \"wrink\", \"brandt\", \"crow\", \"grow\", \"brown\", \"freckl\", \"dark\", \"forehead\", \"result\", \"wrinkl\", \"lift\", \"tip\", \"creas\", \"pig\", \"fil\", \"dev\", \"drop\", \"retinol\", \"spot\", \"ag\", \"ey\", \"ar\", \"improv\", \"appear\", \"fad\", \"saw\", \"reduc\", \"firm\", \"claim\", \"lin\", \"week\", \"thes\", \"apply\", \"did\", \"pump\", \"neck\", \"fin\", \"don\", \"diff\", \"ther\", \"mor\", \"som\", \"hav\", \"look\", \"say\", \"day\", \"wil\", \"just\", \"bottl\", \"aft\", \"al\", \"skin\", \"oth\", \"yo\", \"phenom\", \"superb\", \"fee\", \"steady\", \"button\", \"splotchy\", \"skin\", \"dehydr\", \"gem\", \"sensit\", \"rosy\", \"regardless\", \"car\", \"england\", \"compl\", \"nut\", \"demand\", \"psorias\", \"insert\", \"mil\", \"irrit\", \"comfort\", \"drink\", \"prefer\", \"ric\", \"av\", \"glowy\", \"boot\", \"soft\", \"oint\", \"combin\", \"comply\", \"penny\", \"dry\", \"del\", \"flaky\", \"smoo\", \"sooth\", \"red\", \"bioel\", \"feel\", \"calm\", \"hydr\", \"glow\", \"sup\", \"smooth\", \"amaz\", \"look\", \"typ\", \"aft\", \"leav\", \"hav\", \"help\", \"ton\", \"recommend\", \"mak\", \"night\", \"tight\", \"bright\", \"perfect\", \"oi\", \"wel\", \"yo\", \"week\", \"nev\", \"gentl\", \"lin\", \"tim\", \"moist\", \"ray\", \"spf\", \"uv\", \"protect\", \"dioxid\", \"weightless\", \"matt\", \"lightweight\", \"moist\", \"sunscreen\", \"titan\", \"tint\", \"shin\", \"spectr\", \"colorado\", \"shiny\", \"comprom\", \"afternoon\", \"blend\", \"lightest\", \"zint\", \"greasy\", \"clim\", \"airy\", \"shad\", \"reapply\", \"sunny\", \"broad\", \"cov\", \"cakey\", \"sunblock\", \"pal\", \"mat\", \"heavy\", \"provid\", \"light\", \"soak\", \"ahav\", \"absorb\", \"clog\", \"lot\", \"oi\", \"oil\", \"sun\", \"goe\", \"wint\", \"escu\", \"apply\", \"nee\", \"doesn\", \"hydr\", \"al\", \"fac\", \"littl\", \"day\", \"thi\", \"feel\", \"dry\", \"doe\", \"long\", \"mak\", \"just\", \"skin\", \"hav\", \"ev\", \"zit\", \"antibiot\", \"proact\", \"benzoyl\", \"benzyl\", \"acn\", \"salicyl\", \"peroxid\", \"bp\", \"hormon\", \"pimpl\", \"infect\", \"sporad\", \"blem\", \"teen\", \"cyst\", \"adult\", \"bleach\", \"clearasil\", \"buff\", \"glyton\", \"cyc\", \"shrinks\", \"bacter\", \"struggled\", \"effacl\", \"struggle\", \"otc\", \"sulf\", \"scar\", \"clear\", \"control\", \"prescrib\", \"tre\", \"suff\", \"breakout\", \"acid\", \"spot\", \"glycol\", \"help\", \"heal\", \"son\", \"ed\", \"pron\", \"lot\", \"chin\", \"bump\", \"hav\", \"red\", \"day\", \"wash\", \"skin\", \"thi\", \"oi\", \"fac\", \"dry\", \"aft\", \"ton\", \"week\", \"start\", \"ev\", \"ve\", \"al\", \"just\", \"partic\", \"jack\", \"scrub\", \"beard\", \"scrubs\", \"gran\", \"masculin\", \"sand\", \"ground\", \"grit\", \"abras\", \"gritty\", \"grain\", \"peppermint\", \"peach\", \"bead\", \"st\", \"shav\", \"ingrown\", \"raz\", \"scrubbing\", \"task\", \"coff\", \"scratch\", \"log\", \"men\", \"apricot\", \"anthony\", \"pol\", \"bil\", \"exfo\", \"smel\", \"guy\", \"fac\", \"wash\", \"rough\", \"cle\", \"yo\", \"soap\", \"bliss\", \"fresh\", \"feel\", \"body\", \"scent\", \"nic\", \"leav\", \"aft\", \"smoo\", \"husband\", \"mak\", \"littl\", \"bit\", \"just\", \"week\", \"soft\", \"qual\", \"amaz\", \"oth\", \"don\", \"ar\", \"wil\", \"doe\", \"thi\", \"elizabe\", \"cream\", \"ard\", \"weigh\", \"somebody\", \"crme\", \"nux\", \"nighttim\", \"immortel\", \"rich\", \"cloy\", \"jar\", \"frant\", \"crep\", \"dens\", \"study\", \"ceramid\", \"sport\", \"tremend\", \"spatul\", \"neck\", \"opportun\", \"laud\", \"precy\", \"methylparab\", \"divin\", \"lancm\", \"sick\", \"parf\", \"die\", \"night\", \"crem\", \"olay\", \"eyelid\", \"decollet\", \"occit\", \"perfum\", \"daytim\", \"firm\", \"elem\", \"luxury\", \"wrinkl\", \"vichy\", \"heavy\", \"absorb\", \"wak\", \"ag\", \"creamy\", \"greasy\", \"day\", \"expend\", \"nic\", \"fragr\", \"morn\", \"scent\", \"fac\", \"hav\", \"smel\", \"just\", \"ey\", \"don\", \"oth\", \"best\", \"feel\", \"ar\", \"hydr\", \"al\", \"thi\", \"littl\", \"dry\", \"cleans\", \"clarison\", \"squeaky\", \"stripping\", \"waterproof\", \"foam\", \"mascar\", \"foamy\", \"clairson\", \"clo\", \"incid\", \"strip\", \"remov\", \"thorough\", \"stripped\", \"lath\", \"swip\", \"drain\", \"dermo\", \"trac\", \"micell\", \"milk\", \"rins\", \"eyelin\", \"cle\", \"gal\", \"splashing\", \"milky\", \"soapy\", \"fluffy\", \"washclo\", \"brush\", \"makeup\", \"gentl\", \"soap\", \"gent\", \"wash\", \"bioderm\", \"residu\", \"oil\", \"cetaphil\", \"wat\", \"cotton\", \"pump\", \"ey\", \"fac\", \"leav\", \"dry\", \"doesn\", \"tak\", \"bottl\", \"gel\", \"feel\", \"wel\", \"scent\", \"thi\", \"al\", \"doe\", \"hav\", \"sensit\", \"skin\", \"yo\", \"oi\", \"spray\", \"sprayed\", \"spraying\", \"sprays\", \"spritz\", \"mist\", \"desk\", \"purs\", \"nzle\", \"rosew\", \"fridg\", \"flash\", \"set\", \"canva\", \"pool\", \"grap\", \"refresh\", \"therm\", \"ir\", \"cotton\", \"hot\", \"ton\", \"grab\", \"gym\", \"wed\", \"witch\", \"hazel\", \"leng\", \"ros\", \"sweaty\", \"pad\", \"alcohol\", \"wat\", \"ast\", \"cool\", \"wip\", \"makeup\", \"micell\", \"thes\", \"bal\", \"powd\", \"bottl\", \"scent\", \"mak\", \"nic\", \"aft\", \"bef\", \"smel\", \"fac\", \"thi\", \"feel\", \"day\", \"hydr\", \"remov\", \"yo\", \"ar\", \"apply\", \"mask\", \"sheet\", \"clay\", \"liquidy\", \"fabr\", \"mud\", \"messy\", \"masqu\", \"tricky\", \"walmart\", \"charco\", \"stinky\", \"reserv\", \"pearl\", \"chunk\", \"mislead\", \"goop\", \"pul\", \"temp\", \"stain\", \"cat\", \"drip\", \"commerc\", \"city\", \"relax\", \"kay\", \"lux\", \"minut\", \"bior\", \"parch\", \"detox\", \"slimy\", \"inst\", \"steam\", \"excess\", \"rins\", \"felt\", \"borghes\", \"overnight\", \"lay\", \"left\", \"thes\", \"easy\", \"peel\", \"warm\", \"por\", \"cool\", \"aft\", \"ont\", \"fac\", \"afterward\", \"rub\", \"ar\", \"thi\", \"apply\", \"tim\", \"remov\", \"week\", \"wil\", \"look\", \"soft\", \"jar\", \"leav\", \"feel\", \"amaz\", \"hydr\", \"yo\"], \"Total\": [472.0, 551.0, 149.0, 100.0, 114.0, 112.0, 198.0, 58.0, 71.0, 101.0, 75.0, 84.0, 38.0, 93.0, 65.0, 38.0, 122.0, 159.0, 65.0, 50.0, 42.0, 26.0, 38.0, 40.0, 37.0, 70.0, 46.0, 41.0, 36.0, 39.0, 1.9298759709281905, 2.163657220222164, 1.9085359966000177, 5.655392693630505, 3.7252054030326835, 5.694380698358956, 15.925700047216333, 8.141092990704253, 9.37717048383423, 20.52209967538768, 39.30209977162059, 46.95698482142501, 101.20400757383716, 2.769531784091383, 1.355340065866619, 4.874183720730103, 1.9369677330572432, 7.217926818606366, 1.8271754998313985, 1.8884520803445795, 7.833446285735137, 2.2645100098305457, 7.631101998154442, 14.417063114248098, 21.905959984150392, 2.4112540370655653, 8.893869263798628, 4.2518632056839945, 1.0392974229799994, 17.18608220926263, 21.9311033936759, 551.9564191559364, 21.03626602640297, 53.26952020500404, 8.359918848081515, 18.051525473124364, 22.542533107719837, 12.372623441179101, 38.711395111885686, 29.304644796336007, 12.863336510076731, 60.46030994569005, 29.904228450025773, 76.5749605819301, 78.43427704232825, 62.08186082460779, 28.014931496360482, 252.37679153682976, 83.83202581836647, 60.48083222441693, 26.144397724088865, 29.168486026660357, 26.404306511985187, 90.02144939202492, 30.025844865564952, 30.676880516924214, 45.10544688254175, 35.75196607382002, 59.78681188183847, 43.64835434102121, 87.19644935435258, 0.7361636091078813, 3.253802699066945, 1.0901905943606056, 1.275974979543843, 0.9237806530602984, 42.09116185976881, 0.8380989932018921, 1.0944327525713244, 2.386007729581639, 0.4557102460460081, 11.649836411786382, 0.6350536537523351, 1.0510527996237184, 7.753623545788153, 2.0678570371474536, 1.2374214905396026, 0.7517050756490076, 0.7115984259741284, 0.5624936496188545, 0.883508335915442, 1.6030665505436583, 0.44889172441223313, 0.9148360993744594, 11.12201528163359, 0.8628810810478985, 2.8422204091694763, 2.9373740175843843, 2.2648482282934577, 4.892359942935332, 2.7341043341800706, 16.12264420324187, 8.89553361922209, 39.02650505357453, 29.814626020524685, 7.1016418949939855, 3.9333043398844896, 2.825314333367584, 5.137522236432442, 5.670947866835689, 4.241415822189785, 10.474450931633658, 13.968601074969582, 24.642293694134942, 25.930104699372336, 41.60028509764998, 69.81141605118246, 25.320663906640732, 15.579021368434562, 8.74729488456461, 10.46731396481713, 16.6946756252909, 14.687211054164871, 9.499356237989076, 59.78681188183847, 54.88917561736325, 34.315718365935965, 49.74536210463652, 42.35586988887346, 22.78554427006732, 30.739836908462586, 33.09721623321636, 60.0666158120129, 60.48083222441693, 38.00087560464602, 65.10436391761812, 42.920607355800094, 252.37679153682976, 87.19644935435258, 32.67549334002891, 69.68691430219656, 90.02144939202492, 76.11738627933912, 53.067967562753154, 101.44159548372359, 82.46687546033101, 472.64829168036476, 61.662021287972266, 89.59627188926875, 1.9637517963862978, 1.8265187921359851, 2.636525322529876, 1.1269840276470329, 2.070806302271334, 1.7673788556835137, 472.64829168036476, 5.774097430041865, 0.8623190583880322, 84.83460622423229, 1.2620111257218003, 3.351488873767613, 39.54586168919524, 1.9156500191372656, 3.4530833228871463, 1.3856172612346809, 0.7323322356866512, 2.9527226957825965, 1.2311567353501152, 3.0477970093564766, 38.33941550027315, 7.542054567404371, 5.26538927467902, 1.57748576398416, 2.1037632537492628, 13.111723259379412, 2.8395090154105675, 1.3385152566800644, 70.53171470613373, 1.6433124758347042, 27.755749007352136, 11.853073196577489, 8.709648600181566, 122.30948433751821, 13.165512961965412, 7.8155935640497045, 48.3344750835442, 21.943471409721845, 40.68137238395952, 12.604192983202712, 159.33903424542308, 15.481907526462212, 51.51524726206326, 27.840030733360987, 24.589423324318386, 26.61147837202246, 48.40044166066253, 87.19644935435258, 21.338102314530524, 101.44159548372359, 63.24753721971355, 252.37679153682976, 53.72946678636345, 71.09708299703459, 78.43427704232825, 89.1272119030291, 65.10241873132489, 24.14583138563526, 24.8439909961195, 32.50838878654798, 53.52486776116438, 69.82388157077375, 89.59627188926875, 54.88917561736325, 40.89539360172113, 41.43898915329877, 59.78681188183847, 83.83202581836647, 112.9671340499859, 1.238141249413821, 18.67653874409267, 2.2965492306729787, 11.854967616907512, 1.1118974311814125, 0.5582287355501719, 3.96301076977784, 6.2315989803496326, 112.9671340499859, 18.176429559169723, 1.1906699404613161, 11.470165395822182, 7.433976673618847, 1.0154137539345578, 1.7163304384432594, 6.751431328534872, 0.6791610430678188, 1.4606246477529912, 5.961777093822398, 0.7933389293719614, 2.8067746196488454, 36.18136316786472, 4.016675155690571, 0.6629849671116581, 3.432559796520952, 1.3942710109670355, 0.34373262798855564, 0.7223742726673335, 16.7338219967518, 1.3529958280699286, 3.164821806672346, 2.2957203796791057, 13.00546077277851, 20.84822978036228, 8.939582660957518, 41.747038867089714, 6.902267741100433, 11.806131451850737, 25.335455152585425, 9.7743529929304, 48.020379515973985, 53.52486776116438, 41.16153421316479, 15.853669246824257, 29.642656762745045, 21.40179890830696, 13.79286512521152, 49.74536210463652, 38.27936823758908, 52.18665542722432, 51.51524726206326, 82.46687546033101, 198.0957729874699, 52.96277163250788, 69.68691430219656, 551.9564191559364, 159.33903424542308, 122.30948433751821, 66.40164366974554, 44.240591241817484, 89.1272119030291, 76.11738627933912, 472.64829168036476, 252.37679153682976, 79.03410941198027, 4.383796376231235, 1.8552141785844807, 4.672648942231681, 5.888562747065456, 0.8625300954536355, 58.43394248555234, 6.066202741949471, 6.387396214637044, 1.9082236829935397, 6.803460172108303, 13.054487749713305, 0.6725326260333467, 0.6058077652525724, 13.585512295221672, 7.449916843592012, 8.600368391644146, 6.81298227536612, 1.742724993256217, 0.4888813754354784, 1.9962661144699243, 9.46579675599658, 0.9554200893151295, 0.8951628218214077, 1.642252511955157, 2.1429388673153533, 2.833762174900195, 1.8779843976740973, 1.3967288476109427, 4.575291952959294, 10.658169271705015, 36.65444647667808, 9.919880991740113, 6.352072844993537, 21.484998852894616, 6.55704502260594, 29.34808697871516, 14.189302208353897, 24.642293694134942, 9.914780956362897, 53.72946678636345, 12.994049457350538, 5.6013286984716855, 14.792304697334808, 20.87510938520013, 48.020379515973985, 7.757702114075167, 8.646593636386212, 252.37679153682976, 40.68137238395952, 69.68691430219656, 65.62427466444484, 472.64829168036476, 551.9564191559364, 53.52486776116438, 198.0957729874699, 122.30948433751821, 101.44159548372359, 71.09708299703459, 54.88917561736325, 34.91843994924106, 79.03410941198027, 76.5749605819301, 82.46687546033101, 76.11738627933912, 3.2414908596280188, 4.060672856624024, 38.558882655746025, 3.0059601094181145, 6.509103198806488, 3.004230881209897, 1.4550924231443239, 4.248737440216458, 0.7343414498069105, 3.4622144110157853, 5.157638150336817, 2.5607014445836223, 1.4327322613052749, 1.7842036744475531, 1.8637299207487958, 6.933614239200597, 2.075643268568067, 13.665430738133576, 1.489193869175844, 2.0300120488926003, 4.878827037791382, 1.2563737160741995, 1.2402102417243084, 1.0864748557878858, 3.0173778178275703, 11.81673111427936, 2.5120211639449783, 8.673986199536591, 4.228348127124244, 4.889113471906543, 38.205270463722115, 93.6099550849911, 4.789248459762548, 198.0957729874699, 65.62427466444484, 6.477336791204006, 75.41510832897254, 89.59627188926875, 15.713119298130696, 8.39671609322908, 27.464926921172328, 159.33903424542308, 11.681282095677055, 46.687482301108076, 53.034565655004116, 63.24753721971355, 101.44159548372359, 48.3344750835442, 10.117085300299502, 89.1272119030291, 52.96277163250788, 33.81200795030693, 76.11738627933912, 54.88917561736325, 70.53171470613373, 16.24363543565515, 48.40044166066253, 61.662021287972266, 60.0666158120129, 69.81141605118246, 90.02144939202492, 66.40164366974554, 551.9564191559364, 4.644949975470096, 149.93052523464823, 4.805389835087209, 1.24335354958542, 1.2897473263537578, 2.1258212744441805, 9.275314337552691, 3.6392000042117036, 4.047620283304759, 14.402545377510288, 1.0094745826707199, 29.47112003595157, 4.304127207234926, 2.1804278950077354, 3.073809580597856, 1.7666167787549025, 2.360054584252237, 1.1787092002440271, 2.598682121547582, 1.2895459095691009, 30.739836908462586, 1.396421364896046, 2.6658219212644156, 2.3504259943303505, 1.207452967493612, 2.8287247149556927, 1.1059612197695232, 1.1405608731645753, 1.2300982417360904, 1.131821215459435, 65.10241873132489, 11.54688560703148, 4.208495254075185, 2.9358974721981266, 2.365261571407835, 10.199833402257797, 9.897717876142124, 5.4585993089682, 14.687211054164871, 16.468540201808306, 8.967327607876772, 29.814626020524685, 15.534985565907167, 20.84822978036228, 25.335455152585425, 11.719460915371824, 25.930104699372336, 14.251248767728615, 36.18136316786472, 69.68691430219656, 33.88716747932256, 53.034565655004116, 25.03947877587136, 33.32404412903958, 46.687482301108076, 198.0957729874699, 252.37679153682976, 93.6099550849911, 76.11738627933912, 41.60028509764998, 60.0666158120129, 61.662021287972266, 62.08186082460779, 159.33903424542308, 69.81141605118246, 51.51524726206326, 82.46687546033101, 551.9564191559364, 52.96277163250788, 122.30948433751821, 114.36066540259765, 6.432070716182225, 3.4246340415946985, 3.6867975058219367, 5.7238262562585644, 25.24103498921824, 8.316695342550304, 3.2706939077030235, 1.1700339536517161, 5.287353682559959, 0.7760131864948354, 3.8789524783248694, 40.4746770782407, 6.172977461534582, 3.302724534678606, 11.704398620172352, 1.5543000543149255, 1.1781150358414254, 0.6341315237250327, 2.8687899167052815, 8.153307386859046, 6.278755711545672, 19.231371577156764, 2.2277075896932885, 75.41510832897254, 1.3098971923287126, 0.39785835360074767, 2.161639220842205, 2.0977420667212634, 0.7503747777270363, 2.9654119904649363, 7.342737381340324, 50.84993375439967, 41.43898915329877, 15.713119298130696, 9.100709592393127, 65.62427466444484, 5.032048907102673, 11.274947187687935, 41.16153421316479, 3.644599233247879, 31.252620107735982, 15.142470091860812, 22.78554427006732, 41.60028509764998, 198.0957729874699, 63.24753721971355, 122.30948433751821, 52.18665542722432, 27.531312787544877, 53.067967562753154, 21.83154913933963, 159.33903424542308, 69.82388157077375, 46.687482301108076, 551.9564191559364, 82.46687546033101, 66.40164366974554, 252.37679153682976, 84.83460622423229, 472.64829168036476, 89.59627188926875, 53.52486776116438, 38.025337278480826, 2.4196556092252606, 4.6372681603588815, 5.741984083415566, 6.416285763448465, 26.88281778408646, 1.523533473926989, 3.5174358713678875, 1.8231714609110368, 2.324347946717478, 1.7735156483664756, 1.566904664897125, 14.559919752029236, 0.6367301581507862, 1.2593130544150124, 1.3029287022154508, 37.87611874116528, 5.181573551444239, 4.868491628733016, 15.142470091860812, 6.846802207981921, 71.09708299703459, 1.3122134621500368, 1.554707685057223, 1.488656377861656, 2.606621767390335, 2.624744863843903, 0.6451683938795798, 12.778466290359482, 1.122052055171371, 22.051507199014033, 7.822335596667827, 31.252620107735982, 3.8375182020152456, 13.63122120759234, 15.480165056978464, 50.84993375439967, 8.153307386859046, 34.315718365935965, 14.947275817967649, 9.598164428269998, 53.067967562753154, 46.687482301108076, 89.1272119030291, 53.034565655004116, 101.44159548372359, 43.64835434102121, 93.6099550849911, 198.0957729874699, 551.9564191559364, 159.33903424542308, 69.68691430219656, 51.51524726206326, 40.4746770782407, 89.59627188926875, 69.81141605118246, 49.74536210463652, 100.88408894146151, 6.242580634312706, 8.783345462137508, 1.4922841127753714, 0.9210392957944195, 10.15181587424589, 3.182124939621797, 4.795002055780365, 1.8066025169558038, 1.8764153767484113, 2.5921675170173026, 0.9080992880319851, 1.4888179096550243, 1.7464096365914834, 1.1535448804470652, 1.630554744533029, 1.5650753182590194, 4.645396397322291, 4.1871380194422585, 1.9311785869843274, 0.8329271790934345, 2.2960182288974513, 0.6589263432399096, 1.0200045533379667, 5.0311086806401555, 1.441687650913305, 1.7515139293187878, 18.606786365921984, 1.0515490700154495, 1.1659357042285152, 2.3985985657315765, 2.483912093796287, 8.221479072062687, 2.133848964412966, 6.249704127669881, 19.231371577156764, 24.74140704393631, 11.098904795421685, 9.159663730462423, 9.602548945724973, 19.386925958435846, 34.315718365935965, 28.434062889715563, 27.83133618434322, 8.5476833070957, 34.00547521205035, 13.63122120759234, 101.44159548372359, 26.737912030413856, 198.0957729874699, 12.149315483687868, 11.994950118784876, 69.81141605118246, 551.9564191559364, 49.74536210463652, 83.83202581836647, 40.4746770782407, 54.88917561736325, 90.02144939202492, 87.19644935435258, 70.53171470613373, 29.47112003595157, 63.24753721971355, 159.33903424542308, 48.40044166066253, 51.51524726206326, 89.59627188926875], \"loglift\": [30.0, 29.0, 28.0, 27.0, 26.0, 25.0, 24.0, 23.0, 22.0, 21.0, 20.0, 19.0, 18.0, 17.0, 16.0, 15.0, 14.0, 13.0, 12.0, 11.0, 10.0, 9.0, 8.0, 7.0, 6.0, 5.0, 4.0, 3.0, 2.0, 1.0, 1.7257, 1.7257, 1.7257, 1.7206, 1.7186, 1.7122, 1.696, 1.6922, 1.6883, 1.6606, 1.6562, 1.6455, 1.6447, 1.6444, 1.6324, 1.6323, 1.6159, 1.6024, 1.5948, 1.586, 1.5829, 1.5774, 1.5772, 1.5746, 1.573, 1.5726, 1.5719, 1.5688, 1.566, 1.5542, 1.5478, 1.4938, 1.5338, 1.4931, 1.538, 1.5069, 1.4907, 1.4792, 1.3712, 1.3543, 1.4608, 1.218, 1.3262, 1.0803, 1.0653, 1.0883, 1.2555, 0.6697, 0.9608, 1.0384, 1.245, 1.1915, 1.2146, 0.7573, 1.166, 1.1296, 0.905, 1.0281, 0.6407, 0.8004, 0.1054, 1.8105, 1.8105, 1.8105, 1.8105, 1.8105, 1.8105, 1.7877, 1.7721, 1.7648, 1.7487, 1.7323, 1.715, 1.701, 1.6712, 1.6427, 1.6411, 1.6339, 1.6271, 1.6184, 1.6155, 1.6143, 1.6033, 1.5923, 1.5811, 1.5789, 1.5725, 1.565, 1.5575, 1.5566, 1.5548, 1.5352, 1.5398, 1.4523, 1.4625, 1.5124, 1.5345, 1.5452, 1.4767, 1.4653, 1.4926, 1.3662, 1.2803, 1.1851, 1.1493, 1.0631, 0.9396, 1.1251, 1.1979, 1.3167, 1.2717, 1.1599, 1.1739, 1.2743, 0.771, 0.794, 0.9162, 0.8069, 0.8475, 1.0296, 0.9331, 0.8813, 0.6743, 0.6683, 0.8217, 0.6012, 0.7345, -0.0479, 0.3962, 0.8017, 0.3813, 0.211, 0.2979, 0.4829, 0.0355, 0.162, -1.3182, 0.3122, -0.0881, 1.9528, 1.9449, 1.931, 1.9186, 1.9027, 1.8922, 1.8834, 1.8657, 1.8441, 1.8292, 1.8224, 1.8034, 1.7966, 1.7921, 1.7717, 1.7706, 1.7693, 1.7413, 1.7343, 1.7094, 1.7052, 1.6938, 1.677, 1.6693, 1.6664, 1.6633, 1.6594, 1.6549, 1.6521, 1.65, 1.614, 1.6192, 1.6045, 1.4548, 1.5714, 1.5919, 1.4199, 1.4806, 1.3907, 1.5306, 1.1935, 1.4765, 1.217, 1.3306, 1.3258, 1.2604, 1.1021, 0.9365, 1.3037, 0.8611, 0.9858, 0.5657, 1.0124, 0.8846, 0.8226, 0.7272, 0.8247, 1.247, 1.2309, 1.0734, 0.7983, 0.6296, 0.4479, 0.6953, 0.8892, 0.8755, 0.5555, 0.2023, -0.1046, 2.3827, 2.3827, 2.3438, 2.2541, 2.2231, 2.2162, 2.2161, 2.201, 2.1996, 2.1825, 2.1815, 2.179, 2.1199, 2.0954, 2.0943, 2.0823, 2.0539, 2.013, 2.0081, 1.9935, 1.9885, 1.9865, 1.9785, 1.9744, 1.9629, 1.9539, 1.9441, 1.9127, 1.9081, 1.8996, 1.8954, 1.8798, 1.8102, 1.7909, 1.8216, 1.6991, 1.8294, 1.7469, 1.6091, 1.7292, 1.459, 1.3816, 1.4295, 1.5885, 1.4219, 1.3897, 1.519, 1.0103, 1.0916, 0.9462, 0.9398, 0.6116, 0.157, 0.7924, 0.5827, -0.6686, 0.0687, 0.1753, 0.5661, 0.824, 0.2905, 0.3901, -1.0787, -0.8732, 0.2564, 2.4157, 2.4157, 2.4157, 2.4157, 2.4157, 2.4157, 2.4157, 2.4157, 2.4157, 2.409, 2.4031, 2.4028, 2.3892, 2.3674, 2.3584, 2.3551, 2.316, 2.3027, 2.299, 2.295, 2.2909, 2.2331, 2.2291, 2.2255, 2.2133, 2.1566, 2.0985, 2.0852, 2.0733, 2.0384, 1.934, 1.9854, 1.9844, 1.8084, 1.9668, 1.7258, 1.8163, 1.6499, 1.7987, 1.2357, 1.6695, 1.9109, 1.5424, 1.3726, 1.0301, 1.7725, 1.7217, 0.0959, 0.9284, 0.6331, 0.6011, -0.5918, -0.7078, 0.7197, -0.228, 0.0749, 0.0756, 0.3507, 0.5545, 0.9072, 0.1151, 0.1191, 0.0098, 0.0802, 2.4651, 2.4651, 2.4651, 2.4651, 2.4651, 2.4651, 2.4651, 2.4651, 2.4651, 2.4651, 2.4624, 2.43, 2.4243, 2.411, 2.4012, 2.3786, 2.3751, 2.3748, 2.3723, 2.3632, 2.3613, 2.3582, 2.3505, 2.3376, 2.3158, 2.3036, 2.2976, 2.2944, 2.2468, 2.246, 2.2412, 1.7827, 2.1702, 1.5909, 1.6112, 2.076, 1.4169, 1.2007, 1.7165, 1.9, 1.494, 0.856, 1.7652, 1.1542, 1.0948, 0.9676, 0.6884, 1.001, 1.7953, 0.439, 0.7502, 0.9557, 0.325, 0.5432, 0.3391, 1.4243, 0.5584, 0.3631, 0.3721, 0.2303, -0.008, 0.2458, -1.7884, 2.4967, 2.4961, 2.4661, 2.2778, 2.2666, 2.2487, 2.2442, 2.2244, 2.1828, 2.1553, 2.1522, 2.1346, 2.133, 2.0901, 2.0666, 2.0608, 2.0528, 2.0182, 2.0062, 1.9788, 1.9723, 1.9531, 1.9404, 1.9321, 1.9207, 1.9142, 1.9036, 1.8995, 1.8957, 1.8794, 1.8501, 1.8652, 1.8693, 1.8763, 1.8756, 1.7575, 1.7213, 1.7523, 1.5696, 1.5386, 1.6124, 1.2853, 1.4419, 1.3514, 1.2938, 1.5017, 1.2013, 1.4122, 1.0743, 0.8077, 0.9974, 0.7736, 1.0823, 0.9266, 0.7454, -0.1195, -0.2666, 0.2915, 0.4036, 0.7655, 0.4984, 0.4681, 0.4445, -0.3378, 0.2622, 0.5003, 0.0471, -1.7998, 0.4253, -0.3886, 2.5127, 2.4465, 2.4227, 2.4068, 2.3562, 2.3266, 2.3171, 2.3096, 2.2134, 2.1888, 2.1827, 2.1811, 2.1809, 2.1687, 2.1496, 2.0801, 2.0661, 2.0512, 2.0276, 2.0241, 2.0214, 2.0157, 2.0035, 2.0004, 1.9796, 1.9708, 1.9647, 1.9549, 1.9488, 1.9481, 1.936, 1.9154, 1.8526, 1.8524, 1.8572, 1.8564, 1.6363, 1.8672, 1.7209, 1.4456, 1.9008, 1.4388, 1.5602, 1.4363, 1.254, 0.7498, 1.0879, 0.7018, 0.9814, 1.2731, 0.911, 1.318, 0.036, 0.5481, 0.799, -0.8729, 0.4061, 0.5517, -0.4052, 0.3505, -1.1355, 0.2085, 0.658, 2.8222, 2.8222, 2.8222, 2.8222, 2.8222, 2.8222, 2.8092, 2.7834, 2.778, 2.6698, 2.6232, 2.5232, 2.5058, 2.5054, 2.4521, 2.4314, 2.3796, 2.3753, 2.3394, 2.327, 2.2664, 2.2439, 2.2157, 2.1968, 2.1771, 2.1641, 2.1548, 2.1414, 2.1306, 2.1168, 2.103, 2.1102, 2.0547, 2.1066, 1.9593, 1.9192, 1.4921, 1.8815, 1.5029, 1.6786, 1.8046, 0.985, 0.9948, 0.6656, 0.8636, 0.477, 0.9534, 0.4781, -0.0218, -0.7554, 0.0339, 0.5733, 0.7802, 0.9194, 0.3048, 0.4862, 0.6777, 3.1627, 3.1078, 3.0667, 2.8974, 2.8305, 2.6514, 2.5659, 2.5606, 2.5497, 2.5478, 2.5459, 2.5398, 2.5275, 2.5268, 2.4664, 2.4331, 2.4307, 2.4107, 2.4101, 2.4057, 2.3996, 2.3771, 2.3732, 2.3382, 2.3226, 2.3056, 2.2948, 2.2834, 2.2738, 2.2698, 2.2661, 2.2044, 2.0591, 2.204, 1.9972, 1.7607, 1.6846, 1.8409, 1.87, 1.8568, 1.6184, 1.3925, 1.3229, 1.2617, 1.7371, 1.1062, 1.5091, 0.5216, 1.1512, 0.0992, 1.5489, 1.5541, 0.5604, -0.6433, 0.644, 0.2922, 0.7523, 0.5292, 0.161, 0.1729, 0.3078, 0.9597, 0.3395, -0.4564, 0.4857, 0.4213, -0.1112], \"logprob\": [30.0, 29.0, 28.0, 27.0, 26.0, 25.0, 24.0, 23.0, 22.0, 21.0, 20.0, 19.0, 18.0, 17.0, 16.0, 15.0, 14.0, 13.0, 12.0, 11.0, 10.0, 9.0, 8.0, 7.0, 6.0, 5.0, 4.0, 3.0, 2.0, 1.0, -7.4506, -7.3362, -7.4617, -6.3804, -6.8, -6.382, -5.3698, -6.0445, -5.9071, -5.1516, -4.5062, -4.3389, -3.5719, -7.1706, -7.8972, -6.6175, -7.5567, -6.2548, -7.6362, -7.612, -6.1924, -7.439, -6.2243, -5.5907, -5.1739, -7.3809, -6.0764, -6.8175, -8.2291, -5.4354, -5.198, -2.0264, -5.2537, -4.3652, -6.1722, -5.4336, -5.2275, -5.839, -4.8064, -5.1016, -5.8185, -4.5137, -5.1095, -4.4151, -4.4061, -4.6169, -5.2455, -3.633, -4.4441, -4.693, -5.325, -5.2691, -5.3456, -4.5763, -5.2657, -5.2806, -5.1196, -5.229, -5.1022, -5.2571, -5.2601, -8.3295, -6.8434, -7.9369, -7.7795, -8.1025, -4.2834, -8.2226, -7.9714, -7.1992, -8.8709, -5.6461, -8.5728, -8.0829, -6.1144, -7.4645, -7.9796, -8.4852, -8.5469, -8.7907, -8.342, -7.7474, -9.0314, -8.3304, -5.8436, -8.4023, -7.2166, -7.1912, -7.4586, -6.6894, -7.2731, -5.5182, -6.1083, -4.7172, -4.9762, -6.361, -6.9297, -7.2498, -6.7204, -6.633, -6.8962, -6.1186, -5.9166, -5.4441, -5.4289, -5.0425, -4.6483, -5.477, -5.8899, -6.3483, -6.2137, -5.8587, -5.9728, -6.3081, -4.9719, -5.0343, -5.3818, -5.1199, -5.2401, -5.678, -5.475, -5.453, -5.064, -5.0631, -5.3743, -5.0565, -5.3398, -4.3507, -4.9693, -5.5454, -5.2084, -5.1227, -5.2035, -5.3792, -5.1787, -5.2593, -4.9935, -5.3998, -5.4265, -7.2061, -7.2864, -6.9332, -7.7956, -7.2031, -7.372, -1.7919, -6.2146, -8.1377, -3.5637, -7.7786, -6.8209, -4.3596, -7.3915, -6.8227, -7.7369, -8.3759, -7.0096, -7.8915, -7.0098, -4.482, -6.1193, -6.4955, -7.7085, -7.4236, -5.5969, -7.1306, -7.8872, -3.9256, -7.687, -4.8962, -5.7419, -6.0647, -3.5724, -5.6847, -6.1857, -4.5356, -5.2646, -4.7372, -5.7691, -3.5692, -5.6175, -4.6748, -5.1766, -5.3055, -5.292, -4.8521, -4.429, -5.4695, -4.3531, -4.7008, -3.737, -4.8373, -4.685, -4.6488, -4.6164, -4.833, -5.4025, -5.3901, -5.2788, -5.0552, -4.9581, -4.8905, -5.133, -5.2334, -5.234, -5.1874, -5.2026, -5.2112, -7.2373, -4.5237, -6.6585, -5.1068, -7.5045, -8.2005, -6.2406, -5.803, -2.907, -4.751, -7.4777, -5.2149, -5.7077, -7.723, -7.1992, -5.8416, -8.1667, -7.4419, -6.0402, -8.0717, -6.8132, -4.2586, -6.4647, -8.2703, -6.6374, -7.5474, -8.9575, -8.2462, -5.1081, -7.6318, -6.7862, -7.1228, -5.4581, -5.0055, -5.8216, -4.403, -6.0725, -5.6181, -4.9923, -5.8247, -4.503, -4.4719, -4.6867, -5.4818, -5.0226, -5.3805, -5.6906, -4.9165, -5.0971, -4.9327, -4.952, -4.8097, -4.388, -5.0717, -5.007, -4.1888, -4.6939, -4.8518, -5.0719, -5.2201, -5.0531, -5.1113, -4.7541, -5.176, -5.2074, -5.94, -6.7999, -5.8762, -5.6449, -7.5658, -3.35, -5.6152, -5.5636, -6.7718, -5.5073, -4.8614, -7.8276, -7.9457, -4.8572, -5.467, -5.3267, -5.5989, -6.9755, -8.2503, -6.8474, -5.2951, -7.6462, -7.7153, -7.1121, -6.8582, -6.6355, -7.105, -7.4143, -6.2397, -5.429, -4.2982, -5.5537, -6.0005, -4.958, -5.9863, -4.7287, -5.3649, -4.9793, -5.741, -4.614, -5.5997, -6.1998, -5.5971, -5.4226, -4.932, -6.0125, -5.9548, -4.2069, -5.1995, -4.9566, -5.0487, -4.2672, -4.228, -5.1339, -4.7729, -4.9523, -5.1386, -5.219, -5.2738, -5.3735, -5.3487, -5.3763, -5.4115, -5.4212, -6.1925, -5.9672, -3.7164, -6.268, -5.4954, -6.2685, -6.9935, -5.9219, -7.6773, -6.1266, -5.7308, -6.4634, -7.0498, -6.8437, -6.8099, -5.5187, -6.7283, -4.844, -7.0631, -6.7625, -5.8874, -7.2473, -7.2679, -7.4131, -6.4135, -5.0606, -6.615, -5.379, -6.1451, -6.0007, -3.9495, -3.5118, -6.0972, -2.954, -4.0385, -5.8893, -4.0938, -4.1377, -5.3627, -5.8058, -5.0268, -3.9067, -5.6105, -4.836, -4.7679, -4.7191, -4.5258, -4.9546, -5.7241, -4.9046, -5.1139, -5.3572, -5.1764, -5.2852, -5.2385, -5.6217, -5.3957, -5.349, -5.3661, -5.3576, -5.3416, -5.3921, -5.3086, -5.8012, -2.3274, -5.7979, -7.3381, -7.3126, -6.8308, -5.3621, -6.3175, -6.2528, -5.011, -7.672, -4.3157, -6.2411, -6.964, -6.6442, -7.2038, -6.9222, -7.651, -6.8725, -7.6006, -4.4358, -7.5467, -6.9127, -7.047, -7.7245, -6.8797, -7.8294, -7.8027, -7.7309, -7.8305, -3.8077, -5.522, -6.5272, -6.8804, -7.0972, -5.7539, -5.82, -6.3842, -5.5771, -5.4936, -6.0277, -5.1534, -5.6487, -5.445, -5.3076, -5.8707, -5.3769, -5.7646, -5.1709, -4.782, -5.3133, -5.0892, -5.531, -5.4008, -5.2448, -4.6644, -4.5693, -5.0031, -5.0978, -5.3401, -5.2398, -5.2439, -5.2608, -5.1005, -5.3257, -5.3915, -5.3742, -5.32, -5.4388, -5.4157, -2.5817, -5.5259, -6.18, -6.1221, -5.7328, -4.2786, -5.3983, -6.3391, -7.4632, -5.9795, -7.9046, -6.297, -3.9521, -5.8448, -6.4893, -5.2936, -7.3266, -7.6186, -8.2616, -6.7557, -5.7138, -5.9809, -4.8737, -7.0323, -3.531, -7.593, -8.7906, -7.1079, -7.144, -8.1728, -6.8107, -5.9246, -4.0522, -4.257, -5.222, -5.7689, -4.0134, -6.3506, -5.6902, -4.6706, -6.6396, -4.9527, -5.556, -5.2713, -4.8516, -3.7951, -4.5988, -4.3253, -4.8974, -5.2453, -4.9511, -5.4324, -4.7266, -5.0396, -5.1913, -4.3931, -5.0152, -5.0863, -4.708, -5.0424, -4.8108, -5.1299, -5.1955, -3.3732, -6.1278, -5.4773, -5.2637, -5.1526, -3.72, -6.6034, -5.7926, -6.4551, -6.3205, -6.6375, -6.8614, -4.6496, -7.7797, -7.151, -7.1377, -3.8198, -5.8133, -5.9115, -4.7892, -5.6435, -3.3257, -7.3463, -7.1956, -7.2587, -6.7115, -6.7139, -8.1305, -5.1553, -7.6018, -4.6373, -5.6665, -4.3369, -6.3823, -5.2621, -5.1749, -4.4127, -5.8538, -4.7952, -5.4506, -5.7675, -4.8771, -4.9954, -4.6781, -4.9992, -4.7372, -5.1042, -4.8164, -4.5667, -4.2756, -4.7288, -5.0164, -5.1116, -5.2136, -5.0335, -5.1017, -5.2491, -2.057, -4.8945, -4.5941, -6.536, -7.0854, -4.8646, -6.1102, -5.7055, -6.6925, -6.6566, -6.3352, -7.3903, -6.9082, -6.7494, -7.2244, -6.9116, -6.955, -5.8871, -5.9916, -6.7698, -7.6169, -6.6254, -7.8777, -7.4756, -5.8955, -7.1623, -6.9784, -4.6267, -7.5096, -7.4104, -6.6927, -6.7195, -5.6678, -6.8717, -6.0039, -5.1164, -4.9407, -5.5859, -5.7489, -5.7149, -5.2506, -4.9056, -5.1632, -5.2459, -5.951, -5.2009, -5.7122, -4.6926, -5.3964, -4.4457, -5.7875, -5.7951, -5.0274, -4.1635, -5.2827, -5.1126, -5.3807, -5.2992, -5.1726, -5.1927, -5.2699, -5.4906, -5.3471, -5.2191, -5.4685, -5.4705, -5.4496]}, \"token.table\": {\"Topic\": [6, 2, 3, 4, 7, 2, 5, 9, 5, 5, 8, 2, 3, 4, 5, 6, 7, 8, 9, 10, 4, 3, 6, 8, 9, 10, 1, 2, 3, 4, 7, 2, 4, 6, 7, 1, 2, 4, 5, 6, 7, 8, 9, 10, 3, 5, 9, 1, 2, 4, 5, 6, 7, 8, 9, 10, 1, 2, 3, 5, 6, 7, 9, 10, 1, 2, 4, 6, 5, 1, 2, 3, 5, 7, 2, 4, 5, 6, 7, 9, 10, 6, 2, 4, 5, 6, 7, 8, 9, 10, 7, 1, 5, 6, 9, 1, 3, 4, 5, 7, 8, 5, 3, 4, 5, 7, 8, 9, 6, 8, 6, 1, 2, 4, 5, 6, 7, 8, 9, 10, 5, 5, 1, 3, 4, 5, 6, 7, 8, 10, 4, 6, 4, 8, 9, 1, 3, 4, 5, 9, 2, 4, 5, 6, 7, 8, 9, 10, 5, 5, 2, 4, 2, 6, 7, 9, 10, 1, 1, 2, 4, 5, 6, 7, 3, 1, 6, 9, 10, 2, 1, 2, 5, 6, 8, 9, 1, 2, 4, 5, 6, 9, 5, 2, 7, 3, 4, 5, 8, 2, 3, 6, 10, 2, 2, 5, 1, 2, 6, 8, 5, 2, 3, 5, 6, 3, 4, 3, 5, 7, 9, 10, 1, 2, 3, 5, 9, 4, 7, 5, 7, 8, 10, 2, 5, 10, 10, 2, 3, 7, 8, 8, 8, 10, 5, 6, 8, 9, 10, 5, 8, 1, 2, 3, 5, 6, 8, 10, 1, 4, 9, 8, 10, 3, 4, 5, 8, 7, 6, 4, 3, 4, 5, 8, 3, 7, 9, 10, 3, 7, 1, 2, 3, 2, 4, 5, 8, 9, 2, 4, 6, 7, 9, 10, 8, 9, 1, 2, 4, 9, 5, 7, 3, 4, 6, 7, 8, 2, 7, 1, 3, 4, 7, 7, 7, 2, 5, 5, 10, 2, 4, 5, 2, 3, 4, 5, 6, 7, 9, 3, 4, 7, 2, 7, 3, 4, 1, 2, 3, 9, 3, 6, 7, 2, 1, 2, 3, 5, 7, 8, 9, 10, 2, 9, 1, 2, 3, 4, 5, 6, 7, 8, 9, 10, 7, 1, 2, 5, 6, 7, 9, 10, 2, 4, 1, 2, 5, 7, 10, 1, 5, 1, 7, 1, 2, 3, 4, 5, 6, 7, 8, 9, 10, 1, 2, 3, 4, 5, 6, 7, 8, 2, 4, 5, 6, 7, 8, 9, 10, 8, 3, 4, 9, 9, 10, 2, 4, 8, 3, 4, 5, 7, 8, 9, 10, 2, 4, 6, 7, 8, 9, 10, 1, 2, 3, 5, 6, 5, 8, 1, 6, 7, 9, 7, 1, 3, 4, 5, 9, 10, 1, 3, 5, 1, 2, 3, 4, 5, 6, 7, 8, 9, 10, 4, 5, 8, 9, 10, 3, 5, 6, 1, 2, 3, 4, 6, 7, 8, 2, 7, 8, 9, 10, 2, 7, 8, 10, 1, 2, 4, 5, 6, 7, 8, 9, 10, 2, 5, 1, 2, 3, 2, 3, 4, 6, 7, 8, 9, 10, 2, 3, 4, 6, 7, 8, 9, 10, 2, 4, 7, 2, 3, 4, 5, 6, 7, 9, 2, 3, 7, 3, 4, 5, 7, 9, 6, 8, 6, 8, 2, 5, 2, 2, 4, 6, 7, 8, 9, 7, 8, 2, 2, 3, 6, 8, 9, 10, 9, 2, 8, 2, 4, 5, 6, 7, 8, 10, 3, 3, 6, 8, 9, 3, 6, 8, 9, 1, 1, 2, 3, 4, 6, 9, 10, 3, 2, 5, 6, 9, 5, 7, 2, 4, 5, 6, 7, 8, 10, 1, 2, 5, 6, 7, 8, 9, 10, 9, 6, 6, 9, 3, 4, 6, 7, 6, 6, 6, 2, 4, 6, 9, 2, 1, 2, 3, 4, 5, 7, 8, 9, 10, 1, 2, 3, 4, 5, 7, 8, 9, 10, 2, 5, 9, 1, 2, 3, 5, 7, 3, 4, 7, 8, 1, 2, 3, 4, 5, 9, 5, 2, 4, 9, 10, 1, 2, 4, 6, 3, 4, 7, 9, 10, 2, 1, 2, 5, 7, 2, 3, 5, 7, 8, 5, 1, 2, 5, 6, 8, 9, 6, 2, 3, 2, 3, 4, 10, 1, 4, 9, 2, 3, 4, 5, 8, 9, 1, 2, 9, 6, 1, 5, 9, 1, 2, 4, 7, 10, 1, 2, 4, 5, 6, 7, 8, 9, 10, 3, 10, 7, 2, 6, 8, 1, 7, 2, 4, 5, 6, 7, 10, 3, 4, 6, 8, 9, 10, 2, 3, 4, 5, 6, 8, 9, 10, 1, 2, 7, 1, 2, 4, 5, 7, 8, 9, 4, 2, 4, 1, 2, 3, 7, 10, 2, 4, 5, 6, 7, 8, 9, 10, 6, 2, 3, 4, 5, 6, 7, 8, 9, 10, 1, 2, 3, 4, 6, 7, 9, 10, 2, 4, 5, 6, 7, 8, 9, 7, 10, 6, 7, 8, 9, 10, 2, 1, 2, 3, 4, 5, 6, 7, 8, 9, 10, 2, 4, 8, 9, 1, 8, 9, 6, 10, 3, 10, 2, 3, 4, 5, 8, 4, 1, 4, 6, 6, 10, 7, 8, 9, 3, 3, 4, 8, 3, 8, 2, 3, 5, 6, 10, 2, 10, 9, 3, 4, 7, 10, 1, 2, 3, 4, 5, 6, 7, 8, 9, 10, 2, 3, 4, 5, 6, 7, 8, 9, 10, 1, 6, 10, 1, 2, 7, 2, 3, 4, 5, 6, 7, 8, 1, 2, 3, 4, 5, 6, 7, 8, 9, 2, 4, 6, 7, 8, 9, 10, 2, 3, 5, 7, 9, 10, 4, 7, 2, 3, 6, 7, 9, 10, 9, 4, 6, 7, 8, 3, 4, 5, 8, 2, 4, 5, 6, 8, 9, 10, 3, 2, 7, 8, 1, 2, 3, 5, 6, 7, 8, 1, 9, 1, 2, 3, 5, 6, 8, 10, 7, 1, 2, 9, 10, 1, 5, 1, 2, 4, 5, 6, 7, 8, 9, 10, 2, 5, 7, 10, 2, 5, 8, 9, 1, 2, 2, 4, 7, 6, 6, 10, 2, 3, 5, 6, 10, 1, 2, 3, 7, 6, 1, 3, 4, 5, 7, 8, 9, 4, 6, 7, 9, 5, 1, 3, 3, 2, 5, 5, 6, 9, 1, 2, 3, 4, 5, 6, 8, 9, 10, 2, 4, 5, 9, 7, 3, 2, 5, 1, 2, 3, 4, 6, 7, 8, 9, 10, 5, 3, 4, 5, 8, 2, 4, 1, 2, 4, 3, 2, 10, 1, 2, 4, 5, 8, 1, 2, 5, 7, 9, 10, 9, 1, 2, 4, 6, 7, 8, 9, 4, 6, 4, 1, 2, 7, 9, 10, 1, 3, 4, 5, 6, 7, 8, 2, 3, 5, 7, 10, 2, 3, 5, 7, 10, 3, 6, 8, 9, 10, 3, 2, 9, 10, 1, 2, 8, 9, 10, 1, 3, 10, 2, 4, 6, 8, 9, 2, 5, 7, 10, 2, 3, 1, 2, 7, 3, 4, 7, 8, 6, 8, 10, 4, 6, 9, 9, 3, 3, 6, 2, 4, 6, 8, 9, 10, 2, 5, 1, 1, 2, 4, 5, 8, 10, 6, 2, 5, 7, 10, 2, 4, 5, 6, 7, 8, 9, 10, 1, 2, 5, 2, 4, 6, 7, 8, 9, 6, 6, 6, 6, 1, 2, 5, 3, 4, 5, 8, 2, 2, 9, 2, 9, 10, 1, 2, 3, 5, 7, 2, 4, 4, 6, 10, 4, 5, 4, 5, 1, 5, 8, 5, 7, 2, 3, 4, 5, 8, 10, 1, 3, 6, 10, 1, 4, 6, 7, 8, 9, 2, 3, 4, 6, 7, 10, 2, 3, 4, 6, 7, 2, 3, 4, 6, 8, 6, 8, 3, 4, 6, 7, 8, 10, 2, 4, 5, 6, 7, 8, 9, 10, 7, 5, 6, 8, 3, 4, 7, 9, 10, 1, 3, 6, 10, 7, 4, 4, 3, 5, 7, 2, 5, 9, 9, 9, 9, 9, 8, 6, 10, 1, 2, 3, 5, 7, 8, 3, 6, 10, 2, 8, 3, 8, 8, 2, 7, 5, 5, 2, 7, 3, 4, 5, 6, 5, 10, 2, 4, 5, 2, 4, 2, 4, 3, 4, 5, 7, 8, 9, 10, 3, 1, 9, 8, 9, 2, 4, 5, 6, 7, 8, 9, 10, 1, 6, 5, 2, 10, 2, 4, 5, 6, 7, 8, 9, 10, 4, 7, 9, 2, 5, 6, 8, 9, 10, 1, 3, 4, 5, 6, 7, 8, 9, 10, 5, 6, 8, 2, 3, 6, 7, 8, 9, 10, 1, 2, 3, 4, 5, 6, 7, 8, 9, 10, 2, 4, 2, 5, 4, 3, 5, 9, 8, 9, 2, 5, 7, 10, 7, 8, 10, 2, 3, 4, 5, 8, 9, 4, 1, 2, 4, 5, 6, 7, 8, 10, 1, 2, 4, 7, 8, 9, 2, 3, 3, 6, 7, 9, 10, 2, 4, 6, 8, 9, 10, 5, 6, 8, 8, 10, 2, 4, 7, 8, 9, 10, 8, 9, 9, 2, 3, 5, 6, 10, 7, 1, 2, 3, 4, 5, 6, 7, 8, 9, 1, 2, 3, 4, 5, 6, 7, 8, 9, 10, 3, 4, 7, 2, 6, 8, 9, 10, 5, 9, 1, 3, 4, 6, 7, 8, 9, 10, 2, 2, 7, 1, 3, 5, 7, 8, 2, 3, 4, 5, 6, 7, 8, 9, 10, 4, 5], \"Freq\": [0.9694359810165196, 0.19735189164303454, 0.039470378328606906, 0.4736445399432829, 0.31576302662885525, 0.3523781456325787, 0.5638050330121259, 0.07047562912651574, 0.9925737941495282, 0.8806715998211765, 0.14677859997019607, 0.16758411496719477, 0.30559456258723755, 0.03943155646286936, 0.0985788911571734, 0.16758411496719477, 0.01971577823143468, 0.03943155646286936, 0.0985788911571734, 0.06900522381002137, 0.6846385904403222, 0.16461832789553255, 0.24692749184329882, 0.3292366557910651, 0.08230916394776627, 0.16461832789553255, 0.0771304251636289, 0.5013477635635878, 0.03856521258181445, 0.11569563774544335, 0.2699564880727012, 0.08470175044876697, 0.5082105026926018, 0.3388070017950679, 0.08470175044876697, 0.1697651320224253, 0.19401729373991464, 0.1697651320224253, 0.08488256601121265, 0.07275648515246799, 0.08488256601121265, 0.12126080858744664, 0.06063040429372332, 0.036378242576233996, 0.2556781124108206, 0.2556781124108206, 0.5113562248216412, 0.5661789060762249, 0.06660928306779117, 0.03330464153389558, 0.06660928306779117, 0.03330464153389558, 0.03330464153389558, 0.06660928306779117, 0.06660928306779117, 0.03330464153389558, 0.22727065337794744, 0.02066096848890431, 0.3925584012891819, 0.06198290546671294, 0.14462677942233018, 0.06198290546671294, 0.02066096848890431, 0.06198290546671294, 0.9414255272619582, 0.050887866338484224, 0.11528724821506231, 0.8070107375054362, 1.0780426449338536, 0.06418888429193315, 0.5135110743354652, 0.1925666528757994, 0.06418888429193315, 0.1283777685838663, 0.3618427776671528, 0.2613308949818326, 0.10051188268532021, 0.020102376537064044, 0.06030712961119213, 0.12061425922238427, 0.08040950614825618, 0.7961716360936706, 0.4154048383539242, 0.042972914312474915, 0.07162152385412486, 0.10027013339577481, 0.10027013339577481, 0.07162152385412486, 0.10027013339577481, 0.07162152385412486, 1.0404983095214915, 1.047923645958432, 0.26058508321207624, 0.26058508321207624, 0.5211701664241525, 0.8312636233070699, 0.6864086300450165, 0.15253525112111477, 0.07626762556055738, 0.07626762556055738, 0.07626762556055738, 0.6089197566880055, 0.267607291704066, 0.133803645852033, 0.0669018229260165, 0.0669018229260165, 0.20070546877804948, 0.3345091146300825, 0.8653495555143206, 0.14422492591905342, 0.9980172360240441, 0.38947631031356456, 0.13746222716949338, 0.06873111358474669, 0.09164148477966225, 0.04582074238983112, 0.04582074238983112, 0.02291037119491556, 0.16037259836440892, 0.04582074238983112, 1.0189243551815896, 1.1593798352903433, 0.5315562317507013, 0.1288621167880488, 0.0322155291970122, 0.0322155291970122, 0.0644310583940244, 0.1288621167880488, 0.0644310583940244, 0.0161077645985061, 0.2045360586834658, 0.8181442347338632, 0.1987262084413593, 0.596178625324078, 0.1987262084413593, 0.07933867732211611, 0.6347094185769289, 0.15867735464423222, 0.07933867732211611, 0.07933867732211611, 0.20702704229479094, 0.20702704229479094, 0.08872587526919612, 0.20702704229479094, 0.08872587526919612, 0.08872587526919612, 0.029575291756398708, 0.059150583512797415, 1.1476280008259216, 0.9569017139362783, 0.16773522127088605, 0.6709408850835442, 0.11909417787822757, 0.5954708893911378, 0.11909417787822757, 0.11909417787822757, 0.11909417787822757, 0.7378222080084301, 0.17121408280518702, 0.08560704140259351, 0.08560704140259351, 0.08560704140259351, 0.513642248415561, 0.08560704140259351, 0.7470964525875574, 0.5405938793596111, 0.09009897989326852, 0.09009897989326852, 0.27029693967980556, 0.9219981287925894, 0.3015001466012414, 0.26381262827608626, 0.03768751832515518, 0.05653127748773277, 0.20728135078835347, 0.1507500733006207, 0.6974690507010455, 0.07749656118900505, 0.025832187063001683, 0.07749656118900505, 0.07749656118900505, 0.025832187063001683, 1.0480951566760168, 0.703675194769437, 0.3518375973847185, 0.3407377117034084, 0.10222131351102252, 0.5111065675551126, 0.06814754234068168, 0.24150709122931047, 0.4427630005870692, 0.20125590935775872, 0.08050236374310349, 0.9137153449131903, 0.8176013307802672, 0.2044003326950668, 0.13618899166150794, 0.13618899166150794, 0.13618899166150794, 0.5447559666460318, 1.0018704347596799, 0.23130496055506627, 0.11565248027753314, 0.46260992111013255, 0.23130496055506627, 0.9658073755166424, 0.7391005790657292, 0.5813237150923999, 0.12918304779831108, 0.06459152389915554, 0.12918304779831108, 0.12918304779831108, 0.02528709597629582, 0.1517225758577749, 0.7838999752651704, 0.05057419195259164, 0.02528709597629582, 0.4237190133959725, 0.4237190133959725, 0.27437859034746365, 0.27437859034746365, 0.5487571806949273, 0.38577753692039846, 0.2578083007816587, 0.5156166015633173, 0.12890415039082934, 0.8668930155647193, 0.6316217488512825, 0.10527029147521375, 0.10527029147521375, 0.10527029147521375, 0.8546760518179543, 0.932825565008918, 0.910814681545399, 0.013259942499026098, 0.3447585049746785, 0.5834374699571483, 0.03977982749707829, 0.013259942499026098, 0.01748853063209416, 0.9881019807133201, 0.02728181970054477, 0.05456363940108954, 0.10912727880217908, 0.6274818531125298, 0.05456363940108954, 0.10912727880217908, 0.02728181970054477, 0.24896212943266358, 0.7468863882979907, 0.24896212943266358, 0.7565221167620726, 0.18913052919051815, 0.10230856208316608, 0.5115428104158304, 0.10230856208316608, 0.10230856208316608, 0.9906143425170216, 0.8063149023907951, 0.5826383880408349, 0.6485142950108115, 0.14411428778018032, 0.14411428778018032, 0.10808571583513524, 0.6629493270453453, 0.13258986540906906, 0.13258986540906906, 0.13258986540906906, 0.8687887662935627, 0.2895962554311876, 0.08436630597107463, 0.16873261194214925, 0.674930447768597, 1.4052869757701756, 0.20161532196457999, 0.60484596589374, 0.10080766098228999, 0.10080766098228999, 0.14672199721078819, 0.07336099860539409, 0.07336099860539409, 0.07336099860539409, 0.44016599163236453, 0.22008299581618226, 0.3962365428890656, 0.5943548143335985, 1.0737662939991461, 0.23903684410987755, 0.5975921102746939, 0.11951842205493877, 0.013339511729648831, 0.9871238679940134, 0.07016928946356338, 0.14033857892712676, 0.07016928946356338, 0.35084644731781683, 0.35084644731781683, 0.7078858364110358, 0.3539429182055179, 0.17320687742694005, 0.08660343871347002, 0.17320687742694005, 0.5196206322808201, 0.4586255763327832, 0.9408128632652443, 0.6808802651712516, 1.0466600097521779, 0.930192712183417, 0.11627408902292713, 0.7442947849452073, 0.06202456541210061, 0.18607369623630182, 0.24394823863601828, 0.0860993783421241, 0.1721987566842482, 0.1721987566842482, 0.05739958556141606, 0.1865486530746022, 0.10044927473247811, 0.18319717997198495, 0.18319717997198495, 0.5495915399159549, 0.42278622038609737, 0.42278622038609737, 0.8659362022513963, 0.17318724045027928, 0.07595602259395103, 0.15191204518790205, 0.6076481807516082, 0.07595602259395103, 1.3655004535781188, 0.3253291961584361, 0.6506583923168722, 1.1318512337111748, 0.554163256287458, 0.032597838605144584, 0.19558703163086752, 0.19558703163086752, 0.032597838605144584, 0.032597838605144584, 1.3127378126093239, 0.41691011338322814, 0.7073109842956028, 0.23577032809853427, 0.11804739256018584, 0.3777516561925947, 0.11804739256018584, 0.02360947851203717, 0.14165687107222302, 0.07082843553611151, 0.04721895702407434, 0.07082843553611151, 0.02360947851203717, 0.04721895702407434, 0.8835317683933629, 0.49602492056795133, 0.31414911635970255, 0.049602492056795136, 0.01653416401893171, 0.06613665607572684, 0.01653416401893171, 0.03306832803786342, 1.5746700992763525, 0.8993635311644534, 0.7984905651013897, 0.13308176085023163, 0.044360586950077205, 0.044360586950077205, 0.044360586950077205, 0.9172987075382989, 0.13104267250547127, 0.8294439197430848, 0.7070323914610145, 0.07529934085469245, 0.19577828622220034, 0.10541907719656941, 0.16565854988032336, 0.07529934085469245, 0.10541907719656941, 0.06023947268375395, 0.1355388135384464, 0.04517960451281546, 0.030119736341876976, 0.09580993376693075, 0.0383239735067723, 0.24910582779401996, 0.2299438410406338, 0.09580993376693075, 0.0766479470135446, 0.01916198675338615, 0.21078185428724766, 0.3163154731317514, 0.09988909677844782, 0.09988909677844782, 0.11653727957485578, 0.13318546237126375, 0.09988909677844782, 0.08324091398203984, 0.03329636559281594, 0.8488135450081805, 0.7596779252838513, 0.1899194813209628, 0.1899194813209628, 0.43553661178038655, 0.43553661178038655, 0.6682927864848223, 0.286411194207781, 0.09547039806926032, 0.5559666968454475, 0.10628775086751202, 0.09811177003154956, 0.05723186585173724, 0.16351961671924928, 0.008175980835962464, 0.016351961671924927, 0.21101451534631605, 0.17584542945526338, 0.07033817178210534, 0.07033817178210534, 0.21101451534631605, 0.07033817178210534, 0.17584542945526338, 0.1352054355911387, 0.2704108711822774, 0.1352054355911387, 0.40561630677341615, 0.06760271779556935, 0.7057755296879986, 0.3528877648439993, 0.3036091808216846, 0.24288734465734768, 0.3643310169860215, 0.06072183616433692, 1.0764378575452733, 0.9621884726055405, 0.5220160206770761, 0.43500751624351053, 0.36250626353625875, 0.07250125270725175, 0.1450025054145035, 0.7774032804137804, 0.15548065608275607, 0.07774032804137804, 0.16448594280015275, 0.15183317796937176, 0.1265276483078098, 0.11387488347702883, 0.10122211864624785, 0.08856935381546686, 0.0632638241539049, 0.08856935381546686, 0.0632638241539049, 0.02530552966156196, 0.16000757469023363, 0.16000757469023363, 0.16000757469023363, 0.16000757469023363, 0.32001514938046727, 0.1308719959134371, 0.05234879836537484, 0.81140637466331, 0.08852908706018452, 0.2950969568672817, 0.17705817412036903, 0.02950969568672817, 0.14754847843364086, 0.2065678698070972, 0.02950969568672817, 0.48076593593176625, 0.16826807757611817, 0.2884595615590597, 0.04807659359317663, 0.024038296796588313, 0.34061134950032607, 0.6812226990006521, 0.4488919482191468, 1.0857300058381059, 0.005048063292411861, 0.05048063292411861, 0.10600932914064909, 0.07067288609376605, 0.4189892532701845, 0.07067288609376605, 0.16658608864959143, 0.06057675950894234, 0.045432569631706755, 0.5716052866610168, 0.3429631719966101, 0.9826690358573035, 1.1931764721248235, 0.7585741668814702, 0.043931482534393926, 0.4267629731912553, 0.10041481722147183, 0.20082963444294366, 0.056483334687077905, 0.08158703899244586, 0.0627592607634199, 0.025103704305367958, 0.16167229264272304, 0.24250843896408456, 0.08083614632136152, 0.16167229264272304, 0.04041807316068076, 0.08083614632136152, 0.04041807316068076, 0.24250843896408456, 0.7053494572560662, 0.17633736431401656, 0.17633736431401656, 0.39278227837642743, 0.09064206424071403, 0.12085608565428536, 0.06042804282714268, 0.06042804282714268, 0.1510701070678567, 0.12085608565428536, 0.5446915667308688, 0.0680864458413586, 0.40851867504815165, 0.6397466755435034, 0.12794933510870068, 0.12794933510870068, 0.12794933510870068, 0.638200920836275, 0.19809013386874827, 0.8319785622487428, 0.30574551707355896, 0.9172365512206768, 0.7869117581517437, 0.22483193090049822, 1.35839368807139, 0.03993693355005552, 0.2396216013003331, 0.1996846677502776, 0.2396216013003331, 0.11981080065016655, 0.11981080065016655, 0.6970054219023121, 0.23233514063410401, 0.73150098004573, 0.036410073213379426, 0.21846043928027656, 0.36410073213379424, 0.1456402928535177, 0.1456402928535177, 0.036410073213379426, 0.563851805266599, 1.0825080571748307, 0.763418691067058, 0.27483161921790633, 0.04580526986965106, 0.18322107947860425, 0.09161053973930212, 0.04580526986965106, 0.3206368890875574, 0.04580526986965106, 1.1596635726332436, 0.10988154163669336, 0.21976308327338673, 0.5494077081834668, 0.10988154163669336, 0.31371421614335226, 0.16892303946180506, 0.5067691183854152, 0.024131862780257866, 0.8831932697659662, 0.14367800230934227, 0.14367800230934227, 0.502873008082698, 0.07183900115467114, 0.03591950057733557, 0.03591950057733557, 0.10775850173200671, 0.7043471209795817, 0.30257854542663637, 0.5042975757110606, 0.10085951514221213, 0.10085951514221213, 0.8451480848595235, 0.10564351060744044, 0.2361461746167643, 0.3710868458263439, 0.0337351678023949, 0.1349406712095796, 0.1686758390119745, 0.0674703356047898, 0.6389468853884899, 0.5034688151928183, 0.13985244866467172, 0.08391146919880305, 0.08391146919880305, 0.05594097946586869, 0.05594097946586869, 0.05594097946586869, 0.027970489732934346, 0.7620711331230507, 0.6979671129126115, 0.9985916923907683, 0.767501704659386, 0.08291561559141356, 0.6633249247313084, 0.027638538530471185, 0.24874684677424067, 0.8664974619870017, 0.7810359947390142, 1.361764340366382, 0.8830613791313432, 0.2088010276354675, 0.83520411054187, 0.6432077294087561, 1.0930919764576117, 0.6425145106044055, 0.07139050117826727, 0.035695250589133636, 0.035695250589133636, 0.07139050117826727, 0.07139050117826727, 0.035695250589133636, 0.035695250589133636, 0.035695250589133636, 0.34868499383057583, 0.15453084953855065, 0.22585278009480478, 0.03962329475347452, 0.09905823688368631, 0.06339727160555923, 0.05151028317951688, 0.011886988426042357, 0.007924658950694904, 0.3809894111138534, 0.3809894111138534, 0.3809894111138534, 0.07695830335895136, 0.07695830335895136, 0.23087491007685407, 0.46174982015370813, 0.07695830335895136, 0.09593140621866486, 0.5755884373119892, 0.335759921765327, 0.04796570310933243, 0.07444704441055798, 0.16750584992375545, 0.3536234609501504, 0.018611761102639495, 0.31639993874487143, 0.07444704441055798, 1.0288882161311736, 0.14605358379335273, 0.14605358379335273, 0.5842143351734109, 0.14605358379335273, 0.2965280919309032, 0.09884269731030106, 0.09884269731030106, 0.4942134865515053, 0.4270580297923017, 0.23294074352307365, 0.13588210038845963, 0.13588210038845963, 0.05823518588076841, 0.8081320775865383, 0.867343865037052, 0.045649677107213266, 0.045649677107213266, 0.74117624431672, 0.5134146580015444, 0.2764540466162162, 0.11848030569266409, 0.07898687046177606, 1.2886378961121627, 1.4869167104919252, 0.6059617582736905, 0.15149043956842262, 0.11361782967631696, 0.037872609892105655, 0.037872609892105655, 0.037872609892105655, 0.6715042417905093, 0.9172708012459948, 0.8122442669459311, 0.24326523031557387, 0.12163261515778694, 0.24326523031557387, 0.3648978454733608, 0.2054024277454168, 0.2054024277454168, 0.6162072832362504, 0.026082818085551553, 0.7042360883098919, 0.026082818085551553, 0.07824845425665466, 0.10433127234220621, 0.026082818085551553, 0.8207521380429276, 0.09119468200476973, 0.09119468200476973, 0.9850584228854952, 0.8082360258954917, 0.08082360258954917, 0.16164720517909834, 0.06786304685944126, 0.1017945702891619, 0.03393152342972063, 0.6786304685944127, 0.1017945702891619, 0.10510082375452605, 0.22333925047836786, 0.13137602969315756, 0.0919632207852103, 0.11823842672384181, 0.11823842672384181, 0.0919632207852103, 0.07882561781589455, 0.039412808907947273, 0.6936315223110241, 0.6936315223110241, 0.9041908361021872, 0.951426988594678, 0.34175186011744857, 0.5980657552055351, 0.37511882996509155, 0.7502376599301831, 0.20827803235414846, 0.20827803235414846, 0.10413901617707423, 0.10413901617707423, 0.10413901617707423, 0.3124170485312227, 0.347839630870921, 0.11067624618620214, 0.22135249237240429, 0.23716338468471887, 0.01581089231231459, 0.06324356924925836, 0.1547434599189052, 0.10316230661260346, 0.10316230661260346, 0.05158115330630173, 0.10316230661260346, 0.20632461322520693, 0.10316230661260346, 0.20632461322520693, 1.0590684406644126, 0.7040625356686243, 0.28162501426744974, 0.11976897369699749, 0.191630357915196, 0.5030296895273895, 0.0239537947393995, 0.047907589478799, 0.0718613842181985, 0.047907589478799, 1.2604953103607808, 0.16047245709381217, 0.8023622854690607, 0.3345219350302141, 0.3512480317817248, 0.21743925776963915, 0.08363048375755353, 0.6701136810604956, 0.22657424508037927, 0.20769305799034768, 0.07552474836012643, 0.18881187090031606, 0.13216830963022125, 0.11328712254018963, 0.037762374180063216, 0.037762374180063216, 0.994240755093745, 0.2938477907978776, 0.022603676215221354, 0.2034330859369922, 0.06781102864566406, 0.13562205729132812, 0.09041470486088542, 0.15822573350654948, 0.022603676215221354, 0.022603676215221354, 0.19496206698640547, 0.24083549451261851, 0.3325823495650446, 0.08027849817087285, 0.045873427526213054, 0.045873427526213054, 0.011468356881553263, 0.045873427526213054, 0.1249469508670605, 0.39566534441235823, 0.249893901734121, 0.14577144267823725, 0.0416489836223535, 0.02082449181117675, 0.02082449181117675, 0.5709346544500092, 0.5709346544500092, 0.22303188725292344, 0.4460637745058469, 0.11151594362646172, 0.11151594362646172, 0.11151594362646172, 0.9671848508245713, 0.10097926107900748, 0.12341909687434248, 0.26927802954401997, 0.12341909687434248, 0.022439835795334998, 0.13463901477200999, 0.022439835795334998, 0.07853942528367248, 0.11219917897667499, 0.011219917897667499, 0.03933141800458992, 0.17699138102065465, 0.511308434059669, 0.2556542170298345, 1.036336028909714, 0.8416804646175075, 0.24048013274785926, 0.6872415690537993, 1.0011489528205557, 0.20855048410135757, 0.6256514523040727, 0.15378155645097658, 0.07689077822548829, 0.538235447578418, 0.07689077822548829, 0.07689077822548829, 0.7570002137965866, 1.032541722748922, 0.16925154517421456, 0.8462577258710728, 0.3142554170480975, 0.628510834096195, 0.8281896081433006, 0.6132480676564046, 0.3679488405938428, 0.6562116813751607, 0.15926722521807193, 0.15926722521807193, 0.6370689008722877, 0.4626118874778678, 0.4626118874778678, 0.21497532789036222, 0.10748766394518111, 0.053743831972590556, 0.16123149591777167, 0.42995065578072444, 0.6132882096432695, 0.6132882096432695, 1.0043590004907488, 0.11507771804007824, 0.832100422751335, 0.04426066078464548, 0.008852132156929095, 0.046079860388408764, 0.2918391157932555, 0.1382395811652263, 0.07679976731401461, 0.09215972077681753, 0.09215972077681753, 0.09215972077681753, 0.06143981385121169, 0.06143981385121169, 0.046079860388408764, 0.12003345045730146, 0.21005853830027757, 0.0900250878429761, 0.0900250878429761, 0.15004181307162684, 0.21005853830027757, 0.030008362614325365, 0.0900250878429761, 0.030008362614325365, 0.09850454464377124, 0.29551363393131375, 0.5910272678626275, 0.9243608374318371, 0.4229040003924399, 0.5855593851587629, 0.20898986499323316, 0.07837119937246244, 0.2873610643656956, 0.07837119937246244, 0.13061866562077074, 0.05224746624830829, 0.15674239874492488, 0.36678947624479413, 0.024452631749652943, 0.3178842127454883, 0.048905263499305886, 0.09781052699861177, 0.024452631749652943, 0.048905263499305886, 0.048905263499305886, 0.024452631749652943, 0.09427813612212022, 0.15084501779539236, 0.24512315391751258, 0.1697006450198164, 0.1319893905709683, 0.1319893905709683, 0.03771125444884809, 0.07680206200379133, 0.291847835614407, 0.0921624744045496, 0.522254021625781, 0.015360412400758265, 0.015360412400758265, 0.2747856668615861, 0.8243570005847584, 0.7837144270317093, 0.7217000162865543, 0.10781305771507166, 0.7546914040055016, 0.10781305771507166, 0.10781305771507166, 1.096989527798226, 0.19608163399583442, 0.19608163399583442, 0.49020408498958606, 0.09804081699791721, 0.28024356952981455, 0.3736580927064194, 0.1868290463532097, 0.14946323708256776, 0.09717810758182746, 0.38871243032730984, 0.09717810758182746, 0.024294526895456865, 0.3401233765363961, 0.04858905379091373, 0.024294526895456865, 0.6085269933169952, 0.23761461986482615, 0.4752292397296523, 0.23761461986482615, 0.5828207876288741, 0.17141787871437475, 0.03428357574287495, 0.03428357574287495, 0.03428357574287495, 0.1371343029714998, 0.03428357574287495, 0.8994960194167673, 0.11243700242709591, 0.22440046901101016, 0.11220023450550508, 0.18700039084250847, 0.14960031267400678, 0.18700039084250847, 0.037400078168501695, 0.14960031267400678, 0.7161162276219135, 0.915731709851618, 0.042592172551238046, 0.021296086275619023, 0.021296086275619023, 0.9418738237897343, 0.7159585782956127, 0.14595694095022363, 0.2270441303670145, 0.09730462730014908, 0.11352206518350726, 0.12973950306686544, 0.12973950306686544, 0.09730462730014908, 0.04865231365007454, 0.03243487576671636, 0.1091743135366734, 0.4366972541466936, 0.2183486270733468, 0.3275229406100202, 0.22674187096941656, 0.18139349677553324, 0.09069674838776662, 0.4988321161327164, 0.837328702252463, 0.11961838603606614, 0.43559311876639756, 0.43559311876639756, 0.8129431992266383, 0.9255000646043063, 1.0731168597628429, 0.5726033451989695, 0.179653609402081, 0.3233764969237458, 0.179653609402081, 0.179653609402081, 0.1437228875216648, 0.11481519472314342, 0.11481519472314342, 0.6888911683388604, 0.11481519472314342, 1.120948257557683, 0.09228387231671735, 0.3691354892668694, 0.24609032617791293, 0.030761290772239117, 0.030761290772239117, 0.09228387231671735, 0.12304516308895647, 0.10103339098101008, 0.20206678196202016, 0.4041335639240403, 0.10103339098101008, 0.9393499007076928, 0.8323470532733285, 0.13872450887888807, 1.0184586482265254, 0.7785854378661821, 0.19464635946654552, 0.9958261288563772, 0.70949692641328, 0.7940837240542457, 0.029407029125875443, 0.14703514562937722, 0.3528843495105053, 0.029407029125875443, 0.17644217475525265, 0.058814058251750886, 0.029407029125875443, 0.058814058251750886, 0.11762811650350177, 0.1041865877036494, 0.4167463508145976, 0.1041865877036494, 0.3125597631109482, 0.42545479092393446, 0.6339201423120047, 0.3148578501545876, 0.6297157003091752, 0.5954319458887637, 0.1653977627468788, 0.04961932882406364, 0.04961932882406364, 0.03307955254937576, 0.04961932882406364, 0.01653977627468788, 0.01653977627468788, 0.01653977627468788, 1.0700568482279293, 0.38323152479726774, 0.1437118217989754, 0.3353275841976093, 0.1437118217989754, 0.08435282426025387, 0.8435282426025387, 0.11186204523477052, 0.22372409046954103, 0.5593102261738525, 0.6773409514061784, 0.21526688240780098, 0.43053376481560196, 0.1316624244056794, 0.43887474801893134, 0.04388747480189314, 0.04388747480189314, 0.3510997984151451, 0.7884433694609211, 0.0750898447105639, 0.018772461177640976, 0.018772461177640976, 0.03754492235528195, 0.03754492235528195, 0.8528940141937362, 0.06156257347446848, 0.18468772042340545, 0.06156257347446848, 0.3693754408468109, 0.18468772042340545, 0.06156257347446848, 0.06156257347446848, 0.807662292548152, 0.9852158272119752, 0.717220678142352, 0.6824856652929171, 0.10237284979393756, 0.10237284979393756, 0.0682485665292917, 0.0682485665292917, 0.5227306420874349, 0.2932391406831952, 0.012749527855791096, 0.08924669499053767, 0.03824858356737328, 0.012749527855791096, 0.025499055711582192, 0.12290637476063805, 0.5162067739946798, 0.2212314745691485, 0.07374382485638283, 0.04916254990425522, 0.5390940322533627, 0.0598993369170403, 0.2395973476681612, 0.1197986738340806, 0.0598993369170403, 0.0528037208265038, 0.1584111624795114, 0.0528037208265038, 0.6336446499180456, 0.0792055812397557, 0.8951245589628102, 0.19876334690364122, 0.19876334690364122, 0.39752669380728245, 1.0609342843261116, 0.049413612272528926, 0.7164973779516695, 0.1482408368175868, 0.09882722454505785, 0.893604135991478, 0.1276577337130683, 0.6716738114949942, 0.08869221144485574, 0.26607663433456724, 0.08869221144485574, 0.4434610572242787, 0.17738442288971148, 0.6918375079432588, 0.1281180570265294, 0.10249444562122352, 0.07687083421591764, 0.5727130409884241, 0.4295347807413181, 0.8309547036527432, 0.16619094073054863, 0.055396980243516206, 0.47533865715062307, 0.20829651435672814, 0.6943217145224271, 0.0694321714522427, 0.15599511391914622, 0.5719820843702028, 0.25999185653191037, 0.15651330563112018, 0.31302661126224035, 0.4695399168933605, 0.8604563713554448, 0.7923860413100998, 0.15438443796190507, 0.6175377518476203, 0.16673683343358545, 0.16673683343358545, 0.16673683343358545, 0.25010525015037816, 0.08336841671679272, 0.16673683343358545, 0.6238044201351862, 0.989086625560392, 0.9597777939001481, 0.6688017393066285, 0.1672004348266571, 0.03344008696533143, 0.03344008696533143, 0.06688017393066285, 0.03344008696533143, 0.9414561516882564, 0.5732129579916373, 0.09553549299860621, 0.19107098599721242, 0.09553549299860621, 0.36724770687086994, 0.09181192671771748, 0.09181192671771748, 0.09181192671771748, 0.12241590229029, 0.09181192671771748, 0.061207951145145, 0.061207951145145, 1.094585605041524, 0.2814742310355597, 0.6567732057496392, 0.042838034981220914, 0.1927711574154941, 0.2784472273779359, 0.17135213992488366, 0.17135213992488366, 0.17135213992488366, 0.9204078627984664, 1.0114400966488648, 0.8198691958161276, 1.075416963934989, 0.9258311917657653, 0.04872795746135607, 0.04872795746135607, 0.8015596821450958, 0.047150569537946815, 0.03536292715346011, 0.11787642384486703, 0.9978341804849074, 0.9028036967054548, 0.12897195667220782, 0.13736339444599324, 0.7554986694529628, 0.06868169722299662, 0.6119857940065667, 0.15299644850164168, 0.07649822425082084, 0.11474733637623126, 0.03824911212541042, 0.2913277726475569, 0.5826555452951138, 0.07317734941274014, 0.8781281929528816, 0.9611409690121827, 0.8071050345493229, 0.13451750575822047, 0.740583700950573, 0.14811674019011462, 0.8146126516521924, 0.058186617975156604, 0.058186617975156604, 1.117115205885425, 0.8767616209956614, 0.044430500161844556, 0.8484109792809366, 0.03173607154417468, 0.04866197636773451, 0.02538885723533975, 0.0021157381029449788, 0.8206502317481051, 0.4025907368048803, 0.4025907368048803, 0.4025907368048803, 0.17092199206241634, 0.07477837152730715, 0.5020833516833481, 0.10682624503901023, 0.042730498015604086, 0.09614362053510919, 0.08275666577709101, 0.5379183275510915, 0.041378332888545505, 0.22758083088700026, 0.08275666577709101, 0.020689166444272752, 0.37577769488046686, 0.45093323385656026, 0.03757776948804669, 0.07515553897609338, 0.03757776948804669, 0.14487992026814211, 0.28975984053628423, 0.5795196810725685, 0.4454876124330547, 0.5091286999234911, 0.4767030303029503, 0.4767030303029503, 0.6663668988599349, 0.014178019124679466, 0.11342415299743573, 0.07089009562339733, 0.056712076498717866, 0.056712076498717866, 0.3494824729681503, 0.09319532612484009, 0.13979298918726013, 0.1164941576560501, 0.13979298918726013, 0.09319532612484009, 0.06989649459363007, 0.046597663062420046, 0.7753456662144035, 0.5355872082312444, 0.17852906941041483, 0.17852906941041483, 0.5468596912466418, 0.13671492281166045, 0.04557164093722015, 0.1822865637488806, 0.04557164093722015, 0.8081282095721273, 0.04753695350424278, 0.04753695350424278, 0.04753695350424278, 0.7754667690227082, 0.9848202234066339, 1.0173191221531688, 1.1316192867015615, 1.6506886463944244, 0.8483856745946929, 0.5275482940573061, 0.4463870180484898, 0.9993336738003067, 0.8265639094980015, 1.0782210187329444, 1.0449349759309947, 0.9351204452551175, 0.8760060092736316, 0.9635567104841425, 0.5178185004430745, 0.22910530973402998, 0.25774347345078374, 0.22910530973402998, 0.22910530973402998, 0.028638163716753748, 0.028638163716753748, 0.8873240218744219, 0.46863672953306035, 0.46863672953306035, 0.8382202518474987, 0.7734046799396609, 0.3027803225791314, 0.6055606451582628, 0.8137143402268789, 0.9442192672225913, 0.08583811520205376, 0.5324857870163938, 0.9332977391490289, 0.5660537203234264, 0.5660537203234264, 0.15250772208402102, 0.15250772208402102, 0.6100308883360841, 0.15250772208402102, 0.6556958617820232, 0.2185652872606744, 0.4415381632490038, 0.4415381632490038, 0.1261537609282868, 0.31597355588605813, 0.6319471117721163, 0.16504891624805088, 0.8252445812402545, 0.4880146980971396, 0.1220036745242849, 0.04066789150809497, 0.08133578301618993, 0.1220036745242849, 0.04066789150809497, 0.08133578301618993, 1.0949791530264743, 0.9407640383756237, 0.8912242488137236, 0.6433764170720311, 0.6433764170720311, 0.29057822493735885, 0.07264455623433971, 0.07264455623433971, 0.10896683435150957, 0.07264455623433971, 0.29057822493735885, 0.07264455623433971, 0.07264455623433971, 1.0832155880038863, 0.7959415158132308, 0.9396078032764883, 0.23882661506658515, 0.4776532301331703, 0.3684125635854651, 0.10526073245299002, 0.07894554933974252, 0.07894554933974252, 0.13157591556623752, 0.10526073245299002, 0.05263036622649501, 0.07894554933974252, 0.19299156715073051, 0.19299156715073051, 0.5789747014521915, 0.40797630551419023, 0.058282329359170035, 0.029141164679585017, 0.029141164679585017, 0.26227048211626514, 0.1748469880775101, 0.7935409115629075, 0.0036234744820224088, 0.04710516826629131, 0.0434816937842689, 0.014493897928089635, 0.01268216068707843, 0.03261127033820168, 0.027176058615168065, 0.02174084689213445, 0.16199637958039836, 0.16199637958039836, 0.6479855183215935, 0.24849009769733982, 0.4555651791117896, 0.08283003256577993, 0.04141501628288997, 0.08283003256577993, 0.04141501628288997, 0.08283003256577993, 0.4652160033028287, 0.1431433856316396, 0.1550720011009429, 0.011928615469303301, 0.0596430773465165, 0.0357858464079099, 0.011928615469303301, 0.0357858464079099, 0.011928615469303301, 0.0596430773465165, 0.17436540197828942, 0.7846443089023024, 0.7627174865619735, 0.2542391621873245, 0.8398633122564239, 0.30943604255771795, 0.12658747195543008, 0.5626109864685781, 0.6971580555110636, 0.3485790277555318, 0.2792646181217569, 0.5585292362435138, 0.04654410302029282, 0.09308820604058564, 0.7696208718321226, 0.3848104359160613, 0.5535251891960381, 0.09372904724700228, 0.46864523623501136, 0.09372904724700228, 0.09372904724700228, 0.14059357087050342, 0.04686452362350114, 0.870871816413847, 0.5223639646174244, 0.11753189203892048, 0.07835459469261366, 0.10447279292348487, 0.05223639646174243, 0.026118198230871217, 0.06529549557717805, 0.026118198230871217, 1.0536703318289062, 0.19311250643088798, 0.06437083547696267, 0.3218541773848133, 0.12874167095392533, 0.25748334190785066, 0.8092058653131152, 0.1798235256251367, 0.3413126276784116, 0.0853281569196029, 0.3413126276784116, 0.0853281569196029, 0.5329310409579314, 1.3303089634410403, 0.11699076393832569, 0.23398152787665139, 0.23398152787665139, 0.11699076393832569, 0.23398152787665139, 0.1676209002879812, 0.4266713825512249, 0.41143311888868117, 0.6744425416875809, 0.33722127084379044, 0.06399463446922131, 0.06399463446922131, 0.031997317234610655, 0.3519704895807172, 0.4799597585191598, 0.06399463446922131, 0.8735415395484593, 0.17470830790969183, 0.6717466937779325, 0.36437056623735015, 0.2550593963661451, 0.16396675480680756, 0.14574822649494004, 0.07287411324747002, 0.8042764669256278, 0.1002522323670129, 0.12889572732901658, 0.24346970717703134, 0.12889572732901658, 0.08593048488601106, 0.08593048488601106, 0.08593048488601106, 0.14321747481001842, 0.028643494962003687, 0.3776877647452329, 0.1999523460415939, 0.044433854675909754, 0.03332539100693232, 0.06665078201386464, 0.08886770935181951, 0.06665078201386464, 0.044433854675909754, 0.03332539100693232, 0.044433854675909754, 0.37380035361863223, 0.37380035361863223, 0.23362522101164515, 0.12919758882663845, 0.06459879441331923, 0.32299397206659614, 0.3875927664799154, 0.12919758882663845, 0.38363832164310036, 0.38363832164310036, 0.4434054284415278, 0.2660432570649167, 0.022170271422076393, 0.08868108568830557, 0.08868108568830557, 0.022170271422076393, 0.044340542844152786, 0.022170271422076393, 1.1589082458333444, 0.7043522862082319, 0.3018652655178137, 0.9189359416636578, 0.029643094892376057, 0.01976206326158404, 0.00988103163079202, 0.01976206326158404, 0.1450953228954279, 0.20090121631674634, 0.0781282507898458, 0.06696707210558211, 0.27902946710659216, 0.011161178684263685, 0.10045060815837317, 0.0781282507898458, 0.03348353605279106, 0.7125616663336578, 0.9124511397673115], \"Term\": [\"abras\", \"absorb\", \"absorb\", \"absorb\", \"absorb\", \"acid\", \"acid\", \"acid\", \"acn\", \"adult\", \"adult\", \"aft\", \"aft\", \"aft\", \"aft\", \"aft\", \"aft\", \"aft\", \"aft\", \"aft\", \"afternoon\", \"afterward\", \"afterward\", \"afterward\", \"afterward\", \"afterward\", \"ag\", \"ag\", \"ag\", \"ag\", \"ag\", \"ahav\", \"ahav\", \"ahav\", \"ahav\", \"al\", \"al\", \"al\", \"al\", \"al\", \"al\", \"al\", \"al\", \"al\", \"alcohol\", \"alcohol\", \"alcohol\", \"alway\", \"alway\", \"alway\", \"alway\", \"alway\", \"alway\", \"alway\", \"alway\", \"alway\", \"amaz\", \"amaz\", \"amaz\", \"amaz\", \"amaz\", \"amaz\", \"amaz\", \"amaz\", \"amazon\", \"amazon\", \"anthony\", \"anthony\", \"antibiot\", \"appear\", \"appear\", \"appear\", \"appear\", \"appear\", \"apply\", \"apply\", \"apply\", \"apply\", \"apply\", \"apply\", \"apply\", \"apricot\", \"ar\", \"ar\", \"ar\", \"ar\", \"ar\", \"ar\", \"ar\", \"ar\", \"ard\", \"arizon\", \"ast\", \"ast\", \"ast\", \"auth\", \"av\", \"av\", \"av\", \"av\", \"av\", \"bacter\", \"bal\", \"bal\", \"bal\", \"bal\", \"bal\", \"bal\", \"bead\", \"bead\", \"beard\", \"bef\", \"bef\", \"bef\", \"bef\", \"bef\", \"bef\", \"bef\", \"bef\", \"bef\", \"benzoyl\", \"benzyl\", \"best\", \"best\", \"best\", \"best\", \"best\", \"best\", \"best\", \"best\", \"bil\", \"bil\", \"bioderm\", \"bioderm\", \"bioderm\", \"bioel\", \"bioel\", \"bioel\", \"bioel\", \"bioel\", \"bit\", \"bit\", \"bit\", \"bit\", \"bit\", \"bit\", \"bit\", \"bit\", \"bleach\", \"blem\", \"blend\", \"blend\", \"bliss\", \"bliss\", \"bliss\", \"bliss\", \"bliss\", \"blist\", \"body\", \"body\", \"body\", \"body\", \"body\", \"body\", \"boot\", \"borghes\", \"borghes\", \"borghes\", \"borghes\", \"botox\", \"bottl\", \"bottl\", \"bottl\", \"bottl\", \"bottl\", \"bottl\", \"bought\", \"bought\", \"bought\", \"bought\", \"bought\", \"bought\", \"bp\", \"brandt\", \"brandt\", \"breakout\", \"breakout\", \"breakout\", \"breakout\", \"bright\", \"bright\", \"bright\", \"bright\", \"brow\", \"brown\", \"brown\", \"brush\", \"brush\", \"brush\", \"brush\", \"buff\", \"bump\", \"bump\", \"bump\", \"bump\", \"button\", \"cakey\", \"calm\", \"calm\", \"calm\", \"calm\", \"calm\", \"car\", \"car\", \"car\", \"car\", \"car\", \"ceramid\", \"ceramid\", \"cetaphil\", \"cetaphil\", \"cetaphil\", \"charco\", \"chin\", \"chin\", \"chin\", \"chunk\", \"claim\", \"claim\", \"claim\", \"claim\", \"clairson\", \"clarison\", \"clay\", \"cle\", \"cle\", \"cle\", \"cle\", \"cle\", \"cleans\", \"cleans\", \"clear\", \"clear\", \"clear\", \"clear\", \"clear\", \"clear\", \"clear\", \"clim\", \"clim\", \"clim\", \"clo\", \"clo\", \"clog\", \"clog\", \"clog\", \"clog\", \"cloy\", \"coff\", \"colorado\", \"combin\", \"combin\", \"combin\", \"combin\", \"comfort\", \"comfort\", \"comfort\", \"comfort\", \"compl\", \"compl\", \"comply\", \"comply\", \"comply\", \"conf\", \"control\", \"control\", \"control\", \"control\", \"cool\", \"cool\", \"cool\", \"cool\", \"cool\", \"cool\", \"cotton\", \"cotton\", \"counterfeit\", \"cov\", \"cov\", \"cov\", \"cream\", \"cream\", \"creamy\", \"creamy\", \"creamy\", \"creamy\", \"creamy\", \"creas\", \"creas\", \"crem\", \"crem\", \"crem\", \"crem\", \"crep\", \"crme\", \"crow\", \"cyc\", \"cyst\", \"cyst\", \"dark\", \"dark\", \"dark\", \"day\", \"day\", \"day\", \"day\", \"day\", \"day\", \"day\", \"daytim\", \"daytim\", \"daytim\", \"decollet\", \"decollet\", \"dehydr\", \"dehydr\", \"del\", \"del\", \"del\", \"del\", \"demand\", \"dens\", \"dens\", \"dep\", \"dermatolog\", \"dermatolog\", \"dermatolog\", \"dermatolog\", \"dermatolog\", \"dermatolog\", \"desk\", \"detox\", \"dev\", \"dev\", \"did\", \"did\", \"did\", \"did\", \"did\", \"did\", \"did\", \"did\", \"did\", \"did\", \"die\", \"diff\", \"diff\", \"diff\", \"diff\", \"diff\", \"diff\", \"diff\", \"dilig\", \"dioxid\", \"disappoint\", \"disappoint\", \"disappoint\", \"disappoint\", \"disappoint\", \"discontinu\", \"discontinu\", \"distribut\", \"divin\", \"doe\", \"doe\", \"doe\", \"doe\", \"doe\", \"doe\", \"doe\", \"doe\", \"doe\", \"doe\", \"doesn\", \"doesn\", \"doesn\", \"doesn\", \"doesn\", \"doesn\", \"doesn\", \"doesn\", \"don\", \"don\", \"don\", \"don\", \"don\", \"don\", \"don\", \"don\", \"drain\", \"drink\", \"drink\", \"drink\", \"drip\", \"drip\", \"drop\", \"drop\", \"drop\", \"dry\", \"dry\", \"dry\", \"dry\", \"dry\", \"dry\", \"dry\", \"easy\", \"easy\", \"easy\", \"easy\", \"easy\", \"easy\", \"easy\", \"ed\", \"ed\", \"ed\", \"ed\", \"ed\", \"effacl\", \"effacl\", \"elem\", \"elem\", \"elem\", \"elem\", \"elizabe\", \"employ\", \"england\", \"escu\", \"escu\", \"escu\", \"escu\", \"esthet\", \"esthet\", \"esthet\", \"ev\", \"ev\", \"ev\", \"ev\", \"ev\", \"ev\", \"ev\", \"ev\", \"ev\", \"ev\", \"excess\", \"excess\", \"excess\", \"excess\", \"excess\", \"exfo\", \"exfo\", \"exfo\", \"expend\", \"expend\", \"expend\", \"expend\", \"expend\", \"expend\", \"expend\", \"ey\", \"ey\", \"ey\", \"ey\", \"ey\", \"eyelid\", \"eyelid\", \"eyelin\", \"fabr\", \"fac\", \"fac\", \"fac\", \"fac\", \"fac\", \"fac\", \"fac\", \"fac\", \"fac\", \"fad\", \"fad\", \"fak\", \"fat\", \"fee\", \"feel\", \"feel\", \"feel\", \"feel\", \"feel\", \"feel\", \"feel\", \"feel\", \"felt\", \"felt\", \"felt\", \"felt\", \"felt\", \"felt\", \"felt\", \"felt\", \"fil\", \"fil\", \"fil\", \"fin\", \"fin\", \"fin\", \"fin\", \"fin\", \"fin\", \"fin\", \"firm\", \"firm\", \"firm\", \"flaky\", \"flaky\", \"flaky\", \"flaky\", \"flash\", \"foam\", \"foam\", \"foamy\", \"foamy\", \"forehead\", \"forehead\", \"fountain\", \"fragr\", \"fragr\", \"fragr\", \"fragr\", \"fragr\", \"fragr\", \"frant\", \"frant\", \"freckl\", \"fresh\", \"fresh\", \"fresh\", \"fresh\", \"fresh\", \"fresh\", \"fridg\", \"frown\", \"gal\", \"gel\", \"gel\", \"gel\", \"gel\", \"gel\", \"gel\", \"gel\", \"gem\", \"gent\", \"gent\", \"gent\", \"gent\", \"gentl\", \"gentl\", \"gentl\", \"gentl\", \"genuin\", \"glow\", \"glow\", \"glow\", \"glow\", \"glow\", \"glow\", \"glow\", \"glowy\", \"glycol\", \"glycol\", \"glycol\", \"glycol\", \"glyton\", \"glyton\", \"goe\", \"goe\", \"goe\", \"goe\", \"goe\", \"goe\", \"goop\", \"got\", \"got\", \"got\", \"got\", \"got\", \"got\", \"got\", \"got\", \"grab\", \"grain\", \"gran\", \"grap\", \"greasy\", \"greasy\", \"greasy\", \"greasy\", \"grit\", \"gritty\", \"ground\", \"grow\", \"guy\", \"guy\", \"gym\", \"ha\", \"happy\", \"happy\", \"happy\", \"happy\", \"happy\", \"happy\", \"happy\", \"happy\", \"happy\", \"hav\", \"hav\", \"hav\", \"hav\", \"hav\", \"hav\", \"hav\", \"hav\", \"hav\", \"hazel\", \"hazel\", \"hazel\", \"heal\", \"heal\", \"heal\", \"heal\", \"heal\", \"heavy\", \"heavy\", \"heavy\", \"heavy\", \"help\", \"help\", \"help\", \"help\", \"help\", \"help\", \"hormon\", \"hot\", \"hot\", \"hot\", \"hot\", \"husband\", \"husband\", \"husband\", \"husband\", \"hydr\", \"hydr\", \"hydr\", \"hydr\", \"hydr\", \"hydroquinon\", \"im\", \"im\", \"im\", \"immortel\", \"improv\", \"improv\", \"improv\", \"improv\", \"incid\", \"infect\", \"ing\", \"ing\", \"ing\", \"ing\", \"ing\", \"ing\", \"ingrown\", \"inject\", \"insert\", \"inst\", \"inst\", \"inst\", \"inst\", \"ir\", \"ir\", \"ir\", \"irrit\", \"irrit\", \"irrit\", \"irrit\", \"irrit\", \"irrit\", \"item\", \"item\", \"item\", \"jack\", \"jan\", \"jan\", \"jan\", \"jar\", \"jar\", \"jar\", \"jar\", \"jar\", \"just\", \"just\", \"just\", \"just\", \"just\", \"just\", \"just\", \"just\", \"just\", \"kay\", \"kay\", \"lancm\", \"latest\", \"lath\", \"lath\", \"laud\", \"laud\", \"lay\", \"lay\", \"lay\", \"lay\", \"lay\", \"lay\", \"leav\", \"leav\", \"leav\", \"leav\", \"leav\", \"leav\", \"left\", \"left\", \"left\", \"left\", \"left\", \"left\", \"left\", \"left\", \"licens\", \"lift\", \"lift\", \"light\", \"light\", \"light\", \"light\", \"light\", \"light\", \"light\", \"lightest\", \"lightweight\", \"lightweight\", \"lin\", \"lin\", \"lin\", \"lin\", \"liquidy\", \"littl\", \"littl\", \"littl\", \"littl\", \"littl\", \"littl\", \"littl\", \"littl\", \"log\", \"long\", \"long\", \"long\", \"long\", \"long\", \"long\", \"long\", \"long\", \"long\", \"look\", \"look\", \"look\", \"look\", \"look\", \"look\", \"look\", \"look\", \"lot\", \"lot\", \"lot\", \"lot\", \"lot\", \"lot\", \"lot\", \"lux\", \"lux\", \"luxury\", \"luxury\", \"luxury\", \"luxury\", \"luxury\", \"machin\", \"mak\", \"mak\", \"mak\", \"mak\", \"mak\", \"mak\", \"mak\", \"mak\", \"mak\", \"mak\", \"makeup\", \"makeup\", \"makeup\", \"makeup\", \"march\", \"mascar\", \"mascar\", \"masculin\", \"mask\", \"masqu\", \"masqu\", \"mat\", \"mat\", \"mat\", \"mat\", \"mat\", \"matt\", \"meh\", \"men\", \"men\", \"messy\", \"messy\", \"methylparab\", \"micell\", \"micell\", \"mil\", \"milk\", \"milk\", \"milk\", \"milky\", \"milky\", \"minut\", \"minut\", \"minut\", \"minut\", \"minut\", \"mislead\", \"mislead\", \"mist\", \"moist\", \"moist\", \"moist\", \"moist\", \"mor\", \"mor\", \"mor\", \"mor\", \"mor\", \"mor\", \"mor\", \"mor\", \"mor\", \"mor\", \"morn\", \"morn\", \"morn\", \"morn\", \"morn\", \"morn\", \"morn\", \"morn\", \"morn\", \"mud\", \"mud\", \"mud\", \"nail\", \"neck\", \"neck\", \"nee\", \"nee\", \"nee\", \"nee\", \"nee\", \"nee\", \"nee\", \"nev\", \"nev\", \"nev\", \"nev\", \"nev\", \"nev\", \"nev\", \"nev\", \"nev\", \"nic\", \"nic\", \"nic\", \"nic\", \"nic\", \"nic\", \"nic\", \"night\", \"night\", \"night\", \"night\", \"night\", \"night\", \"nighttim\", \"nighttim\", \"nurs\", \"nut\", \"nux\", \"nux\", \"nux\", \"nux\", \"nzle\", \"occit\", \"occit\", \"occit\", \"occit\", \"oi\", \"oi\", \"oi\", \"oi\", \"oil\", \"oil\", \"oil\", \"oil\", \"oil\", \"oil\", \"oil\", \"oint\", \"olay\", \"olay\", \"olay\", \"old\", \"old\", \"old\", \"old\", \"old\", \"old\", \"old\", \"onlin\", \"onlin\", \"ont\", \"ont\", \"ont\", \"ont\", \"ont\", \"ont\", \"ont\", \"opportun\", \"ord\", \"ord\", \"ord\", \"ord\", \"origin\", \"otc\", \"oth\", \"oth\", \"oth\", \"oth\", \"oth\", \"oth\", \"oth\", \"oth\", \"oth\", \"overnight\", \"overnight\", \"overnight\", \"overnight\", \"pad\", \"pad\", \"pad\", \"pad\", \"paid\", \"paid\", \"pal\", \"pal\", \"parf\", \"partic\", \"peach\", \"pearl\", \"peel\", \"peel\", \"peel\", \"peel\", \"peel\", \"penny\", \"penny\", \"penny\", \"penny\", \"peppermint\", \"perfect\", \"perfect\", \"perfect\", \"perfect\", \"perfect\", \"perfect\", \"perfect\", \"perfum\", \"perfum\", \"perfum\", \"perfum\", \"peroxid\", \"pevon\", \"pevon\", \"phenom\", \"pig\", \"pig\", \"pimpl\", \"pol\", \"pool\", \"por\", \"por\", \"por\", \"por\", \"por\", \"por\", \"por\", \"por\", \"por\", \"powd\", \"powd\", \"powd\", \"powd\", \"precy\", \"prefer\", \"prescrib\", \"prescrib\", \"pric\", \"pric\", \"pric\", \"pric\", \"pric\", \"pric\", \"pric\", \"pric\", \"pric\", \"proact\", \"pron\", \"pron\", \"pron\", \"pron\", \"protect\", \"protect\", \"provid\", \"provid\", \"provid\", \"psorias\", \"pul\", \"pul\", \"pump\", \"pump\", \"pump\", \"pump\", \"pump\", \"purchas\", \"purchas\", \"purchas\", \"purchas\", \"purchas\", \"purchas\", \"purs\", \"qual\", \"qual\", \"qual\", \"qual\", \"qual\", \"qual\", \"qual\", \"ray\", \"raz\", \"reapply\", \"receiv\", \"receiv\", \"receiv\", \"receiv\", \"receiv\", \"recommend\", \"recommend\", \"recommend\", \"recommend\", \"recommend\", \"recommend\", \"recommend\", \"red\", \"red\", \"red\", \"red\", \"red\", \"reduc\", \"reduc\", \"reduc\", \"reduc\", \"reduc\", \"refresh\", \"refresh\", \"refresh\", \"refresh\", \"refresh\", \"regardless\", \"relax\", \"relax\", \"relax\", \"remark\", \"remov\", \"remov\", \"remov\", \"remov\", \"reord\", \"reord\", \"reserv\", \"residu\", \"residu\", \"residu\", \"residu\", \"residu\", \"result\", \"result\", \"result\", \"result\", \"retinol\", \"retinol\", \"return\", \"return\", \"return\", \"ric\", \"rich\", \"rich\", \"rich\", \"rins\", \"rins\", \"rins\", \"ros\", \"ros\", \"ros\", \"rosew\", \"rosy\", \"rough\", \"rough\", \"rub\", \"rub\", \"rub\", \"rub\", \"rub\", \"rub\", \"saggy\", \"salicyl\", \"salon\", \"sam\", \"sam\", \"sam\", \"sam\", \"sam\", \"sam\", \"sand\", \"saw\", \"saw\", \"saw\", \"saw\", \"say\", \"say\", \"say\", \"say\", \"say\", \"say\", \"say\", \"say\", \"scam\", \"scar\", \"scar\", \"scent\", \"scent\", \"scent\", \"scent\", \"scent\", \"scent\", \"scratch\", \"scrub\", \"scrubbing\", \"scrubs\", \"sel\", \"sel\", \"sel\", \"sensit\", \"sensit\", \"sensit\", \"sensit\", \"ser\", \"serum\", \"serum\", \"set\", \"set\", \"set\", \"sev\", \"sev\", \"sev\", \"sev\", \"sev\", \"shad\", \"shad\", \"shav\", \"shav\", \"sheet\", \"shin\", \"shin\", \"shiny\", \"shiny\", \"ship\", \"ship\", \"ship\", \"shrinks\", \"sick\", \"skin\", \"skin\", \"skin\", \"skin\", \"skin\", \"skin\", \"skinmedic\", \"slimy\", \"slimy\", \"slimy\", \"smel\", \"smel\", \"smel\", \"smel\", \"smel\", \"smel\", \"smoo\", \"smoo\", \"smoo\", \"smoo\", \"smoo\", \"smoo\", \"smooth\", \"smooth\", \"smooth\", \"smooth\", \"smooth\", \"soak\", \"soak\", \"soak\", \"soap\", \"soap\", \"soapy\", \"soapy\", \"soft\", \"soft\", \"soft\", \"soft\", \"soft\", \"soft\", \"som\", \"som\", \"som\", \"som\", \"som\", \"som\", \"som\", \"som\", \"somebody\", \"son\", \"son\", \"son\", \"sooth\", \"sooth\", \"sooth\", \"sooth\", \"sooth\", \"spa\", \"spa\", \"spa\", \"spa\", \"spatul\", \"spectr\", \"spf\", \"splotchy\", \"sporad\", \"sport\", \"spot\", \"spot\", \"spray\", \"sprayed\", \"spraying\", \"sprays\", \"spritz\", \"squeaky\", \"st\", \"stain\", \"start\", \"start\", \"start\", \"start\", \"start\", \"start\", \"steady\", \"steam\", \"steam\", \"stem\", \"strip\", \"stripped\", \"stripped\", \"stripping\", \"strivectin\", \"strivectin\", \"struggle\", \"struggled\", \"study\", \"study\", \"suff\", \"suff\", \"suff\", \"suff\", \"sulf\", \"sulf\", \"sun\", \"sun\", \"sun\", \"sunblock\", \"sunblock\", \"sunscreen\", \"sunscreen\", \"sup\", \"sup\", \"sup\", \"sup\", \"sup\", \"sup\", \"sup\", \"superb\", \"surgeon\", \"sweaty\", \"swip\", \"swip\", \"tak\", \"tak\", \"tak\", \"tak\", \"tak\", \"tak\", \"tak\", \"tak\", \"tamp\", \"task\", \"teen\", \"temp\", \"temp\", \"ther\", \"ther\", \"ther\", \"ther\", \"ther\", \"ther\", \"ther\", \"ther\", \"therm\", \"therm\", \"therm\", \"thes\", \"thes\", \"thes\", \"thes\", \"thes\", \"thes\", \"thi\", \"thi\", \"thi\", \"thi\", \"thi\", \"thi\", \"thi\", \"thi\", \"thi\", \"thorough\", \"thorough\", \"thorough\", \"tight\", \"tight\", \"tight\", \"tight\", \"tight\", \"tight\", \"tight\", \"tim\", \"tim\", \"tim\", \"tim\", \"tim\", \"tim\", \"tim\", \"tim\", \"tim\", \"tim\", \"tint\", \"tint\", \"tip\", \"tip\", \"titan\", \"ton\", \"ton\", \"ton\", \"trac\", \"trac\", \"tre\", \"tre\", \"tre\", \"tre\", \"tremend\", \"tremend\", \"tricky\", \"typ\", \"typ\", \"typ\", \"typ\", \"typ\", \"typ\", \"uv\", \"ve\", \"ve\", \"ve\", \"ve\", \"ve\", \"ve\", \"ve\", \"ve\", \"vend\", \"vichy\", \"vichy\", \"vichy\", \"vichy\", \"vichy\", \"vitamin\", \"vitamin\", \"wak\", \"wak\", \"wak\", \"wak\", \"walmart\", \"war\", \"warm\", \"warm\", \"warm\", \"warm\", \"warm\", \"wash\", \"wash\", \"wash\", \"washclo\", \"washclo\", \"wat\", \"wat\", \"wat\", \"wat\", \"wat\", \"wat\", \"waterproof\", \"waterproof\", \"wed\", \"week\", \"week\", \"week\", \"week\", \"week\", \"weigh\", \"wel\", \"wel\", \"wel\", \"wel\", \"wel\", \"wel\", \"wel\", \"wel\", \"wel\", \"wil\", \"wil\", \"wil\", \"wil\", \"wil\", \"wil\", \"wil\", \"wil\", \"wil\", \"wil\", \"wint\", \"wint\", \"wint\", \"wip\", \"wip\", \"wip\", \"wip\", \"wip\", \"witch\", \"witch\", \"wond\", \"wond\", \"wond\", \"wond\", \"wond\", \"wond\", \"wond\", \"wond\", \"wrink\", \"wrinkl\", \"wrinkl\", \"year\", \"year\", \"year\", \"year\", \"year\", \"yo\", \"yo\", \"yo\", \"yo\", \"yo\", \"yo\", \"yo\", \"yo\", \"yo\", \"zint\", \"zit\"]}, \"R\": 30, \"lambda.step\": 0.01, \"plot.opts\": {\"xlab\": \"PC1\", \"ylab\": \"PC2\"}, \"topic.order\": [1, 7, 4, 6, 5, 9, 8, 2, 10, 3]};\n",
       "\n",
       "function LDAvis_load_lib(url, callback){\n",
       "  var s = document.createElement('script');\n",
       "  s.src = url;\n",
       "  s.async = true;\n",
       "  s.onreadystatechange = s.onload = callback;\n",
       "  s.onerror = function(){console.warn(\"failed to load library \" + url);};\n",
       "  document.getElementsByTagName(\"head\")[0].appendChild(s);\n",
       "}\n",
       "\n",
       "if(typeof(LDAvis) !== \"undefined\"){\n",
       "   // already loaded: just create the visualization\n",
       "   !function(LDAvis){\n",
       "       new LDAvis(\"#\" + \"ldavis_el141231139953605602234789896\", ldavis_el141231139953605602234789896_data);\n",
       "   }(LDAvis);\n",
       "}else if(typeof define === \"function\" && define.amd){\n",
       "   // require.js is available: use it to load d3/LDAvis\n",
       "   require.config({paths: {d3: \"https://cdnjs.cloudflare.com/ajax/libs/d3/3.5.5/d3.min\"}});\n",
       "   require([\"d3\"], function(d3){\n",
       "      window.d3 = d3;\n",
       "      LDAvis_load_lib(\"https://cdn.rawgit.com/bmabey/pyLDAvis/files/ldavis.v1.0.0.js\", function(){\n",
       "        new LDAvis(\"#\" + \"ldavis_el141231139953605602234789896\", ldavis_el141231139953605602234789896_data);\n",
       "      });\n",
       "    });\n",
       "}else{\n",
       "    // require.js not available: dynamically load d3 & LDAvis\n",
       "    LDAvis_load_lib(\"https://cdnjs.cloudflare.com/ajax/libs/d3/3.5.5/d3.min.js\", function(){\n",
       "         LDAvis_load_lib(\"https://cdn.rawgit.com/bmabey/pyLDAvis/files/ldavis.v1.0.0.js\", function(){\n",
       "                 new LDAvis(\"#\" + \"ldavis_el141231139953605602234789896\", ldavis_el141231139953605602234789896_data);\n",
       "            })\n",
       "         });\n",
       "}\n",
       "</script>"
      ],
      "text/plain": [
       "PreparedData(topic_coordinates=              x         y  topics  cluster       Freq\n",
       "topic                                                \n",
       "0      0.167930 -0.266151       1        1  17.805327\n",
       "6     -0.007438 -0.031173       2        1  16.357822\n",
       "3      0.246182  0.208398       3        1  12.895945\n",
       "5     -0.047134  0.073542       4        1   9.229667\n",
       "4      0.068916  0.002828       5        1   8.930044\n",
       "8     -0.123476  0.037760       6        1   8.499782\n",
       "7     -0.011159 -0.028221       7        1   8.127075\n",
       "1     -0.088721  0.057100       8        1   7.975983\n",
       "9     -0.124743 -0.033755       9        1   5.947364\n",
       "2     -0.080357 -0.020327      10        1   4.230991, topic_info=     Category        Freq    Term       Total  loglift  logprob\n",
       "1999  Default  472.000000    skin  472.000000  30.0000  30.0000\n",
       "2253  Default  551.000000     thi  551.000000  29.0000  29.0000\n",
       "487   Default  149.000000   cream  149.000000  28.0000  28.0000\n",
       "1342  Default  100.000000    mask  100.000000  27.0000  27.0000\n",
       "381   Default  114.000000  cleans  114.000000  26.0000  26.0000\n",
       "...       ...         ...     ...         ...      ...      ...\n",
       "1251  Topic10    3.757772    leav   63.247537   0.3395  -5.3471\n",
       "833   Topic10    4.271129    feel  159.339034  -0.4564  -5.2191\n",
       "80    Topic10    3.328221    amaz   48.400442   0.4857  -5.4685\n",
       "1088  Topic10    3.321460    hydr   51.515247   0.4213  -5.4705\n",
       "2510  Topic10    3.391695      yo   89.596272  -0.1112  -5.4496\n",
       "\n",
       "[687 rows x 6 columns], token_table=      Topic      Freq    Term\n",
       "term                         \n",
       "3         6  0.969436   abras\n",
       "5         2  0.197352  absorb\n",
       "5         3  0.039470  absorb\n",
       "5         4  0.473645  absorb\n",
       "5         7  0.315763  absorb\n",
       "...     ...       ...     ...\n",
       "2510      8  0.100451      yo\n",
       "2510      9  0.078128      yo\n",
       "2510     10  0.033484      yo\n",
       "2519      4  0.712562    zint\n",
       "2520      5  0.912451     zit\n",
       "\n",
       "[1525 rows x 3 columns], R=30, lambda_step=0.01, plot_opts={'xlab': 'PC1', 'ylab': 'PC2'}, topic_order=[1, 7, 4, 6, 5, 9, 8, 2, 10, 3])"
      ]
     },
     "execution_count": 39,
     "metadata": {},
     "output_type": "execute_result"
    }
   ],
   "source": [
    "# dimension model\n",
    "# vectorizer model\n",
    "# doc-term matrix\n",
    "pyLDAvis.sklearn.prepare(nmf, sparse_rev, tfidf_r)"
   ]
  },
  {
   "cell_type": "code",
   "execution_count": null,
   "metadata": {},
   "outputs": [],
   "source": []
  }
 ],
 "metadata": {
  "kernelspec": {
   "display_name": "Python [conda env:metis] *",
   "language": "python",
   "name": "conda-env-metis-py"
  },
  "language_info": {
   "codemirror_mode": {
    "name": "ipython",
    "version": 3
   },
   "file_extension": ".py",
   "mimetype": "text/x-python",
   "name": "python",
   "nbconvert_exporter": "python",
   "pygments_lexer": "ipython3",
   "version": "3.6.9"
  }
 },
 "nbformat": 4,
 "nbformat_minor": 2
}
