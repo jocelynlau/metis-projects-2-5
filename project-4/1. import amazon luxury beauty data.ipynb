{
 "cells": [
  {
   "cell_type": "markdown",
   "metadata": {},
   "source": [
    "### Import Amazon Luxury Beauty Product Reviews\n",
    "Import review and product JSON files. Data exploration and cleaning (restrict to certain categories - see 1a file for initial investigations). Combine review and products together into one MongoDB entry"
   ]
  },
  {
   "cell_type": "code",
   "execution_count": 1,
   "metadata": {},
   "outputs": [],
   "source": [
    "## Import from command line\n",
    "# (metis) Jocelyns-MacBook-Pro:project 4 Jocelyn$ gunzip amazon_luxury_beauty/Luxury_Beauty.json.gz\n",
    "# (metis) Jocelyns-MacBook-Pro:project 4 Jocelyn$ mongoimport --db amazon_lb --collection product_reviews --file amazon_luxury_beauty/Luxury_Beauty.json"
   ]
  },
  {
   "cell_type": "code",
   "execution_count": 1,
   "metadata": {},
   "outputs": [],
   "source": [
    "from pymongo import MongoClient\n",
    "from pprint import pprint\n",
    "\n",
    "import pandas as pd\n",
    "import re\n",
    "import nltk"
   ]
  },
  {
   "cell_type": "code",
   "execution_count": 2,
   "metadata": {},
   "outputs": [],
   "source": [
    "from bson.objectid import ObjectId"
   ]
  },
  {
   "cell_type": "code",
   "execution_count": 3,
   "metadata": {},
   "outputs": [],
   "source": [
    "# This creates a client that uses the default port on localhost.\n",
    "# If connecting to AWS, you need a connection string.\n",
    "# Can do the same thing with MongoClient(\"mongodb://localhost:27017\")\n",
    "# client = MongoClient()\n",
    "client = MongoClient(\"mongodb://localhost:27017\")"
   ]
  },
  {
   "cell_type": "code",
   "execution_count": 4,
   "metadata": {},
   "outputs": [],
   "source": [
    "# Makes it look similar to shell mongo\n",
    "db = client.amazon_lb"
   ]
  },
  {
   "cell_type": "code",
   "execution_count": 5,
   "metadata": {},
   "outputs": [
    {
     "data": {
      "text/plain": [
       "['skin_care_face_reviews',\n",
       " 'product_reviews',\n",
       " 'skin_care_face_rev_agg',\n",
       " 'skin_care_face_products',\n",
       " 'skin_care_face_prod_rev',\n",
       " 'product_metadata']"
      ]
     },
     "execution_count": 5,
     "metadata": {},
     "output_type": "execute_result"
    }
   ],
   "source": [
    "db.list_collection_names()"
   ]
  },
  {
   "cell_type": "code",
   "execution_count": 6,
   "metadata": {},
   "outputs": [],
   "source": [
    "cursor = db.product_reviews.find_one({}, {'_id':0,})"
   ]
  },
  {
   "cell_type": "code",
   "execution_count": 7,
   "metadata": {},
   "outputs": [
    {
     "data": {
      "text/plain": [
       "[{'_id': ObjectId('5dc881769f9b98109203bc99'),\n",
       "  'description': [\"Rich, black mineral mud, harvested from the banks of the Dead Sea, is comprised of layer upon layer of sedimentary clay formed over thousands of years. Captured within is an extremely high concentration of minerals, scientifically proven to be essential in maintaining healthy skin. Ahava Black Mineral Mud works deep to clean, purify and restore the skin's natural moisture balance, leaving it smooth, radiant and revitalized.\",\n",
       "   '',\n",
       "   ''],\n",
       "  'title': 'AHAVA Dead Sea Mineral Mud, 8.5 oz, Pack of 4',\n",
       "  'image': ['https://images-na.ssl-images-amazon.com/images/I/41O1luEZuHL._SX50_SY65_CR,0,0,50,65_.jpg'],\n",
       "  'rank': '1,806,710inBeautyamp;PersonalCare(',\n",
       "  'details': '\\n  <div class=\"content\">\\n\\n\\n\\n\\n\\n\\n\\n<ul>\\n\\n\\n\\n\\n\\n\\n\\n\\n\\n\\n\\n\\n\\n\\n                                                                                \\n\\n\\n    <li><b>\\n    Product Dimensions: \\n    </b>\\n    5.1 x 3 x 5.5 inches ; 2.48 pounds\\n    </li>\\n\\n\\n\\n\\n\\n\\n\\n\\n<li><b>Shipping Weight:</b> 2.6 pounds</li>\\n\\n\\n\\n\\n\\n\\n\\n\\n\\n\\n\\n\\n\\n<li><b>Domestic Shipping: </b>Item can be shipped within U.S.</li>\\n<li><b>International Shipping: </b>This item is not eligible for international shipping.  <a href=\"/gp/help/customer/display.html?ie=UTF8&amp;nodeId=201117930&amp;pop-up=1\" target=\"InternationalShippingDetails\" onclick=\"return amz_js_PopWin(\\'/gp/help/customer/display.html?ie=UTF8&amp;nodeId=201117930&amp;pop-up=1\\',\\'InternationalShippingDetails\\',\\'width=550,height=550,resizable=1,scrollbars=1,toolbar=0,status=0\\')\">Learn More</a></li>\\n\\n\\n\\n\\n\\n\\n\\n\\n\\n  \\n\\n\\n<li><b>ASIN:</b> B0000532JH</li>\\n\\n\\n\\n\\n\\n\\n\\n\\n\\n\\n\\n\\n\\n\\n<li><b>Item model number:</b> 018N</li>\\n\\n\\n\\n\\n\\n\\n\\n\\n\\n\\n\\n\\n\\n\\n\\n\\n\\n\\n\\n\\n\\n\\n\\n\\n\\n\\n\\n\\n\\n\\n\\n\\n\\n\\n\\n\\n\\n\\n\\n\\n\\n\\n\\n  \\n  \\n\\n\\n\\n\\n\\n\\n\\n\\n\\n\\n\\n\\n\\n\\n\\n\\n\\n\\n\\n\\n\\n\\n\\n\\n\\n\\n\\n<li><b>Average Customer Review:</b> \\n\\n\\n\\n\\n<span class=\"dpProductDetailB0000532JH\">\\n  <span class=\"a-declarative\" data-action=\"a-popover\" data-a-popover=\"{&quot;closeButton&quot;:&quot;false&quot;,&quot;max-width&quot;:&quot;700&quot;,&quot;position&quot;:&quot;triggerBottom&quot;,&quot;url&quot;:&quot;/review/widgets/average-customer-review/popover/ref=acr_dpproductdetail_popover?ie=UTF8&amp;asin=B0000532JH&amp;contextId=dpProductDetail&amp;ref=acr_dpproductdetail_popover&quot;}\">\\n    <a href=\"javascript:void(0)\" class=\"a-popover-trigger a-declarative\">\\n      </a><a class=\"a-link-normal a-text-normal\" href=\"https://www.amazon.com/product-reviews/B0000532JH/ref=acr_dpproductdetail_text?ie=UTF8&amp;showViewpoints=1\">\\n        <i class=\"a-icon a-icon-star a-star-3\"><span class=\"a-icon-alt\">3.2 out of 5 stars</span></i>\\n      </a>\\n    <i class=\"a-icon a-icon-popover\"></i>\\n  </span>\\n  <span class=\"a-letter-space\"></span>\\n  <span class=\"a-size-small\">\\n    <a class=\"a-link-normal\" href=\"https://www.amazon.com/product-reviews/B0000532JH/ref=acr_dpproductdetail_text?ie=UTF8&amp;showViewpoints=1\">\\n      8 customer reviews\\n    </a>\\n  </span>\\n</span>\\n\\n\\n\\n\\n\\n\\n\\n\\n\\n\\n</li>\\n\\n\\n\\n\\n\\n\\n\\n\\n\\n\\n\\n\\n\\n\\n\\n\\n\\n\\n\\n\\n\\n\\n\\n\\n\\n\\n\\n\\n<li id=\"SalesRank\">\\n<b>Amazon Best Sellers Rank:</b> \\n\\n\\n\\n\\n\\n\\n\\n\\n\\n\\n\\n\\n\\n\\n\\n\\n\\n\\n\\n\\n\\n\\n#1,806,710 in Beauty &amp; Personal Care (<a href=\"https://www.amazon.com/gp/bestsellers/beauty/ref=pd_dp_ts_beauty_1\">See Top 100 in Beauty &amp; Personal Care</a>)\\n \\n\\n\\n\\n\\n\\n\\n\\n\\n\\n\\n\\n\\n\\n\\n\\n\\n\\n\\n\\n\\n\\n\\n\\n\\n\\n\\n\\n\\n\\n\\n\\n\\n<style type=\"text/css\">\\n.zg_hrsr { margin: 0; padding: 0; list-style-type: none; }\\n.zg_hrsr_item { margin: 0 0 0 10px; }\\n.zg_hrsr_rank { display: inline-block; width: 80px; text-align: right; }\\n</style>\\n\\n<ul class=\"zg_hrsr\">\\n    <li class=\"zg_hrsr_item\">\\n    <span class=\"zg_hrsr_rank\">#586</span>\\n    <span class=\"zg_hrsr_ladder\">in<a href=\"https://www.amazon.com/gp/bestsellers/beauty/ref=pd_zg_hrsr_beauty_1_1\">Beauty &amp; Personal Care</a> &gt; <a href=\"https://www.amazon.com/gp/bestsellers/beauty/11060451/ref=pd_zg_hrsr_beauty_1_2\">Skin Care</a> &gt; <a href=\"https://www.amazon.com/gp/bestsellers/beauty/11060521/ref=pd_zg_hrsr_beauty_1_3\">Body</a> &gt; <a href=\"https://www.amazon.com/gp/bestsellers/beauty/11056421/ref=pd_zg_hrsr_beauty_1_4\">Scrubs &amp; Body Treatments</a> &gt; <b><a href=\"https://www.amazon.com/gp/bestsellers/beauty/11056441/ref=pd_zg_hrsr_beauty_1_5_last\">Body Mud</a></b></span>\\n    </li>\\n</ul>\\n\\n</li>\\n\\n  \\n  \\n  \\n  \\n\\n\\n\\n\\n\\n\\n\\n<strong>Product Warranty:</strong> For warranty information about this product, please <a href=\"/gp/feature.html/ref=dp_warranty_request_3P?ie=UTF8&amp;docId=1002406021\" target=\"_blank\">click here</a>\\n\\n\\n\\n\\n\\n\\n\\n\\n\\n\\n\\n\\t\\t\\n\\t\\n\\t\\t\\n\\t\\n\\t\\t\\n\\t\\n\\t\\t\\t\\n\\t\\t\\t\\n\\t\\t\\t\\n     \\t    \\n            \\n            \\n            \\n            \\n            \\n            <p></p><div class=\"bucket\">    <script>\\n    P.now(\"A\",\"tellMeMoreLinkData\").execute(function(A,tellMeMoreLinkData){\\n        if(typeof tellMeMoreLinkData !== \\'undefined\\'){\\n            A.state(\\'lowerPricePopoverData\\',{\"trigger\":\"ns_PMXS5Q992SBZZWJ34YHD_20464_1_hmd_pricing_feedback_trigger_product-detail\",\"destination\":\"/gp/pdp/pf/pricingFeedbackForm.html/ref=_pfdpb?ie=UTF8&amp;%2AVersion%2A=1&amp;%2Aentries%2A=0&amp;ASIN=B0000532JH&amp;PREFIX=ns_PMXS5Q992SBZZWJ34YHD_20464_2_&amp;WDG=prestige_beauty_display_on_website&amp;dpRequestId=PMXS5Q992SBZZWJ34YHD&amp;from=product-detail&amp;storeID=luxury-beautyencodeURI(\\'&amp;originalURI=\\' + window.location.pathname)\",\"url\":\"/gp/pdp/pf/pricingFeedbackForm.html/ref=_pfdpb?ie=UTF8&amp;%2AVersion%2A=1&amp;%2Aentries%2A=0&amp;ASIN=B0000532JH&amp;PREFIX=ns_PMXS5Q992SBZZWJ34YHD_20464_2_&amp;WDG=prestige_beauty_display_on_website&amp;dpRequestId=PMXS5Q992SBZZWJ34YHD&amp;from=product-detail&amp;storeID=luxury-beauty\",\"nsPrefix\":\"ns_PMXS5Q992SBZZWJ34YHD_20464_2_\",\"path\":\"encodeURI(\\'&amp;originalURI=\\' + window.location.pathname)\",\"title\":\"Tell Us About a Lower Price\"});\\n            return {\\n                   key:\"pricing-fbW\",\\n                   method: function(){\\n                                     return {\"trigger\":\"ns_PMXS5Q992SBZZWJ34YHD_20464_1_hmd_pricing_feedback_trigger_product-detail\",\"destination\":\"/gp/pdp/pf/pricingFeedbackForm.html/ref=_pfdpb?ie=UTF8&amp;%2AVersion%2A=1&amp;%2Aentries%2A=0&amp;ASIN=B0000532JH&amp;PREFIX=ns_PMXS5Q992SBZZWJ34YHD_20464_2_&amp;WDG=prestige_beauty_display_on_website&amp;dpRequestId=PMXS5Q992SBZZWJ34YHD&amp;from=product-detail&amp;storeID=luxury-beautyencodeURI(\\'&amp;originalURI=\\' + window.location.pathname)\",\"url\":\"/gp/pdp/pf/pricingFeedbackForm.html/ref=_pfdpb?ie=UTF8&amp;%2AVersion%2A=1&amp;%2Aentries%2A=0&amp;ASIN=B0000532JH&amp;PREFIX=ns_PMXS5Q992SBZZWJ34YHD_20464_2_&amp;WDG=prestige_beauty_display_on_website&amp;dpRequestId=PMXS5Q992SBZZWJ34YHD&amp;from=product-detail&amp;storeID=luxury-beauty\",\"nsPrefix\":\"ns_PMXS5Q992SBZZWJ34YHD_20464_2_\",\"path\":\"encodeURI(\\'&amp;originalURI=\\' + window.location.pathname)\",\"title\":\"Tell Us About a Lower Price\"};\\n                                     }\\n                   }\\n        }\\n        else{\\n                P.when(\"A\").register(\"tellMeMoreLinkData\",function(A){\\n                    A.state(\\'lowerPricePopoverData\\',{\"trigger\":\"ns_PMXS5Q992SBZZWJ34YHD_20464_1_hmd_pricing_feedback_trigger_product-detail\",\"destination\":\"/gp/pdp/pf/pricingFeedbackForm.html/ref=_pfdpb?ie=UTF8&amp;%2AVersion%2A=1&amp;%2Aentries%2A=0&amp;ASIN=B0000532JH&amp;PREFIX=ns_PMXS5Q992SBZZWJ34YHD_20464_2_&amp;WDG=prestige_beauty_display_on_website&amp;dpRequestId=PMXS5Q992SBZZWJ34YHD&amp;from=product-detail&amp;storeID=luxury-beautyencodeURI(\\'&amp;originalURI=\\' + window.location.pathname)\",\"url\":\"/gp/pdp/pf/pricingFeedbackForm.html/ref=_pfdpb?ie=UTF8&amp;%2AVersion%2A=1&amp;%2Aentries%2A=0&amp;ASIN=B0000532JH&amp;PREFIX=ns_PMXS5Q992SBZZWJ34YHD_20464_2_&amp;WDG=prestige_beauty_display_on_website&amp;dpRequestId=PMXS5Q992SBZZWJ34YHD&amp;from=product-detail&amp;storeID=luxury-beauty\",\"nsPrefix\":\"ns_PMXS5Q992SBZZWJ34YHD_20464_2_\",\"path\":\"encodeURI(\\'&amp;originalURI=\\' + window.location.pathname)\",\"title\":\"Tell Us About a Lower Price\"});\\n                    return {\\n                           key:\"pricing-fbW\",\\n                           method: function(){\\n                                             return {\"trigger\":\"ns_PMXS5Q992SBZZWJ34YHD_20464_1_hmd_pricing_feedback_trigger_product-detail\",\"destination\":\"/gp/pdp/pf/pricingFeedbackForm.html/ref=_pfdpb?ie=UTF8&amp;%2AVersion%2A=1&amp;%2Aentries%2A=0&amp;ASIN=B0000532JH&amp;PREFIX=ns_PMXS5Q992SBZZWJ34YHD_20464_2_&amp;WDG=prestige_beauty_display_on_website&amp;dpRequestId=PMXS5Q992SBZZWJ34YHD&amp;from=product-detail&amp;storeID=luxury-beautyencodeURI(\\'&amp;originalURI=\\' + window.location.pathname)\",\"url\":\"/gp/pdp/pf/pricingFeedbackForm.html/ref=_pfdpb?ie=UTF8&amp;%2AVersion%2A=1&amp;%2Aentries%2A=0&amp;ASIN=B0000532JH&amp;PREFIX=ns_PMXS5Q992SBZZWJ34YHD_20464_2_&amp;WDG=prestige_beauty_display_on_website&amp;dpRequestId=PMXS5Q992SBZZWJ34YHD&amp;from=product-detail&amp;storeID=luxury-beauty\",\"nsPrefix\":\"ns_PMXS5Q992SBZZWJ34YHD_20464_2_\",\"path\":\"encodeURI(\\'&amp;originalURI=\\' + window.location.pathname)\",\"title\":\"Tell Us About a Lower Price\"};\\n                                             }\\n                           }\\n\\t\\t\\t    });\\n            }\\n    });\\n    </script>\\nWould you like to <b><a href=\"#\" id=\"ns_PMXS5Q992SBZZWJ34YHD_20464_1_hmd_pricing_feedback_trigger_product-detail\" class=\"a-declarative\">tell us about a lower price</a></b>?</div><p></p>\\n\\n\\n\\n\\n\\n\\n\\n\\n\\n\\n</ul>\\n\\n<span class=\"tiny\">\\n<ul class=\"noteBullets\">\\n\\n\\n\\n\\n\\n\\n\\n\\n\\n</ul>\\n</span>\\n\\n  </div>\\n    ',\n",
       "  'main_cat': 'Luxury Beauty',\n",
       "  'asin': 'B0000532JH'}]"
      ]
     },
     "execution_count": 7,
     "metadata": {},
     "output_type": "execute_result"
    }
   ],
   "source": [
    "list(db.product_metadata.find().limit(1))"
   ]
  },
  {
   "cell_type": "code",
   "execution_count": 8,
   "metadata": {},
   "outputs": [
    {
     "data": {
      "text/plain": [
       "[{'_id': ObjectId('5dc881afaf3db5220c957b7f'),\n",
       "  'overall': 5.0,\n",
       "  'verified': True,\n",
       "  'reviewTime': '04 18, 2018',\n",
       "  'reviewerID': 'A2EM03F99X3RJZ',\n",
       "  'asin': 'B00004U9V2',\n",
       "  'style': {'Size:': ' 3.5 oz.'},\n",
       "  'reviewerName': 'Maureen G',\n",
       "  'reviewText': 'Great hand lotion',\n",
       "  'summary': 'Five Stars',\n",
       "  'unixReviewTime': 1524009600}]"
      ]
     },
     "execution_count": 8,
     "metadata": {},
     "output_type": "execute_result"
    }
   ],
   "source": [
    "list(db.product_reviews.find().limit(1))"
   ]
  },
  {
   "cell_type": "markdown",
   "metadata": {},
   "source": [
    "### restrict to facial skincare"
   ]
  },
  {
   "cell_type": "code",
   "execution_count": 10,
   "metadata": {},
   "outputs": [],
   "source": [
    "# checked categories in second notebook - consolidate cat3\n",
    "#Cat 2\n",
    "# Counter({'Treatments & Masks': 717,\n",
    "#          'Exfoliators, Polishes & Scrubs': 91,\n",
    "#          'Creams & Moisturizers': 785,\n",
    "#          'Toners & Astringents': 132,\n",
    "#          'Cleansers': 461,\n",
    "#          'Sets & Kits': 89,\n",
    "#          'Other': 41})\n",
    "# Cat 3\n",
    "# ['Other': 1088,\n",
    "#          'Exfoliators': 29,\n",
    "#          'Masks': 238,\n",
    "#          'Serums': 257,\n",
    "#          'Face Moisturizers': 223,\n",
    "#          'Scrubs': 60,\n",
    "#          'Gels': 90,\n",
    "#          'Night Creams': 78,\n",
    "#          'Acids & Peels': 49,\n",
    "#          'Washes': 114,\n",
    "#          'Face Oil': 29,\n",
    "#          'Bars': 4,\n",
    "#          'Microdermabrasion': 11,\n",
    "#          'Tinted Moisturizers': 13,\n",
    "#          'Face Mists': 3,\n",
    "#          'Cloths & Towelettes': 13,\n",
    "#          'Neck & Dcollet': 14,\n",
    "#          'Pore Cleansing Strips': 2,\n",
    "#          'Polishes': 1})]\n",
    "\n",
    "cat3_list = ['Bars','Microdermabrasion','Face Mists','Cloths & Towelettes','Neck & Dcollet',\n",
    "             'Pore Cleansing Strips','Polishes']"
   ]
  },
  {
   "cell_type": "code",
   "execution_count": 43,
   "metadata": {},
   "outputs": [],
   "source": [
    "cursor = list(db.product_metadata.find())"
   ]
  },
  {
   "cell_type": "code",
   "execution_count": 44,
   "metadata": {},
   "outputs": [
    {
     "name": "stdout",
     "output_type": "stream",
     "text": [
      "missed 3\n",
      "asin_list length 2241\n",
      "title_list length 2241\n"
     ]
    }
   ],
   "source": [
    "try:\n",
    "    db.drop_collection('skin_care_face_products')\n",
    "except:\n",
    "    pass\n",
    "\n",
    "asin_list = []\n",
    "title_list = []\n",
    "missed_counter = 0\n",
    "\n",
    "for i in cursor:\n",
    "    try:\n",
    "        a = i['details']\n",
    "        a1 = a[a.find('<span class=\"zg_hrsr_ladder\">'):]\n",
    "        a2 = a1[:a1.find('</span>\\n')]\n",
    "        a3 = [a.strip() for a in re.sub('<[^<]+?>','',a2).split('&gt;')]\n",
    "\n",
    "        if 'Skin Care' in a3:\n",
    "            if 'Face' in a3: #keep only skin care face products\n",
    "                if len(i['title']) > 400: #clean up messy titles\n",
    "                    x = i['title']\n",
    "                    i['title'] = re.sub('\\n|/|Amazon.com:|: Luxury Beauty','',x[:x.find(\"=====\")][x[:x.find(\"=====\")].find('-->')+3:]).strip()\n",
    "                i['categories'] = a3\n",
    "                i['rating'] = a[a.find('out of 5 stars')-4:a.find('out of 5 stars')-1]\n",
    "                i['details'] = re.sub('{[^{]+?}|<[^<]+?>|\\n|\\t','',i['details'])\n",
    "                i['category1']= 'Face'\n",
    "                try:\n",
    "                    i['category2']=i['categories'][3].replace(\"&amp;\",\"&\")\n",
    "                except:\n",
    "                    i['category2']='Not listed'\n",
    "                try:\n",
    "                    i['category3']=i['categories'][4].replace(\"&amp;\",\"&\")\n",
    "                    if i['category3'] in cat3_list:\n",
    "                        i['category3'] = 'Other'\n",
    "                    elif i['category3'] == 'Tinted Moisturizers':\n",
    "                        i['category3'] = 'Face Moisturizers'\n",
    "                except:\n",
    "                    i['category3']='Not listed'\n",
    "                try:\n",
    "                    i['description'] = ' '.join(i['description'])\n",
    "                except:\n",
    "                    i['description'] = ''\n",
    "                # keep running asin list and don't insert if it's already been added; same for title dups\n",
    "                if (i['asin'] not in asin_list) and (i['title'] not in title_list):\n",
    "                    if len(i['title']) < 1000:\n",
    "                        db.skin_care_face_products.insert_one(i)\n",
    "                        asin_list.append(i['asin'])\n",
    "                        title_list.append(i['title'])\n",
    "#                 db.skin_care_face_products.update_one({'_id':ObjectId(i['_id'])},{'$set':{'categories':a3}})\n",
    "    #         else:\n",
    "    #             print('not facial')\n",
    "    #     else:\n",
    "    #         print('not skin care')\n",
    "    except:\n",
    "#         raise\n",
    "        missed_counter+=1\n",
    "print('missed',missed_counter)\n",
    "print('asin_list length',len(asin_list))\n",
    "print('title_list length',len(title_list))"
   ]
  },
  {
   "cell_type": "code",
   "execution_count": 45,
   "metadata": {
    "scrolled": true
   },
   "outputs": [
    {
     "data": {
      "text/plain": [
       "2241"
      ]
     },
     "execution_count": 45,
     "metadata": {},
     "output_type": "execute_result"
    }
   ],
   "source": [
    "products_face = list(db.skin_care_face_products.find())\n",
    "len(products_face)"
   ]
  },
  {
   "cell_type": "code",
   "execution_count": 46,
   "metadata": {},
   "outputs": [
    {
     "data": {
      "text/plain": [
       "'DERMAdoctor Calm, Cool & Corrected anti-redness tranquility cream - 1.7 Oz'"
      ]
     },
     "execution_count": 46,
     "metadata": {},
     "output_type": "execute_result"
    }
   ],
   "source": [
    "products_face[0]['title']"
   ]
  },
  {
   "cell_type": "code",
   "execution_count": 47,
   "metadata": {},
   "outputs": [
    {
     "data": {
      "text/plain": [
       "'Face Moisturizers'"
      ]
     },
     "execution_count": 47,
     "metadata": {},
     "output_type": "execute_result"
    }
   ],
   "source": [
    "products_face[142]['category3']"
   ]
  },
  {
   "cell_type": "code",
   "execution_count": 48,
   "metadata": {},
   "outputs": [],
   "source": [
    "product_id_list = []\n",
    "for i in products_face:\n",
    "    product_id_list.append(i['asin'])"
   ]
  },
  {
   "cell_type": "code",
   "execution_count": 49,
   "metadata": {},
   "outputs": [
    {
     "data": {
      "text/plain": [
       "['B0000Y3NO6', 'B00012C5RS', 'B0001EKTTC', 'B0001EL5Q8', 'B0001EL5JA']"
      ]
     },
     "execution_count": 49,
     "metadata": {},
     "output_type": "execute_result"
    }
   ],
   "source": [
    "len(product_id_list)\n",
    "product_id_list[0:5]"
   ]
  },
  {
   "cell_type": "markdown",
   "metadata": {},
   "source": [
    "### grab reviews for these products"
   ]
  },
  {
   "cell_type": "code",
   "execution_count": 50,
   "metadata": {},
   "outputs": [],
   "source": [
    "rev_cursor = list(db.product_reviews.find())\n",
    "\n",
    "try:\n",
    "    db.drop_collection('skin_care_face_reviews')\n",
    "except:\n",
    "    pass\n",
    "\n",
    "for i in rev_cursor:\n",
    "    if i['asin'] in product_id_list:\n",
    "        try:\n",
    "            len(i['reviewText'])\n",
    "        except:\n",
    "            i['reviewText']='N/A'\n",
    "        db.skin_care_face_reviews.insert_one(i)"
   ]
  },
  {
   "cell_type": "code",
   "execution_count": 51,
   "metadata": {},
   "outputs": [
    {
     "data": {
      "text/plain": [
       "81038"
      ]
     },
     "execution_count": 51,
     "metadata": {},
     "output_type": "execute_result"
    }
   ],
   "source": [
    "reviews_face = list(db.skin_care_face_reviews.find())\n",
    "len(reviews_face)"
   ]
  },
  {
   "cell_type": "code",
   "execution_count": 52,
   "metadata": {},
   "outputs": [
    {
     "data": {
      "text/plain": [
       "{'_id': ObjectId('5dc881afaf3db5220c9582ef'),\n",
       " 'overall': 5.0,\n",
       " 'vote': '18',\n",
       " 'verified': True,\n",
       " 'reviewTime': '03 1, 2007',\n",
       " 'reviewerID': 'A2DKQ5CLJ2KWM3',\n",
       " 'asin': 'B0000Y3NO6',\n",
       " 'reviewerName': 'Jessi Hope',\n",
       " 'reviewText': \"After trying all the drugstore rosacea products to moisturize my skin and calm the redness and itching down, I gave up hope that anything would work. I have moderate rosacea that sometimes becomes severely inflamed across my cheeks, nose, and above my nose. Some products would give me relief from symptoms for a week or so, and then stop working. I tried creams, natural and vitamin supplements, mineral creams, yoga, everything I remotely thought might help. This product is the only thing that has EVER worked, and it works quickly (drastically reduces redness within an hour usually- two hours at my worst inflammation), leaves no greasiness, and doesn't mess with my allergies. It is the most expensive beauty product I've ever bought, so it was risky, but I was desperate. I applied sparingly, maybe two or three times a week only to my cheeks, entire nose, and small area on forehead, and the jar lasted me one year exactly. I use fragrance/dye free generic moisturizer for my daily regimen, but this product is so effective I never needed to use it daily. If I could afford it, I would use it twice a day as my regular moisturizer. It leaves my skin smooth, velvety (instead of oily or dry) and free of the redness and bumps. It also dimished my acne outbreaks, which I think were associated with the rosacea, and the fine lines I was beginning to get due to the constant dryness. I love it so much that I told my dermatologist about it so that he could recommend it. Now I'm looking for a DERMAdoctor product for the severe eczema I have on the rest on my body.\",\n",
       " 'summary': 'Thank You DERMAdoctor! Changed my life.',\n",
       " 'unixReviewTime': 1172707200}"
      ]
     },
     "execution_count": 52,
     "metadata": {},
     "output_type": "execute_result"
    }
   ],
   "source": [
    "reviews_face[1]"
   ]
  },
  {
   "cell_type": "markdown",
   "metadata": {},
   "source": [
    "### create aggregated review collection"
   ]
  },
  {
   "cell_type": "code",
   "execution_count": 53,
   "metadata": {},
   "outputs": [],
   "source": [
    "sc_revs = db.skin_care_face_reviews.aggregate([{'$group': {'_id': \"$asin\", \n",
    "                                                        \"reviews\": {'$push': \"$$ROOT\"},\n",
    "                                                        \"count\": {'$sum': 1}}\n",
    "                               }])"
   ]
  },
  {
   "cell_type": "code",
   "execution_count": 54,
   "metadata": {},
   "outputs": [],
   "source": [
    "rev_groups = list(sc_revs)"
   ]
  },
  {
   "cell_type": "code",
   "execution_count": 55,
   "metadata": {},
   "outputs": [
    {
     "data": {
      "text/plain": [
       "{'_id': 'B000YTA4RG',\n",
       " 'reviews': [{'_id': ObjectId('5dc881b3af3db5220c975db1'),\n",
       "   'overall': 5.0,\n",
       "   'vote': '5',\n",
       "   'verified': False,\n",
       "   'reviewTime': '05 15, 2011',\n",
       "   'reviewerID': 'A1ST5O7M8PFNOC',\n",
       "   'asin': 'B000YTA4RG',\n",
       "   'reviewerName': 'A. Resch',\n",
       "   'reviewText': \"I love this stuff!!  I noticed a difference in my skin right away.  It does sting a bit when applied but then again beauty can be painful...still the benefits are worth it.  This is my second purchase and will continue to purchase it as long as it's available.  I only wish it wasn't so expensive.  I'm military and have a limited budget.\",\n",
       "   'summary': 'AimHighFlyGirl',\n",
       "   'unixReviewTime': 1305417600},\n",
       "  {'_id': ObjectId('5dc881b3af3db5220c975db3'),\n",
       "   'overall': 5.0,\n",
       "   'verified': False,\n",
       "   'reviewTime': '12 15, 2013',\n",
       "   'reviewerID': 'A2PRIDNZVTY6K3',\n",
       "   'asin': 'B000YTA4RG',\n",
       "   'reviewerName': 'S. Pawson',\n",
       "   'reviewText': \"Amazing results.  This product may be a bit expensive, but it's worth every penny.  It makes my skin look younger, clearer, and smoother.  Love it!!\",\n",
       "   'summary': 'Worth every penny!',\n",
       "   'unixReviewTime': 1387065600},\n",
       "  {'_id': ObjectId('5dc881b3af3db5220c975db4'),\n",
       "   'overall': 4.0,\n",
       "   'vote': '4',\n",
       "   'verified': True,\n",
       "   'reviewTime': '08 2, 2013',\n",
       "   'reviewerID': 'A2SH7OWE8QJYNC',\n",
       "   'asin': 'B000YTA4RG',\n",
       "   'reviewerName': 'Delamaine',\n",
       "   'reviewText': \"Sometimes when I run out of this I go back to my former default, the Dr Dennis Gross alpha beta peels in packets, because these are very fiddly to get out of the jar.  They're thin, and wet, and they stick together, and without my glasses I find it hard to tell whether I've got one, two, or three stuck together!  Single-use packets would be awesome (but obviously generate more trash).\",\n",
       "   'summary': 'Wish it came in packets',\n",
       "   'unixReviewTime': 1375401600},\n",
       "  {'_id': ObjectId('5dc881b3af3db5220c975db5'),\n",
       "   'overall': 5.0,\n",
       "   'vote': '4',\n",
       "   'verified': True,\n",
       "   'reviewTime': '04 9, 2013',\n",
       "   'reviewerID': 'A2ZRASKEJUG4JI',\n",
       "   'asin': 'B000YTA4RG',\n",
       "   'reviewerName': 'Lynn S',\n",
       "   'reviewText': 'No matter what products I use, these pads seem to stimulate my skin each day.  I highly recommend using them, and cutting them in half, so one only needs one per day (a half in a.m. and a half in p.m.).',\n",
       "   'summary': 'Excellent skin astringent',\n",
       "   'unixReviewTime': 1365465600},\n",
       "  {'_id': ObjectId('5dc881b3af3db5220c975db6'),\n",
       "   'overall': 5.0,\n",
       "   'verified': False,\n",
       "   'reviewTime': '01 16, 2013',\n",
       "   'reviewerID': 'A1PGJ31SOW8HUZ',\n",
       "   'asin': 'B000YTA4RG',\n",
       "   'reviewerName': 'Rabbi Samuel M. Stahl',\n",
       "   'reviewText': 'I have used these pads for several years and find that the astringent quality is excellent for my face, no matter what other products I use following this procedure!',\n",
       "   'summary': 'Love this product',\n",
       "   'unixReviewTime': 1358294400},\n",
       "  {'_id': ObjectId('5dc881b3af3db5220c975db7'),\n",
       "   'overall': 5.0,\n",
       "   'vote': '13',\n",
       "   'verified': True,\n",
       "   'reviewTime': '03 3, 2013',\n",
       "   'reviewerID': 'A2RGVBSDOE6RLP',\n",
       "   'asin': 'B000YTA4RG',\n",
       "   'reviewerName': 'zabusa',\n",
       "   'reviewText': 'Expensive yes. But definitely worth your money. My face gets very dry over the winter and very oily over the summer. this product helps regulates the pimples. Tips: I do cut the pads in half, coz my face is sensitive. So now i have 100 pads :)',\n",
       "   'summary': 'Expensive but worth it....',\n",
       "   'unixReviewTime': 1362268800},\n",
       "  {'_id': ObjectId('5dc881b3af3db5220c975db8'),\n",
       "   'overall': 3.0,\n",
       "   'vote': '3',\n",
       "   'verified': True,\n",
       "   'reviewTime': '08 18, 2013',\n",
       "   'reviewerID': 'A1JOSG34UV7LK7',\n",
       "   'asin': 'B000YTA4RG',\n",
       "   'reviewerName': 'Amazon Customer',\n",
       "   'reviewText': \"For the price I thought it worked ok. If it were 20 bucks or so, I'd say awesome...but overall...I would have expected more from this product because of it's price. BUT it's not a bad product.\",\n",
       "   'summary': 'OK',\n",
       "   'unixReviewTime': 1376784000},\n",
       "  {'_id': ObjectId('5dc881b3af3db5220c975db9'),\n",
       "   'overall': 4.0,\n",
       "   'vote': '3',\n",
       "   'verified': True,\n",
       "   'reviewTime': '12 27, 2012',\n",
       "   'reviewerID': 'ASSG4O8SXUP2C',\n",
       "   'asin': 'B000YTA4RG',\n",
       "   'reviewerName': 'hollywood123',\n",
       "   'reviewText': 'These pads are great and help you clean your face completely and scrub a few rough spots...but cost too much.',\n",
       "   'summary': 'Great product to remove a little more',\n",
       "   'unixReviewTime': 1356566400},\n",
       "  {'_id': ObjectId('5dc881b3af3db5220c975dba'),\n",
       "   'overall': 5.0,\n",
       "   'vote': '3',\n",
       "   'verified': True,\n",
       "   'reviewTime': '09 20, 2012',\n",
       "   'reviewerID': 'A3H1JX52OBB3U9',\n",
       "   'asin': 'B000YTA4RG',\n",
       "   'reviewerName': 'LLJ',\n",
       "   'reviewText': 'I have tried all kinds of different face pads and I keep coming back to the Somme Institute ones.  They are the best!  I have been using them for about 6 years and they still produce amazing results.  I have combination skin with hormonal acne.  They tone my skin, making it feel refreshed.  I used only one a day because they are so expensive.',\n",
       "   'summary': 'Best Pads in the market',\n",
       "   'unixReviewTime': 1348099200},\n",
       "  {'_id': ObjectId('5dc881b3af3db5220c975dbb'),\n",
       "   'overall': 5.0,\n",
       "   'vote': '2',\n",
       "   'verified': False,\n",
       "   'reviewTime': '08 17, 2011',\n",
       "   'reviewerID': 'A1ZS6DIDJT2D7D',\n",
       "   'asin': 'B000YTA4RG',\n",
       "   'reviewerName': 'Letico Winato',\n",
       "   'reviewText': \"Your skin will be smooth and glowing after just a few days of using this!  I have used a MILLION skincare products and I am completely impressed with this line (that I stumbled upon by accident when receiving a sample at a spa).  I'm hooked!\",\n",
       "   'summary': 'This stuff is amazing!',\n",
       "   'unixReviewTime': 1313539200},\n",
       "  {'_id': ObjectId('5dc881b3af3db5220c975dbd'),\n",
       "   'overall': 5.0,\n",
       "   'vote': '13',\n",
       "   'verified': True,\n",
       "   'reviewTime': '08 22, 2013',\n",
       "   'reviewerID': 'A3232H7J6URX9D',\n",
       "   'asin': 'B000YTA4RG',\n",
       "   'reviewerName': 'JenM',\n",
       "   'reviewText': \"About me... Late 20's, fair to medium complexion, acne prone, sun damage\\n\\nFor starters, definitely take the advice of cutting the pads in half... half a pad is plenty for face, neck and even chest.  I've been using this along with the serum and after 2 months have noticed significant improvement in the appearance of sun spots and the ability of my skin to resist irritation.  I've also noticed an unexpected reduction in blackheads, maybe due to this exfoliating my skin?  I also only use this product a night and that seems to be plenty.\",\n",
       "   'summary': 'Love it, but cut in half',\n",
       "   'unixReviewTime': 1377129600},\n",
       "  {'_id': ObjectId('5dc881b4af3db5220c97df25'),\n",
       "   'overall': 5.0,\n",
       "   'vote': '5',\n",
       "   'verified': False,\n",
       "   'reviewTime': '05 15, 2011',\n",
       "   'reviewerID': 'A1ST5O7M8PFNOC',\n",
       "   'asin': 'B000YTA4RG',\n",
       "   'reviewerName': 'A. Resch',\n",
       "   'reviewText': \"I love this stuff!!  I noticed a difference in my skin right away.  It does sting a bit when applied but then again beauty can be painful...still the benefits are worth it.  This is my second purchase and will continue to purchase it as long as it's available.  I only wish it wasn't so expensive.  I'm military and have a limited budget.\",\n",
       "   'summary': 'AimHighFlyGirl',\n",
       "   'unixReviewTime': 1305417600},\n",
       "  {'_id': ObjectId('5dc881b4af3db5220c97df26'),\n",
       "   'overall': 5.0,\n",
       "   'verified': False,\n",
       "   'reviewTime': '12 15, 2013',\n",
       "   'reviewerID': 'A2PRIDNZVTY6K3',\n",
       "   'asin': 'B000YTA4RG',\n",
       "   'reviewerName': 'S. Pawson',\n",
       "   'reviewText': \"Amazing results.  This product may be a bit expensive, but it's worth every penny.  It makes my skin look younger, clearer, and smoother.  Love it!!\",\n",
       "   'summary': 'Worth every penny!',\n",
       "   'unixReviewTime': 1387065600},\n",
       "  {'_id': ObjectId('5dc881b4af3db5220c97df27'),\n",
       "   'overall': 5.0,\n",
       "   'vote': '13',\n",
       "   'verified': True,\n",
       "   'reviewTime': '08 22, 2013',\n",
       "   'reviewerID': 'A3232H7J6URX9D',\n",
       "   'asin': 'B000YTA4RG',\n",
       "   'reviewerName': 'JenM',\n",
       "   'reviewText': \"About me... Late 20's, fair to medium complexion, acne prone, sun damage\\n\\nFor starters, definitely take the advice of cutting the pads in half... half a pad is plenty for face, neck and even chest.  I've been using this along with the serum and after 2 months have noticed significant improvement in the appearance of sun spots and the ability of my skin to resist irritation.  I've also noticed an unexpected reduction in blackheads, maybe due to this exfoliating my skin?  I also only use this product a night and that seems to be plenty.\",\n",
       "   'summary': 'Love it, but cut in half',\n",
       "   'unixReviewTime': 1377129600},\n",
       "  {'_id': ObjectId('5dc881b4af3db5220c97df28'),\n",
       "   'overall': 3.0,\n",
       "   'vote': '3',\n",
       "   'verified': True,\n",
       "   'reviewTime': '08 18, 2013',\n",
       "   'reviewerID': 'A1JOSG34UV7LK7',\n",
       "   'asin': 'B000YTA4RG',\n",
       "   'reviewerName': 'Amazon Customer',\n",
       "   'reviewText': \"For the price I thought it worked ok. If it were 20 bucks or so, I'd say awesome...but overall...I would have expected more from this product because of it's price. BUT it's not a bad product.\",\n",
       "   'summary': 'OK',\n",
       "   'unixReviewTime': 1376784000},\n",
       "  {'_id': ObjectId('5dc881b4af3db5220c97df29'),\n",
       "   'overall': 4.0,\n",
       "   'vote': '4',\n",
       "   'verified': True,\n",
       "   'reviewTime': '08 2, 2013',\n",
       "   'reviewerID': 'A2SH7OWE8QJYNC',\n",
       "   'asin': 'B000YTA4RG',\n",
       "   'reviewerName': 'Delamaine',\n",
       "   'reviewText': \"Sometimes when I run out of this I go back to my former default, the Dr Dennis Gross alpha beta peels in packets, because these are very fiddly to get out of the jar.  They're thin, and wet, and they stick together, and without my glasses I find it hard to tell whether I've got one, two, or three stuck together!  Single-use packets would be awesome (but obviously generate more trash).\",\n",
       "   'summary': 'Wish it came in packets',\n",
       "   'unixReviewTime': 1375401600},\n",
       "  {'_id': ObjectId('5dc881b4af3db5220c97df2a'),\n",
       "   'overall': 5.0,\n",
       "   'vote': '4',\n",
       "   'verified': True,\n",
       "   'reviewTime': '04 9, 2013',\n",
       "   'reviewerID': 'A2ZRASKEJUG4JI',\n",
       "   'asin': 'B000YTA4RG',\n",
       "   'reviewerName': 'Lynn S',\n",
       "   'reviewText': 'No matter what products I use, these pads seem to stimulate my skin each day.  I highly recommend using them, and cutting them in half, so one only needs one per day (a half in a.m. and a half in p.m.).',\n",
       "   'summary': 'Excellent skin astringent',\n",
       "   'unixReviewTime': 1365465600},\n",
       "  {'_id': ObjectId('5dc881b4af3db5220c97df2b'),\n",
       "   'overall': 5.0,\n",
       "   'vote': '13',\n",
       "   'verified': True,\n",
       "   'reviewTime': '03 3, 2013',\n",
       "   'reviewerID': 'A2RGVBSDOE6RLP',\n",
       "   'asin': 'B000YTA4RG',\n",
       "   'reviewerName': 'zabusa',\n",
       "   'reviewText': 'Expensive yes. But definitely worth your money. My face gets very dry over the winter and very oily over the summer. this product helps regulates the pimples. Tips: I do cut the pads in half, coz my face is sensitive. So now i have 100 pads :)',\n",
       "   'summary': 'Expensive but worth it....',\n",
       "   'unixReviewTime': 1362268800},\n",
       "  {'_id': ObjectId('5dc881b4af3db5220c97df2c'),\n",
       "   'overall': 5.0,\n",
       "   'verified': False,\n",
       "   'reviewTime': '01 16, 2013',\n",
       "   'reviewerID': 'A1PGJ31SOW8HUZ',\n",
       "   'asin': 'B000YTA4RG',\n",
       "   'reviewerName': 'Rabbi Samuel M. Stahl',\n",
       "   'reviewText': 'I have used these pads for several years and find that the astringent quality is excellent for my face, no matter what other products I use following this procedure!',\n",
       "   'summary': 'Love this product',\n",
       "   'unixReviewTime': 1358294400},\n",
       "  {'_id': ObjectId('5dc881b4af3db5220c97df2d'),\n",
       "   'overall': 4.0,\n",
       "   'vote': '3',\n",
       "   'verified': True,\n",
       "   'reviewTime': '12 27, 2012',\n",
       "   'reviewerID': 'ASSG4O8SXUP2C',\n",
       "   'asin': 'B000YTA4RG',\n",
       "   'reviewerName': 'hollywood123',\n",
       "   'reviewText': 'These pads are great and help you clean your face completely and scrub a few rough spots...but cost too much.',\n",
       "   'summary': 'Great product to remove a little more',\n",
       "   'unixReviewTime': 1356566400},\n",
       "  {'_id': ObjectId('5dc881b4af3db5220c97df2e'),\n",
       "   'overall': 5.0,\n",
       "   'vote': '3',\n",
       "   'verified': True,\n",
       "   'reviewTime': '09 20, 2012',\n",
       "   'reviewerID': 'A3H1JX52OBB3U9',\n",
       "   'asin': 'B000YTA4RG',\n",
       "   'reviewerName': 'LLJ',\n",
       "   'reviewText': 'I have tried all kinds of different face pads and I keep coming back to the Somme Institute ones.  They are the best!  I have been using them for about 6 years and they still produce amazing results.  I have combination skin with hormonal acne.  They tone my skin, making it feel refreshed.  I used only one a day because they are so expensive.',\n",
       "   'summary': 'Best Pads in the market',\n",
       "   'unixReviewTime': 1348099200},\n",
       "  {'_id': ObjectId('5dc881b4af3db5220c97df31'),\n",
       "   'overall': 5.0,\n",
       "   'vote': '2',\n",
       "   'verified': False,\n",
       "   'reviewTime': '08 17, 2011',\n",
       "   'reviewerID': 'A1ZS6DIDJT2D7D',\n",
       "   'asin': 'B000YTA4RG',\n",
       "   'reviewerName': 'Letico Winato',\n",
       "   'reviewText': \"Your skin will be smooth and glowing after just a few days of using this!  I have used a MILLION skincare products and I am completely impressed with this line (that I stumbled upon by accident when receiving a sample at a spa).  I'm hooked!\",\n",
       "   'summary': 'This stuff is amazing!',\n",
       "   'unixReviewTime': 1313539200},\n",
       "  {'_id': ObjectId('5dc881bfaf3db5220c9d27fd'),\n",
       "   'overall': 5.0,\n",
       "   'verified': True,\n",
       "   'reviewTime': '10 13, 2017',\n",
       "   'reviewerID': 'A3SVA6WYEBHASJ',\n",
       "   'asin': 'B000YTA4RG',\n",
       "   'reviewerName': 'Donna',\n",
       "   'reviewText': \"I love these pads. Cut them in half for double quantity. I swear if I miss using these I have a breakout - have heard others say the same. I use after my nightly face wash. I don't use the whole Somme line - used to but hung on to this in my routine.\",\n",
       "   'summary': 'Great!! Acne prevention',\n",
       "   'unixReviewTime': 1507852800},\n",
       "  {'_id': ObjectId('5dc881bfaf3db5220c9d27fe'),\n",
       "   'overall': 3.0,\n",
       "   'verified': True,\n",
       "   'reviewTime': '10 19, 2016',\n",
       "   'reviewerID': 'A2E74M5B2S2GLN',\n",
       "   'asin': 'B000YTA4RG',\n",
       "   'reviewerName': 'Nicky',\n",
       "   'reviewText': \"Not much of a change as of yet! I'll keep my fingers crossed!\",\n",
       "   'summary': 'Three Stars',\n",
       "   'unixReviewTime': 1476835200},\n",
       "  {'_id': ObjectId('5dc881bfaf3db5220c9d27ff'),\n",
       "   'overall': 4.0,\n",
       "   'verified': True,\n",
       "   'reviewTime': '12 13, 2016',\n",
       "   'reviewerID': 'A2ST2HH9LQRCY6',\n",
       "   'asin': 'B000YTA4RG',\n",
       "   'reviewerName': 'margarita smirnov',\n",
       "   'reviewText': 'I like it very much',\n",
       "   'summary': 'Four Stars',\n",
       "   'unixReviewTime': 1481587200},\n",
       "  {'_id': ObjectId('5dc881bfaf3db5220c9d2800'),\n",
       "   'overall': 5.0,\n",
       "   'verified': True,\n",
       "   'reviewTime': '07 22, 2016',\n",
       "   'reviewerID': 'A16GE6D3WV2CDY',\n",
       "   'asin': 'B000YTA4RG',\n",
       "   'reviewerName': 'Fiveorange',\n",
       "   'reviewText': \"I was lucky to get a sample of these pads a few years ago and their exfoliating power was amazing combined with a couple of the other products. I use these daily after using a Benzoyl Peroxide face wash. I am a middle-aged woman who still has acne. These pads were $60 a few years ago and that just was not going to happen. But they are much cheaper and definitely worth the price. And yes I cut them in half to make them last longer and there is no problem wiping my whole face. This is not a regular drugstore pad but a much better exfoliator like the pads you would buy from the Dermatologist's office.\",\n",
       "   'summary': 'Very good exfoliator.',\n",
       "   'unixReviewTime': 1469145600},\n",
       "  {'_id': ObjectId('5dc881bfaf3db5220c9d2802'),\n",
       "   'overall': 4.0,\n",
       "   'verified': True,\n",
       "   'reviewTime': '06 21, 2016',\n",
       "   'reviewerID': 'A3DXK1OHNAH33E',\n",
       "   'asin': 'B000YTA4RG',\n",
       "   'reviewerName': 'Amazon Customer',\n",
       "   'reviewText': 'It met my expetations!',\n",
       "   'summary': 'I love the scent of pleasures bloom its great',\n",
       "   'unixReviewTime': 1466467200},\n",
       "  {'_id': ObjectId('5dc881bfaf3db5220c9d2803'),\n",
       "   'overall': 5.0,\n",
       "   'verified': True,\n",
       "   'reviewTime': '03 11, 2016',\n",
       "   'reviewerID': 'A1BRVUFNQA0ZH5',\n",
       "   'asin': 'B000YTA4RG',\n",
       "   'reviewerName': 'Amazon Customer',\n",
       "   'reviewText': 'Love this product!!!',\n",
       "   'summary': 'Five Stars',\n",
       "   'unixReviewTime': 1457654400},\n",
       "  {'_id': ObjectId('5dc881bfaf3db5220c9d2805'),\n",
       "   'overall': 5.0,\n",
       "   'verified': False,\n",
       "   'reviewTime': '12 3, 2014',\n",
       "   'reviewerID': 'A2XOOVCVGRGMXL',\n",
       "   'asin': 'B000YTA4RG',\n",
       "   'reviewerName': 'Laurie Goldman',\n",
       "   'reviewText': 'Use these!',\n",
       "   'summary': 'Five Stars',\n",
       "   'unixReviewTime': 1417564800},\n",
       "  {'_id': ObjectId('5dc881bfaf3db5220c9d2807'),\n",
       "   'overall': 5.0,\n",
       "   'vote': '3',\n",
       "   'verified': True,\n",
       "   'reviewTime': '02 12, 2016',\n",
       "   'reviewerID': 'A32ZVZL6PJFFDM',\n",
       "   'asin': 'B000YTA4RG',\n",
       "   'reviewerName': 'BB',\n",
       "   'reviewText': 'Not sure that these pads are the real thing. They are slightly more abrasive and burn my skin more so than the ones I previously bought from Nordstorm.  I use the entire line (cleanser, transport, serum, and a-bomb) and it has done wonders for my skin.  Can not speak highly enough as it has ridden me of a difficult hormonal acne problem.',\n",
       "   'summary': 'Not sure that these pads are the real thing. ...',\n",
       "   'unixReviewTime': 1455235200},\n",
       "  {'_id': ObjectId('5dc881bfaf3db5220c9d280f'),\n",
       "   'overall': 5.0,\n",
       "   'verified': True,\n",
       "   'reviewTime': '07 7, 2014',\n",
       "   'reviewerID': 'A1H7RAM4VHLUV8',\n",
       "   'asin': 'B000YTA4RG',\n",
       "   'reviewerName': 'Lindside',\n",
       "   'reviewText': 'Excellent light exfoliater. Keeps face clean, soft, and even in color.',\n",
       "   'summary': 'Best light exfoliater.',\n",
       "   'unixReviewTime': 1404691200},\n",
       "  {'_id': ObjectId('5dc881bfaf3db5220c9d2810'),\n",
       "   'overall': 5.0,\n",
       "   'verified': True,\n",
       "   'reviewTime': '04 4, 2014',\n",
       "   'reviewerID': 'A7R66SKOQCCK6',\n",
       "   'asin': 'B000YTA4RG',\n",
       "   'reviewerName': 'Ericka H.',\n",
       "   'reviewText': \"These pads are incredible! My face feels brand new. My skin is smoother than it's ever been and looks much healthier.\",\n",
       "   'summary': 'Wow',\n",
       "   'unixReviewTime': 1396569600}],\n",
       " 'count': 32}"
      ]
     },
     "execution_count": 55,
     "metadata": {},
     "output_type": "execute_result"
    }
   ],
   "source": [
    "rev_groups[0]"
   ]
  },
  {
   "cell_type": "code",
   "execution_count": 56,
   "metadata": {},
   "outputs": [
    {
     "data": {
      "text/plain": [
       "<pymongo.results.InsertManyResult at 0x1a745e5908>"
      ]
     },
     "execution_count": 56,
     "metadata": {},
     "output_type": "execute_result"
    }
   ],
   "source": [
    "try:\n",
    "    db.drop_collection('skin_care_face_rev_agg')\n",
    "except:\n",
    "    pass\n",
    "\n",
    "db.skin_care_face_rev_agg.insert_many(rev_groups)"
   ]
  },
  {
   "cell_type": "markdown",
   "metadata": {},
   "source": [
    "### add reviews to product dict"
   ]
  },
  {
   "cell_type": "code",
   "execution_count": 57,
   "metadata": {},
   "outputs": [],
   "source": [
    "prod_revs = db.skin_care_face_products.aggregate([\n",
    "    { '$lookup':\n",
    "        {\n",
    "           'from': \"skin_care_face_reviews\",\n",
    "           'localField': \"asin\",\n",
    "           'foreignField': \"asin\",\n",
    "           'as': \"reviews\"\n",
    "        }\n",
    "    }\n",
    "])"
   ]
  },
  {
   "cell_type": "code",
   "execution_count": 58,
   "metadata": {},
   "outputs": [
    {
     "data": {
      "text/plain": [
       "<pymongo.results.InsertManyResult at 0x1a81fb86c8>"
      ]
     },
     "execution_count": 58,
     "metadata": {},
     "output_type": "execute_result"
    }
   ],
   "source": [
    "prod_revs1 = list(prod_revs)\n",
    "\n",
    "try:\n",
    "    db.drop_collection('skin_care_face_prod_rev')\n",
    "except:\n",
    "    pass\n",
    "\n",
    "db.skin_care_face_prod_rev.insert_many(prod_revs1)"
   ]
  },
  {
   "cell_type": "code",
   "execution_count": 59,
   "metadata": {},
   "outputs": [
    {
     "data": {
      "text/plain": [
       "{'_id': ObjectId('5dc881769f9b98109203bcb9'),\n",
       " 'description': 'Promotes a supple texture and bright tone Glytone, transforming solutions for beautiful and healthy looking skin',\n",
       " 'title': 'Glytone Rejuvenating Mask, 3 oz.',\n",
       " 'also_buy': ['B002D48QIE',\n",
       "  'B002D48QI4',\n",
       "  'B001MTYR8Y',\n",
       "  'B000AJ23EC',\n",
       "  'B002D48QRA',\n",
       "  'B0176U0IM6',\n",
       "  'B003H8EYUE',\n",
       "  'B002D48QNE',\n",
       "  'B004KIB688',\n",
       "  'B01IG2KLZC',\n",
       "  'B0037O5920',\n",
       "  'B002D48QIY',\n",
       "  'B002D48QR0',\n",
       "  'B01IG8K4L2',\n",
       "  'B01JH4ACB6',\n",
       "  'B002D48QJ8'],\n",
       " 'image': ['https://images-na.ssl-images-amazon.com/images/I/411mybce8lL._SX50_SY65_CR,0,0,50,65_.jpg',\n",
       "  'https://images-na.ssl-images-amazon.com/images/I/31wL2rHBRvL._SX50_SY65_CR,0,0,50,65_.jpg'],\n",
       " 'rank': '96,424inBeautyPersonalCare(',\n",
       " 'also_view': ['B002D48QJ8',\n",
       "  'B00LPK7UY8',\n",
       "  'B000AJ23EC',\n",
       "  'B002D48QR0',\n",
       "  'B01IG2KLZC',\n",
       "  'B002D48QRA',\n",
       "  'B07L8W53DT',\n",
       "  'B002D48QRU',\n",
       "  'B07JLZHPRR',\n",
       "  'B004L99UEI',\n",
       "  'B01DV9E38G',\n",
       "  'B002D48QIY',\n",
       "  'B0176U0IM6',\n",
       "  'B009150ZNW',\n",
       "  'B0037O5920',\n",
       "  'B003H8EYUE',\n",
       "  'B00F6XZNOO',\n",
       "  'B001MTYR8Y',\n",
       "  'B017MOE52A',\n",
       "  'B01FYLTO10'],\n",
       " 'details': '                                                                                          Product Dimensions:         1.4 x 1.4 x 4.6 inches ; 3.2 ounces    Shipping Weight: 6.4 ounces (View shipping rates and policies)Domestic Shipping: Item can be shipped within U.S.International Shipping: This item is not eligible for international shipping.  Learn More  ASIN: B0001EKTTCItem model number: C31829    Average Customer Review:                     4.3 out of 5 stars                          27 customer reviews      Amazon Best Sellers Rank: #96,424 in Beauty & Personal Care (See Top 100 in Beauty & Personal Care) .zg_hrsr .zg_hrsr_item .zg_hrsr_rank         #1196    in&nbsp;Beauty & Personal Care &gt; Skin Care &gt; Face &gt; Treatments & Masks &gt; Masks            Manufacturers warranty can be requested from customer service. Click here to make a request to customer service.                                                                                         P.now(\"A\",\"tellMeMoreLinkData\").execute(function(A,tellMeMoreLinkData){        if(typeof tellMeMoreLinkData !== \\'undefined\\'){            A.state(\\'lowerPricePopoverData\\',);            return {                   key:\"pricing-fbW\",                   method: function(){                                     return ;                                     }                   }        }        else{                P.when(\"A\").register(\"tellMeMoreLinkData\",function(A){                    A.state(\\'lowerPricePopoverData\\',);                    return {                           key:\"pricing-fbW\",                           method: function(){                                             return ;                                             }                           }    });            }    });    Would you like to tell us about a lower price?      ',\n",
       " 'main_cat': 'Luxury Beauty',\n",
       " 'price': '$49.00',\n",
       " 'asin': 'B0001EKTTC',\n",
       " 'categories': ['in&nbsp;Beauty & Personal Care',\n",
       "  'Skin Care',\n",
       "  'Face',\n",
       "  'Treatments & Masks',\n",
       "  'Masks'],\n",
       " 'rating': '4.3',\n",
       " 'category1': 'Face',\n",
       " 'category2': 'Treatments & Masks',\n",
       " 'category3': 'Masks',\n",
       " 'reviews': [{'_id': ObjectId('5dc881afaf3db5220c959eb2'),\n",
       "   'overall': 5.0,\n",
       "   'verified': True,\n",
       "   'reviewTime': '12 6, 2012',\n",
       "   'reviewerID': 'A2B2LDXRUWTVM3',\n",
       "   'asin': 'B0001EKTTC',\n",
       "   'reviewerName': 'Wanni',\n",
       "   'reviewText': 'Great product . Gets the job done. Leaves your skin absolutely refreshing like u just left from getting a facial.',\n",
       "   'summary': 'Great Product',\n",
       "   'unixReviewTime': 1354752000},\n",
       "  {'_id': ObjectId('5dc881afaf3db5220c959eb4'),\n",
       "   'overall': 5.0,\n",
       "   'verified': True,\n",
       "   'reviewTime': '01 27, 2012',\n",
       "   'reviewerID': 'A3K78RYRE4QP6N',\n",
       "   'asin': 'B0001EKTTC',\n",
       "   'reviewerName': 'Quasar',\n",
       "   'reviewText': \"Very, very good deep cleansing masque, for oily skin, I am using it at least once a week, and it's really WORKS!!\\n\\nI love it\",\n",
       "   'summary': 'Very good product specially for oily skin - RECOMMENDED!',\n",
       "   'unixReviewTime': 1327622400},\n",
       "  {'_id': ObjectId('5dc881afaf3db5220c959eb5'),\n",
       "   'overall': 5.0,\n",
       "   'verified': True,\n",
       "   'reviewTime': '12 15, 2011',\n",
       "   'reviewerID': 'AKYB18CMQKD2D',\n",
       "   'asin': 'B0001EKTTC',\n",
       "   'reviewerName': 'Teresa - Las Vegas',\n",
       "   'reviewText': \"I've been using this product for 2 years and love it.  My neice noticed a positive change in my skin tone and tightness.  This is a keeper!!!!!\",\n",
       "   'summary': 'Great product, great price.',\n",
       "   'unixReviewTime': 1323907200},\n",
       "  {'_id': ObjectId('5dc881afaf3db5220c959eb6'),\n",
       "   'overall': 3.0,\n",
       "   'vote': '2',\n",
       "   'verified': True,\n",
       "   'reviewTime': '12 17, 2012',\n",
       "   'reviewerID': 'ALQLIQZGUVFL0',\n",
       "   'asin': 'B0001EKTTC',\n",
       "   'reviewerName': 'Kayla Brown',\n",
       "   'reviewText': '.. came quickly and timely with my schedule... however there was damage to bottle which caused the inside to dry quicker than usual',\n",
       "   'summary': 'trying a new product.. had a whole in the tube which now dries out the stuff inside.',\n",
       "   'unixReviewTime': 1355702400},\n",
       "  {'_id': ObjectId('5dc881afaf3db5220c959eb7'),\n",
       "   'overall': 5.0,\n",
       "   'vote': '4',\n",
       "   'verified': True,\n",
       "   'reviewTime': '10 7, 2009',\n",
       "   'reviewerID': 'AXVNVV5VH5XZY',\n",
       "   'asin': 'B0001EKTTC',\n",
       "   'reviewerName': 'Lou Who',\n",
       "   'reviewText': 'I was looking for a product that would minimize my large pores while also controlling my oily zones, and this mask(masque) does the trick. I use it at least twice a week. My pores are almost unnoticeable now, and no more breakouts. The mask feels cool going on, and my skin feels so good afterwards. I highly recommend it to those who have oily, or combination skin.',\n",
       "   'summary': 'Makes my skin feel so good',\n",
       "   'unixReviewTime': 1254873600},\n",
       "  {'_id': ObjectId('5dc881afaf3db5220c959eb9'),\n",
       "   'overall': 5.0,\n",
       "   'vote': '7',\n",
       "   'verified': False,\n",
       "   'reviewTime': '09 12, 2010',\n",
       "   'reviewerID': 'A243ZH5SHXGXT5',\n",
       "   'asin': 'B0001EKTTC',\n",
       "   'reviewerName': 'nygirl',\n",
       "   'reviewText': \"I can't say enough about this product!  I've struggled with acne my whole life, most recently cystic acne in adulthood.  I put this product on at night and by morning the large blemishes have reduced in size and the small blemishes have almost disappeared.  I especially use this masque on days that I workout to clean out my pores.  I have used so many harsh medicines from dermatologists that have left my skin feeling awful.  This masque leaves your skin feeling soft, matte and comfortable.  My last dermatologist recommended this product, and I most definitely recommend it!\",\n",
       "   'summary': 'Great for adult acne',\n",
       "   'unixReviewTime': 1284249600},\n",
       "  {'_id': ObjectId('5dc881afaf3db5220c959ec2'),\n",
       "   'overall': 4.0,\n",
       "   'verified': True,\n",
       "   'reviewTime': '02 7, 2015',\n",
       "   'reviewerID': 'A3714AYECBZ5AM',\n",
       "   'asin': 'B0001EKTTC',\n",
       "   'reviewerName': '@JTmoney',\n",
       "   'reviewText': \"This mask is ok. Not a miracle product but not bad either. I can't go into much detail bc I don't notice any particular benefits other than just keeping my pores clear and smoothing skin. Could be drying if your skin is in the dryer side but mine is oily/combo so it doesn't dry mine out. I'll finish the tube but won't purchase again.\",\n",
       "   'summary': 'Not bad, not amazing. Only one thumb up',\n",
       "   'unixReviewTime': 1423267200},\n",
       "  {'_id': ObjectId('5dc881afaf3db5220c959ec3'),\n",
       "   'overall': 5.0,\n",
       "   'verified': True,\n",
       "   'reviewTime': '01 20, 2015',\n",
       "   'reviewerID': 'A3C5MVSZF9LBAB',\n",
       "   'asin': 'B0001EKTTC',\n",
       "   'reviewerName': 'Lisa M Bazinet',\n",
       "   'reviewText': \"I LOVE this product! It makes my skin so clear and smooth. It tingles a bit when I put it on but it doesn't hurt and isn't abrasive as many other products are.\",\n",
       "   'summary': 'Best mask ever',\n",
       "   'unixReviewTime': 1421712000},\n",
       "  {'_id': ObjectId('5dc881afaf3db5220c959ec6'),\n",
       "   'overall': 5.0,\n",
       "   'vote': '2',\n",
       "   'verified': True,\n",
       "   'reviewTime': '10 12, 2014',\n",
       "   'reviewerID': 'A3D0E6H1EHYPDN',\n",
       "   'asin': 'B0001EKTTC',\n",
       "   'reviewerName': 'Leslie',\n",
       "   'reviewText': 'This product is the best. I am 30 years old and am so grateful to not look near my age, my little brother is 19 and one time we went somewhere and people thought I was his girlfriend! This product has boosted my skin even more it\\'s even tighter and smoother and clearer.... Will buy for life,  this has been added to my \"things that keep me looking so young\" list :)',\n",
       "   'summary': 'AMAZING!!!!!!!',\n",
       "   'unixReviewTime': 1413072000},\n",
       "  {'_id': ObjectId('5dc881afaf3db5220c959ec7'),\n",
       "   'overall': 5.0,\n",
       "   'verified': True,\n",
       "   'reviewTime': '10 4, 2014',\n",
       "   'reviewerID': 'A92YE7SP69OL2',\n",
       "   'asin': 'B0001EKTTC',\n",
       "   'reviewerName': 'Joseph',\n",
       "   'reviewText': \"I love glytone products. This one in particular is phenomenal in my opinion. My skin feels you get, fresher, and tighter instantly after each use. It's pricey but completely worth it!\",\n",
       "   'summary': 'Highly recommended',\n",
       "   'unixReviewTime': 1412380800},\n",
       "  {'_id': ObjectId('5dc881afaf3db5220c959ec8'),\n",
       "   'overall': 5.0,\n",
       "   'verified': True,\n",
       "   'reviewTime': '08 28, 2014',\n",
       "   'reviewerID': 'A22XI0LL2B8H89',\n",
       "   'asin': 'B0001EKTTC',\n",
       "   'reviewerName': '1984',\n",
       "   'reviewText': \"I can't brag enough about this product. Perfect for acne prone skin. I exercise and this takes away the break outs quickly!\",\n",
       "   'summary': 'Perfect for acne prone skin',\n",
       "   'unixReviewTime': 1409184000},\n",
       "  {'_id': ObjectId('5dc881afaf3db5220c959ec9'),\n",
       "   'overall': 5.0,\n",
       "   'verified': True,\n",
       "   'reviewTime': '08 14, 2014',\n",
       "   'reviewerID': 'A3C5EJEWQGP4F4',\n",
       "   'asin': 'B0001EKTTC',\n",
       "   'reviewerName': 'redfox',\n",
       "   'reviewText': \"I've used this product for years!  Love it!\",\n",
       "   'summary': 'Love it!',\n",
       "   'unixReviewTime': 1407974400},\n",
       "  {'_id': ObjectId('5dc881afaf3db5220c959eca'),\n",
       "   'overall': 5.0,\n",
       "   'verified': True,\n",
       "   'reviewTime': '05 19, 2014',\n",
       "   'reviewerID': 'AU24LC0M8WCCG',\n",
       "   'asin': 'B0001EKTTC',\n",
       "   'reviewerName': 'Jennifer Weiss',\n",
       "   'reviewText': 'This is great for evening out your skin tone and giving your skin an extra glow.  I use it once a week and it definitely helps eliminate acne and blemishes.',\n",
       "   'summary': 'When you need a boost',\n",
       "   'unixReviewTime': 1400457600},\n",
       "  {'_id': ObjectId('5dc881afaf3db5220c959ecb'),\n",
       "   'overall': 5.0,\n",
       "   'verified': True,\n",
       "   'reviewTime': '03 6, 2014',\n",
       "   'reviewerID': 'A1RRVJEKCPKZE2',\n",
       "   'asin': 'B0001EKTTC',\n",
       "   'reviewerName': 'H.Dennison',\n",
       "   'reviewText': 'This is a great great great product to own for ppl that have oily, damaged, acne skin.  You only use it a couple times a week and your face feels amazing! Read label though =)',\n",
       "   'summary': 'great product',\n",
       "   'unixReviewTime': 1394064000},\n",
       "  {'_id': ObjectId('5dc881afaf3db5220c959ecc'),\n",
       "   'overall': 4.0,\n",
       "   'verified': True,\n",
       "   'reviewTime': '12 24, 2013',\n",
       "   'reviewerID': 'ACNFI5T1PHN2D',\n",
       "   'asin': 'B0001EKTTC',\n",
       "   'reviewerName': 'llaoy@yahoo.com',\n",
       "   'reviewText': 'I really like Glytone products and the masque is really nice. It seems to work for someone who still has to deal with acne over 40.',\n",
       "   'summary': 'Glytone - Good',\n",
       "   'unixReviewTime': 1387843200},\n",
       "  {'_id': ObjectId('5dc881afaf3db5220c959ecd'),\n",
       "   'overall': 5.0,\n",
       "   'verified': True,\n",
       "   'reviewTime': '04 18, 2013',\n",
       "   'reviewerID': 'A1TAWKN4TGKFOW',\n",
       "   'asin': 'B0001EKTTC',\n",
       "   'reviewerName': 'Sheribaby',\n",
       "   'reviewText': 'really deep cleans your face and leaves a smooth finish to your skin, makes my pores smaller and tightens my skin.',\n",
       "   'summary': 'love it',\n",
       "   'unixReviewTime': 1366243200},\n",
       "  {'_id': ObjectId('5dc881bfaf3db5220c9cfb0a'),\n",
       "   'overall': 5.0,\n",
       "   'verified': True,\n",
       "   'reviewTime': '02 17, 2017',\n",
       "   'reviewerID': 'A2AVMYVMWPNQAM',\n",
       "   'asin': 'B0001EKTTC',\n",
       "   'reviewerName': 'Judy J. Mahoney',\n",
       "   'reviewText': 'Love it',\n",
       "   'summary': 'Five Stars',\n",
       "   'unixReviewTime': 1487289600},\n",
       "  {'_id': ObjectId('5dc881bfaf3db5220c9cfb0c'),\n",
       "   'overall': 5.0,\n",
       "   'verified': True,\n",
       "   'reviewTime': '10 22, 2016',\n",
       "   'reviewerID': 'A2EMTP99MF6JNZ',\n",
       "   'asin': 'B0001EKTTC',\n",
       "   'reviewerName': 'Jennifer K.',\n",
       "   'reviewText': 'Really like it. Def will buy another tube. Cleans face well and leaves it Smooth',\n",
       "   'summary': 'Five Stars',\n",
       "   'unixReviewTime': 1477094400},\n",
       "  {'_id': ObjectId('5dc881bfaf3db5220c9cfb0d'),\n",
       "   'overall': 5.0,\n",
       "   'verified': True,\n",
       "   'reviewTime': '08 1, 2015',\n",
       "   'reviewerID': 'A22NKFOH9RATRC',\n",
       "   'asin': 'B0001EKTTC',\n",
       "   'reviewerName': 'M. Larimore',\n",
       "   'reviewText': 'This is the best masque i have found for oily skin - Very nice!',\n",
       "   'summary': 'This is the best masque i have found for oily skin - Very nice!',\n",
       "   'unixReviewTime': 1438387200},\n",
       "  {'_id': ObjectId('5dc881bfaf3db5220c9cfb0e'),\n",
       "   'overall': 4.0,\n",
       "   'verified': True,\n",
       "   'reviewTime': '06 21, 2015',\n",
       "   'reviewerID': 'A20O9DCGF6E0GQ',\n",
       "   'asin': 'B0001EKTTC',\n",
       "   'reviewerName': 'WestNYEastSC',\n",
       "   'reviewText': 'Recommended by my Dermatologist.. It works great and it was priced much lower on Amazon than elsewhere.',\n",
       "   'summary': 'Works Just As My Dermatoligist Said It Would.',\n",
       "   'unixReviewTime': 1434844800},\n",
       "  {'_id': ObjectId('5dc881bfaf3db5220c9cfb0f'),\n",
       "   'overall': 4.0,\n",
       "   'verified': True,\n",
       "   'reviewTime': '06 10, 2015',\n",
       "   'reviewerID': 'A37JRCAW5SFCVV',\n",
       "   'asin': 'B0001EKTTC',\n",
       "   'reviewerName': 'Sarah B',\n",
       "   'reviewText': 'This is very drying so if you have sensitive skin, use as a spot treatment. I have very sensitive/dry skin and use a full regime of Glytone. This is the only product I have to be carful with.',\n",
       "   'summary': 'A little dab will do ya!',\n",
       "   'unixReviewTime': 1433894400},\n",
       "  {'_id': ObjectId('5dc881bfaf3db5220c9cfb10'),\n",
       "   'overall': 4.0,\n",
       "   'verified': True,\n",
       "   'reviewTime': '06 16, 2015',\n",
       "   'reviewerID': 'A1STMW7DCY3SB9',\n",
       "   'asin': 'B0001EKTTC',\n",
       "   'reviewerName': 'Steve Marcantonio',\n",
       "   'reviewText': 'The Glytone Boost Deep Cleansing Masque is definitely a great buy! I have very sensitive skin and the occasional breakout, and using the masque once every week or so was very helpful in sloughing off the dead skin and dirt that comes from being outside. I highly recommend for the winter months because the masque is best when used to fight off dry winter skin for a return to a healthy glow. Worth the price!',\n",
       "   'summary': 'Perfect for Winter Skin',\n",
       "   'unixReviewTime': 1434412800},\n",
       "  {'_id': ObjectId('5dc881bfaf3db5220c9cfb11'),\n",
       "   'overall': 4.0,\n",
       "   'verified': True,\n",
       "   'reviewTime': '05 10, 2015',\n",
       "   'reviewerID': 'A2SXMUMVY8C2UD',\n",
       "   'asin': 'B0001EKTTC',\n",
       "   'reviewerName': 'Caroline',\n",
       "   'reviewText': \"I've found that when I use this too much I don't see the effects of it anymore. So I have go use it sparingly... Almost done now anyway. Doubt I'd purchase it again\",\n",
       "   'summary': 'Works',\n",
       "   'unixReviewTime': 1431216000},\n",
       "  {'_id': ObjectId('5dc881bfaf3db5220c9cfb13'),\n",
       "   'overall': 5.0,\n",
       "   'verified': True,\n",
       "   'reviewTime': '04 26, 2015',\n",
       "   'reviewerID': 'A1HAMW5J7U8HMA',\n",
       "   'asin': 'B0001EKTTC',\n",
       "   'reviewerName': 'jenny stancell',\n",
       "   'reviewText': \"Great product. I've used it once a week before I go to bed at night and it really helps keep my face firm yet smooth. It also works well with spot treatment of my pimples. Down side - burns and can be drying if you use too often or have sensitive skin. Definitely use a moisturizer but otherwise great product.\",\n",
       "   'summary': 'Great product',\n",
       "   'unixReviewTime': 1430006400},\n",
       "  {'_id': ObjectId('5dc881bfaf3db5220c9cfb14'),\n",
       "   'overall': 5.0,\n",
       "   'verified': True,\n",
       "   'reviewTime': '04 13, 2015',\n",
       "   'reviewerID': 'A3HWWAUVSR8BN1',\n",
       "   'asin': 'B0001EKTTC',\n",
       "   'reviewerName': 'PR',\n",
       "   'reviewText': 'A miracle product for my 13 year old who has acne problem, and even myself who do no have acne problem.',\n",
       "   'summary': 'A miracle product for my 13 year old who has ...',\n",
       "   'unixReviewTime': 1428883200},\n",
       "  {'_id': ObjectId('5dc881bfaf3db5220c9cfb15'),\n",
       "   'overall': 5.0,\n",
       "   'verified': True,\n",
       "   'reviewTime': '03 6, 2015',\n",
       "   'reviewerID': 'A6WE741JPNUXW',\n",
       "   'asin': 'B0001EKTTC',\n",
       "   'reviewerName': 'NATHAN',\n",
       "   'reviewText': \"My wife loves this product, and you can find it here cheaper than at the Doctor's office.  Kills small shallow skin infections over night.\",\n",
       "   'summary': 'My wife loves this product, and you can find ...',\n",
       "   'unixReviewTime': 1425600000}]}"
      ]
     },
     "execution_count": 59,
     "metadata": {},
     "output_type": "execute_result"
    }
   ],
   "source": [
    "prod_revs1[2]"
   ]
  },
  {
   "cell_type": "code",
   "execution_count": 60,
   "metadata": {},
   "outputs": [
    {
     "data": {
      "text/plain": [
       "['product_reviews',\n",
       " 'skin_care_face_rev_agg',\n",
       " 'product_metadata',\n",
       " 'skin_care_face_reviews',\n",
       " 'skin_care_face_prod_rev',\n",
       " 'skin_care_face_products']"
      ]
     },
     "execution_count": 60,
     "metadata": {},
     "output_type": "execute_result"
    }
   ],
   "source": [
    "db.list_collection_names()"
   ]
  },
  {
   "cell_type": "markdown",
   "metadata": {},
   "source": []
  }
 ],
 "metadata": {
  "kernelspec": {
   "display_name": "Python [conda env:metis] *",
   "language": "python",
   "name": "conda-env-metis-py"
  },
  "language_info": {
   "codemirror_mode": {
    "name": "ipython",
    "version": 3
   },
   "file_extension": ".py",
   "mimetype": "text/x-python",
   "name": "python",
   "nbconvert_exporter": "python",
   "pygments_lexer": "ipython3",
   "version": "3.6.9"
  }
 },
 "nbformat": 4,
 "nbformat_minor": 2
}
