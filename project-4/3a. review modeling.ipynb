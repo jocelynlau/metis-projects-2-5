{
 "cells": [
  {
   "cell_type": "markdown",
   "metadata": {},
   "source": [
    "## Set up"
   ]
  },
  {
   "cell_type": "code",
   "execution_count": 2,
   "metadata": {},
   "outputs": [],
   "source": [
    "from pymongo import MongoClient\n",
    "from pprint import pprint\n",
    "\n",
    "import pandas as pd\n",
    "import re\n",
    "import nltk\n",
    "\n",
    "import pickle\n",
    "import json"
   ]
  },
  {
   "cell_type": "code",
   "execution_count": 3,
   "metadata": {},
   "outputs": [],
   "source": [
    "from bson.objectid import ObjectId"
   ]
  },
  {
   "cell_type": "code",
   "execution_count": 4,
   "metadata": {},
   "outputs": [],
   "source": [
    "from sklearn.feature_extraction.text import CountVectorizer\n",
    "from sklearn.feature_extraction.text import TfidfVectorizer\n",
    "\n",
    "from sklearn.feature_extraction.text import CountVectorizer \n",
    "from sklearn.decomposition import TruncatedSVD\n",
    "from sklearn.decomposition import NMF\n",
    "from sklearn.metrics.pairwise import cosine_similarity"
   ]
  },
  {
   "cell_type": "code",
   "execution_count": 5,
   "metadata": {},
   "outputs": [
    {
     "name": "stderr",
     "output_type": "stream",
     "text": [
      "[nltk_data] Downloading package wordnet to /Users/Jocelyn/nltk_data...\n",
      "[nltk_data]   Package wordnet is already up-to-date!\n",
      "[nltk_data] Downloading package punkt to /Users/Jocelyn/nltk_data...\n",
      "[nltk_data]   Package punkt is already up-to-date!\n"
     ]
    },
    {
     "data": {
      "text/plain": [
       "True"
      ]
     },
     "execution_count": 5,
     "metadata": {},
     "output_type": "execute_result"
    }
   ],
   "source": [
    "# stemming\n",
    "from nltk.stem.lancaster import LancasterStemmer\n",
    "from nltk.stem.porter import PorterStemmer\n",
    "from nltk.stem.snowball import SnowballStemmer\n",
    "nltk.download('wordnet')\n",
    "nltk.download('punkt')"
   ]
  },
  {
   "cell_type": "code",
   "execution_count": 6,
   "metadata": {},
   "outputs": [],
   "source": [
    "# This creates a client that uses the default port on localhost.\n",
    "# If connecting to AWS, you need a connection string.\n",
    "# Can do the same thing with MongoClient(\"mongodb://localhost:27017\")\n",
    "# client = MongoClient()\n",
    "client = MongoClient(\"mongodb://localhost:27017\")"
   ]
  },
  {
   "cell_type": "code",
   "execution_count": 7,
   "metadata": {},
   "outputs": [],
   "source": [
    "# Makes it look similar to shell mongo\n",
    "db = client.amazon_lb"
   ]
  },
  {
   "cell_type": "code",
   "execution_count": 8,
   "metadata": {},
   "outputs": [
    {
     "data": {
      "text/plain": [
       "['skin_care_face_reviews',\n",
       " 'product_reviews',\n",
       " 'skin_care_face_rev_agg',\n",
       " 'skin_care_face_products',\n",
       " 'skin_care_face_prod_rev',\n",
       " 'product_metadata']"
      ]
     },
     "execution_count": 8,
     "metadata": {},
     "output_type": "execute_result"
    }
   ],
   "source": [
    "db.list_collection_names()"
   ]
  },
  {
   "cell_type": "code",
   "execution_count": 9,
   "metadata": {},
   "outputs": [],
   "source": [
    "# cursor = db.skin_care_face_products.find()\n",
    "# products = list(cursor)\n",
    "# products[0]"
   ]
  },
  {
   "cell_type": "code",
   "execution_count": 10,
   "metadata": {},
   "outputs": [
    {
     "data": {
      "text/plain": [
       "{'_id': ObjectId('5dc881769f9b98109203bca6'),\n",
       " 'title': 'DERMAdoctor Calm, Cool & Corrected anti-redness tranquility cream - 1.7 Oz',\n",
       " 'also_buy': ['B019EKOK6G',\n",
       "  'B01EM44IEI',\n",
       "  'B0186FLPUE',\n",
       "  'B00RORUNQI',\n",
       "  'B006TD38ZG',\n",
       "  'B01EM4D85I',\n",
       "  'B002VM7ILE',\n",
       "  'B0000ZREXG',\n",
       "  'B000OMPQ76',\n",
       "  'B00VHJ13EA',\n",
       "  'B00E1KLNW4',\n",
       "  'B01EM45YNW',\n",
       "  'B00RORUL6U',\n",
       "  'B000FJU4HK',\n",
       "  'B00VHJ0ZUS'],\n",
       " 'image': ['https://images-na.ssl-images-amazon.com/images/I/41sTOlcsmjL._SX50_SY65_CR,0,0,50,65_.jpg',\n",
       "  'https://images-na.ssl-images-amazon.com/images/I/81K-8p2lItL.SX50_SY65_CR,0,0,50,65_PKmb-play-button-overlay-thumb_.jpg'],\n",
       " 'rank': '186,829inBeautyamp;PersonalCare(',\n",
       " 'also_view': ['B01ETQBD6U',\n",
       "  'B019EKOK6G',\n",
       "  'B01EM45YNW',\n",
       "  'B0186FLPUE',\n",
       "  'B07B8BN8H6',\n",
       "  'B000FJU4HK',\n",
       "  'B01EM44IEI',\n",
       "  'B00RORUL6U',\n",
       "  'B01FO1IT02',\n",
       "  'B001FXOCT6',\n",
       "  'B01EM45E4G',\n",
       "  'B00RORUNQI',\n",
       "  'B000Z61SSM',\n",
       "  'B00VHJ13EA',\n",
       "  'B002CML1XE',\n",
       "  'B0000ZREXG',\n",
       "  'B07B7HVPCB',\n",
       "  'B071JS38YF',\n",
       "  'B00ZPWR0N8',\n",
       "  'B00E1KLNW4'],\n",
       " 'details': '                                                                                          Product Dimensions:         2.2 x 2.2 x 3.1 inches ; 1.76 ounces    Shipping Weight: 6.4 ounces (View shipping rates and policies)Domestic Shipping: Item can be shipped within U.S.International Shipping: This item is not eligible for international shipping.  Learn More  ASIN: B0000Y3NO6Item model number: 174283    Average Customer Review:                     3.9 out of 5 stars                          35 customer reviews      Amazon Best Sellers Rank: #186,829 in Beauty &amp; Personal Care (See Top 100 in Beauty &amp; Personal Care) .zg_hrsr .zg_hrsr_item .zg_hrsr_rank         #6350    inBeauty &amp; Personal Care &gt; Skin Care &gt; Face &gt; Treatments &amp; Masks            Product Warranty: For warranty information about this product, please click here                                                                                         P.now(\"A\",\"tellMeMoreLinkData\").execute(function(A,tellMeMoreLinkData){        if(typeof tellMeMoreLinkData !== \\'undefined\\'){            A.state(\\'lowerPricePopoverData\\',);            return {                   key:\"pricing-fbW\",                   method: function(){                                     return ;                                     }                   }        }        else{                P.when(\"A\").register(\"tellMeMoreLinkData\",function(A){                    A.state(\\'lowerPricePopoverData\\',);                    return {                           key:\"pricing-fbW\",                           method: function(){                                             return ;                                             }                           }    });            }    });    Would you like to tell us about a lower price?      ',\n",
       " 'main_cat': 'Luxury Beauty',\n",
       " 'price': '$85.00',\n",
       " 'asin': 'B0000Y3NO6',\n",
       " 'categories': ['inBeauty &amp; Personal Care',\n",
       "  'Skin Care',\n",
       "  'Face',\n",
       "  'Treatments &amp; Masks'],\n",
       " 'rating': '3.9',\n",
       " 'category1': 'Face',\n",
       " 'category2': 'Treatments & Masks',\n",
       " 'category3': 'Not listed',\n",
       " 'description': '',\n",
       " 'reviews': [{'_id': ObjectId('5dc881afaf3db5220c9582ee'),\n",
       "   'overall': 2.0,\n",
       "   'vote': '8',\n",
       "   'verified': False,\n",
       "   'reviewTime': '01 4, 2007',\n",
       "   'reviewerID': 'A3AAWP3AWC4UR1',\n",
       "   'asin': 'B0000Y3NO6',\n",
       "   'reviewerName': 'J. Taylor',\n",
       "   'reviewText': \"I gave it a shot for a while until the small bottle was completely empty, and it just didn't seem to make a difference for me.  The cream feels cool on the skin, which is nice, but overall I didn't notice a change.\",\n",
       "   'summary': \"Didn't work for me...\",\n",
       "   'unixReviewTime': 1167868800},\n",
       "  {'_id': ObjectId('5dc881afaf3db5220c9582ef'),\n",
       "   'overall': 5.0,\n",
       "   'vote': '18',\n",
       "   'verified': True,\n",
       "   'reviewTime': '03 1, 2007',\n",
       "   'reviewerID': 'A2DKQ5CLJ2KWM3',\n",
       "   'asin': 'B0000Y3NO6',\n",
       "   'reviewerName': 'Jessi Hope',\n",
       "   'reviewText': \"After trying all the drugstore rosacea products to moisturize my skin and calm the redness and itching down, I gave up hope that anything would work. I have moderate rosacea that sometimes becomes severely inflamed across my cheeks, nose, and above my nose. Some products would give me relief from symptoms for a week or so, and then stop working. I tried creams, natural and vitamin supplements, mineral creams, yoga, everything I remotely thought might help. This product is the only thing that has EVER worked, and it works quickly (drastically reduces redness within an hour usually- two hours at my worst inflammation), leaves no greasiness, and doesn't mess with my allergies. It is the most expensive beauty product I've ever bought, so it was risky, but I was desperate. I applied sparingly, maybe two or three times a week only to my cheeks, entire nose, and small area on forehead, and the jar lasted me one year exactly. I use fragrance/dye free generic moisturizer for my daily regimen, but this product is so effective I never needed to use it daily. If I could afford it, I would use it twice a day as my regular moisturizer. It leaves my skin smooth, velvety (instead of oily or dry) and free of the redness and bumps. It also dimished my acne outbreaks, which I think were associated with the rosacea, and the fine lines I was beginning to get due to the constant dryness. I love it so much that I told my dermatologist about it so that he could recommend it. Now I'm looking for a DERMAdoctor product for the severe eczema I have on the rest on my body.\",\n",
       "   'summary': 'Thank You DERMAdoctor! Changed my life.',\n",
       "   'unixReviewTime': 1172707200},\n",
       "  {'_id': ObjectId('5dc881afaf3db5220c9582f0'),\n",
       "   'overall': 3.0,\n",
       "   'vote': '20',\n",
       "   'verified': False,\n",
       "   'reviewTime': '09 14, 2006',\n",
       "   'reviewerID': 'ALZPAFF6H463C',\n",
       "   'asin': 'B0000Y3NO6',\n",
       "   'reviewerName': 'Amazon Customer',\n",
       "   'reviewText': \"DERMAdoctor Calm, Cool & Corrected 2N1 Rosacea Tx is very good for red inflammed skin, acne and it keeps your skin extremely hydrated without causing the breakouts but it is extremely expensive for not a very big jar.  And if your like most Rosacea sufferers then you don't just have your face to deal with and so you use much more than just a small amount for your face daily.  I have found that Noredol is slightly cheaper and it is gel based so it goes a lot further and appears to be working just as well but not quite as moisturizing.  But you can use moisturizer for sensitive skin in addition and the Noredol keeps you from breaking out even though you are moisturizing.\",\n",
       "   'summary': 'Good but expensive and there is a cheaper alternative.',\n",
       "   'unixReviewTime': 1158192000},\n",
       "  {'_id': ObjectId('5dc881afaf3db5220c9582f1'),\n",
       "   'overall': 1.0,\n",
       "   'verified': False,\n",
       "   'reviewTime': '07 22, 2014',\n",
       "   'reviewerID': 'A3UKAU8GVKQMBR',\n",
       "   'asin': 'B0000Y3NO6',\n",
       "   'reviewerName': 'KAN',\n",
       "   'reviewText': \"I was very excited to try this as nothing else is working for me for my new friend Rosacea.  It took a lot for me to put out the $85 but if it works then I can justify the price.  It actually made my condition worse.  I'm itchier, redder and blotchier than I was before I used it.  And I actually think I have real pimples now to boot!  So great!\\nI also made the mistake of putting it around my eyelids to help calm my ocular rosacea so now my eyes feel like they're bleeding.  It's so frustrating how one thing works for someone and is just pure evil tor another.\\nStill searching....\",\n",
       "   'summary': 'Nope',\n",
       "   'unixReviewTime': 1405987200},\n",
       "  {'_id': ObjectId('5dc881afaf3db5220c9582f2'),\n",
       "   'overall': 5.0,\n",
       "   'verified': True,\n",
       "   'reviewTime': '10 15, 2014',\n",
       "   'reviewerID': 'ARTQZJRQRW6NB',\n",
       "   'asin': 'B0000Y3NO6',\n",
       "   'reviewerName': 'Chino Hills',\n",
       "   'reviewText': \"Been using this for over 3 years. Helped long term with the redness on my face. Wish it wasn't so expensive but I feel like it's worth it. About on my 5th container.\",\n",
       "   'summary': 'Really calms the redness',\n",
       "   'unixReviewTime': 1413331200},\n",
       "  {'_id': ObjectId('5dc881afaf3db5220c9582f3'),\n",
       "   'overall': 4.0,\n",
       "   'vote': '21',\n",
       "   'verified': False,\n",
       "   'reviewTime': '01 30, 2007',\n",
       "   'reviewerID': 'A2F2HIRAIM8D2V',\n",
       "   'asin': 'B0000Y3NO6',\n",
       "   'reviewerName': 'Kelly Hess',\n",
       "   'reviewText': \"I doubted it was even possible to banish the redness, but I was just desperate enough to spend the $85. For a gal who cringes at $35 for Clinique moisturizer, that's a lot of dough. But this was by far the best money I ever spent on my skin! I have self-diagnosed mild rosacea and didn't want the usual treatment of oral antibiotics (which have their own set of problems for me). With just a few dabs of this product twice daily on my nose, cheeks and chin, I'm virtually redness-free, and my occasional blemishes are reduced by about half.\\n\\nCC&C isn't miraculous. On infrequent occasions, I remain blotchy despite using it. This is usually when I've been under a lot of stress or have been sick. Extrapolating from that experience, I believe the greater the severity of the rosacea, the more limited CC&C's results will be.\\n\\nCC&C doubles as a regular moisturizer, so - unless you have extremely dry skin - there's no need to use another moisturizer over it. I wear it at night, and beneath makeup during the day, applying it only in my redness-prone areas. I save a few bucks by using my less expensive moisturizers on the rest of my face and neck. At this rate, one $85 jar lasts me about 5 months. Not too bad, when I think of it as $17 per month.\",\n",
       "   'summary': 'Huge improvement',\n",
       "   'unixReviewTime': 1170115200},\n",
       "  {'_id': ObjectId('5dc881afaf3db5220c9582f4'),\n",
       "   'overall': 5.0,\n",
       "   'verified': True,\n",
       "   'reviewTime': '07 11, 2014',\n",
       "   'reviewerID': 'A1825AFGJ0ZGAD',\n",
       "   'asin': 'B0000Y3NO6',\n",
       "   'reviewerName': 'RC',\n",
       "   'reviewText': 'Expensive but effective.',\n",
       "   'summary': 'Five Stars',\n",
       "   'unixReviewTime': 1405036800},\n",
       "  {'_id': ObjectId('5dc881afaf3db5220c9582f5'),\n",
       "   'overall': 1.0,\n",
       "   'vote': '3',\n",
       "   'verified': True,\n",
       "   'reviewTime': '03 12, 2013',\n",
       "   'reviewerID': 'A1SSA0GCLCE4V6',\n",
       "   'asin': 'B0000Y3NO6',\n",
       "   'reviewerName': 'Kadi Byers',\n",
       "   'reviewText': 'I got this because I had red dry patches in my \"t zone\" thinking this would \"calm and cool and correct it\" all it does is burn the heck out of it. I suggest not buying it.',\n",
       "   'summary': 'Burns',\n",
       "   'unixReviewTime': 1363046400},\n",
       "  {'_id': ObjectId('5dc881afaf3db5220c9582f6'),\n",
       "   'overall': 4.0,\n",
       "   'verified': True,\n",
       "   'reviewTime': '03 18, 2013',\n",
       "   'reviewerID': 'A1XKCHZELFYG6D',\n",
       "   'asin': 'B0000Y3NO6',\n",
       "   'reviewerName': '2563255553',\n",
       "   'reviewText': 'My wife used this cream on her face and hands. She liked it as a good product. This product arrived right on time.',\n",
       "   'summary': 'Face lotion',\n",
       "   'unixReviewTime': 1363564800},\n",
       "  {'_id': ObjectId('5dc881afaf3db5220c9582f7'),\n",
       "   'overall': 4.0,\n",
       "   'vote': '2',\n",
       "   'verified': False,\n",
       "   'reviewTime': '05 17, 2012',\n",
       "   'reviewerID': 'A12L32FZ1UV9OZ',\n",
       "   'asin': 'B0000Y3NO6',\n",
       "   'reviewerName': 'Thomas Payne',\n",
       "   'reviewText': \"I have used this cream for a few months now.  I don't wear makeup, but I try to take care of my skin. I have mild rosacea in a few spots.  I have been to the dermatologist and gotten lots of prescription creams, even a steroid cream that worked pretty well.  This works almost as good as the steroid.  It keeps the redness managed without all the chemicals. I'm sure it has chemicals in it, but you don't need a prescription so I would think that these do not have the side effects of a prescription cream.  I use a very small amount and it keeps the redness down.  I'm still on my first container of it.  I would guess a jar would last 6 months if you used it sparingly. It's worth it if you can afford it.\",\n",
       "   'summary': \"From a man's point of view\",\n",
       "   'unixReviewTime': 1337212800},\n",
       "  {'_id': ObjectId('5dc881afaf3db5220c9582f8'),\n",
       "   'overall': 3.0,\n",
       "   'verified': False,\n",
       "   'reviewTime': '02 29, 2012',\n",
       "   'reviewerID': 'A3BSPBV2ESTP9N',\n",
       "   'asin': 'B0000Y3NO6',\n",
       "   'reviewerName': 'annonymous',\n",
       "   'reviewText': \"I have just used up my first jar of Calm Cool & Corrected which lasted about 2 months using it sparingly morning and night.  I have rosacea and peri-oral dermatitis with severe peeling and redness.  This product was very soothing and definitely helped the redness.  It also did not cause any acne breakouts.  I was disappointed, however, in the moisturizing effect of this product.  It isn't very hydrating and didn't help the severe peeling in my T-zone. If the product helped the dryness and peeling along with it's positive effect on the redness, I would probably try another jar.  However, I just can't bring myself to get hooked on a product that's going to cost me $500 plus a year to use.\",\n",
       "   'summary': 'Good But Too Expensive',\n",
       "   'unixReviewTime': 1330473600},\n",
       "  {'_id': ObjectId('5dc881afaf3db5220c9582f9'),\n",
       "   'overall': 3.0,\n",
       "   'vote': '2',\n",
       "   'verified': False,\n",
       "   'reviewTime': '11 5, 2011',\n",
       "   'reviewerID': 'A1RWXEI9I71I45',\n",
       "   'asin': 'B0000Y3NO6',\n",
       "   'reviewerName': 'K. Smith',\n",
       "   'reviewText': 'This product did not work for me - it hydrates well and helped with dry skin, but made the redness on my face worse.',\n",
       "   'summary': 'Made my redness worse',\n",
       "   'unixReviewTime': 1320451200},\n",
       "  {'_id': ObjectId('5dc881afaf3db5220c9582fa'),\n",
       "   'overall': 5.0,\n",
       "   'vote': '4',\n",
       "   'verified': True,\n",
       "   'reviewTime': '02 1, 2011',\n",
       "   'reviewerID': 'A4K73O2HDH32U',\n",
       "   'asin': 'B0000Y3NO6',\n",
       "   'reviewerName': 'Shani',\n",
       "   'reviewText': 'This extremely soothing cream helps any irritation caused by weather, swimming, dryness from sun exposure, or hormones.  I use this during the times when hormonal breakouts would occur, and I don\\'t have any breakouts.  This makes my skin soft, supple, and clear, and it feels cool and comforting.  I especially like this for soothing \"spider veins\" around my nose.  I have allergies occasionally, and sneezing and blowing my nose makes those veins pop out.  This cream soothes the redness and/or swelling in those areas, so the veins don\\'t show as much.  This cream also stops my nose from appearing red when those allergies manifest.  This is an anti-aging, anti-breakout, healing product that\\'s very concentrated, and very, very high quality.',\n",
       "   'summary': 'Multi-Purpose',\n",
       "   'unixReviewTime': 1296518400},\n",
       "  {'_id': ObjectId('5dc881afaf3db5220c9582fb'),\n",
       "   'overall': 4.0,\n",
       "   'verified': True,\n",
       "   'reviewTime': '12 7, 2010',\n",
       "   'reviewerID': 'A17IS2KTMUBJ52',\n",
       "   'asin': 'B0000Y3NO6',\n",
       "   'reviewerName': 'Rastein',\n",
       "   'reviewText': \"I love the way this tub is setup so you don't waste the product. I like the way this stuff feels however, I am unsure about how well it does getting rid of redness. I kinda feel like though that with redness reducers if my red isn't gone I'm kinda like meh... haha I think it might be something that takes a little while of consistent usage and I don't like using creams all the time. I use it at night after I put the Ain't Misbhavin on because that can make your face feel a bit dry and this helps a ton with that and makes your face feel soft.\\n\\nI have horrible skin issues and am stressed to oblivion at school which always makes my skin way worse than what it normally is. I've used this product about two weeks so far and I have to say, my skins not perfect but its getting there!! Its the closest to perfect it has been since I was about 14 (I'm 22.) I have a lot of cystic acne problems and had read somewhere this was good for hormonal and cystic breakouts. (I'm not saying that is true since I am not a scientist but my face has improved so I wouldn't be surprised if the claim is legit.) Within a week my face improved a lot and for me thats just an incredible thing.\\n\\nJust a side note I used a trio of products not this alone! I think that is important to say. I used the Ain't Misbhavin face wash and gel stuff too.\",\n",
       "   'summary': 'GoodGood',\n",
       "   'unixReviewTime': 1291680000},\n",
       "  {'_id': ObjectId('5dc881afaf3db5220c9582fc'),\n",
       "   'overall': 5.0,\n",
       "   'verified': True,\n",
       "   'reviewTime': '10 17, 2009',\n",
       "   'reviewerID': 'A2JMULWKGCVZPA',\n",
       "   'asin': 'B0000Y3NO6',\n",
       "   'reviewerName': 'C. Kaplan',\n",
       "   'reviewText': \"My wife has some very dry skin on her nose.  This product has taken off the dry patch.  She still has a red tint but is not as noticeable.  I bought some tinted zinc oxide that works to protect her against the sun.  These two product together work well for her. She uses this product on her lips also.  This is my first Amazon review. Don't hesitate about the price.\",\n",
       "   'summary': 'Very good moisturizer',\n",
       "   'unixReviewTime': 1255737600},\n",
       "  {'_id': ObjectId('5dc881afaf3db5220c9582fd'),\n",
       "   'overall': 5.0,\n",
       "   'vote': '9',\n",
       "   'verified': False,\n",
       "   'reviewTime': '07 24, 2010',\n",
       "   'reviewerID': 'A38N2MBXP7IOPS',\n",
       "   'asin': 'B0000Y3NO6',\n",
       "   'reviewerName': 'AmazonAddict',\n",
       "   'reviewText': \"I rarely write reviews. When I do, the product is either terrible or wonderful. It has to be an extreme to prompt me to write. Calm Cool and Corrected is the latter. Fantastic! I have Rosacea. My skin was red and felt rough in certain areas. I put a bit of CCC on the affected areas and, I kid you not, one half hour later my skin texture felt smooth. I put it on every morning and every evening. I've been using it now for about two weeks. I notice such a difference! The redness is much reduced and my skin feels great. It's really worth the money.\",\n",
       "   'summary': 'Fantastic product',\n",
       "   'unixReviewTime': 1279929600},\n",
       "  {'_id': ObjectId('5dc881afaf3db5220c9582fe'),\n",
       "   'overall': 5.0,\n",
       "   'vote': '4',\n",
       "   'verified': False,\n",
       "   'reviewTime': '08 21, 2009',\n",
       "   'reviewerID': 'A3J3P7YCYFFCJT',\n",
       "   'asin': 'B0000Y3NO6',\n",
       "   'reviewerName': 'Nancy Walkoe',\n",
       "   'reviewText': \"I've tried many, and this product really works!  I am a redhead and have always had a problem with ruddiness and rosacea.  I am in my mid-forties and this is the only product that has diminished my redness.  Well worth the money, in my opinion!\",\n",
       "   'summary': 'Fabulous Product!',\n",
       "   'unixReviewTime': 1250812800},\n",
       "  {'_id': ObjectId('5dc881afaf3db5220c9582ff'),\n",
       "   'overall': 4.0,\n",
       "   'vote': '2',\n",
       "   'verified': False,\n",
       "   'reviewTime': '03 12, 2009',\n",
       "   'reviewerID': 'A3NXSM9SGVO0NC',\n",
       "   'asin': 'B0000Y3NO6',\n",
       "   'reviewerName': 'Melissa S. Aguanno',\n",
       "   'reviewText': 'I am 30 years old and have acne as well as rosacea.  I have tried everything over the counter for both problems, and most recently the very expensive laser surgery.  That laser surgery (Isolaz) did NOT work.  Save your money.  It cost me $700 for three treatments and my acne and rosacea were both worse.  I tried this product, even though it is very expensive.  I have been using it for 2 1/2 months, and my acne has improved greatly.  My rosacea is lighter and there are less \"bumps\" in my rosacea.  My skin is not perfect by any means, but it is definitely 70% better than what is has been for the previous 10 years.\\nAlso, it is a great moisturizer.  This is good, because I used to use Clinique\\'s Moisture Surge which is like $40 itself.  So, it sort of kills two birds with one stone.  I like it!',\n",
       "   'summary': 'Pretty Good',\n",
       "   'unixReviewTime': 1236816000},\n",
       "  {'_id': ObjectId('5dc881afaf3db5220c958300'),\n",
       "   'overall': 4.0,\n",
       "   'verified': True,\n",
       "   'reviewTime': '04 18, 2009',\n",
       "   'reviewerID': 'A226FGO8RN8BLY',\n",
       "   'asin': 'B0000Y3NO6',\n",
       "   'reviewerName': 'Pearl',\n",
       "   'reviewText': 'I have been looking for a face product that would address my skin issues: rosacea, acne and de-hydration. I tried this cream after reading the reviews and I am impressed with the results. I have little, to none, redness now (usually noticeable on my cheeks/nose and chin). I did not want to have to use prescribed metro-cream for the rest of my life. Although I really like the results I am seeing with Calm, Cool and Corrected - the down side is the price....I might not always be able to afford this cream and am afraid that I might have to experiment with cheaper brands. I am using this twice a day, but only as a spot treamtment in the morning and then I layer my SPF face cream over it....this makes the cream last about 7 weeks rather than 4 weeks (which is about how long it lasts when you use twice a day on entire face and neck). I still have some unwanted acne, but that is likely partially do my work conditions. I do wish this product was more affordable....in this economy I have to struggle to pay the bills -versus- treating my unwanted (and unsightly, in my own opinion)skin conditions to make myself feel better. I just want to have clear, healthy looking skin...and for now I  will pay what I have to in order to achieve that goal.',\n",
       "   'summary': 'More than I expected',\n",
       "   'unixReviewTime': 1240012800},\n",
       "  {'_id': ObjectId('5dc881afaf3db5220c958301'),\n",
       "   'overall': 1.0,\n",
       "   'vote': '2',\n",
       "   'verified': True,\n",
       "   'reviewTime': '04 26, 2014',\n",
       "   'reviewerID': 'A22ZIG29KHU7V7',\n",
       "   'asin': 'B0000Y3NO6',\n",
       "   'reviewerName': 'Lori A. Howe',\n",
       "   'reviewText': 'This product, which was very expensive, did not calm, cool or correct my facial redness. It made it much worse.',\n",
       "   'summary': 'A Pricey Mistake',\n",
       "   'unixReviewTime': 1398470400},\n",
       "  {'_id': ObjectId('5dc881afaf3db5220c958302'),\n",
       "   'overall': 5.0,\n",
       "   'vote': '3',\n",
       "   'verified': True,\n",
       "   'reviewTime': '07 25, 2007',\n",
       "   'reviewerID': 'A262IG0VJM6GB',\n",
       "   'asin': 'B0000Y3NO6',\n",
       "   'reviewerName': 'Dog Lover',\n",
       "   'reviewText': 'This product is wonderful!  It reduces redness and swelling very quickly to improve the health and appearance of your face.',\n",
       "   'summary': 'Amazing',\n",
       "   'unixReviewTime': 1185321600},\n",
       "  {'_id': ObjectId('5dc881afaf3db5220c958303'),\n",
       "   'overall': 5.0,\n",
       "   'vote': '4',\n",
       "   'verified': True,\n",
       "   'reviewTime': '01 14, 2008',\n",
       "   'reviewerID': 'A3VCY7GQTKA9P9',\n",
       "   'asin': 'B0000Y3NO6',\n",
       "   'reviewerName': 'Tanya',\n",
       "   'reviewText': \"I have rosacea and as I get older it just gets worse.  I've tried over-the-counter and prescription creams and nothing worked.  Finally plopped down the big bucks and figured it was worth a try.  Boy am I glad I did!  I noticed a difference within a week and now don't have to wear foundation all of the time.  This has been a wonderful addition to my medicine chest.\",\n",
       "   'summary': 'Works great for me',\n",
       "   'unixReviewTime': 1200268800},\n",
       "  {'_id': ObjectId('5dc881afaf3db5220c958304'),\n",
       "   'overall': 5.0,\n",
       "   'vote': '4',\n",
       "   'verified': True,\n",
       "   'reviewTime': '01 25, 2009',\n",
       "   'reviewerID': 'A2ETTR1YJJWRR1',\n",
       "   'asin': 'B0000Y3NO6',\n",
       "   'reviewerName': 'Book Collector',\n",
       "   'reviewText': \"Ok.  I admit it.  I was a real sceptic. After 20+ years of Dermatologist appointments, prescripition medications and over the counter remedies I wasn't expecting much.  I've done the antibiotics, the prescription cleansers and even Accutane. I've tried what seems like a bazillion over the counter treatments. What has made it more difficult for me to use products is that I have dry skin.  Products made to treat the acne portion of my Rosacea increase the dryness and redness.  Using a moisterizer or product to reduce the redness makes the acne worse. So I tried this. Not expecting much. And I can't believe it.  It immediately reduced the dryness and redness.  The inflammation improved. And the Acne? Started to heal. Really. I'm not kidding.  This stuff actually works.  As for the many reviewers comments about the price being high.  Think of it this way.  How expensive has it been going to doctors, paying for prescriptions or trying over the counter products you end up throwing out after 3 days?  If it works for you....then the cost is much less than all those other alternatives.\",\n",
       "   'summary': '20+ years of Rosacea',\n",
       "   'unixReviewTime': 1232841600},\n",
       "  {'_id': ObjectId('5dc881afaf3db5220c958305'),\n",
       "   'overall': 5.0,\n",
       "   'vote': '4',\n",
       "   'verified': False,\n",
       "   'reviewTime': '07 17, 2007',\n",
       "   'reviewerID': 'A35EDM5XG3092G',\n",
       "   'asin': 'B0000Y3NO6',\n",
       "   'reviewerName': 'Adri',\n",
       "   'reviewText': 'Last summer my skin suffered a MAJOR Rosacea outbreak thanks to an adverse reaction to some topical medication I was put on.  Nothing my dermatologist gave me helped.  Then, in an act of desparation, I plopped down 85 bucks for this cream, and thank goodness I did; it brought my skin completely back to normal; in just a couple months my skin was radiant and clear!  I am now back to using my normal oil free moisturizer, but if I ever suffer another outbreak, I know where to turn: Calm, Cool & Corrected!',\n",
       "   'summary': 'Saved my Skin!!',\n",
       "   'unixReviewTime': 1184630400},\n",
       "  {'_id': ObjectId('5dc881bfaf3db5220c9cfa49'),\n",
       "   'overall': 5.0,\n",
       "   'verified': True,\n",
       "   'reviewTime': '04 27, 2018',\n",
       "   'reviewerID': 'A26NJQJDQW15VJ',\n",
       "   'asin': 'B0000Y3NO6',\n",
       "   'reviewerName': 'susan',\n",
       "   'reviewText': 'makes my face clearer',\n",
       "   'summary': 'Five Stars',\n",
       "   'unixReviewTime': 1524787200},\n",
       "  {'_id': ObjectId('5dc881bfaf3db5220c9cfa4c'),\n",
       "   'overall': 5.0,\n",
       "   'verified': True,\n",
       "   'reviewTime': '03 13, 2018',\n",
       "   'reviewerID': 'A26BSSSVLL6VRQ',\n",
       "   'asin': 'B0000Y3NO6',\n",
       "   'reviewerName': 'Fatima Alawi ALDrees',\n",
       "   'reviewText': 'I like it and will definitely buy it b4 I am running out of it',\n",
       "   'summary': 'Five Stars',\n",
       "   'unixReviewTime': 1520899200},\n",
       "  {'_id': ObjectId('5dc881bfaf3db5220c9cfa4d'),\n",
       "   'overall': 1.0,\n",
       "   'verified': False,\n",
       "   'reviewTime': '02 12, 2017',\n",
       "   'reviewerID': 'A1NVA3AQ7WIUQF',\n",
       "   'asin': 'B0000Y3NO6',\n",
       "   'reviewerName': 'S Brown',\n",
       "   'reviewText': \"I used this product for about a month.  In that time I did not notice that it calmed my sensitive skin.  In fact, it caused me to break out.  I tried this upon the suggestion of a new esthetician I had seen, but I've since gone back to my previous esthetician and the products she had recommended (Mario Badescu and Eminence).  Both of those brands work much better for my skin type and are more cost-economical as well.\",\n",
       "   'summary': \"Expensive, Didn't Calm my Skin and Caused Breakouts\",\n",
       "   'unixReviewTime': 1486857600},\n",
       "  {'_id': ObjectId('5dc881bfaf3db5220c9cfa4e'),\n",
       "   'overall': 5.0,\n",
       "   'verified': True,\n",
       "   'reviewTime': '11 1, 2016',\n",
       "   'reviewerID': 'A1L2YHEOL3ZU85',\n",
       "   'asin': 'B0000Y3NO6',\n",
       "   'reviewerName': 'Muna Kh A. Alfaresi',\n",
       "   'reviewText': 'very good rosacea',\n",
       "   'summary': 'Five Stars',\n",
       "   'unixReviewTime': 1477958400},\n",
       "  {'_id': ObjectId('5dc881bfaf3db5220c9cfa4f'),\n",
       "   'overall': 5.0,\n",
       "   'verified': True,\n",
       "   'reviewTime': '03 14, 2016',\n",
       "   'reviewerID': 'A2A4HTQHZEPPIJ',\n",
       "   'asin': 'B0000Y3NO6',\n",
       "   'reviewerName': 'Nicole H.',\n",
       "   'reviewText': 'This is for my wife.  Her favorite product - she has bad allergies and this works great along with their skin cleanser.  BEST price around.  Will buy again!',\n",
       "   'summary': 'Her favorite product - she has bad allergies and this works ...',\n",
       "   'unixReviewTime': 1457913600},\n",
       "  {'_id': ObjectId('5dc881bfaf3db5220c9cfa50'),\n",
       "   'overall': 4.0,\n",
       "   'verified': True,\n",
       "   'reviewTime': '03 19, 2015',\n",
       "   'reviewerID': 'A16B6IFUWTWQRO',\n",
       "   'asin': 'B0000Y3NO6',\n",
       "   'reviewerName': 'Vanessa M. Hall',\n",
       "   'reviewText': 'Great product - hard to find in stock in stores.',\n",
       "   'summary': 'Moisturizer',\n",
       "   'unixReviewTime': 1426723200},\n",
       "  {'_id': ObjectId('5dc881bfaf3db5220c9cfa51'),\n",
       "   'overall': 2.0,\n",
       "   'vote': '16',\n",
       "   'verified': True,\n",
       "   'reviewTime': '01 22, 2015',\n",
       "   'reviewerID': 'A1Q4M82OFOIN59',\n",
       "   'asin': 'B0000Y3NO6',\n",
       "   'reviewerName': 'Kristen',\n",
       "   'reviewText': 'Too expensive for what it does. I have mild bumpy rosacea and this product made no difference in my skins appearance and is very expensive. Products that work for me for rosacea are: Topix Glycolix zinc sunscreen, Mario Badesco Aloe Vera Toner, La Roche Posay Toleriane cleanser, nutiva organic coconut oil, and replenix power of three cream--which is the most helpful of all. Listing the products here in case they can help someone else. I have tried bazillions of products and this current mix for me works. Cleanser, toner, power of three cream (let it dry), then sunscreen in day time or coconut oil at night time.',\n",
       "   'summary': 'Too expensive for what it does. I have mild ...',\n",
       "   'unixReviewTime': 1421884800},\n",
       "  {'_id': ObjectId('5dc881bfaf3db5220c9cfa52'),\n",
       "   'overall': 2.0,\n",
       "   'vote': '2',\n",
       "   'verified': False,\n",
       "   'reviewTime': '05 20, 2016',\n",
       "   'reviewerID': 'AZKAJUQZ5SOOL',\n",
       "   'asin': 'B0000Y3NO6',\n",
       "   'reviewerName': 'L. Montoya',\n",
       "   'reviewText': 'I should\\'ve read the ingredients much closer. While DERMAdoctor Calm, Cool & Corrected had some good, basic moisturizing due to the inexpensive Silicones Cyclopentasiloxane, Dimethicone, and Petrolatum...which ALL trap moisture underneath (oil based, NON-biodegradable chemicals). Unfortunately that is not good long term, as the skin can\\'t \"breathe\" and the sloughing off of dead cells (natural exfoliation) is hampered. Unfortunately, I found this out after my cheeks and lower face developed patchiness. But the WORST ingredient to me is the SQUALANE which is from SHARK LIVER OIL (verified) which is obviously harvested from sharks. Not only does that seem unethical -  as \"approximately 3000 sharks are required to produce one ton of squalene\" (source: [...]) - the expensive cost of squalane (refined squalene) being a top ingredient in DERMAdoctor CC&C...is passed on to the consumer. While these ingredients may work for you, I need to look for a different solution.',\n",
       "   'summary': 'SHARK Derived Ingredient',\n",
       "   'unixReviewTime': 1463702400},\n",
       "  {'_id': ObjectId('5dc881bfaf3db5220c9cfa53'),\n",
       "   'overall': 2.0,\n",
       "   'vote': '4',\n",
       "   'verified': False,\n",
       "   'reviewTime': '05 11, 2016',\n",
       "   'reviewerID': 'A3R63SMK7UJUWN',\n",
       "   'asin': 'B0000Y3NO6',\n",
       "   'reviewerName': 'Linda',\n",
       "   'reviewText': \"A good product. I tried to write a review on the Derma Doctor site. They wouldn't let me; so I am going to try to post a review on this site.  As I said above, the product is very good but here is the problem: The last time I received this, the jar was tiny! What use to last 3 months won't even last a month now. I have been using CCC for 7+ years. This last tiny jar had big air bubbles in it. I tried to write this on their site and they wouldn't post it. This makes me think they are only posting the reviews that give CCC a good rating.\",\n",
       "   'summary': 'Jar keeps shrinking.',\n",
       "   'unixReviewTime': 1462924800},\n",
       "  {'_id': ObjectId('5dc881bfaf3db5220c9cfa54'),\n",
       "   'overall': 5.0,\n",
       "   'verified': True,\n",
       "   'reviewTime': '10 19, 2014',\n",
       "   'reviewerID': 'A15MN5YPN020DQ',\n",
       "   'asin': 'B0000Y3NO6',\n",
       "   'reviewerName': 'LexiReview',\n",
       "   'reviewText': 'I was diagnosed with rosacea over 25 years ago; I had been using a prescription cream for the majority of that time, with very limited success (and much frustration).  I tried CC&C on top of my rx with wonderful results; when I use it consistently it makes an enormous change in reducing the redness and clearing up the dry patches. I have been using this product for the last two years. Since then I have completely stopped having the \"mini acne\" that is part of this condition.  This product is now my #1 self-care must have--worth every penny.\\n\\nI looked at my order history for the period I have been using CC&C and I re-order it about every 3-4 months, so I budget about $25 a month for it.',\n",
       "   'summary': 'I tried CC&C on top of my rx with wonderful results; when I use it consistently it makes ...',\n",
       "   'unixReviewTime': 1413676800}]}"
      ]
     },
     "execution_count": 10,
     "metadata": {},
     "output_type": "execute_result"
    }
   ],
   "source": [
    "cursor = db.skin_care_face_prod_rev.find()\n",
    "products = list(cursor)\n",
    "products[0]"
   ]
  },
  {
   "cell_type": "code",
   "execution_count": 11,
   "metadata": {},
   "outputs": [
    {
     "data": {
      "text/html": [
       "<div>\n",
       "<style scoped>\n",
       "    .dataframe tbody tr th:only-of-type {\n",
       "        vertical-align: middle;\n",
       "    }\n",
       "\n",
       "    .dataframe tbody tr th {\n",
       "        vertical-align: top;\n",
       "    }\n",
       "\n",
       "    .dataframe thead th {\n",
       "        text-align: right;\n",
       "    }\n",
       "</style>\n",
       "<table border=\"1\" class=\"dataframe\">\n",
       "  <thead>\n",
       "    <tr style=\"text-align: right;\">\n",
       "      <th></th>\n",
       "      <th>id</th>\n",
       "      <th>asin</th>\n",
       "      <th>product</th>\n",
       "      <th>overall_rating</th>\n",
       "      <th>review_count</th>\n",
       "      <th>description</th>\n",
       "      <th>category2</th>\n",
       "      <th>category3</th>\n",
       "    </tr>\n",
       "  </thead>\n",
       "  <tbody>\n",
       "    <tr>\n",
       "      <td>0</td>\n",
       "      <td>5dc881769f9b98109203bca6</td>\n",
       "      <td>B0000Y3NO6</td>\n",
       "      <td>DERMAdoctor Calm, Cool &amp; Corrected anti-rednes...</td>\n",
       "      <td>3.9</td>\n",
       "      <td>34</td>\n",
       "      <td></td>\n",
       "      <td>Treatments &amp; Masks</td>\n",
       "      <td>Not listed</td>\n",
       "    </tr>\n",
       "    <tr>\n",
       "      <td>1</td>\n",
       "      <td>5dc881769f9b98109203bca9</td>\n",
       "      <td>B00012C5RS</td>\n",
       "      <td>DERMAdoctor Picture Porefect Pore Minimizer, 1...</td>\n",
       "      <td>3.2</td>\n",
       "      <td>27</td>\n",
       "      <td></td>\n",
       "      <td>Exfoliators, Polishes &amp; Scrubs</td>\n",
       "      <td>Exfoliators</td>\n",
       "    </tr>\n",
       "    <tr>\n",
       "      <td>2</td>\n",
       "      <td>5dc881769f9b98109203bcb9</td>\n",
       "      <td>B0001EKTTC</td>\n",
       "      <td>Glytone Rejuvenating Mask, 3 oz.</td>\n",
       "      <td>4.3</td>\n",
       "      <td>26</td>\n",
       "      <td>Promotes a supple texture and bright tone Glyt...</td>\n",
       "      <td>Treatments &amp; Masks</td>\n",
       "      <td>Masks</td>\n",
       "    </tr>\n",
       "    <tr>\n",
       "      <td>3</td>\n",
       "      <td>5dc881769f9b98109203bcc4</td>\n",
       "      <td>B0001EL5Q8</td>\n",
       "      <td>PCA SKIN Rejuvenating Serum, 1 fl. oz.</td>\n",
       "      <td>3.6</td>\n",
       "      <td>55</td>\n",
       "      <td>Formulated with grape fruit stem cell extract ...</td>\n",
       "      <td>Treatments &amp; Masks</td>\n",
       "      <td>Serums</td>\n",
       "    </tr>\n",
       "    <tr>\n",
       "      <td>4</td>\n",
       "      <td>5dc881769f9b98109203bcc5</td>\n",
       "      <td>B0001EL5JA</td>\n",
       "      <td>PCA SKIN  Protecting Hydrator Broad Spectrum S...</td>\n",
       "      <td>4.3</td>\n",
       "      <td>41</td>\n",
       "      <td>This non-oily daily hydrator and sunscreen pr...</td>\n",
       "      <td>Creams &amp; Moisturizers</td>\n",
       "      <td>Face Moisturizers</td>\n",
       "    </tr>\n",
       "  </tbody>\n",
       "</table>\n",
       "</div>"
      ],
      "text/plain": [
       "                         id        asin  \\\n",
       "0  5dc881769f9b98109203bca6  B0000Y3NO6   \n",
       "1  5dc881769f9b98109203bca9  B00012C5RS   \n",
       "2  5dc881769f9b98109203bcb9  B0001EKTTC   \n",
       "3  5dc881769f9b98109203bcc4  B0001EL5Q8   \n",
       "4  5dc881769f9b98109203bcc5  B0001EL5JA   \n",
       "\n",
       "                                             product  overall_rating  \\\n",
       "0  DERMAdoctor Calm, Cool & Corrected anti-rednes...             3.9   \n",
       "1  DERMAdoctor Picture Porefect Pore Minimizer, 1...             3.2   \n",
       "2                   Glytone Rejuvenating Mask, 3 oz.             4.3   \n",
       "3             PCA SKIN Rejuvenating Serum, 1 fl. oz.             3.6   \n",
       "4  PCA SKIN  Protecting Hydrator Broad Spectrum S...             4.3   \n",
       "\n",
       "   review_count                                        description  \\\n",
       "0            34                                                      \n",
       "1            27                                                      \n",
       "2            26  Promotes a supple texture and bright tone Glyt...   \n",
       "3            55  Formulated with grape fruit stem cell extract ...   \n",
       "4            41   This non-oily daily hydrator and sunscreen pr...   \n",
       "\n",
       "                        category2          category3  \n",
       "0              Treatments & Masks         Not listed  \n",
       "1  Exfoliators, Polishes & Scrubs        Exfoliators  \n",
       "2              Treatments & Masks              Masks  \n",
       "3              Treatments & Masks             Serums  \n",
       "4           Creams & Moisturizers  Face Moisturizers  "
      ]
     },
     "execution_count": 11,
     "metadata": {},
     "output_type": "execute_result"
    }
   ],
   "source": [
    "# import product list\n",
    "with open('pickles/product_list.pickle', 'rb') as to_read:\n",
    "    product_list = pickle.load(to_read)\n",
    "\n",
    "product_list.head(5)"
   ]
  },
  {
   "cell_type": "code",
   "execution_count": 12,
   "metadata": {},
   "outputs": [
    {
     "data": {
      "text/plain": [
       "(2269, 8)"
      ]
     },
     "execution_count": 12,
     "metadata": {},
     "output_type": "execute_result"
    }
   ],
   "source": [
    "product_list.shape"
   ]
  },
  {
   "cell_type": "code",
   "execution_count": 13,
   "metadata": {},
   "outputs": [
    {
     "data": {
      "text/plain": [
       "2269"
      ]
     },
     "execution_count": 13,
     "metadata": {},
     "output_type": "execute_result"
    }
   ],
   "source": [
    "product_list['id'].nunique()\n",
    "product_list['asin'].nunique()"
   ]
  },
  {
   "cell_type": "markdown",
   "metadata": {},
   "source": [
    "### cleaning"
   ]
  },
  {
   "cell_type": "code",
   "execution_count": 14,
   "metadata": {},
   "outputs": [
    {
     "data": {
      "text/plain": [
       "'A 5% liquid benzoyl peroxide acne treatment used to spot-treat affected areas, penetrate pores to clear existing acne blemishes and prevent the occurrence of future breakouts. PCA SKIN is a trusted innovator in the development of highly effective skincare products. Our vision is to improve peoples lives by providing results-oriented skin care solutions for the health of your unique skin. '"
      ]
     },
     "execution_count": 14,
     "metadata": {},
     "output_type": "execute_result"
    }
   ],
   "source": [
    "products[8]['description']"
   ]
  },
  {
   "cell_type": "code",
   "execution_count": 15,
   "metadata": {},
   "outputs": [],
   "source": [
    "all_reviews = pd.DataFrame(columns=['asin','reviewer_id','review_id','rating','review_text'])\n",
    "\n",
    "for prod in products:\n",
    "    df = pd.DataFrame()\n",
    "    df['asin'] = [rev['asin'] for rev in prod['reviews']]\n",
    "    df['reviewer_id'] = [rev['reviewerID'] for rev in prod['reviews']]\n",
    "    df['review_id'] = [rev['_id'] for rev in prod['reviews']]\n",
    "    df['rating'] = [rev['overall'] for rev in prod['reviews']]\n",
    "    df['review_text'] = [rev['reviewText'] for rev in prod['reviews']]\n",
    "    all_reviews = pd.concat([all_reviews,df],axis=0,ignore_index=True)\n",
    "    "
   ]
  },
  {
   "cell_type": "code",
   "execution_count": 16,
   "metadata": {},
   "outputs": [
    {
     "name": "stdout",
     "output_type": "stream",
     "text": [
      "84036\n"
     ]
    },
    {
     "data": {
      "text/html": [
       "<div>\n",
       "<style scoped>\n",
       "    .dataframe tbody tr th:only-of-type {\n",
       "        vertical-align: middle;\n",
       "    }\n",
       "\n",
       "    .dataframe tbody tr th {\n",
       "        vertical-align: top;\n",
       "    }\n",
       "\n",
       "    .dataframe thead th {\n",
       "        text-align: right;\n",
       "    }\n",
       "</style>\n",
       "<table border=\"1\" class=\"dataframe\">\n",
       "  <thead>\n",
       "    <tr style=\"text-align: right;\">\n",
       "      <th></th>\n",
       "      <th>asin</th>\n",
       "      <th>reviewer_id</th>\n",
       "      <th>review_id</th>\n",
       "      <th>rating</th>\n",
       "      <th>review_text</th>\n",
       "    </tr>\n",
       "  </thead>\n",
       "  <tbody>\n",
       "    <tr>\n",
       "      <td>84026</td>\n",
       "      <td>B01HGSJPMW</td>\n",
       "      <td>ALUV2YKWZENKK</td>\n",
       "      <td>5dc881bfaf3db5220c9cf9c9</td>\n",
       "      <td>4.0</td>\n",
       "      <td>This smells delicious (like rosehips), goes on...</td>\n",
       "    </tr>\n",
       "    <tr>\n",
       "      <td>84027</td>\n",
       "      <td>B01HGSJPMW</td>\n",
       "      <td>A3RL0RFSSLJGKT</td>\n",
       "      <td>5dc881bfaf3db5220c9cf9cd</td>\n",
       "      <td>4.0</td>\n",
       "      <td>The first thing I noticed when I opened this w...</td>\n",
       "    </tr>\n",
       "    <tr>\n",
       "      <td>84028</td>\n",
       "      <td>B01HGSJPMW</td>\n",
       "      <td>A2PGT5T1M9UJCJ</td>\n",
       "      <td>5dc881c1af3db5220c9e3fe7</td>\n",
       "      <td>5.0</td>\n",
       "      <td>I love the feel of this product on my face is ...</td>\n",
       "    </tr>\n",
       "    <tr>\n",
       "      <td>84029</td>\n",
       "      <td>B01HGSJPMW</td>\n",
       "      <td>AAF5D1LTFGB7L</td>\n",
       "      <td>5dc881c1af3db5220c9e3fe9</td>\n",
       "      <td>5.0</td>\n",
       "      <td>I love all of the Elemis products.</td>\n",
       "    </tr>\n",
       "    <tr>\n",
       "      <td>84030</td>\n",
       "      <td>B01HGSJPMW</td>\n",
       "      <td>A1ZPA7IPK9H6OL</td>\n",
       "      <td>5dc881c1af3db5220c9e3fea</td>\n",
       "      <td>5.0</td>\n",
       "      <td>Wonderful product.  You will see results immed...</td>\n",
       "    </tr>\n",
       "    <tr>\n",
       "      <td>84031</td>\n",
       "      <td>B01HGSJPMW</td>\n",
       "      <td>A1T0YIVHV7PMCA</td>\n",
       "      <td>5dc881c1af3db5220c9e3feb</td>\n",
       "      <td>5.0</td>\n",
       "      <td>My go to Facial Oil, used 2x per day, morning ...</td>\n",
       "    </tr>\n",
       "    <tr>\n",
       "      <td>84032</td>\n",
       "      <td>B01HGSJPMW</td>\n",
       "      <td>A3GFF90WVBT8H2</td>\n",
       "      <td>5dc881c1af3db5220c9e3fec</td>\n",
       "      <td>5.0</td>\n",
       "      <td>Very nice facial oil, will buy again.</td>\n",
       "    </tr>\n",
       "    <tr>\n",
       "      <td>84033</td>\n",
       "      <td>B01HGSJPMW</td>\n",
       "      <td>A1KP9URYX9EFXQ</td>\n",
       "      <td>5dc881c1af3db5220c9e3fed</td>\n",
       "      <td>4.0</td>\n",
       "      <td>I work in an aesthetics practice.  I regularly...</td>\n",
       "    </tr>\n",
       "    <tr>\n",
       "      <td>84034</td>\n",
       "      <td>B01HGSJPMW</td>\n",
       "      <td>AT218D5LS35QU</td>\n",
       "      <td>5dc881c1af3db5220c9e3fee</td>\n",
       "      <td>5.0</td>\n",
       "      <td>I loooove! My skin just eats this up.  Only ne...</td>\n",
       "    </tr>\n",
       "    <tr>\n",
       "      <td>84035</td>\n",
       "      <td>B01HGSJPMW</td>\n",
       "      <td>A1CY917NEV8TAF</td>\n",
       "      <td>5dc881c1af3db5220c9e3fef</td>\n",
       "      <td>5.0</td>\n",
       "      <td>Excellent Product !</td>\n",
       "    </tr>\n",
       "  </tbody>\n",
       "</table>\n",
       "</div>"
      ],
      "text/plain": [
       "             asin     reviewer_id                 review_id  rating  \\\n",
       "84026  B01HGSJPMW   ALUV2YKWZENKK  5dc881bfaf3db5220c9cf9c9     4.0   \n",
       "84027  B01HGSJPMW  A3RL0RFSSLJGKT  5dc881bfaf3db5220c9cf9cd     4.0   \n",
       "84028  B01HGSJPMW  A2PGT5T1M9UJCJ  5dc881c1af3db5220c9e3fe7     5.0   \n",
       "84029  B01HGSJPMW   AAF5D1LTFGB7L  5dc881c1af3db5220c9e3fe9     5.0   \n",
       "84030  B01HGSJPMW  A1ZPA7IPK9H6OL  5dc881c1af3db5220c9e3fea     5.0   \n",
       "84031  B01HGSJPMW  A1T0YIVHV7PMCA  5dc881c1af3db5220c9e3feb     5.0   \n",
       "84032  B01HGSJPMW  A3GFF90WVBT8H2  5dc881c1af3db5220c9e3fec     5.0   \n",
       "84033  B01HGSJPMW  A1KP9URYX9EFXQ  5dc881c1af3db5220c9e3fed     4.0   \n",
       "84034  B01HGSJPMW   AT218D5LS35QU  5dc881c1af3db5220c9e3fee     5.0   \n",
       "84035  B01HGSJPMW  A1CY917NEV8TAF  5dc881c1af3db5220c9e3fef     5.0   \n",
       "\n",
       "                                             review_text  \n",
       "84026  This smells delicious (like rosehips), goes on...  \n",
       "84027  The first thing I noticed when I opened this w...  \n",
       "84028  I love the feel of this product on my face is ...  \n",
       "84029                 I love all of the Elemis products.  \n",
       "84030  Wonderful product.  You will see results immed...  \n",
       "84031  My go to Facial Oil, used 2x per day, morning ...  \n",
       "84032              Very nice facial oil, will buy again.  \n",
       "84033  I work in an aesthetics practice.  I regularly...  \n",
       "84034  I loooove! My skin just eats this up.  Only ne...  \n",
       "84035                                Excellent Product !  "
      ]
     },
     "execution_count": 16,
     "metadata": {},
     "output_type": "execute_result"
    }
   ],
   "source": [
    "print(len(all_reviews))\n",
    "all_reviews.tail(10)\n",
    "# all_reviews['asin'].nunique()"
   ]
  },
  {
   "cell_type": "markdown",
   "metadata": {},
   "source": [
    "### text processing"
   ]
  },
  {
   "cell_type": "code",
   "execution_count": 17,
   "metadata": {},
   "outputs": [
    {
     "data": {
      "text/plain": [
       "(84027, 12)"
      ]
     },
     "execution_count": 17,
     "metadata": {},
     "output_type": "execute_result"
    }
   ],
   "source": [
    "df = pd.merge(product_list,all_reviews,on='asin',how='inner')\n",
    "df.head(5)\n",
    "df.shape"
   ]
  },
  {
   "cell_type": "code",
   "execution_count": 18,
   "metadata": {},
   "outputs": [
    {
     "name": "stdout",
     "output_type": "stream",
     "text": [
      "I am an avid mustela user for me and baby. Mustela is my favorite scent in the world. This is not the same scent as other mustela products.\n"
     ]
    }
   ],
   "source": [
    "print(all_reviews['review_text'][1021])"
   ]
  },
  {
   "cell_type": "code",
   "execution_count": 19,
   "metadata": {},
   "outputs": [
    {
     "name": "stdout",
     "output_type": "stream",
     "text": [
      "I am an avid mustela user for me and baby. Mustela is my favorite scent in the world. This is not the same scent as other mustela products.\n"
     ]
    }
   ],
   "source": [
    "#descriptive reviews: 5\n",
    "#has the phrase 'worth the money': 17\n",
    "print(df['review_text'][1021])"
   ]
  },
  {
   "cell_type": "code",
   "execution_count": 20,
   "metadata": {},
   "outputs": [],
   "source": [
    "#Spelling correction"
   ]
  },
  {
   "cell_type": "code",
   "execution_count": 21,
   "metadata": {},
   "outputs": [],
   "source": [
    "#Compound phrases\n",
    "from nltk.tokenize import word_tokenize\n",
    "from nltk.tokenize import MWETokenizer # multi-word expression\n",
    "\n",
    "# my_text = \"You all are the greatest students of all time.\"\n",
    "# mwe_tokenizer = MWETokenizer([('You','all'), ('of', 'all', 'time')])\n",
    "\n",
    "# mwe_tokens = mwe_tokenizer.tokenize(word_tokenize(my_text))\n",
    "# ' '.join(mwe_tokens)\n",
    "\n",
    "mwe_tokenizer = MWETokenizer([('times','a','day'),('holy','grail'),('t','zone')])\n",
    "\n"
   ]
  },
  {
   "cell_type": "code",
   "execution_count": 22,
   "metadata": {},
   "outputs": [],
   "source": [
    "#Proper nouns\n",
    "#list of brand names\n",
    "#list of products\n"
   ]
  },
  {
   "cell_type": "code",
   "execution_count": 23,
   "metadata": {},
   "outputs": [],
   "source": [
    "# Text preprocessing steps - remove numbers, captial letters and punctuation\n",
    "import re\n",
    "import string\n",
    "\n",
    "remove_links = lambda x: re.sub('<[^<]+?>', '', x)\n",
    "alphanumeric = lambda x: re.sub('\\w*\\d\\w*', ' ', x)\n",
    "punc_lower = lambda x: re.sub('[%s]' % re.escape(string.punctuation), ' ', x.lower())\n",
    "\n",
    "#custom stop words\n",
    "more_stop_words = lambda x: re.sub('oz|ml|mls|ounce|ounces','',x)\n",
    "more_stop_words2 = lambda x: re.sub('use|using|product|products|work|works|working|buy|buys|buying|stuff|good|excellent|great|bad|terrible|like|love|really','',x)\n",
    "\n",
    "#custom replacements\n",
    "# 'T-zone','t zone'\n",
    "mwe = lambda x: ' '.join(mwe_tokenizer.tokenize(word_tokenize(x)))\n",
    "\n",
    "\n",
    "df['review_text'] = df.review_text.map(remove_links).map(alphanumeric).map(punc_lower).map(more_stop_words).map(more_stop_words2).map(mwe)"
   ]
  },
  {
   "cell_type": "code",
   "execution_count": 24,
   "metadata": {},
   "outputs": [],
   "source": [
    "# Stemmers\n",
    "\n",
    "# stemmer = LancasterStemmer()\n",
    "# stemmer = PorterStemmer\n",
    "# stemmer = SnowballStemmer('english')\n",
    "# lemmatizer = WordNetLemmatizer()\n",
    "\n",
    "# df['review_text']=[' '.join([stemmer.stem(word) for word in text.split(' ')])\n",
    "#           for text in df['review_text']]"
   ]
  },
  {
   "cell_type": "code",
   "execution_count": 25,
   "metadata": {},
   "outputs": [
    {
     "name": "stdout",
     "output_type": "stream",
     "text": [
      "i think this is a i don t the smell as much as the hydra bebe s so i am taking a star off i don t think the smell is but my husband thinks it smells jalapenos i definitely don t but i guess every nose is different and it is something to consider if you are considering a purchase i don t it as shampoo only body wash on my month old she s baths so we do one every night as part of her bedtime routine i wanted a mild body cleanser and this is it keeps her skin soft and hydrated but i do also the hydra bebe after her bath i would order again\n"
     ]
    }
   ],
   "source": [
    "#check\n",
    "print(df.iloc[1018][11])"
   ]
  },
  {
   "cell_type": "code",
   "execution_count": 26,
   "metadata": {},
   "outputs": [],
   "source": [
    "# for i,_ in enumerate(df.iterrows()):\n",
    "#     if 'href' in df['review_text'][i]:\n",
    "#         print(i,df['review_id'][i],df['review_text'][i])\n",
    "#         pass"
   ]
  },
  {
   "cell_type": "code",
   "execution_count": 27,
   "metadata": {},
   "outputs": [],
   "source": [
    "# test = db.skin_care_face_reviews.find({'_id':ObjectId('5dc881afaf3db5220c9584e4')},)\n",
    "# list(test)"
   ]
  },
  {
   "cell_type": "code",
   "execution_count": 28,
   "metadata": {},
   "outputs": [],
   "source": [
    "# df.iloc[1][1]\n",
    "df_low = df.loc[df['rating']<=2] \n",
    "df_high = df.loc[df['rating']>=3]"
   ]
  },
  {
   "cell_type": "code",
   "execution_count": 29,
   "metadata": {},
   "outputs": [
    {
     "name": "stdout",
     "output_type": "stream",
     "text": [
      "Cleansers (21763, 12)\n",
      "Creams & Moisturizers (30958, 12)\n",
      "Toners & Astringents (5852, 12)\n",
      "Exfoliators, Polishes & Scrubs (2160, 12)\n",
      "Treatments & Masks (19032, 12)\n"
     ]
    }
   ],
   "source": [
    "# dataframes by category\n",
    "\n",
    "def df_cat(category):\n",
    "    df1 = df.loc[df['category2']==category]\n",
    "    print(category, df1.shape)\n",
    "    return df1\n",
    "\n",
    "df_cleanser = df_cat('Cleansers')\n",
    "df_moisturizer = df_cat('Creams & Moisturizers')\n",
    "df_toner = df_cat('Toners & Astringents')\n",
    "df_EPS = df_cat('Exfoliators, Polishes & Scrubs')\n",
    "df_tx = df_cat('Treatments & Masks')"
   ]
  },
  {
   "cell_type": "code",
   "execution_count": 30,
   "metadata": {},
   "outputs": [
    {
     "name": "stdout",
     "output_type": "stream",
     "text": [
      "(3877, 12) (17886, 12)\n"
     ]
    }
   ],
   "source": [
    "df_cleanser_low = df_cleanser.loc[df_cleanser['rating']<=3] \n",
    "df_cleanser_high = df_cleanser.loc[df_cleanser['rating']>=4]\n",
    "print(df_cleanser_low.shape,df_cleanser_high.shape)"
   ]
  },
  {
   "cell_type": "code",
   "execution_count": 31,
   "metadata": {},
   "outputs": [],
   "source": [
    "# save out link_list\n",
    "with open('pickles/review_list.pickle', 'wb') as to_write:\n",
    "    pickle.dump(df, to_write)"
   ]
  },
  {
   "cell_type": "markdown",
   "metadata": {},
   "source": [
    "### Count Vectorizer"
   ]
  },
  {
   "cell_type": "code",
   "execution_count": 33,
   "metadata": {},
   "outputs": [
    {
     "data": {
      "text/plain": [
       "(1000, 2965)"
      ]
     },
     "execution_count": 33,
     "metadata": {},
     "output_type": "execute_result"
    }
   ],
   "source": [
    "# The first document-term matrix has default Count Vectorizer values - counts of unigrams\n",
    "cv1 = CountVectorizer(stop_words='english')\n",
    "\n",
    "rev_cv1 = cv1.fit_transform(df_cleanser['review_text'][0:1000])\n",
    "\n",
    "rev_cv1_matrix = pd.DataFrame(rev_cv1.toarray(),columns=cv1.get_feature_names())\n",
    "# rev_cv1_matrix.head(5)\n",
    "rev_cv1_matrix.shape"
   ]
  },
  {
   "cell_type": "code",
   "execution_count": 85,
   "metadata": {},
   "outputs": [
    {
     "data": {
      "text/plain": [
       "(1000, 8306)"
      ]
     },
     "execution_count": 85,
     "metadata": {},
     "output_type": "execute_result"
    }
   ],
   "source": [
    "cv2 = CountVectorizer(ngram_range=(1,2), binary=True, stop_words='english')\n",
    "\n",
    "rev_cv2 = cv2.fit_transform(df_cleanser['review_text'][0:1000])\n",
    "\n",
    "rev_cv2_matrix = pd.DataFrame(rev_cv2.toarray(),columns=cv2.get_feature_names())\n",
    "# rev_cv2_matrix.head(5)\n",
    "rev_cv2_matrix.shape"
   ]
  },
  {
   "cell_type": "markdown",
   "metadata": {},
   "source": [
    "### TD-IDF"
   ]
  },
  {
   "cell_type": "code",
   "execution_count": 30,
   "metadata": {},
   "outputs": [],
   "source": []
  },
  {
   "cell_type": "code",
   "execution_count": 87,
   "metadata": {},
   "outputs": [
    {
     "data": {
      "text/plain": [
       "(1000, 1824)"
      ]
     },
     "execution_count": 87,
     "metadata": {},
     "output_type": "execute_result"
    }
   ],
   "source": [
    "# Create TF-IDF versions of the Count Vectorizers created earlier in the exercise\n",
    "tfidf1 = TfidfVectorizer(stop_words='english')\n",
    "\n",
    "rev_td1 = tfidf1.fit_transform(df_cleanser['review_text'][0:1000])\n",
    "rev_td1_matrix = pd.DataFrame(rev_td1.toarray(),columns=tfidf1.get_feature_names())\n",
    "# rev_td1_matrix.head(5)\n",
    "rev_td1_matrix.shape"
   ]
  },
  {
   "cell_type": "code",
   "execution_count": 94,
   "metadata": {},
   "outputs": [
    {
     "data": {
      "text/plain": [
       "(1000, 4680)"
      ]
     },
     "execution_count": 94,
     "metadata": {},
     "output_type": "execute_result"
    }
   ],
   "source": [
    "tfidf2 = TfidfVectorizer(ngram_range=(1,2), binary=False, stop_words='english', min_df = 3)\n",
    "\n",
    "rev_td2 = tfidf2.fit_transform(df_tx['review_text'][0:1000])\n",
    "rev_td2_matrix = pd.DataFrame(rev_td2.toarray(),columns=tfidf2.get_feature_names())\n",
    "# rev_td2_matrix.head(5)\n",
    "rev_td2_matrix.shape"
   ]
  },
  {
   "cell_type": "markdown",
   "metadata": {},
   "source": [
    "### Topic Modeling"
   ]
  },
  {
   "cell_type": "code",
   "execution_count": 31,
   "metadata": {},
   "outputs": [],
   "source": []
  },
  {
   "cell_type": "code",
   "execution_count": 33,
   "metadata": {},
   "outputs": [],
   "source": [
    "def display_topics(model, feature_names, no_top_words, topic_names=None):\n",
    "    for ix, topic in enumerate(model.components_):\n",
    "        if not topic_names or not topic_names[ix]:\n",
    "            print(\"\\nTopic \", ix)\n",
    "        else:\n",
    "            print(\"\\nTopic: '\",topic_names[ix],\"'\")\n",
    "        print(\", \".join([feature_names[i]\n",
    "                        for i in topic.argsort()[:-no_top_words - 1:-1]]))"
   ]
  },
  {
   "cell_type": "markdown",
   "metadata": {},
   "source": [
    "#### Compare variances"
   ]
  },
  {
   "cell_type": "code",
   "execution_count": null,
   "metadata": {},
   "outputs": [],
   "source": [
    "# vectors = [rev_cv_matrix, rev_cv2_matrix, rev_td_matrix, rev_td2_matrix]\n",
    "vectors = [rev_cv_matrix]\n",
    "for vec in vectors:\n",
    "    lsa = TruncatedSVD(5)\n",
    "    lsa.fit_transform(vec)\n",
    "    print(lsa.explained_variance_ratio_)"
   ]
  },
  {
   "cell_type": "markdown",
   "metadata": {},
   "source": [
    "#### Display topics"
   ]
  },
  {
   "cell_type": "code",
   "execution_count": 95,
   "metadata": {},
   "outputs": [
    {
     "name": "stdout",
     "output_type": "stream",
     "text": [
      "\n",
      "Topic  0\n",
      "skin, sensitive, sensitive skin, oily, oily skin, dry, dry skin, didn, cream, pca\n",
      "\n",
      "Topic  1\n",
      "years, ve years, ve, favorite years, favorite, day years, ve day, better skin, day, better\n",
      "\n",
      "Topic  2\n",
      "face, wash, cleanser, face wash, bottle, facial, does, clean, facial cleanser, doesn\n"
     ]
    }
   ],
   "source": [
    "# NMF\n",
    "\n",
    "vectors = [rev_td2_matrix]\n",
    "vectorizers = [tfidf2]\n",
    "\n",
    "for i,vec in enumerate(vectors):\n",
    "    nmf = NMF(3)\n",
    "    nmf.fit_transform(vec)\n",
    "#     print(nmf.explained_variance_ratio_)\n",
    "#     topic_word = pd.DataFrame(lsa.components_.round(3),\n",
    "# #              index = [\"component_1\",\"component_2\",\"component_3\"],\n",
    "#              columns = cv1.get_feature_names())\n",
    "#     print(topic_word)\n",
    "    display_topics(nmf, vectorizers[i].get_feature_names(), 10)"
   ]
  },
  {
   "cell_type": "code",
   "execution_count": 89,
   "metadata": {},
   "outputs": [
    {
     "name": "stdout",
     "output_type": "stream",
     "text": [
      "[0.13172661 0.04712319 0.03478123]\n",
      "\n",
      "Topic  0\n",
      "skin, acne, cream, pca, really, face, day, just, dry, little\n",
      "\n",
      "Topic  1\n",
      "skin, nbsp, baby, said, wash, service, looks, neova, best, fresh\n",
      "\n",
      "Topic  2\n",
      "baby, scent, like, love, just, mustela, smell, face, little, old\n",
      "[0.03143141 0.03045427 0.0272021 ]\n",
      "\n",
      "Topic  0\n",
      "skin, acne, face, cream, really, pca, just, little, like, days\n",
      "\n",
      "Topic  1\n",
      "radiant, neova, radiant skin, service, customer service, idea, early, fresh, treated, followed\n",
      "\n",
      "Topic  2\n",
      "acne scars, online, scars, believe, price little, old acne, visible, gotten, pricey, beauty\n",
      "[0.00970453 0.02999891 0.02330085]\n",
      "\n",
      "Topic  0\n",
      "secrets, mild, perception, acne, faithful, hesitant, comfortable, phase, extremely, rinses\n",
      "\n",
      "Topic  1\n",
      "secrets, faithful, medicine, money, competitive, dispenses, acts, doctor, experiencing, felt\n",
      "\n",
      "Topic  2\n",
      "faithful, hesitant, phase, avid, disorders, extremely, old, infection, chanel, expected\n",
      "[0.00391598 0.01116866 0.00873359]\n",
      "\n",
      "Topic  0\n",
      "love, skin, acne, cream, smell, face, pca, acne cream, really, years\n",
      "\n",
      "Topic  1\n",
      "love, smell, love smell, years love, baby, received, quick, item received, transaction, ship item\n",
      "\n",
      "Topic  2\n",
      "acne, acne cream, cream, helps, love, pca, effective, cream effective, effective helps, spot\n"
     ]
    }
   ],
   "source": [
    "# Acronynms: Latent Semantic Analysis (LSA) is just another name for \n",
    "#  Signular Value Decomposition (SVD) applied to Natural Language Processing (NLP)\n",
    "\n",
    "vectors = [rev_cv1_matrix, rev_cv2_matrix, rev_td_matrix, rev_td2_matrix]\n",
    "vectorizers = [cv1,cv2,tfidf1,tfidf2]\n",
    "# vectors = [rev_cv1_matrix,rev_cv2_matrix]\n",
    "# vectorizers = [cv1,cv2]\n",
    "\n",
    "for i,vec in enumerate(vectors):\n",
    "    lsa = TruncatedSVD(3)\n",
    "    lsa.fit_transform(vec)\n",
    "    print(lsa.explained_variance_ratio_)\n",
    "#     topic_word = pd.DataFrame(lsa.components_.round(3),\n",
    "# #              index = [\"component_1\",\"component_2\",\"component_3\"],\n",
    "#              columns = cv1.get_feature_names())\n",
    "#     print(topic_word)\n",
    "    display_topics(lsa, vectorizers[i].get_feature_names(), 10)"
   ]
  },
  {
   "cell_type": "code",
   "execution_count": 90,
   "metadata": {},
   "outputs": [],
   "source": [
    "# comparing high and low\n",
    "tfidf2_high = TfidfVectorizer(ngram_range=(1,3), binary=True, stop_words='english')\n",
    "rev_td2_high = tfidf2_high.fit_transform(df_cleanser_high['review_text'][0:1000])\n",
    "rev_td2_high_matrix = pd.DataFrame(rev_td2_high.toarray(),columns=tfidf2_high.get_feature_names())\n",
    "\n",
    "tfidf2_low = TfidfVectorizer(ngram_range=(1,3), binary=True, stop_words='english')\n",
    "rev_td2_low = tfidf2_low.fit_transform(df_cleanser_low['review_text'])\n",
    "rev_td2_low_matrix = pd.DataFrame(rev_td2_low.toarray(),columns=tfidf2_low.get_feature_names())"
   ]
  },
  {
   "cell_type": "code",
   "execution_count": 91,
   "metadata": {},
   "outputs": [
    {
     "name": "stdout",
     "output_type": "stream",
     "text": [
      "[0.00090668 0.00365253 0.00269552]\n",
      "\n",
      "Topic  0\n",
      "skin, did, like, smell, ok, face, didn, does, don, really\n",
      "\n",
      "Topic  1\n",
      "ok, just ok, ok couldn raves, ok couldn, couldn raves, ok does, raves, ok does lather, does lather, ok moisturizing\n",
      "\n",
      "Topic  2\n",
      "smell, doesn smell, doesn, smell strong, strong, nice smell, nice, like smell, know, did like smell\n",
      "[0.01173085 0.00508871 0.00763634]\n",
      "\n",
      "Topic  0\n",
      "love, love smell, smell, years love, years, skin, baby, gentle, mustela, nice\n",
      "\n",
      "Topic  1\n",
      "skin, acne, sensitive, sensitive skin, cream, face, pca, really, little, long\n",
      "\n",
      "Topic  2\n",
      "received, thank, item, received described, ship, received described love, transaction, future thank smooth, quick ship item, quick ship\n"
     ]
    }
   ],
   "source": [
    "# Acronynms: Latent Semantic Analysis (LSA) is just another name for \n",
    "#  Signular Value Decomposition (SVD) applied to Natural Language Processing (NLP)\n",
    "\n",
    "vectors = [rev_td2_low_matrix,rev_td2_high_matrix]\n",
    "vectorizers = [tfidf2_low,tfidf2_high]\n",
    "\n",
    "for i,vec in enumerate(vectors):\n",
    "    lsa = TruncatedSVD(3)\n",
    "    lsa.fit_transform(vec)\n",
    "    print(lsa.explained_variance_ratio_)\n",
    "#     topic_word = pd.DataFrame(lsa.components_.round(3),\n",
    "# #              index = [\"component_1\",\"component_2\",\"component_3\"],\n",
    "#              columns = cv1.get_feature_names())\n",
    "#     print(topic_word)\n",
    "    display_topics(lsa, vectorizers[i].get_feature_names(), 10)"
   ]
  },
  {
   "cell_type": "code",
   "execution_count": 98,
   "metadata": {},
   "outputs": [
    {
     "name": "stdout",
     "output_type": "stream",
     "text": [
      "\n",
      "Topic  0\n",
      "acne, cream, acne cream, pca, ed, skin, helps, spot, really, face\n",
      "\n",
      "Topic  1\n",
      "love, smell, love smell, years love, baby, mustela, years, love mustela, scent, ve\n",
      "\n",
      "Topic  2\n",
      "skin, gentle, sensitive, nice, sensitive skin, way, little, long, leaves, cleanser\n",
      "\n",
      "Topic  3\n",
      "received, item, thank, ship item, future thank, quick ship, smooth transaction, ship, described love, item received\n"
     ]
    }
   ],
   "source": [
    "# Acronynms: Latent Semantic Analysis (LSA) is just another name for \n",
    "#  Signular Value Decomposition (SVD) applied to Natural Language Processing (NLP)\n",
    "\n",
    "# vectors = [rev_td2_low_matrix,rev_td2_high_matrix]\n",
    "# vectorizers = [tfidf2_low,tfidf2_high]\n",
    "\n",
    "# vectors = [rev_cv1_matrix, rev_cv2_matrix, rev_td_matrix, rev_td2_matrix]\n",
    "# vectorizers = [cv1,cv2,tfidf1,tfidf2]\n",
    "vectors = [rev_td2_matrix]\n",
    "vectorizers = [tfidf2]\n",
    "\n",
    "for i,vec in enumerate(vectors):\n",
    "    nmf = NMF(4)\n",
    "    nmf.fit_transform(vec)\n",
    "#     print(nmf.explained_variance_ratio_)\n",
    "#     topic_word = pd.DataFrame(lsa.components_.round(3),\n",
    "# #              index = [\"component_1\",\"component_2\",\"component_3\"],\n",
    "#              columns = cv1.get_feature_names())\n",
    "#     print(topic_word)\n",
    "    display_topics(nmf, vectorizers[i].get_feature_names(), 10)"
   ]
  },
  {
   "cell_type": "markdown",
   "metadata": {},
   "source": [
    "### Count vectorize all reviews"
   ]
  },
  {
   "cell_type": "code",
   "execution_count": 76,
   "metadata": {},
   "outputs": [
    {
     "data": {
      "text/plain": [
       "(84027, 11790)"
      ]
     },
     "execution_count": 76,
     "metadata": {},
     "output_type": "execute_result"
    }
   ],
   "source": [
    "# The first document-term matrix has default Count Vectorizer values - counts of unigrams\n",
    "cv3 = CountVectorizer(stop_words='english', min_df=3)\n",
    "\n",
    "rev_cv3 = cv3.fit_transform(df['review_text'])\n",
    "\n",
    "rev_cv3_matrix = pd.DataFrame(rev_cv3.toarray(),columns=cv3.get_feature_names())\n",
    "\n",
    "rev_cv3_matrix.shape"
   ]
  },
  {
   "cell_type": "code",
   "execution_count": 77,
   "metadata": {},
   "outputs": [
    {
     "data": {
      "text/html": [
       "<div>\n",
       "<style scoped>\n",
       "    .dataframe tbody tr th:only-of-type {\n",
       "        vertical-align: middle;\n",
       "    }\n",
       "\n",
       "    .dataframe tbody tr th {\n",
       "        vertical-align: top;\n",
       "    }\n",
       "\n",
       "    .dataframe thead th {\n",
       "        text-align: right;\n",
       "    }\n",
       "</style>\n",
       "<table border=\"1\" class=\"dataframe\">\n",
       "  <thead>\n",
       "    <tr style=\"text-align: right;\">\n",
       "      <th></th>\n",
       "      <th>aa</th>\n",
       "      <th>aaa</th>\n",
       "      <th>aactin</th>\n",
       "      <th>ab</th>\n",
       "      <th>aback</th>\n",
       "      <th>abandon</th>\n",
       "      <th>abandoned</th>\n",
       "      <th>abated</th>\n",
       "      <th>abc</th>\n",
       "      <th>abd</th>\n",
       "      <th>...</th>\n",
       "      <th>zingiber</th>\n",
       "      <th>zip</th>\n",
       "      <th>ziplock</th>\n",
       "      <th>zirh</th>\n",
       "      <th>zit</th>\n",
       "      <th>zits</th>\n",
       "      <th>zone</th>\n",
       "      <th>zones</th>\n",
       "      <th>zoom</th>\n",
       "      <th>zyme</th>\n",
       "    </tr>\n",
       "  </thead>\n",
       "  <tbody>\n",
       "    <tr>\n",
       "      <td>0</td>\n",
       "      <td>0</td>\n",
       "      <td>0</td>\n",
       "      <td>0</td>\n",
       "      <td>0</td>\n",
       "      <td>0</td>\n",
       "      <td>0</td>\n",
       "      <td>0</td>\n",
       "      <td>0</td>\n",
       "      <td>0</td>\n",
       "      <td>0</td>\n",
       "      <td>...</td>\n",
       "      <td>0</td>\n",
       "      <td>0</td>\n",
       "      <td>0</td>\n",
       "      <td>0</td>\n",
       "      <td>0</td>\n",
       "      <td>0</td>\n",
       "      <td>0</td>\n",
       "      <td>0</td>\n",
       "      <td>0</td>\n",
       "      <td>0</td>\n",
       "    </tr>\n",
       "    <tr>\n",
       "      <td>1</td>\n",
       "      <td>0</td>\n",
       "      <td>0</td>\n",
       "      <td>0</td>\n",
       "      <td>0</td>\n",
       "      <td>0</td>\n",
       "      <td>0</td>\n",
       "      <td>0</td>\n",
       "      <td>0</td>\n",
       "      <td>0</td>\n",
       "      <td>0</td>\n",
       "      <td>...</td>\n",
       "      <td>0</td>\n",
       "      <td>0</td>\n",
       "      <td>0</td>\n",
       "      <td>0</td>\n",
       "      <td>0</td>\n",
       "      <td>0</td>\n",
       "      <td>0</td>\n",
       "      <td>0</td>\n",
       "      <td>0</td>\n",
       "      <td>0</td>\n",
       "    </tr>\n",
       "    <tr>\n",
       "      <td>2</td>\n",
       "      <td>0</td>\n",
       "      <td>0</td>\n",
       "      <td>0</td>\n",
       "      <td>0</td>\n",
       "      <td>0</td>\n",
       "      <td>0</td>\n",
       "      <td>0</td>\n",
       "      <td>0</td>\n",
       "      <td>0</td>\n",
       "      <td>0</td>\n",
       "      <td>...</td>\n",
       "      <td>0</td>\n",
       "      <td>0</td>\n",
       "      <td>0</td>\n",
       "      <td>0</td>\n",
       "      <td>0</td>\n",
       "      <td>0</td>\n",
       "      <td>0</td>\n",
       "      <td>0</td>\n",
       "      <td>0</td>\n",
       "      <td>0</td>\n",
       "    </tr>\n",
       "    <tr>\n",
       "      <td>3</td>\n",
       "      <td>0</td>\n",
       "      <td>0</td>\n",
       "      <td>0</td>\n",
       "      <td>0</td>\n",
       "      <td>0</td>\n",
       "      <td>0</td>\n",
       "      <td>0</td>\n",
       "      <td>0</td>\n",
       "      <td>0</td>\n",
       "      <td>0</td>\n",
       "      <td>...</td>\n",
       "      <td>0</td>\n",
       "      <td>0</td>\n",
       "      <td>0</td>\n",
       "      <td>0</td>\n",
       "      <td>0</td>\n",
       "      <td>0</td>\n",
       "      <td>0</td>\n",
       "      <td>0</td>\n",
       "      <td>0</td>\n",
       "      <td>0</td>\n",
       "    </tr>\n",
       "    <tr>\n",
       "      <td>4</td>\n",
       "      <td>0</td>\n",
       "      <td>0</td>\n",
       "      <td>0</td>\n",
       "      <td>0</td>\n",
       "      <td>0</td>\n",
       "      <td>0</td>\n",
       "      <td>0</td>\n",
       "      <td>0</td>\n",
       "      <td>0</td>\n",
       "      <td>0</td>\n",
       "      <td>...</td>\n",
       "      <td>0</td>\n",
       "      <td>0</td>\n",
       "      <td>0</td>\n",
       "      <td>0</td>\n",
       "      <td>0</td>\n",
       "      <td>0</td>\n",
       "      <td>0</td>\n",
       "      <td>0</td>\n",
       "      <td>0</td>\n",
       "      <td>0</td>\n",
       "    </tr>\n",
       "  </tbody>\n",
       "</table>\n",
       "<p>5 rows × 11790 columns</p>\n",
       "</div>"
      ],
      "text/plain": [
       "   aa  aaa  aactin  ab  aback  abandon  abandoned  abated  abc  abd  ...  \\\n",
       "0   0    0       0   0      0        0          0       0    0    0  ...   \n",
       "1   0    0       0   0      0        0          0       0    0    0  ...   \n",
       "2   0    0       0   0      0        0          0       0    0    0  ...   \n",
       "3   0    0       0   0      0        0          0       0    0    0  ...   \n",
       "4   0    0       0   0      0        0          0       0    0    0  ...   \n",
       "\n",
       "   zingiber  zip  ziplock  zirh  zit  zits  zone  zones  zoom  zyme  \n",
       "0         0    0        0     0    0     0     0      0     0     0  \n",
       "1         0    0        0     0    0     0     0      0     0     0  \n",
       "2         0    0        0     0    0     0     0      0     0     0  \n",
       "3         0    0        0     0    0     0     0      0     0     0  \n",
       "4         0    0        0     0    0     0     0      0     0     0  \n",
       "\n",
       "[5 rows x 11790 columns]"
      ]
     },
     "execution_count": 77,
     "metadata": {},
     "output_type": "execute_result"
    }
   ],
   "source": [
    "rev_cv3_matrix.head(5)"
   ]
  },
  {
   "cell_type": "code",
   "execution_count": 43,
   "metadata": {},
   "outputs": [],
   "source": [
    "# for i in df['review_text']:\n",
    "#     if '00' in i:\n",
    "#         print(i)"
   ]
  },
  {
   "cell_type": "code",
   "execution_count": 44,
   "metadata": {},
   "outputs": [
    {
     "data": {
      "text/plain": [
       "(84027, 11790)"
      ]
     },
     "execution_count": 44,
     "metadata": {},
     "output_type": "execute_result"
    }
   ],
   "source": [
    "tfidf3 = TfidfVectorizer(stop_words='english', min_df = 3)\n",
    "\n",
    "rev_td3 = tfidf3.fit_transform(df['review_text'])\n",
    "rev_td3_matrix = pd.DataFrame(rev_td3.toarray(),columns=tfidf3.get_feature_names())\n",
    "# rev_td3_matrix.head(5)\n",
    "rev_td3_matrix.shape"
   ]
  },
  {
   "cell_type": "code",
   "execution_count": 45,
   "metadata": {
    "scrolled": true
   },
   "outputs": [
    {
     "data": {
      "text/html": [
       "<div>\n",
       "<style scoped>\n",
       "    .dataframe tbody tr th:only-of-type {\n",
       "        vertical-align: middle;\n",
       "    }\n",
       "\n",
       "    .dataframe tbody tr th {\n",
       "        vertical-align: top;\n",
       "    }\n",
       "\n",
       "    .dataframe thead th {\n",
       "        text-align: right;\n",
       "    }\n",
       "</style>\n",
       "<table border=\"1\" class=\"dataframe\">\n",
       "  <thead>\n",
       "    <tr style=\"text-align: right;\">\n",
       "      <th></th>\n",
       "      <th>aa</th>\n",
       "      <th>aaa</th>\n",
       "      <th>aactin</th>\n",
       "      <th>ab</th>\n",
       "      <th>aback</th>\n",
       "      <th>abandon</th>\n",
       "      <th>abandoned</th>\n",
       "      <th>abated</th>\n",
       "      <th>abc</th>\n",
       "      <th>abd</th>\n",
       "      <th>...</th>\n",
       "      <th>zingiber</th>\n",
       "      <th>zip</th>\n",
       "      <th>ziplock</th>\n",
       "      <th>zirh</th>\n",
       "      <th>zit</th>\n",
       "      <th>zits</th>\n",
       "      <th>zone</th>\n",
       "      <th>zones</th>\n",
       "      <th>zoom</th>\n",
       "      <th>zyme</th>\n",
       "    </tr>\n",
       "  </thead>\n",
       "  <tbody>\n",
       "    <tr>\n",
       "      <td>0</td>\n",
       "      <td>0.0</td>\n",
       "      <td>0.0</td>\n",
       "      <td>0.0</td>\n",
       "      <td>0.0</td>\n",
       "      <td>0.0</td>\n",
       "      <td>0.0</td>\n",
       "      <td>0.0</td>\n",
       "      <td>0.0</td>\n",
       "      <td>0.0</td>\n",
       "      <td>0.0</td>\n",
       "      <td>...</td>\n",
       "      <td>0.0</td>\n",
       "      <td>0.0</td>\n",
       "      <td>0.0</td>\n",
       "      <td>0.0</td>\n",
       "      <td>0.0</td>\n",
       "      <td>0.0</td>\n",
       "      <td>0.0</td>\n",
       "      <td>0.0</td>\n",
       "      <td>0.0</td>\n",
       "      <td>0.0</td>\n",
       "    </tr>\n",
       "    <tr>\n",
       "      <td>1</td>\n",
       "      <td>0.0</td>\n",
       "      <td>0.0</td>\n",
       "      <td>0.0</td>\n",
       "      <td>0.0</td>\n",
       "      <td>0.0</td>\n",
       "      <td>0.0</td>\n",
       "      <td>0.0</td>\n",
       "      <td>0.0</td>\n",
       "      <td>0.0</td>\n",
       "      <td>0.0</td>\n",
       "      <td>...</td>\n",
       "      <td>0.0</td>\n",
       "      <td>0.0</td>\n",
       "      <td>0.0</td>\n",
       "      <td>0.0</td>\n",
       "      <td>0.0</td>\n",
       "      <td>0.0</td>\n",
       "      <td>0.0</td>\n",
       "      <td>0.0</td>\n",
       "      <td>0.0</td>\n",
       "      <td>0.0</td>\n",
       "    </tr>\n",
       "    <tr>\n",
       "      <td>2</td>\n",
       "      <td>0.0</td>\n",
       "      <td>0.0</td>\n",
       "      <td>0.0</td>\n",
       "      <td>0.0</td>\n",
       "      <td>0.0</td>\n",
       "      <td>0.0</td>\n",
       "      <td>0.0</td>\n",
       "      <td>0.0</td>\n",
       "      <td>0.0</td>\n",
       "      <td>0.0</td>\n",
       "      <td>...</td>\n",
       "      <td>0.0</td>\n",
       "      <td>0.0</td>\n",
       "      <td>0.0</td>\n",
       "      <td>0.0</td>\n",
       "      <td>0.0</td>\n",
       "      <td>0.0</td>\n",
       "      <td>0.0</td>\n",
       "      <td>0.0</td>\n",
       "      <td>0.0</td>\n",
       "      <td>0.0</td>\n",
       "    </tr>\n",
       "    <tr>\n",
       "      <td>3</td>\n",
       "      <td>0.0</td>\n",
       "      <td>0.0</td>\n",
       "      <td>0.0</td>\n",
       "      <td>0.0</td>\n",
       "      <td>0.0</td>\n",
       "      <td>0.0</td>\n",
       "      <td>0.0</td>\n",
       "      <td>0.0</td>\n",
       "      <td>0.0</td>\n",
       "      <td>0.0</td>\n",
       "      <td>...</td>\n",
       "      <td>0.0</td>\n",
       "      <td>0.0</td>\n",
       "      <td>0.0</td>\n",
       "      <td>0.0</td>\n",
       "      <td>0.0</td>\n",
       "      <td>0.0</td>\n",
       "      <td>0.0</td>\n",
       "      <td>0.0</td>\n",
       "      <td>0.0</td>\n",
       "      <td>0.0</td>\n",
       "    </tr>\n",
       "    <tr>\n",
       "      <td>4</td>\n",
       "      <td>0.0</td>\n",
       "      <td>0.0</td>\n",
       "      <td>0.0</td>\n",
       "      <td>0.0</td>\n",
       "      <td>0.0</td>\n",
       "      <td>0.0</td>\n",
       "      <td>0.0</td>\n",
       "      <td>0.0</td>\n",
       "      <td>0.0</td>\n",
       "      <td>0.0</td>\n",
       "      <td>...</td>\n",
       "      <td>0.0</td>\n",
       "      <td>0.0</td>\n",
       "      <td>0.0</td>\n",
       "      <td>0.0</td>\n",
       "      <td>0.0</td>\n",
       "      <td>0.0</td>\n",
       "      <td>0.0</td>\n",
       "      <td>0.0</td>\n",
       "      <td>0.0</td>\n",
       "      <td>0.0</td>\n",
       "    </tr>\n",
       "  </tbody>\n",
       "</table>\n",
       "<p>5 rows × 11790 columns</p>\n",
       "</div>"
      ],
      "text/plain": [
       "    aa  aaa  aactin   ab  aback  abandon  abandoned  abated  abc  abd  ...  \\\n",
       "0  0.0  0.0     0.0  0.0    0.0      0.0        0.0     0.0  0.0  0.0  ...   \n",
       "1  0.0  0.0     0.0  0.0    0.0      0.0        0.0     0.0  0.0  0.0  ...   \n",
       "2  0.0  0.0     0.0  0.0    0.0      0.0        0.0     0.0  0.0  0.0  ...   \n",
       "3  0.0  0.0     0.0  0.0    0.0      0.0        0.0     0.0  0.0  0.0  ...   \n",
       "4  0.0  0.0     0.0  0.0    0.0      0.0        0.0     0.0  0.0  0.0  ...   \n",
       "\n",
       "   zingiber  zip  ziplock  zirh  zit  zits  zone  zones  zoom  zyme  \n",
       "0       0.0  0.0      0.0   0.0  0.0   0.0   0.0    0.0   0.0   0.0  \n",
       "1       0.0  0.0      0.0   0.0  0.0   0.0   0.0    0.0   0.0   0.0  \n",
       "2       0.0  0.0      0.0   0.0  0.0   0.0   0.0    0.0   0.0   0.0  \n",
       "3       0.0  0.0      0.0   0.0  0.0   0.0   0.0    0.0   0.0   0.0  \n",
       "4       0.0  0.0      0.0   0.0  0.0   0.0   0.0    0.0   0.0   0.0  \n",
       "\n",
       "[5 rows x 11790 columns]"
      ]
     },
     "execution_count": 45,
     "metadata": {},
     "output_type": "execute_result"
    }
   ],
   "source": [
    "rev_td3_matrix.head(5)"
   ]
  },
  {
   "cell_type": "code",
   "execution_count": 32,
   "metadata": {},
   "outputs": [],
   "source": [
    "from sklearn.metrics.pairwise import cosine_similarity"
   ]
  },
  {
   "cell_type": "code",
   "execution_count": 71,
   "metadata": {},
   "outputs": [],
   "source": [
    "# calculate the cosine similarity between all combinations of documents\n",
    "from itertools import combinations\n",
    "\n",
    "# list all of the combinations of 5 take 2 as well as the pairs of phrases\n",
    "corpus = []\n",
    "for i in df['review_text'][0:10]:\n",
    "    corpus.append(i)\n",
    "    \n",
    "pairs = list(combinations(enumerate(corpus),2))\n",
    "combos = [(a[0], b[0]) for a, b in pairs]\n",
    "phrases = [(a[1], b[1]) for a, b in pairs]"
   ]
  },
  {
   "cell_type": "code",
   "execution_count": 67,
   "metadata": {},
   "outputs": [],
   "source": [
    "# pairs = list(combinations(range(0,10),2))"
   ]
  },
  {
   "cell_type": "code",
   "execution_count": 74,
   "metadata": {},
   "outputs": [
    {
     "data": {
      "text/plain": [
       "[(array([[0.40824829]]),\n",
       "  ('i gave it a shot for a while until the small bottle was completely empty and it just didn t seem to make a difference for me the cream feels cool on the skin which is nice but overall i didn t notice a change',\n",
       "   'i have d this cream for a few months now i don t wear makeup but i try to take care of my skin i have mild rosacea in a few spots i have been to the dermatologist and gotten lots of prescription creams even a steroid cream that ed pretty well this s almost as as the steroid it keeps the redness managed without all the chemicals i m sure it has chemicals in it but you don t need a prescription so i would think that these do not have the side effects of a prescription cream i a very small amount and it keeps the redness down i m still on my first container of it i would guess a jar would last months if you d it sparingly it s worth it if you can afford it')),\n",
       " (array([[0.40824829]]),\n",
       "  ('i gave it a shot for a while until the small bottle was completely empty and it just didn t seem to make a difference for me the cream feels cool on the skin which is nice but overall i didn t notice a change',\n",
       "   'dermadoctor calm cool corrected rosacea tx is very for red inflammed skin acne and it keeps your skin extremely hydrated without ca the breakouts but it is extremely expensive for not a very big jar and if your most rosacea sufferers then you don t just have your face to deal with and so you much more than just a small amount for your face daily i have found that noredol is slightly cheaper and it is gel based so it goes a lot further and appears to be ing just as well but not quite as moisturizing but you can moisturizer for sensitive skin in addition and the noredol keeps you from breaking out even though you are moisturizing')),\n",
       " (array([[0.35355339]]),\n",
       "  ('i gave it a shot for a while until the small bottle was completely empty and it just didn t seem to make a difference for me the cream feels cool on the skin which is nice but overall i didn t notice a change',\n",
       "   'i doubted it was even possible to banish the redness but i was just desperate enough to spend the for a gal who cringes at for clinique moisturizer that s a lot of dough but this was by far the best money i ever spent on my skin i have self diagnosed mild rosacea and didn t want the usual treatment of oral antibiotics which have their own set of problems for me with just a few dabs of this twice daily on my nose cheeks and chin i m virtually redness free and my occasional blemishes are reduced by about half cc c isn t miraculous on infrequent occasions i remain blotchy despite it this is usually when i ve been under a lot of stress or have been sick extrapolating from that experience i believe the er the severity of the rosacea the more limited cc c s results will be cc c doubles as a regular moisturizer so unless you have extremely dry skin there s no need to another moisturizer over it i wear it at night and beneath makeup during the day applying it only in my redness prone areas i save a few bucks by my less expensive moisturizers on the rest of my face and neck at this rate one jar lasts me about months not too when i think of it as per month')),\n",
       " (array([[0.33333333]]),\n",
       "  ('i gave it a shot for a while until the small bottle was completely empty and it just didn t seem to make a difference for me the cream feels cool on the skin which is nice but overall i didn t notice a change',\n",
       "   'been this for over years helped long term with the redness on my face wish it wasn t so expensive but i feel it s worth it about on my container')),\n",
       " (array([[0.28867513]]),\n",
       "  ('i gave it a shot for a while until the small bottle was completely empty and it just didn t seem to make a difference for me the cream feels cool on the skin which is nice but overall i didn t notice a change',\n",
       "   'i got this beca i had red dry patches in my t_zone thinking this would calm and cool and correct it all it does is burn the heck out of it i suggest not ing it')),\n",
       " (array([[0.28867513]]),\n",
       "  ('i gave it a shot for a while until the small bottle was completely empty and it just didn t seem to make a difference for me the cream feels cool on the skin which is nice but overall i didn t notice a change',\n",
       "   'expensive but effective')),\n",
       " (array([[0.28867513]]),\n",
       "  ('i gave it a shot for a while until the small bottle was completely empty and it just didn t seem to make a difference for me the cream feels cool on the skin which is nice but overall i didn t notice a change',\n",
       "   'after trying all the drugstore rosacea s to moisturize my skin and calm the redness and itching down i gave up hope that anything would i have moderate rosacea that sometimes becomes severely inflamed across my cheeks nose and above my nose some s would give me relief from symptoms for a week or so and then stop ing i tried creams natural and vitamin supplements mineral creams yoga everything i remotely thought might help this is the only thing that has ever ed and it s quickly drastically reduces redness within an hour usually two hours at my worst inflammation leaves no greasiness and doesn t mess with my allergies it is the most expensive beauty i ve ever bought so it was risky but i was desperate i applied sparingly maybe two or three times a week only to my cheeks entire nose and small area on forehead and the jar lasted me one year exactly i fragrance dye free generic moisturizer for my daily regimen but this is so effective i never needed to it daily if i could afford it i would it twice a day as my regular moisturizer it leaves my skin smooth velvety instead of oily or dry and free of the redness and bumps it also dimished my acne outbreaks which i think were associated with the rosacea and the fine lines i was beginning to get due to the constant dryness i it so much that i told my dermatologist about it so that he could recommend it now i m looking for a dermadoctor for the severe eczema i have on the rest on my body')),\n",
       " (array([[0.]]),\n",
       "  ('i gave it a shot for a while until the small bottle was completely empty and it just didn t seem to make a difference for me the cream feels cool on the skin which is nice but overall i didn t notice a change',\n",
       "   'my wife d this cream on her face and hands she d it as a this arrived right on time')),\n",
       " (array([[0.]]),\n",
       "  ('i gave it a shot for a while until the small bottle was completely empty and it just didn t seem to make a difference for me the cream feels cool on the skin which is nice but overall i didn t notice a change',\n",
       "   'i was very excited to try this as nothing else is ing for me for my new friend rosacea it took a lot for me to put out the but if it s then i can justify the price it actually made my condition worse i m itchier redder and blotchier than i was before i d it and i actually think i have real pimples now to boot so i also made the mistake of putting it around my eyelids to help calm my ocular rosacea so now my eyes feel they re bleeding it s so frustrating how one thing s for someone and is just pure evil tor another still searching')),\n",
       " (array([[0.]]),\n",
       "  ('after trying all the drugstore rosacea s to moisturize my skin and calm the redness and itching down i gave up hope that anything would i have moderate rosacea that sometimes becomes severely inflamed across my cheeks nose and above my nose some s would give me relief from symptoms for a week or so and then stop ing i tried creams natural and vitamin supplements mineral creams yoga everything i remotely thought might help this is the only thing that has ever ed and it s quickly drastically reduces redness within an hour usually two hours at my worst inflammation leaves no greasiness and doesn t mess with my allergies it is the most expensive beauty i ve ever bought so it was risky but i was desperate i applied sparingly maybe two or three times a week only to my cheeks entire nose and small area on forehead and the jar lasted me one year exactly i fragrance dye free generic moisturizer for my daily regimen but this is so effective i never needed to it daily if i could afford it i would it twice a day as my regular moisturizer it leaves my skin smooth velvety instead of oily or dry and free of the redness and bumps it also dimished my acne outbreaks which i think were associated with the rosacea and the fine lines i was beginning to get due to the constant dryness i it so much that i told my dermatologist about it so that he could recommend it now i m looking for a dermadoctor for the severe eczema i have on the rest on my body',\n",
       "   'dermadoctor calm cool corrected rosacea tx is very for red inflammed skin acne and it keeps your skin extremely hydrated without ca the breakouts but it is extremely expensive for not a very big jar and if your most rosacea sufferers then you don t just have your face to deal with and so you much more than just a small amount for your face daily i have found that noredol is slightly cheaper and it is gel based so it goes a lot further and appears to be ing just as well but not quite as moisturizing but you can moisturizer for sensitive skin in addition and the noredol keeps you from breaking out even though you are moisturizing'))]"
      ]
     },
     "execution_count": 74,
     "metadata": {},
     "output_type": "execute_result"
    }
   ],
   "source": [
    "results_tfidf = [cosine_similarity(rev_td3_matrix.iloc[a].values.reshape(1,-1), rev_td3_matrix.iloc[b].values.reshape(1,-1)) for a, b in combos]\n",
    "\n",
    "results_tfidf\n",
    "sorted(zip(results, phrases), reverse=True)"
   ]
  },
  {
   "cell_type": "code",
   "execution_count": 54,
   "metadata": {},
   "outputs": [
    {
     "data": {
      "text/plain": [
       "pandas.core.series.Series"
      ]
     },
     "execution_count": 54,
     "metadata": {},
     "output_type": "execute_result"
    }
   ],
   "source": [
    "type(rev_td3_matrix.iloc[0])"
   ]
  },
  {
   "cell_type": "code",
   "execution_count": 56,
   "metadata": {},
   "outputs": [
    {
     "data": {
      "text/html": [
       "<div>\n",
       "<style scoped>\n",
       "    .dataframe tbody tr th:only-of-type {\n",
       "        vertical-align: middle;\n",
       "    }\n",
       "\n",
       "    .dataframe tbody tr th {\n",
       "        vertical-align: top;\n",
       "    }\n",
       "\n",
       "    .dataframe thead th {\n",
       "        text-align: right;\n",
       "    }\n",
       "</style>\n",
       "<table border=\"1\" class=\"dataframe\">\n",
       "  <thead>\n",
       "    <tr style=\"text-align: right;\">\n",
       "      <th></th>\n",
       "      <th>chai</th>\n",
       "      <th>chocolate</th>\n",
       "      <th>encoding</th>\n",
       "      <th>hot</th>\n",
       "      <th>latte</th>\n",
       "      <th>make</th>\n",
       "      <th>milk</th>\n",
       "      <th>sale</th>\n",
       "      <th>sun</th>\n",
       "      <th>today</th>\n",
       "      <th>weather</th>\n",
       "    </tr>\n",
       "  </thead>\n",
       "  <tbody>\n",
       "    <tr>\n",
       "      <td>0</td>\n",
       "      <td>0</td>\n",
       "      <td>0</td>\n",
       "      <td>0</td>\n",
       "      <td>1</td>\n",
       "      <td>0</td>\n",
       "      <td>0</td>\n",
       "      <td>0</td>\n",
       "      <td>0</td>\n",
       "      <td>1</td>\n",
       "      <td>0</td>\n",
       "      <td>1</td>\n",
       "    </tr>\n",
       "    <tr>\n",
       "      <td>1</td>\n",
       "      <td>0</td>\n",
       "      <td>1</td>\n",
       "      <td>0</td>\n",
       "      <td>1</td>\n",
       "      <td>0</td>\n",
       "      <td>1</td>\n",
       "      <td>1</td>\n",
       "      <td>0</td>\n",
       "      <td>0</td>\n",
       "      <td>0</td>\n",
       "      <td>0</td>\n",
       "    </tr>\n",
       "    <tr>\n",
       "      <td>2</td>\n",
       "      <td>0</td>\n",
       "      <td>0</td>\n",
       "      <td>1</td>\n",
       "      <td>1</td>\n",
       "      <td>0</td>\n",
       "      <td>0</td>\n",
       "      <td>0</td>\n",
       "      <td>0</td>\n",
       "      <td>0</td>\n",
       "      <td>0</td>\n",
       "      <td>0</td>\n",
       "    </tr>\n",
       "    <tr>\n",
       "      <td>3</td>\n",
       "      <td>1</td>\n",
       "      <td>0</td>\n",
       "      <td>0</td>\n",
       "      <td>0</td>\n",
       "      <td>1</td>\n",
       "      <td>0</td>\n",
       "      <td>1</td>\n",
       "      <td>0</td>\n",
       "      <td>0</td>\n",
       "      <td>0</td>\n",
       "      <td>0</td>\n",
       "    </tr>\n",
       "    <tr>\n",
       "      <td>4</td>\n",
       "      <td>0</td>\n",
       "      <td>0</td>\n",
       "      <td>0</td>\n",
       "      <td>1</td>\n",
       "      <td>0</td>\n",
       "      <td>0</td>\n",
       "      <td>0</td>\n",
       "      <td>1</td>\n",
       "      <td>0</td>\n",
       "      <td>1</td>\n",
       "      <td>0</td>\n",
       "    </tr>\n",
       "  </tbody>\n",
       "</table>\n",
       "</div>"
      ],
      "text/plain": [
       "   chai  chocolate  encoding  hot  latte  make  milk  sale  sun  today  \\\n",
       "0     0          0         0    1      0     0     0     0    1      0   \n",
       "1     0          1         0    1      0     1     1     0    0      0   \n",
       "2     0          0         1    1      0     0     0     0    0      0   \n",
       "3     1          0         0    0      1     0     1     0    0      0   \n",
       "4     0          0         0    1      0     0     0     1    0      1   \n",
       "\n",
       "   weather  \n",
       "0        1  \n",
       "1        0  \n",
       "2        0  \n",
       "3        0  \n",
       "4        0  "
      ]
     },
     "execution_count": 56,
     "metadata": {},
     "output_type": "execute_result"
    }
   ],
   "source": [
    "corpus = ['The weather is hot under the sun',\n",
    "          'I make my hot chocolate with milk',\n",
    "          'One hot encoding',\n",
    "          'I will have a chai latte with milk',\n",
    "          'There is a hot sale today']\n",
    "# create the document-term matrix with count vectorizer\n",
    "\n",
    "cv = CountVectorizer(stop_words=\"english\")\n",
    "X = cv.fit_transform(corpus).toarray()\n",
    "dt = pd.DataFrame(X, columns=cv.get_feature_names())\n",
    "dt"
   ]
  },
  {
   "cell_type": "code",
   "execution_count": 62,
   "metadata": {},
   "outputs": [
    {
     "data": {
      "text/plain": [
       "[(array([[0.40824829]]),\n",
       "  ('The weather is hot under the sun', 'One hot encoding')),\n",
       " (array([[0.40824829]]), ('One hot encoding', 'There is a hot sale today')),\n",
       " (array([[0.35355339]]),\n",
       "  ('I make my hot chocolate with milk', 'One hot encoding')),\n",
       " (array([[0.33333333]]),\n",
       "  ('The weather is hot under the sun', 'There is a hot sale today')),\n",
       " (array([[0.28867513]]),\n",
       "  ('The weather is hot under the sun', 'I make my hot chocolate with milk')),\n",
       " (array([[0.28867513]]),\n",
       "  ('I make my hot chocolate with milk', 'There is a hot sale today')),\n",
       " (array([[0.28867513]]),\n",
       "  ('I make my hot chocolate with milk', 'I will have a chai latte with milk')),\n",
       " (array([[0.]]),\n",
       "  ('The weather is hot under the sun', 'I will have a chai latte with milk')),\n",
       " (array([[0.]]), ('One hot encoding', 'I will have a chai latte with milk')),\n",
       " (array([[0.]]),\n",
       "  ('I will have a chai latte with milk', 'There is a hot sale today'))]"
      ]
     },
     "execution_count": 62,
     "metadata": {},
     "output_type": "execute_result"
    }
   ],
   "source": [
    "# calculate the cosine similarity between all combinations of documents\n",
    "from itertools import combinations\n",
    "\n",
    "# list all of the combinations of 5 take 2 as well as the pairs of phrases\n",
    "pairs = list(combinations(enumerate(corpus),2))\n",
    "combos = [(a[0], b[0]) for a, b in pairs]\n",
    "phrases = [(a[1], b[1]) for a, b in pairs]\n",
    "\n",
    "# calculate the cosine similarity for all pairs of phrases and sort by most similar\n",
    "results = [cosine_similarity(dt.iloc[a].values.reshape(1,-1), dt.iloc[b].values.reshape(1,-1)) for a, b in combos]\n",
    "sorted(zip(results, phrases), reverse=True)"
   ]
  },
  {
   "cell_type": "code",
   "execution_count": null,
   "metadata": {},
   "outputs": [],
   "source": []
  }
 ],
 "metadata": {
  "kernelspec": {
   "display_name": "Python 3",
   "language": "python",
   "name": "python3"
  },
  "language_info": {
   "codemirror_mode": {
    "name": "ipython",
    "version": 3
   },
   "file_extension": ".py",
   "mimetype": "text/x-python",
   "name": "python",
   "nbconvert_exporter": "python",
   "pygments_lexer": "ipython3",
   "version": "3.6.9"
  }
 },
 "nbformat": 4,
 "nbformat_minor": 2
}
