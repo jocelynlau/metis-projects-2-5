{
 "cells": [
  {
   "cell_type": "code",
   "execution_count": 165,
   "metadata": {},
   "outputs": [],
   "source": [
    "import pandas as pd\n",
    "import numpy as np\n",
    "import matplotlib.pyplot as plt\n",
    "import seaborn as sns\n",
    "import datetime as dt\n",
    "%matplotlib inline\n",
    "\n",
    "import pickle"
   ]
  },
  {
   "cell_type": "code",
   "execution_count": 166,
   "metadata": {},
   "outputs": [],
   "source": [
    "# import data from Fresno airport (closest to 00114 zip 93610)\n",
    "dataset = '111452_36.77_-119.7_'\n",
    "\n",
    "def get_header(year):\n",
    "    return pd.read_csv('ca_energy_data/NREL_solar_data/cd103f7092a55f01908c95acdea7323a/'+dataset+year+'.csv',\n",
    "                                     header=0, nrows=1)\n",
    "def get_data(year):\n",
    "    return pd.read_csv('ca_energy_data/NREL_solar_data/cd103f7092a55f01908c95acdea7323a/'+dataset+year+'.csv',\n",
    "                             header=2)"
   ]
  },
  {
   "cell_type": "code",
   "execution_count": 167,
   "metadata": {},
   "outputs": [],
   "source": [
    "solar_header_2011 = get_header('2011')\n",
    "solar_header_2012 = get_header('2012')\n",
    "solar_header_2013 = get_header('2013')\n",
    "solar_header_2014 = get_header('2014')\n",
    "solar_header_2015 = get_header('2015')\n",
    "solar_header_2016 = get_header('2016')"
   ]
  },
  {
   "cell_type": "code",
   "execution_count": 168,
   "metadata": {},
   "outputs": [],
   "source": [
    "solar_2011 = get_data('2011')\n",
    "solar_2012 = get_data('2012')\n",
    "solar_2013 = get_data('2013')\n",
    "solar_2014 = get_data('2014')\n",
    "solar_2015 = get_data('2015')\n",
    "solar_2016 = get_data('2016')"
   ]
  },
  {
   "cell_type": "code",
   "execution_count": 169,
   "metadata": {},
   "outputs": [
    {
     "name": "stdout",
     "output_type": "stream",
     "text": [
      "(8760, 22)\n",
      "(8760, 22)\n",
      "(8760, 22)\n",
      "(8760, 22)\n",
      "(8760, 22)\n",
      "(8760, 22)\n"
     ]
    }
   ],
   "source": [
    "solar_list = [solar_2011, solar_2012, solar_2013, solar_2014, solar_2015, solar_2016]\n",
    "\n",
    "for data in solar_list:\n",
    "    print(data.shape)"
   ]
  },
  {
   "cell_type": "code",
   "execution_count": 170,
   "metadata": {},
   "outputs": [
    {
     "data": {
      "text/plain": [
       "Source                                         NSRDB\n",
       "Location ID                                   111452\n",
       "City                                               -\n",
       "State                                              -\n",
       "Country                                            -\n",
       "Latitude                                       36.77\n",
       "Longitude                                     -119.7\n",
       "Time Zone                                         -8\n",
       "Elevation                                        104\n",
       "Local Time Zone                                   -8\n",
       "Clearsky DHI Units                              w/m2\n",
       "Clearsky DNI Units                              w/m2\n",
       "Clearsky GHI Units                              w/m2\n",
       "Dew Point Units                                    c\n",
       "DHI Units                                       w/m2\n",
       "DNI Units                                       w/m2\n",
       "GHI Units                                       w/m2\n",
       "Solar Zenith Angle Units                      Degree\n",
       "Temperature Units                                  c\n",
       "Pressure Units                                  mbar\n",
       "Relative Humidity Units                            %\n",
       "Precipitable Water Units                          cm\n",
       "Wind Direction Units                         Degrees\n",
       "Wind Speed                                       m/s\n",
       "Cloud Type -15                                   NaN\n",
       "Cloud Type 0                                   Clear\n",
       "Cloud Type 1                          Probably Clear\n",
       "Cloud Type 2                                     Fog\n",
       "Cloud Type 3                                   Water\n",
       "Cloud Type 4                      Super-Cooled Water\n",
       "Cloud Type 5                                   Mixed\n",
       "Cloud Type 6                              Opaque Ice\n",
       "Cloud Type 7                                  Cirrus\n",
       "Cloud Type 8                             Overlapping\n",
       "Cloud Type 9                            Overshooting\n",
       "Cloud Type 10                                Unknown\n",
       "Cloud Type 11                                   Dust\n",
       "Cloud Type 12                                  Smoke\n",
       "Fill Flag 0                                      NaN\n",
       "Fill Flag 1                            Missing Image\n",
       "Fill Flag 2                           Low Irradiance\n",
       "Fill Flag 3                         Exceeds Clearsky\n",
       "Fill Flag 4                 Missing CLoud Properties\n",
       "Fill Flag 5                       Rayleigh Violation\n",
       "Surface Albedo Units                             NaN\n",
       "Version                                       v3.0.1\n",
       "Name: 0, dtype: object"
      ]
     },
     "execution_count": 170,
     "metadata": {},
     "output_type": "execute_result"
    }
   ],
   "source": [
    "solar_header_2011.iloc[0]"
   ]
  },
  {
   "cell_type": "code",
   "execution_count": 171,
   "metadata": {},
   "outputs": [
    {
     "name": "stdout",
     "output_type": "stream",
     "text": [
      "<class 'pandas.core.frame.DataFrame'>\n",
      "RangeIndex: 8760 entries, 0 to 8759\n",
      "Data columns (total 22 columns):\n",
      "Year                  8760 non-null int64\n",
      "Month                 8760 non-null int64\n",
      "Day                   8760 non-null int64\n",
      "Hour                  8760 non-null int64\n",
      "Minute                8760 non-null int64\n",
      "DHI                   8760 non-null int64\n",
      "DNI                   8760 non-null int64\n",
      "GHI                   8760 non-null int64\n",
      "Clearsky DHI          8760 non-null int64\n",
      "Clearsky DNI          8760 non-null int64\n",
      "Clearsky GHI          8760 non-null int64\n",
      "Cloud Type            8760 non-null int64\n",
      "Dew Point             8760 non-null int64\n",
      "Solar Zenith Angle    8760 non-null float64\n",
      "Fill Flag             8760 non-null int64\n",
      "Surface Albedo        8760 non-null float64\n",
      "Wind Speed            8760 non-null float64\n",
      "Precipitable Water    8760 non-null float64\n",
      "Wind Direction        8760 non-null float64\n",
      "Relative Humidity     8760 non-null float64\n",
      "Temperature           8760 non-null int64\n",
      "Pressure              8760 non-null float64\n",
      "dtypes: float64(7), int64(15)\n",
      "memory usage: 1.5 MB\n"
     ]
    }
   ],
   "source": [
    "solar_2011.info()"
   ]
  },
  {
   "cell_type": "code",
   "execution_count": 172,
   "metadata": {},
   "outputs": [
    {
     "data": {
      "text/html": [
       "<div>\n",
       "<style scoped>\n",
       "    .dataframe tbody tr th:only-of-type {\n",
       "        vertical-align: middle;\n",
       "    }\n",
       "\n",
       "    .dataframe tbody tr th {\n",
       "        vertical-align: top;\n",
       "    }\n",
       "\n",
       "    .dataframe thead th {\n",
       "        text-align: right;\n",
       "    }\n",
       "</style>\n",
       "<table border=\"1\" class=\"dataframe\">\n",
       "  <thead>\n",
       "    <tr style=\"text-align: right;\">\n",
       "      <th></th>\n",
       "      <th>Year</th>\n",
       "      <th>Month</th>\n",
       "      <th>Day</th>\n",
       "      <th>Hour</th>\n",
       "      <th>Minute</th>\n",
       "      <th>DHI</th>\n",
       "      <th>DNI</th>\n",
       "      <th>GHI</th>\n",
       "      <th>Clearsky DHI</th>\n",
       "      <th>Clearsky DNI</th>\n",
       "      <th>...</th>\n",
       "      <th>Dew Point</th>\n",
       "      <th>Solar Zenith Angle</th>\n",
       "      <th>Fill Flag</th>\n",
       "      <th>Surface Albedo</th>\n",
       "      <th>Wind Speed</th>\n",
       "      <th>Precipitable Water</th>\n",
       "      <th>Wind Direction</th>\n",
       "      <th>Relative Humidity</th>\n",
       "      <th>Temperature</th>\n",
       "      <th>Pressure</th>\n",
       "    </tr>\n",
       "  </thead>\n",
       "  <tbody>\n",
       "    <tr>\n",
       "      <td>0</td>\n",
       "      <td>2011</td>\n",
       "      <td>1</td>\n",
       "      <td>1</td>\n",
       "      <td>0</td>\n",
       "      <td>30</td>\n",
       "      <td>0</td>\n",
       "      <td>0</td>\n",
       "      <td>0</td>\n",
       "      <td>0</td>\n",
       "      <td>0</td>\n",
       "      <td>...</td>\n",
       "      <td>-2</td>\n",
       "      <td>164.99</td>\n",
       "      <td>0</td>\n",
       "      <td>0.145</td>\n",
       "      <td>2.1</td>\n",
       "      <td>1.252</td>\n",
       "      <td>115.2</td>\n",
       "      <td>84.86</td>\n",
       "      <td>0</td>\n",
       "      <td>990.0</td>\n",
       "    </tr>\n",
       "    <tr>\n",
       "      <td>1</td>\n",
       "      <td>2011</td>\n",
       "      <td>1</td>\n",
       "      <td>1</td>\n",
       "      <td>1</td>\n",
       "      <td>30</td>\n",
       "      <td>0</td>\n",
       "      <td>0</td>\n",
       "      <td>0</td>\n",
       "      <td>0</td>\n",
       "      <td>0</td>\n",
       "      <td>...</td>\n",
       "      <td>-2</td>\n",
       "      <td>156.61</td>\n",
       "      <td>0</td>\n",
       "      <td>0.145</td>\n",
       "      <td>2.5</td>\n",
       "      <td>1.252</td>\n",
       "      <td>112.0</td>\n",
       "      <td>84.24</td>\n",
       "      <td>0</td>\n",
       "      <td>990.0</td>\n",
       "    </tr>\n",
       "    <tr>\n",
       "      <td>2</td>\n",
       "      <td>2011</td>\n",
       "      <td>1</td>\n",
       "      <td>1</td>\n",
       "      <td>2</td>\n",
       "      <td>30</td>\n",
       "      <td>0</td>\n",
       "      <td>0</td>\n",
       "      <td>0</td>\n",
       "      <td>0</td>\n",
       "      <td>0</td>\n",
       "      <td>...</td>\n",
       "      <td>-2</td>\n",
       "      <td>145.41</td>\n",
       "      <td>0</td>\n",
       "      <td>0.145</td>\n",
       "      <td>2.6</td>\n",
       "      <td>1.234</td>\n",
       "      <td>111.0</td>\n",
       "      <td>81.97</td>\n",
       "      <td>0</td>\n",
       "      <td>990.0</td>\n",
       "    </tr>\n",
       "    <tr>\n",
       "      <td>3</td>\n",
       "      <td>2011</td>\n",
       "      <td>1</td>\n",
       "      <td>1</td>\n",
       "      <td>3</td>\n",
       "      <td>30</td>\n",
       "      <td>0</td>\n",
       "      <td>0</td>\n",
       "      <td>0</td>\n",
       "      <td>0</td>\n",
       "      <td>0</td>\n",
       "      <td>...</td>\n",
       "      <td>-3</td>\n",
       "      <td>133.51</td>\n",
       "      <td>0</td>\n",
       "      <td>0.145</td>\n",
       "      <td>2.4</td>\n",
       "      <td>1.232</td>\n",
       "      <td>114.6</td>\n",
       "      <td>80.17</td>\n",
       "      <td>1</td>\n",
       "      <td>990.0</td>\n",
       "    </tr>\n",
       "    <tr>\n",
       "      <td>4</td>\n",
       "      <td>2011</td>\n",
       "      <td>1</td>\n",
       "      <td>1</td>\n",
       "      <td>4</td>\n",
       "      <td>30</td>\n",
       "      <td>0</td>\n",
       "      <td>0</td>\n",
       "      <td>0</td>\n",
       "      <td>0</td>\n",
       "      <td>0</td>\n",
       "      <td>...</td>\n",
       "      <td>-3</td>\n",
       "      <td>121.51</td>\n",
       "      <td>0</td>\n",
       "      <td>0.145</td>\n",
       "      <td>2.2</td>\n",
       "      <td>1.270</td>\n",
       "      <td>122.0</td>\n",
       "      <td>79.89</td>\n",
       "      <td>1</td>\n",
       "      <td>990.0</td>\n",
       "    </tr>\n",
       "  </tbody>\n",
       "</table>\n",
       "<p>5 rows × 22 columns</p>\n",
       "</div>"
      ],
      "text/plain": [
       "   Year  Month  Day  Hour  Minute  DHI  DNI  GHI  Clearsky DHI  Clearsky DNI  \\\n",
       "0  2011      1    1     0      30    0    0    0             0             0   \n",
       "1  2011      1    1     1      30    0    0    0             0             0   \n",
       "2  2011      1    1     2      30    0    0    0             0             0   \n",
       "3  2011      1    1     3      30    0    0    0             0             0   \n",
       "4  2011      1    1     4      30    0    0    0             0             0   \n",
       "\n",
       "   ...  Dew Point  Solar Zenith Angle  Fill Flag  Surface Albedo  Wind Speed  \\\n",
       "0  ...         -2              164.99          0           0.145         2.1   \n",
       "1  ...         -2              156.61          0           0.145         2.5   \n",
       "2  ...         -2              145.41          0           0.145         2.6   \n",
       "3  ...         -3              133.51          0           0.145         2.4   \n",
       "4  ...         -3              121.51          0           0.145         2.2   \n",
       "\n",
       "   Precipitable Water  Wind Direction  Relative Humidity  Temperature  \\\n",
       "0               1.252           115.2              84.86            0   \n",
       "1               1.252           112.0              84.24            0   \n",
       "2               1.234           111.0              81.97            0   \n",
       "3               1.232           114.6              80.17            1   \n",
       "4               1.270           122.0              79.89            1   \n",
       "\n",
       "   Pressure  \n",
       "0     990.0  \n",
       "1     990.0  \n",
       "2     990.0  \n",
       "3     990.0  \n",
       "4     990.0  \n",
       "\n",
       "[5 rows x 22 columns]"
      ]
     },
     "execution_count": 172,
     "metadata": {},
     "output_type": "execute_result"
    }
   ],
   "source": [
    "solar_2011.head(5)"
   ]
  },
  {
   "cell_type": "code",
   "execution_count": 173,
   "metadata": {},
   "outputs": [],
   "source": [
    "#GHI - Global Horizontal Irradiance\n",
    "#DHI - Diffuse Horizontal Irradiance\n",
    "#DNI - Direct Normal Irradiance"
   ]
  },
  {
   "cell_type": "code",
   "execution_count": 174,
   "metadata": {},
   "outputs": [],
   "source": [
    "solar = pd.concat([solar_2011,solar_2012,solar_2013,solar_2014,solar_2015,solar_2016])"
   ]
  },
  {
   "cell_type": "code",
   "execution_count": 175,
   "metadata": {},
   "outputs": [],
   "source": [
    "solar = solar[['Year','Month','Day','Hour','DHI','DNI','GHI']]"
   ]
  },
  {
   "cell_type": "code",
   "execution_count": 176,
   "metadata": {},
   "outputs": [
    {
     "name": "stdout",
     "output_type": "stream",
     "text": [
      "<class 'pandas.core.frame.DataFrame'>\n",
      "Int64Index: 52560 entries, 0 to 8759\n",
      "Data columns (total 7 columns):\n",
      "Year     52560 non-null int64\n",
      "Month    52560 non-null int64\n",
      "Day      52560 non-null int64\n",
      "Hour     52560 non-null int64\n",
      "DHI      52560 non-null int64\n",
      "DNI      52560 non-null int64\n",
      "GHI      52560 non-null int64\n",
      "dtypes: int64(7)\n",
      "memory usage: 3.2 MB\n"
     ]
    }
   ],
   "source": [
    "solar.info()"
   ]
  },
  {
   "cell_type": "code",
   "execution_count": 177,
   "metadata": {},
   "outputs": [
    {
     "data": {
      "text/plain": [
       "52608"
      ]
     },
     "execution_count": 177,
     "metadata": {},
     "output_type": "execute_result"
    }
   ],
   "source": [
    "# Add missing dates\n",
    "new_index = pd.date_range('2011-01-01 00:00:00', '2016-12-31 23:00:00',freq='H')\n",
    "len(new_index)"
   ]
  },
  {
   "cell_type": "code",
   "execution_count": 179,
   "metadata": {},
   "outputs": [
    {
     "data": {
      "text/html": [
       "<div>\n",
       "<style scoped>\n",
       "    .dataframe tbody tr th:only-of-type {\n",
       "        vertical-align: middle;\n",
       "    }\n",
       "\n",
       "    .dataframe tbody tr th {\n",
       "        vertical-align: top;\n",
       "    }\n",
       "\n",
       "    .dataframe thead th {\n",
       "        text-align: right;\n",
       "    }\n",
       "</style>\n",
       "<table border=\"1\" class=\"dataframe\">\n",
       "  <thead>\n",
       "    <tr style=\"text-align: right;\">\n",
       "      <th></th>\n",
       "      <th>DHI</th>\n",
       "      <th>DNI</th>\n",
       "      <th>GHI</th>\n",
       "    </tr>\n",
       "  </thead>\n",
       "  <tbody>\n",
       "    <tr>\n",
       "      <td>2011-01-01 00:00:00</td>\n",
       "      <td>0</td>\n",
       "      <td>0</td>\n",
       "      <td>0</td>\n",
       "    </tr>\n",
       "    <tr>\n",
       "      <td>2011-01-01 01:00:00</td>\n",
       "      <td>0</td>\n",
       "      <td>0</td>\n",
       "      <td>0</td>\n",
       "    </tr>\n",
       "    <tr>\n",
       "      <td>2011-01-01 02:00:00</td>\n",
       "      <td>0</td>\n",
       "      <td>0</td>\n",
       "      <td>0</td>\n",
       "    </tr>\n",
       "    <tr>\n",
       "      <td>2011-01-01 03:00:00</td>\n",
       "      <td>0</td>\n",
       "      <td>0</td>\n",
       "      <td>0</td>\n",
       "    </tr>\n",
       "    <tr>\n",
       "      <td>2011-01-01 04:00:00</td>\n",
       "      <td>0</td>\n",
       "      <td>0</td>\n",
       "      <td>0</td>\n",
       "    </tr>\n",
       "    <tr>\n",
       "      <td>...</td>\n",
       "      <td>...</td>\n",
       "      <td>...</td>\n",
       "      <td>...</td>\n",
       "    </tr>\n",
       "    <tr>\n",
       "      <td>2016-12-31 19:00:00</td>\n",
       "      <td>0</td>\n",
       "      <td>0</td>\n",
       "      <td>0</td>\n",
       "    </tr>\n",
       "    <tr>\n",
       "      <td>2016-12-31 20:00:00</td>\n",
       "      <td>0</td>\n",
       "      <td>0</td>\n",
       "      <td>0</td>\n",
       "    </tr>\n",
       "    <tr>\n",
       "      <td>2016-12-31 21:00:00</td>\n",
       "      <td>0</td>\n",
       "      <td>0</td>\n",
       "      <td>0</td>\n",
       "    </tr>\n",
       "    <tr>\n",
       "      <td>2016-12-31 22:00:00</td>\n",
       "      <td>0</td>\n",
       "      <td>0</td>\n",
       "      <td>0</td>\n",
       "    </tr>\n",
       "    <tr>\n",
       "      <td>2016-12-31 23:00:00</td>\n",
       "      <td>0</td>\n",
       "      <td>0</td>\n",
       "      <td>0</td>\n",
       "    </tr>\n",
       "  </tbody>\n",
       "</table>\n",
       "<p>52608 rows × 3 columns</p>\n",
       "</div>"
      ],
      "text/plain": [
       "                     DHI  DNI  GHI\n",
       "2011-01-01 00:00:00    0    0    0\n",
       "2011-01-01 01:00:00    0    0    0\n",
       "2011-01-01 02:00:00    0    0    0\n",
       "2011-01-01 03:00:00    0    0    0\n",
       "2011-01-01 04:00:00    0    0    0\n",
       "...                  ...  ...  ...\n",
       "2016-12-31 19:00:00    0    0    0\n",
       "2016-12-31 20:00:00    0    0    0\n",
       "2016-12-31 21:00:00    0    0    0\n",
       "2016-12-31 22:00:00    0    0    0\n",
       "2016-12-31 23:00:00    0    0    0\n",
       "\n",
       "[52608 rows x 3 columns]"
      ]
     },
     "execution_count": 179,
     "metadata": {},
     "output_type": "execute_result"
    }
   ],
   "source": [
    "# Dates - missing leap days\n",
    "solar.index = pd.to_datetime(solar[['Year','Month','Day','Hour']])\n",
    "solar = solar.reindex(new_index,fill_value=0)\n",
    "solar.drop(['Year','Month','Day','Hour'],axis=1,inplace=True)\n",
    "solar"
   ]
  },
  {
   "cell_type": "code",
   "execution_count": 180,
   "metadata": {},
   "outputs": [
    {
     "name": "stdout",
     "output_type": "stream",
     "text": [
      "<class 'pandas.core.frame.DataFrame'>\n",
      "DatetimeIndex: 52608 entries, 2011-01-01 00:00:00 to 2016-12-31 23:00:00\n",
      "Freq: H\n",
      "Data columns (total 3 columns):\n",
      "DHI    52608 non-null int64\n",
      "DNI    52608 non-null int64\n",
      "GHI    52608 non-null int64\n",
      "dtypes: int64(3)\n",
      "memory usage: 1.6 MB\n"
     ]
    }
   ],
   "source": [
    "solar.info()"
   ]
  },
  {
   "cell_type": "code",
   "execution_count": 181,
   "metadata": {},
   "outputs": [],
   "source": [
    "# # for leap years, take the average of the previous days in February\n",
    "# # Impute NaNs\n",
    "# cols = ['DHI','DNI','GHI']\n",
    "# # test_array = np.array([0,0,0,0,0,1,1,1,1,1,1,1,1,1,0,0,0,0,0,0,0,0,0,0])\n",
    "# print(test_array.shape)\n",
    "# for col in cols:\n",
    "#     #fill in hours with daily avg\n",
    "#     solar[col] = solar[[col]].fillna(solar[[col]][solar.index.date==dt.date(2012,2,28)])\n"
   ]
  },
  {
   "cell_type": "code",
   "execution_count": 183,
   "metadata": {},
   "outputs": [],
   "source": [
    "# solar[solar.index.date==dt.date(2012,2,29)]"
   ]
  },
  {
   "cell_type": "code",
   "execution_count": 185,
   "metadata": {},
   "outputs": [
    {
     "data": {
      "image/png": "[encoded data removed]",
      "text/plain": [
       "<Figure size 1440x432 with 1 Axes>"
      ]
     },
     "metadata": {
      "needs_background": "light"
     },
     "output_type": "display_data"
    }
   ],
   "source": [
    "plt.figure(figsize=(20,6))\n",
    "plt.plot(solar.index,solar['DHI'],label='DHI',alpha=0.5)\n",
    "plt.plot(solar.index,solar['DNI'],label='DNI',alpha=0.5)\n",
    "plt.plot(solar.index,solar['GHI'],label='GHI',alpha=0.5)\n",
    "plt.legend();"
   ]
  },
  {
   "cell_type": "code",
   "execution_count": 186,
   "metadata": {},
   "outputs": [],
   "source": [
    "with open('pickles/solar_fresno.pickle', 'wb') as to_write:\n",
    "    pickle.dump(solar, to_write)"
   ]
  },
  {
   "cell_type": "code",
   "execution_count": null,
   "metadata": {},
   "outputs": [],
   "source": []
  }
 ],
 "metadata": {
  "kernelspec": {
   "display_name": "Python [conda env:metis] *",
   "language": "python",
   "name": "conda-env-metis-py"
  },
  "language_info": {
   "codemirror_mode": {
    "name": "ipython",
    "version": 3
   },
   "file_extension": ".py",
   "mimetype": "text/x-python",
   "name": "python",
   "nbconvert_exporter": "python",
   "pygments_lexer": "ipython3",
   "version": "3.6.9"
  }
 },
 "nbformat": 4,
 "nbformat_minor": 2
}
