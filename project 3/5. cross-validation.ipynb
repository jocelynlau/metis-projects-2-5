{
 "cells": [
  {
   "cell_type": "markdown",
   "metadata": {},
   "source": [
    "### Cross-Validation"
   ]
  },
  {
   "cell_type": "code",
   "execution_count": 44,
   "metadata": {},
   "outputs": [],
   "source": [
    "import pandas as pd\n",
    "import numpy as np\n",
    "import matplotlib.pyplot as plt\n",
    "import datetime as dt\n",
    "import calendar\n",
    "import pickle\n",
    "import time\n",
    "\n",
    "%matplotlib inline\n",
    "plt.style.use('seaborn-pastel')\n",
    "\n",
    "import seaborn as sns\n",
    "sns.set(style=\"whitegrid\")\n",
    "\n",
    "from sklearn.preprocessing import StandardScaler\n",
    "from sklearn.model_selection import train_test_split\n",
    "from sklearn.metrics import f1_score\n",
    "from sklearn.metrics import roc_auc_score, roc_curve\n",
    "from collections import defaultdict, Counter\n",
    "\n",
    "%run evaluation_functions.py"
   ]
  },
  {
   "cell_type": "code",
   "execution_count": 13,
   "metadata": {},
   "outputs": [],
   "source": [
    "from imblearn.over_sampling import RandomOverSampler\n",
    "from sklearn.neighbors import KNeighborsClassifier\n",
    "from sklearn.tree import DecisionTreeClassifier\n",
    "from sklearn.svm import LinearSVC\n",
    "from sklearn.svm import SVC\n",
    "from sklearn.ensemble import RandomForestClassifier\n",
    "from sklearn.linear_model import LogisticRegression\n",
    "from xgboost import XGBClassifier\n",
    "from sklearn.model_selection import GridSearchCV, StratifiedKFold\n",
    "\n",
    "from sklearn.ensemble import (RandomForestClassifier, ExtraTreesClassifier, VotingClassifier, \n",
    "                              AdaBoostClassifier, BaggingRegressor)"
   ]
  },
  {
   "cell_type": "code",
   "execution_count": 14,
   "metadata": {},
   "outputs": [],
   "source": [
    "with open('pickles/appt.pickle','rb') as read_file:\n",
    "    appt = pickle.load(read_file)\n",
    "with open('pickles/appt_v2.pickle','rb') as read_file:\n",
    "    appt_v2 = pickle.load(read_file)\n",
    "with open('pickles/appt_v2_all0.pickle','rb') as read_file:\n",
    "    appt_v3 = pickle.load(read_file)\n",
    "with open('pickles/appt_v2_all1.pickle','rb') as read_file:\n",
    "    appt_v4 = pickle.load(read_file)"
   ]
  },
  {
   "cell_type": "code",
   "execution_count": 15,
   "metadata": {},
   "outputs": [
    {
     "name": "stdout",
     "output_type": "stream",
     "text": [
      "<class 'pandas.core.frame.DataFrame'>\n",
      "Int64Index: 71163 entries, 0 to 71958\n",
      "Data columns (total 97 columns):\n",
      "Age                                          71163 non-null int64\n",
      "Scholarship                                  71163 non-null int64\n",
      "Hipertension                                 71163 non-null int64\n",
      "Diabetes                                     71163 non-null int64\n",
      "Alcoholism                                   71163 non-null int64\n",
      "Handcap                                      71163 non-null int64\n",
      "SMS_received                                 71163 non-null int64\n",
      "DayDiff                                      71163 non-null int64\n",
      "Gender_M                                     71163 non-null uint8\n",
      "Neighbourhood_AEROPORTO                      71163 non-null uint8\n",
      "Neighbourhood_ANDORINHAS                     71163 non-null uint8\n",
      "Neighbourhood_ANTÔNIO HONÓRIO                71163 non-null uint8\n",
      "Neighbourhood_ARIOVALDO FAVALESSA            71163 non-null uint8\n",
      "Neighbourhood_BARRO VERMELHO                 71163 non-null uint8\n",
      "Neighbourhood_BELA VISTA                     71163 non-null uint8\n",
      "Neighbourhood_BENTO FERREIRA                 71163 non-null uint8\n",
      "Neighbourhood_BOA VISTA                      71163 non-null uint8\n",
      "Neighbourhood_BONFIM                         71163 non-null uint8\n",
      "Neighbourhood_CARATOÍRA                      71163 non-null uint8\n",
      "Neighbourhood_CENTRO                         71163 non-null uint8\n",
      "Neighbourhood_COMDUSA                        71163 non-null uint8\n",
      "Neighbourhood_CONQUISTA                      71163 non-null uint8\n",
      "Neighbourhood_CONSOLAÇÃO                     71163 non-null uint8\n",
      "Neighbourhood_CRUZAMENTO                     71163 non-null uint8\n",
      "Neighbourhood_DA PENHA                       71163 non-null uint8\n",
      "Neighbourhood_DE LOURDES                     71163 non-null uint8\n",
      "Neighbourhood_DO CABRAL                      71163 non-null uint8\n",
      "Neighbourhood_DO MOSCOSO                     71163 non-null uint8\n",
      "Neighbourhood_DO QUADRO                      71163 non-null uint8\n",
      "Neighbourhood_ENSEADA DO SUÁ                 71163 non-null uint8\n",
      "Neighbourhood_ESTRELINHA                     71163 non-null uint8\n",
      "Neighbourhood_FONTE GRANDE                   71163 non-null uint8\n",
      "Neighbourhood_FORTE SÃO JOÃO                 71163 non-null uint8\n",
      "Neighbourhood_FRADINHOS                      71163 non-null uint8\n",
      "Neighbourhood_GOIABEIRAS                     71163 non-null uint8\n",
      "Neighbourhood_GRANDE VITÓRIA                 71163 non-null uint8\n",
      "Neighbourhood_GURIGICA                       71163 non-null uint8\n",
      "Neighbourhood_HORTO                          71163 non-null uint8\n",
      "Neighbourhood_ILHA DAS CAIEIRAS              71163 non-null uint8\n",
      "Neighbourhood_ILHA DE SANTA MARIA            71163 non-null uint8\n",
      "Neighbourhood_ILHA DO BOI                    71163 non-null uint8\n",
      "Neighbourhood_ILHA DO FRADE                  71163 non-null uint8\n",
      "Neighbourhood_ILHA DO PRÍNCIPE               71163 non-null uint8\n",
      "Neighbourhood_ILHAS OCEÂNICAS DE TRINDADE    71163 non-null uint8\n",
      "Neighbourhood_INHANGUETÁ                     71163 non-null uint8\n",
      "Neighbourhood_ITARARÉ                        71163 non-null uint8\n",
      "Neighbourhood_JABOUR                         71163 non-null uint8\n",
      "Neighbourhood_JARDIM CAMBURI                 71163 non-null uint8\n",
      "Neighbourhood_JARDIM DA PENHA                71163 non-null uint8\n",
      "Neighbourhood_JESUS DE NAZARETH              71163 non-null uint8\n",
      "Neighbourhood_JOANA D´ARC                    71163 non-null uint8\n",
      "Neighbourhood_JUCUTUQUARA                    71163 non-null uint8\n",
      "Neighbourhood_MARIA ORTIZ                    71163 non-null uint8\n",
      "Neighbourhood_MARUÍPE                        71163 non-null uint8\n",
      "Neighbourhood_MATA DA PRAIA                  71163 non-null uint8\n",
      "Neighbourhood_MONTE BELO                     71163 non-null uint8\n",
      "Neighbourhood_MORADA DE CAMBURI              71163 non-null uint8\n",
      "Neighbourhood_MÁRIO CYPRESTE                 71163 non-null uint8\n",
      "Neighbourhood_NAZARETH                       71163 non-null uint8\n",
      "Neighbourhood_NOVA PALESTINA                 71163 non-null uint8\n",
      "Neighbourhood_PARQUE MOSCOSO                 71163 non-null uint8\n",
      "Neighbourhood_PIEDADE                        71163 non-null uint8\n",
      "Neighbourhood_PONTAL DE CAMBURI              71163 non-null uint8\n",
      "Neighbourhood_PRAIA DO CANTO                 71163 non-null uint8\n",
      "Neighbourhood_PRAIA DO SUÁ                   71163 non-null uint8\n",
      "Neighbourhood_REDENÇÃO                       71163 non-null uint8\n",
      "Neighbourhood_REPÚBLICA                      71163 non-null uint8\n",
      "Neighbourhood_RESISTÊNCIA                    71163 non-null uint8\n",
      "Neighbourhood_ROMÃO                          71163 non-null uint8\n",
      "Neighbourhood_SANTA CECÍLIA                  71163 non-null uint8\n",
      "Neighbourhood_SANTA CLARA                    71163 non-null uint8\n",
      "Neighbourhood_SANTA HELENA                   71163 non-null uint8\n",
      "Neighbourhood_SANTA LUÍZA                    71163 non-null uint8\n",
      "Neighbourhood_SANTA LÚCIA                    71163 non-null uint8\n",
      "Neighbourhood_SANTA MARTHA                   71163 non-null uint8\n",
      "Neighbourhood_SANTA TEREZA                   71163 non-null uint8\n",
      "Neighbourhood_SANTO ANDRÉ                    71163 non-null uint8\n",
      "Neighbourhood_SANTO ANTÔNIO                  71163 non-null uint8\n",
      "Neighbourhood_SANTOS DUMONT                  71163 non-null uint8\n",
      "Neighbourhood_SANTOS REIS                    71163 non-null uint8\n",
      "Neighbourhood_SEGURANÇA DO LAR               71163 non-null uint8\n",
      "Neighbourhood_SOLON BORGES                   71163 non-null uint8\n",
      "Neighbourhood_SÃO BENEDITO                   71163 non-null uint8\n",
      "Neighbourhood_SÃO CRISTÓVÃO                  71163 non-null uint8\n",
      "Neighbourhood_SÃO JOSÉ                       71163 non-null uint8\n",
      "Neighbourhood_SÃO PEDRO                      71163 non-null uint8\n",
      "Neighbourhood_TABUAZEIRO                     71163 non-null uint8\n",
      "Neighbourhood_UNIVERSITÁRIO                  71163 non-null uint8\n",
      "ApptDayofWeek_Friday                         71163 non-null uint8\n",
      "ApptDayofWeek_Thursday                       71163 non-null uint8\n",
      "ApptDayofWeek_Tuesday                        71163 non-null uint8\n",
      "ApptDayofWeek_Wednesday                      71163 non-null uint8\n",
      "SchedDayofWeek_Friday                        71163 non-null uint8\n",
      "SchedDayofWeek_Saturday                      71163 non-null uint8\n",
      "SchedDayofWeek_Thursday                      71163 non-null uint8\n",
      "SchedDayofWeek_Tuesday                       71163 non-null uint8\n",
      "SchedDayofWeek_Wednesday                     71163 non-null uint8\n",
      "dtypes: int64(8), uint8(89)\n",
      "memory usage: 10.9 MB\n",
      "<class 'pandas.core.frame.DataFrame'>\n",
      "Int64Index: 25453 entries, 1 to 39983\n",
      "Data columns (total 85 columns):\n",
      "Age2                                  25453 non-null int64\n",
      "Scholarship                           25453 non-null int64\n",
      "Hipertension                          25453 non-null int64\n",
      "Diabetes                              25453 non-null int64\n",
      "Alcoholism                            25453 non-null int64\n",
      "Handcap_bin                           25453 non-null int64\n",
      "SMS_received                          25453 non-null int64\n",
      "DayDiff2                              25453 non-null int64\n",
      "no_show_rate2                         25453 non-null float64\n",
      "Reschedule                            25453 non-null int64\n",
      "Follow_up                             25453 non-null int64\n",
      "Gender_M                              25453 non-null uint8\n",
      "Neighbourhood2_ANDORINHAS             25453 non-null uint8\n",
      "Neighbourhood2_BARRO VERMELHO         25453 non-null uint8\n",
      "Neighbourhood2_BELA VISTA             25453 non-null uint8\n",
      "Neighbourhood2_BENTO FERREIRA         25453 non-null uint8\n",
      "Neighbourhood2_BOA VISTA              25453 non-null uint8\n",
      "Neighbourhood2_BONFIM                 25453 non-null uint8\n",
      "Neighbourhood2_CARATOÍRA              25453 non-null uint8\n",
      "Neighbourhood2_CENTRO                 25453 non-null uint8\n",
      "Neighbourhood2_COMDUSA                25453 non-null uint8\n",
      "Neighbourhood2_CONQUISTA              25453 non-null uint8\n",
      "Neighbourhood2_CONSOLAÇÃO             25453 non-null uint8\n",
      "Neighbourhood2_CRUZAMENTO             25453 non-null uint8\n",
      "Neighbourhood2_DA PENHA               25453 non-null uint8\n",
      "Neighbourhood2_DE LOURDES             25453 non-null uint8\n",
      "Neighbourhood2_DO CABRAL              25453 non-null uint8\n",
      "Neighbourhood2_DO MOSCOSO             25453 non-null uint8\n",
      "Neighbourhood2_DO QUADRO              25453 non-null uint8\n",
      "Neighbourhood2_ESTRELINHA             25453 non-null uint8\n",
      "Neighbourhood2_FONTE GRANDE           25453 non-null uint8\n",
      "Neighbourhood2_FORTE SÃO JOÃO         25453 non-null uint8\n",
      "Neighbourhood2_GOIABEIRAS             25453 non-null uint8\n",
      "Neighbourhood2_GRANDE VITÓRIA         25453 non-null uint8\n",
      "Neighbourhood2_GURIGICA               25453 non-null uint8\n",
      "Neighbourhood2_ILHA DAS CAIEIRAS      25453 non-null uint8\n",
      "Neighbourhood2_ILHA DE SANTA MARIA    25453 non-null uint8\n",
      "Neighbourhood2_ILHA DO PRÍNCIPE       25453 non-null uint8\n",
      "Neighbourhood2_INHANGUETÁ             25453 non-null uint8\n",
      "Neighbourhood2_ITARARÉ                25453 non-null uint8\n",
      "Neighbourhood2_JABOUR                 25453 non-null uint8\n",
      "Neighbourhood2_JARDIM CAMBURI         25453 non-null uint8\n",
      "Neighbourhood2_JARDIM DA PENHA        25453 non-null uint8\n",
      "Neighbourhood2_JESUS DE NAZARETH      25453 non-null uint8\n",
      "Neighbourhood2_JOANA D´ARC            25453 non-null uint8\n",
      "Neighbourhood2_JUCUTUQUARA            25453 non-null uint8\n",
      "Neighbourhood2_MARIA ORTIZ            25453 non-null uint8\n",
      "Neighbourhood2_MARUÍPE                25453 non-null uint8\n",
      "Neighbourhood2_MATA DA PRAIA          25453 non-null uint8\n",
      "Neighbourhood2_MONTE BELO             25453 non-null uint8\n",
      "Neighbourhood2_NOVA PALESTINA         25453 non-null uint8\n",
      "Neighbourhood2_PARQUE MOSCOSO         25453 non-null uint8\n",
      "Neighbourhood2_PIEDADE                25453 non-null uint8\n",
      "Neighbourhood2_PRAIA DO CANTO         25453 non-null uint8\n",
      "Neighbourhood2_PRAIA DO SUÁ           25453 non-null uint8\n",
      "Neighbourhood2_REDENÇÃO               25453 non-null uint8\n",
      "Neighbourhood2_REPÚBLICA              25453 non-null uint8\n",
      "Neighbourhood2_RESISTÊNCIA            25453 non-null uint8\n",
      "Neighbourhood2_ROMÃO                  25453 non-null uint8\n",
      "Neighbourhood2_SANTA CECÍLIA          25453 non-null uint8\n",
      "Neighbourhood2_SANTA CLARA            25453 non-null uint8\n",
      "Neighbourhood2_SANTA LUÍZA            25453 non-null uint8\n",
      "Neighbourhood2_SANTA LÚCIA            25453 non-null uint8\n",
      "Neighbourhood2_SANTA MARTHA           25453 non-null uint8\n",
      "Neighbourhood2_SANTA TEREZA           25453 non-null uint8\n",
      "Neighbourhood2_SANTO ANDRÉ            25453 non-null uint8\n",
      "Neighbourhood2_SANTO ANTÔNIO          25453 non-null uint8\n",
      "Neighbourhood2_SANTOS DUMONT          25453 non-null uint8\n",
      "Neighbourhood2_SANTOS REIS            25453 non-null uint8\n",
      "Neighbourhood2_SOLON BORGES           25453 non-null uint8\n",
      "Neighbourhood2_SÃO BENEDITO           25453 non-null uint8\n",
      "Neighbourhood2_SÃO CRISTÓVÃO          25453 non-null uint8\n",
      "Neighbourhood2_SÃO JOSÉ               25453 non-null uint8\n",
      "Neighbourhood2_SÃO PEDRO              25453 non-null uint8\n",
      "Neighbourhood2_TABUAZEIRO             25453 non-null uint8\n",
      "Neighbourhood2_VILA RUBIM             25453 non-null uint8\n",
      "SchedDayofWeek_Friday                 25453 non-null uint8\n",
      "SchedDayofWeek_Saturday               25453 non-null uint8\n",
      "SchedDayofWeek_Thursday               25453 non-null uint8\n",
      "SchedDayofWeek_Tuesday                25453 non-null uint8\n",
      "SchedDayofWeek_Wednesday              25453 non-null uint8\n",
      "ApptDayofWeek_Friday                  25453 non-null uint8\n",
      "ApptDayofWeek_Thursday                25453 non-null uint8\n",
      "ApptDayofWeek_Tuesday                 25453 non-null uint8\n",
      "ApptDayofWeek_Wednesday               25453 non-null uint8\n",
      "dtypes: float64(1), int64(10), uint8(74)\n",
      "memory usage: 4.1 MB\n",
      "<class 'pandas.core.frame.DataFrame'>\n",
      "Int64Index: 71163 entries, 65088 to 68006\n",
      "Data columns (total 85 columns):\n",
      "Age2                                  71163 non-null int64\n",
      "Scholarship                           71163 non-null int64\n",
      "Hipertension                          71163 non-null int64\n",
      "Diabetes                              71163 non-null int64\n",
      "Alcoholism                            71163 non-null int64\n",
      "Handcap_bin                           71163 non-null int64\n",
      "SMS_received                          71163 non-null int64\n",
      "DayDiff2                              71163 non-null int64\n",
      "no_show_rate2                         71163 non-null float64\n",
      "Reschedule                            71163 non-null int64\n",
      "Follow_up                             71163 non-null int64\n",
      "Gender_M                              71163 non-null uint8\n",
      "Neighbourhood2_ANDORINHAS             71163 non-null uint8\n",
      "Neighbourhood2_BARRO VERMELHO         71163 non-null uint8\n",
      "Neighbourhood2_BELA VISTA             71163 non-null uint8\n",
      "Neighbourhood2_BENTO FERREIRA         71163 non-null uint8\n",
      "Neighbourhood2_BOA VISTA              71163 non-null uint8\n",
      "Neighbourhood2_BONFIM                 71163 non-null uint8\n",
      "Neighbourhood2_CARATOÍRA              71163 non-null uint8\n",
      "Neighbourhood2_CENTRO                 71163 non-null uint8\n",
      "Neighbourhood2_COMDUSA                71163 non-null uint8\n",
      "Neighbourhood2_CONQUISTA              71163 non-null uint8\n",
      "Neighbourhood2_CONSOLAÇÃO             71163 non-null uint8\n",
      "Neighbourhood2_CRUZAMENTO             71163 non-null uint8\n",
      "Neighbourhood2_DA PENHA               71163 non-null uint8\n",
      "Neighbourhood2_DE LOURDES             71163 non-null uint8\n",
      "Neighbourhood2_DO CABRAL              71163 non-null uint8\n",
      "Neighbourhood2_DO MOSCOSO             71163 non-null uint8\n",
      "Neighbourhood2_DO QUADRO              71163 non-null uint8\n",
      "Neighbourhood2_ESTRELINHA             71163 non-null uint8\n",
      "Neighbourhood2_FONTE GRANDE           71163 non-null uint8\n",
      "Neighbourhood2_FORTE SÃO JOÃO         71163 non-null uint8\n",
      "Neighbourhood2_GOIABEIRAS             71163 non-null uint8\n",
      "Neighbourhood2_GRANDE VITÓRIA         71163 non-null uint8\n",
      "Neighbourhood2_GURIGICA               71163 non-null uint8\n",
      "Neighbourhood2_ILHA DAS CAIEIRAS      71163 non-null uint8\n",
      "Neighbourhood2_ILHA DE SANTA MARIA    71163 non-null uint8\n",
      "Neighbourhood2_ILHA DO PRÍNCIPE       71163 non-null uint8\n",
      "Neighbourhood2_INHANGUETÁ             71163 non-null uint8\n",
      "Neighbourhood2_ITARARÉ                71163 non-null uint8\n",
      "Neighbourhood2_JABOUR                 71163 non-null uint8\n",
      "Neighbourhood2_JARDIM CAMBURI         71163 non-null uint8\n",
      "Neighbourhood2_JARDIM DA PENHA        71163 non-null uint8\n",
      "Neighbourhood2_JESUS DE NAZARETH      71163 non-null uint8\n",
      "Neighbourhood2_JOANA D´ARC            71163 non-null uint8\n",
      "Neighbourhood2_JUCUTUQUARA            71163 non-null uint8\n",
      "Neighbourhood2_MARIA ORTIZ            71163 non-null uint8\n",
      "Neighbourhood2_MARUÍPE                71163 non-null uint8\n",
      "Neighbourhood2_MATA DA PRAIA          71163 non-null uint8\n",
      "Neighbourhood2_MONTE BELO             71163 non-null uint8\n",
      "Neighbourhood2_NOVA PALESTINA         71163 non-null uint8\n",
      "Neighbourhood2_PARQUE MOSCOSO         71163 non-null uint8\n",
      "Neighbourhood2_PIEDADE                71163 non-null uint8\n",
      "Neighbourhood2_PRAIA DO CANTO         71163 non-null uint8\n",
      "Neighbourhood2_PRAIA DO SUÁ           71163 non-null uint8\n",
      "Neighbourhood2_REDENÇÃO               71163 non-null uint8\n",
      "Neighbourhood2_REPÚBLICA              71163 non-null uint8\n",
      "Neighbourhood2_RESISTÊNCIA            71163 non-null uint8\n",
      "Neighbourhood2_ROMÃO                  71163 non-null uint8\n",
      "Neighbourhood2_SANTA CECÍLIA          71163 non-null uint8\n",
      "Neighbourhood2_SANTA CLARA            71163 non-null uint8\n",
      "Neighbourhood2_SANTA LUÍZA            71163 non-null uint8\n",
      "Neighbourhood2_SANTA LÚCIA            71163 non-null uint8\n",
      "Neighbourhood2_SANTA MARTHA           71163 non-null uint8\n",
      "Neighbourhood2_SANTA TEREZA           71163 non-null uint8\n",
      "Neighbourhood2_SANTO ANDRÉ            71163 non-null uint8\n",
      "Neighbourhood2_SANTO ANTÔNIO          71163 non-null uint8\n",
      "Neighbourhood2_SANTOS DUMONT          71163 non-null uint8\n",
      "Neighbourhood2_SANTOS REIS            71163 non-null uint8\n",
      "Neighbourhood2_SOLON BORGES           71163 non-null uint8\n",
      "Neighbourhood2_SÃO BENEDITO           71163 non-null uint8\n",
      "Neighbourhood2_SÃO CRISTÓVÃO          71163 non-null uint8\n",
      "Neighbourhood2_SÃO JOSÉ               71163 non-null uint8\n",
      "Neighbourhood2_SÃO PEDRO              71163 non-null uint8\n",
      "Neighbourhood2_TABUAZEIRO             71163 non-null uint8\n",
      "Neighbourhood2_VILA RUBIM             71163 non-null uint8\n",
      "SchedDayofWeek_Friday                 71163 non-null uint8\n",
      "SchedDayofWeek_Saturday               71163 non-null uint8\n",
      "SchedDayofWeek_Thursday               71163 non-null uint8\n",
      "SchedDayofWeek_Tuesday                71163 non-null uint8\n",
      "SchedDayofWeek_Wednesday              71163 non-null uint8\n",
      "ApptDayofWeek_Friday                  71163 non-null uint8\n",
      "ApptDayofWeek_Thursday                71163 non-null uint8\n",
      "ApptDayofWeek_Tuesday                 71163 non-null uint8\n",
      "ApptDayofWeek_Wednesday               71163 non-null uint8\n",
      "dtypes: float64(1), int64(10), uint8(74)\n",
      "memory usage: 11.5 MB\n"
     ]
    },
    {
     "name": "stdout",
     "output_type": "stream",
     "text": [
      "<class 'pandas.core.frame.DataFrame'>\n",
      "Int64Index: 71163 entries, 65088 to 68006\n",
      "Data columns (total 85 columns):\n",
      "Age2                                  71163 non-null int64\n",
      "Scholarship                           71163 non-null int64\n",
      "Hipertension                          71163 non-null int64\n",
      "Diabetes                              71163 non-null int64\n",
      "Alcoholism                            71163 non-null int64\n",
      "Handcap_bin                           71163 non-null int64\n",
      "SMS_received                          71163 non-null int64\n",
      "DayDiff2                              71163 non-null int64\n",
      "no_show_rate2                         71163 non-null float64\n",
      "Reschedule                            71163 non-null int64\n",
      "Follow_up                             71163 non-null int64\n",
      "Gender_M                              71163 non-null uint8\n",
      "Neighbourhood2_ANDORINHAS             71163 non-null uint8\n",
      "Neighbourhood2_BARRO VERMELHO         71163 non-null uint8\n",
      "Neighbourhood2_BELA VISTA             71163 non-null uint8\n",
      "Neighbourhood2_BENTO FERREIRA         71163 non-null uint8\n",
      "Neighbourhood2_BOA VISTA              71163 non-null uint8\n",
      "Neighbourhood2_BONFIM                 71163 non-null uint8\n",
      "Neighbourhood2_CARATOÍRA              71163 non-null uint8\n",
      "Neighbourhood2_CENTRO                 71163 non-null uint8\n",
      "Neighbourhood2_COMDUSA                71163 non-null uint8\n",
      "Neighbourhood2_CONQUISTA              71163 non-null uint8\n",
      "Neighbourhood2_CONSOLAÇÃO             71163 non-null uint8\n",
      "Neighbourhood2_CRUZAMENTO             71163 non-null uint8\n",
      "Neighbourhood2_DA PENHA               71163 non-null uint8\n",
      "Neighbourhood2_DE LOURDES             71163 non-null uint8\n",
      "Neighbourhood2_DO CABRAL              71163 non-null uint8\n",
      "Neighbourhood2_DO MOSCOSO             71163 non-null uint8\n",
      "Neighbourhood2_DO QUADRO              71163 non-null uint8\n",
      "Neighbourhood2_ESTRELINHA             71163 non-null uint8\n",
      "Neighbourhood2_FONTE GRANDE           71163 non-null uint8\n",
      "Neighbourhood2_FORTE SÃO JOÃO         71163 non-null uint8\n",
      "Neighbourhood2_GOIABEIRAS             71163 non-null uint8\n",
      "Neighbourhood2_GRANDE VITÓRIA         71163 non-null uint8\n",
      "Neighbourhood2_GURIGICA               71163 non-null uint8\n",
      "Neighbourhood2_ILHA DAS CAIEIRAS      71163 non-null uint8\n",
      "Neighbourhood2_ILHA DE SANTA MARIA    71163 non-null uint8\n",
      "Neighbourhood2_ILHA DO PRÍNCIPE       71163 non-null uint8\n",
      "Neighbourhood2_INHANGUETÁ             71163 non-null uint8\n",
      "Neighbourhood2_ITARARÉ                71163 non-null uint8\n",
      "Neighbourhood2_JABOUR                 71163 non-null uint8\n",
      "Neighbourhood2_JARDIM CAMBURI         71163 non-null uint8\n",
      "Neighbourhood2_JARDIM DA PENHA        71163 non-null uint8\n",
      "Neighbourhood2_JESUS DE NAZARETH      71163 non-null uint8\n",
      "Neighbourhood2_JOANA D´ARC            71163 non-null uint8\n",
      "Neighbourhood2_JUCUTUQUARA            71163 non-null uint8\n",
      "Neighbourhood2_MARIA ORTIZ            71163 non-null uint8\n",
      "Neighbourhood2_MARUÍPE                71163 non-null uint8\n",
      "Neighbourhood2_MATA DA PRAIA          71163 non-null uint8\n",
      "Neighbourhood2_MONTE BELO             71163 non-null uint8\n",
      "Neighbourhood2_NOVA PALESTINA         71163 non-null uint8\n",
      "Neighbourhood2_PARQUE MOSCOSO         71163 non-null uint8\n",
      "Neighbourhood2_PIEDADE                71163 non-null uint8\n",
      "Neighbourhood2_PRAIA DO CANTO         71163 non-null uint8\n",
      "Neighbourhood2_PRAIA DO SUÁ           71163 non-null uint8\n",
      "Neighbourhood2_REDENÇÃO               71163 non-null uint8\n",
      "Neighbourhood2_REPÚBLICA              71163 non-null uint8\n",
      "Neighbourhood2_RESISTÊNCIA            71163 non-null uint8\n",
      "Neighbourhood2_ROMÃO                  71163 non-null uint8\n",
      "Neighbourhood2_SANTA CECÍLIA          71163 non-null uint8\n",
      "Neighbourhood2_SANTA CLARA            71163 non-null uint8\n",
      "Neighbourhood2_SANTA LUÍZA            71163 non-null uint8\n",
      "Neighbourhood2_SANTA LÚCIA            71163 non-null uint8\n",
      "Neighbourhood2_SANTA MARTHA           71163 non-null uint8\n",
      "Neighbourhood2_SANTA TEREZA           71163 non-null uint8\n",
      "Neighbourhood2_SANTO ANDRÉ            71163 non-null uint8\n",
      "Neighbourhood2_SANTO ANTÔNIO          71163 non-null uint8\n",
      "Neighbourhood2_SANTOS DUMONT          71163 non-null uint8\n",
      "Neighbourhood2_SANTOS REIS            71163 non-null uint8\n",
      "Neighbourhood2_SOLON BORGES           71163 non-null uint8\n",
      "Neighbourhood2_SÃO BENEDITO           71163 non-null uint8\n",
      "Neighbourhood2_SÃO CRISTÓVÃO          71163 non-null uint8\n",
      "Neighbourhood2_SÃO JOSÉ               71163 non-null uint8\n",
      "Neighbourhood2_SÃO PEDRO              71163 non-null uint8\n",
      "Neighbourhood2_TABUAZEIRO             71163 non-null uint8\n",
      "Neighbourhood2_VILA RUBIM             71163 non-null uint8\n",
      "SchedDayofWeek_Friday                 71163 non-null uint8\n",
      "SchedDayofWeek_Saturday               71163 non-null uint8\n",
      "SchedDayofWeek_Thursday               71163 non-null uint8\n",
      "SchedDayofWeek_Tuesday                71163 non-null uint8\n",
      "SchedDayofWeek_Wednesday              71163 non-null uint8\n",
      "ApptDayofWeek_Friday                  71163 non-null uint8\n",
      "ApptDayofWeek_Thursday                71163 non-null uint8\n",
      "ApptDayofWeek_Tuesday                 71163 non-null uint8\n",
      "ApptDayofWeek_Wednesday               71163 non-null uint8\n",
      "dtypes: float64(1), int64(10), uint8(74)\n",
      "memory usage: 11.5 MB\n"
     ]
    }
   ],
   "source": [
    "#Set features\n",
    "# run for appt - all appts, basic features\n",
    "feature_cols = ['Gender','Age','Scholarship','Hipertension','Diabetes','Alcoholism','Handcap','SMS_received',\n",
    "                'ApptDayofWeek','SchedDayofWeek','Neighbourhood','DayDiff']\n",
    "a_Xv1 = appt[feature_cols]\n",
    "a_Xv1 = pd.get_dummies(a_Xv1, columns = ['Gender','Neighbourhood','ApptDayofWeek','SchedDayofWeek'])\n",
    "a_Xv1.drop(columns=['Gender_F','Neighbourhood_VILA RUBIM','SchedDayofWeek_Monday','ApptDayofWeek_Monday'],inplace=True)\n",
    "Xv1_cols = np.array(a_Xv1.columns)\n",
    "a_Xv1.info()\n",
    "\n",
    "## run for appt_v2 - second or more appts, adds historical features\n",
    "feature_cols = ['Gender','Age2','Neighbourhood2','Scholarship','Hipertension','Diabetes','Alcoholism',\n",
    "                'Handcap_bin','SMS_received','SchedDayofWeek','ApptDayofWeek','DayDiff2',\n",
    "                'no_show_rate2','Reschedule','Follow_up']\n",
    "a_Xv2 = appt_v2[feature_cols]\n",
    "a_Xv2 = pd.get_dummies(a_Xv2, columns = ['Gender','Neighbourhood2','SchedDayofWeek','ApptDayofWeek'])\n",
    "a_Xv2.drop(columns=['Gender_F','Neighbourhood2_OTHER','SchedDayofWeek_Monday','ApptDayofWeek_Monday'],inplace=True)\n",
    "Xv2_cols = np.array(a_Xv2.columns)\n",
    "a_Xv2.info()\n",
    "# a_X.head(5)\n",
    "\n",
    "## run for appt_v2_all0 - all appts, replaces no-show-rate NA's as 0's\n",
    "feature_cols = ['Gender','Age2','Neighbourhood2','Scholarship','Hipertension','Diabetes','Alcoholism',\n",
    "                'Handcap_bin','SMS_received','SchedDayofWeek','ApptDayofWeek','DayDiff2',\n",
    "                'no_show_rate2','Reschedule','Follow_up']\n",
    "a_Xv3 = appt_v3[feature_cols]\n",
    "a_Xv3 = pd.get_dummies(a_Xv3, columns = ['Gender','Neighbourhood2','SchedDayofWeek','ApptDayofWeek'])\n",
    "a_Xv3.drop(columns=['Gender_F','Neighbourhood2_OTHER','SchedDayofWeek_Monday','ApptDayofWeek_Monday'],inplace=True)\n",
    "Xv3_cols = np.array(a_Xv3.columns)\n",
    "a_Xv3.info()\n",
    "\n",
    "## run for appt_v2_all1 - all appts, replaces no-show-rate NA's as imputed from linreg's\n",
    "feature_cols = ['Gender','Age2','Neighbourhood2','Scholarship','Hipertension','Diabetes','Alcoholism',\n",
    "                'Handcap_bin','SMS_received','SchedDayofWeek','ApptDayofWeek','DayDiff2',\n",
    "                'no_show_rate2','Reschedule','Follow_up']\n",
    "a_Xv4 = appt_v4[feature_cols]\n",
    "a_Xv4 = pd.get_dummies(a_Xv4, columns = ['Gender','Neighbourhood2','SchedDayofWeek','ApptDayofWeek'])\n",
    "a_Xv4.drop(columns=['Gender_F','Neighbourhood2_OTHER','SchedDayofWeek_Monday','ApptDayofWeek_Monday'],inplace=True)\n",
    "Xv4_cols = np.array(a_Xv4.columns)\n",
    "a_Xv4.info()"
   ]
  },
  {
   "cell_type": "code",
   "execution_count": 16,
   "metadata": {},
   "outputs": [],
   "source": [
    "#appt\n",
    "Xv1, yv1 = a_Xv1, appt['No_show_num']\n",
    "Xv1_train, Xv1_test, yv1_train, yv1_test = train_test_split(Xv1, yv1, test_size = 0.25, random_state = 10, stratify = yv1)\n",
    "#appt_v2\n",
    "Xv2, yv2 = a_Xv2, appt_v2['No_show_num']\n",
    "Xv2_train, Xv2_test, yv2_train, yv2_test = train_test_split(Xv2, yv2, test_size = 0.25, random_state = 10, stratify = yv2)\n",
    "#appt_v3\n",
    "Xv3, yv3 = a_Xv3, appt_v3['No_show_num']\n",
    "Xv3_train, Xv3_test, yv3_train, yv3_test = train_test_split(Xv3, yv3, test_size = 0.25, random_state = 10, stratify = yv3)\n",
    "#appt_v4\n",
    "Xv4, yv4 = a_Xv4, appt_v4['No_show_num']\n",
    "Xv4_train, Xv4_test, yv4_train, yv4_test = train_test_split(Xv4, yv4, test_size = 0.25, random_state = 10, stratify = yv4)"
   ]
  },
  {
   "cell_type": "code",
   "execution_count": 55,
   "metadata": {},
   "outputs": [],
   "source": [
    "#appt_v4\n",
    "Xv4, yv4 = a_Xv4, appt_v4['No_show_num']\n",
    "Xv4_train, Xv4_test, yv4_train, yv4_test = train_test_split(Xv4, yv4, test_size = 0.25, random_state = 10, stratify = yv4)"
   ]
  },
  {
   "cell_type": "code",
   "execution_count": 63,
   "metadata": {},
   "outputs": [],
   "source": [
    "def oversample(X_train,y_train):\n",
    "    ros = RandomOverSampler(random_state=42)\n",
    "    X_resampled, y_resampled = ros.fit_sample(X_train,y_train)\n",
    "    X_resampled = pd.DataFrame(X_resampled,columns=X_train.columns)\n",
    "    print(Counter(y_resampled))\n",
    "    return X_resampled, y_resampled\n"
   ]
  },
  {
   "cell_type": "code",
   "execution_count": 64,
   "metadata": {},
   "outputs": [
    {
     "name": "stdout",
     "output_type": "stream",
     "text": [
      "Counter({0: 38276, 1: 38276})\n"
     ]
    }
   ],
   "source": [
    "Xv4_resampled, yv4_resampled = oversample(Xv4_train,yv4_train)"
   ]
  },
  {
   "cell_type": "code",
   "execution_count": 115,
   "metadata": {},
   "outputs": [
    {
     "name": "stdout",
     "output_type": "stream",
     "text": [
      "Counter({0: 38276, 1: 38276})\n"
     ]
    }
   ],
   "source": [
    "Xv3_resampled, yv3_resampled = oversample(Xv3_train,yv3_train)"
   ]
  },
  {
   "cell_type": "code",
   "execution_count": 65,
   "metadata": {},
   "outputs": [
    {
     "name": "stdout",
     "output_type": "stream",
     "text": [
      "Counter({0: 13739, 1: 13739})\n"
     ]
    }
   ],
   "source": [
    "Xv2_resampled, yv2_resampled = oversample(Xv2_train,yv2_train)"
   ]
  },
  {
   "cell_type": "markdown",
   "metadata": {},
   "source": [
    "### Grid Search investigation - NEED TO UPDATE W/ RESAMPLED DATA"
   ]
  },
  {
   "cell_type": "code",
   "execution_count": null,
   "metadata": {},
   "outputs": [],
   "source": [
    "kf = StratifiedKFold(n_splits=5,random_state=60,shuffle=True)"
   ]
  },
  {
   "cell_type": "code",
   "execution_count": null,
   "metadata": {},
   "outputs": [],
   "source": [
    "def resamp(\n",
    "    for train_ind, val_ind in kf.split(X_train,y_train):\n",
    "            X_tr, y_tr = X_train[train_ind], y_train[train_ind]\n",
    "            #perform oversampling on the train test\n",
    "            ros = RandomOverSampler(random_state=42)\n",
    "            X_resampled, y_resampled = ros.fit_sample(X_tr,y_tr)"
   ]
  },
  {
   "cell_type": "code",
   "execution_count": 102,
   "metadata": {},
   "outputs": [],
   "source": [
    "from imblearn.pipeline import Pipeline\n",
    "model = Pipeline([\n",
    "        ('sampling', RandomOverSampler(random_state=42)),\n",
    "        ('class', LogisticRegression())\n",
    "    ])"
   ]
  },
  {
   "cell_type": "code",
   "execution_count": 109,
   "metadata": {},
   "outputs": [],
   "source": [
    "grid_params ={'class__penalty':['l1','l2'],\n",
    "              'class__max_iter':[100,200,300],\n",
    "              'class__solver':['liblinear','saga']}"
   ]
  },
  {
   "cell_type": "code",
   "execution_count": 112,
   "metadata": {},
   "outputs": [],
   "source": [
    "def lrgs(X_train,y_train,X_test,y_test,version):\n",
    "    start = time.time()\n",
    "    \n",
    "    LR_GS=GridSearchCV(model,grid_params,cv=5,n_jobs=-1,verbose=1,scoring='recall')\n",
    "    LR_GS.fit(X_train,y_train)\n",
    "    y_test_LR_GS_o = LR_GS.predict(X_test)\n",
    "    y_test_LR_GS_o_prob = LR.predict_proba(X_test)[:,1]\n",
    "    print_scores(y_test,y_test_LR_GS_o)\n",
    "    print(f'LR {version}: {roc_auc_score(y_test, y_test_LR_GS_o_prob):.3f}') # LR\n",
    "    print(LR_GS.best_params_)\n",
    "    end = time.time()\n",
    "    print('minutes:',(end-start)/60)\n",
    "    \n",
    "    return"
   ]
  },
  {
   "cell_type": "code",
   "execution_count": 116,
   "metadata": {},
   "outputs": [
    {
     "name": "stdout",
     "output_type": "stream",
     "text": [
      "Fitting 5 folds for each of 12 candidates, totalling 60 fits\n"
     ]
    },
    {
     "name": "stderr",
     "output_type": "stream",
     "text": [
      "[Parallel(n_jobs=-1)]: Using backend LokyBackend with 4 concurrent workers.\n",
      "[Parallel(n_jobs=-1)]: Done  42 tasks      | elapsed:   36.8s\n",
      "[Parallel(n_jobs=-1)]: Done  60 out of  60 | elapsed:  1.4min finished\n"
     ]
    },
    {
     "name": "stdout",
     "output_type": "stream",
     "text": [
      "Accuracy score: 0.6407919547454431\n",
      "F1 score: 0.45752254390128144\n",
      "Precision (true + / all predicted +): 0.3965446318387495\n",
      "Recall (true + / all actual +): 0.5406618059450364\n",
      "LR v2: 0.651\n",
      "{'class__max_iter': 100, 'class__penalty': 'l2', 'class__solver': 'liblinear'}\n",
      "minutes: 1.3625544826189677\n"
     ]
    }
   ],
   "source": [
    "lrgs(Xv2_train,yv2_train,Xv2_test,yv2_test,'v2')"
   ]
  },
  {
   "cell_type": "code",
   "execution_count": 118,
   "metadata": {},
   "outputs": [
    {
     "name": "stdout",
     "output_type": "stream",
     "text": [
      "Fitting 5 folds for each of 12 candidates, totalling 60 fits\n"
     ]
    },
    {
     "name": "stderr",
     "output_type": "stream",
     "text": [
      "[Parallel(n_jobs=-1)]: Using backend LokyBackend with 4 concurrent workers.\n",
      "[Parallel(n_jobs=-1)]: Done  42 tasks      | elapsed:  1.9min\n",
      "[Parallel(n_jobs=-1)]: Done  60 out of  60 | elapsed:  3.9min finished\n"
     ]
    },
    {
     "name": "stdout",
     "output_type": "stream",
     "text": [
      "Accuracy score: 0.5929402506885504\n",
      "F1 score: 0.42985356636750116\n",
      "Precision (true + / all predicted +): 0.3559322033898305\n",
      "Recall (true + / all actual +): 0.5425278219395866\n",
      "LR v3: 0.609\n",
      "{'class__max_iter': 100, 'class__penalty': 'l2', 'class__solver': 'liblinear'}\n",
      "minutes: 3.9032919804255166\n"
     ]
    }
   ],
   "source": [
    "lrgs(Xv3_train,yv3_train,Xv3_test,yv3_test,'v3')"
   ]
  },
  {
   "cell_type": "code",
   "execution_count": 117,
   "metadata": {},
   "outputs": [
    {
     "name": "stdout",
     "output_type": "stream",
     "text": [
      "Fitting 5 folds for each of 12 candidates, totalling 60 fits\n"
     ]
    },
    {
     "name": "stderr",
     "output_type": "stream",
     "text": [
      "[Parallel(n_jobs=-1)]: Using backend LokyBackend with 4 concurrent workers.\n",
      "[Parallel(n_jobs=-1)]: Done  42 tasks      | elapsed:  1.9min\n",
      "[Parallel(n_jobs=-1)]: Done  60 out of  60 | elapsed:  4.0min finished\n"
     ]
    },
    {
     "name": "stdout",
     "output_type": "stream",
     "text": [
      "Accuracy score: 0.5977741554718679\n",
      "F1 score: 0.43900909375979924\n",
      "Precision (true + / all predicted +): 0.3625064733298809\n",
      "Recall (true + / all actual +): 0.5564387917329093\n",
      "LR v4: 0.619\n",
      "{'class__max_iter': 100, 'class__penalty': 'l2', 'class__solver': 'liblinear'}\n",
      "minutes: 3.9976367990175885\n"
     ]
    }
   ],
   "source": [
    "lrgs(Xv4_train,yv4_train,Xv4_test,yv4_test,'v4')"
   ]
  },
  {
   "cell_type": "markdown",
   "metadata": {},
   "source": [
    "#### Logistic Regression"
   ]
  },
  {
   "cell_type": "code",
   "execution_count": 76,
   "metadata": {},
   "outputs": [],
   "source": [
    "def lrgs(X_train,y_train,X_test,y_test,version):\n",
    "    start = time.time()\n",
    "\n",
    "    grid_params ={'C':np.logspace(-3,3,7),\n",
    "                  'penalty':['l1','l2'],\n",
    "                  'max_iter':[100,200,300],\n",
    "                  'solver':['liblinear','saga']}# l1 lasso l2 ridge\n",
    "    LR_GS=GridSearchCV(LogisticRegression(),grid_params,cv=kf,n_jobs=-1,verbose=1)\n",
    "    LR_GS.fit(X_train,y_train)\n",
    "    y_test_LR_GS_o = LR_GS.predict(X_test)\n",
    "    y_test_LR_GS_o_prob = LR.predict_proba(X_test)[:,1]\n",
    "    print_scores(y_test,y_test_LR_GS_o)\n",
    "    print(f'LR {version}: {roc_auc_score(y_test, y_test_LR_GS_o_prob):.3f}') # LR\n",
    "    print(LR_GS.best_params_)\n",
    "    end = time.time()\n",
    "    print('minutes:',(end-start)/60)\n",
    "    return"
   ]
  },
  {
   "cell_type": "code",
   "execution_count": 77,
   "metadata": {},
   "outputs": [
    {
     "name": "stdout",
     "output_type": "stream",
     "text": [
      "Fitting 5 folds for each of 84 candidates, totalling 420 fits\n"
     ]
    },
    {
     "name": "stderr",
     "output_type": "stream",
     "text": [
      "[Parallel(n_jobs=-1)]: Using backend LokyBackend with 4 concurrent workers.\n",
      "[Parallel(n_jobs=-1)]: Done  42 tasks      | elapsed:   21.7s\n"
     ]
    },
    {
     "ename": "KeyboardInterrupt",
     "evalue": "",
     "output_type": "error",
     "traceback": [
      "\u001b[0;31m---------------------------------------------------------------------------\u001b[0m",
      "\u001b[0;31mKeyboardInterrupt\u001b[0m                         Traceback (most recent call last)",
      "\u001b[0;32m<ipython-input-77-7c96097609b4>\u001b[0m in \u001b[0;36m<module>\u001b[0;34m\u001b[0m\n\u001b[0;32m----> 1\u001b[0;31m \u001b[0mlrgs\u001b[0m\u001b[0;34m(\u001b[0m\u001b[0mXv2_resampled\u001b[0m\u001b[0;34m,\u001b[0m\u001b[0myv2_resampled\u001b[0m\u001b[0;34m,\u001b[0m\u001b[0mXv2_test\u001b[0m\u001b[0;34m,\u001b[0m\u001b[0myv2_test\u001b[0m\u001b[0;34m,\u001b[0m\u001b[0;34m'v2'\u001b[0m\u001b[0;34m)\u001b[0m\u001b[0;34m\u001b[0m\u001b[0;34m\u001b[0m\u001b[0m\n\u001b[0m",
      "\u001b[0;32m<ipython-input-76-db30fc464363>\u001b[0m in \u001b[0;36mlrgs\u001b[0;34m(X_train, y_train, X_test, y_test, version)\u001b[0m\n\u001b[1;32m      7\u001b[0m                   'solver':['liblinear','saga']}# l1 lasso l2 ridge\n\u001b[1;32m      8\u001b[0m     \u001b[0mLR_GS\u001b[0m\u001b[0;34m=\u001b[0m\u001b[0mGridSearchCV\u001b[0m\u001b[0;34m(\u001b[0m\u001b[0mLogisticRegression\u001b[0m\u001b[0;34m(\u001b[0m\u001b[0;34m)\u001b[0m\u001b[0;34m,\u001b[0m\u001b[0mgrid_params\u001b[0m\u001b[0;34m,\u001b[0m\u001b[0mcv\u001b[0m\u001b[0;34m=\u001b[0m\u001b[0mkf\u001b[0m\u001b[0;34m,\u001b[0m\u001b[0mn_jobs\u001b[0m\u001b[0;34m=\u001b[0m\u001b[0;34m-\u001b[0m\u001b[0;36m1\u001b[0m\u001b[0;34m,\u001b[0m\u001b[0mverbose\u001b[0m\u001b[0;34m=\u001b[0m\u001b[0;36m1\u001b[0m\u001b[0;34m)\u001b[0m\u001b[0;34m\u001b[0m\u001b[0;34m\u001b[0m\u001b[0m\n\u001b[0;32m----> 9\u001b[0;31m     \u001b[0mLR_GS\u001b[0m\u001b[0;34m.\u001b[0m\u001b[0mfit\u001b[0m\u001b[0;34m(\u001b[0m\u001b[0mX_train\u001b[0m\u001b[0;34m,\u001b[0m\u001b[0my_train\u001b[0m\u001b[0;34m)\u001b[0m\u001b[0;34m\u001b[0m\u001b[0;34m\u001b[0m\u001b[0m\n\u001b[0m\u001b[1;32m     10\u001b[0m     \u001b[0my_test_LR_GS_o\u001b[0m \u001b[0;34m=\u001b[0m \u001b[0mLR_GS\u001b[0m\u001b[0;34m.\u001b[0m\u001b[0mpredict\u001b[0m\u001b[0;34m(\u001b[0m\u001b[0mX_test\u001b[0m\u001b[0;34m)\u001b[0m\u001b[0;34m\u001b[0m\u001b[0;34m\u001b[0m\u001b[0m\n\u001b[1;32m     11\u001b[0m     \u001b[0my_test_LR_GS_o_prob\u001b[0m \u001b[0;34m=\u001b[0m \u001b[0mLR\u001b[0m\u001b[0;34m.\u001b[0m\u001b[0mpredict_proba\u001b[0m\u001b[0;34m(\u001b[0m\u001b[0mX_test\u001b[0m\u001b[0;34m)\u001b[0m\u001b[0;34m[\u001b[0m\u001b[0;34m:\u001b[0m\u001b[0;34m,\u001b[0m\u001b[0;36m1\u001b[0m\u001b[0;34m]\u001b[0m\u001b[0;34m\u001b[0m\u001b[0;34m\u001b[0m\u001b[0m\n",
      "\u001b[0;32m~/anaconda3/envs/metis/lib/python3.6/site-packages/sklearn/model_selection/_search.py\u001b[0m in \u001b[0;36mfit\u001b[0;34m(self, X, y, groups, **fit_params)\u001b[0m\n\u001b[1;32m    686\u001b[0m                 \u001b[0;32mreturn\u001b[0m \u001b[0mresults\u001b[0m\u001b[0;34m\u001b[0m\u001b[0;34m\u001b[0m\u001b[0m\n\u001b[1;32m    687\u001b[0m \u001b[0;34m\u001b[0m\u001b[0m\n\u001b[0;32m--> 688\u001b[0;31m             \u001b[0mself\u001b[0m\u001b[0;34m.\u001b[0m\u001b[0m_run_search\u001b[0m\u001b[0;34m(\u001b[0m\u001b[0mevaluate_candidates\u001b[0m\u001b[0;34m)\u001b[0m\u001b[0;34m\u001b[0m\u001b[0;34m\u001b[0m\u001b[0m\n\u001b[0m\u001b[1;32m    689\u001b[0m \u001b[0;34m\u001b[0m\u001b[0m\n\u001b[1;32m    690\u001b[0m         \u001b[0;31m# For multi-metric evaluation, store the best_index_, best_params_ and\u001b[0m\u001b[0;34m\u001b[0m\u001b[0;34m\u001b[0m\u001b[0;34m\u001b[0m\u001b[0m\n",
      "\u001b[0;32m~/anaconda3/envs/metis/lib/python3.6/site-packages/sklearn/model_selection/_search.py\u001b[0m in \u001b[0;36m_run_search\u001b[0;34m(self, evaluate_candidates)\u001b[0m\n\u001b[1;32m   1147\u001b[0m     \u001b[0;32mdef\u001b[0m \u001b[0m_run_search\u001b[0m\u001b[0;34m(\u001b[0m\u001b[0mself\u001b[0m\u001b[0;34m,\u001b[0m \u001b[0mevaluate_candidates\u001b[0m\u001b[0;34m)\u001b[0m\u001b[0;34m:\u001b[0m\u001b[0;34m\u001b[0m\u001b[0;34m\u001b[0m\u001b[0m\n\u001b[1;32m   1148\u001b[0m         \u001b[0;34m\"\"\"Search all candidates in param_grid\"\"\"\u001b[0m\u001b[0;34m\u001b[0m\u001b[0;34m\u001b[0m\u001b[0m\n\u001b[0;32m-> 1149\u001b[0;31m         \u001b[0mevaluate_candidates\u001b[0m\u001b[0;34m(\u001b[0m\u001b[0mParameterGrid\u001b[0m\u001b[0;34m(\u001b[0m\u001b[0mself\u001b[0m\u001b[0;34m.\u001b[0m\u001b[0mparam_grid\u001b[0m\u001b[0;34m)\u001b[0m\u001b[0;34m)\u001b[0m\u001b[0;34m\u001b[0m\u001b[0;34m\u001b[0m\u001b[0m\n\u001b[0m\u001b[1;32m   1150\u001b[0m \u001b[0;34m\u001b[0m\u001b[0m\n\u001b[1;32m   1151\u001b[0m \u001b[0;34m\u001b[0m\u001b[0m\n",
      "\u001b[0;32m~/anaconda3/envs/metis/lib/python3.6/site-packages/sklearn/model_selection/_search.py\u001b[0m in \u001b[0;36mevaluate_candidates\u001b[0;34m(candidate_params)\u001b[0m\n\u001b[1;32m    665\u001b[0m                                \u001b[0;32mfor\u001b[0m \u001b[0mparameters\u001b[0m\u001b[0;34m,\u001b[0m \u001b[0;34m(\u001b[0m\u001b[0mtrain\u001b[0m\u001b[0;34m,\u001b[0m \u001b[0mtest\u001b[0m\u001b[0;34m)\u001b[0m\u001b[0;34m\u001b[0m\u001b[0;34m\u001b[0m\u001b[0m\n\u001b[1;32m    666\u001b[0m                                in product(candidate_params,\n\u001b[0;32m--> 667\u001b[0;31m                                           cv.split(X, y, groups)))\n\u001b[0m\u001b[1;32m    668\u001b[0m \u001b[0;34m\u001b[0m\u001b[0m\n\u001b[1;32m    669\u001b[0m                 \u001b[0;32mif\u001b[0m \u001b[0mlen\u001b[0m\u001b[0;34m(\u001b[0m\u001b[0mout\u001b[0m\u001b[0;34m)\u001b[0m \u001b[0;34m<\u001b[0m \u001b[0;36m1\u001b[0m\u001b[0;34m:\u001b[0m\u001b[0;34m\u001b[0m\u001b[0;34m\u001b[0m\u001b[0m\n",
      "\u001b[0;32m~/anaconda3/envs/metis/lib/python3.6/site-packages/joblib/parallel.py\u001b[0m in \u001b[0;36m__call__\u001b[0;34m(self, iterable)\u001b[0m\n\u001b[1;32m    932\u001b[0m \u001b[0;34m\u001b[0m\u001b[0m\n\u001b[1;32m    933\u001b[0m             \u001b[0;32mwith\u001b[0m \u001b[0mself\u001b[0m\u001b[0;34m.\u001b[0m\u001b[0m_backend\u001b[0m\u001b[0;34m.\u001b[0m\u001b[0mretrieval_context\u001b[0m\u001b[0;34m(\u001b[0m\u001b[0;34m)\u001b[0m\u001b[0;34m:\u001b[0m\u001b[0;34m\u001b[0m\u001b[0;34m\u001b[0m\u001b[0m\n\u001b[0;32m--> 934\u001b[0;31m                 \u001b[0mself\u001b[0m\u001b[0;34m.\u001b[0m\u001b[0mretrieve\u001b[0m\u001b[0;34m(\u001b[0m\u001b[0;34m)\u001b[0m\u001b[0;34m\u001b[0m\u001b[0;34m\u001b[0m\u001b[0m\n\u001b[0m\u001b[1;32m    935\u001b[0m             \u001b[0;31m# Make sure that we get a last message telling us we are done\u001b[0m\u001b[0;34m\u001b[0m\u001b[0;34m\u001b[0m\u001b[0;34m\u001b[0m\u001b[0m\n\u001b[1;32m    936\u001b[0m             \u001b[0melapsed_time\u001b[0m \u001b[0;34m=\u001b[0m \u001b[0mtime\u001b[0m\u001b[0;34m.\u001b[0m\u001b[0mtime\u001b[0m\u001b[0;34m(\u001b[0m\u001b[0;34m)\u001b[0m \u001b[0;34m-\u001b[0m \u001b[0mself\u001b[0m\u001b[0;34m.\u001b[0m\u001b[0m_start_time\u001b[0m\u001b[0;34m\u001b[0m\u001b[0;34m\u001b[0m\u001b[0m\n",
      "\u001b[0;32m~/anaconda3/envs/metis/lib/python3.6/site-packages/joblib/parallel.py\u001b[0m in \u001b[0;36mretrieve\u001b[0;34m(self)\u001b[0m\n\u001b[1;32m    831\u001b[0m             \u001b[0;32mtry\u001b[0m\u001b[0;34m:\u001b[0m\u001b[0;34m\u001b[0m\u001b[0;34m\u001b[0m\u001b[0m\n\u001b[1;32m    832\u001b[0m                 \u001b[0;32mif\u001b[0m \u001b[0mgetattr\u001b[0m\u001b[0;34m(\u001b[0m\u001b[0mself\u001b[0m\u001b[0;34m.\u001b[0m\u001b[0m_backend\u001b[0m\u001b[0;34m,\u001b[0m \u001b[0;34m'supports_timeout'\u001b[0m\u001b[0;34m,\u001b[0m \u001b[0;32mFalse\u001b[0m\u001b[0;34m)\u001b[0m\u001b[0;34m:\u001b[0m\u001b[0;34m\u001b[0m\u001b[0;34m\u001b[0m\u001b[0m\n\u001b[0;32m--> 833\u001b[0;31m                     \u001b[0mself\u001b[0m\u001b[0;34m.\u001b[0m\u001b[0m_output\u001b[0m\u001b[0;34m.\u001b[0m\u001b[0mextend\u001b[0m\u001b[0;34m(\u001b[0m\u001b[0mjob\u001b[0m\u001b[0;34m.\u001b[0m\u001b[0mget\u001b[0m\u001b[0;34m(\u001b[0m\u001b[0mtimeout\u001b[0m\u001b[0;34m=\u001b[0m\u001b[0mself\u001b[0m\u001b[0;34m.\u001b[0m\u001b[0mtimeout\u001b[0m\u001b[0;34m)\u001b[0m\u001b[0;34m)\u001b[0m\u001b[0;34m\u001b[0m\u001b[0;34m\u001b[0m\u001b[0m\n\u001b[0m\u001b[1;32m    834\u001b[0m                 \u001b[0;32melse\u001b[0m\u001b[0;34m:\u001b[0m\u001b[0;34m\u001b[0m\u001b[0;34m\u001b[0m\u001b[0m\n\u001b[1;32m    835\u001b[0m                     \u001b[0mself\u001b[0m\u001b[0;34m.\u001b[0m\u001b[0m_output\u001b[0m\u001b[0;34m.\u001b[0m\u001b[0mextend\u001b[0m\u001b[0;34m(\u001b[0m\u001b[0mjob\u001b[0m\u001b[0;34m.\u001b[0m\u001b[0mget\u001b[0m\u001b[0;34m(\u001b[0m\u001b[0;34m)\u001b[0m\u001b[0;34m)\u001b[0m\u001b[0;34m\u001b[0m\u001b[0;34m\u001b[0m\u001b[0m\n",
      "\u001b[0;32m~/anaconda3/envs/metis/lib/python3.6/site-packages/joblib/_parallel_backends.py\u001b[0m in \u001b[0;36mwrap_future_result\u001b[0;34m(future, timeout)\u001b[0m\n\u001b[1;32m    519\u001b[0m         AsyncResults.get from multiprocessing.\"\"\"\n\u001b[1;32m    520\u001b[0m         \u001b[0;32mtry\u001b[0m\u001b[0;34m:\u001b[0m\u001b[0;34m\u001b[0m\u001b[0;34m\u001b[0m\u001b[0m\n\u001b[0;32m--> 521\u001b[0;31m             \u001b[0;32mreturn\u001b[0m \u001b[0mfuture\u001b[0m\u001b[0;34m.\u001b[0m\u001b[0mresult\u001b[0m\u001b[0;34m(\u001b[0m\u001b[0mtimeout\u001b[0m\u001b[0;34m=\u001b[0m\u001b[0mtimeout\u001b[0m\u001b[0;34m)\u001b[0m\u001b[0;34m\u001b[0m\u001b[0;34m\u001b[0m\u001b[0m\n\u001b[0m\u001b[1;32m    522\u001b[0m         \u001b[0;32mexcept\u001b[0m \u001b[0mLokyTimeoutError\u001b[0m\u001b[0;34m:\u001b[0m\u001b[0;34m\u001b[0m\u001b[0;34m\u001b[0m\u001b[0m\n\u001b[1;32m    523\u001b[0m             \u001b[0;32mraise\u001b[0m \u001b[0mTimeoutError\u001b[0m\u001b[0;34m(\u001b[0m\u001b[0;34m)\u001b[0m\u001b[0;34m\u001b[0m\u001b[0;34m\u001b[0m\u001b[0m\n",
      "\u001b[0;32m~/anaconda3/envs/metis/lib/python3.6/concurrent/futures/_base.py\u001b[0m in \u001b[0;36mresult\u001b[0;34m(self, timeout)\u001b[0m\n\u001b[1;32m    425\u001b[0m                 \u001b[0;32mreturn\u001b[0m \u001b[0mself\u001b[0m\u001b[0;34m.\u001b[0m\u001b[0m__get_result\u001b[0m\u001b[0;34m(\u001b[0m\u001b[0;34m)\u001b[0m\u001b[0;34m\u001b[0m\u001b[0;34m\u001b[0m\u001b[0m\n\u001b[1;32m    426\u001b[0m \u001b[0;34m\u001b[0m\u001b[0m\n\u001b[0;32m--> 427\u001b[0;31m             \u001b[0mself\u001b[0m\u001b[0;34m.\u001b[0m\u001b[0m_condition\u001b[0m\u001b[0;34m.\u001b[0m\u001b[0mwait\u001b[0m\u001b[0;34m(\u001b[0m\u001b[0mtimeout\u001b[0m\u001b[0;34m)\u001b[0m\u001b[0;34m\u001b[0m\u001b[0;34m\u001b[0m\u001b[0m\n\u001b[0m\u001b[1;32m    428\u001b[0m \u001b[0;34m\u001b[0m\u001b[0m\n\u001b[1;32m    429\u001b[0m             \u001b[0;32mif\u001b[0m \u001b[0mself\u001b[0m\u001b[0;34m.\u001b[0m\u001b[0m_state\u001b[0m \u001b[0;32min\u001b[0m \u001b[0;34m[\u001b[0m\u001b[0mCANCELLED\u001b[0m\u001b[0;34m,\u001b[0m \u001b[0mCANCELLED_AND_NOTIFIED\u001b[0m\u001b[0;34m]\u001b[0m\u001b[0;34m:\u001b[0m\u001b[0;34m\u001b[0m\u001b[0;34m\u001b[0m\u001b[0m\n",
      "\u001b[0;32m~/anaconda3/envs/metis/lib/python3.6/threading.py\u001b[0m in \u001b[0;36mwait\u001b[0;34m(self, timeout)\u001b[0m\n\u001b[1;32m    293\u001b[0m         \u001b[0;32mtry\u001b[0m\u001b[0;34m:\u001b[0m    \u001b[0;31m# restore state no matter what (e.g., KeyboardInterrupt)\u001b[0m\u001b[0;34m\u001b[0m\u001b[0;34m\u001b[0m\u001b[0m\n\u001b[1;32m    294\u001b[0m             \u001b[0;32mif\u001b[0m \u001b[0mtimeout\u001b[0m \u001b[0;32mis\u001b[0m \u001b[0;32mNone\u001b[0m\u001b[0;34m:\u001b[0m\u001b[0;34m\u001b[0m\u001b[0;34m\u001b[0m\u001b[0m\n\u001b[0;32m--> 295\u001b[0;31m                 \u001b[0mwaiter\u001b[0m\u001b[0;34m.\u001b[0m\u001b[0macquire\u001b[0m\u001b[0;34m(\u001b[0m\u001b[0;34m)\u001b[0m\u001b[0;34m\u001b[0m\u001b[0;34m\u001b[0m\u001b[0m\n\u001b[0m\u001b[1;32m    296\u001b[0m                 \u001b[0mgotit\u001b[0m \u001b[0;34m=\u001b[0m \u001b[0;32mTrue\u001b[0m\u001b[0;34m\u001b[0m\u001b[0;34m\u001b[0m\u001b[0m\n\u001b[1;32m    297\u001b[0m             \u001b[0;32melse\u001b[0m\u001b[0;34m:\u001b[0m\u001b[0;34m\u001b[0m\u001b[0;34m\u001b[0m\u001b[0m\n",
      "\u001b[0;31mKeyboardInterrupt\u001b[0m: "
     ]
    }
   ],
   "source": [
    "lrgs(Xv2_resampled,yv2_resampled,Xv2_test,yv2_test,'v2')"
   ]
  },
  {
   "cell_type": "code",
   "execution_count": 70,
   "metadata": {},
   "outputs": [
    {
     "name": "stdout",
     "output_type": "stream",
     "text": [
      "Fitting 5 folds for each of 28 candidates, totalling 140 fits\n"
     ]
    },
    {
     "name": "stderr",
     "output_type": "stream",
     "text": [
      "[Parallel(n_jobs=-1)]: Using backend LokyBackend with 4 concurrent workers.\n",
      "[Parallel(n_jobs=-1)]: Done  42 tasks      | elapsed:   57.4s\n",
      "[Parallel(n_jobs=-1)]: Done 140 out of 140 | elapsed:  4.5min finished\n"
     ]
    },
    {
     "name": "stdout",
     "output_type": "stream",
     "text": [
      "Accuracy score: 0.5978303636670227\n",
      "F1 score: 0.43877951211859756\n",
      "Precision (true + / all predicted +): 0.36244654658546066\n",
      "Recall (true + / all actual +): 0.5558426073131956\n",
      "LR v4: 0.619\n",
      "{'C': 100.0, 'penalty': 'l2', 'solver': 'liblinear'}\n",
      "minutes: 4.500223151842753\n"
     ]
    }
   ],
   "source": [
    "lrgs(Xv4_resampled,yv4_resampled,Xv4_test,yv4_test,'v4')"
   ]
  },
  {
   "cell_type": "markdown",
   "metadata": {},
   "source": [
    "#### Random Forests"
   ]
  },
  {
   "cell_type": "code",
   "execution_count": 47,
   "metadata": {},
   "outputs": [
    {
     "name": "stdout",
     "output_type": "stream",
     "text": [
      "Fitting 5 folds for each of 36 candidates, totalling 180 fits\n"
     ]
    },
    {
     "name": "stderr",
     "output_type": "stream",
     "text": [
      "[Parallel(n_jobs=-1)]: Using backend LokyBackend with 4 concurrent workers.\n",
      "[Parallel(n_jobs=-1)]: Done  42 tasks      | elapsed: 11.7min\n",
      "[Parallel(n_jobs=-1)]: Done 180 out of 180 | elapsed: 62.5min finished\n"
     ]
    },
    {
     "name": "stdout",
     "output_type": "stream",
     "text": [
      "Accuracy score: 0.5789444100949919\n",
      "F1 score: 0.44531654942613846\n",
      "Precision (true + / all predicted +): 0.35489200991384395\n",
      "Recall (true + / all actual +): 0.5975755166931638\n",
      "RFC o - v4: 0.615\n",
      "minutes: 63.35400349696477\n"
     ]
    }
   ],
   "source": [
    "start = time.time()\n",
    "\n",
    "grid_params = {'n_estimators':[500,1000,1500,2000],\n",
    "               'max_depth':list(range(2,5)),\n",
    "               'min_samples_leaf':list(range(2,5))}\n",
    "\n",
    "RFC_GS = GridSearchCV(RandomForestClassifier(),grid_params,cv=kf,n_jobs=-1,verbose=1)\n",
    "RFC_GS.fit(Xv4_resampled,yv4_resampled)\n",
    "yv4_test_RFC_GS_o = RFC_GS.predict(Xv4_test)\n",
    "yv4_test_RFC_GS_o_prob = RFC.predict_proba(Xv4_test)[:,1]\n",
    "print_scores(yv4_test,yv4_test_RFC_GS_o)\n",
    "print(f'RFC o - v4: {roc_auc_score(yv4_test, yv4_test_RFC_GS_o_prob):.3f}') # RFC\n",
    "\n",
    "end = time.time()\n",
    "print('minutes:',(end-start)/60)"
   ]
  },
  {
   "cell_type": "code",
   "execution_count": 48,
   "metadata": {},
   "outputs": [
    {
     "data": {
      "text/plain": [
       "{'max_depth': 4, 'min_samples_leaf': 3, 'n_estimators': 1000}"
      ]
     },
     "execution_count": 48,
     "metadata": {},
     "output_type": "execute_result"
    }
   ],
   "source": [
    "RFC_GS.best_params_"
   ]
  },
  {
   "cell_type": "code",
   "execution_count": null,
   "metadata": {},
   "outputs": [],
   "source": []
  },
  {
   "cell_type": "code",
   "execution_count": null,
   "metadata": {},
   "outputs": [],
   "source": []
  },
  {
   "cell_type": "markdown",
   "metadata": {},
   "source": [
    "### Cross-Validation"
   ]
  },
  {
   "cell_type": "code",
   "execution_count": 60,
   "metadata": {},
   "outputs": [],
   "source": [
    "kf = StratifiedKFold(n_splits=5,random_state=60,shuffle=True)\n",
    "\n",
    "models = {'Logistic Regression': LogisticRegression(C=100,penalty='l2',solver='liblinear'),\n",
    "          'Random Forests': RandomForestClassifier(n_estimators=1000,random_state=88,max_depth=4,min_samples_leaf=3),\n",
    "          'XGB': XGBClassifier(random_state=43)}\n",
    "\n"
   ]
  },
  {
   "cell_type": "code",
   "execution_count": 61,
   "metadata": {},
   "outputs": [],
   "source": [
    "def crossval(X_train,y_train):\n",
    "    '''\n",
    "    convert data\n",
    "    run cross validation\n",
    "    output metrics\n",
    "    '''\n",
    "    cv_results_precision = defaultdict(list)\n",
    "    cv_results_recall = defaultdict(list)\n",
    "    X_train = np.array(X_train)\n",
    "    y_train = np.array(y_train)\n",
    "\n",
    "    for model_name, model in models.items():\n",
    "        #split into train and val\n",
    "        for train_ind, val_ind in kf.split(X_train,y_train):\n",
    "            X_tr, y_tr = X_train[train_ind], y_train[train_ind]\n",
    "            #perform oversampling on the train test\n",
    "            ros = RandomOverSampler(random_state=42)\n",
    "            X_resampled, y_resampled = ros.fit_sample(X_tr,y_tr)\n",
    "            # fit and predict model\n",
    "            model.fit(X_resampled, y_resampled)\n",
    "            X_val, y_val = X_train[val_ind], y_train[val_ind]\n",
    "            y_pred = model.predict(X_val)\n",
    "            #collect performance scores\n",
    "            precision = precision_score(y_val,y_pred)\n",
    "            cv_results_precision[model_name].append(precision) \n",
    "            recall = recall_score(y_val,y_pred)\n",
    "            cv_results_recall[model_name].append(recall)\n",
    "            \n",
    "    for key in cv_results_precision:\n",
    "        print(f'Precision - {key}: {np.mean(cv_results_precision[key]):.3f}')\n",
    "        print(cv_results_precision[key])\n",
    "    for key in cv_results_recall:\n",
    "        print(f'Recall - {key}: {np.mean(cv_results_recall[key]):.3f}')\n",
    "        print(cv_results_recall[key])\n",
    "    return "
   ]
  },
  {
   "cell_type": "code",
   "execution_count": 20,
   "metadata": {},
   "outputs": [
    {
     "name": "stdout",
     "output_type": "stream",
     "text": [
      "Precision - Logistic Regression: 0.357\n",
      "[0.35900216919739697, 0.35766262403528115, 0.3504478916320734, 0.36189862542955326, 0.35816681146828844]\n",
      "Precision - Random Forests: 0.403\n",
      "[0.4078061911170929, 0.40585774058577406, 0.392823418319169, 0.400561534861956, 0.41019644527595883]\n",
      "Precision - XGB: 0.367\n",
      "[0.37017771998266147, 0.3668652106772557, 0.3627618640444634, 0.3716931216931217, 0.36357601239212217]\n",
      "Recall - Logistic Regression: 0.544\n",
      "[0.5480132450331126, 0.5372639947002319, 0.5313017555481948, 0.5581318317323617, 0.5462073534282875]\n",
      "Recall - Random Forests: 0.288\n",
      "[0.30099337748344374, 0.28916859887379925, 0.27558794302749257, 0.28353759523020866, 0.2904935409075853]\n",
      "Recall - XGB: 0.556\n",
      "[0.5655629139072847, 0.5508446505465386, 0.5621066578337198, 0.5584630672408082, 0.5442199403776085]\n"
     ]
    }
   ],
   "source": [
    "crossval(Xv3_train,yv3_train)"
   ]
  },
  {
   "cell_type": "code",
   "execution_count": 62,
   "metadata": {},
   "outputs": [
    {
     "name": "stdout",
     "output_type": "stream",
     "text": [
      "Precision - Logistic Regression: 0.591\n",
      "[0.5873969540310185, 0.5926849542809642, 0.5962105263157895, 0.5888888888888889, 0.5921633554083885]\n",
      "Precision - Random Forests: 0.590\n",
      "[0.5918260413937647, 0.5855254715770564, 0.5922947204566091, 0.5898854716252735, 0.5925741959518191]\n",
      "Precision - XGB: 0.603\n",
      "[0.6014579191517562, 0.6005616474993314, 0.6050431320504314, 0.6008219541296567, 0.6072944297082228]\n",
      "Recall - Logistic Regression: 0.557\n",
      "[0.5491118077324973, 0.5588504245591117, 0.5549314173742652, 0.560809928151535, 0.5606792945787067]\n",
      "Recall - Random Forests: 0.601\n",
      "[0.5901253918495298, 0.5960809928151535, 0.5964728935336382, 0.598824297844546, 0.6233834095362508]\n",
      "Recall - XGB: 0.593\n",
      "[0.5927377220480669, 0.5866753755715218, 0.5955584585238406, 0.5920313520574788, 0.598171129980405]\n"
     ]
    }
   ],
   "source": [
    "crossval(Xv4_resampled,yv4_resampled)"
   ]
  },
  {
   "cell_type": "markdown",
   "metadata": {},
   "source": [
    "### Create training set for logistic regression - best performing"
   ]
  },
  {
   "cell_type": "code",
   "execution_count": 27,
   "metadata": {},
   "outputs": [
    {
     "name": "stdout",
     "output_type": "stream",
     "text": [
      "Accuracy score: 0.5977741554718679\n",
      "F1 score: 0.43900909375979924\n",
      "Precision (true + / all predicted +): 0.3625064733298809\n",
      "Recall (true + / all actual +): 0.5564387917329093\n",
      "LR o - v4: 0.619\n"
     ]
    }
   ],
   "source": [
    "#Logistic regression\n",
    "LR = LogisticRegression(solver='liblinear')\n",
    "LR.fit(Xv4_resampled,yv4_resampled)\n",
    "yv4_test_LR_o = LR.predict(Xv4_test)\n",
    "yv4_test_LR_o_prob = LR.predict_proba(Xv4_test)[:,1]\n",
    "print_scores(yv4_test,yv4_test_LR_o)\n",
    "print(f'LR o - v4: {roc_auc_score(yv4_test, yv4_test_LR_o_prob):.3f}') # LR"
   ]
  },
  {
   "cell_type": "code",
   "execution_count": 24,
   "metadata": {
    "scrolled": true
   },
   "outputs": [
    {
     "name": "stdout",
     "output_type": "stream",
     "text": [
      "Accuracy score: 0.6857961890843685\n",
      "F1 score: 0.3308594685180752\n",
      "Precision (true + / all predicted +): 0.4160144491270319\n",
      "Recall (true + / all actual +): 0.2746422893481717\n",
      "RFC o - v4: 0.615\n"
     ]
    }
   ],
   "source": [
    "#Random forests\n",
    "RFC = RandomForestClassifier(n_estimators=100,random_state=88)\n",
    "RFC.fit(Xv4_resampled,yv4_resampled)\n",
    "yv4_test_RFC_o = RFC.predict(Xv4_test)\n",
    "yv4_test_RFC_o_prob = RFC.predict_proba(Xv4_test)[:,1]\n",
    "print_scores(yv4_test,yv4_test_RFC_o)\n",
    "print(f'RFC o - v4: {roc_auc_score(yv4_test, yv4_test_RFC_o_prob):.3f}') # RFC"
   ]
  },
  {
   "cell_type": "code",
   "execution_count": 28,
   "metadata": {},
   "outputs": [
    {
     "name": "stdout",
     "output_type": "stream",
     "text": [
      "Accuracy score: 0.5993479849362037\n",
      "F1 score: 0.4519452560356758\n",
      "Precision (true + / all predicted +): 0.36857286180085275\n",
      "Recall (true + / all actual +): 0.5840620031796503\n",
      "RFC o - v4: 0.631\n"
     ]
    }
   ],
   "source": [
    "#XGB\n",
    "XGB = XGBClassifier(random_state=43)\n",
    "XGB.fit(Xv4_resampled,yv4_resampled)\n",
    "yv4_test_XGB_o = XGB.predict(Xv4_test)\n",
    "yv4_test_XGB_o_prob = XGB.predict_proba(Xv4_test)[:,1]\n",
    "print_scores(yv4_test,yv4_test_XGB_o)\n",
    "print(f'RFC o - v4: {roc_auc_score(yv4_test, yv4_test_XGB_o_prob):.3f}') # RFC"
   ]
  },
  {
   "cell_type": "code",
   "execution_count": 29,
   "metadata": {},
   "outputs": [
    {
     "data": {
      "image/png": "[encoded data removed]",
      "text/plain": [
       "<Figure size 1080x504 with 1 Axes>"
      ]
     },
     "metadata": {},
     "output_type": "display_data"
    }
   ],
   "source": [
    "# Compare ROCs for:\n",
    "fpr13, tpr13, thresholds13 = roc_curve(yv4_test, yv4_test_LR_o_prob) # LR\n",
    "fpr14, tpr14, thresholds14 = roc_curve(yv4_test, yv4_test_RFC_o_prob) # RFC\n",
    "fpr15, tpr15, thresholds15 = roc_curve(yv4_test, yv4_test_XGB_o_prob) # XGB\n",
    "\n",
    "\n",
    "plt.figure(figsize=(15,7))\n",
    "\n",
    "plt.plot(fpr13, tpr13,lw=2,label='LR o - v4')\n",
    "plt.plot(fpr14, tpr14,lw=2,label='RFC o - v4')\n",
    "plt.plot(fpr15, tpr15,lw=2,label='XGB o - v4')\n",
    "\n",
    "plt.plot([0,1],[0,1],c='violet',ls='--')\n",
    "plt.xlim([-0.05,1.05])\n",
    "plt.ylim([-0.05,1.05])\n",
    "\n",
    "plt.legend(loc='lower right')\n",
    "plt.xlabel('False positive rate')\n",
    "plt.ylabel('True positive rate')\n",
    "plt.title('ROC curve for no-show problem');"
   ]
  },
  {
   "cell_type": "code",
   "execution_count": 36,
   "metadata": {},
   "outputs": [
    {
     "data": {
      "image/png": "[encoded data removed]",
      "text/plain": [
       "<Figure size 1200x560 with 1 Axes>"
      ]
     },
     "metadata": {},
     "output_type": "display_data"
    }
   ],
   "source": [
    "# Compare Precision/Recall curves\n",
    "precision_curve2, recall_curve2, threshold_curve2 = precision_recall_curve(yv4_test, yv4_test_LR_o_prob)\n",
    "precision_curve4, recall_curve4, threshold_curve4 = precision_recall_curve(yv4_test, yv4_test_RFC_o_prob)\n",
    "precision_curve5, recall_curve5, threshold_curve5 = precision_recall_curve(yv4_test, yv4_test_XGB_o_prob)\n",
    "\n",
    "plt.figure(dpi=80,figsize=(15,7))\n",
    "plt.plot(threshold_curve2, precision_curve2[1:],label='precision - LR v4',color='g',linestyle=':')\n",
    "plt.plot(threshold_curve2, recall_curve2[1:], label='recall - LR v4',color='g')\n",
    "plt.plot(threshold_curve4, precision_curve4[1:],label='precision - RFC v4',color='c',linestyle=':')\n",
    "plt.plot(threshold_curve4, recall_curve4[1:], label='recall - RFC v4',color='c')\n",
    "plt.plot(threshold_curve5, precision_curve5[1:],label='precision - XGB v4',color='r',linestyle=':')\n",
    "plt.plot(threshold_curve5, recall_curve5[1:], label='recall - XGB v4',color='r')\n",
    "plt.legend(loc='center right',fontsize='small')\n",
    "plt.xlabel('Threshold (above this probability, label as no-show)');\n",
    "plt.title('Precision and Recall Curves - Oversampled');"
   ]
  },
  {
   "cell_type": "markdown",
   "metadata": {},
   "source": [
    "### Ensembling"
   ]
  },
  {
   "cell_type": "code",
   "execution_count": 10,
   "metadata": {},
   "outputs": [
    {
     "ename": "NameError",
     "evalue": "name 'LR' is not defined",
     "output_type": "error",
     "traceback": [
      "\u001b[0;31m---------------------------------------------------------------------------\u001b[0m",
      "\u001b[0;31mNameError\u001b[0m                                 Traceback (most recent call last)",
      "\u001b[0;32m<ipython-input-10-afa2f1449154>\u001b[0m in \u001b[0;36m<module>\u001b[0;34m\u001b[0m\n\u001b[1;32m      1\u001b[0m \u001b[0;31m# create voting classifier\u001b[0m\u001b[0;34m\u001b[0m\u001b[0;34m\u001b[0m\u001b[0;34m\u001b[0m\u001b[0m\n\u001b[0;32m----> 2\u001b[0;31m \u001b[0mmodel_list\u001b[0m \u001b[0;34m=\u001b[0m \u001b[0;34m[\u001b[0m\u001b[0;34m(\u001b[0m\u001b[0;34m'LR'\u001b[0m\u001b[0;34m,\u001b[0m\u001b[0meval\u001b[0m\u001b[0;34m(\u001b[0m\u001b[0;34m'LR'\u001b[0m\u001b[0;34m)\u001b[0m\u001b[0;34m)\u001b[0m\u001b[0;34m,\u001b[0m\u001b[0;34m(\u001b[0m\u001b[0;34m'RFC'\u001b[0m\u001b[0;34m,\u001b[0m\u001b[0meval\u001b[0m\u001b[0;34m(\u001b[0m\u001b[0;34m'RFC'\u001b[0m\u001b[0;34m)\u001b[0m\u001b[0;34m)\u001b[0m\u001b[0;34m]\u001b[0m\u001b[0;34m\u001b[0m\u001b[0;34m\u001b[0m\u001b[0m\n\u001b[0m\u001b[1;32m      3\u001b[0m \u001b[0;34m\u001b[0m\u001b[0m\n\u001b[1;32m      4\u001b[0m \u001b[0;32mdef\u001b[0m \u001b[0mensembling\u001b[0m\u001b[0;34m(\u001b[0m\u001b[0mX_train\u001b[0m\u001b[0;34m,\u001b[0m\u001b[0my_train\u001b[0m\u001b[0;34m,\u001b[0m\u001b[0mX_test\u001b[0m\u001b[0;34m,\u001b[0m\u001b[0my_test\u001b[0m\u001b[0;34m,\u001b[0m\u001b[0mvote_type\u001b[0m\u001b[0;34m,\u001b[0m\u001b[0mweights\u001b[0m\u001b[0;34m)\u001b[0m\u001b[0;34m:\u001b[0m\u001b[0;34m\u001b[0m\u001b[0;34m\u001b[0m\u001b[0m\n\u001b[1;32m      5\u001b[0m     voting_classifer = VotingClassifier(estimators=model_list,\n",
      "\u001b[0;32m<string>\u001b[0m in \u001b[0;36m<module>\u001b[0;34m\u001b[0m\n",
      "\u001b[0;31mNameError\u001b[0m: name 'LR' is not defined"
     ]
    }
   ],
   "source": [
    "# create voting classifier\n",
    "model_list = [('LR',eval('LR')),('RFC',eval('RFC'))]\n",
    "\n",
    "def ensembling(X_train,y_train,X_test,y_test,vote_type,weights):\n",
    "    voting_classifer = VotingClassifier(estimators=model_list,\n",
    "                                        voting=vote_type,\n",
    "                                        weights = weights,\n",
    "                                        n_jobs=-1)\n",
    "    voting_classifer.fit(X_train, y_train)\n",
    "\n",
    "    yv2_test_VC = voting_classifer.predict_proba(X_test)\n",
    "#     yv2_test_VC, yv2_test_VC_prob = voting_classifer.predict(Xv2_test), voting_classifer.predict_proba(Xv2_test)[:,1]\n",
    "    return print_scores(y_test, yv2_test_VC)"
   ]
  },
  {
   "cell_type": "code",
   "execution_count": 69,
   "metadata": {},
   "outputs": [
    {
     "ename": "TypeError",
     "evalue": "cannot perform reduce with flexible type",
     "output_type": "error",
     "traceback": [
      "\u001b[0;31m---------------------------------------------------------------------------\u001b[0m",
      "\u001b[0;31mTypeError\u001b[0m                                 Traceback (most recent call last)",
      "\u001b[0;32m<ipython-input-69-e3a7722b82fd>\u001b[0m in \u001b[0;36m<module>\u001b[0;34m\u001b[0m\n\u001b[0;32m----> 1\u001b[0;31m \u001b[0mensembling\u001b[0m\u001b[0;34m(\u001b[0m\u001b[0mXv4_resampled\u001b[0m\u001b[0;34m,\u001b[0m\u001b[0myv4_resampled\u001b[0m\u001b[0;34m,\u001b[0m\u001b[0mXv4_test\u001b[0m\u001b[0;34m,\u001b[0m\u001b[0myv4_test\u001b[0m\u001b[0;34m,\u001b[0m\u001b[0;34m'soft'\u001b[0m\u001b[0;34m,\u001b[0m\u001b[0;34m[\u001b[0m\u001b[0;34m'0.7'\u001b[0m\u001b[0;34m,\u001b[0m\u001b[0;34m'0.3'\u001b[0m\u001b[0;34m]\u001b[0m\u001b[0;34m)\u001b[0m\u001b[0;34m\u001b[0m\u001b[0;34m\u001b[0m\u001b[0m\n\u001b[0m",
      "\u001b[0;32m<ipython-input-68-d07361527d75>\u001b[0m in \u001b[0;36mensembling\u001b[0;34m(X_train, y_train, X_test, y_test, vote_type, weights)\u001b[0m\n\u001b[1;32m      9\u001b[0m     \u001b[0mvoting_classifer\u001b[0m\u001b[0;34m.\u001b[0m\u001b[0mfit\u001b[0m\u001b[0;34m(\u001b[0m\u001b[0mX_train\u001b[0m\u001b[0;34m,\u001b[0m \u001b[0my_train\u001b[0m\u001b[0;34m)\u001b[0m\u001b[0;34m\u001b[0m\u001b[0;34m\u001b[0m\u001b[0m\n\u001b[1;32m     10\u001b[0m \u001b[0;34m\u001b[0m\u001b[0m\n\u001b[0;32m---> 11\u001b[0;31m     \u001b[0myv2_test_VC\u001b[0m \u001b[0;34m=\u001b[0m \u001b[0mvoting_classifer\u001b[0m\u001b[0;34m.\u001b[0m\u001b[0mpredict\u001b[0m\u001b[0;34m(\u001b[0m\u001b[0mX_test\u001b[0m\u001b[0;34m)\u001b[0m\u001b[0;34m\u001b[0m\u001b[0;34m\u001b[0m\u001b[0m\n\u001b[0m\u001b[1;32m     12\u001b[0m \u001b[0;31m#     yv2_test_VC, yv2_test_VC_prob = voting_classifer.predict(Xv2_test), voting_classifer.predict_proba(Xv2_test)[:,1]\u001b[0m\u001b[0;34m\u001b[0m\u001b[0;34m\u001b[0m\u001b[0;34m\u001b[0m\u001b[0m\n\u001b[1;32m     13\u001b[0m     \u001b[0;32mreturn\u001b[0m \u001b[0mprint_scores\u001b[0m\u001b[0;34m(\u001b[0m\u001b[0my_test\u001b[0m\u001b[0;34m,\u001b[0m \u001b[0myv2_test_VC\u001b[0m\u001b[0;34m)\u001b[0m\u001b[0;34m\u001b[0m\u001b[0;34m\u001b[0m\u001b[0m\n",
      "\u001b[0;32m~/anaconda3/envs/metis/lib/python3.6/site-packages/sklearn/ensemble/voting.py\u001b[0m in \u001b[0;36mpredict\u001b[0;34m(self, X)\u001b[0m\n\u001b[1;32m    295\u001b[0m         \u001b[0mcheck_is_fitted\u001b[0m\u001b[0;34m(\u001b[0m\u001b[0mself\u001b[0m\u001b[0;34m,\u001b[0m \u001b[0;34m'estimators_'\u001b[0m\u001b[0;34m)\u001b[0m\u001b[0;34m\u001b[0m\u001b[0;34m\u001b[0m\u001b[0m\n\u001b[1;32m    296\u001b[0m         \u001b[0;32mif\u001b[0m \u001b[0mself\u001b[0m\u001b[0;34m.\u001b[0m\u001b[0mvoting\u001b[0m \u001b[0;34m==\u001b[0m \u001b[0;34m'soft'\u001b[0m\u001b[0;34m:\u001b[0m\u001b[0;34m\u001b[0m\u001b[0;34m\u001b[0m\u001b[0m\n\u001b[0;32m--> 297\u001b[0;31m             \u001b[0mmaj\u001b[0m \u001b[0;34m=\u001b[0m \u001b[0mnp\u001b[0m\u001b[0;34m.\u001b[0m\u001b[0margmax\u001b[0m\u001b[0;34m(\u001b[0m\u001b[0mself\u001b[0m\u001b[0;34m.\u001b[0m\u001b[0mpredict_proba\u001b[0m\u001b[0;34m(\u001b[0m\u001b[0mX\u001b[0m\u001b[0;34m)\u001b[0m\u001b[0;34m,\u001b[0m \u001b[0maxis\u001b[0m\u001b[0;34m=\u001b[0m\u001b[0;36m1\u001b[0m\u001b[0;34m)\u001b[0m\u001b[0;34m\u001b[0m\u001b[0;34m\u001b[0m\u001b[0m\n\u001b[0m\u001b[1;32m    298\u001b[0m \u001b[0;34m\u001b[0m\u001b[0m\n\u001b[1;32m    299\u001b[0m         \u001b[0;32melse\u001b[0m\u001b[0;34m:\u001b[0m  \u001b[0;31m# 'hard' voting\u001b[0m\u001b[0;34m\u001b[0m\u001b[0;34m\u001b[0m\u001b[0m\n",
      "\u001b[0;32m~/anaconda3/envs/metis/lib/python3.6/site-packages/sklearn/ensemble/voting.py\u001b[0m in \u001b[0;36m_predict_proba\u001b[0;34m(self, X)\u001b[0m\n\u001b[1;32m    319\u001b[0m         \u001b[0mcheck_is_fitted\u001b[0m\u001b[0;34m(\u001b[0m\u001b[0mself\u001b[0m\u001b[0;34m,\u001b[0m \u001b[0;34m'estimators_'\u001b[0m\u001b[0;34m)\u001b[0m\u001b[0;34m\u001b[0m\u001b[0;34m\u001b[0m\u001b[0m\n\u001b[1;32m    320\u001b[0m         avg = np.average(self._collect_probas(X), axis=0,\n\u001b[0;32m--> 321\u001b[0;31m                          weights=self._weights_not_none)\n\u001b[0m\u001b[1;32m    322\u001b[0m         \u001b[0;32mreturn\u001b[0m \u001b[0mavg\u001b[0m\u001b[0;34m\u001b[0m\u001b[0;34m\u001b[0m\u001b[0m\n\u001b[1;32m    323\u001b[0m \u001b[0;34m\u001b[0m\u001b[0m\n",
      "\u001b[0;32m<__array_function__ internals>\u001b[0m in \u001b[0;36maverage\u001b[0;34m(*args, **kwargs)\u001b[0m\n",
      "\u001b[0;32m~/anaconda3/envs/metis/lib/python3.6/site-packages/numpy/lib/function_base.py\u001b[0m in \u001b[0;36maverage\u001b[0;34m(a, axis, weights, returned)\u001b[0m\n\u001b[1;32m    415\u001b[0m             \u001b[0mwgt\u001b[0m \u001b[0;34m=\u001b[0m \u001b[0mwgt\u001b[0m\u001b[0;34m.\u001b[0m\u001b[0mswapaxes\u001b[0m\u001b[0;34m(\u001b[0m\u001b[0;34m-\u001b[0m\u001b[0;36m1\u001b[0m\u001b[0;34m,\u001b[0m \u001b[0maxis\u001b[0m\u001b[0;34m)\u001b[0m\u001b[0;34m\u001b[0m\u001b[0;34m\u001b[0m\u001b[0m\n\u001b[1;32m    416\u001b[0m \u001b[0;34m\u001b[0m\u001b[0m\n\u001b[0;32m--> 417\u001b[0;31m         \u001b[0mscl\u001b[0m \u001b[0;34m=\u001b[0m \u001b[0mwgt\u001b[0m\u001b[0;34m.\u001b[0m\u001b[0msum\u001b[0m\u001b[0;34m(\u001b[0m\u001b[0maxis\u001b[0m\u001b[0;34m=\u001b[0m\u001b[0maxis\u001b[0m\u001b[0;34m,\u001b[0m \u001b[0mdtype\u001b[0m\u001b[0;34m=\u001b[0m\u001b[0mresult_dtype\u001b[0m\u001b[0;34m)\u001b[0m\u001b[0;34m\u001b[0m\u001b[0;34m\u001b[0m\u001b[0m\n\u001b[0m\u001b[1;32m    418\u001b[0m         \u001b[0;32mif\u001b[0m \u001b[0mnp\u001b[0m\u001b[0;34m.\u001b[0m\u001b[0many\u001b[0m\u001b[0;34m(\u001b[0m\u001b[0mscl\u001b[0m \u001b[0;34m==\u001b[0m \u001b[0;36m0.0\u001b[0m\u001b[0;34m)\u001b[0m\u001b[0;34m:\u001b[0m\u001b[0;34m\u001b[0m\u001b[0;34m\u001b[0m\u001b[0m\n\u001b[1;32m    419\u001b[0m             raise ZeroDivisionError(\n",
      "\u001b[0;32m~/anaconda3/envs/metis/lib/python3.6/site-packages/numpy/core/_methods.py\u001b[0m in \u001b[0;36m_sum\u001b[0;34m(a, axis, dtype, out, keepdims, initial, where)\u001b[0m\n\u001b[1;32m     36\u001b[0m def _sum(a, axis=None, dtype=None, out=None, keepdims=False,\n\u001b[1;32m     37\u001b[0m          initial=_NoValue, where=True):\n\u001b[0;32m---> 38\u001b[0;31m     \u001b[0;32mreturn\u001b[0m \u001b[0mumr_sum\u001b[0m\u001b[0;34m(\u001b[0m\u001b[0ma\u001b[0m\u001b[0;34m,\u001b[0m \u001b[0maxis\u001b[0m\u001b[0;34m,\u001b[0m \u001b[0mdtype\u001b[0m\u001b[0;34m,\u001b[0m \u001b[0mout\u001b[0m\u001b[0;34m,\u001b[0m \u001b[0mkeepdims\u001b[0m\u001b[0;34m,\u001b[0m \u001b[0minitial\u001b[0m\u001b[0;34m,\u001b[0m \u001b[0mwhere\u001b[0m\u001b[0;34m)\u001b[0m\u001b[0;34m\u001b[0m\u001b[0;34m\u001b[0m\u001b[0m\n\u001b[0m\u001b[1;32m     39\u001b[0m \u001b[0;34m\u001b[0m\u001b[0m\n\u001b[1;32m     40\u001b[0m def _prod(a, axis=None, dtype=None, out=None, keepdims=False,\n",
      "\u001b[0;31mTypeError\u001b[0m: cannot perform reduce with flexible type"
     ]
    }
   ],
   "source": [
    "ensembling(Xv4_resampled,yv4_resampled,Xv4_test,yv4_test,'soft',['0.7','0.3'])"
   ]
  },
  {
   "cell_type": "code",
   "execution_count": 67,
   "metadata": {},
   "outputs": [
    {
     "name": "stdout",
     "output_type": "stream",
     "text": [
      "Threshold of 0.4:\n",
      "Precision: 0.3103,   Recall: 0.8700\n"
     ]
    }
   ],
   "source": [
    "# using the new threshold\n",
    "threshold = 0.4\n",
    "y_predict = (LR.predict_proba(Xv4_test)[:,1] > threshold)\n",
    "print(f\"Threshold of {threshold}:\")\n",
    "print(\"Precision: {:6.4f},   Recall: {:6.4f}\".format(precision_score(yv4_test, y_predict), \n",
    "                                                     recall_score(yv4_test, y_predict)))"
   ]
  },
  {
   "cell_type": "code",
   "execution_count": null,
   "metadata": {},
   "outputs": [],
   "source": []
  }
 ],
 "metadata": {
  "kernelspec": {
   "display_name": "Python [conda env:metis] *",
   "language": "python",
   "name": "conda-env-metis-py"
  },
  "language_info": {
   "codemirror_mode": {
    "name": "ipython",
    "version": 3
   },
   "file_extension": ".py",
   "mimetype": "text/x-python",
   "name": "python",
   "nbconvert_exporter": "python",
   "pygments_lexer": "ipython3",
   "version": "3.6.9"
  }
 },
 "nbformat": 4,
 "nbformat_minor": 2
}
