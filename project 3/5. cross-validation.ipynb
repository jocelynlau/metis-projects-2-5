{
 "cells": [
  {
   "cell_type": "markdown",
   "metadata": {},
   "source": [
    "### Cross-Validation"
   ]
  },
  {
   "cell_type": "code",
   "execution_count": 1,
   "metadata": {},
   "outputs": [],
   "source": [
    "import pandas as pd\n",
    "import numpy as np\n",
    "import matplotlib.pyplot as plt\n",
    "import datetime as dt\n",
    "import calendar\n",
    "import pickle\n",
    "import time\n",
    "\n",
    "%matplotlib inline\n",
    "plt.style.use('seaborn-pastel')\n",
    "\n",
    "import seaborn as sns\n",
    "sns.set(style=\"whitegrid\")\n",
    "\n",
    "from sklearn.preprocessing import StandardScaler\n",
    "from sklearn.model_selection import train_test_split\n",
    "from sklearn.metrics import f1_score\n",
    "from sklearn.metrics import roc_auc_score, roc_curve\n",
    "from collections import defaultdict, Counter\n",
    "\n",
    "%run evaluation_functions.py"
   ]
  },
  {
   "cell_type": "code",
   "execution_count": 2,
   "metadata": {},
   "outputs": [
    {
     "name": "stderr",
     "output_type": "stream",
     "text": [
      "Using TensorFlow backend.\n",
      "/Users/Jocelyn/anaconda3/envs/metis/lib/python3.6/site-packages/lightgbm/__init__.py:46: UserWarning: Starting from version 2.2.1, the library file in distribution wheels for macOS is built by the Apple Clang (Xcode_8.3.3) compiler.\n",
      "This means that in case of installing LightGBM from PyPI via the ``pip install lightgbm`` command, you don't need to install the gcc compiler anymore.\n",
      "Instead of that, you need to install the OpenMP library, which is required for running LightGBM on the system with the Apple Clang compiler.\n",
      "You can install the OpenMP library by the following command: ``brew install libomp``.\n",
      "  \"You can install the OpenMP library by the following command: ``brew install libomp``.\", UserWarning)\n"
     ]
    }
   ],
   "source": [
    "from imblearn.pipeline import Pipeline\n",
    "from imblearn.over_sampling import RandomOverSampler\n",
    "from sklearn.neighbors import KNeighborsClassifier\n",
    "from sklearn.tree import DecisionTreeClassifier\n",
    "from sklearn.svm import LinearSVC\n",
    "from sklearn.svm import SVC\n",
    "from sklearn.ensemble import RandomForestClassifier\n",
    "from sklearn.linear_model import LogisticRegression\n",
    "from xgboost import XGBClassifier\n",
    "from sklearn.model_selection import GridSearchCV, StratifiedKFold\n",
    "from lightgbm.sklearn import LGBMClassifier\n",
    "from sklearn.ensemble import (RandomForestClassifier, ExtraTreesClassifier, VotingClassifier, \n",
    "                              AdaBoostClassifier, BaggingRegressor)\n"
   ]
  },
  {
   "cell_type": "code",
   "execution_count": 3,
   "metadata": {},
   "outputs": [],
   "source": [
    "with open('pickles/appt.pickle','rb') as read_file:\n",
    "    appt = pickle.load(read_file)\n",
    "with open('pickles/appt_v2.pickle','rb') as read_file:\n",
    "    appt_v2 = pickle.load(read_file)\n",
    "with open('pickles/appt_v2_all0.pickle','rb') as read_file:\n",
    "    appt_v3 = pickle.load(read_file)\n",
    "with open('pickles/appt_v2_all0.pickle','rb') as read_file:\n",
    "    appt_v4 = pickle.load(read_file)"
   ]
  },
  {
   "cell_type": "code",
   "execution_count": 4,
   "metadata": {},
   "outputs": [
    {
     "name": "stdout",
     "output_type": "stream",
     "text": [
      "<class 'pandas.core.frame.DataFrame'>\n",
      "Int64Index: 71163 entries, 0 to 71958\n",
      "Data columns (total 97 columns):\n",
      "Age                                          71163 non-null int64\n",
      "Scholarship                                  71163 non-null int64\n",
      "Hipertension                                 71163 non-null int64\n",
      "Diabetes                                     71163 non-null int64\n",
      "Alcoholism                                   71163 non-null int64\n",
      "Handcap                                      71163 non-null int64\n",
      "SMS_received                                 71163 non-null int64\n",
      "DayDiff                                      71163 non-null int64\n",
      "Gender_M                                     71163 non-null uint8\n",
      "Neighbourhood_AEROPORTO                      71163 non-null uint8\n",
      "Neighbourhood_ANDORINHAS                     71163 non-null uint8\n",
      "Neighbourhood_ANTÔNIO HONÓRIO                71163 non-null uint8\n",
      "Neighbourhood_ARIOVALDO FAVALESSA            71163 non-null uint8\n",
      "Neighbourhood_BARRO VERMELHO                 71163 non-null uint8\n",
      "Neighbourhood_BELA VISTA                     71163 non-null uint8\n",
      "Neighbourhood_BENTO FERREIRA                 71163 non-null uint8\n",
      "Neighbourhood_BOA VISTA                      71163 non-null uint8\n",
      "Neighbourhood_BONFIM                         71163 non-null uint8\n",
      "Neighbourhood_CARATOÍRA                      71163 non-null uint8\n",
      "Neighbourhood_CENTRO                         71163 non-null uint8\n",
      "Neighbourhood_COMDUSA                        71163 non-null uint8\n",
      "Neighbourhood_CONQUISTA                      71163 non-null uint8\n",
      "Neighbourhood_CONSOLAÇÃO                     71163 non-null uint8\n",
      "Neighbourhood_CRUZAMENTO                     71163 non-null uint8\n",
      "Neighbourhood_DA PENHA                       71163 non-null uint8\n",
      "Neighbourhood_DE LOURDES                     71163 non-null uint8\n",
      "Neighbourhood_DO CABRAL                      71163 non-null uint8\n",
      "Neighbourhood_DO MOSCOSO                     71163 non-null uint8\n",
      "Neighbourhood_DO QUADRO                      71163 non-null uint8\n",
      "Neighbourhood_ENSEADA DO SUÁ                 71163 non-null uint8\n",
      "Neighbourhood_ESTRELINHA                     71163 non-null uint8\n",
      "Neighbourhood_FONTE GRANDE                   71163 non-null uint8\n",
      "Neighbourhood_FORTE SÃO JOÃO                 71163 non-null uint8\n",
      "Neighbourhood_FRADINHOS                      71163 non-null uint8\n",
      "Neighbourhood_GOIABEIRAS                     71163 non-null uint8\n",
      "Neighbourhood_GRANDE VITÓRIA                 71163 non-null uint8\n",
      "Neighbourhood_GURIGICA                       71163 non-null uint8\n",
      "Neighbourhood_HORTO                          71163 non-null uint8\n",
      "Neighbourhood_ILHA DAS CAIEIRAS              71163 non-null uint8\n",
      "Neighbourhood_ILHA DE SANTA MARIA            71163 non-null uint8\n",
      "Neighbourhood_ILHA DO BOI                    71163 non-null uint8\n",
      "Neighbourhood_ILHA DO FRADE                  71163 non-null uint8\n",
      "Neighbourhood_ILHA DO PRÍNCIPE               71163 non-null uint8\n",
      "Neighbourhood_ILHAS OCEÂNICAS DE TRINDADE    71163 non-null uint8\n",
      "Neighbourhood_INHANGUETÁ                     71163 non-null uint8\n",
      "Neighbourhood_ITARARÉ                        71163 non-null uint8\n",
      "Neighbourhood_JABOUR                         71163 non-null uint8\n",
      "Neighbourhood_JARDIM CAMBURI                 71163 non-null uint8\n",
      "Neighbourhood_JARDIM DA PENHA                71163 non-null uint8\n",
      "Neighbourhood_JESUS DE NAZARETH              71163 non-null uint8\n",
      "Neighbourhood_JOANA D´ARC                    71163 non-null uint8\n",
      "Neighbourhood_JUCUTUQUARA                    71163 non-null uint8\n",
      "Neighbourhood_MARIA ORTIZ                    71163 non-null uint8\n",
      "Neighbourhood_MARUÍPE                        71163 non-null uint8\n",
      "Neighbourhood_MATA DA PRAIA                  71163 non-null uint8\n",
      "Neighbourhood_MONTE BELO                     71163 non-null uint8\n",
      "Neighbourhood_MORADA DE CAMBURI              71163 non-null uint8\n",
      "Neighbourhood_MÁRIO CYPRESTE                 71163 non-null uint8\n",
      "Neighbourhood_NAZARETH                       71163 non-null uint8\n",
      "Neighbourhood_NOVA PALESTINA                 71163 non-null uint8\n",
      "Neighbourhood_PARQUE MOSCOSO                 71163 non-null uint8\n",
      "Neighbourhood_PIEDADE                        71163 non-null uint8\n",
      "Neighbourhood_PONTAL DE CAMBURI              71163 non-null uint8\n",
      "Neighbourhood_PRAIA DO CANTO                 71163 non-null uint8\n",
      "Neighbourhood_PRAIA DO SUÁ                   71163 non-null uint8\n",
      "Neighbourhood_REDENÇÃO                       71163 non-null uint8\n",
      "Neighbourhood_REPÚBLICA                      71163 non-null uint8\n",
      "Neighbourhood_RESISTÊNCIA                    71163 non-null uint8\n",
      "Neighbourhood_ROMÃO                          71163 non-null uint8\n",
      "Neighbourhood_SANTA CECÍLIA                  71163 non-null uint8\n",
      "Neighbourhood_SANTA CLARA                    71163 non-null uint8\n",
      "Neighbourhood_SANTA HELENA                   71163 non-null uint8\n",
      "Neighbourhood_SANTA LUÍZA                    71163 non-null uint8\n",
      "Neighbourhood_SANTA LÚCIA                    71163 non-null uint8\n",
      "Neighbourhood_SANTA MARTHA                   71163 non-null uint8\n",
      "Neighbourhood_SANTA TEREZA                   71163 non-null uint8\n",
      "Neighbourhood_SANTO ANDRÉ                    71163 non-null uint8\n",
      "Neighbourhood_SANTO ANTÔNIO                  71163 non-null uint8\n",
      "Neighbourhood_SANTOS DUMONT                  71163 non-null uint8\n",
      "Neighbourhood_SANTOS REIS                    71163 non-null uint8\n",
      "Neighbourhood_SEGURANÇA DO LAR               71163 non-null uint8\n",
      "Neighbourhood_SOLON BORGES                   71163 non-null uint8\n",
      "Neighbourhood_SÃO BENEDITO                   71163 non-null uint8\n",
      "Neighbourhood_SÃO CRISTÓVÃO                  71163 non-null uint8\n",
      "Neighbourhood_SÃO JOSÉ                       71163 non-null uint8\n",
      "Neighbourhood_SÃO PEDRO                      71163 non-null uint8\n",
      "Neighbourhood_TABUAZEIRO                     71163 non-null uint8\n",
      "Neighbourhood_UNIVERSITÁRIO                  71163 non-null uint8\n",
      "ApptDayofWeek_Friday                         71163 non-null uint8\n",
      "ApptDayofWeek_Thursday                       71163 non-null uint8\n",
      "ApptDayofWeek_Tuesday                        71163 non-null uint8\n",
      "ApptDayofWeek_Wednesday                      71163 non-null uint8\n",
      "SchedDayofWeek_Friday                        71163 non-null uint8\n",
      "SchedDayofWeek_Saturday                      71163 non-null uint8\n",
      "SchedDayofWeek_Thursday                      71163 non-null uint8\n",
      "SchedDayofWeek_Tuesday                       71163 non-null uint8\n",
      "SchedDayofWeek_Wednesday                     71163 non-null uint8\n",
      "dtypes: int64(8), uint8(89)\n",
      "memory usage: 10.9 MB\n",
      "<class 'pandas.core.frame.DataFrame'>\n",
      "Int64Index: 25453 entries, 1 to 39983\n",
      "Data columns (total 85 columns):\n",
      "Age2                                  25453 non-null int64\n",
      "Scholarship                           25453 non-null int64\n",
      "Hipertension                          25453 non-null int64\n",
      "Diabetes                              25453 non-null int64\n",
      "Alcoholism                            25453 non-null int64\n",
      "Handcap_bin                           25453 non-null int64\n",
      "SMS_received                          25453 non-null int64\n",
      "DayDiff2                              25453 non-null int64\n",
      "no_show_rate2                         25453 non-null float64\n",
      "Reschedule                            25453 non-null int64\n",
      "Follow_up                             25453 non-null int64\n",
      "Gender_M                              25453 non-null uint8\n",
      "Neighbourhood2_ANDORINHAS             25453 non-null uint8\n",
      "Neighbourhood2_BARRO VERMELHO         25453 non-null uint8\n",
      "Neighbourhood2_BELA VISTA             25453 non-null uint8\n",
      "Neighbourhood2_BENTO FERREIRA         25453 non-null uint8\n",
      "Neighbourhood2_BOA VISTA              25453 non-null uint8\n",
      "Neighbourhood2_BONFIM                 25453 non-null uint8\n",
      "Neighbourhood2_CARATOÍRA              25453 non-null uint8\n",
      "Neighbourhood2_CENTRO                 25453 non-null uint8\n",
      "Neighbourhood2_COMDUSA                25453 non-null uint8\n",
      "Neighbourhood2_CONQUISTA              25453 non-null uint8\n",
      "Neighbourhood2_CONSOLAÇÃO             25453 non-null uint8\n",
      "Neighbourhood2_CRUZAMENTO             25453 non-null uint8\n",
      "Neighbourhood2_DA PENHA               25453 non-null uint8\n",
      "Neighbourhood2_DE LOURDES             25453 non-null uint8\n",
      "Neighbourhood2_DO CABRAL              25453 non-null uint8\n",
      "Neighbourhood2_DO MOSCOSO             25453 non-null uint8\n",
      "Neighbourhood2_DO QUADRO              25453 non-null uint8\n",
      "Neighbourhood2_ESTRELINHA             25453 non-null uint8\n",
      "Neighbourhood2_FONTE GRANDE           25453 non-null uint8\n",
      "Neighbourhood2_FORTE SÃO JOÃO         25453 non-null uint8\n",
      "Neighbourhood2_GOIABEIRAS             25453 non-null uint8\n",
      "Neighbourhood2_GRANDE VITÓRIA         25453 non-null uint8\n",
      "Neighbourhood2_GURIGICA               25453 non-null uint8\n",
      "Neighbourhood2_ILHA DAS CAIEIRAS      25453 non-null uint8\n",
      "Neighbourhood2_ILHA DE SANTA MARIA    25453 non-null uint8\n",
      "Neighbourhood2_ILHA DO PRÍNCIPE       25453 non-null uint8\n",
      "Neighbourhood2_INHANGUETÁ             25453 non-null uint8\n",
      "Neighbourhood2_ITARARÉ                25453 non-null uint8\n",
      "Neighbourhood2_JABOUR                 25453 non-null uint8\n",
      "Neighbourhood2_JARDIM CAMBURI         25453 non-null uint8\n",
      "Neighbourhood2_JARDIM DA PENHA        25453 non-null uint8\n",
      "Neighbourhood2_JESUS DE NAZARETH      25453 non-null uint8\n",
      "Neighbourhood2_JOANA D´ARC            25453 non-null uint8\n",
      "Neighbourhood2_JUCUTUQUARA            25453 non-null uint8\n",
      "Neighbourhood2_MARIA ORTIZ            25453 non-null uint8\n",
      "Neighbourhood2_MARUÍPE                25453 non-null uint8\n",
      "Neighbourhood2_MATA DA PRAIA          25453 non-null uint8\n",
      "Neighbourhood2_MONTE BELO             25453 non-null uint8\n",
      "Neighbourhood2_NOVA PALESTINA         25453 non-null uint8\n",
      "Neighbourhood2_PARQUE MOSCOSO         25453 non-null uint8\n",
      "Neighbourhood2_PIEDADE                25453 non-null uint8\n",
      "Neighbourhood2_PRAIA DO CANTO         25453 non-null uint8\n",
      "Neighbourhood2_PRAIA DO SUÁ           25453 non-null uint8\n",
      "Neighbourhood2_REDENÇÃO               25453 non-null uint8\n",
      "Neighbourhood2_REPÚBLICA              25453 non-null uint8\n",
      "Neighbourhood2_RESISTÊNCIA            25453 non-null uint8\n",
      "Neighbourhood2_ROMÃO                  25453 non-null uint8\n",
      "Neighbourhood2_SANTA CECÍLIA          25453 non-null uint8\n",
      "Neighbourhood2_SANTA CLARA            25453 non-null uint8\n",
      "Neighbourhood2_SANTA LUÍZA            25453 non-null uint8\n",
      "Neighbourhood2_SANTA LÚCIA            25453 non-null uint8\n",
      "Neighbourhood2_SANTA MARTHA           25453 non-null uint8\n",
      "Neighbourhood2_SANTA TEREZA           25453 non-null uint8\n",
      "Neighbourhood2_SANTO ANDRÉ            25453 non-null uint8\n",
      "Neighbourhood2_SANTO ANTÔNIO          25453 non-null uint8\n",
      "Neighbourhood2_SANTOS DUMONT          25453 non-null uint8\n",
      "Neighbourhood2_SANTOS REIS            25453 non-null uint8\n",
      "Neighbourhood2_SOLON BORGES           25453 non-null uint8\n",
      "Neighbourhood2_SÃO BENEDITO           25453 non-null uint8\n",
      "Neighbourhood2_SÃO CRISTÓVÃO          25453 non-null uint8\n",
      "Neighbourhood2_SÃO JOSÉ               25453 non-null uint8\n",
      "Neighbourhood2_SÃO PEDRO              25453 non-null uint8\n",
      "Neighbourhood2_TABUAZEIRO             25453 non-null uint8\n",
      "Neighbourhood2_VILA RUBIM             25453 non-null uint8\n",
      "SchedDayofWeek_Friday                 25453 non-null uint8\n",
      "SchedDayofWeek_Saturday               25453 non-null uint8\n",
      "SchedDayofWeek_Thursday               25453 non-null uint8\n",
      "SchedDayofWeek_Tuesday                25453 non-null uint8\n",
      "SchedDayofWeek_Wednesday              25453 non-null uint8\n",
      "ApptDayofWeek_Friday                  25453 non-null uint8\n",
      "ApptDayofWeek_Thursday                25453 non-null uint8\n",
      "ApptDayofWeek_Tuesday                 25453 non-null uint8\n",
      "ApptDayofWeek_Wednesday               25453 non-null uint8\n",
      "dtypes: float64(1), int64(10), uint8(74)\n",
      "memory usage: 4.1 MB\n"
     ]
    },
    {
     "name": "stdout",
     "output_type": "stream",
     "text": [
      "<class 'pandas.core.frame.DataFrame'>\n",
      "Int64Index: 71163 entries, 65088 to 68006\n",
      "Data columns (total 85 columns):\n",
      "Age2                                  71163 non-null int64\n",
      "Scholarship                           71163 non-null int64\n",
      "Hipertension                          71163 non-null int64\n",
      "Diabetes                              71163 non-null int64\n",
      "Alcoholism                            71163 non-null int64\n",
      "Handcap_bin                           71163 non-null int64\n",
      "SMS_received                          71163 non-null int64\n",
      "DayDiff2                              71163 non-null int64\n",
      "no_show_rate2                         71163 non-null float64\n",
      "Reschedule                            71163 non-null int64\n",
      "Follow_up                             71163 non-null int64\n",
      "Gender_M                              71163 non-null uint8\n",
      "Neighbourhood2_ANDORINHAS             71163 non-null uint8\n",
      "Neighbourhood2_BARRO VERMELHO         71163 non-null uint8\n",
      "Neighbourhood2_BELA VISTA             71163 non-null uint8\n",
      "Neighbourhood2_BENTO FERREIRA         71163 non-null uint8\n",
      "Neighbourhood2_BOA VISTA              71163 non-null uint8\n",
      "Neighbourhood2_BONFIM                 71163 non-null uint8\n",
      "Neighbourhood2_CARATOÍRA              71163 non-null uint8\n",
      "Neighbourhood2_CENTRO                 71163 non-null uint8\n",
      "Neighbourhood2_COMDUSA                71163 non-null uint8\n",
      "Neighbourhood2_CONQUISTA              71163 non-null uint8\n",
      "Neighbourhood2_CONSOLAÇÃO             71163 non-null uint8\n",
      "Neighbourhood2_CRUZAMENTO             71163 non-null uint8\n",
      "Neighbourhood2_DA PENHA               71163 non-null uint8\n",
      "Neighbourhood2_DE LOURDES             71163 non-null uint8\n",
      "Neighbourhood2_DO CABRAL              71163 non-null uint8\n",
      "Neighbourhood2_DO MOSCOSO             71163 non-null uint8\n",
      "Neighbourhood2_DO QUADRO              71163 non-null uint8\n",
      "Neighbourhood2_ESTRELINHA             71163 non-null uint8\n",
      "Neighbourhood2_FONTE GRANDE           71163 non-null uint8\n",
      "Neighbourhood2_FORTE SÃO JOÃO         71163 non-null uint8\n",
      "Neighbourhood2_GOIABEIRAS             71163 non-null uint8\n",
      "Neighbourhood2_GRANDE VITÓRIA         71163 non-null uint8\n",
      "Neighbourhood2_GURIGICA               71163 non-null uint8\n",
      "Neighbourhood2_ILHA DAS CAIEIRAS      71163 non-null uint8\n",
      "Neighbourhood2_ILHA DE SANTA MARIA    71163 non-null uint8\n",
      "Neighbourhood2_ILHA DO PRÍNCIPE       71163 non-null uint8\n",
      "Neighbourhood2_INHANGUETÁ             71163 non-null uint8\n",
      "Neighbourhood2_ITARARÉ                71163 non-null uint8\n",
      "Neighbourhood2_JABOUR                 71163 non-null uint8\n",
      "Neighbourhood2_JARDIM CAMBURI         71163 non-null uint8\n",
      "Neighbourhood2_JARDIM DA PENHA        71163 non-null uint8\n",
      "Neighbourhood2_JESUS DE NAZARETH      71163 non-null uint8\n",
      "Neighbourhood2_JOANA D´ARC            71163 non-null uint8\n",
      "Neighbourhood2_JUCUTUQUARA            71163 non-null uint8\n",
      "Neighbourhood2_MARIA ORTIZ            71163 non-null uint8\n",
      "Neighbourhood2_MARUÍPE                71163 non-null uint8\n",
      "Neighbourhood2_MATA DA PRAIA          71163 non-null uint8\n",
      "Neighbourhood2_MONTE BELO             71163 non-null uint8\n",
      "Neighbourhood2_NOVA PALESTINA         71163 non-null uint8\n",
      "Neighbourhood2_PARQUE MOSCOSO         71163 non-null uint8\n",
      "Neighbourhood2_PIEDADE                71163 non-null uint8\n",
      "Neighbourhood2_PRAIA DO CANTO         71163 non-null uint8\n",
      "Neighbourhood2_PRAIA DO SUÁ           71163 non-null uint8\n",
      "Neighbourhood2_REDENÇÃO               71163 non-null uint8\n",
      "Neighbourhood2_REPÚBLICA              71163 non-null uint8\n",
      "Neighbourhood2_RESISTÊNCIA            71163 non-null uint8\n",
      "Neighbourhood2_ROMÃO                  71163 non-null uint8\n",
      "Neighbourhood2_SANTA CECÍLIA          71163 non-null uint8\n",
      "Neighbourhood2_SANTA CLARA            71163 non-null uint8\n",
      "Neighbourhood2_SANTA LUÍZA            71163 non-null uint8\n",
      "Neighbourhood2_SANTA LÚCIA            71163 non-null uint8\n",
      "Neighbourhood2_SANTA MARTHA           71163 non-null uint8\n",
      "Neighbourhood2_SANTA TEREZA           71163 non-null uint8\n",
      "Neighbourhood2_SANTO ANDRÉ            71163 non-null uint8\n",
      "Neighbourhood2_SANTO ANTÔNIO          71163 non-null uint8\n",
      "Neighbourhood2_SANTOS DUMONT          71163 non-null uint8\n",
      "Neighbourhood2_SANTOS REIS            71163 non-null uint8\n",
      "Neighbourhood2_SOLON BORGES           71163 non-null uint8\n",
      "Neighbourhood2_SÃO BENEDITO           71163 non-null uint8\n",
      "Neighbourhood2_SÃO CRISTÓVÃO          71163 non-null uint8\n",
      "Neighbourhood2_SÃO JOSÉ               71163 non-null uint8\n",
      "Neighbourhood2_SÃO PEDRO              71163 non-null uint8\n",
      "Neighbourhood2_TABUAZEIRO             71163 non-null uint8\n",
      "Neighbourhood2_VILA RUBIM             71163 non-null uint8\n",
      "SchedDayofWeek_Friday                 71163 non-null uint8\n",
      "SchedDayofWeek_Saturday               71163 non-null uint8\n",
      "SchedDayofWeek_Thursday               71163 non-null uint8\n",
      "SchedDayofWeek_Tuesday                71163 non-null uint8\n",
      "SchedDayofWeek_Wednesday              71163 non-null uint8\n",
      "ApptDayofWeek_Friday                  71163 non-null uint8\n",
      "ApptDayofWeek_Thursday                71163 non-null uint8\n",
      "ApptDayofWeek_Tuesday                 71163 non-null uint8\n",
      "ApptDayofWeek_Wednesday               71163 non-null uint8\n",
      "dtypes: float64(1), int64(10), uint8(74)\n",
      "memory usage: 11.5 MB\n",
      "<class 'pandas.core.frame.DataFrame'>\n",
      "Int64Index: 71163 entries, 65088 to 68006\n",
      "Data columns (total 86 columns):\n",
      "Age2                                  71163 non-null int64\n",
      "Scholarship                           71163 non-null int64\n",
      "Hipertension                          71163 non-null int64\n",
      "Diabetes                              71163 non-null int64\n",
      "Alcoholism                            71163 non-null int64\n",
      "Handcap_bin                           71163 non-null int64\n",
      "SMS_received                          71163 non-null int64\n",
      "DayDiff2                              71163 non-null int64\n",
      "Reschedule                            71163 non-null int64\n",
      "Follow_up                             71163 non-null int64\n",
      "prior_appt_count                      71163 non-null float64\n",
      "prior_no_show_count                   71163 non-null float64\n",
      "Gender_M                              71163 non-null uint8\n",
      "Neighbourhood2_ANDORINHAS             71163 non-null uint8\n",
      "Neighbourhood2_BARRO VERMELHO         71163 non-null uint8\n",
      "Neighbourhood2_BELA VISTA             71163 non-null uint8\n",
      "Neighbourhood2_BENTO FERREIRA         71163 non-null uint8\n",
      "Neighbourhood2_BOA VISTA              71163 non-null uint8\n",
      "Neighbourhood2_BONFIM                 71163 non-null uint8\n",
      "Neighbourhood2_CARATOÍRA              71163 non-null uint8\n",
      "Neighbourhood2_CENTRO                 71163 non-null uint8\n",
      "Neighbourhood2_COMDUSA                71163 non-null uint8\n",
      "Neighbourhood2_CONQUISTA              71163 non-null uint8\n",
      "Neighbourhood2_CONSOLAÇÃO             71163 non-null uint8\n",
      "Neighbourhood2_CRUZAMENTO             71163 non-null uint8\n",
      "Neighbourhood2_DA PENHA               71163 non-null uint8\n",
      "Neighbourhood2_DE LOURDES             71163 non-null uint8\n",
      "Neighbourhood2_DO CABRAL              71163 non-null uint8\n",
      "Neighbourhood2_DO MOSCOSO             71163 non-null uint8\n",
      "Neighbourhood2_DO QUADRO              71163 non-null uint8\n",
      "Neighbourhood2_ESTRELINHA             71163 non-null uint8\n",
      "Neighbourhood2_FONTE GRANDE           71163 non-null uint8\n",
      "Neighbourhood2_FORTE SÃO JOÃO         71163 non-null uint8\n",
      "Neighbourhood2_GOIABEIRAS             71163 non-null uint8\n",
      "Neighbourhood2_GRANDE VITÓRIA         71163 non-null uint8\n",
      "Neighbourhood2_GURIGICA               71163 non-null uint8\n",
      "Neighbourhood2_ILHA DAS CAIEIRAS      71163 non-null uint8\n",
      "Neighbourhood2_ILHA DE SANTA MARIA    71163 non-null uint8\n",
      "Neighbourhood2_ILHA DO PRÍNCIPE       71163 non-null uint8\n",
      "Neighbourhood2_INHANGUETÁ             71163 non-null uint8\n",
      "Neighbourhood2_ITARARÉ                71163 non-null uint8\n",
      "Neighbourhood2_JABOUR                 71163 non-null uint8\n",
      "Neighbourhood2_JARDIM CAMBURI         71163 non-null uint8\n",
      "Neighbourhood2_JARDIM DA PENHA        71163 non-null uint8\n",
      "Neighbourhood2_JESUS DE NAZARETH      71163 non-null uint8\n",
      "Neighbourhood2_JOANA D´ARC            71163 non-null uint8\n",
      "Neighbourhood2_JUCUTUQUARA            71163 non-null uint8\n",
      "Neighbourhood2_MARIA ORTIZ            71163 non-null uint8\n",
      "Neighbourhood2_MARUÍPE                71163 non-null uint8\n",
      "Neighbourhood2_MATA DA PRAIA          71163 non-null uint8\n",
      "Neighbourhood2_MONTE BELO             71163 non-null uint8\n",
      "Neighbourhood2_NOVA PALESTINA         71163 non-null uint8\n",
      "Neighbourhood2_PARQUE MOSCOSO         71163 non-null uint8\n",
      "Neighbourhood2_PIEDADE                71163 non-null uint8\n",
      "Neighbourhood2_PRAIA DO CANTO         71163 non-null uint8\n",
      "Neighbourhood2_PRAIA DO SUÁ           71163 non-null uint8\n",
      "Neighbourhood2_REDENÇÃO               71163 non-null uint8\n",
      "Neighbourhood2_REPÚBLICA              71163 non-null uint8\n",
      "Neighbourhood2_RESISTÊNCIA            71163 non-null uint8\n",
      "Neighbourhood2_ROMÃO                  71163 non-null uint8\n",
      "Neighbourhood2_SANTA CECÍLIA          71163 non-null uint8\n",
      "Neighbourhood2_SANTA CLARA            71163 non-null uint8\n",
      "Neighbourhood2_SANTA LUÍZA            71163 non-null uint8\n",
      "Neighbourhood2_SANTA LÚCIA            71163 non-null uint8\n",
      "Neighbourhood2_SANTA MARTHA           71163 non-null uint8\n",
      "Neighbourhood2_SANTA TEREZA           71163 non-null uint8\n",
      "Neighbourhood2_SANTO ANDRÉ            71163 non-null uint8\n",
      "Neighbourhood2_SANTO ANTÔNIO          71163 non-null uint8\n",
      "Neighbourhood2_SANTOS DUMONT          71163 non-null uint8\n",
      "Neighbourhood2_SANTOS REIS            71163 non-null uint8\n",
      "Neighbourhood2_SOLON BORGES           71163 non-null uint8\n",
      "Neighbourhood2_SÃO BENEDITO           71163 non-null uint8\n",
      "Neighbourhood2_SÃO CRISTÓVÃO          71163 non-null uint8\n",
      "Neighbourhood2_SÃO JOSÉ               71163 non-null uint8\n",
      "Neighbourhood2_SÃO PEDRO              71163 non-null uint8\n",
      "Neighbourhood2_TABUAZEIRO             71163 non-null uint8\n",
      "Neighbourhood2_VILA RUBIM             71163 non-null uint8\n",
      "SchedDayofWeek_Friday                 71163 non-null uint8\n",
      "SchedDayofWeek_Saturday               71163 non-null uint8\n",
      "SchedDayofWeek_Thursday               71163 non-null uint8\n",
      "SchedDayofWeek_Tuesday                71163 non-null uint8\n",
      "SchedDayofWeek_Wednesday              71163 non-null uint8\n",
      "ApptDayofWeek_Friday                  71163 non-null uint8\n",
      "ApptDayofWeek_Thursday                71163 non-null uint8\n",
      "ApptDayofWeek_Tuesday                 71163 non-null uint8\n",
      "ApptDayofWeek_Wednesday               71163 non-null uint8\n",
      "dtypes: float64(2), int64(10), uint8(74)\n",
      "memory usage: 12.1 MB\n"
     ]
    }
   ],
   "source": [
    "#Set features\n",
    "# run for appt - all appts, basic features\n",
    "feature_cols = ['Gender','Age','Scholarship','Hipertension','Diabetes','Alcoholism','Handcap','SMS_received',\n",
    "                'ApptDayofWeek','SchedDayofWeek','Neighbourhood','DayDiff']\n",
    "a_Xv1 = appt[feature_cols]\n",
    "a_Xv1 = pd.get_dummies(a_Xv1, columns = ['Gender','Neighbourhood','ApptDayofWeek','SchedDayofWeek'])\n",
    "a_Xv1.drop(columns=['Gender_F','Neighbourhood_VILA RUBIM','SchedDayofWeek_Monday','ApptDayofWeek_Monday'],inplace=True)\n",
    "Xv1_cols = np.array(a_Xv1.columns)\n",
    "a_Xv1.info()\n",
    "\n",
    "## run for appt_v2 - second or more appts, adds historical features\n",
    "feature_cols = ['Gender','Age2','Neighbourhood2','Scholarship','Hipertension','Diabetes','Alcoholism',\n",
    "                'Handcap_bin','SMS_received','SchedDayofWeek','ApptDayofWeek','DayDiff2',\n",
    "                'no_show_rate2','Reschedule','Follow_up']\n",
    "a_Xv2 = appt_v2[feature_cols]\n",
    "a_Xv2 = pd.get_dummies(a_Xv2, columns = ['Gender','Neighbourhood2','SchedDayofWeek','ApptDayofWeek'])\n",
    "a_Xv2.drop(columns=['Gender_F','Neighbourhood2_OTHER','SchedDayofWeek_Monday','ApptDayofWeek_Monday'],inplace=True)\n",
    "Xv2_cols = np.array(a_Xv2.columns)\n",
    "a_Xv2.info()\n",
    "# a_X.head(5)\n",
    "\n",
    "## run for appt_v2_all0 - all appts, replaces no-show-rate NA's as 0's\n",
    "feature_cols = ['Gender','Age2','Neighbourhood2','Scholarship','Hipertension','Diabetes','Alcoholism',\n",
    "                'Handcap_bin','SMS_received','SchedDayofWeek','ApptDayofWeek','DayDiff2',\n",
    "                'no_show_rate2','Reschedule','Follow_up']\n",
    "a_Xv3 = appt_v3[feature_cols]\n",
    "a_Xv3 = pd.get_dummies(a_Xv3, columns = ['Gender','Neighbourhood2','SchedDayofWeek','ApptDayofWeek'])\n",
    "a_Xv3.drop(columns=['Gender_F','Neighbourhood2_OTHER','SchedDayofWeek_Monday','ApptDayofWeek_Monday'],inplace=True)\n",
    "Xv3_cols = np.array(a_Xv3.columns)\n",
    "a_Xv3.info()\n",
    "\n",
    "## run for appt_v2_all0 - all appts, replaces no-show-rate NA's as imputed from linreg's\n",
    "## run for appt_v2_all0 - all appts, uses prior_appt_count and prior_no_show_count\n",
    "feature_cols = ['Gender','Age2','Neighbourhood2','Scholarship','Hipertension','Diabetes','Alcoholism',\n",
    "                'Handcap_bin','SMS_received','SchedDayofWeek','ApptDayofWeek','DayDiff2',\n",
    "                'Reschedule','Follow_up','prior_appt_count','prior_no_show_count']\n",
    "a_Xv4 = appt_v4[feature_cols]\n",
    "a_Xv4 = pd.get_dummies(a_Xv4, columns = ['Gender','Neighbourhood2','SchedDayofWeek','ApptDayofWeek'])\n",
    "a_Xv4.drop(columns=['Gender_F','Neighbourhood2_OTHER','SchedDayofWeek_Monday','ApptDayofWeek_Monday'],inplace=True)\n",
    "Xv4_cols = np.array(a_Xv4.columns)\n",
    "a_Xv4.info()"
   ]
  },
  {
   "cell_type": "code",
   "execution_count": 5,
   "metadata": {},
   "outputs": [],
   "source": [
    "#appt\n",
    "Xv1, yv1 = a_Xv1, appt['No_show_num']\n",
    "Xv1_train, Xv1_test, yv1_train, yv1_test = train_test_split(Xv1, yv1, test_size = 0.25, random_state = 10, stratify = yv1)\n",
    "#appt_v2\n",
    "Xv2, yv2 = a_Xv2, appt_v2['No_show_num']\n",
    "Xv2_train, Xv2_test, yv2_train, yv2_test = train_test_split(Xv2, yv2, test_size = 0.25, random_state = 10, stratify = yv2)\n",
    "#appt_v3\n",
    "Xv3, yv3 = a_Xv3, appt_v3['No_show_num']\n",
    "Xv3_train, Xv3_test, yv3_train, yv3_test = train_test_split(Xv3, yv3, test_size = 0.25, random_state = 10, stratify = yv3)\n",
    "#appt_v4\n",
    "Xv4, yv4 = a_Xv4, appt_v4['No_show_num']\n",
    "Xv4_train, Xv4_test, yv4_train, yv4_test = train_test_split(Xv4, yv4, test_size = 0.25, random_state = 10, stratify = yv4)"
   ]
  },
  {
   "cell_type": "code",
   "execution_count": 6,
   "metadata": {},
   "outputs": [],
   "source": [
    "#appt_v4\n",
    "Xv4, yv4 = a_Xv4, appt_v4['No_show_num']\n",
    "Xv4_train, Xv4_test, yv4_train, yv4_test = train_test_split(Xv4, yv4, test_size = 0.25, random_state = 10, stratify = yv4)"
   ]
  },
  {
   "cell_type": "markdown",
   "metadata": {},
   "source": [
    "### Grid Search investigation"
   ]
  },
  {
   "cell_type": "code",
   "execution_count": 7,
   "metadata": {},
   "outputs": [],
   "source": [
    "kf = StratifiedKFold(n_splits=5,random_state=60,shuffle=True)"
   ]
  },
  {
   "cell_type": "markdown",
   "metadata": {},
   "source": [
    "#### Logistic Regression"
   ]
  },
  {
   "cell_type": "code",
   "execution_count": 69,
   "metadata": {},
   "outputs": [],
   "source": [
    "model = Pipeline([\n",
    "        ('sampling', RandomOverSampler(random_state=42)),\n",
    "        ('class', LogisticRegression())\n",
    "    ])\n",
    "\n",
    "grid_params ={'class__penalty':['l1','l2'],\n",
    "              'class__max_iter':[100,200,300,500],\n",
    "              'class__solver':['liblinear','saga']}"
   ]
  },
  {
   "cell_type": "code",
   "execution_count": 70,
   "metadata": {},
   "outputs": [],
   "source": [
    "def lrgs(X_train,y_train,X_test,y_test,version):\n",
    "    start = time.time()\n",
    "    \n",
    "    LR_GS=GridSearchCV(model,grid_params,cv=kf,n_jobs=-1,verbose=1,scoring='roc_auc')\n",
    "    LR_GS.fit(X_train,y_train)\n",
    "    y_test_LR_GS_o = LR_GS.predict(X_test)\n",
    "    y_test_LR_GS_o_prob = LR_GS.predict_proba(X_test)[:,1]\n",
    "    print_scores(y_test,y_test_LR_GS_o)\n",
    "    print(f'LR {version}: {roc_auc_score(y_test, y_test_LR_GS_o_prob):.3f}') # LR\n",
    "    print(LR_GS.best_params_)\n",
    "    end = time.time()\n",
    "    print('minutes:',(end-start)/60)\n",
    "    \n",
    "    return"
   ]
  },
  {
   "cell_type": "code",
   "execution_count": 14,
   "metadata": {},
   "outputs": [
    {
     "name": "stdout",
     "output_type": "stream",
     "text": [
      "Fitting 5 folds for each of 16 candidates, totalling 80 fits\n"
     ]
    },
    {
     "name": "stderr",
     "output_type": "stream",
     "text": [
      "[Parallel(n_jobs=-1)]: Using backend LokyBackend with 4 concurrent workers.\n",
      "[Parallel(n_jobs=-1)]: Done  42 tasks      | elapsed:   54.3s\n",
      "[Parallel(n_jobs=-1)]: Done  80 out of  80 | elapsed:  3.3min finished\n"
     ]
    },
    {
     "name": "stdout",
     "output_type": "stream",
     "text": [
      "Accuracy score: 0.6475487115021998\n",
      "F1 score: 0.45990849987960514\n",
      "Precision (true + / all predicted +): 0.4029535864978903\n",
      "Recall (true + / all actual +): 0.535614133482894\n",
      "LR v2: 0.648\n",
      "{'class__max_iter': 100, 'class__penalty': 'l1', 'class__solver': 'saga'}\n",
      "minutes: 3.351482578118642\n"
     ]
    },
    {
     "name": "stderr",
     "output_type": "stream",
     "text": [
      "/Users/Jocelyn/anaconda3/envs/metis/lib/python3.6/site-packages/sklearn/linear_model/sag.py:337: ConvergenceWarning: The max_iter was reached which means the coef_ did not converge\n",
      "  \"the coef_ did not converge\", ConvergenceWarning)\n"
     ]
    }
   ],
   "source": [
    "lrgs(Xv2_train,yv2_train,Xv2_test,yv2_test,'v2')"
   ]
  },
  {
   "cell_type": "code",
   "execution_count": 15,
   "metadata": {},
   "outputs": [
    {
     "name": "stdout",
     "output_type": "stream",
     "text": [
      "Fitting 5 folds for each of 16 candidates, totalling 80 fits\n"
     ]
    },
    {
     "name": "stderr",
     "output_type": "stream",
     "text": [
      "[Parallel(n_jobs=-1)]: Using backend LokyBackend with 4 concurrent workers.\n",
      "[Parallel(n_jobs=-1)]: Done  42 tasks      | elapsed:  2.2min\n",
      "[Parallel(n_jobs=-1)]: Done  80 out of  80 | elapsed:  8.1min finished\n"
     ]
    },
    {
     "name": "stdout",
     "output_type": "stream",
     "text": [
      "Accuracy score: 0.5929964588837052\n",
      "F1 score: 0.4297078049933055\n",
      "Precision (true + / all predicted +): 0.3559034572733203\n",
      "Recall (true + / all actual +): 0.5421303656597775\n",
      "LR v3: 0.609\n",
      "{'class__max_iter': 100, 'class__penalty': 'l1', 'class__solver': 'saga'}\n",
      "minutes: 8.30881013472875\n"
     ]
    },
    {
     "name": "stderr",
     "output_type": "stream",
     "text": [
      "/Users/Jocelyn/anaconda3/envs/metis/lib/python3.6/site-packages/sklearn/linear_model/sag.py:337: ConvergenceWarning: The max_iter was reached which means the coef_ did not converge\n",
      "  \"the coef_ did not converge\", ConvergenceWarning)\n"
     ]
    }
   ],
   "source": [
    "lrgs(Xv3_train,yv3_train,Xv3_test,yv3_test,'v3')"
   ]
  },
  {
   "cell_type": "code",
   "execution_count": 71,
   "metadata": {},
   "outputs": [
    {
     "name": "stdout",
     "output_type": "stream",
     "text": [
      "Fitting 5 folds for each of 16 candidates, totalling 80 fits\n"
     ]
    },
    {
     "name": "stderr",
     "output_type": "stream",
     "text": [
      "[Parallel(n_jobs=-1)]: Using backend LokyBackend with 4 concurrent workers.\n",
      "[Parallel(n_jobs=-1)]: Done  42 tasks      | elapsed:  2.0min\n",
      "[Parallel(n_jobs=-1)]: Done  80 out of  80 | elapsed:  7.8min finished\n"
     ]
    },
    {
     "name": "stdout",
     "output_type": "stream",
     "text": [
      "Accuracy score: 0.588837052442246\n",
      "F1 score: 0.44036416494529873\n",
      "Precision (true + / all predicted +): 0.3580047269560891\n",
      "Recall (true + / all actual +): 0.571939586645469\n",
      "LR v4: 0.617\n",
      "{'class__max_iter': 100, 'class__penalty': 'l1', 'class__solver': 'saga'}\n",
      "minutes: 7.953718980153401\n"
     ]
    },
    {
     "name": "stderr",
     "output_type": "stream",
     "text": [
      "/Users/Jocelyn/anaconda3/envs/metis/lib/python3.6/site-packages/sklearn/linear_model/sag.py:337: ConvergenceWarning: The max_iter was reached which means the coef_ did not converge\n",
      "  \"the coef_ did not converge\", ConvergenceWarning)\n"
     ]
    }
   ],
   "source": [
    "lrgs(Xv4_train,yv4_train,Xv4_test,yv4_test,'v4')"
   ]
  },
  {
   "cell_type": "markdown",
   "metadata": {},
   "source": [
    "#### Random Forests"
   ]
  },
  {
   "cell_type": "code",
   "execution_count": 8,
   "metadata": {},
   "outputs": [],
   "source": [
    "model = Pipeline([\n",
    "        ('sampling', RandomOverSampler(random_state=42)),\n",
    "        ('class', RandomForestClassifier(random_state=88))\n",
    "    ])\n",
    "grid_params = {'class__n_estimators':[500,1000,1500,2000],\n",
    "               'class__max_depth':list(range(2,5)),\n",
    "               'class__min_samples_leaf':list(range(2,5))}"
   ]
  },
  {
   "cell_type": "code",
   "execution_count": 9,
   "metadata": {},
   "outputs": [],
   "source": [
    "def rfgs(X_train,y_train,X_test,y_test,version):\n",
    "    start = time.time()\n",
    "    \n",
    "    RF_GS=GridSearchCV(model,grid_params,cv=kf,n_jobs=-1,verbose=1,scoring='roc_auc')\n",
    "    RF_GS.fit(X_train,y_train)\n",
    "    y_test_RF_GS_o = RF_GS.predict(X_test)\n",
    "    y_test_RF_GS_o_prob = RF_GS.predict_proba(X_test)[:,1]\n",
    "    print_scores(y_test,y_test_RF_GS_o)\n",
    "    print(f'RF {version}: {roc_auc_score(y_test, y_test_RF_GS_o_prob):.3f}') # LR\n",
    "    print(RF_GS.best_params_)\n",
    "    end = time.time()\n",
    "    print('minutes:',(end-start)/60)\n",
    "    \n",
    "    return"
   ]
  },
  {
   "cell_type": "code",
   "execution_count": 72,
   "metadata": {},
   "outputs": [
    {
     "name": "stdout",
     "output_type": "stream",
     "text": [
      "Fitting 5 folds for each of 36 candidates, totalling 180 fits\n"
     ]
    },
    {
     "name": "stderr",
     "output_type": "stream",
     "text": [
      "[Parallel(n_jobs=-1)]: Using backend LokyBackend with 4 concurrent workers.\n",
      "[Parallel(n_jobs=-1)]: Done  42 tasks      | elapsed:  3.9min\n",
      "[Parallel(n_jobs=-1)]: Done 180 out of 180 | elapsed: 54.7min finished\n"
     ]
    },
    {
     "name": "stdout",
     "output_type": "stream",
     "text": [
      "Accuracy score: 0.6181646763042112\n",
      "F1 score: 0.45466786355475763\n",
      "Precision (true + / all predicted +): 0.3789749345304901\n",
      "Recall (true + / all actual +): 0.5681435782389231\n",
      "RF v2: 0.640\n",
      "{'class__max_depth': 2, 'class__min_samples_leaf': 2, 'class__n_estimators': 500}\n",
      "minutes: 54.77199234962463\n"
     ]
    }
   ],
   "source": [
    "rfgs(Xv2_train,yv2_train,Xv2_test,yv2_test,'v2')"
   ]
  },
  {
   "cell_type": "code",
   "execution_count": 11,
   "metadata": {},
   "outputs": [
    {
     "name": "stdout",
     "output_type": "stream",
     "text": [
      "Fitting 5 folds for each of 36 candidates, totalling 180 fits\n"
     ]
    },
    {
     "name": "stderr",
     "output_type": "stream",
     "text": [
      "[Parallel(n_jobs=-1)]: Using backend LokyBackend with 4 concurrent workers.\n",
      "[Parallel(n_jobs=-1)]: Done  42 tasks      | elapsed:  9.5min\n",
      "[Parallel(n_jobs=-1)]: Done 180 out of 180 | elapsed: 59.1min finished\n"
     ]
    },
    {
     "name": "stdout",
     "output_type": "stream",
     "text": [
      "Accuracy score: 0.5956944522511383\n",
      "F1 score: 0.4378272762797968\n",
      "Precision (true + / all predicted +): 0.3608141182532526\n",
      "Recall (true + / all actual +): 0.556637519872814\n",
      "RF v3: 0.617\n",
      "{'class__max_depth': 2, 'class__min_samples_leaf': 2, 'class__n_estimators': 2000}\n",
      "minutes: 84.22590834697088\n"
     ]
    }
   ],
   "source": [
    "rfgs(Xv3_train,yv3_train,Xv3_test,yv3_test,'v3')"
   ]
  },
  {
   "cell_type": "code",
   "execution_count": 10,
   "metadata": {},
   "outputs": [
    {
     "name": "stdout",
     "output_type": "stream",
     "text": [
      "Fitting 5 folds for each of 36 candidates, totalling 180 fits\n"
     ]
    },
    {
     "name": "stderr",
     "output_type": "stream",
     "text": [
      "[Parallel(n_jobs=-1)]: Using backend LokyBackend with 4 concurrent workers.\n",
      "[Parallel(n_jobs=-1)]: Done  42 tasks      | elapsed: 10.4min\n",
      "[Parallel(n_jobs=-1)]: Done 180 out of 180 | elapsed: 61.1min finished\n"
     ]
    },
    {
     "name": "stdout",
     "output_type": "stream",
     "text": [
      "Accuracy score: 0.594626496543196\n",
      "F1 score: 0.4379675810473815\n",
      "Precision (true + / all predicted +): 0.36025641025641025\n",
      "Recall (true + / all actual +): 0.5584260731319555\n",
      "RF v4: 0.621\n",
      "{'class__max_depth': 4, 'class__min_samples_leaf': 2, 'class__n_estimators': 500}\n",
      "minutes: 61.51378649870555\n"
     ]
    }
   ],
   "source": [
    "rfgs(Xv4_train,yv4_train,Xv4_test,yv4_test,'v4')"
   ]
  },
  {
   "cell_type": "markdown",
   "metadata": {},
   "source": [
    "#### XGBoost"
   ]
  },
  {
   "cell_type": "code",
   "execution_count": 58,
   "metadata": {},
   "outputs": [],
   "source": [
    "model = Pipeline([\n",
    "        ('sampling', RandomOverSampler(random_state=42)),\n",
    "        ('class', XGBClassifier(random_state=43))\n",
    "    ])\n",
    "grid_params = {'class__n_estimators':[500,1000,1500,2000],\n",
    "               'class__max_depth':list(range(2,5))}"
   ]
  },
  {
   "cell_type": "code",
   "execution_count": 251,
   "metadata": {},
   "outputs": [],
   "source": [
    "def xgbgs(X_train,y_train,X_test,y_test,version):\n",
    "    start = time.time()\n",
    "    \n",
    "    XGB_GS=GridSearchCV(model,grid_params,cv=kf,n_jobs=-1,verbose=1,scoring='recall')\n",
    "    XGB_GS.fit(X_train,y_train)\n",
    "    y_test_XGB_GS_o = XGB_GS.predict(X_test)\n",
    "    y_test_XGB_GS_o_prob = XGB_GS.predict_proba(X_test)[:,1]\n",
    "    print_scores(y_test,y_test_RF_GS_o)\n",
    "    print(f'RF {version}: {roc_auc_score(y_test, y_test_RF_GS_o_prob):.3f}') # LR\n",
    "    print(XGB_GS.best_params_)\n",
    "    end = time.time()\n",
    "    print('minutes:',(end-start)/60)\n",
    "    \n",
    "    return"
   ]
  },
  {
   "cell_type": "code",
   "execution_count": 95,
   "metadata": {},
   "outputs": [],
   "source": [
    "#use w/ resampled since that doesn't work with pipeline\n",
    "def oversample(X_train,y_train):\n",
    "    ros = RandomOverSampler(random_state=42)\n",
    "    X_resampled, y_resampled = ros.fit_sample(X_train,y_train)\n",
    "    X_resampled = pd.DataFrame(X_resampled,columns=X_train.columns)\n",
    "    print(Counter(y_resampled))\n",
    "    return X_resampled, y_resampled"
   ]
  },
  {
   "cell_type": "code",
   "execution_count": 96,
   "metadata": {},
   "outputs": [
    {
     "name": "stdout",
     "output_type": "stream",
     "text": [
      "Counter({0: 38276, 1: 38276})\n"
     ]
    }
   ],
   "source": [
    "Xv4_resampled, yv4_resampled = oversample(Xv4_train,yv4_train)"
   ]
  },
  {
   "cell_type": "code",
   "execution_count": 80,
   "metadata": {},
   "outputs": [],
   "source": [
    "grid_params = {'class__n_estimators':[500,750,1000],\n",
    "               'class__max_depth':list(range(-1,5))}\n",
    "\n",
    "def xgbgs(X_train,y_train,X_test,y_test,version):\n",
    "    start = time.time()\n",
    "    \n",
    "    XGB_GS=GridSearchCV(XGBClassifier(),grid_params,cv=kf,n_jobs=3,verbose=1,scoring='recall')\n",
    "    XGB_GS.fit(X_train,y_train)\n",
    "    y_test_XGB_GS_o = XGB_GS.predict(X_test)\n",
    "    y_test_XGB_GS_o_prob = XGB_GS.predict_proba(X_test)[:,1]\n",
    "    print_scores(y_test,y_test_XGB_GS_o)\n",
    "    print(f'XGB {version}: {roc_auc_score(y_test, y_test_XGB_GS_o_prob):.3f}') # LR\n",
    "    print(XGB_GS.best_params_)\n",
    "    end = time.time()\n",
    "    print('minutes:',(end-start)/60)\n",
    "    \n",
    "    return"
   ]
  },
  {
   "cell_type": "code",
   "execution_count": 128,
   "metadata": {},
   "outputs": [],
   "source": [
    "xgbgs(Xv2_train,yv2_train,Xv2_test,yv2_test,'v2')"
   ]
  },
  {
   "cell_type": "code",
   "execution_count": null,
   "metadata": {},
   "outputs": [],
   "source": [
    "xgbgs(Xv3_train,yv3_train,Xv3_test,yv3_test,'v3')"
   ]
  },
  {
   "cell_type": "code",
   "execution_count": 81,
   "metadata": {},
   "outputs": [
    {
     "name": "stdout",
     "output_type": "stream",
     "text": [
      "Fitting 5 folds for each of 12 candidates, totalling 60 fits\n"
     ]
    },
    {
     "name": "stderr",
     "output_type": "stream",
     "text": [
      "[Parallel(n_jobs=3)]: Using backend LokyBackend with 3 concurrent workers.\n",
      "[Parallel(n_jobs=3)]: Done  44 tasks      | elapsed:  6.3min\n",
      "[Parallel(n_jobs=3)]: Done  60 out of  60 | elapsed:  8.3min finished\n"
     ]
    },
    {
     "name": "stdout",
     "output_type": "stream",
     "text": [
      "Accuracy score: 0.7240177617896689\n",
      "F1 score: 0.10303251735476798\n",
      "Precision (true + / all predicted +): 0.6380090497737556\n",
      "Recall (true + / all actual +): 0.05604133545310016\n",
      "XGB v4: 0.633\n",
      "{'class__max_depth': -1, 'class__n_estimators': 200}\n",
      "minutes: 8.59769725004832\n"
     ]
    }
   ],
   "source": [
    "xgbgs(Xv4_train,yv4_train,Xv4_test,yv4_test,'v4')"
   ]
  },
  {
   "cell_type": "markdown",
   "metadata": {},
   "source": [
    "#### LGBoost"
   ]
  },
  {
   "cell_type": "code",
   "execution_count": 25,
   "metadata": {},
   "outputs": [],
   "source": [
    "model = Pipeline([\n",
    "        ('sampling', RandomOverSampler(random_state=42)),\n",
    "        ('class', LGBMClassifier(random_state=43,max_depth=-1,objective='binary',bagging_freq = 1,\n",
    "                                   bagging_fraction = 0.8,\n",
    "                                   bagging_seed = 71))\n",
    "    ])\n",
    "# grid_params = {'class__boosting_type':['rf','gbdt','dart'],\n",
    "#                'class__n_estimators':[500,1000,1500,2000],\n",
    "#                'class__max_depth':list(range(-1,1)),\n",
    "#               }\n",
    "grid_params = {'class__boosting_type':['rf'],\n",
    "               'class__n_estimators':[100,500,1000]\n",
    "              }"
   ]
  },
  {
   "cell_type": "code",
   "execution_count": 26,
   "metadata": {},
   "outputs": [],
   "source": [
    "def lgbgs(X_train,y_train,X_test,y_test,version):\n",
    "    start = time.time()\n",
    "    \n",
    "    LGB_GS=GridSearchCV(model,grid_params,cv=kf,n_jobs=-1,verbose=1,scoring='recall')\n",
    "    LGB_GS.fit(X_train,y_train)\n",
    "    y_test_LGB_GS_o = LGB_GS.predict(X_test)\n",
    "    y_test_LGB_GS_o_prob = LGB_GS.predict_proba(X_test)[:,1]\n",
    "    print_scores(y_test,y_test_LGB_GS_o)\n",
    "    print(f'LGB {version}: {roc_auc_score(y_test, y_test_LGB_GS_o_prob):.3f}') # LR\n",
    "    print(LGB_GS.best_params_)\n",
    "    end = time.time()\n",
    "    print('minutes:',(end-start)/60)\n",
    "    \n",
    "    return"
   ]
  },
  {
   "cell_type": "code",
   "execution_count": 27,
   "metadata": {},
   "outputs": [
    {
     "name": "stdout",
     "output_type": "stream",
     "text": [
      "Fitting 5 folds for each of 3 candidates, totalling 15 fits\n"
     ]
    },
    {
     "name": "stderr",
     "output_type": "stream",
     "text": [
      "[Parallel(n_jobs=-1)]: Using backend LokyBackend with 4 concurrent workers.\n",
      "/Users/Jocelyn/anaconda3/envs/metis/lib/python3.6/site-packages/joblib/externals/loky/process_executor.py:706: UserWarning: A worker stopped while some jobs were given to the executor. This can be caused by a too short worker timeout or by a memory leak.\n",
      "  \"timeout or by a memory leak.\", UserWarning\n",
      "[Parallel(n_jobs=-1)]: Done  15 out of  15 | elapsed:  1.2min finished\n"
     ]
    },
    {
     "name": "stdout",
     "output_type": "stream",
     "text": [
      "Accuracy score: 0.624192007194649\n",
      "F1 score: 0.4363513741358962\n",
      "Precision (true + / all predicted +): 0.3789165446559297\n",
      "Recall (true + / all actual +): 0.514308426073132\n",
      "LGB v4: 0.634\n",
      "{'class__boosting_type': 'rf', 'class__n_estimators': 500}\n",
      "minutes: 1.30671546459198\n"
     ]
    }
   ],
   "source": [
    "lgbgs(Xv4_train,yv4_train,Xv4_test,yv4_test,'v4')"
   ]
  },
  {
   "cell_type": "code",
   "execution_count": null,
   "metadata": {},
   "outputs": [],
   "source": []
  },
  {
   "cell_type": "markdown",
   "metadata": {},
   "source": [
    "### Cross-Validation"
   ]
  },
  {
   "cell_type": "code",
   "execution_count": 33,
   "metadata": {},
   "outputs": [],
   "source": [
    "# Use best parameters identified from GridSearchCV\n",
    "\n",
    "kf = StratifiedKFold(n_splits=5,random_state=60,shuffle=True)\n",
    "\n",
    "models = {'Logistic Regression': LogisticRegression(max_iter=300,penalty='l2',solver='liblinear'),\n",
    "          'Random Forests': RandomForestClassifier(n_estimators=500,random_state=88,max_depth=4,min_samples_leaf=2),\n",
    "          'XGB': XGBClassifier(n_estimator=1000,max_depth=4,random_state=43),\n",
    "          'LGB': LGBMClassifier(random_state=43,max_depth=-1,objective='binary',bagging_freq = 1,\n",
    "                                   bagging_fraction = 0.8,\n",
    "                                   bagging_seed = 71,\n",
    "                                   boosting_type='rf',\n",
    "                                   n_estimators=500)}"
   ]
  },
  {
   "cell_type": "code",
   "execution_count": 34,
   "metadata": {},
   "outputs": [],
   "source": [
    "def crossval(X_train,y_train):\n",
    "    '''\n",
    "    convert data\n",
    "    run cross validation\n",
    "    output metrics\n",
    "    '''\n",
    "    for model_name, model in models.items():\n",
    "        X_train = np.array(X_train)\n",
    "        y_train = np.array(y_train)\n",
    "\n",
    "        cv_results_precision = defaultdict(list)\n",
    "        cv_results_recall = defaultdict(list)\n",
    "        cv_results_accuracy = defaultdict(list)\n",
    "        cv_results_f1 = defaultdict(list)\n",
    "        cv_results_auc = defaultdict(list)\n",
    "        #split into train and val\n",
    "        for train_ind, val_ind in kf.split(X_train,y_train):\n",
    "            X_tr, y_tr = X_train[train_ind], y_train[train_ind]\n",
    "            #perform oversampling on the train test\n",
    "            ros = RandomOverSampler(random_state=42)\n",
    "            X_resampled, y_resampled = ros.fit_sample(X_tr,y_tr)\n",
    "            # fit and predict model\n",
    "            model.fit(X_resampled, y_resampled)\n",
    "            X_val, y_val = X_train[val_ind], y_train[val_ind]\n",
    "            y_pred = model.predict(X_val)\n",
    "            #collect performance scores\n",
    "            precision = precision_score(y_val,y_pred)\n",
    "            cv_results_precision[model_name].append(precision) \n",
    "            recall = recall_score(y_val,y_pred)\n",
    "            cv_results_recall[model_name].append(recall)\n",
    "            accuracy = accuracy_score(y_val,y_pred)\n",
    "            cv_results_accuracy[model_name].append(accuracy)\n",
    "            f1 = f1_score(y_val,y_pred)\n",
    "            cv_results_f1[model_name].append(f1)\n",
    "            auc = roc_auc_score(y_val,model.predict_proba(X_val)[:,1])\n",
    "            cv_results_auc[model_name].append(auc)\n",
    "        print(model_name)    \n",
    "        for key in cv_results_recall:\n",
    "            print(f'Recall: {np.mean(cv_results_recall[key]):.3f}')\n",
    "            print(cv_results_recall[key])\n",
    "        for key in cv_results_precision:\n",
    "            print(f'Precision: {np.mean(cv_results_precision[key]):.3f}')\n",
    "            print(cv_results_precision[key])\n",
    "        for key in cv_results_accuracy:\n",
    "            print(f'Accuracy: {np.mean(cv_results_accuracy[key]):.3f}')\n",
    "            print(cv_results_accuracy[key])\n",
    "        for key in cv_results_f1:\n",
    "            print(f'F1: {np.mean(cv_results_f1[key]):.3f}')\n",
    "            print(cv_results_f1[key])\n",
    "        for key in cv_results_auc:\n",
    "            print(f'AUC: {np.mean(cv_results_auc[key]):.3f}')\n",
    "            print(cv_results_auc[key])\n",
    "    return "
   ]
  },
  {
   "cell_type": "code",
   "execution_count": 57,
   "metadata": {},
   "outputs": [
    {
     "name": "stdout",
     "output_type": "stream",
     "text": [
      "Logistic Regression\n",
      "Recall: 0.544\n",
      "[0.5480132450331126, 0.5372639947002319, 0.5313017555481948, 0.5581318317323617, 0.5462073534282875]\n",
      "Precision: 0.357\n",
      "[0.35900216919739697, 0.35766262403528115, 0.3504478916320734, 0.36189862542955326, 0.35816681146828844]\n",
      "Accuracy: 0.594\n",
      "[0.5953540651929562, 0.5962151021172943, 0.5889076260071201, 0.5966835300730747, 0.5948098182499532]\n",
      "F1: 0.431\n",
      "[0.4338138925294888, 0.4294413555732063, 0.42232754081095314, 0.43908794788273614, 0.43263806900170537]\n",
      "AUC: 0.613\n",
      "[0.6170459086757043, 0.6142502881272948, 0.6075572971442134, 0.6141665597525274, 0.6120934927908138]\n",
      "Random Forests\n",
      "Recall: 0.579\n",
      "[0.5917218543046358, 0.5862868499503147, 0.5736999006293475, 0.5783371977475985, 0.5660814839350778]\n",
      "Precision: 0.359\n",
      "[0.362474645030426, 0.3647228518442201, 0.35110480437867425, 0.3602971522905489, 0.3558192796169061]\n",
      "Accuracy: 0.588\n",
      "[0.590108654926939, 0.5941540191118606, 0.5795390668915121, 0.5903129098744613, 0.5874086565486228]\n",
      "F1: 0.443\n",
      "[0.44955974842767293, 0.4496951219512196, 0.4356136820925554, 0.44399237126509855, 0.43697264126821783]\n",
      "AUC: 0.619\n",
      "[0.6224842481679087, 0.6216428545620822, 0.6110343613028655, 0.6219303003468777, 0.6174347789495183]\n",
      "XGB\n",
      "Recall: 0.556\n",
      "[0.5632450331125828, 0.5528320635972176, 0.5544882411394502, 0.5674064259688638, 0.543226233852269]\n",
      "Precision: 0.369\n",
      "[0.36890045543266103, 0.3736288336691292, 0.3617894964339745, 0.3738542121344391, 0.3668083202862894]\n",
      "Accuracy: 0.605\n",
      "[0.6038778568752342, 0.6113921678845794, 0.5973393292111673, 0.6088626569233652, 0.6055836612329024]\n",
      "F1: 0.444\n",
      "[0.44581313065129075, 0.4458990114881111, 0.4378760136018834, 0.4507301670832785, 0.4379172229639519]\n",
      "AUC: 0.627\n",
      "[0.6312506487574996, 0.6284198551780373, 0.621571847707822, 0.631172939335439, 0.6234652556452289]\n",
      "LGB\n",
      "Recall: 0.543\n",
      "[0.5109271523178808, 0.5793309042729381, 0.5303080490228552, 0.5442199403776085, 0.5521695925803246]\n",
      "Precision: 0.365\n",
      "[0.369757967888809, 0.3609907120743034, 0.3677078548461185, 0.37188773200543235, 0.3568065068493151]\n",
      "Accuracy: 0.604\n",
      "[0.6153053578119145, 0.5909687090125538, 0.6092373992879895, 0.6111111111111112, 0.5918118793329586]\n",
      "F1: 0.437\n",
      "[0.4290282218823856, 0.4448118006103764, 0.4342872643428726, 0.4418448299045314, 0.43349369392796777]\n",
      "AUC: 0.619\n",
      "[0.6186530756295543, 0.6204511856002772, 0.6181425757920284, 0.620645383505164, 0.6159532410561545]\n"
     ]
    }
   ],
   "source": [
    "crossval(Xv3_train,yv3_train)"
   ]
  },
  {
   "cell_type": "code",
   "execution_count": 35,
   "metadata": {},
   "outputs": [
    {
     "name": "stdout",
     "output_type": "stream",
     "text": [
      "Logistic Regression\n",
      "Recall: 0.571\n",
      "[0.5824503311258278, 0.5644253063928453, 0.5621066578337198, 0.5783371977475985, 0.5670751904604173]\n",
      "Precision: 0.358\n",
      "[0.36208316179497735, 0.3582089552238806, 0.35346802749427203, 0.3610421836228288, 0.3546716386989849]\n",
      "Accuracy: 0.589\n",
      "[0.5916073435743724, 0.5907813378302417, 0.585347573543189, 0.5912497657860221, 0.5857223159078134]\n",
      "F1: 0.440\n",
      "[0.44656004061944654, 0.4382716049382716, 0.4340153452685423, 0.4445576066199873, 0.4364007137394851]\n",
      "AUC: 0.621\n",
      "[0.6286188558339734, 0.6224666379206458, 0.6144919321112163, 0.6223387520231654, 0.6184213674812407]\n",
      "Random Forests\n",
      "Recall: 0.583\n",
      "[0.5887417218543046, 0.5988737992712819, 0.57535607817158, 0.5819807883405101, 0.5697250745279894]\n",
      "Precision: 0.358\n",
      "[0.36064908722109534, 0.3633440514469453, 0.35154826958105645, 0.3596724667349028, 0.35625517812758906]\n",
      "Accuracy: 0.587\n",
      "[0.5884226301985762, 0.5897507963275248, 0.5797264380738243, 0.5887202548248079, 0.5871275997751546]\n",
      "F1: 0.444\n",
      "[0.4472955974842767, 0.45228267667292055, 0.43643216080402003, 0.444585020242915, 0.43838409583280236]\n",
      "AUC: 0.620\n",
      "[0.6244458962195603, 0.6224668542730354, 0.6113106216691198, 0.6244577289619477, 0.6180163990784253]\n",
      "XGB\n",
      "Recall: 0.589\n",
      "[0.6023178807947019, 0.5982113282543888, 0.5836369658827426, 0.5816495528320635, 0.5776747267307055]\n",
      "Precision: 0.364\n",
      "[0.3677719369187222, 0.36301507537688443, 0.36232778120501746, 0.36393782383419687, 0.3653121072475911]\n",
      "Accuracy: 0.593\n",
      "[0.5946047208692394, 0.5894697395540566, 0.5917181937418025, 0.5941540191118606, 0.5966835300730747]\n",
      "F1: 0.450\n",
      "[0.45669093648004017, 0.45183887915936954, 0.4470946460289266, 0.4477307496175421, 0.4475811625818042]\n",
      "AUC: 0.631\n",
      "[0.6354564571266444, 0.6305415148864506, 0.6238293334464136, 0.633139777273869, 0.6296053364615004]\n",
      "LGB\n",
      "Recall: 0.477\n",
      "[0.46688741721854304, 0.4991719112288837, 0.46372971182510764, 0.48227890029811193, 0.47101689301093075]\n",
      "Precision: 0.382\n",
      "[0.38472032742155526, 0.3779784298971658, 0.38095238095238093, 0.3889927865348651, 0.3765889830508475]\n",
      "Accuracy: 0.634\n",
      "[0.6379730236043462, 0.6260071201049279, 0.6351883080382237, 0.6393104740490912, 0.6298482293423272]\n",
      "F1: 0.424\n",
      "[0.4218399401645475, 0.4302026834142164, 0.4182850313713774, 0.4306418219461697, 0.4185430463576159]\n",
      "AUC: 0.624\n",
      "[0.6278776720158885, 0.6236385106388043, 0.616750780869862, 0.6271098847296104, 0.6244637435583781]\n"
     ]
    }
   ],
   "source": [
    "crossval(Xv4_train,yv4_train)"
   ]
  },
  {
   "cell_type": "markdown",
   "metadata": {},
   "source": [
    "### Final evaluation on test data"
   ]
  },
  {
   "cell_type": "code",
   "execution_count": 15,
   "metadata": {},
   "outputs": [],
   "source": [
    "def oversample(X_train,y_train):\n",
    "    ros = RandomOverSampler(random_state=42)\n",
    "    X_resampled, y_resampled = ros.fit_sample(X_train,y_train)\n",
    "    X_resampled = pd.DataFrame(X_resampled,columns=X_train.columns)\n",
    "    print(Counter(y_resampled))\n",
    "    return X_resampled, y_resampled"
   ]
  },
  {
   "cell_type": "code",
   "execution_count": 16,
   "metadata": {},
   "outputs": [
    {
     "name": "stdout",
     "output_type": "stream",
     "text": [
      "Counter({0: 38276, 1: 38276})\n"
     ]
    }
   ],
   "source": [
    "Xv4_resampled, yv4_resampled = oversample(Xv4_train,yv4_train)"
   ]
  },
  {
   "cell_type": "code",
   "execution_count": 22,
   "metadata": {},
   "outputs": [
    {
     "name": "stdout",
     "output_type": "stream",
     "text": [
      "Counter({0: 38276, 1: 38276})\n"
     ]
    }
   ],
   "source": [
    "Xv3_resampled, yv3_resampled = oversample(Xv3_train,yv3_train)"
   ]
  },
  {
   "cell_type": "code",
   "execution_count": 23,
   "metadata": {},
   "outputs": [
    {
     "name": "stdout",
     "output_type": "stream",
     "text": [
      "Counter({0: 13739, 1: 13739})\n"
     ]
    }
   ],
   "source": [
    "Xv2_resampled, yv2_resampled = oversample(Xv2_train,yv2_train)"
   ]
  },
  {
   "cell_type": "markdown",
   "metadata": {},
   "source": [
    "#### Test performance"
   ]
  },
  {
   "cell_type": "code",
   "execution_count": 21,
   "metadata": {},
   "outputs": [
    {
     "name": "stdout",
     "output_type": "stream",
     "text": [
      "Accuracy score: 0.5888932606374009\n",
      "F1 score: 0.44074017433858387\n",
      "Precision (true + / all predicted +): 0.35819040517027095\n",
      "Recall (true + / all actual +): 0.5727344992050875\n",
      "LR o - v4: 0.616\n"
     ]
    }
   ],
   "source": [
    "#Logistic regression\n",
    "LR = LogisticRegression(max_iter=300,penalty='l2',solver='liblinear')\n",
    "LR.fit(Xv4_resampled,yv4_resampled)\n",
    "yv4_test_LR_o = LR.predict(Xv4_test)\n",
    "yv4_test_LR_o_prob = LR.predict_proba(Xv4_test)[:,1]\n",
    "print_scores(yv4_test,yv4_test_LR_o)\n",
    "print(f'LR o - v4: {roc_auc_score(yv4_test, yv4_test_LR_o_prob):.3f}') # LR"
   ]
  },
  {
   "cell_type": "code",
   "execution_count": 17,
   "metadata": {
    "scrolled": true
   },
   "outputs": [
    {
     "name": "stdout",
     "output_type": "stream",
     "text": [
      "Accuracy score: 0.594626496543196\n",
      "F1 score: 0.4379675810473815\n",
      "Precision (true + / all predicted +): 0.36025641025641025\n",
      "Recall (true + / all actual +): 0.5584260731319555\n",
      "RFC o - v4: 0.621\n"
     ]
    }
   ],
   "source": [
    "#Random forests\n",
    "RFC = RandomForestClassifier(n_estimators=500,random_state=88,max_depth=4,min_samples_leaf=2)\n",
    "RFC.fit(Xv4_resampled,yv4_resampled)\n",
    "yv4_test_RFC_o = RFC.predict(Xv4_test)\n",
    "yv4_test_RFC_o_prob = RFC.predict_proba(Xv4_test)[:,1]\n",
    "print_scores(yv4_test,yv4_test_RFC_o)\n",
    "print(f'RFC o - v4: {roc_auc_score(yv4_test, yv4_test_RFC_o_prob):.3f}') # RFC"
   ]
  },
  {
   "cell_type": "code",
   "execution_count": 23,
   "metadata": {},
   "outputs": [
    {
     "name": "stdout",
     "output_type": "stream",
     "text": [
      "Accuracy score: 0.6128941599685234\n",
      "F1 score: 0.45189017111022683\n",
      "Precision (true + / all predicted +): 0.37687508296827293\n",
      "Recall (true + / all actual +): 0.5641891891891891\n",
      "XGB o - v4: 0.633\n"
     ]
    }
   ],
   "source": [
    "#XGB\n",
    "XGB = XGBClassifier(n_estimator=1000,max_depth=4,random_state=43)\n",
    "XGB.fit(Xv4_resampled,yv4_resampled)\n",
    "yv4_test_XGB_o = XGB.predict(Xv4_test)\n",
    "yv4_test_XGB_o_prob = XGB.predict_proba(Xv4_test)[:,1]\n",
    "print_scores(yv4_test,yv4_test_XGB_o)\n",
    "print(f'XGB o - v4: {roc_auc_score(yv4_test, yv4_test_XGB_o_prob):.3f}') # RFC"
   ]
  },
  {
   "cell_type": "code",
   "execution_count": 24,
   "metadata": {},
   "outputs": [
    {
     "name": "stdout",
     "output_type": "stream",
     "text": [
      "Accuracy score: 0.6334663593951998\n",
      "F1 score: 0.41415865600574975\n",
      "Precision (true + / all predicted +): 0.3779308083292343\n",
      "Recall (true + / all actual +): 0.45806836248012717\n",
      "LGB o - v4: 0.621\n"
     ]
    }
   ],
   "source": [
    "#LGB\n",
    "LGB = LGBMClassifier(random_state=43,max_depth=-1,objective='binary',bagging_freq = 1,\n",
    "                                   bagging_fraction = 0.8,\n",
    "                                   bagging_seed = 71,\n",
    "                                   boosting_type='rf',\n",
    "                                   n_estimators=500)\n",
    "LGB.fit(Xv4_resampled,yv4_resampled)\n",
    "yv4_test_LGB_o = LGB.predict(Xv4_test)\n",
    "yv4_test_LGB_o_prob = LGB.predict_proba(Xv4_test)[:,1]\n",
    "print_scores(yv4_test,yv4_test_LGB_o)\n",
    "print(f'LGB o - v4: {roc_auc_score(yv4_test,yv4_test_LGB_o_prob):.3f}')"
   ]
  },
  {
   "cell_type": "markdown",
   "metadata": {},
   "source": [
    "#### Train performance"
   ]
  },
  {
   "cell_type": "code",
   "execution_count": 22,
   "metadata": {},
   "outputs": [
    {
     "name": "stdout",
     "output_type": "stream",
     "text": [
      "Accuracy score: 0.5880186017347685\n",
      "F1 score: 0.5845124232603484\n",
      "Precision (true + / all predicted +): 0.5895296306138719\n",
      "Recall (true + / all actual +): 0.5795798934057895\n",
      "LR o - v4: 0.628\n"
     ]
    }
   ],
   "source": [
    "# Logistic Regression\n",
    "yv4_resampled_LR_o = LR.predict(Xv4_resampled)\n",
    "yv4_resampled_LR_o_prob = LR.predict_proba(Xv4_resampled)[:,1]\n",
    "print_scores(yv4_resampled,yv4_resampled_LR_o)\n",
    "print(f'LR o - v4: {roc_auc_score(yv4_resampled, yv4_resampled_LR_o_prob):.3f}') # LR"
   ]
  },
  {
   "cell_type": "code",
   "execution_count": 18,
   "metadata": {},
   "outputs": [
    {
     "name": "stdout",
     "output_type": "stream",
     "text": [
      "Accuracy score: 0.5902915665168774\n",
      "F1 score: 0.5837005574727901\n",
      "Precision (true + / all predicted +): 0.5932441182818908\n",
      "Recall (true + / all actual +): 0.57445919113805\n",
      "RFC o - v4: 0.628\n"
     ]
    }
   ],
   "source": [
    "# Random Forest\n",
    "yv4_resampled_RFC_o = RFC.predict(Xv4_resampled)\n",
    "yv4_resampled_RFC_o_prob = RFC.predict_proba(Xv4_resampled)[:,1]\n",
    "print_scores(yv4_resampled,yv4_resampled_RFC_o)\n",
    "print(f'RFC o - v4: {roc_auc_score(yv4_resampled, yv4_resampled_RFC_o_prob):.3f}') # RFC"
   ]
  },
  {
   "cell_type": "code",
   "execution_count": 26,
   "metadata": {},
   "outputs": [
    {
     "name": "stdout",
     "output_type": "stream",
     "text": [
      "Accuracy score: 0.6146932803845752\n",
      "F1 score: 0.6066046040171784\n",
      "Precision (true + / all predicted +): 0.6196120102446733\n",
      "Recall (true + / all actual +): 0.5941320932176821\n",
      "XGB o - v4: 0.666\n"
     ]
    }
   ],
   "source": [
    "# XGBoost\n",
    "yv4_resampled_XGB_o = XGB.predict(Xv4_resampled)\n",
    "yv4_resampled_XGB_o_prob = XGB.predict_proba(Xv4_resampled)[:,1]\n",
    "print_scores(yv4_resampled,yv4_resampled_XGB_o)\n",
    "print(f'XGB o - v4: {roc_auc_score(yv4_resampled, yv4_resampled_XGB_o_prob):.3f}') # XGB"
   ]
  },
  {
   "cell_type": "code",
   "execution_count": 27,
   "metadata": {},
   "outputs": [
    {
     "name": "stdout",
     "output_type": "stream",
     "text": [
      "Accuracy score: 0.593126240986519\n",
      "F1 score: 0.5418548209163787\n",
      "Precision (true + / all predicted +): 0.6199804772964421\n",
      "Recall (true + / all actual +): 0.4812153830076288\n",
      "LGB o - v4: 0.636\n"
     ]
    }
   ],
   "source": [
    "# LGBoost\n",
    "yv4_resampled_LGB_o = LGB.predict(Xv4_resampled)\n",
    "yv4_resampled_LGB_o_prob = LGB.predict_proba(Xv4_resampled)[:,1]\n",
    "print_scores(yv4_resampled,yv4_resampled_LGB_o)\n",
    "print(f'LGB o - v4: {roc_auc_score(yv4_resampled, yv4_resampled_LGB_o_prob):.3f}') # LGB"
   ]
  },
  {
   "cell_type": "markdown",
   "metadata": {},
   "source": [
    "#### Train Data"
   ]
  },
  {
   "cell_type": "code",
   "execution_count": 25,
   "metadata": {},
   "outputs": [
    {
     "ename": "NameError",
     "evalue": "name 'yv4_resampled_XGB_o_prob' is not defined",
     "output_type": "error",
     "traceback": [
      "\u001b[0;31m---------------------------------------------------------------------------\u001b[0m",
      "\u001b[0;31mNameError\u001b[0m                                 Traceback (most recent call last)",
      "\u001b[0;32m<ipython-input-25-e0568972a7db>\u001b[0m in \u001b[0;36m<module>\u001b[0;34m\u001b[0m\n\u001b[1;32m      2\u001b[0m \u001b[0mfpr13\u001b[0m\u001b[0;34m,\u001b[0m \u001b[0mtpr13\u001b[0m\u001b[0;34m,\u001b[0m \u001b[0mthresholds13\u001b[0m \u001b[0;34m=\u001b[0m \u001b[0mroc_curve\u001b[0m\u001b[0;34m(\u001b[0m\u001b[0myv4_resampled\u001b[0m\u001b[0;34m,\u001b[0m \u001b[0myv4_resampled_LR_o_prob\u001b[0m\u001b[0;34m)\u001b[0m \u001b[0;31m# LR\u001b[0m\u001b[0;34m\u001b[0m\u001b[0;34m\u001b[0m\u001b[0m\n\u001b[1;32m      3\u001b[0m \u001b[0mfpr14\u001b[0m\u001b[0;34m,\u001b[0m \u001b[0mtpr14\u001b[0m\u001b[0;34m,\u001b[0m \u001b[0mthresholds14\u001b[0m \u001b[0;34m=\u001b[0m \u001b[0mroc_curve\u001b[0m\u001b[0;34m(\u001b[0m\u001b[0myv4_resampled\u001b[0m\u001b[0;34m,\u001b[0m \u001b[0myv4_resampled_RFC_o_prob\u001b[0m\u001b[0;34m)\u001b[0m \u001b[0;31m# RFC\u001b[0m\u001b[0;34m\u001b[0m\u001b[0;34m\u001b[0m\u001b[0m\n\u001b[0;32m----> 4\u001b[0;31m \u001b[0mfpr15\u001b[0m\u001b[0;34m,\u001b[0m \u001b[0mtpr15\u001b[0m\u001b[0;34m,\u001b[0m \u001b[0mthresholds15\u001b[0m \u001b[0;34m=\u001b[0m \u001b[0mroc_curve\u001b[0m\u001b[0;34m(\u001b[0m\u001b[0myv4_resampled\u001b[0m\u001b[0;34m,\u001b[0m \u001b[0myv4_resampled_XGB_o_prob\u001b[0m\u001b[0;34m)\u001b[0m \u001b[0;31m# XGB\u001b[0m\u001b[0;34m\u001b[0m\u001b[0;34m\u001b[0m\u001b[0m\n\u001b[0m\u001b[1;32m      5\u001b[0m \u001b[0mfpr16\u001b[0m\u001b[0;34m,\u001b[0m \u001b[0mtpr16\u001b[0m\u001b[0;34m,\u001b[0m \u001b[0mthresholds16\u001b[0m \u001b[0;34m=\u001b[0m \u001b[0mroc_curve\u001b[0m\u001b[0;34m(\u001b[0m\u001b[0myv4_resampled\u001b[0m\u001b[0;34m,\u001b[0m \u001b[0myv4_resampled_LGB_o_prob\u001b[0m\u001b[0;34m)\u001b[0m \u001b[0;31m# LGB\u001b[0m\u001b[0;34m\u001b[0m\u001b[0;34m\u001b[0m\u001b[0m\n\u001b[1;32m      6\u001b[0m \u001b[0;34m\u001b[0m\u001b[0m\n",
      "\u001b[0;31mNameError\u001b[0m: name 'yv4_resampled_XGB_o_prob' is not defined"
     ]
    }
   ],
   "source": [
    "# Compare ROCs for:\n",
    "fpr13, tpr13, thresholds13 = roc_curve(yv4_resampled, yv4_resampled_LR_o_prob) # LR\n",
    "fpr14, tpr14, thresholds14 = roc_curve(yv4_resampled, yv4_resampled_RFC_o_prob) # RFC\n",
    "fpr15, tpr15, thresholds15 = roc_curve(yv4_resampled, yv4_resampled_XGB_o_prob) # XGB\n",
    "fpr16, tpr16, thresholds16 = roc_curve(yv4_resampled, yv4_resampled_LGB_o_prob) # LGB\n",
    "\n",
    "\n",
    "plt.figure(figsize=(15,7))\n",
    "\n",
    "plt.plot(fpr13, tpr13,lw=2,label='LR o - v4')\n",
    "plt.plot(fpr14, tpr14,lw=2,label='RFC o - v4')\n",
    "plt.plot(fpr15, tpr15,lw=2,label='XGB o - v4')\n",
    "plt.plot(fpr16, tpr16,lw=2,label='LGB o - v4')\n",
    "\n",
    "plt.plot([0,1],[0,1],c='violet',ls='--')\n",
    "plt.xlim([-0.05,1.05])\n",
    "plt.ylim([-0.05,1.05])\n",
    "\n",
    "plt.legend(loc='lower right')\n",
    "plt.xlabel('False positive rate')\n",
    "plt.ylabel('True positive rate')\n",
    "plt.title('ROC curve for no-show problem - Train Data');"
   ]
  },
  {
   "cell_type": "code",
   "execution_count": 34,
   "metadata": {},
   "outputs": [
    {
     "data": {
      "image/png": "[encoded data removed]",
      "text/plain": [
       "<Figure size 1200x560 with 1 Axes>"
      ]
     },
     "metadata": {
      "needs_background": "light"
     },
     "output_type": "display_data"
    }
   ],
   "source": [
    "# Compare Precision/Recall curves\n",
    "precision_curve2, recall_curve2, threshold_curve2 = precision_recall_curve(yv4_resampled, yv4_resampled_LR_o_prob)\n",
    "precision_curve4, recall_curve4, threshold_curve4 = precision_recall_curve(yv4_resampled, yv4_resampled_RFC_o_prob)\n",
    "precision_curve5, recall_curve5, threshold_curve5 = precision_recall_curve(yv4_resampled, yv4_resampled_XGB_o_prob)\n",
    "precision_curve6, recall_curve6, threshold_curve6 = precision_recall_curve(yv4_resampled, yv4_resampled_LGB_o_prob)\n",
    "\n",
    "plt.figure(dpi=80,figsize=(15,7))\n",
    "plt.plot(threshold_curve2, precision_curve2[1:],label='precision - LR v4',color='g',linestyle=':')\n",
    "plt.plot(threshold_curve2, recall_curve2[1:], label='recall - LR v4',color='g')\n",
    "plt.plot(threshold_curve4, precision_curve4[1:],label='precision - RFC v4',color='c',linestyle=':')\n",
    "plt.plot(threshold_curve4, recall_curve4[1:], label='recall - RFC v4',color='c')\n",
    "plt.plot(threshold_curve5, precision_curve5[1:],label='precision - XGB v4',color='r',linestyle=':')\n",
    "plt.plot(threshold_curve5, recall_curve5[1:], label='recall - XGB v4',color='r')\n",
    "plt.plot(threshold_curve6, precision_curve6[1:],label='precision - XGB v4',color='purple',linestyle=':')\n",
    "plt.plot(threshold_curve6, recall_curve6[1:], label='recall - XGB v4',color='purple')\n",
    "# plt.plot(threshold_curve6, precision_curve6[1:],label='precision - LGB v4',color='purple',linestyle=':')\n",
    "# plt.plot(threshold_curve6, recall_curve6[1:], label='recall - LGB v4',color='purple')\n",
    "plt.legend(loc='center right',fontsize='small')\n",
    "plt.xlabel('Threshold (above this probability, label as no-show)');\n",
    "plt.title('Precision and Recall Curves - Train Data - Oversampled');"
   ]
  },
  {
   "cell_type": "markdown",
   "metadata": {},
   "source": [
    "#### Test Data"
   ]
  },
  {
   "cell_type": "code",
   "execution_count": 28,
   "metadata": {},
   "outputs": [
    {
     "data": {
      "image/png": "[encoded data removed]",
      "text/plain": [
       "<Figure size 1080x504 with 1 Axes>"
      ]
     },
     "metadata": {
      "needs_background": "light"
     },
     "output_type": "display_data"
    }
   ],
   "source": [
    "# Compare ROCs for:\n",
    "fpr13, tpr13, thresholds13 = roc_curve(yv4_test, yv4_test_LR_o_prob) # LR\n",
    "fpr14, tpr14, thresholds14 = roc_curve(yv4_test, yv4_test_RFC_o_prob) # RFC\n",
    "fpr15, tpr15, thresholds15 = roc_curve(yv4_test, yv4_test_XGB_o_prob) # XGB\n",
    "fpr16, tpr16, thresholds16 = roc_curve(yv4_test, yv4_test_LGB_o_prob) # XGB\n",
    "\n",
    "\n",
    "plt.figure(figsize=(15,7))\n",
    "\n",
    "plt.plot(fpr13, tpr13,lw=2,label='LR o - v4')\n",
    "plt.plot(fpr14, tpr14,lw=2,label='RFC o - v4')\n",
    "plt.plot(fpr15, tpr15,lw=2,label='XGB o - v4')\n",
    "plt.plot(fpr16, tpr16,lw=2,label='LGB o - v4')\n",
    "\n",
    "plt.plot([0,1],[0,1],c='violet',ls='--')\n",
    "plt.xlim([-0.05,1.05])\n",
    "plt.ylim([-0.05,1.05])\n",
    "\n",
    "plt.legend(loc='lower right')\n",
    "plt.xlabel('False positive rate')\n",
    "plt.ylabel('True positive rate')\n",
    "plt.title('ROC curve for no-show problem - Test Data');"
   ]
  },
  {
   "cell_type": "code",
   "execution_count": 29,
   "metadata": {},
   "outputs": [
    {
     "data": {
      "image/png": "[encoded data removed]",
      "text/plain": [
       "<Figure size 1200x560 with 1 Axes>"
      ]
     },
     "metadata": {
      "needs_background": "light"
     },
     "output_type": "display_data"
    }
   ],
   "source": [
    "# Compare Precision/Recall curves\n",
    "precision_curve2, recall_curve2, threshold_curve2 = precision_recall_curve(yv4_test, yv4_test_LR_o_prob)\n",
    "precision_curve4, recall_curve4, threshold_curve4 = precision_recall_curve(yv4_test, yv4_test_RFC_o_prob)\n",
    "precision_curve5, recall_curve5, threshold_curve5 = precision_recall_curve(yv4_test, yv4_test_XGB_o_prob)\n",
    "precision_curve6, recall_curve6, threshold_curve6 = precision_recall_curve(yv4_test, yv4_test_LGB_o_prob)\n",
    "\n",
    "plt.figure(dpi=80,figsize=(15,7))\n",
    "plt.plot(threshold_curve2, precision_curve2[1:],label='precision - LR v4',color='g',linestyle=':')\n",
    "plt.plot(threshold_curve2, recall_curve2[1:], label='recall - LR v4',color='g')\n",
    "plt.plot(threshold_curve4, precision_curve4[1:],label='precision - RFC v4',color='c',linestyle=':')\n",
    "plt.plot(threshold_curve4, recall_curve4[1:], label='recall - RFC v4',color='c')\n",
    "plt.plot(threshold_curve5, precision_curve5[1:],label='precision - XGB v4',color='r',linestyle=':')\n",
    "plt.plot(threshold_curve5, recall_curve5[1:], label='recall - XGB v4',color='r')\n",
    "# plt.plot(threshold_curve6, precision_curve6[1:],label='precision - LGB v4',color='purple',linestyle=':')\n",
    "# plt.plot(threshold_curve6, recall_curve6[1:], label='recall - LGB v4',color='purple')\n",
    "plt.legend(loc='center right',fontsize='small')\n",
    "plt.xlabel('Threshold (above this probability, label as no-show)');\n",
    "plt.title('Precision and Recall Curves - Test Data - Oversampled');"
   ]
  },
  {
   "cell_type": "markdown",
   "metadata": {},
   "source": [
    "### Ensembling"
   ]
  },
  {
   "cell_type": "code",
   "execution_count": 35,
   "metadata": {},
   "outputs": [],
   "source": [
    "# create voting classifier\n",
    "model_list = [('LR',eval('LR')),('RFC',eval('RFC')),('XGB',eval('XGB'))]\n",
    "\n",
    "def ensembling(X_train,y_train,X_test,y_test,vote_type,weights):\n",
    "    voting_classifer = VotingClassifier(estimators=model_list,\n",
    "                                        voting=vote_type,\n",
    "                                        weights = weights,\n",
    "                                        n_jobs=-1)\n",
    "    return voting_classifer.fit(X_train, y_train)\n",
    "\n",
    "#     yv2_test_VC = voting_classifer.predict_proba(X_test)\n",
    "#     yv2_test_VC, yv2_test_VC_prob = voting_classifer.predict(Xv2_test), voting_classifer.predict_proba(Xv2_test)[:,1]\n",
    "#     return print_scores(y_test, yv2_test_VC)\n",
    "#     return voting_classifier"
   ]
  },
  {
   "cell_type": "code",
   "execution_count": 147,
   "metadata": {},
   "outputs": [],
   "source": [
    "VC_v4 = ensembling(Xv4_resampled,yv4_resampled,Xv4_test,yv4_test,'soft',['0.2','0.4','0.4'])"
   ]
  },
  {
   "cell_type": "code",
   "execution_count": 156,
   "metadata": {},
   "outputs": [
    {
     "data": {
      "text/plain": [
       "array([[29.,  0.,  0., ...,  0.,  0.,  1.],\n",
       "       [85.,  0.,  1., ...,  0.,  0.,  1.],\n",
       "       [25.,  0.,  0., ...,  0.,  0.,  0.],\n",
       "       ...,\n",
       "       [57.,  0.,  0., ...,  0.,  1.,  0.],\n",
       "       [15.,  0.,  0., ...,  0.,  0.,  1.],\n",
       "       [18.,  0.,  0., ...,  1.,  0.,  0.]])"
      ]
     },
     "execution_count": 156,
     "metadata": {},
     "output_type": "execute_result"
    }
   ],
   "source": [
    "Xv4_test.values"
   ]
  },
  {
   "cell_type": "code",
   "execution_count": 36,
   "metadata": {},
   "outputs": [],
   "source": [
    "# VC_v4.predict(Xv4_test)\n",
    "#reduce error"
   ]
  },
  {
   "cell_type": "code",
   "execution_count": 40,
   "metadata": {},
   "outputs": [],
   "source": [
    "from mlxtend.classifier import StackingCVClassifier # <-- note: this is not from sklearn!\n",
    "\n",
    "from sklearn.naive_bayes import GaussianNB, MultinomialNB, BernoulliNB"
   ]
  },
  {
   "cell_type": "code",
   "execution_count": 50,
   "metadata": {},
   "outputs": [
    {
     "name": "stderr",
     "output_type": "stream",
     "text": [
      "/Users/Jocelyn/anaconda3/envs/metis/lib/python3.6/site-packages/sklearn/linear_model/logistic.py:432: FutureWarning: Default solver will be changed to 'lbfgs' in 0.22. Specify a solver to silence this warning.\n",
      "  FutureWarning)\n"
     ]
    },
    {
     "data": {
      "text/plain": [
       "StackingCVClassifier(classifiers=[LogisticRegression(C=1.0, class_weight=None,\n",
       "                                                     dual=False,\n",
       "                                                     fit_intercept=True,\n",
       "                                                     intercept_scaling=1,\n",
       "                                                     l1_ratio=None,\n",
       "                                                     max_iter=300,\n",
       "                                                     multi_class='warn',\n",
       "                                                     n_jobs=None, penalty='l2',\n",
       "                                                     random_state=None,\n",
       "                                                     solver='liblinear',\n",
       "                                                     tol=0.0001, verbose=0,\n",
       "                                                     warm_start=False),\n",
       "                                  RandomForestClassifier(bootstrap=True,\n",
       "                                                         class_weight=None,\n",
       "                                                         criterion='gini',\n",
       "                                                         max...\n",
       "                                                        fit_intercept=True,\n",
       "                                                        intercept_scaling=1,\n",
       "                                                        l1_ratio=None,\n",
       "                                                        max_iter=100,\n",
       "                                                        multi_class='warn',\n",
       "                                                        n_jobs=None,\n",
       "                                                        penalty='l2',\n",
       "                                                        random_state=None,\n",
       "                                                        solver='warn',\n",
       "                                                        tol=0.0001, verbose=0,\n",
       "                                                        warm_start=False),\n",
       "                     n_jobs=-1, pre_dispatch='2*n_jobs', random_state=None,\n",
       "                     shuffle=True, store_train_meta_features=False,\n",
       "                     stratify=True, use_clones=True,\n",
       "                     use_features_in_secondary=False, use_probas=False,\n",
       "                     verbose=0)"
      ]
     },
     "execution_count": 50,
     "metadata": {},
     "output_type": "execute_result"
    }
   ],
   "source": [
    "model_vars = [eval('LR'),eval('RFC'),eval('XGB')]\n",
    "\n",
    "stacked = StackingCVClassifier(\n",
    "    classifiers=model_vars, meta_classifier=LogisticRegression(), use_probas=False, n_jobs=-1)\n",
    "\n",
    "stacked.fit(Xv4_train,yv4_train)"
   ]
  },
  {
   "cell_type": "code",
   "execution_count": 51,
   "metadata": {},
   "outputs": [
    {
     "data": {
      "text/plain": [
       "0.5354543900193186"
      ]
     },
     "execution_count": 51,
     "metadata": {},
     "output_type": "execute_result"
    }
   ],
   "source": [
    "yv4_train_pred = stacked.predict(Xv4_train.values)\n",
    "yv4_train_pred_prob = stacked.predict_proba(Xv4_train.values)[:,1]\n",
    "\n",
    "roc_auc_score(yv4_train,yv4_train_pred_prob)"
   ]
  },
  {
   "cell_type": "code",
   "execution_count": 66,
   "metadata": {},
   "outputs": [
    {
     "name": "stdout",
     "output_type": "stream",
     "text": [
      "Threshold of 0.4:\n",
      "Precision: 0.3199,   Recall: 0.8641\n"
     ]
    }
   ],
   "source": [
    "# using the new threshold\n",
    "threshold = 0.4\n",
    "y_predict = (XGB.predict_proba(Xv4_test)[:,1] > threshold)\n",
    "print(f\"Threshold of {threshold}:\")\n",
    "print(\"Precision: {:6.4f},   Recall: {:6.4f}\".format(precision_score(yv4_test, y_predict), \n",
    "                                                     recall_score(yv4_test, y_predict)))"
   ]
  },
  {
   "cell_type": "code",
   "execution_count": 69,
   "metadata": {},
   "outputs": [],
   "source": [
    "#pickle models\n",
    "with open(\"pickles/LR_model.pkl\", \"wb\") as f:\n",
    "    pickle.dump(LR, f)\n",
    "with open(\"pickles/RFC_model.pkl\", \"wb\") as f:\n",
    "    pickle.dump(RFC, f)\n",
    "with open(\"pickles/XGB_model.pkl\", \"wb\") as f:\n",
    "    pickle.dump(XGB, f)\n",
    "with open(\"pickles/LGB_model.pkl\", \"wb\") as f:\n",
    "    pickle.dump(LGB, f)"
   ]
  },
  {
   "cell_type": "code",
   "execution_count": 68,
   "metadata": {},
   "outputs": [],
   "source": [
    "with open('pickles/X_train.pickle', 'wb') as to_write:\n",
    "    pickle.dump(Xv4_resampled, to_write)\n",
    "with open('pickles/y_train.pickle', 'wb') as to_write:\n",
    "    pickle.dump(yv4_resampled, to_write)\n",
    "with open('pickles/X_test.pickle', 'wb') as to_write:\n",
    "    pickle.dump(Xv4_test, to_write)\n",
    "with open('pickles/y_test.pickle', 'wb') as to_write:\n",
    "    pickle.dump(yv4_test, to_write)"
   ]
  },
  {
   "cell_type": "code",
   "execution_count": 112,
   "metadata": {},
   "outputs": [],
   "source": [
    "#for flask app\n",
    "XGB.feature_names = Xv4_train.columns\n",
    "with open(\"flask_app/static/models/appt_model.pkl\", \"wb\") as f:\n",
    "    pickle.dump(XGB, f)"
   ]
  },
  {
   "cell_type": "code",
   "execution_count": null,
   "metadata": {},
   "outputs": [],
   "source": []
  }
 ],
 "metadata": {
  "kernelspec": {
   "display_name": "Python [conda env:metis] *",
   "language": "python",
   "name": "conda-env-metis-py"
  },
  "language_info": {
   "codemirror_mode": {
    "name": "ipython",
    "version": 3
   },
   "file_extension": ".py",
   "mimetype": "text/x-python",
   "name": "python",
   "nbconvert_exporter": "python",
   "pygments_lexer": "ipython3",
   "version": "3.6.9"
  }
 },
 "nbformat": 4,
 "nbformat_minor": 2
}
