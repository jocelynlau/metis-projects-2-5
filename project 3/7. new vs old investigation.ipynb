{
 "cells": [
  {
   "cell_type": "markdown",
   "metadata": {},
   "source": [
    "### New patient vs. old patient investigation\n",
    "Ran some EDA and tested model performance between new patients (prior appointment count = 0) and existing patients (prior appointment count > 0). Investigative only and was not used for final results."
   ]
  },
  {
   "cell_type": "code",
   "execution_count": 2,
   "metadata": {},
   "outputs": [],
   "source": [
    "import pandas as pd\n",
    "import numpy as np\n",
    "import matplotlib.pyplot as plt\n",
    "import datetime as dt\n",
    "import calendar\n",
    "import pickle\n",
    "import time\n",
    "\n",
    "%matplotlib inline\n",
    "plt.style.use('seaborn-pastel')\n",
    "\n",
    "import seaborn as sns\n",
    "sns.set(style=\"whitegrid\")\n",
    "\n",
    "from sklearn.preprocessing import StandardScaler\n",
    "from sklearn.model_selection import train_test_split\n",
    "from sklearn.metrics import f1_score\n",
    "from sklearn.metrics import roc_auc_score, roc_curve, confusion_matrix\n",
    "from collections import defaultdict, Counter\n",
    "\n",
    "%run evaluation_functions.py"
   ]
  },
  {
   "cell_type": "code",
   "execution_count": 3,
   "metadata": {},
   "outputs": [
    {
     "name": "stderr",
     "output_type": "stream",
     "text": [
      "Using TensorFlow backend.\n",
      "/Users/Jocelyn/anaconda3/envs/metis/lib/python3.6/site-packages/lightgbm/__init__.py:46: UserWarning: Starting from version 2.2.1, the library file in distribution wheels for macOS is built by the Apple Clang (Xcode_8.3.3) compiler.\n",
      "This means that in case of installing LightGBM from PyPI via the ``pip install lightgbm`` command, you don't need to install the gcc compiler anymore.\n",
      "Instead of that, you need to install the OpenMP library, which is required for running LightGBM on the system with the Apple Clang compiler.\n",
      "You can install the OpenMP library by the following command: ``brew install libomp``.\n",
      "  \"You can install the OpenMP library by the following command: ``brew install libomp``.\", UserWarning)\n"
     ]
    }
   ],
   "source": [
    "from imblearn.pipeline import Pipeline\n",
    "from imblearn.over_sampling import RandomOverSampler\n",
    "from sklearn.neighbors import KNeighborsClassifier\n",
    "from sklearn.tree import DecisionTreeClassifier\n",
    "from sklearn.svm import LinearSVC\n",
    "from sklearn.svm import SVC\n",
    "from sklearn.ensemble import RandomForestClassifier\n",
    "from sklearn.linear_model import LogisticRegression\n",
    "from xgboost import XGBClassifier\n",
    "from sklearn.model_selection import GridSearchCV, StratifiedKFold\n",
    "from lightgbm.sklearn import LGBMClassifier\n",
    "from sklearn.ensemble import (RandomForestClassifier, ExtraTreesClassifier, VotingClassifier, \n",
    "                              AdaBoostClassifier, BaggingRegressor)"
   ]
  },
  {
   "cell_type": "code",
   "execution_count": 5,
   "metadata": {},
   "outputs": [],
   "source": [
    "with open(\"pickles/LR_model.pkl\", \"rb\") as f:\n",
    "    LR = pickle.load(f)\n",
    "with open(\"pickles/RFC_model.pkl\", \"rb\") as f:\n",
    "    RFC = pickle.load(f)\n",
    "with open(\"pickles/XGB_model.pkl\", \"rb\") as f:\n",
    "    XGB = pickle.load(f)\n",
    "with open(\"pickles/LGB_model.pkl\", \"rb\") as f:\n",
    "    LGB = pickle.load(f)"
   ]
  },
  {
   "cell_type": "code",
   "execution_count": 46,
   "metadata": {},
   "outputs": [],
   "source": [
    "with open(\"pickles/X_train.pickle\", \"rb\") as f:\n",
    "    X_train = pickle.load(f)\n",
    "with open(\"pickles/y_train.pickle\", \"rb\") as f:\n",
    "    y_train = pickle.load(f)\n",
    "with open(\"pickles/X_test.pickle\", \"rb\") as f:\n",
    "    X_test = pickle.load(f)\n",
    "with open(\"pickles/y_test.pickle\", \"rb\") as f:\n",
    "    y_test = pickle.load(f)"
   ]
  },
  {
   "cell_type": "code",
   "execution_count": 47,
   "metadata": {},
   "outputs": [],
   "source": [
    "X_cols = X_train.columns"
   ]
  },
  {
   "cell_type": "markdown",
   "metadata": {},
   "source": [
    "### Compare test performance for new patients vs not new patients"
   ]
  },
  {
   "cell_type": "code",
   "execution_count": 12,
   "metadata": {},
   "outputs": [
    {
     "data": {
      "text/html": [
       "<div>\n",
       "<style scoped>\n",
       "    .dataframe tbody tr th:only-of-type {\n",
       "        vertical-align: middle;\n",
       "    }\n",
       "\n",
       "    .dataframe tbody tr th {\n",
       "        vertical-align: top;\n",
       "    }\n",
       "\n",
       "    .dataframe thead th {\n",
       "        text-align: right;\n",
       "    }\n",
       "</style>\n",
       "<table border=\"1\" class=\"dataframe\">\n",
       "  <thead>\n",
       "    <tr style=\"text-align: right;\">\n",
       "      <th></th>\n",
       "      <th>Age2</th>\n",
       "      <th>Scholarship</th>\n",
       "      <th>Hipertension</th>\n",
       "      <th>Diabetes</th>\n",
       "      <th>Alcoholism</th>\n",
       "      <th>Handcap_bin</th>\n",
       "      <th>SMS_received</th>\n",
       "      <th>DayDiff2</th>\n",
       "      <th>Reschedule</th>\n",
       "      <th>Follow_up</th>\n",
       "      <th>...</th>\n",
       "      <th>SchedDayofWeek_Friday</th>\n",
       "      <th>SchedDayofWeek_Saturday</th>\n",
       "      <th>SchedDayofWeek_Thursday</th>\n",
       "      <th>SchedDayofWeek_Tuesday</th>\n",
       "      <th>SchedDayofWeek_Wednesday</th>\n",
       "      <th>ApptDayofWeek_Friday</th>\n",
       "      <th>ApptDayofWeek_Thursday</th>\n",
       "      <th>ApptDayofWeek_Tuesday</th>\n",
       "      <th>ApptDayofWeek_Wednesday</th>\n",
       "      <th>target</th>\n",
       "    </tr>\n",
       "  </thead>\n",
       "  <tbody>\n",
       "    <tr>\n",
       "      <td>46132</td>\n",
       "      <td>43</td>\n",
       "      <td>1</td>\n",
       "      <td>0</td>\n",
       "      <td>0</td>\n",
       "      <td>0</td>\n",
       "      <td>0</td>\n",
       "      <td>0</td>\n",
       "      <td>2</td>\n",
       "      <td>0</td>\n",
       "      <td>0</td>\n",
       "      <td>...</td>\n",
       "      <td>0</td>\n",
       "      <td>0</td>\n",
       "      <td>0</td>\n",
       "      <td>0</td>\n",
       "      <td>0</td>\n",
       "      <td>0</td>\n",
       "      <td>0</td>\n",
       "      <td>0</td>\n",
       "      <td>1</td>\n",
       "      <td>1</td>\n",
       "    </tr>\n",
       "    <tr>\n",
       "      <td>35900</td>\n",
       "      <td>30</td>\n",
       "      <td>0</td>\n",
       "      <td>0</td>\n",
       "      <td>0</td>\n",
       "      <td>0</td>\n",
       "      <td>0</td>\n",
       "      <td>1</td>\n",
       "      <td>4</td>\n",
       "      <td>0</td>\n",
       "      <td>0</td>\n",
       "      <td>...</td>\n",
       "      <td>1</td>\n",
       "      <td>0</td>\n",
       "      <td>0</td>\n",
       "      <td>0</td>\n",
       "      <td>0</td>\n",
       "      <td>0</td>\n",
       "      <td>0</td>\n",
       "      <td>1</td>\n",
       "      <td>0</td>\n",
       "      <td>0</td>\n",
       "    </tr>\n",
       "    <tr>\n",
       "      <td>1446</td>\n",
       "      <td>73</td>\n",
       "      <td>0</td>\n",
       "      <td>1</td>\n",
       "      <td>1</td>\n",
       "      <td>0</td>\n",
       "      <td>0</td>\n",
       "      <td>0</td>\n",
       "      <td>1</td>\n",
       "      <td>0</td>\n",
       "      <td>0</td>\n",
       "      <td>...</td>\n",
       "      <td>0</td>\n",
       "      <td>0</td>\n",
       "      <td>1</td>\n",
       "      <td>0</td>\n",
       "      <td>0</td>\n",
       "      <td>1</td>\n",
       "      <td>0</td>\n",
       "      <td>0</td>\n",
       "      <td>0</td>\n",
       "      <td>0</td>\n",
       "    </tr>\n",
       "    <tr>\n",
       "      <td>62240</td>\n",
       "      <td>83</td>\n",
       "      <td>0</td>\n",
       "      <td>0</td>\n",
       "      <td>0</td>\n",
       "      <td>0</td>\n",
       "      <td>0</td>\n",
       "      <td>0</td>\n",
       "      <td>1</td>\n",
       "      <td>0</td>\n",
       "      <td>0</td>\n",
       "      <td>...</td>\n",
       "      <td>0</td>\n",
       "      <td>0</td>\n",
       "      <td>0</td>\n",
       "      <td>0</td>\n",
       "      <td>0</td>\n",
       "      <td>0</td>\n",
       "      <td>0</td>\n",
       "      <td>1</td>\n",
       "      <td>0</td>\n",
       "      <td>0</td>\n",
       "    </tr>\n",
       "    <tr>\n",
       "      <td>24175</td>\n",
       "      <td>16</td>\n",
       "      <td>0</td>\n",
       "      <td>0</td>\n",
       "      <td>0</td>\n",
       "      <td>0</td>\n",
       "      <td>0</td>\n",
       "      <td>0</td>\n",
       "      <td>4</td>\n",
       "      <td>0</td>\n",
       "      <td>0</td>\n",
       "      <td>...</td>\n",
       "      <td>1</td>\n",
       "      <td>0</td>\n",
       "      <td>0</td>\n",
       "      <td>0</td>\n",
       "      <td>0</td>\n",
       "      <td>0</td>\n",
       "      <td>0</td>\n",
       "      <td>1</td>\n",
       "      <td>0</td>\n",
       "      <td>0</td>\n",
       "    </tr>\n",
       "  </tbody>\n",
       "</table>\n",
       "<p>5 rows × 88 columns</p>\n",
       "</div>"
      ],
      "text/plain": [
       "       Age2  Scholarship  Hipertension  Diabetes  Alcoholism  Handcap_bin  \\\n",
       "46132    43            1             0         0           0            0   \n",
       "35900    30            0             0         0           0            0   \n",
       "1446     73            0             1         1           0            0   \n",
       "62240    83            0             0         0           0            0   \n",
       "24175    16            0             0         0           0            0   \n",
       "\n",
       "       SMS_received  DayDiff2  Reschedule  Follow_up  ...  \\\n",
       "46132             0         2           0          0  ...   \n",
       "35900             1         4           0          0  ...   \n",
       "1446              0         1           0          0  ...   \n",
       "62240             0         1           0          0  ...   \n",
       "24175             0         4           0          0  ...   \n",
       "\n",
       "       SchedDayofWeek_Friday  SchedDayofWeek_Saturday  \\\n",
       "46132                      0                        0   \n",
       "35900                      1                        0   \n",
       "1446                       0                        0   \n",
       "62240                      0                        0   \n",
       "24175                      1                        0   \n",
       "\n",
       "       SchedDayofWeek_Thursday  SchedDayofWeek_Tuesday  \\\n",
       "46132                        0                       0   \n",
       "35900                        0                       0   \n",
       "1446                         1                       0   \n",
       "62240                        0                       0   \n",
       "24175                        0                       0   \n",
       "\n",
       "       SchedDayofWeek_Wednesday  ApptDayofWeek_Friday  ApptDayofWeek_Thursday  \\\n",
       "46132                         0                     0                       0   \n",
       "35900                         0                     0                       0   \n",
       "1446                          0                     1                       0   \n",
       "62240                         0                     0                       0   \n",
       "24175                         0                     0                       0   \n",
       "\n",
       "       ApptDayofWeek_Tuesday  ApptDayofWeek_Wednesday  target  \n",
       "46132                      0                        1       1  \n",
       "35900                      1                        0       0  \n",
       "1446                       0                        0       0  \n",
       "62240                      1                        0       0  \n",
       "24175                      1                        0       0  \n",
       "\n",
       "[5 rows x 88 columns]"
      ]
     },
     "execution_count": 12,
     "metadata": {},
     "output_type": "execute_result"
    }
   ],
   "source": [
    "all_test = X_test.copy()\n",
    "all_test['target']=y_test\n",
    "all_test.head(5)"
   ]
  },
  {
   "cell_type": "code",
   "execution_count": 13,
   "metadata": {},
   "outputs": [],
   "source": [
    "new_test = all_test.loc[all_test['prior_appt_count']==0]\n",
    "exs_test = all_test.loc[all_test['prior_appt_count']>0]\n",
    "print(new_test.shape, exs_test.shape)"
   ]
  },
  {
   "cell_type": "code",
   "execution_count": 26,
   "metadata": {},
   "outputs": [],
   "source": [
    "X_test_new, y_test_new = new_test.drop(['target'],axis=1),new_test['target']\n",
    "X_test_exs, y_test_exs = exs_test.drop(['target'],axis=1),exs_test['target']"
   ]
  },
  {
   "cell_type": "code",
   "execution_count": 48,
   "metadata": {},
   "outputs": [],
   "source": [
    "y_test_new_prob = XGB.predict_proba(X_test_new)[:,1]\n",
    "y_test_exs_prob = XGB.predict_proba(X_test_exs)[:,1]\n",
    "y_test_all_prob = XGB.predict_proba(X_test)[:,1]"
   ]
  },
  {
   "cell_type": "code",
   "execution_count": 49,
   "metadata": {},
   "outputs": [
    {
     "name": "stdout",
     "output_type": "stream",
     "text": [
      "AUC New: 0.610\n",
      "AUC Old: 0.703\n",
      "AUC All: 0.645\n"
     ]
    }
   ],
   "source": [
    "print(f'AUC New: {roc_auc_score(y_test_new, y_test_new_prob):.3f}') \n",
    "print(f'AUC Old: {roc_auc_score(y_test_exs, y_test_exs_prob):.3f}') \n",
    "print(f'AUC All: {roc_auc_score(y_test, y_test_all_prob):.3f}') "
   ]
  },
  {
   "cell_type": "code",
   "execution_count": null,
   "metadata": {},
   "outputs": [],
   "source": [
    "# Refit XGB\n",
    "#XGB\n",
    "XGB = XGBClassifier(n_estimator=1000,max_depth=4,random_state=43)\n",
    "XGB.fit(Xv4_resampled,yv4_resampled)\n",
    "yv4_test_XGB_o = XGB.predict(X_test_new)\n",
    "yv4_test_XGB_o_prob = XGB.predict_proba(X_test_new)[:,1]\n",
    "print_scores(yv4_test,yv4_test_XGB_o)\n",
    "print(f'XGB o - v4: {roc_auc_score(yv4_test, yv4_test_XGB_o_prob):.3f}') # RFC"
   ]
  },
  {
   "cell_type": "code",
   "execution_count": null,
   "metadata": {},
   "outputs": [],
   "source": []
  },
  {
   "cell_type": "code",
   "execution_count": 50,
   "metadata": {},
   "outputs": [
    {
     "data": {
      "image/png": "[encoded data removed]",
      "text/plain": [
       "<Figure size 1080x504 with 1 Axes>"
      ]
     },
     "metadata": {
      "needs_background": "light"
     },
     "output_type": "display_data"
    }
   ],
   "source": [
    "# Compare ROCs for:\n",
    "fpr13, tpr13, thresholds13 = roc_curve(y_test_new, y_test_new_prob) # new\n",
    "fpr14, tpr14, thresholds14 = roc_curve(y_test_exs, y_test_exs_prob) # exs\n",
    "fpr15, tpr15, thresholds15 = roc_curve(y_test, y_test_all_prob) # exs\n",
    "\n",
    "\n",
    "plt.figure(figsize=(15,7))\n",
    "\n",
    "plt.plot(fpr13, tpr13,lw=2,label='New o - v4')\n",
    "plt.plot(fpr14, tpr14,lw=2,label='Exs o - v4')\n",
    "plt.plot(fpr15, tpr15,lw=2,label='All o - v4')\n",
    "# plt.plot(fpr16, tpr16,lw=2,label='LGB o - v4')\n",
    "\n",
    "plt.plot([0,1],[0,1],c='violet',ls='--')\n",
    "plt.xlim([-0.05,1.05])\n",
    "plt.ylim([-0.05,1.05])\n",
    "\n",
    "plt.legend(loc='lower right')\n",
    "plt.xlabel('False positive rate')\n",
    "plt.ylabel('True positive rate')\n",
    "plt.title('ROC curve for no-show problem - Train Data');"
   ]
  },
  {
   "cell_type": "code",
   "execution_count": 21,
   "metadata": {},
   "outputs": [],
   "source": [
    "with open('pickles/appt_v2_all0.pickle','rb') as read_file:\n",
    "    appt_v4 = pickle.load(read_file)"
   ]
  },
  {
   "cell_type": "code",
   "execution_count": 24,
   "metadata": {},
   "outputs": [],
   "source": [
    "## run for appt_v2_all0 - all appts, uses prior_appt_count and prior_no_show_count\n",
    "feature_cols = ['Gender','Age2','Neighbourhood2','Scholarship','Hipertension','Diabetes','Alcoholism',\n",
    "                'Handcap_bin','SMS_received','SchedDayofWeek','ApptDayofWeek','DayDiff2',\n",
    "                'Reschedule','Follow_up','prior_appt_count','prior_no_show_count','No_show_num']\n",
    "a_Xv4 = appt_v4[feature_cols]\n",
    "a_Xv4 = pd.get_dummies(a_Xv4, columns = ['Gender','Neighbourhood2','SchedDayofWeek','ApptDayofWeek'])\n",
    "a_Xv4.drop(columns=['Gender_F','Neighbourhood2_OTHER','SchedDayofWeek_Monday','ApptDayofWeek_Monday'],inplace=True)\n",
    "Xv4_cols = np.array(a_Xv4.columns)\n",
    "# a_Xv4.info()"
   ]
  },
  {
   "cell_type": "code",
   "execution_count": 36,
   "metadata": {},
   "outputs": [
    {
     "name": "stdout",
     "output_type": "stream",
     "text": [
      "(45710, 87) (25453, 87)\n"
     ]
    }
   ],
   "source": [
    "new = a_Xv4.loc[a_Xv4['prior_appt_count']==0]\n",
    "exs = a_Xv4.loc[a_Xv4['prior_appt_count']>0]\n",
    "print(new.shape, exs.shape)"
   ]
  },
  {
   "cell_type": "code",
   "execution_count": 37,
   "metadata": {},
   "outputs": [],
   "source": [
    "#new\n",
    "X_new, y_new = new.drop(['No_show_num'],axis=1), new['No_show_num']\n",
    "Xnew_train, Xnew_test, ynew_train, ynew_test = train_test_split(X_new, y_new, test_size = 0.25, random_state = 10, stratify = y_new)"
   ]
  },
  {
   "cell_type": "code",
   "execution_count": 40,
   "metadata": {},
   "outputs": [],
   "source": [
    "#exist\n",
    "X_exs, y_exs = exs.drop(['No_show_num'],axis=1), exs['No_show_num']\n",
    "Xexs_train, Xexs_test, yexs_train, yexs_test = train_test_split(X_exs, y_exs, test_size = 0.25, random_state = 10, stratify = y_exs)"
   ]
  },
  {
   "cell_type": "code",
   "execution_count": 41,
   "metadata": {},
   "outputs": [],
   "source": [
    "def oversample(X_train,y_train):\n",
    "    ros = RandomOverSampler(random_state=42)\n",
    "    X_resampled, y_resampled = ros.fit_sample(X_train,y_train)\n",
    "    X_resampled = pd.DataFrame(X_resampled,columns=X_train.columns)\n",
    "    print(Counter(y_resampled))\n",
    "    return X_resampled, y_resampled"
   ]
  },
  {
   "cell_type": "code",
   "execution_count": 44,
   "metadata": {},
   "outputs": [
    {
     "name": "stdout",
     "output_type": "stream",
     "text": [
      "Counter({1: 24536, 0: 24536})\n"
     ]
    }
   ],
   "source": [
    "Xnew_train_r, ynew_train_r = oversample(Xnew_train,ynew_train)"
   ]
  },
  {
   "cell_type": "code",
   "execution_count": 43,
   "metadata": {},
   "outputs": [
    {
     "name": "stdout",
     "output_type": "stream",
     "text": [
      "Counter({0: 13739, 1: 13739})\n"
     ]
    }
   ],
   "source": [
    "Xexs_train_r, yexs_train_r = oversample(Xexs_train,yexs_train)"
   ]
  },
  {
   "cell_type": "code",
   "execution_count": 45,
   "metadata": {},
   "outputs": [
    {
     "name": "stdout",
     "output_type": "stream",
     "text": [
      "Accuracy score: 0.5920546027301365\n",
      "F1 score: 0.44100719424460433\n",
      "Precision (true + / all predicted +): 0.36122569239835\n",
      "Recall (true + / all actual +): 0.5660203139427517\n",
      "XGB o - new: 0.616\n"
     ]
    }
   ],
   "source": [
    "#XGB - new\n",
    "XGB = XGBClassifier(n_estimator=1000,max_depth=4,random_state=43)\n",
    "XGB.fit(Xnew_train_r,ynew_train_r)\n",
    "ynew_test_XGB_o = XGB.predict(Xnew_test)\n",
    "ynew_test_XGB_o_prob = XGB.predict_proba(Xnew_test)[:,1]\n",
    "print_scores(ynew_test,ynew_test_XGB_o)\n",
    "print(f'XGB o - new: {roc_auc_score(ynew_test, ynew_test_XGB_o_prob):.3f}') # RFC"
   ]
  },
  {
   "cell_type": "code",
   "execution_count": 46,
   "metadata": {},
   "outputs": [
    {
     "name": "stdout",
     "output_type": "stream",
     "text": [
      "Accuracy score: 0.6440917661847895\n",
      "F1 score: 0.45355850422195415\n",
      "Precision (true + / all predicted +): 0.39796782387806945\n",
      "Recall (true + / all actual +): 0.5272013460459899\n",
      "XGB o - exs: 0.659\n"
     ]
    }
   ],
   "source": [
    "#XGB - exs\n",
    "XGB = XGBClassifier(n_estimator=1000,max_depth=4,random_state=43)\n",
    "XGB.fit(Xexs_train_r,yexs_train_r)\n",
    "yexs_test_XGB_o = XGB.predict(Xexs_test)\n",
    "yexs_test_XGB_o_prob = XGB.predict_proba(Xexs_test)[:,1]\n",
    "print_scores(yexs_test,yexs_test_XGB_o)\n",
    "print(f'XGB o - exs: {roc_auc_score(yexs_test, yexs_test_XGB_o_prob):.3f}') # RFC"
   ]
  },
  {
   "cell_type": "code",
   "execution_count": null,
   "metadata": {},
   "outputs": [],
   "source": []
  }
 ],
 "metadata": {
  "kernelspec": {
   "display_name": "Python [conda env:metis] *",
   "language": "python",
   "name": "conda-env-metis-py"
  },
  "language_info": {
   "codemirror_mode": {
    "name": "ipython",
    "version": 3
   },
   "file_extension": ".py",
   "mimetype": "text/x-python",
   "name": "python",
   "nbconvert_exporter": "python",
   "pygments_lexer": "ipython3",
   "version": "3.6.9"
  }
 },
 "nbformat": 4,
 "nbformat_minor": 2
}
