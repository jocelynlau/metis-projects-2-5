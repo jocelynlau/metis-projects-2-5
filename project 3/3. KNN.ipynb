{
 "cells": [
  {
   "cell_type": "markdown",
   "metadata": {},
   "source": [
    "### KNN\n",
    "Investigate KNN performance. Results did not perform as well as logistic regression so it was not used in final results."
   ]
  },
  {
   "cell_type": "code",
   "execution_count": 37,
   "metadata": {},
   "outputs": [],
   "source": [
    "import pandas as pd\n",
    "import numpy as np\n",
    "import matplotlib.pyplot as plt\n",
    "import datetime as dt\n",
    "import calendar\n",
    "import pickle\n",
    "\n",
    "%matplotlib inline\n",
    "plt.style.use('seaborn-pastel')\n",
    "\n",
    "import seaborn as sns\n",
    "sns.set(style=\"whitegrid\")\n",
    "\n",
    "from sklearn.linear_model import LogisticRegression\n",
    "from sklearn.model_selection import train_test_split\n",
    "from sklearn.metrics import f1_score\n",
    "from sklearn.metrics import roc_auc_score, roc_curve\n",
    "\n",
    "%run evaluation_functions.py"
   ]
  },
  {
   "cell_type": "code",
   "execution_count": 4,
   "metadata": {},
   "outputs": [
    {
     "name": "stdout",
     "output_type": "stream",
     "text": [
      "<class 'pandas.core.frame.DataFrame'>\n",
      "Int64Index: 25453 entries, 1 to 39983\n",
      "Data columns (total 31 columns):\n",
      "PatientId              25453 non-null float64\n",
      "AppointmentID          25453 non-null int64\n",
      "Gender                 25453 non-null object\n",
      "ScheduledDay           25453 non-null object\n",
      "AppointmentDay         25453 non-null object\n",
      "Age                    25453 non-null int64\n",
      "Neighbourhood          25453 non-null object\n",
      "Scholarship            25453 non-null int64\n",
      "Hipertension           25453 non-null int64\n",
      "Diabetes               25453 non-null int64\n",
      "Alcoholism             25453 non-null int64\n",
      "Handcap                25453 non-null int64\n",
      "SMS_received           25453 non-null int64\n",
      "No_show                25453 non-null object\n",
      "No_show_num            25453 non-null int64\n",
      "SchedDay               25453 non-null datetime64[ns]\n",
      "SchedTime              25453 non-null object\n",
      "SchedDayofWeek         25453 non-null object\n",
      "ApptDay                25453 non-null datetime64[ns]\n",
      "ApptDayofWeek          25453 non-null object\n",
      "DayDiff                25453 non-null int64\n",
      "Handcap_bin            25453 non-null int64\n",
      "DayDiff2               25453 non-null int64\n",
      "Age2                   25453 non-null int64\n",
      "Neighbourhood2         25453 non-null object\n",
      "ApptDayDiff            25453 non-null float64\n",
      "PrevApptDay            25453 non-null datetime64[ns]\n",
      "PrevAppt_No_show       25453 non-null float64\n",
      "PrevAppt_Sched_diff    25453 non-null float64\n",
      "Reschedule             25453 non-null int64\n",
      "Follow_up              25453 non-null int64\n",
      "dtypes: datetime64[ns](3), float64(4), int64(15), object(9)\n",
      "memory usage: 6.2+ MB\n"
     ]
    }
   ],
   "source": [
    "with open('pickles/appt_v2.pickle','rb') as read_file:\n",
    "    appt = pickle.load(read_file)\n",
    "    \n",
    "appt.info()"
   ]
  },
  {
   "cell_type": "code",
   "execution_count": 6,
   "metadata": {},
   "outputs": [],
   "source": [
    "#Set features\n",
    "feature_cols = ['Gender','Age2','Neighbourhood2','Scholarship','Hipertension','Diabetes','Alcoholism',\n",
    "                'Handcap_bin','SMS_received','SchedDayofWeek','ApptDayofWeek','DayDiff2',\n",
    "                'PrevAppt_No_show','Reschedule','Follow_up']\n",
    "# feature_cols = ['Gender','Age','Scholarship','Hipertension','Diabetes','Alcoholism','Handcap','SMS_received',\n",
    "#                 'ApptDayofWeek','DayDiff']\n",
    "\n",
    "a_X = appt[feature_cols]\n",
    "\n",
    "a_X = pd.get_dummies(a_X, columns = ['Gender','Neighbourhood2','SchedDayofWeek','ApptDayofWeek'])\n",
    "# a_X = pd.get_dummies(a_X, columns = ['Gender','ApptDayofWeek'],drop_first=True)\n",
    "\n",
    "a_X.drop(columns=['Gender_F','Neighbourhood2_OTHER','SchedDayofWeek_Monday','ApptDayofWeek_Monday'],inplace=True)\n",
    "\n",
    "X_cols = np.array(a_X.columns)\n",
    "# a_X.info()\n",
    "# a_X.head(5)"
   ]
  },
  {
   "cell_type": "code",
   "execution_count": 8,
   "metadata": {},
   "outputs": [],
   "source": [
    "#split into training and test sets\n",
    "X, y = a_X, appt['No_show_num']\n",
    "X_train, X_test, y_train, y_test = train_test_split(X, y, test_size = 0.25, random_state = 10, stratify = y)"
   ]
  },
  {
   "cell_type": "markdown",
   "metadata": {},
   "source": [
    "### Simple KNN train/test"
   ]
  },
  {
   "cell_type": "code",
   "execution_count": 30,
   "metadata": {},
   "outputs": [
    {
     "name": "stdout",
     "output_type": "stream",
     "text": [
      "Train set:  0.781968673057782\n",
      "Test set:  0.6915461973601509\n"
     ]
    }
   ],
   "source": [
    "#KNN\n",
    "from sklearn.neighbors import KNeighborsClassifier\n",
    "from sklearn import metrics\n",
    "knn = KNeighborsClassifier(n_neighbors=5)\n",
    "knn.fit(X_train, y_train)\n",
    "y_pred_train = knn.predict(X_train)\n",
    "y_pred_test = knn.predict(X_test)\n",
    "\n",
    "print(\"Train set: \",metrics.accuracy_score(y_train, y_pred_train))\n",
    "print(\"Test set: \", metrics.accuracy_score(y_test, y_pred_test))\n",
    "#train higher than test - overfitting on train data"
   ]
  },
  {
   "cell_type": "markdown",
   "metadata": {},
   "source": [
    "### Cross-validation KNN"
   ]
  },
  {
   "cell_type": "code",
   "execution_count": 12,
   "metadata": {},
   "outputs": [],
   "source": [
    "from sklearn.model_selection import cross_val_score"
   ]
  },
  {
   "cell_type": "code",
   "execution_count": 13,
   "metadata": {},
   "outputs": [
    {
     "name": "stdout",
     "output_type": "stream",
     "text": [
      "[0.69049489 0.68931658 0.68499607 0.6762279  0.67701375 0.68251473\n",
      " 0.67779961 0.68290766 0.68683694 0.68330059]\n"
     ]
    }
   ],
   "source": [
    "# 10-fold cross-validation with K=5 for KNN (the n_neighbors parameter)\n",
    "knn = KNeighborsClassifier(n_neighbors=5)\n",
    "scores = cross_val_score(knn, X, y, cv=10, scoring='accuracy')\n",
    "print(scores)"
   ]
  },
  {
   "cell_type": "code",
   "execution_count": 14,
   "metadata": {},
   "outputs": [
    {
     "name": "stdout",
     "output_type": "stream",
     "text": [
      "0.6831408720023087\n"
     ]
    }
   ],
   "source": [
    "# use average accuracy as an estimate of out-of-sample accuracy\n",
    "print(scores.mean())"
   ]
  },
  {
   "cell_type": "code",
   "execution_count": 22,
   "metadata": {},
   "outputs": [
    {
     "name": "stdout",
     "output_type": "stream",
     "text": [
      "[0.6303387416140268, 0.6985421409136717, 0.6663260525003976, 0.7017245125833967, 0.6831408720023087, 0.7058494622328333, 0.6957522489918312, 0.7093852987158099, 0.7008600570716884, 0.7116644777354052, 0.7054965221457596, 0.7120967749403124, 0.7083643204718831, 0.7135897752474316, 0.7111144258029467, 0.71311850940726, 0.7116645394678968, 0.7152004531164877, 0.7113897681481951, 0.7159861071027861, 0.7134717272905455, 0.7159076451060796, 0.7144930296300525, 0.7179115435129182, 0.716418435173939, 0.7179114354810581, 0.717714879228097, 0.7177149100943427, 0.7166936077548357, 0.7181865154632174, 0.7166543458902366, 0.7179116052454099, 0.7174794469386085, 0.7178724051133023, 0.7172439683497516, 0.7175973714305115, 0.7169293641399044, 0.7174009232094105, 0.7170080267672084, 0.7187367680262734, 0.7182258699265538, 0.7177151570243088, 0.7174795395373458, 0.7177936807535068, 0.7174401079083952, 0.718265100924907, 0.7176364789638818, 0.7184222564151633, 0.7177936035878925]\n"
     ]
    }
   ],
   "source": [
    "# search for an optimal value of K for KNN\n",
    "k_range = list(range(1, 50))\n",
    "k_scores = []\n",
    "for k in k_range:\n",
    "    knn = KNeighborsClassifier(n_neighbors=k)\n",
    "    scores = cross_val_score(knn, X, y, cv=10, scoring='accuracy')\n",
    "    k_scores.append(scores.mean())\n",
    "print(k_scores)"
   ]
  },
  {
   "cell_type": "code",
   "execution_count": 23,
   "metadata": {},
   "outputs": [
    {
     "data": {
      "image/png": "[encoded data removed]",
      "text/plain": [
       "<Figure size 1080x360 with 1 Axes>"
      ]
     },
     "metadata": {
      "needs_background": "light"
     },
     "output_type": "display_data"
    }
   ],
   "source": [
    "import matplotlib.pyplot as plt\n",
    "%matplotlib inline\n",
    "\n",
    "# plot the value of K for KNN (x-axis) versus the cross-validated accuracy (y-axis)\n",
    "plt.figure(figsize=(15,5))\n",
    "plt.plot(k_range, k_scores)\n",
    "plt.xlabel('Value of K for KNN')\n",
    "plt.ylabel('Cross-Validated Accuracy');"
   ]
  },
  {
   "cell_type": "code",
   "execution_count": 31,
   "metadata": {},
   "outputs": [],
   "source": [
    "fpr, tpr, thresholds = roc_curve(y_test, knn.predict_proba(X_test)[:,1])"
   ]
  },
  {
   "cell_type": "code",
   "execution_count": 38,
   "metadata": {},
   "outputs": [
    {
     "name": "stdout",
     "output_type": "stream",
     "text": [
      "ROC AUC score =  0.5818119857398264\n"
     ]
    },
    {
     "data": {
      "image/png": "[encoded data removed]",
      "text/plain": [
       "<Figure size 432x288 with 1 Axes>"
      ]
     },
     "metadata": {},
     "output_type": "display_data"
    }
   ],
   "source": [
    "graph_roc_auc(fpr,tpr)\n",
    "print(\"ROC AUC score = \", roc_auc_score(y_test, knn.predict_proba(X_test)[:,1]))"
   ]
  },
  {
   "cell_type": "code",
   "execution_count": 1,
   "metadata": {},
   "outputs": [],
   "source": [
    "# KNN is not performing as well as logistic regression"
   ]
  },
  {
   "cell_type": "code",
   "execution_count": null,
   "metadata": {},
   "outputs": [],
   "source": []
  }
 ],
 "metadata": {
  "kernelspec": {
   "display_name": "Python 3",
   "language": "python",
   "name": "python3"
  },
  "language_info": {
   "codemirror_mode": {
    "name": "ipython",
    "version": 3
   },
   "file_extension": ".py",
   "mimetype": "text/x-python",
   "name": "python",
   "nbconvert_exporter": "python",
   "pygments_lexer": "ipython3",
   "version": "3.6.9"
  }
 },
 "nbformat": 4,
 "nbformat_minor": 2
}
