{
 "cells": [
  {
   "cell_type": "markdown",
   "metadata": {},
   "source": [
    "Comparing features:\n",
    "- features as is\n",
    "- features including no-show rate, reschedue, follow-up\n",
    "\n",
    "Comparing models for two versions:\n",
    "- LR\n",
    "- KNN\n",
    "- SVC\n",
    "- RFC\n",
    "\n",
    "Comparing models with oversampling"
   ]
  },
  {
   "cell_type": "code",
   "execution_count": 211,
   "metadata": {},
   "outputs": [],
   "source": [
    "import pandas as pd\n",
    "import numpy as np\n",
    "import matplotlib.pyplot as plt\n",
    "import datetime as dt\n",
    "import calendar\n",
    "import pickle\n",
    "\n",
    "%matplotlib inline\n",
    "plt.style.use('seaborn-pastel')\n",
    "\n",
    "import seaborn as sns\n",
    "sns.set(style=\"whitegrid\")\n",
    "\n",
    "from sklearn.preprocessing import StandardScaler\n",
    "from sklearn.model_selection import train_test_split\n",
    "from sklearn.metrics import f1_score\n",
    "from sklearn.metrics import roc_auc_score, roc_curve\n",
    "\n",
    "%run evaluation_functions.py"
   ]
  },
  {
   "cell_type": "code",
   "execution_count": 212,
   "metadata": {},
   "outputs": [],
   "source": [
    "from sklearn.neighbors import KNeighborsClassifier\n",
    "from sklearn.tree import DecisionTreeClassifier\n",
    "from sklearn.svm import LinearSVC\n",
    "from sklearn.svm import SVC\n",
    "from sklearn.ensemble import RandomForestClassifier\n",
    "from sklearn.linear_model import LogisticRegression\n",
    "from xgboost import XGBClassifier\n",
    "from sklearn.model_selection import GridSearchCV, StratifiedKFold\n",
    "\n",
    "from sklearn.ensemble import (RandomForestClassifier, ExtraTreesClassifier, VotingClassifier, \n",
    "                              AdaBoostClassifier, BaggingRegressor)"
   ]
  },
  {
   "cell_type": "code",
   "execution_count": 213,
   "metadata": {},
   "outputs": [],
   "source": [
    "with open('pickles/appt.pickle','rb') as read_file:\n",
    "    appt = pickle.load(read_file)\n",
    "with open('pickles/appt_v2.pickle','rb') as read_file:\n",
    "    appt_v2 = pickle.load(read_file)\n",
    "with open('pickles/appt_v2_all1.pickle','rb') as read_file:\n",
    "    appt_v3 = pickle.load(read_file)"
   ]
  },
  {
   "cell_type": "code",
   "execution_count": 214,
   "metadata": {},
   "outputs": [
    {
     "name": "stdout",
     "output_type": "stream",
     "text": [
      "<class 'pandas.core.frame.DataFrame'>\n",
      "Int64Index: 71163 entries, 0 to 71958\n",
      "Data columns (total 97 columns):\n",
      "Age                                          71163 non-null int64\n",
      "Scholarship                                  71163 non-null int64\n",
      "Hipertension                                 71163 non-null int64\n",
      "Diabetes                                     71163 non-null int64\n",
      "Alcoholism                                   71163 non-null int64\n",
      "Handcap                                      71163 non-null int64\n",
      "SMS_received                                 71163 non-null int64\n",
      "DayDiff                                      71163 non-null int64\n",
      "Gender_M                                     71163 non-null uint8\n",
      "Neighbourhood_AEROPORTO                      71163 non-null uint8\n",
      "Neighbourhood_ANDORINHAS                     71163 non-null uint8\n",
      "Neighbourhood_ANTÔNIO HONÓRIO                71163 non-null uint8\n",
      "Neighbourhood_ARIOVALDO FAVALESSA            71163 non-null uint8\n",
      "Neighbourhood_BARRO VERMELHO                 71163 non-null uint8\n",
      "Neighbourhood_BELA VISTA                     71163 non-null uint8\n",
      "Neighbourhood_BENTO FERREIRA                 71163 non-null uint8\n",
      "Neighbourhood_BOA VISTA                      71163 non-null uint8\n",
      "Neighbourhood_BONFIM                         71163 non-null uint8\n",
      "Neighbourhood_CARATOÍRA                      71163 non-null uint8\n",
      "Neighbourhood_CENTRO                         71163 non-null uint8\n",
      "Neighbourhood_COMDUSA                        71163 non-null uint8\n",
      "Neighbourhood_CONQUISTA                      71163 non-null uint8\n",
      "Neighbourhood_CONSOLAÇÃO                     71163 non-null uint8\n",
      "Neighbourhood_CRUZAMENTO                     71163 non-null uint8\n",
      "Neighbourhood_DA PENHA                       71163 non-null uint8\n",
      "Neighbourhood_DE LOURDES                     71163 non-null uint8\n",
      "Neighbourhood_DO CABRAL                      71163 non-null uint8\n",
      "Neighbourhood_DO MOSCOSO                     71163 non-null uint8\n",
      "Neighbourhood_DO QUADRO                      71163 non-null uint8\n",
      "Neighbourhood_ENSEADA DO SUÁ                 71163 non-null uint8\n",
      "Neighbourhood_ESTRELINHA                     71163 non-null uint8\n",
      "Neighbourhood_FONTE GRANDE                   71163 non-null uint8\n",
      "Neighbourhood_FORTE SÃO JOÃO                 71163 non-null uint8\n",
      "Neighbourhood_FRADINHOS                      71163 non-null uint8\n",
      "Neighbourhood_GOIABEIRAS                     71163 non-null uint8\n",
      "Neighbourhood_GRANDE VITÓRIA                 71163 non-null uint8\n",
      "Neighbourhood_GURIGICA                       71163 non-null uint8\n",
      "Neighbourhood_HORTO                          71163 non-null uint8\n",
      "Neighbourhood_ILHA DAS CAIEIRAS              71163 non-null uint8\n",
      "Neighbourhood_ILHA DE SANTA MARIA            71163 non-null uint8\n",
      "Neighbourhood_ILHA DO BOI                    71163 non-null uint8\n",
      "Neighbourhood_ILHA DO FRADE                  71163 non-null uint8\n",
      "Neighbourhood_ILHA DO PRÍNCIPE               71163 non-null uint8\n",
      "Neighbourhood_ILHAS OCEÂNICAS DE TRINDADE    71163 non-null uint8\n",
      "Neighbourhood_INHANGUETÁ                     71163 non-null uint8\n",
      "Neighbourhood_ITARARÉ                        71163 non-null uint8\n",
      "Neighbourhood_JABOUR                         71163 non-null uint8\n",
      "Neighbourhood_JARDIM CAMBURI                 71163 non-null uint8\n",
      "Neighbourhood_JARDIM DA PENHA                71163 non-null uint8\n",
      "Neighbourhood_JESUS DE NAZARETH              71163 non-null uint8\n",
      "Neighbourhood_JOANA D´ARC                    71163 non-null uint8\n",
      "Neighbourhood_JUCUTUQUARA                    71163 non-null uint8\n",
      "Neighbourhood_MARIA ORTIZ                    71163 non-null uint8\n",
      "Neighbourhood_MARUÍPE                        71163 non-null uint8\n",
      "Neighbourhood_MATA DA PRAIA                  71163 non-null uint8\n",
      "Neighbourhood_MONTE BELO                     71163 non-null uint8\n",
      "Neighbourhood_MORADA DE CAMBURI              71163 non-null uint8\n",
      "Neighbourhood_MÁRIO CYPRESTE                 71163 non-null uint8\n",
      "Neighbourhood_NAZARETH                       71163 non-null uint8\n",
      "Neighbourhood_NOVA PALESTINA                 71163 non-null uint8\n",
      "Neighbourhood_PARQUE MOSCOSO                 71163 non-null uint8\n",
      "Neighbourhood_PIEDADE                        71163 non-null uint8\n",
      "Neighbourhood_PONTAL DE CAMBURI              71163 non-null uint8\n",
      "Neighbourhood_PRAIA DO CANTO                 71163 non-null uint8\n",
      "Neighbourhood_PRAIA DO SUÁ                   71163 non-null uint8\n",
      "Neighbourhood_REDENÇÃO                       71163 non-null uint8\n",
      "Neighbourhood_REPÚBLICA                      71163 non-null uint8\n",
      "Neighbourhood_RESISTÊNCIA                    71163 non-null uint8\n",
      "Neighbourhood_ROMÃO                          71163 non-null uint8\n",
      "Neighbourhood_SANTA CECÍLIA                  71163 non-null uint8\n",
      "Neighbourhood_SANTA CLARA                    71163 non-null uint8\n",
      "Neighbourhood_SANTA HELENA                   71163 non-null uint8\n",
      "Neighbourhood_SANTA LUÍZA                    71163 non-null uint8\n",
      "Neighbourhood_SANTA LÚCIA                    71163 non-null uint8\n",
      "Neighbourhood_SANTA MARTHA                   71163 non-null uint8\n",
      "Neighbourhood_SANTA TEREZA                   71163 non-null uint8\n",
      "Neighbourhood_SANTO ANDRÉ                    71163 non-null uint8\n",
      "Neighbourhood_SANTO ANTÔNIO                  71163 non-null uint8\n",
      "Neighbourhood_SANTOS DUMONT                  71163 non-null uint8\n",
      "Neighbourhood_SANTOS REIS                    71163 non-null uint8\n",
      "Neighbourhood_SEGURANÇA DO LAR               71163 non-null uint8\n",
      "Neighbourhood_SOLON BORGES                   71163 non-null uint8\n",
      "Neighbourhood_SÃO BENEDITO                   71163 non-null uint8\n",
      "Neighbourhood_SÃO CRISTÓVÃO                  71163 non-null uint8\n",
      "Neighbourhood_SÃO JOSÉ                       71163 non-null uint8\n",
      "Neighbourhood_SÃO PEDRO                      71163 non-null uint8\n",
      "Neighbourhood_TABUAZEIRO                     71163 non-null uint8\n",
      "Neighbourhood_UNIVERSITÁRIO                  71163 non-null uint8\n",
      "ApptDayofWeek_Friday                         71163 non-null uint8\n",
      "ApptDayofWeek_Thursday                       71163 non-null uint8\n",
      "ApptDayofWeek_Tuesday                        71163 non-null uint8\n",
      "ApptDayofWeek_Wednesday                      71163 non-null uint8\n",
      "SchedDayofWeek_Friday                        71163 non-null uint8\n",
      "SchedDayofWeek_Saturday                      71163 non-null uint8\n",
      "SchedDayofWeek_Thursday                      71163 non-null uint8\n",
      "SchedDayofWeek_Tuesday                       71163 non-null uint8\n",
      "SchedDayofWeek_Wednesday                     71163 non-null uint8\n",
      "dtypes: int64(8), uint8(89)\n",
      "memory usage: 10.9 MB\n",
      "<class 'pandas.core.frame.DataFrame'>\n",
      "Int64Index: 25453 entries, 1 to 39983\n",
      "Data columns (total 85 columns):\n",
      "Age2                                  25453 non-null int64\n",
      "Scholarship                           25453 non-null int64\n",
      "Hipertension                          25453 non-null int64\n",
      "Diabetes                              25453 non-null int64\n",
      "Alcoholism                            25453 non-null int64\n",
      "Handcap_bin                           25453 non-null int64\n",
      "SMS_received                          25453 non-null int64\n",
      "DayDiff2                              25453 non-null int64\n",
      "no_show_rate2                         25453 non-null float64\n",
      "Reschedule                            25453 non-null int64\n",
      "Follow_up                             25453 non-null int64\n",
      "Gender_M                              25453 non-null uint8\n",
      "Neighbourhood2_ANDORINHAS             25453 non-null uint8\n",
      "Neighbourhood2_BARRO VERMELHO         25453 non-null uint8\n",
      "Neighbourhood2_BELA VISTA             25453 non-null uint8\n",
      "Neighbourhood2_BENTO FERREIRA         25453 non-null uint8\n",
      "Neighbourhood2_BOA VISTA              25453 non-null uint8\n",
      "Neighbourhood2_BONFIM                 25453 non-null uint8\n",
      "Neighbourhood2_CARATOÍRA              25453 non-null uint8\n",
      "Neighbourhood2_CENTRO                 25453 non-null uint8\n",
      "Neighbourhood2_COMDUSA                25453 non-null uint8\n",
      "Neighbourhood2_CONQUISTA              25453 non-null uint8\n",
      "Neighbourhood2_CONSOLAÇÃO             25453 non-null uint8\n",
      "Neighbourhood2_CRUZAMENTO             25453 non-null uint8\n",
      "Neighbourhood2_DA PENHA               25453 non-null uint8\n",
      "Neighbourhood2_DE LOURDES             25453 non-null uint8\n",
      "Neighbourhood2_DO CABRAL              25453 non-null uint8\n",
      "Neighbourhood2_DO MOSCOSO             25453 non-null uint8\n",
      "Neighbourhood2_DO QUADRO              25453 non-null uint8\n",
      "Neighbourhood2_ESTRELINHA             25453 non-null uint8\n",
      "Neighbourhood2_FONTE GRANDE           25453 non-null uint8\n",
      "Neighbourhood2_FORTE SÃO JOÃO         25453 non-null uint8\n",
      "Neighbourhood2_GOIABEIRAS             25453 non-null uint8\n",
      "Neighbourhood2_GRANDE VITÓRIA         25453 non-null uint8\n",
      "Neighbourhood2_GURIGICA               25453 non-null uint8\n",
      "Neighbourhood2_ILHA DAS CAIEIRAS      25453 non-null uint8\n",
      "Neighbourhood2_ILHA DE SANTA MARIA    25453 non-null uint8\n",
      "Neighbourhood2_ILHA DO PRÍNCIPE       25453 non-null uint8\n",
      "Neighbourhood2_INHANGUETÁ             25453 non-null uint8\n",
      "Neighbourhood2_ITARARÉ                25453 non-null uint8\n",
      "Neighbourhood2_JABOUR                 25453 non-null uint8\n",
      "Neighbourhood2_JARDIM CAMBURI         25453 non-null uint8\n",
      "Neighbourhood2_JARDIM DA PENHA        25453 non-null uint8\n",
      "Neighbourhood2_JESUS DE NAZARETH      25453 non-null uint8\n",
      "Neighbourhood2_JOANA D´ARC            25453 non-null uint8\n",
      "Neighbourhood2_JUCUTUQUARA            25453 non-null uint8\n",
      "Neighbourhood2_MARIA ORTIZ            25453 non-null uint8\n",
      "Neighbourhood2_MARUÍPE                25453 non-null uint8\n",
      "Neighbourhood2_MATA DA PRAIA          25453 non-null uint8\n",
      "Neighbourhood2_MONTE BELO             25453 non-null uint8\n",
      "Neighbourhood2_NOVA PALESTINA         25453 non-null uint8\n",
      "Neighbourhood2_PARQUE MOSCOSO         25453 non-null uint8\n",
      "Neighbourhood2_PIEDADE                25453 non-null uint8\n",
      "Neighbourhood2_PRAIA DO CANTO         25453 non-null uint8\n",
      "Neighbourhood2_PRAIA DO SUÁ           25453 non-null uint8\n",
      "Neighbourhood2_REDENÇÃO               25453 non-null uint8\n",
      "Neighbourhood2_REPÚBLICA              25453 non-null uint8\n",
      "Neighbourhood2_RESISTÊNCIA            25453 non-null uint8\n",
      "Neighbourhood2_ROMÃO                  25453 non-null uint8\n",
      "Neighbourhood2_SANTA CECÍLIA          25453 non-null uint8\n",
      "Neighbourhood2_SANTA CLARA            25453 non-null uint8\n",
      "Neighbourhood2_SANTA LUÍZA            25453 non-null uint8\n",
      "Neighbourhood2_SANTA LÚCIA            25453 non-null uint8\n",
      "Neighbourhood2_SANTA MARTHA           25453 non-null uint8\n",
      "Neighbourhood2_SANTA TEREZA           25453 non-null uint8\n",
      "Neighbourhood2_SANTO ANDRÉ            25453 non-null uint8\n",
      "Neighbourhood2_SANTO ANTÔNIO          25453 non-null uint8\n",
      "Neighbourhood2_SANTOS DUMONT          25453 non-null uint8\n",
      "Neighbourhood2_SANTOS REIS            25453 non-null uint8\n",
      "Neighbourhood2_SOLON BORGES           25453 non-null uint8\n",
      "Neighbourhood2_SÃO BENEDITO           25453 non-null uint8\n",
      "Neighbourhood2_SÃO CRISTÓVÃO          25453 non-null uint8\n",
      "Neighbourhood2_SÃO JOSÉ               25453 non-null uint8\n",
      "Neighbourhood2_SÃO PEDRO              25453 non-null uint8\n",
      "Neighbourhood2_TABUAZEIRO             25453 non-null uint8\n",
      "Neighbourhood2_VILA RUBIM             25453 non-null uint8\n",
      "SchedDayofWeek_Friday                 25453 non-null uint8\n",
      "SchedDayofWeek_Saturday               25453 non-null uint8\n",
      "SchedDayofWeek_Thursday               25453 non-null uint8\n",
      "SchedDayofWeek_Tuesday                25453 non-null uint8\n",
      "SchedDayofWeek_Wednesday              25453 non-null uint8\n",
      "ApptDayofWeek_Friday                  25453 non-null uint8\n",
      "ApptDayofWeek_Thursday                25453 non-null uint8\n",
      "ApptDayofWeek_Tuesday                 25453 non-null uint8\n",
      "ApptDayofWeek_Wednesday               25453 non-null uint8\n",
      "dtypes: float64(1), int64(10), uint8(74)\n",
      "memory usage: 4.1 MB\n"
     ]
    },
    {
     "name": "stdout",
     "output_type": "stream",
     "text": [
      "<class 'pandas.core.frame.DataFrame'>\n",
      "Int64Index: 71163 entries, 65088 to 68006\n",
      "Data columns (total 85 columns):\n",
      "Age2                                  71163 non-null int64\n",
      "Scholarship                           71163 non-null int64\n",
      "Hipertension                          71163 non-null int64\n",
      "Diabetes                              71163 non-null int64\n",
      "Alcoholism                            71163 non-null int64\n",
      "Handcap_bin                           71163 non-null int64\n",
      "SMS_received                          71163 non-null int64\n",
      "DayDiff2                              71163 non-null int64\n",
      "no_show_rate2                         71163 non-null float64\n",
      "Reschedule                            71163 non-null int64\n",
      "Follow_up                             71163 non-null int64\n",
      "Gender_M                              71163 non-null uint8\n",
      "Neighbourhood2_ANDORINHAS             71163 non-null uint8\n",
      "Neighbourhood2_BARRO VERMELHO         71163 non-null uint8\n",
      "Neighbourhood2_BELA VISTA             71163 non-null uint8\n",
      "Neighbourhood2_BENTO FERREIRA         71163 non-null uint8\n",
      "Neighbourhood2_BOA VISTA              71163 non-null uint8\n",
      "Neighbourhood2_BONFIM                 71163 non-null uint8\n",
      "Neighbourhood2_CARATOÍRA              71163 non-null uint8\n",
      "Neighbourhood2_CENTRO                 71163 non-null uint8\n",
      "Neighbourhood2_COMDUSA                71163 non-null uint8\n",
      "Neighbourhood2_CONQUISTA              71163 non-null uint8\n",
      "Neighbourhood2_CONSOLAÇÃO             71163 non-null uint8\n",
      "Neighbourhood2_CRUZAMENTO             71163 non-null uint8\n",
      "Neighbourhood2_DA PENHA               71163 non-null uint8\n",
      "Neighbourhood2_DE LOURDES             71163 non-null uint8\n",
      "Neighbourhood2_DO CABRAL              71163 non-null uint8\n",
      "Neighbourhood2_DO MOSCOSO             71163 non-null uint8\n",
      "Neighbourhood2_DO QUADRO              71163 non-null uint8\n",
      "Neighbourhood2_ESTRELINHA             71163 non-null uint8\n",
      "Neighbourhood2_FONTE GRANDE           71163 non-null uint8\n",
      "Neighbourhood2_FORTE SÃO JOÃO         71163 non-null uint8\n",
      "Neighbourhood2_GOIABEIRAS             71163 non-null uint8\n",
      "Neighbourhood2_GRANDE VITÓRIA         71163 non-null uint8\n",
      "Neighbourhood2_GURIGICA               71163 non-null uint8\n",
      "Neighbourhood2_ILHA DAS CAIEIRAS      71163 non-null uint8\n",
      "Neighbourhood2_ILHA DE SANTA MARIA    71163 non-null uint8\n",
      "Neighbourhood2_ILHA DO PRÍNCIPE       71163 non-null uint8\n",
      "Neighbourhood2_INHANGUETÁ             71163 non-null uint8\n",
      "Neighbourhood2_ITARARÉ                71163 non-null uint8\n",
      "Neighbourhood2_JABOUR                 71163 non-null uint8\n",
      "Neighbourhood2_JARDIM CAMBURI         71163 non-null uint8\n",
      "Neighbourhood2_JARDIM DA PENHA        71163 non-null uint8\n",
      "Neighbourhood2_JESUS DE NAZARETH      71163 non-null uint8\n",
      "Neighbourhood2_JOANA D´ARC            71163 non-null uint8\n",
      "Neighbourhood2_JUCUTUQUARA            71163 non-null uint8\n",
      "Neighbourhood2_MARIA ORTIZ            71163 non-null uint8\n",
      "Neighbourhood2_MARUÍPE                71163 non-null uint8\n",
      "Neighbourhood2_MATA DA PRAIA          71163 non-null uint8\n",
      "Neighbourhood2_MONTE BELO             71163 non-null uint8\n",
      "Neighbourhood2_NOVA PALESTINA         71163 non-null uint8\n",
      "Neighbourhood2_PARQUE MOSCOSO         71163 non-null uint8\n",
      "Neighbourhood2_PIEDADE                71163 non-null uint8\n",
      "Neighbourhood2_PRAIA DO CANTO         71163 non-null uint8\n",
      "Neighbourhood2_PRAIA DO SUÁ           71163 non-null uint8\n",
      "Neighbourhood2_REDENÇÃO               71163 non-null uint8\n",
      "Neighbourhood2_REPÚBLICA              71163 non-null uint8\n",
      "Neighbourhood2_RESISTÊNCIA            71163 non-null uint8\n",
      "Neighbourhood2_ROMÃO                  71163 non-null uint8\n",
      "Neighbourhood2_SANTA CECÍLIA          71163 non-null uint8\n",
      "Neighbourhood2_SANTA CLARA            71163 non-null uint8\n",
      "Neighbourhood2_SANTA LUÍZA            71163 non-null uint8\n",
      "Neighbourhood2_SANTA LÚCIA            71163 non-null uint8\n",
      "Neighbourhood2_SANTA MARTHA           71163 non-null uint8\n",
      "Neighbourhood2_SANTA TEREZA           71163 non-null uint8\n",
      "Neighbourhood2_SANTO ANDRÉ            71163 non-null uint8\n",
      "Neighbourhood2_SANTO ANTÔNIO          71163 non-null uint8\n",
      "Neighbourhood2_SANTOS DUMONT          71163 non-null uint8\n",
      "Neighbourhood2_SANTOS REIS            71163 non-null uint8\n",
      "Neighbourhood2_SOLON BORGES           71163 non-null uint8\n",
      "Neighbourhood2_SÃO BENEDITO           71163 non-null uint8\n",
      "Neighbourhood2_SÃO CRISTÓVÃO          71163 non-null uint8\n",
      "Neighbourhood2_SÃO JOSÉ               71163 non-null uint8\n",
      "Neighbourhood2_SÃO PEDRO              71163 non-null uint8\n",
      "Neighbourhood2_TABUAZEIRO             71163 non-null uint8\n",
      "Neighbourhood2_VILA RUBIM             71163 non-null uint8\n",
      "SchedDayofWeek_Friday                 71163 non-null uint8\n",
      "SchedDayofWeek_Saturday               71163 non-null uint8\n",
      "SchedDayofWeek_Thursday               71163 non-null uint8\n",
      "SchedDayofWeek_Tuesday                71163 non-null uint8\n",
      "SchedDayofWeek_Wednesday              71163 non-null uint8\n",
      "ApptDayofWeek_Friday                  71163 non-null uint8\n",
      "ApptDayofWeek_Thursday                71163 non-null uint8\n",
      "ApptDayofWeek_Tuesday                 71163 non-null uint8\n",
      "ApptDayofWeek_Wednesday               71163 non-null uint8\n",
      "dtypes: float64(1), int64(10), uint8(74)\n",
      "memory usage: 11.5 MB\n"
     ]
    }
   ],
   "source": [
    "#Set features\n",
    "# run for appt - all appts, basic features\n",
    "feature_cols = ['Gender','Age','Scholarship','Hipertension','Diabetes','Alcoholism','Handcap','SMS_received',\n",
    "                'ApptDayofWeek','SchedDayofWeek','Neighbourhood','DayDiff']\n",
    "a_Xv1 = appt[feature_cols]\n",
    "a_Xv1 = pd.get_dummies(a_Xv1, columns = ['Gender','Neighbourhood','ApptDayofWeek','SchedDayofWeek'])\n",
    "a_Xv1.drop(columns=['Gender_F','Neighbourhood_VILA RUBIM','SchedDayofWeek_Monday','ApptDayofWeek_Monday'],inplace=True)\n",
    "Xv1_cols = np.array(a_Xv1.columns)\n",
    "a_Xv1.info()\n",
    "\n",
    "## run for appt_v2 - second or more appts, adds historical features\n",
    "feature_cols = ['Gender','Age2','Neighbourhood2','Scholarship','Hipertension','Diabetes','Alcoholism',\n",
    "                'Handcap_bin','SMS_received','SchedDayofWeek','ApptDayofWeek','DayDiff2',\n",
    "                'no_show_rate2','Reschedule','Follow_up']\n",
    "a_Xv2 = appt_v2[feature_cols]\n",
    "a_Xv2 = pd.get_dummies(a_Xv2, columns = ['Gender','Neighbourhood2','SchedDayofWeek','ApptDayofWeek'])\n",
    "a_Xv2.drop(columns=['Gender_F','Neighbourhood2_OTHER','SchedDayofWeek_Monday','ApptDayofWeek_Monday'],inplace=True)\n",
    "Xv2_cols = np.array(a_Xv2.columns)\n",
    "a_Xv2.info()\n",
    "# a_X.head(5)\n",
    "\n",
    "## run for appt_v2_all - all appts, adds historical features (has N/As)\n",
    "feature_cols = ['Gender','Age2','Neighbourhood2','Scholarship','Hipertension','Diabetes','Alcoholism',\n",
    "                'Handcap_bin','SMS_received','SchedDayofWeek','ApptDayofWeek','DayDiff2',\n",
    "                'no_show_rate2','Reschedule','Follow_up']\n",
    "a_Xv3 = appt_v3[feature_cols]\n",
    "a_Xv3 = pd.get_dummies(a_Xv3, columns = ['Gender','Neighbourhood2','SchedDayofWeek','ApptDayofWeek'])\n",
    "a_Xv3.drop(columns=['Gender_F','Neighbourhood2_OTHER','SchedDayofWeek_Monday','ApptDayofWeek_Monday'],inplace=True)\n",
    "Xv3_cols = np.array(a_Xv3.columns)\n",
    "a_Xv3.info()"
   ]
  },
  {
   "cell_type": "code",
   "execution_count": 215,
   "metadata": {},
   "outputs": [],
   "source": [
    "# split into training and test sets\n",
    "\n",
    "#appt\n",
    "Xv1, yv1 = a_Xv1, appt['No_show_num']\n",
    "Xv1_train, Xv1_test, yv1_train, yv1_test = train_test_split(Xv1, yv1, test_size = 0.25, random_state = 10, stratify = yv1)\n",
    "#appt_v2\n",
    "Xv2, yv2 = a_Xv2, appt_v2['No_show_num']\n",
    "Xv2_train, Xv2_test, yv2_train, yv2_test = train_test_split(Xv2, yv2, test_size = 0.25, random_state = 10, stratify = yv2)\n",
    "#appt_v3\n",
    "Xv3, yv3 = a_Xv3, appt_v3['No_show_num']\n",
    "Xv3_train, Xv3_test, yv3_train, yv3_test = train_test_split(Xv3, yv3, test_size = 0.25, random_state = 10, stratify = yv3)\n"
   ]
  },
  {
   "cell_type": "code",
   "execution_count": 216,
   "metadata": {},
   "outputs": [],
   "source": [
    "# create standardized versions for LR, KNN, and SVC\n",
    "#Standardize\n",
    "def stan(X_train,X_test):\n",
    "    std = StandardScaler()\n",
    "    std.fit(X_train)\n",
    "    return std.transform(X_train), std.transform(X_test)\n",
    "\n",
    "Xv1_train_std, Xv1_test_std = stan(Xv1_train,Xv1_test)\n",
    "Xv2_train_std, Xv2_test_std = stan(Xv2_train,Xv2_test)\n",
    "Xv3_train_std, Xv3_test_std = stan(Xv3_train,Xv3_test)"
   ]
  },
  {
   "cell_type": "markdown",
   "metadata": {},
   "source": [
    "### Models\n",
    "skipping Decision Trees and Naive Bayes\n",
    "#### Logistic Regression"
   ]
  },
  {
   "cell_type": "code",
   "execution_count": 217,
   "metadata": {},
   "outputs": [],
   "source": [
    "def fit_LR(X_train,y_train,X_test):\n",
    "    LR = LogisticRegression(solver='liblinear')\n",
    "    LR.fit(X_train,y_train)\n",
    "    return LR.predict(X_test), LR.predict_proba(X_test)[:,1]"
   ]
  },
  {
   "cell_type": "code",
   "execution_count": 218,
   "metadata": {},
   "outputs": [],
   "source": [
    "yv1_test_LR, yv1_test_LR_prob = fit_LR(Xv1_train_std,yv1_train,Xv1_test_std)\n",
    "yv2_test_LR, yv2_test_LR_prob = fit_LR(Xv2_train_std,yv2_train,Xv2_test_std)\n",
    "yv3_test_LR, yv3_test_LR_prob = fit_LR(Xv3_train_std,yv3_train,Xv3_test_std)"
   ]
  },
  {
   "cell_type": "code",
   "execution_count": 219,
   "metadata": {},
   "outputs": [
    {
     "name": "stdout",
     "output_type": "stream",
     "text": [
      "Accuracy score: 0.7164858636389185\n",
      "F1 score: 0.011368090944727556\n",
      "Precision (true + / all predicted +): 0.4142857142857143\n",
      "Recall (true + / all actual +): 0.005763116057233704\n"
     ]
    }
   ],
   "source": [
    "print_scores(yv1_test,yv1_test_LR)"
   ]
  },
  {
   "cell_type": "code",
   "execution_count": 220,
   "metadata": {},
   "outputs": [
    {
     "name": "stdout",
     "output_type": "stream",
     "text": [
      "Accuracy score: 0.7353865493400377\n",
      "F1 score: 0.2846219201359388\n",
      "Precision (true + / all predicted +): 0.5866900175131349\n",
      "Recall (true + / all actual +): 0.1878855860908581\n"
     ]
    }
   ],
   "source": [
    "print_scores(yv2_test,yv2_test_LR)"
   ]
  },
  {
   "cell_type": "code",
   "execution_count": 221,
   "metadata": {},
   "outputs": [
    {
     "name": "stdout",
     "output_type": "stream",
     "text": [
      "Accuracy score: 0.7194086897869709\n",
      "F1 score: 0.11926605504587158\n",
      "Precision (true + / all predicted +): 0.5314465408805031\n",
      "Recall (true + / all actual +): 0.06717011128775835\n"
     ]
    }
   ],
   "source": [
    "print_scores(yv3_test,yv3_test_LR)"
   ]
  },
  {
   "cell_type": "markdown",
   "metadata": {},
   "source": [
    "#### KNN"
   ]
  },
  {
   "cell_type": "code",
   "execution_count": 222,
   "metadata": {},
   "outputs": [],
   "source": [
    "def fit_KNN(X_train,y_train,X_test):\n",
    "    KNN = KNeighborsClassifier(n_neighbors=30)\n",
    "    KNN.fit(X_train,y_train)\n",
    "    return KNN.predict(X_test), KNN.predict_proba(X_test)[:,1]"
   ]
  },
  {
   "cell_type": "code",
   "execution_count": null,
   "metadata": {},
   "outputs": [],
   "source": [
    "yv1_test_KNN, yv1_test_KNN_prob = fit_KNN(Xv1_train_std,yv1_train,Xv1_test_std)\n",
    "yv2_test_KNN, yv2_test_KNN_prob = fit_KNN(Xv2_train_std,yv2_train,Xv2_test_std)\n",
    "yv3_test_KNN, yv3_test_KNN_prob = fit_KNN(Xv3_train_std,yv3_train,Xv3_test_std)"
   ]
  },
  {
   "cell_type": "code",
   "execution_count": null,
   "metadata": {},
   "outputs": [],
   "source": [
    "print_scores(yv1_test,yv1_test_KNN)"
   ]
  },
  {
   "cell_type": "code",
   "execution_count": null,
   "metadata": {},
   "outputs": [],
   "source": [
    "print_scores(yv2_test,yv2_test_KNN)"
   ]
  },
  {
   "cell_type": "code",
   "execution_count": null,
   "metadata": {},
   "outputs": [],
   "source": [
    "print_scores(yv3_test,yv3_test_KNN)"
   ]
  },
  {
   "cell_type": "markdown",
   "metadata": {},
   "source": [
    "#### SVC"
   ]
  },
  {
   "cell_type": "code",
   "execution_count": null,
   "metadata": {},
   "outputs": [],
   "source": [
    "def fit_SVC(X_train,y_train,X_test):\n",
    "    SVCmodel = SVC()\n",
    "    SVCmodel.fit(X_train,y_train)\n",
    "    return SVCmodel.predict(X_test)"
   ]
  },
  {
   "cell_type": "code",
   "execution_count": null,
   "metadata": {},
   "outputs": [],
   "source": [
    "# takes about 10-15 minutes\n",
    "# yv1_test_SVC = fit_SVC(Xv1_train_std,yv1_train,Xv1_test_std)\n",
    "# yv2_test_SVC = fit_SVC(Xv2_train_std,yv2_train,Xv2_test_std)"
   ]
  },
  {
   "cell_type": "code",
   "execution_count": null,
   "metadata": {},
   "outputs": [],
   "source": [
    "# print_scores(yv1_test,yv1_test_SVC)"
   ]
  },
  {
   "cell_type": "code",
   "execution_count": null,
   "metadata": {},
   "outputs": [],
   "source": [
    "# print_scores(yv2_test,yv2_test_SVC)"
   ]
  },
  {
   "cell_type": "markdown",
   "metadata": {},
   "source": [
    "#### Random Forests"
   ]
  },
  {
   "cell_type": "code",
   "execution_count": null,
   "metadata": {},
   "outputs": [],
   "source": [
    "def fit_RFC(X_train,y_train,X_test):\n",
    "    RFC = RandomForestClassifier(n_estimators=100,random_state=88)\n",
    "    RFC.fit(X_train,y_train)\n",
    "    return RFC.predict(X_test), RFC.predict_proba(X_test)[:,1]"
   ]
  },
  {
   "cell_type": "code",
   "execution_count": null,
   "metadata": {},
   "outputs": [],
   "source": [
    "yv1_test_RFC, yv1_test_RFC_prob = fit_RFC(Xv1_train,yv1_train,Xv1_test)\n",
    "yv2_test_RFC, yv2_test_RFC_prob = fit_RFC(Xv2_train,yv2_train,Xv2_test)\n",
    "yv3_test_RFC, yv3_test_RFC_prob = fit_RFC(Xv3_train,yv3_train,Xv3_test)\n",
    "# yv3_test_RFC = fit_RFC(Xv3_train,yv3_train,Xv3_test)"
   ]
  },
  {
   "cell_type": "code",
   "execution_count": null,
   "metadata": {},
   "outputs": [],
   "source": [
    "print_scores(yv1_test,yv1_test_RFC)"
   ]
  },
  {
   "cell_type": "code",
   "execution_count": null,
   "metadata": {},
   "outputs": [],
   "source": [
    "print_scores(yv2_test,yv2_test_RFC)"
   ]
  },
  {
   "cell_type": "code",
   "execution_count": null,
   "metadata": {},
   "outputs": [],
   "source": [
    "print_scores(yv3_test,yv3_test_RFC)"
   ]
  },
  {
   "cell_type": "code",
   "execution_count": null,
   "metadata": {},
   "outputs": [],
   "source": [
    "# add random forest with all data - handles NaNs"
   ]
  },
  {
   "cell_type": "markdown",
   "metadata": {},
   "source": [
    "#### XGBoost"
   ]
  },
  {
   "cell_type": "code",
   "execution_count": null,
   "metadata": {},
   "outputs": [],
   "source": [
    "def fit_XGB(X_train,y_train,X_test):\n",
    "    XGB = XGBClassifier()\n",
    "    XGB.fit(X_train,y_train)\n",
    "    return XGB.predict(X_test), XGB.predict_proba(X_test)[:,1]"
   ]
  },
  {
   "cell_type": "code",
   "execution_count": null,
   "metadata": {},
   "outputs": [],
   "source": [
    "yv1_test_XGB, yv1_test_XGB_prob = fit_XGB(Xv1_train,yv1_train,Xv1_test)\n",
    "yv2_test_XGB, yv2_test_XGB_prob = fit_XGB(Xv2_train,yv2_train,Xv2_test)\n",
    "yv3_test_XGB, yv3_test_XGB_prob = fit_XGB(Xv3_train,yv3_train,Xv3_test)"
   ]
  },
  {
   "cell_type": "code",
   "execution_count": null,
   "metadata": {},
   "outputs": [],
   "source": [
    "print_scores(yv1_test,yv1_test_XGB)"
   ]
  },
  {
   "cell_type": "code",
   "execution_count": null,
   "metadata": {},
   "outputs": [],
   "source": [
    "print_scores(yv2_test,yv2_test_XGB)"
   ]
  },
  {
   "cell_type": "code",
   "execution_count": null,
   "metadata": {},
   "outputs": [],
   "source": [
    "print_scores(yv3_test,yv3_test_XGB)"
   ]
  },
  {
   "cell_type": "markdown",
   "metadata": {},
   "source": [
    "### Feature Importance"
   ]
  },
  {
   "cell_type": "code",
   "execution_count": null,
   "metadata": {},
   "outputs": [],
   "source": [
    "def Sort_Tuple(tup):  \n",
    "  \n",
    "    # reverse = None (Sorts in Ascending order)  \n",
    "    # key is set to sort using second element of  \n",
    "    # sublist lambda has been used  \n",
    "    tup.sort(key = lambda x: x[1],reverse=True)  \n",
    "    return tup   "
   ]
  },
  {
   "cell_type": "code",
   "execution_count": null,
   "metadata": {},
   "outputs": [],
   "source": [
    "a = list(zip(Xv2_cols,LR.coef_[0]))\n",
    "for coef in Sort_Tuple(a):\n",
    "    print(coef)"
   ]
  },
  {
   "cell_type": "code",
   "execution_count": null,
   "metadata": {},
   "outputs": [],
   "source": [
    "# RFC\n",
    "RFC = RandomForestClassifier(n_estimators=100,random_state=88)\n",
    "RFC.fit(Xv2_train,yv2_train)\n",
    "# for i in range(len(Xv2_cols)):\n",
    "#     print(Xv2_cols[i],\":\",RFC.feature_importances_[i])"
   ]
  },
  {
   "cell_type": "code",
   "execution_count": null,
   "metadata": {},
   "outputs": [],
   "source": [
    "a = list(zip(Xv2_cols,RFC.feature_importances_))\n",
    "  \n",
    "# printing the sorted list of tuples\n",
    "for coef in Sort_Tuple(a):\n",
    "    print(coef)"
   ]
  },
  {
   "cell_type": "markdown",
   "metadata": {},
   "source": [
    "### Oversampling - v2\n",
    "Use RandomOverSampler after analysis from workbook 4"
   ]
  },
  {
   "cell_type": "code",
   "execution_count": null,
   "metadata": {},
   "outputs": [],
   "source": [
    "# Now add some random oversampling of the minority classes\n",
    "from collections import Counter\n",
    "from imblearn.over_sampling import RandomOverSampler\n",
    "\n",
    "ros = RandomOverSampler(random_state=42)\n",
    "Xv2_resampled, yv2_resampled = ros.fit_sample(Xv2_train,yv2_train)\n",
    "Counter(yv2_resampled)\n",
    "\n",
    "Xv3_resampled, yv3_resampled = ros.fit_sample(Xv3_train,yv3_train)\n",
    "Counter(yv3_resampled)"
   ]
  },
  {
   "cell_type": "markdown",
   "metadata": {},
   "source": [
    "#### Logistic Regression"
   ]
  },
  {
   "cell_type": "code",
   "execution_count": null,
   "metadata": {},
   "outputs": [],
   "source": [
    "LR = LogisticRegression(solver='liblinear')\n",
    "LR.fit(Xv2_resampled,yv2_resampled)\n",
    "yv2_test_LR_o = LR.predict(Xv2_test)\n",
    "yv2_test_LR_o_prob = LR.predict_proba(Xv2_test)[:,1]"
   ]
  },
  {
   "cell_type": "code",
   "execution_count": null,
   "metadata": {
    "scrolled": true
   },
   "outputs": [],
   "source": [
    "print_scores(yv2_test,yv2_test_LR_o)"
   ]
  },
  {
   "cell_type": "code",
   "execution_count": null,
   "metadata": {},
   "outputs": [],
   "source": [
    "yv3_test_LR_o = LR.predict(Xv3_test)\n",
    "yv3_test_LR_o_prob = LR.predict_proba(Xv3_test)[:,1]\n",
    "print_scores(yv3_test,yv3_test_LR_o)"
   ]
  },
  {
   "cell_type": "markdown",
   "metadata": {},
   "source": [
    "#### RFC"
   ]
  },
  {
   "cell_type": "code",
   "execution_count": null,
   "metadata": {},
   "outputs": [],
   "source": [
    "RFC = RandomForestClassifier(n_estimators=100,random_state=88)\n",
    "RFC.fit(Xv2_resampled,yv2_resampled)\n",
    "yv2_test_RFC_o = RFC.predict(Xv2_test)\n",
    "yv2_test_RFC_o_prob = RFC.predict_proba(Xv2_test)[:,1]"
   ]
  },
  {
   "cell_type": "code",
   "execution_count": null,
   "metadata": {},
   "outputs": [],
   "source": [
    "print_scores(yv2_test,yv2_test_RFC_o)"
   ]
  },
  {
   "cell_type": "code",
   "execution_count": null,
   "metadata": {},
   "outputs": [],
   "source": [
    "yv3_test_RFC_o = RFC.predict(Xv3_test)\n",
    "yv3_test_RFC_o_prob = RFC.predict_proba(Xv3_test)[:,1]\n",
    "print_scores(yv3_test,yv3_test_RFC_o)"
   ]
  },
  {
   "cell_type": "markdown",
   "metadata": {},
   "source": [
    "#### XGBoost"
   ]
  },
  {
   "cell_type": "code",
   "execution_count": null,
   "metadata": {},
   "outputs": [],
   "source": [
    "XGB = XGBClassifier()\n",
    "XGB.fit(Xv2_resampled,yv2_resampled)\n",
    "# yv2_test_XGB_o = XGB.predict(Xv2_test)\n",
    "# yv2_test_XGB_o_prob = XGB.predict_proba(Xv2_test)[:,1]"
   ]
  },
  {
   "cell_type": "code",
   "execution_count": null,
   "metadata": {},
   "outputs": [],
   "source": [
    "print_scores(yv2_test,yv2_test_XGB_o)"
   ]
  },
  {
   "cell_type": "code",
   "execution_count": null,
   "metadata": {},
   "outputs": [],
   "source": []
  },
  {
   "cell_type": "markdown",
   "metadata": {},
   "source": [
    "### Ensembling"
   ]
  },
  {
   "cell_type": "code",
   "execution_count": null,
   "metadata": {},
   "outputs": [],
   "source": [
    "# create voting classifier\n",
    "model_list = [('LR',eval('LR')),('RFC',eval('RFC'))]\n",
    "\n",
    "def ensembling(X_train,y_train,X_test,y_test,vote_type,weights):\n",
    "    voting_classifer = VotingClassifier(estimators=model_list,\n",
    "                                        voting=vote_type,\n",
    "                                        weights = weights,\n",
    "                                        n_jobs=-1)\n",
    "    voting_classifer.fit(X_train, y_train)\n",
    "\n",
    "    yv2_test_VC = voting_classifer.predict(X_test)\n",
    "#     yv2_test_VC, yv2_test_VC_prob = voting_classifer.predict(Xv2_test), voting_classifer.predict_proba(Xv2_test)[:,1]\n",
    "    return print_scores(y_test, yv2_test_VC)"
   ]
  },
  {
   "cell_type": "code",
   "execution_count": null,
   "metadata": {},
   "outputs": [],
   "source": [
    "ensembling(Xv2_resampled,yv2_resampled,Xv2_test,yv2_test,'hard',['0.5','0.5'])"
   ]
  },
  {
   "cell_type": "code",
   "execution_count": null,
   "metadata": {},
   "outputs": [],
   "source": [
    "# ensembling('soft',['0.5','0.5'])"
   ]
  },
  {
   "cell_type": "code",
   "execution_count": null,
   "metadata": {},
   "outputs": [],
   "source": [
    "ensembling(Xv2_resampled,yv2_resampled,Xv2_test,yv2_test,'hard',['0.9','0.1'])\n",
    "#ends up voting with LR"
   ]
  },
  {
   "cell_type": "code",
   "execution_count": null,
   "metadata": {},
   "outputs": [],
   "source": [
    "# ensembling('soft',['0.7','0.3'])"
   ]
  },
  {
   "cell_type": "code",
   "execution_count": null,
   "metadata": {},
   "outputs": [],
   "source": [
    "ensembling(Xv3_resampled,yv3_resampled,Xv3_test,yv3_test,'hard',['0.5','0.5'])"
   ]
  },
  {
   "cell_type": "code",
   "execution_count": null,
   "metadata": {},
   "outputs": [],
   "source": [
    "ensembling(Xv3_resampled,yv3_resampled,Xv3_test,yv3_test,'hard',['0.9','0.1'])"
   ]
  },
  {
   "cell_type": "markdown",
   "metadata": {},
   "source": [
    "### Visualization"
   ]
  },
  {
   "cell_type": "code",
   "execution_count": null,
   "metadata": {},
   "outputs": [],
   "source": [
    "# Compare ROCs for:\n",
    "fpr1, tpr1, thresholds1 = roc_curve(yv1_test, yv1_test_LR_prob) # LR\n",
    "fpr2, tpr2, thresholds1 = roc_curve(yv1_test, yv1_test_KNN_prob) # KNN\n",
    "fpr3, tpr3, thresholds1 = roc_curve(yv1_test, yv1_test_RFC_prob) # RFC\n",
    "fpr4, tpr4, thresholds1 = roc_curve(yv1_test, yv1_test_XGB_prob) # XGB\n",
    "\n",
    "fpr5, tpr5, thresholds1 = roc_curve(yv2_test, yv2_test_LR_prob) # LR\n",
    "fpr6, tpr6, thresholds1 = roc_curve(yv2_test, yv2_test_KNN_prob) # KNN\n",
    "fpr7, tpr7, thresholds1 = roc_curve(yv2_test, yv2_test_RFC_prob) # RFC\n",
    "fpr8, tpr8, thresholds1 = roc_curve(yv2_test, yv2_test_XGB_prob) # XGB\n",
    "\n",
    "fpr9, tpr9, thresholds9 = roc_curve(yv2_test, yv2_test_LR_o_prob) # LR\n",
    "fpr10, tpr10, thresholds10 = roc_curve(yv2_test, yv2_test_RFC_o_prob) # RFC\n",
    "\n",
    "fpr11, tpr11, thresholds11 = roc_curve(yv3_test, yv3_test_LR_o_prob) # LR\n",
    "fpr12, tpr12, thresholds12 = roc_curve(yv3_test, yv3_test_RFC_o_prob) # RFC\n",
    "\n",
    "\n",
    "plt.figure(figsize=(15,7))\n",
    "# plt.plot(fpr1, tpr1,lw=2,label='LR')\n",
    "# plt.plot(fpr2, tpr2,lw=2,label='KNN')\n",
    "# plt.plot(fpr3, tpr3,lw=2,label='RFC')\n",
    "# plt.plot(fpr4, tpr4,lw=2,label='XGB')\n",
    "\n",
    "# plt.plot(fpr5, tpr5,lw=2,label='LR - v2')\n",
    "# plt.plot(fpr6, tpr6,lw=2,label='KNN - v2')\n",
    "# plt.plot(fpr7, tpr7,lw=2,label='RFC - v2')\n",
    "# plt.plot(fpr8, tpr8,lw=2,label='XGB - v2')\n",
    "\n",
    "plt.plot(fpr9, tpr9,lw=2,label='LR o - v2')\n",
    "plt.plot(fpr10, tpr10,lw=2,label='RFC o - v2')\n",
    "\n",
    "plt.plot(fpr11, tpr11,lw=2,label='LR o - v3')\n",
    "plt.plot(fpr12, tpr12,lw=2,label='RFC o - v3')\n",
    "\n",
    "plt.plot([0,1],[0,1],c='violet',ls='--')\n",
    "plt.xlim([-0.05,1.05])\n",
    "plt.ylim([-0.05,1.05])\n",
    "\n",
    "plt.legend(loc='lower right')\n",
    "plt.xlabel('False positive rate')\n",
    "plt.ylabel('True positive rate')\n",
    "plt.title('ROC curve for no-show problem');"
   ]
  },
  {
   "cell_type": "code",
   "execution_count": null,
   "metadata": {},
   "outputs": [],
   "source": [
    "print(f'LR - v1: {roc_auc_score(yv1_test, yv1_test_LR_prob):.3f}') # LR\n",
    "print(f'KNN - v1: {roc_auc_score(yv1_test, yv1_test_KNN_prob):.3f}') # KNN\n",
    "print(f'RFC - v1: {roc_auc_score(yv1_test, yv1_test_RFC_prob):.3f}') # RFC\n",
    "print(f'XGB - v1: {roc_auc_score(yv1_test, yv1_test_XGB_prob):.3f}') # XGB\n",
    "\n",
    "print(f'LR - v2: {roc_auc_score(yv2_test, yv2_test_LR_prob):.3f}') # LR\n",
    "print(f'KNN - v2: {roc_auc_score(yv2_test, yv2_test_KNN_prob):.3f}') # KNN\n",
    "print(f'RFC - v2: {roc_auc_score(yv2_test, yv2_test_RFC_prob):.3f}') # RFC\n",
    "print(f'XGB - v2: {roc_auc_score(yv2_test, yv2_test_XGB_prob):.3f}') # XGB\n",
    "\n",
    "print(f'LR o - v2: {roc_auc_score(yv2_test, yv2_test_LR_o_prob):.3f}') # LR\n",
    "print(f'RFC o - v2: {roc_auc_score(yv2_test, yv2_test_RFC_o_prob):.3f}') # RFC\n",
    "\n",
    "print(f'LR o - v3: {roc_auc_score(yv3_test, yv3_test_LR_o_prob):.3f}') # LR\n",
    "print(f'RFC o - v3: {roc_auc_score(yv3_test, yv3_test_RFC_o_prob):.3f}') # RFC"
   ]
  },
  {
   "cell_type": "code",
   "execution_count": null,
   "metadata": {},
   "outputs": [],
   "source": []
  }
 ],
 "metadata": {
  "kernelspec": {
   "display_name": "Python [conda env:metis] *",
   "language": "python",
   "name": "conda-env-metis-py"
  },
  "language_info": {
   "codemirror_mode": {
    "name": "ipython",
    "version": 3
   },
   "file_extension": ".py",
   "mimetype": "text/x-python",
   "name": "python",
   "nbconvert_exporter": "python",
   "pygments_lexer": "ipython3",
   "version": "3.6.9"
  }
 },
 "nbformat": 4,
 "nbformat_minor": 2
}
