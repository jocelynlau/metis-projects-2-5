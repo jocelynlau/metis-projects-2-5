{
 "cells": [
  {
   "cell_type": "markdown",
   "metadata": {},
   "source": [
    "### EDA data viz\n",
    "Output EDA graphs for presentation"
   ]
  },
  {
   "cell_type": "code",
   "execution_count": 1,
   "metadata": {},
   "outputs": [],
   "source": [
    "import pandas as pd\n",
    "import numpy as np\n",
    "import matplotlib.pyplot as plt\n",
    "import datetime as dt\n",
    "import calendar\n",
    "import pickle\n",
    "\n",
    "%matplotlib inline\n",
    "plt.style.use('seaborn-pastel')\n",
    "\n",
    "import seaborn as sns\n",
    "sns.set(style=\"whitegrid\")\n",
    "\n",
    "%run EDA_functions.py"
   ]
  },
  {
   "cell_type": "code",
   "execution_count": 2,
   "metadata": {},
   "outputs": [],
   "source": [
    "with open('pickles/appt_v2_all0.pickle','rb') as read_file:\n",
    "    appt_v4 = pickle.load(read_file)"
   ]
  },
  {
   "cell_type": "code",
   "execution_count": 3,
   "metadata": {},
   "outputs": [
    {
     "data": {
      "text/plain": [
       "Index(['PatientId', 'AppointmentID', 'Gender', 'ScheduledDay',\n",
       "       'AppointmentDay', 'Age', 'Neighbourhood', 'Scholarship', 'Hipertension',\n",
       "       'Diabetes', 'Alcoholism', 'Handcap', 'SMS_received', 'No_show',\n",
       "       'No_show_num', 'SchedDay', 'SchedTime', 'SchedDayofWeek', 'ApptDay',\n",
       "       'ApptDayofWeek', 'DayDiff', 'Handcap_bin', 'DayDiff2', 'Age2',\n",
       "       'Neighbourhood2', 'ApptDayDiff', 'PrevApptDay', 'PrevAppt_No_show',\n",
       "       'PrevAppt_Sched_diff', 'appt_count', 'total_appt_count',\n",
       "       'total_no_show_count', 'no_show_rate', 'no_show_rate2',\n",
       "       'prior_appt_count', 'prior_no_show_count', 'Reschedule', 'Follow_up'],\n",
       "      dtype='object')"
      ]
     },
     "execution_count": 3,
     "metadata": {},
     "output_type": "execute_result"
    }
   ],
   "source": [
    "appt_v4.columns"
   ]
  },
  {
   "cell_type": "code",
   "execution_count": 7,
   "metadata": {},
   "outputs": [],
   "source": [
    "def bargraph(df,figx,figy,label,xtype='i',xlabel=''):\n",
    "    #get labels with N counts\n",
    "    x_labels=[]\n",
    "    for row in df.iterrows():\n",
    "        if xtype=='s':\n",
    "            x_labels.append(f\"{row[0]}\\nN={int(row[1][2])}\")\n",
    "        else:\n",
    "            x_labels.append(f\"{int(row[0])}\\nN={int(row[1][2])}\")\n",
    "    plt.figure(figsize=(figx,figy))\n",
    "    plt.bar(df.index.values.astype(str),df['no_p']+df['yes_p'],color='#df8b60',label='Attended')\n",
    "    plt.bar(df.index.values.astype(str),df['yes_p'],color='#6aadaa',label='Missed')\n",
    "    plt.xticks(ticks=range(len(df)),labels=x_labels)\n",
    "    plt.ylabel('(%)',rotation=0)\n",
    "    plt.xlabel(xlabel)\n",
    "#     plt.legend(loc='best')\n",
    "    plt.savefig(f\"figures/EDA_{label}.png\", bbox_inches = 'tight')\n",
    "    return plt.show();"
   ]
  },
  {
   "cell_type": "markdown",
   "metadata": {},
   "source": [
    "#### Prior Appt Count"
   ]
  },
  {
   "cell_type": "code",
   "execution_count": 169,
   "metadata": {},
   "outputs": [
    {
     "data": {
      "text/html": [
       "<div>\n",
       "<style scoped>\n",
       "    .dataframe tbody tr th:only-of-type {\n",
       "        vertical-align: middle;\n",
       "    }\n",
       "\n",
       "    .dataframe tbody tr th {\n",
       "        vertical-align: top;\n",
       "    }\n",
       "\n",
       "    .dataframe thead th {\n",
       "        text-align: right;\n",
       "    }\n",
       "</style>\n",
       "<table border=\"1\" class=\"dataframe\">\n",
       "  <thead>\n",
       "    <tr style=\"text-align: right;\">\n",
       "      <th>No_show</th>\n",
       "      <th>No</th>\n",
       "      <th>Yes</th>\n",
       "      <th>All</th>\n",
       "      <th>no_p</th>\n",
       "      <th>yes_p</th>\n",
       "    </tr>\n",
       "    <tr>\n",
       "      <th>prior_appt_count</th>\n",
       "      <th></th>\n",
       "      <th></th>\n",
       "      <th></th>\n",
       "      <th></th>\n",
       "      <th></th>\n",
       "    </tr>\n",
       "  </thead>\n",
       "  <tbody>\n",
       "    <tr>\n",
       "      <td>0.0</td>\n",
       "      <td>32715</td>\n",
       "      <td>12995</td>\n",
       "      <td>45710</td>\n",
       "      <td>71.570772</td>\n",
       "      <td>28.429228</td>\n",
       "    </tr>\n",
       "    <tr>\n",
       "      <td>1.0</td>\n",
       "      <td>10409</td>\n",
       "      <td>4122</td>\n",
       "      <td>14531</td>\n",
       "      <td>71.633060</td>\n",
       "      <td>28.366940</td>\n",
       "    </tr>\n",
       "    <tr>\n",
       "      <td>2.0</td>\n",
       "      <td>3789</td>\n",
       "      <td>1580</td>\n",
       "      <td>5369</td>\n",
       "      <td>70.571801</td>\n",
       "      <td>29.428199</td>\n",
       "    </tr>\n",
       "    <tr>\n",
       "      <td>3.0</td>\n",
       "      <td>1665</td>\n",
       "      <td>679</td>\n",
       "      <td>2344</td>\n",
       "      <td>71.032423</td>\n",
       "      <td>28.967577</td>\n",
       "    </tr>\n",
       "    <tr>\n",
       "      <td>4.0</td>\n",
       "      <td>870</td>\n",
       "      <td>319</td>\n",
       "      <td>1189</td>\n",
       "      <td>73.170732</td>\n",
       "      <td>26.829268</td>\n",
       "    </tr>\n",
       "    <tr>\n",
       "      <td>5.0</td>\n",
       "      <td>508</td>\n",
       "      <td>159</td>\n",
       "      <td>667</td>\n",
       "      <td>76.161919</td>\n",
       "      <td>23.838081</td>\n",
       "    </tr>\n",
       "    <tr>\n",
       "      <td>6.0</td>\n",
       "      <td>321</td>\n",
       "      <td>98</td>\n",
       "      <td>419</td>\n",
       "      <td>76.610979</td>\n",
       "      <td>23.389021</td>\n",
       "    </tr>\n",
       "    <tr>\n",
       "      <td>7.0</td>\n",
       "      <td>231</td>\n",
       "      <td>56</td>\n",
       "      <td>287</td>\n",
       "      <td>80.487805</td>\n",
       "      <td>19.512195</td>\n",
       "    </tr>\n",
       "    <tr>\n",
       "      <td>8.0</td>\n",
       "      <td>156</td>\n",
       "      <td>41</td>\n",
       "      <td>197</td>\n",
       "      <td>79.187817</td>\n",
       "      <td>20.812183</td>\n",
       "    </tr>\n",
       "    <tr>\n",
       "      <td>9.0</td>\n",
       "      <td>124</td>\n",
       "      <td>31</td>\n",
       "      <td>155</td>\n",
       "      <td>80.000000</td>\n",
       "      <td>20.000000</td>\n",
       "    </tr>\n",
       "    <tr>\n",
       "      <td>10.0</td>\n",
       "      <td>79</td>\n",
       "      <td>15</td>\n",
       "      <td>94</td>\n",
       "      <td>84.042553</td>\n",
       "      <td>15.957447</td>\n",
       "    </tr>\n",
       "    <tr>\n",
       "      <td>11.0</td>\n",
       "      <td>53</td>\n",
       "      <td>11</td>\n",
       "      <td>64</td>\n",
       "      <td>82.812500</td>\n",
       "      <td>17.187500</td>\n",
       "    </tr>\n",
       "    <tr>\n",
       "      <td>12.0</td>\n",
       "      <td>41</td>\n",
       "      <td>6</td>\n",
       "      <td>47</td>\n",
       "      <td>87.234043</td>\n",
       "      <td>12.765957</td>\n",
       "    </tr>\n",
       "    <tr>\n",
       "      <td>13.0</td>\n",
       "      <td>25</td>\n",
       "      <td>5</td>\n",
       "      <td>30</td>\n",
       "      <td>83.333333</td>\n",
       "      <td>16.666667</td>\n",
       "    </tr>\n",
       "    <tr>\n",
       "      <td>14.0</td>\n",
       "      <td>15</td>\n",
       "      <td>5</td>\n",
       "      <td>20</td>\n",
       "      <td>75.000000</td>\n",
       "      <td>25.000000</td>\n",
       "    </tr>\n",
       "    <tr>\n",
       "      <td>15.0</td>\n",
       "      <td>12</td>\n",
       "      <td>1</td>\n",
       "      <td>13</td>\n",
       "      <td>92.307692</td>\n",
       "      <td>7.692308</td>\n",
       "    </tr>\n",
       "    <tr>\n",
       "      <td>16.0</td>\n",
       "      <td>9</td>\n",
       "      <td>0</td>\n",
       "      <td>9</td>\n",
       "      <td>100.000000</td>\n",
       "      <td>0.000000</td>\n",
       "    </tr>\n",
       "    <tr>\n",
       "      <td>17.0</td>\n",
       "      <td>5</td>\n",
       "      <td>0</td>\n",
       "      <td>5</td>\n",
       "      <td>100.000000</td>\n",
       "      <td>0.000000</td>\n",
       "    </tr>\n",
       "    <tr>\n",
       "      <td>18.0</td>\n",
       "      <td>1</td>\n",
       "      <td>2</td>\n",
       "      <td>3</td>\n",
       "      <td>33.333333</td>\n",
       "      <td>66.666667</td>\n",
       "    </tr>\n",
       "    <tr>\n",
       "      <td>19.0</td>\n",
       "      <td>1</td>\n",
       "      <td>1</td>\n",
       "      <td>2</td>\n",
       "      <td>50.000000</td>\n",
       "      <td>50.000000</td>\n",
       "    </tr>\n",
       "    <tr>\n",
       "      <td>20.0</td>\n",
       "      <td>1</td>\n",
       "      <td>0</td>\n",
       "      <td>1</td>\n",
       "      <td>100.000000</td>\n",
       "      <td>0.000000</td>\n",
       "    </tr>\n",
       "    <tr>\n",
       "      <td>21.0</td>\n",
       "      <td>1</td>\n",
       "      <td>0</td>\n",
       "      <td>1</td>\n",
       "      <td>100.000000</td>\n",
       "      <td>0.000000</td>\n",
       "    </tr>\n",
       "    <tr>\n",
       "      <td>22.0</td>\n",
       "      <td>1</td>\n",
       "      <td>0</td>\n",
       "      <td>1</td>\n",
       "      <td>100.000000</td>\n",
       "      <td>0.000000</td>\n",
       "    </tr>\n",
       "    <tr>\n",
       "      <td>23.0</td>\n",
       "      <td>0</td>\n",
       "      <td>1</td>\n",
       "      <td>1</td>\n",
       "      <td>0.000000</td>\n",
       "      <td>100.000000</td>\n",
       "    </tr>\n",
       "    <tr>\n",
       "      <td>24.0</td>\n",
       "      <td>0</td>\n",
       "      <td>1</td>\n",
       "      <td>1</td>\n",
       "      <td>0.000000</td>\n",
       "      <td>100.000000</td>\n",
       "    </tr>\n",
       "    <tr>\n",
       "      <td>25.0</td>\n",
       "      <td>1</td>\n",
       "      <td>0</td>\n",
       "      <td>1</td>\n",
       "      <td>100.000000</td>\n",
       "      <td>0.000000</td>\n",
       "    </tr>\n",
       "    <tr>\n",
       "      <td>26.0</td>\n",
       "      <td>1</td>\n",
       "      <td>0</td>\n",
       "      <td>1</td>\n",
       "      <td>100.000000</td>\n",
       "      <td>0.000000</td>\n",
       "    </tr>\n",
       "    <tr>\n",
       "      <td>27.0</td>\n",
       "      <td>1</td>\n",
       "      <td>0</td>\n",
       "      <td>1</td>\n",
       "      <td>100.000000</td>\n",
       "      <td>0.000000</td>\n",
       "    </tr>\n",
       "    <tr>\n",
       "      <td>All</td>\n",
       "      <td>51035</td>\n",
       "      <td>20128</td>\n",
       "      <td>71163</td>\n",
       "      <td>71.715639</td>\n",
       "      <td>28.284361</td>\n",
       "    </tr>\n",
       "  </tbody>\n",
       "</table>\n",
       "</div>"
      ],
      "text/plain": [
       "No_show              No    Yes    All        no_p       yes_p\n",
       "prior_appt_count                                             \n",
       "0.0               32715  12995  45710   71.570772   28.429228\n",
       "1.0               10409   4122  14531   71.633060   28.366940\n",
       "2.0                3789   1580   5369   70.571801   29.428199\n",
       "3.0                1665    679   2344   71.032423   28.967577\n",
       "4.0                 870    319   1189   73.170732   26.829268\n",
       "5.0                 508    159    667   76.161919   23.838081\n",
       "6.0                 321     98    419   76.610979   23.389021\n",
       "7.0                 231     56    287   80.487805   19.512195\n",
       "8.0                 156     41    197   79.187817   20.812183\n",
       "9.0                 124     31    155   80.000000   20.000000\n",
       "10.0                 79     15     94   84.042553   15.957447\n",
       "11.0                 53     11     64   82.812500   17.187500\n",
       "12.0                 41      6     47   87.234043   12.765957\n",
       "13.0                 25      5     30   83.333333   16.666667\n",
       "14.0                 15      5     20   75.000000   25.000000\n",
       "15.0                 12      1     13   92.307692    7.692308\n",
       "16.0                  9      0      9  100.000000    0.000000\n",
       "17.0                  5      0      5  100.000000    0.000000\n",
       "18.0                  1      2      3   33.333333   66.666667\n",
       "19.0                  1      1      2   50.000000   50.000000\n",
       "20.0                  1      0      1  100.000000    0.000000\n",
       "21.0                  1      0      1  100.000000    0.000000\n",
       "22.0                  1      0      1  100.000000    0.000000\n",
       "23.0                  0      1      1    0.000000  100.000000\n",
       "24.0                  0      1      1    0.000000  100.000000\n",
       "25.0                  1      0      1  100.000000    0.000000\n",
       "26.0                  1      0      1  100.000000    0.000000\n",
       "27.0                  1      0      1  100.000000    0.000000\n",
       "All               51035  20128  71163   71.715639   28.284361"
      ]
     },
     "execution_count": 169,
     "metadata": {},
     "output_type": "execute_result"
    }
   ],
   "source": [
    "a = prior_appt_count_tab = crosstab('prior_appt_count',appt_v4)\n",
    "a"
   ]
  },
  {
   "cell_type": "code",
   "execution_count": 215,
   "metadata": {},
   "outputs": [],
   "source": [
    "a1 = a[:-1].copy()\n",
    "a1['newrank'] = [15 if x >= 15 else x for x in a1.index]\n",
    "a1\n",
    "a2 = a1.groupby(a1['newrank'])['No','Yes'].sum()\n",
    "a2['All'] = a2['No']+a2['Yes']\n",
    "a2['no_p'] = a2['No']/a2['All']*100\n",
    "a2['yes_p'] = a2['Yes']/a2['All']*100"
   ]
  },
  {
   "cell_type": "code",
   "execution_count": 217,
   "metadata": {},
   "outputs": [
    {
     "data": {
      "image/png": "[encoded data removed]",
      "text/plain": [
       "<Figure size 1080x360 with 1 Axes>"
      ]
     },
     "metadata": {},
     "output_type": "display_data"
    }
   ],
   "source": [
    "bargraph(a2,15,5,'prior_appt_count')"
   ]
  },
  {
   "cell_type": "markdown",
   "metadata": {},
   "source": [
    "#### Prior no-show count"
   ]
  },
  {
   "cell_type": "code",
   "execution_count": 5,
   "metadata": {},
   "outputs": [
    {
     "data": {
      "text/html": [
       "<div>\n",
       "<style scoped>\n",
       "    .dataframe tbody tr th:only-of-type {\n",
       "        vertical-align: middle;\n",
       "    }\n",
       "\n",
       "    .dataframe tbody tr th {\n",
       "        vertical-align: top;\n",
       "    }\n",
       "\n",
       "    .dataframe thead th {\n",
       "        text-align: right;\n",
       "    }\n",
       "</style>\n",
       "<table border=\"1\" class=\"dataframe\">\n",
       "  <thead>\n",
       "    <tr style=\"text-align: right;\">\n",
       "      <th>No_show</th>\n",
       "      <th>No</th>\n",
       "      <th>Yes</th>\n",
       "      <th>All</th>\n",
       "      <th>no_p</th>\n",
       "      <th>yes_p</th>\n",
       "    </tr>\n",
       "    <tr>\n",
       "      <th>prior_no_show_count</th>\n",
       "      <th></th>\n",
       "      <th></th>\n",
       "      <th></th>\n",
       "      <th></th>\n",
       "      <th></th>\n",
       "    </tr>\n",
       "  </thead>\n",
       "  <tbody>\n",
       "    <tr>\n",
       "      <td>0.0</td>\n",
       "      <td>45278</td>\n",
       "      <td>16387</td>\n",
       "      <td>61665</td>\n",
       "      <td>73.425768</td>\n",
       "      <td>26.574232</td>\n",
       "    </tr>\n",
       "    <tr>\n",
       "      <td>1.0</td>\n",
       "      <td>4567</td>\n",
       "      <td>2776</td>\n",
       "      <td>7343</td>\n",
       "      <td>62.195288</td>\n",
       "      <td>37.804712</td>\n",
       "    </tr>\n",
       "    <tr>\n",
       "      <td>2.0</td>\n",
       "      <td>870</td>\n",
       "      <td>627</td>\n",
       "      <td>1497</td>\n",
       "      <td>58.116232</td>\n",
       "      <td>41.883768</td>\n",
       "    </tr>\n",
       "    <tr>\n",
       "      <td>3.0</td>\n",
       "      <td>211</td>\n",
       "      <td>200</td>\n",
       "      <td>411</td>\n",
       "      <td>51.338200</td>\n",
       "      <td>48.661800</td>\n",
       "    </tr>\n",
       "    <tr>\n",
       "      <td>4.0</td>\n",
       "      <td>75</td>\n",
       "      <td>73</td>\n",
       "      <td>148</td>\n",
       "      <td>50.675676</td>\n",
       "      <td>49.324324</td>\n",
       "    </tr>\n",
       "    <tr>\n",
       "      <td>5.0</td>\n",
       "      <td>24</td>\n",
       "      <td>32</td>\n",
       "      <td>56</td>\n",
       "      <td>42.857143</td>\n",
       "      <td>57.142857</td>\n",
       "    </tr>\n",
       "    <tr>\n",
       "      <td>6.0</td>\n",
       "      <td>8</td>\n",
       "      <td>14</td>\n",
       "      <td>22</td>\n",
       "      <td>36.363636</td>\n",
       "      <td>63.636364</td>\n",
       "    </tr>\n",
       "    <tr>\n",
       "      <td>7.0</td>\n",
       "      <td>0</td>\n",
       "      <td>9</td>\n",
       "      <td>9</td>\n",
       "      <td>0.000000</td>\n",
       "      <td>100.000000</td>\n",
       "    </tr>\n",
       "    <tr>\n",
       "      <td>8.0</td>\n",
       "      <td>2</td>\n",
       "      <td>4</td>\n",
       "      <td>6</td>\n",
       "      <td>33.333333</td>\n",
       "      <td>66.666667</td>\n",
       "    </tr>\n",
       "    <tr>\n",
       "      <td>9.0</td>\n",
       "      <td>0</td>\n",
       "      <td>4</td>\n",
       "      <td>4</td>\n",
       "      <td>0.000000</td>\n",
       "      <td>100.000000</td>\n",
       "    </tr>\n",
       "    <tr>\n",
       "      <td>10.0</td>\n",
       "      <td>0</td>\n",
       "      <td>2</td>\n",
       "      <td>2</td>\n",
       "      <td>0.000000</td>\n",
       "      <td>100.000000</td>\n",
       "    </tr>\n",
       "    <tr>\n",
       "      <td>All</td>\n",
       "      <td>51035</td>\n",
       "      <td>20128</td>\n",
       "      <td>71163</td>\n",
       "      <td>71.715639</td>\n",
       "      <td>28.284361</td>\n",
       "    </tr>\n",
       "  </tbody>\n",
       "</table>\n",
       "</div>"
      ],
      "text/plain": [
       "No_show                 No    Yes    All       no_p       yes_p\n",
       "prior_no_show_count                                            \n",
       "0.0                  45278  16387  61665  73.425768   26.574232\n",
       "1.0                   4567   2776   7343  62.195288   37.804712\n",
       "2.0                    870    627   1497  58.116232   41.883768\n",
       "3.0                    211    200    411  51.338200   48.661800\n",
       "4.0                     75     73    148  50.675676   49.324324\n",
       "5.0                     24     32     56  42.857143   57.142857\n",
       "6.0                      8     14     22  36.363636   63.636364\n",
       "7.0                      0      9      9   0.000000  100.000000\n",
       "8.0                      2      4      6  33.333333   66.666667\n",
       "9.0                      0      4      4   0.000000  100.000000\n",
       "10.0                     0      2      2   0.000000  100.000000\n",
       "All                  51035  20128  71163  71.715639   28.284361"
      ]
     },
     "execution_count": 5,
     "metadata": {},
     "output_type": "execute_result"
    }
   ],
   "source": [
    "b = crosstab('prior_no_show_count',appt_v4)\n",
    "b"
   ]
  },
  {
   "cell_type": "code",
   "execution_count": 8,
   "metadata": {},
   "outputs": [
    {
     "data": {
      "image/png": "[encoded data removed]",
      "text/plain": [
       "<Figure size 1080x504 with 1 Axes>"
      ]
     },
     "metadata": {
      "needs_background": "light"
     },
     "output_type": "display_data"
    }
   ],
   "source": [
    "bargraph(b[:-1],15,7,'prior_no_show_count','Number of Prior Missed Appointments')"
   ]
  },
  {
   "cell_type": "markdown",
   "metadata": {},
   "source": [
    "#### Age"
   ]
  },
  {
   "cell_type": "code",
   "execution_count": 190,
   "metadata": {},
   "outputs": [
    {
     "data": {
      "text/html": [
       "<div>\n",
       "<style scoped>\n",
       "    .dataframe tbody tr th:only-of-type {\n",
       "        vertical-align: middle;\n",
       "    }\n",
       "\n",
       "    .dataframe tbody tr th {\n",
       "        vertical-align: top;\n",
       "    }\n",
       "\n",
       "    .dataframe thead th {\n",
       "        text-align: right;\n",
       "    }\n",
       "</style>\n",
       "<table border=\"1\" class=\"dataframe\">\n",
       "  <thead>\n",
       "    <tr style=\"text-align: right;\">\n",
       "      <th>No_show</th>\n",
       "      <th>No</th>\n",
       "      <th>Yes</th>\n",
       "      <th>All</th>\n",
       "      <th>no_p</th>\n",
       "      <th>yes_p</th>\n",
       "    </tr>\n",
       "    <tr>\n",
       "      <th>Age2</th>\n",
       "      <th></th>\n",
       "      <th></th>\n",
       "      <th></th>\n",
       "      <th></th>\n",
       "      <th></th>\n",
       "    </tr>\n",
       "  </thead>\n",
       "  <tbody>\n",
       "    <tr>\n",
       "      <td>0</td>\n",
       "      <td>1535</td>\n",
       "      <td>580</td>\n",
       "      <td>2115</td>\n",
       "      <td>72.576832</td>\n",
       "      <td>27.423168</td>\n",
       "    </tr>\n",
       "    <tr>\n",
       "      <td>1</td>\n",
       "      <td>688</td>\n",
       "      <td>387</td>\n",
       "      <td>1075</td>\n",
       "      <td>64.000000</td>\n",
       "      <td>36.000000</td>\n",
       "    </tr>\n",
       "    <tr>\n",
       "      <td>2</td>\n",
       "      <td>491</td>\n",
       "      <td>220</td>\n",
       "      <td>711</td>\n",
       "      <td>69.057665</td>\n",
       "      <td>30.942335</td>\n",
       "    </tr>\n",
       "    <tr>\n",
       "      <td>3</td>\n",
       "      <td>546</td>\n",
       "      <td>255</td>\n",
       "      <td>801</td>\n",
       "      <td>68.164794</td>\n",
       "      <td>31.835206</td>\n",
       "    </tr>\n",
       "    <tr>\n",
       "      <td>4</td>\n",
       "      <td>482</td>\n",
       "      <td>256</td>\n",
       "      <td>738</td>\n",
       "      <td>65.311653</td>\n",
       "      <td>34.688347</td>\n",
       "    </tr>\n",
       "    <tr>\n",
       "      <td>...</td>\n",
       "      <td>...</td>\n",
       "      <td>...</td>\n",
       "      <td>...</td>\n",
       "      <td>...</td>\n",
       "      <td>...</td>\n",
       "    </tr>\n",
       "    <tr>\n",
       "      <td>82</td>\n",
       "      <td>190</td>\n",
       "      <td>64</td>\n",
       "      <td>254</td>\n",
       "      <td>74.803150</td>\n",
       "      <td>25.196850</td>\n",
       "    </tr>\n",
       "    <tr>\n",
       "      <td>83</td>\n",
       "      <td>151</td>\n",
       "      <td>57</td>\n",
       "      <td>208</td>\n",
       "      <td>72.596154</td>\n",
       "      <td>27.403846</td>\n",
       "    </tr>\n",
       "    <tr>\n",
       "      <td>84</td>\n",
       "      <td>168</td>\n",
       "      <td>33</td>\n",
       "      <td>201</td>\n",
       "      <td>83.582090</td>\n",
       "      <td>16.417910</td>\n",
       "    </tr>\n",
       "    <tr>\n",
       "      <td>85</td>\n",
       "      <td>730</td>\n",
       "      <td>226</td>\n",
       "      <td>956</td>\n",
       "      <td>76.359833</td>\n",
       "      <td>23.640167</td>\n",
       "    </tr>\n",
       "    <tr>\n",
       "      <td>All</td>\n",
       "      <td>51035</td>\n",
       "      <td>20128</td>\n",
       "      <td>71163</td>\n",
       "      <td>71.715639</td>\n",
       "      <td>28.284361</td>\n",
       "    </tr>\n",
       "  </tbody>\n",
       "</table>\n",
       "<p>87 rows × 5 columns</p>\n",
       "</div>"
      ],
      "text/plain": [
       "No_show     No    Yes    All       no_p      yes_p\n",
       "Age2                                              \n",
       "0         1535    580   2115  72.576832  27.423168\n",
       "1          688    387   1075  64.000000  36.000000\n",
       "2          491    220    711  69.057665  30.942335\n",
       "3          546    255    801  68.164794  31.835206\n",
       "4          482    256    738  65.311653  34.688347\n",
       "...        ...    ...    ...        ...        ...\n",
       "82         190     64    254  74.803150  25.196850\n",
       "83         151     57    208  72.596154  27.403846\n",
       "84         168     33    201  83.582090  16.417910\n",
       "85         730    226    956  76.359833  23.640167\n",
       "All      51035  20128  71163  71.715639  28.284361\n",
       "\n",
       "[87 rows x 5 columns]"
      ]
     },
     "execution_count": 190,
     "metadata": {},
     "output_type": "execute_result"
    }
   ],
   "source": [
    "c = crosstab('Age2',appt_v4)\n",
    "c"
   ]
  },
  {
   "cell_type": "code",
   "execution_count": null,
   "metadata": {},
   "outputs": [],
   "source": [
    "df_ages['age_by_decade'] = pd.cut(x=df_ages['age'], bins=[20, 29, 39, 49], labels=['20s', '30s', '40s'])\n"
   ]
  },
  {
   "cell_type": "code",
   "execution_count": 201,
   "metadata": {},
   "outputs": [],
   "source": [
    "c1 = c[:-1].copy()\n",
    "c1['agegroup'] = pd.cut(x=c1.index,bins=[-1,9,19,29,39,49,59,69,79,120],labels=['0-9','10-19','20-29','30-39','40-49','50-59','60-69','70-79','85+'])\n",
    "c2 = c1.groupby(c1['agegroup'])['No','Yes'].sum()\n",
    "c2['All'] = c2['No']+c2['Yes']\n",
    "c2['no_p'] = c2['No']/c2['All']*100\n",
    "c2['yes_p'] = c2['Yes']/c2['All']*100"
   ]
  },
  {
   "cell_type": "code",
   "execution_count": 205,
   "metadata": {},
   "outputs": [
    {
     "data": {
      "text/plain": [
       "['0-9\\nN=7849',\n",
       " '10-19\\nN=7870',\n",
       " '20-29\\nN=8843',\n",
       " '30-39\\nN=9727',\n",
       " '40-49\\nN=9234',\n",
       " '50-59\\nN=10833',\n",
       " '60-69\\nN=8282',\n",
       " '70-79\\nN=4148',\n",
       " '85+\\nN=2262']"
      ]
     },
     "execution_count": 205,
     "metadata": {},
     "output_type": "execute_result"
    }
   ],
   "source": [
    "x_labels=[]\n",
    "for row in c2.iterrows():\n",
    "    x_labels.append(f\"{row[0]}\\nN={int(row[1][2])}\")\n",
    "x_labels"
   ]
  },
  {
   "cell_type": "code",
   "execution_count": 218,
   "metadata": {},
   "outputs": [
    {
     "data": {
      "image/png": "[encoded data removed]",
      "text/plain": [
       "<Figure size 1080x504 with 1 Axes>"
      ]
     },
     "metadata": {},
     "output_type": "display_data"
    }
   ],
   "source": [
    "bargraph(c2,15,7,'age','s')"
   ]
  },
  {
   "cell_type": "markdown",
   "metadata": {},
   "source": [
    "#### Conditions"
   ]
  },
  {
   "cell_type": "code",
   "execution_count": null,
   "metadata": {},
   "outputs": [],
   "source": [
    "def bargraph2(df,figx,figy):\n",
    "    #get labels with N counts\n",
    "    x_labels=[]\n",
    "    for row in df.iterrows():\n",
    "        if row[0]==0:\n",
    "            row[0]=='No'\n",
    "            row[1]=='Yes'\n",
    "        x_labels.append(f\"{int(row[0])}\\nN={int(row[1][2])}\")\n",
    "    plt.figure(figsize=(figx,figy))\n",
    "    plt.bar(df.index.values.astype(str),df['no_p']+df['yes_p'],color='#df8b60',label='Attended')\n",
    "    plt.bar(df.index.values.astype(str),df['yes_p'],color='#6aadaa',label='Missed')\n",
    "    plt.xticks(ticks=range(len(df)),labels=x_labels)\n",
    "#     plt.legend(loc='best')\n",
    "    return plt.show();"
   ]
  },
  {
   "cell_type": "code",
   "execution_count": 219,
   "metadata": {},
   "outputs": [],
   "source": [
    "d1 = crosstab('Hipertension',appt_v4)\n",
    "d2 = crosstab('Diabetes',appt_v4)\n",
    "d3 = crosstab('Alcoholism',appt_v4)\n",
    "d4 = crosstab('Handcap_bin',appt_v4)\n",
    "d5 = crosstab('Scholarship',appt_v4)"
   ]
  },
  {
   "cell_type": "code",
   "execution_count": 222,
   "metadata": {},
   "outputs": [
    {
     "data": {
      "image/png": "[encoded data removed]",
      "text/plain": [
       "<Figure size 432x216 with 1 Axes>"
      ]
     },
     "metadata": {},
     "output_type": "display_data"
    }
   ],
   "source": [
    "bargraph(d1[:-1],6,3,'hipertension')"
   ]
  },
  {
   "cell_type": "code",
   "execution_count": 223,
   "metadata": {},
   "outputs": [
    {
     "data": {
      "image/png": "[encoded data removed]",
      "text/plain": [
       "<Figure size 432x216 with 1 Axes>"
      ]
     },
     "metadata": {},
     "output_type": "display_data"
    }
   ],
   "source": [
    "bargraph(d2[:-1],6,3,'diabetes')"
   ]
  },
  {
   "cell_type": "code",
   "execution_count": 224,
   "metadata": {},
   "outputs": [
    {
     "data": {
      "image/png": "[encoded data removed]",
      "text/plain": [
       "<Figure size 432x216 with 1 Axes>"
      ]
     },
     "metadata": {},
     "output_type": "display_data"
    }
   ],
   "source": [
    "bargraph(d3[:-1],6,3,'alcoholism')"
   ]
  },
  {
   "cell_type": "code",
   "execution_count": 225,
   "metadata": {},
   "outputs": [
    {
     "data": {
      "image/png": "[encoded data removed]",
      "text/plain": [
       "<Figure size 432x216 with 1 Axes>"
      ]
     },
     "metadata": {},
     "output_type": "display_data"
    }
   ],
   "source": [
    "bargraph(d4[:-1],6,3,'handcap_bin')"
   ]
  },
  {
   "cell_type": "code",
   "execution_count": 226,
   "metadata": {},
   "outputs": [
    {
     "data": {
      "image/png": "[encoded data removed]",
      "text/plain": [
       "<Figure size 504x360 with 1 Axes>"
      ]
     },
     "metadata": {},
     "output_type": "display_data"
    }
   ],
   "source": [
    "bargraph(d5[:-1],7,5,'scholarship')"
   ]
  },
  {
   "cell_type": "code",
   "execution_count": null,
   "metadata": {},
   "outputs": [],
   "source": []
  }
 ],
 "metadata": {
  "kernelspec": {
   "display_name": "Python [conda env:metis] *",
   "language": "python",
   "name": "conda-env-metis-py"
  },
  "language_info": {
   "codemirror_mode": {
    "name": "ipython",
    "version": 3
   },
   "file_extension": ".py",
   "mimetype": "text/x-python",
   "name": "python",
   "nbconvert_exporter": "python",
   "pygments_lexer": "ipython3",
   "version": "3.6.9"
  }
 },
 "nbformat": 4,
 "nbformat_minor": 2
}
