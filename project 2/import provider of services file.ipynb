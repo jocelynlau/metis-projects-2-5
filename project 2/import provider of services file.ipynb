{
 "cells": [
  {
   "cell_type": "markdown",
   "metadata": {},
   "source": [
    "### Import Provider of Services file\n",
    "Separate notebook due to large size of POS "
   ]
  },
  {
   "cell_type": "code",
   "execution_count": 1,
   "metadata": {},
   "outputs": [],
   "source": [
    "import pandas as pd\n",
    "import numpy as np\n",
    "import pickle\n",
    "import matplotlib.pyplot as plt\n",
    "%matplotlib inline"
   ]
  },
  {
   "cell_type": "code",
   "execution_count": 2,
   "metadata": {},
   "outputs": [
    {
     "data": {
      "text/plain": [
       "(144110, 473)"
      ]
     },
     "execution_count": 2,
     "metadata": {},
     "output_type": "execute_result"
    }
   ],
   "source": [
    "pos = pd.read_csv('POS_OTHER_DEC17.csv',dtype=object)\n",
    "pos.shape"
   ]
  },
  {
   "cell_type": "code",
   "execution_count": 3,
   "metadata": {},
   "outputs": [],
   "source": [
    "with open('hosp.pickle','rb') as read_file:\n",
    "    hosp = pickle.load(read_file)"
   ]
  },
  {
   "cell_type": "code",
   "execution_count": 4,
   "metadata": {},
   "outputs": [
    {
     "name": "stdout",
     "output_type": "stream",
     "text": [
      "PRVDR_CTGRY_SBTYP_CD\n",
      "PRVDR_CTGRY_CD\n",
      "CHOW_CNT\n",
      "CHOW_DT\n",
      "CITY_NAME\n",
      "ACPTBL_POC_SW\n",
      "CMPLNC_STUS_CD\n",
      "SSA_CNTY_CD\n",
      "CROSS_REF_PROVIDER_NUMBER\n",
      "CRTFCTN_DT\n",
      "ELGBLTY_SW\n",
      "FAC_NAME\n",
      "INTRMDRY_CARR_CD\n",
      "MDCD_VNDR_NUM\n",
      "ORGNL_PRTCPTN_DT\n",
      "CHOW_PRIOR_DT\n",
      "INTRMDRY_CARR_PRIOR_CD\n",
      "PRVDR_NUM\n",
      "RGN_CD\n",
      "SKLTN_REC_SW\n",
      "STATE_CD\n",
      "SSA_STATE_CD\n",
      "STATE_RGN_CD\n",
      "ST_ADR\n",
      "PHNE_NUM\n",
      "PGM_TRMNTN_CD\n",
      "TRMNTN_EXPRTN_DT\n",
      "CRTFCTN_ACTN_TYPE_CD\n",
      "GNRL_CNTL_TYPE_CD\n",
      "ZIP_CD\n",
      "FIPS_STATE_CD\n",
      "FIPS_CNTY_CD\n",
      "CBSA_URBN_RRL_IND\n",
      "CBSA_CD\n",
      "ACRDTN_EFCTV_DT\n",
      "ACRDTN_EXPRTN_DT\n",
      "ACRDTN_TYPE_CD\n",
      "TOT_AFLTD_AMBLNC_SRVC_CNT\n",
      "TOT_AFLTD_ASC_CNT\n",
      "TOT_COLCTD_HOSP_CNT\n",
      "TOT_AFLTD_ESRD_CNT\n",
      "TOT_AFLTD_FQHC_CNT\n",
      "TOT_AFLTD_HHA_CNT\n",
      "TOT_AFLTD_HOSPC_CNT\n",
      "TOT_AFLTD_OPO_CNT\n",
      "TOT_AFLTD_PRTF_CNT\n",
      "TOT_AFLTD_RHC_CNT\n",
      "TOT_AFLTD_SNF_CNT\n",
      "AFLTD_PRVDR_CNT\n",
      "RSDNT_PGM_ALPTHC_SW\n",
      "RSDNT_PGM_DNTL_SW\n",
      "RSDNT_PGM_OSTPTHC_SW\n",
      "RSDNT_PGM_OTHR_SW\n",
      "RSDNT_PGM_PDTRC_SW\n",
      "LAB_SRVC_CD\n",
      "PHRMCY_SRVC_CD\n",
      "RDLGY_SRVC_CD\n",
      "ASC_BGN_SRVC_DT\n",
      "FREESTNDNG_ASC_SW\n",
      "OVRRD_BED_CNT_SW\n",
      "CRTFD_BED_CNT\n",
      "ICFIID_BED_CNT\n",
      "MDCD_NF_BED_CNT\n",
      "MDCR_SNF_BED_CNT\n",
      "MDCR_MDCD_SNF_BED_CNT\n",
      "AIDS_BED_CNT\n",
      "ALZHMR_BED_CNT\n",
      "DLYS_BED_CNT\n",
      "DSBL_CHLDRN_BED_CNT\n",
      "HEAD_TRMA_BED_CNT\n",
      "HOSPC_BED_CNT\n",
      "HNTGTN_DEASE_BED_CNT\n",
      "REHAB_BED_CNT\n",
      "VNTLTR_BED_CNT\n",
      "BED_CNT\n",
      "BRNCH_CNT\n",
      "BRNCH_OPRTN_SW\n",
      "CAH_PSYCH_DPU_SW\n",
      "CAH_REHAB_DPU_SW\n",
      "CAH_SB_SW\n",
      "CRDC_CTHRTZTN_PRCDR_ROOMS_CNT\n",
      "GNRL_FAC_TYPE_CD\n",
      "CHOW_SW\n",
      "CLIA_ID_NUMBER_1\n",
      "CLIA_ID_NUMBER_2\n",
      "CLIA_ID_NUMBER_3\n",
      "CLIA_ID_NUMBER_4\n",
      "CLIA_ID_NUMBER_5\n",
      "COLCTN_STUS_SW\n",
      "RN_24_HR_WVR_SW\n",
      "RN_7_DAY_WVR_SW\n",
      "BED_PER_ROOM_WVR_SW\n",
      "LSC_WVR_SW\n",
      "ROOM_SIZE_WVR_SW\n",
      "ENDSCPY_PRCDR_ROOMS_CNT\n",
      "ESRD_NTWRK_NUM\n",
      "EXPRMT_RSRCH_CNDCTD_SW\n",
      "FAX_PHNE_NUM\n",
      "FY_END_MO_DAY_CD\n",
      "FQHC_APPROVED_RHC_PROVIDER_NUM\n",
      "FED_FUNDD_FQHC_SW\n",
      "HHA_QLFYD_OPT_SPCH_SW\n",
      "HH_AIDE_TRNG_PGM_CD\n",
      "HOME_TRNG_SPRT_ONLY_SRVC_SW\n",
      "MDCR_HOSPC_SW\n",
      "HOSP_BSD_SW\n",
      "INCNTR_NCTRNL_SRVC_SW\n",
      "LTC_CROSS_REF_PROVIDER_NUMBER\n",
      "MDCL_SCHL_AFLTN_CD\n",
      "MEDICARE_HOSPICE_PROVIDER_NUM\n",
      "MDCD_MDCR_PRTCPTG_PRVDR_SW\n",
      "MEDICARE_MEDICAID_PRVDR_NUMBER\n",
      "MLT_FAC_ORG_NAME\n",
      "MLT_OWND_FAC_ORG_SW\n",
      "NCRY_PRVDR_DSGNTD_DT\n",
      "NCRY_PRVDR_DSGNTD_AS_SW\n",
      "NCRY_PRVDR_LOST_DT\n",
      "MEET_1861_SW\n",
      "NPP_TYPE_CD\n",
      "TOT_OFSITE_CNCR_HOSP_CNT\n",
      "TOT_OFSITE_CHLDRN_HOSP_CNT\n",
      "TOT_OFSITE_EMER_DEPT_CNT\n",
      "TOT_OFSITE_INPTNT_LCTN_CNT\n",
      "TOT_OFSITE_LTC_HOSP_CNT\n",
      "TOT_OFSITE_OPTHLMC_SRGRY_CNT\n",
      "TOT_OFSITE_OTHR_LCTN_CNT\n",
      "TOT_OFSITE_PSYCH_HOSP_CNT\n",
      "TOT_OFSITE_PSYCH_UNIT_CNT\n",
      "TOT_OFSITE_REHAB_HOSP_CNT\n",
      "TOT_OFSITE_REHAB_UNIT_CNT\n",
      "TOT_OFSITE_URGNT_CARE_CNTR_CNT\n",
      "OFSITE_LCTN_CNT\n",
      "OPRTG_ROOM_CNT\n",
      "ORGNZ_FMLY_MBR_GRP_SW\n",
      "ORGNZ_RSDNT_GRP_SW\n",
      "PARENT_PROVIDER_NUMBER\n",
      "FQHC_APRVD_RHC_SW\n",
      "MDCR_PRTCPTN_OP_PT_SPCH_SW\n",
      "PGM_PRTCPTN_CD\n",
      "PRVDR_BSD_FAC_SW\n",
      "PRVNC_CD\n",
      "PSYCH_UNIT_BED_CNT\n",
      "PSYCH_UNIT_EFCTV_DT\n",
      "PSYCH_UNIT_SW\n",
      "PSYCH_UNIT_TRMNTN_CD\n",
      "PSYCH_UNIT_TRMNTN_DT\n",
      "REHAB_UNIT_BED_CNT\n",
      "REHAB_UNIT_EFCTV_DT\n",
      "REHAB_UNIT_SW\n",
      "REHAB_UNIT_TRMNTN_CD\n",
      "REHAB_UNIT_TRMNTN_DT\n",
      "RELATED_PROVIDER_NUMBER\n",
      "ACUTE_RNL_DLYS_SRVC_CD\n",
      "PSYCH_SRVC_CD\n",
      "HH_AIDE_SRVC_CD\n",
      "ALCHL_DRUG_SRVC_CD\n",
      "ANSTHSA_SRVC_CD\n",
      "APLNC_EQUIP_SRVC_CD\n",
      "AUDLGY_SRVC_CD\n",
      "BLOOD_SRVC_OFSITE_RSDNT_SW\n",
      "BLOOD_SRVC_ONST_NRSDNT_SW\n",
      "BLOOD_SRVC_ONST_RSDNT_SW\n",
      "BURN_CARE_UNIT_SRVC_CD\n",
      "CRDC_CTHRTZTN_LAB_SRVC_CD\n",
      "OPEN_HRT_SRGRY_SRVC_CD\n",
      "CARF_IP_REHAB_SRVC_CD\n",
      "CHMTHRPY_SRVC_CD\n",
      "CHRPRCTIC_SRVC_CD\n",
      "CL_SRVC_OFSITE_RSDNT_SW\n",
      "CL_SRVC_ONST_NRSDNT_SW\n",
      "CL_SRVC_ONST_RSDNT_SW\n",
      "CL_SRVC_CD\n",
      "CRNRY_CARE_UNIT_SRVC_CD\n",
      "CNSLNG_SRVC_CD\n",
      "CT_SCAN_SRVC_CD\n",
      "DNTL_SRVC_CD\n",
      "DNTL_SRVC_OFSITE_RSDNT_SW\n",
      "DNTL_SRVC_ONST_NRSDNT_SW\n",
      "DNTL_SRVC_ONST_RSDNT_SW\n",
      "SHCK_TRMA_SRVC_CD\n",
      "DGNSTC_RDLGY_SRVC_CD\n",
      "DTRY_SRVC_CD\n",
      "DTRY_OFSITE_RSDNT_SW\n",
      "DTRY_ONST_NRSDNT_SW\n",
      "DTRY_ONST_RSDNT_SW\n",
      "DCTD_ER_SRVC_CD\n",
      "EMER_PSYCH_SRVC_CD\n",
      "XTRCRPRL_SHCK_LTHTRPTR_SRVC_CD\n",
      "FRNSC_PSYCH_SRVC_CD\n",
      "GRTRC_PSYCH_SRVC_CD\n",
      "GRNTLGCL_SPCLTY_SRVC_CD\n",
      "SP_HOME_TRNG_SPRT_HD_SW\n",
      "HMDLYS_SRVC_SW\n",
      "HMMKR_SRVC_CD\n",
      "HSEKPNG_SRVC_OFSITE_RSDNT_SW\n",
      "HSEKPNG_SRVC_ONST_NRSDNT_SW\n",
      "HSEKPNG_SRVC_ONST_RSDNT_SW\n",
      "IP_SRGCL_SRVC_CD\n",
      "INTRN_RSDNT_SRVC_CD\n",
      "MDCL_SCL_SRVC_CD\n",
      "MDCL_SUPLY_SRVC_CD\n",
      "ICU_SRVC_CD\n",
      "MDCR_TRNSPLNT_CNTR_SRVC_CD\n",
      "MENTL_HLTH_OFSITE_RSDNT_SW\n",
      "MENTL_HLTH_ONST_NRSDNT_SW\n",
      "MENTL_HLTH_ONST_RSDNT_SW\n",
      "MGNTC_RSNC_IMG_SRVC_CD\n",
      "NEONTL_ICU_SRVC_CD\n",
      "NEONTL_NRSRY_SRVC_CD\n",
      "NRSRGCL_SRVC_CD\n",
      "ORGN_TRNSPLNT_SRVC_CD\n",
      "NUCLR_MDCN_SRVC_CD\n",
      "NRSNG_SRVC_EMPLEE_SW\n",
      "NRSNG_SRVC_CNTRCTR_SW\n",
      "NRSNG_SRVC_ARNGMT_SW\n",
      "NRSNG_SRVC_CD\n",
      "NRSNG_SRVC_OFSITE_RSDNT_SW\n",
      "NRSNG_SRVC_ONST_NRSDNT_SW\n",
      "NRSNG_SRVC_ONST_RSDNT_SW\n",
      "NTRTNL_GDNC_SRVC_CD\n",
      "OB_SRVC_CD\n",
      "OPTHLMC_SRGY_SRVC_CD\n",
      "OPTMTRC_SRVC_CD\n",
      "OPRTG_ROOM_SRVC_CD\n",
      "ORTHPDC_SRGY_SRVC_CD\n",
      "ORTHTC_PRSTHTC_EMPLEE_SW\n",
      "ORTHTC_PRSTHTC_CNTRCTR_SW\n",
      "ORTHTC_PRSTHTC_ARNGMT_SW\n",
      "OT_EMPLEE_SW\n",
      "OT_CNTRCTR_SW\n",
      "OT_ARNGMT_SW\n",
      "OT_SRVC_CD\n",
      "OT_SRVC_OFSITE_RSDNT_SW\n",
      "OT_SRVC_ONST_NRSDNT_SW\n",
      "OT_SRVC_ONST_RSDNT_SW\n",
      "OTHR_SRVC_CD\n",
      "OP_SRVC_CD\n",
      "OP_PSYCH_SRVC_CD\n",
      "OP_REHAB_SRVC_CD\n",
      "OP_SRGRY_UNIT_SRVC_CD\n",
      "PED_SRVC_CD\n",
      "PED_ICU_SRVC_CD\n",
      "SP_HOME_TRNG_SPRT_PD_SW\n",
      "PRTNL_DLYS_SRVC_SW\n",
      "PET_SCAN_SRVC_CD\n",
      "PHRMCY_SRVC_OFSITE_RSDNT_SW\n",
      "PHRMCY_SRVC_ONST_NRSDNT_SW\n",
      "PHRMCY_SRVC_ONST_RSDNT_SW\n",
      "PHYSN_EMPLEE_SW\n",
      "PHYSN_CNTRCTR_SW\n",
      "PHYSN_ARNGMT_SW\n",
      "PHYSN_SRVC_CD\n",
      "PHYSN_EXT_SRVC_OFSITE_RSDNT_SW\n",
      "PHYSN_EXT_SRVC_ONST_NRSDNT_SW\n",
      "PHYSN_EXT_SRVC_ONST_RSDNT_SW\n",
      "PHYSN_SRVC_OFSITE_RSDNT_SW\n",
      "PHYSN_SRVC_ONST_NRSDNT_SW\n",
      "PHYSN_SRVC_ONST_RSDNT_SW\n",
      "PDTRY_SRVC_OFSITE_RSDNT_SW\n",
      "PDTRY_SRVC_ONST_NRSDNT_SW\n",
      "PDTRY_SRVC_ONST_RSDNT_SW\n",
      "PSTOPRTV_RCVRY_SRVC_CD\n",
      "CHLD_ADLSCNT_PSYCH_SRVC_CD\n",
      "PSYCHLGCL_EMPLEE_SW\n",
      "PSYCHLGCL_CNTRCTR_SW\n",
      "PSYCHLGCL_ARNGMT_SW\n",
      "PT_EMPLEE_SW\n",
      "PT_CNTRCTR_SW\n",
      "PT_ARNGMT_SW\n",
      "PT_SRVC_CD\n",
      "PT_OFSITE_RSDNT_SW\n",
      "PT_ONST_NRSDNT_SW\n",
      "PT_ONST_RSDNT_SW\n",
      "RCNSTRCTN_SRGY_SRVC_CD\n",
      "RSPRTRY_CARE_EMPLEE_SW\n",
      "RSPRTRY_CARE_CNTRCTR_SW\n",
      "RSPRTRY_CARE_ARNGMT_SW\n",
      "RSPRTRY_CARE_SRVC_CD\n",
      "SHRT_TERM_IP_SRVC_CD\n",
      "SCL_EMPLEE_SW\n",
      "SCL_CNTRCTR_SW\n",
      "SCL_ARNGMT_SW\n",
      "SCL_SRVC_CD\n",
      "SCL_WORK_SRVC_OFSITE_RSDNT_SW\n",
      "SCL_WORK_SRVC_ONST_NRSDNT_SW\n",
      "SCL_WORK_SRVC_ONST_RSDNT_SW\n",
      "SPCH_PTHLGY_EMPLEE_SW\n",
      "SPCH_PTHLGY_CNTRCTR_SW\n",
      "SPCH_PTHLGY_ARNGMT_SW\n",
      "SPCH_PTHLGY_SRVC_CD\n",
      "SPCH_PTHLGY_OFSITE_RSDNT_SW\n",
      "SPCH_PTHLGY_ONST_NRSDNT_SW\n",
      "SPCH_PTHLGY_ONST_RSDNT_SW\n",
      "SPCH_THRPY_SRVC_CD\n",
      "SRGCL_ICU_SRVC_CD\n",
      "ACTVTY_OTHR_OFSITE_RSDNT_SW\n",
      "ACTVTY_OTHR_ONST_NRSDNT_SW\n",
      "ACTVTY_OTHR_ONST_RSDNT_SW\n",
      "SCL_SRVC_OTHR_OFSITE_RSDNT_SW\n",
      "SCL_SRVC_OTHR_ONST_NRSDNT_SW\n",
      "SCL_SRVC_OTHR_ONST_RSDNT_SW\n",
      "ACTVTY_OFSITE_RSDNT_SW\n",
      "ACTVTY_ONST_NRSDNT_SW\n",
      "ACTVTY_ONST_RSDNT_SW\n",
      "THRPTC_RDLGY_SRVC_CD\n",
      "THRPTC_RCRTNL_OFSITE_RSDNT_SW\n",
      "THRPTC_RCRTNL_ONST_NRSDNT_SW\n",
      "THRPTC_RCRTNL_ONST_RSDNT_SW\n",
      "URGNT_CARE_SRVC_CD\n",
      "VCTNL_GDNC_SRVC_CD\n",
      "VCTNL_SRVC_OFSITE_RSDNT_SW\n",
      "VCTNL_SRVC_ONST_NRSDNT_SW\n",
      "VCTNL_SRVC_ONST_RSDNT_SW\n",
      "DGNSTC_XRAY_OFSITE_RSDNT_SW\n",
      "DGNSTC_XRAY_ONST_NRSDNT_SW\n",
      "DGNSTC_XRAY_ONST_RSDNT_SW\n",
      "ACUTE_RESP_CARE_CD\n",
      "OVRRD_STFG_SW\n",
      "PROFNL_ADMIN_CNTRCT_CNT\n",
      "PROFNL_ADMIN_FLTM_CNT\n",
      "PROFNL_ADMIN_PRTM_CNT\n",
      "HH_AIDE_EMPLEE_CNT\n",
      "HH_AIDE_VLNTR_CNT\n",
      "PRSNEL_OTHR_CNT\n",
      "NRS_AIDE_CNTRCT_CNT\n",
      "NRS_AIDE_FLTM_CNT\n",
      "NRS_AIDE_PRTM_CNT\n",
      "CNSLR_EMPLEE_CNT\n",
      "CNSLR_VLNTR_CNT\n",
      "CRNA_CNT\n",
      "DNTST_CNTRCT_CNT\n",
      "DNTST_FLTM_CNT\n",
      "DNTST_PRTM_CNT\n",
      "DIETN_CNT\n",
      "DIETN_CNTRCT_CNT\n",
      "DIETN_FLTM_CNT\n",
      "DIETN_PRTM_CNT\n",
      "DRCT_CARE_PRSNEL_CNT\n",
      "FOOD_SRVC_CNTRCT_CNT\n",
      "FOOD_SRVC_FLTM_CNT\n",
      "FOOD_SRVC_PRTM_CNT\n",
      "HH_AIDE_CNT\n",
      "HMMKR_EMPLEE_CNT\n",
      "HMMKR_VLNTR_CNT\n",
      "HSEKPNG_CNTRCT_CNT\n",
      "HSEKPNG_FLTM_CNT\n",
      "HSEKPNG_PRTM_CNT\n",
      "LAB_TCHNCN_CNT\n",
      "LPN_CNT\n",
      "LPN_LVN_CNT\n",
      "LPN_LVN_CNTRCT_CNT\n",
      "LPN_LVN_FLTM_CNT\n",
      "LPN_LVN_PRTM_CNT\n",
      "LPN_LVN_VLNTR_CNT\n",
      "MDCL_DRCTR_CNTRCT_CNT\n",
      "MDCL_DRCTR_FLTM_CNT\n",
      "MDCL_DRCTR_PRTM_CNT\n",
      "MDCL_SCL_WORKR_CNT\n",
      "MDCL_SCL_WORKR_VLNTR_CNT\n",
      "MDCL_TCHNLGST_CNT\n",
      "MDCTN_AIDE_CNTRCT_CNT\n",
      "MDCTN_AIDE_FLTM_CNT\n",
      "MDCTN_AIDE_PRTM_CNT\n",
      "MENTL_HLTH_SRVC_CNTRCT_CNT\n",
      "MENTL_HLTH_SRVC_FLTM_CNT\n",
      "MENTL_HLTH_SRVC_PRTM_CNT\n",
      "NUCLR_MDCN_TCHNCN_CNT\n",
      "NAT_CNTRCT_CNT\n",
      "NAT_FLTM_CNT\n",
      "NAT_PRTM_CNT\n",
      "NRS_PRCTNR_CNT\n",
      "NRS_ADMINV_CNTRCT_CNT\n",
      "NRS_ADMINV_FLTM_CNT\n",
      "NRS_ADMINV_PRTM_CNT\n",
      "OCPTNL_THRPST_CNT\n",
      "OCPTNL_THRPST_CNTRCT_CNT\n",
      "OCPTNL_THRPST_FLTM_CNT\n",
      "OCPTNL_THRPST_PRTM_CNT\n",
      "OT_AIDE_CNTRCT_CNT\n",
      "OT_AIDE_FLTM_CNT\n",
      "OT_AIDE_PRTM_CNT\n",
      "OT_ASTNT_CNTRCT_CNT\n",
      "OT_ASTNT_FLTM_CNT\n",
      "OT_ASTNT_PRTM_CNT\n",
      "VLNTR_OTHR_CNT\n",
      "ACTVTY_STF_OTHR_CNTRCT_CNT\n",
      "ACTVTY_STF_OTHR_FLTM_CNT\n",
      "ACTVTY_STF_OTHR_PRTM_CNT\n",
      "PHYSN_OTHR_CNTRCT_CNT\n",
      "PHYSN_OTHR_FLTM_CNT\n",
      "PHYSN_OTHR_PRTM_CNT\n",
      "SCL_SRVC_OTHR_STF_CNTRCT_CNT\n",
      "SCL_SRVC_OTHR_STF_FLTM_CNT\n",
      "SCL_SRVC_OTHR_STF_PRTM_CNT\n",
      "STF_OTHR_CNTRCT_CNT\n",
      "STF_OTHR_FLTM_CNT\n",
      "STF_OTHR_PRTM_CNT\n",
      "PHRMCST_CNTRCT_CNT\n",
      "PHRMCST_FLTM_CNT\n",
      "PHRMCST_PRTM_CNT\n",
      "PHYS_THRPST_CNTRCT_CNT\n",
      "PHYS_THRPST_FLTM_CNT\n",
      "PHYS_THRPST_PRTM_CNT\n",
      "PHYSN_CNT\n",
      "PHYSN_VLNTR_CNT\n",
      "PHYSN_ASTNT_CNT\n",
      "PHYSN_EXT_CNTRCT_CNT\n",
      "PHYSN_EXT_FLTM_CNT\n",
      "PHYSN_EXT_PRTM_CNT\n",
      "RSDNT_PHYSN_CNT\n",
      "PDTRST_CNTRCT_CNT\n",
      "PDTRST_FLTM_CNT\n",
      "PDTRST_PRTM_CNT\n",
      "PSYCHLGST_CNT\n",
      "PHYS_THRPST_STF_CNT\n",
      "PHYS_THRPST_CNT\n",
      "PHYS_THRPST_ARNGMT_CNT\n",
      "PT_AIDE_CNTRCT_CNT\n",
      "PT_AIDE_FLTM_CNT\n",
      "PT_AIDE_PRTM_CNT\n",
      "PT_ASTNT_CNTRCT_CNT\n",
      "PT_ASTNT_FLTM_CNT\n",
      "PT_ASTNT_PRTM_CNT\n",
      "ACTVTY_PROFNL_CNTRCT_CNT\n",
      "ACTVTY_PROFNL_FLTM_CNT\n",
      "ACTVTY_PROFNL_PRTM_CNT\n",
      "RDLGY_TCHNCN_CNT\n",
      "REG_PHRMCST_CNT\n",
      "INHLTN_THRPST_CNT\n",
      "RN_CNT\n",
      "RN_CNTRCT_CNT\n",
      "RN_FLTM_CNT\n",
      "RN_PRTM_CNT\n",
      "RN_VLNTR_CNT\n",
      "RN_DRCTR_CNTRCT_CNT\n",
      "RN_DRCTR_FLTM_CNT\n",
      "RN_DRCTR_PRTM_CNT\n",
      "SCL_WORKR_CNT\n",
      "SCL_WORKR_CNTRCT_CNT\n",
      "SCL_WORKR_FLTM_CNT\n",
      "SCL_WORKR_PRTM_CNT\n",
      "SPCH_PTHLGST_ARNGMT_CNT\n",
      "SPCH_PTHLGST_CNTRCT_CNT\n",
      "SPCH_PTHLGST_FLTM_CNT\n",
      "SPCH_PTHLGST_PRTM_CNT\n",
      "SPCH_PTHLGST_CNT\n",
      "SPCH_PTHLGST_AUDLGST_CNT\n",
      "TCHNCL_STF_NUM\n",
      "TCHNCN_CNT\n",
      "THRPTC_RCRTNL_CNTRCT_CNT\n",
      "THRPTC_RCRTNL_FLTM_CNT\n",
      "THRPTC_RCRTNL_PRTM_CNT\n",
      "EMPLEE_CNT\n",
      "VLNTR_CNT\n",
      "SBUNIT_CNT\n",
      "SBUNIT_SW\n",
      "SBUNIT_OPRTN_SW\n",
      "DNTL_SRGRY_SW\n",
      "OTLRYNGLGY_SRGRY_SW\n",
      "ENDSCPY_SRGRY_SW\n",
      "OB_GYN_SRGRY_SW\n",
      "OPTHMLGY_SRGRY_SW\n",
      "ORTHPDC_SRGRY_SW\n",
      "OTHR_SRGRY_SW\n",
      "PAIN_SRGRY_SW\n",
      "PLSTC_SRGRY_SW\n",
      "FT_SRGRY_SW\n",
      "SB_SW\n",
      "SB_SIZE_CD\n",
      "TCHNLGST_2_YR_RDLGC_CNT\n",
      "TCHNLGST_ASCT_DGR_CNT\n",
      "TCHNLGST_BS_BA_DGR_CNT\n",
      "DLYS_STN_CNT\n"
     ]
    }
   ],
   "source": [
    "for col in pos.columns:\n",
    "    print(col)"
   ]
  },
  {
   "cell_type": "code",
   "execution_count": 5,
   "metadata": {},
   "outputs": [
    {
     "data": {
      "text/plain": [
       "U    105429\n",
       "R     38106\n",
       "Name: CBSA_URBN_RRL_IND, dtype: int64"
      ]
     },
     "execution_count": 5,
     "metadata": {},
     "output_type": "execute_result"
    }
   ],
   "source": [
    "# pos['PRVDR_NUM'].value_counts()\n",
    "pos['CBSA_URBN_RRL_IND'].value_counts()"
   ]
  },
  {
   "cell_type": "code",
   "execution_count": 6,
   "metadata": {},
   "outputs": [],
   "source": [
    "# hosp.info()"
   ]
  },
  {
   "cell_type": "code",
   "execution_count": 7,
   "metadata": {},
   "outputs": [],
   "source": [
    "pos2 = pos.merge(hosp,right_on='provider_id',left_on='PRVDR_NUM',how='inner')"
   ]
  },
  {
   "cell_type": "code",
   "execution_count": 8,
   "metadata": {},
   "outputs": [
    {
     "data": {
      "text/plain": [
       "(2320, 516)"
      ]
     },
     "execution_count": 8,
     "metadata": {},
     "output_type": "execute_result"
    }
   ],
   "source": [
    "pos2.shape"
   ]
  },
  {
   "cell_type": "code",
   "execution_count": 9,
   "metadata": {},
   "outputs": [
    {
     "name": "stdout",
     "output_type": "stream",
     "text": [
      "<class 'pandas.core.frame.DataFrame'>\n",
      "Int64Index: 2320 entries, 0 to 2319\n",
      "Data columns (total 10 columns):\n",
      "provider_id           2320 non-null object\n",
      "CRTFD_BED_CNT         2320 non-null float64\n",
      "CBSA_URBN_RRL_IND     2320 non-null object\n",
      "AFLTD_PRVDR_CNT       2320 non-null object\n",
      "MDCL_SCHL_AFLTN_CD    2320 non-null object\n",
      "PHYSN_CNT             2320 non-null float64\n",
      "PHYSN_ASTNT_CNT       2320 non-null float64\n",
      "RSDNT_PHYSN_CNT       2320 non-null float64\n",
      "RN_CNT                2320 non-null float64\n",
      "NRS_PRCTNR_CNT        2320 non-null float64\n",
      "dtypes: float64(6), object(4)\n",
      "memory usage: 199.4+ KB\n"
     ]
    }
   ],
   "source": [
    "# bed count, urban/rural indicator, # of affiliated providers, medical school affiliation\n",
    "# physician, PA, phys residents, RN, nurse practitioner\n",
    "pos2 = pos2.loc[:,['provider_id',\n",
    "                   'CRTFD_BED_CNT','CBSA_URBN_RRL_IND','AFLTD_PRVDR_CNT','MDCL_SCHL_AFLTN_CD',\n",
    "                   'PHYSN_CNT','PHYSN_ASTNT_CNT','RSDNT_PHYSN_CNT','RN_CNT','NRS_PRCTNR_CNT']]\n",
    "\n",
    "num_cols = ['CRTFD_BED_CNT','PHYSN_CNT','PHYSN_ASTNT_CNT','RSDNT_PHYSN_CNT','RN_CNT','NRS_PRCTNR_CNT']\n",
    "for cols in num_cols:\n",
    "    pos2[cols] = pos2[cols].astype(float)\n",
    "pos2.info()"
   ]
  },
  {
   "cell_type": "markdown",
   "metadata": {},
   "source": [
    "## EDA"
   ]
  },
  {
   "cell_type": "code",
   "execution_count": 10,
   "metadata": {},
   "outputs": [
    {
     "data": {
      "image/png": "[encoded data removed]",
      "text/plain": [
       "<Figure size 864x288 with 2 Axes>"
      ]
     },
     "metadata": {
      "needs_background": "light"
     },
     "output_type": "display_data"
    }
   ],
   "source": [
    "fig,(ax1,ax2) = plt.subplots(1,2, figsize=(12,4))\n",
    "ax1.hist(pos2['CRTFD_BED_CNT'],bins=20);\n",
    "ax1.set_title('bed count')\n",
    "ax2.hist(np.log(pos2['CRTFD_BED_CNT']),bins=20)\n",
    "ax2.set_title('bed count log');"
   ]
  },
  {
   "cell_type": "code",
   "execution_count": 11,
   "metadata": {},
   "outputs": [
    {
     "name": "stdout",
     "output_type": "stream",
     "text": [
      "Lambda: 0.025721469234895596\n"
     ]
    },
    {
     "data": {
      "image/png": "[encoded data removed]",
      "text/plain": [
       "<Figure size 432x288 with 1 Axes>"
      ]
     },
     "metadata": {
      "needs_background": "light"
     },
     "output_type": "display_data"
    }
   ],
   "source": [
    "#boxcox transformation\n",
    "import scipy.stats as stats\n",
    "lamb=stats.boxcox_normmax(pos2['CRTFD_BED_CNT'], brack=(-1.9, 1.9)) # don't use \"lambda\" as it's a Python reserved word\n",
    "print(\"Lambda:\", lamb)\n",
    "y_t=(np.power(pos2['CRTFD_BED_CNT'],-lamb)-1)/-lamb\n",
    "\n",
    "plt.hist(y_t);"
   ]
  },
  {
   "cell_type": "code",
   "execution_count": 12,
   "metadata": {},
   "outputs": [
    {
     "data": {
      "text/plain": [
       "U    1854\n",
       "R     466\n",
       "Name: CBSA_URBN_RRL_IND, dtype: int64"
      ]
     },
     "execution_count": 12,
     "metadata": {},
     "output_type": "execute_result"
    }
   ],
   "source": [
    "pos2['CBSA_URBN_RRL_IND'].value_counts()"
   ]
  },
  {
   "cell_type": "code",
   "execution_count": 13,
   "metadata": {},
   "outputs": [
    {
     "data": {
      "text/plain": [
       "4    1386\n",
       "2     456\n",
       "1     368\n",
       "3     110\n",
       "Name: MDCL_SCHL_AFLTN_CD, dtype: int64"
      ]
     },
     "execution_count": 13,
     "metadata": {},
     "output_type": "execute_result"
    }
   ],
   "source": [
    "pos2['MDCL_SCHL_AFLTN_CD'].value_counts()"
   ]
  },
  {
   "cell_type": "code",
   "execution_count": 14,
   "metadata": {},
   "outputs": [
    {
     "data": {
      "image/png": "[encoded data removed]",
      "text/plain": [
       "<Figure size 1080x288 with 1 Axes>"
      ]
     },
     "metadata": {
      "needs_background": "light"
     },
     "output_type": "display_data"
    },
    {
     "name": "stdout",
     "output_type": "stream",
     "text": [
      "0.0 2538.0\n"
     ]
    },
    {
     "data": {
      "image/png": "[encoded data removed]",
      "text/plain": [
       "<Figure size 1080x288 with 1 Axes>"
      ]
     },
     "metadata": {
      "needs_background": "light"
     },
     "output_type": "display_data"
    },
    {
     "name": "stdout",
     "output_type": "stream",
     "text": [
      "0.0 349.4\n"
     ]
    },
    {
     "data": {
      "image/png": "[encoded data removed]",
      "text/plain": [
       "<Figure size 1080x288 with 1 Axes>"
      ]
     },
     "metadata": {
      "needs_background": "light"
     },
     "output_type": "display_data"
    },
    {
     "name": "stdout",
     "output_type": "stream",
     "text": [
      "0.0 1689.38\n"
     ]
    },
    {
     "data": {
      "image/png": "[encoded data removed]",
      "text/plain": [
       "<Figure size 1080x288 with 1 Axes>"
      ]
     },
     "metadata": {
      "needs_background": "light"
     },
     "output_type": "display_data"
    },
    {
     "name": "stdout",
     "output_type": "stream",
     "text": [
      "0.0 68094.4\n"
     ]
    },
    {
     "data": {
      "image/png": "[encoded data removed]",
      "text/plain": [
       "<Figure size 1080x288 with 1 Axes>"
      ]
     },
     "metadata": {
      "needs_background": "light"
     },
     "output_type": "display_data"
    },
    {
     "name": "stdout",
     "output_type": "stream",
     "text": [
      "0.0 721.0\n"
     ]
    }
   ],
   "source": [
    "staff_counts = ['PHYSN_CNT','PHYSN_ASTNT_CNT','RSDNT_PHYSN_CNT','RN_CNT','NRS_PRCTNR_CNT']\n",
    "\n",
    "for staff in staff_counts:\n",
    "# pos2['PHYSN_CNT'].value_counts()\n",
    "    plt.figure(figsize=(15,4))\n",
    "    plt.hist(pos2[staff],bins=20)\n",
    "    plt.title(staff)\n",
    "    plt.show();\n",
    "    print(pos2[staff].min(),pos2[staff].max())\n",
    "#     pos2['PHYSN_CNT'].value_counts()"
   ]
  },
  {
   "cell_type": "code",
   "execution_count": 15,
   "metadata": {},
   "outputs": [],
   "source": [
    "## Reformat and drop non-useful variables\n",
    "pos2.rename({'CRTFD_BED_CNT':'bed_count'},axis=1,inplace=True)\n",
    "pos2['rural'] = [1 if x == 'U' else 0 for x in pos2['CBSA_URBN_RRL_IND']]\n",
    "pos2['med_school_affiliation'] = [1 if x != '4' else 0 for x in pos2['MDCL_SCHL_AFLTN_CD']]\n",
    "pos2 = pos2.loc[:,['provider_id','bed_count','rural','med_school_affiliation']]"
   ]
  },
  {
   "cell_type": "code",
   "execution_count": 16,
   "metadata": {},
   "outputs": [],
   "source": [
    "hosp2 = hosp.merge(pos2,on='provider_id')"
   ]
  },
  {
   "cell_type": "code",
   "execution_count": 17,
   "metadata": {},
   "outputs": [
    {
     "name": "stdout",
     "output_type": "stream",
     "text": [
      "<class 'pandas.core.frame.DataFrame'>\n",
      "Int64Index: 2378 entries, 0 to 2377\n",
      "Data columns (total 46 columns):\n",
      "provider_id                                           2378 non-null object\n",
      "start_date                                            2378 non-null object\n",
      "end_date                                              2378 non-null object\n",
      "avg_EXCESS                                            2378 non-null float64\n",
      "avg_PRR                                               2378 non-null float64\n",
      "avg_ERR                                               2378 non-null float64\n",
      "PRR_imputed                                           2378 non-null int64\n",
      "nod_imputed                                           2378 non-null int64\n",
      "number_of_discharges                                  2378 non-null float64\n",
      "number_of_readmissions                                2378 non-null float64\n",
      "measure_name                                          2378 non-null int64\n",
      "hospital_name                                         2378 non-null object\n",
      "state                                                 2378 non-null object\n",
      "zip_code                                              2378 non-null object\n",
      "county_name                                           2378 non-null object\n",
      "hospital_type                                         2378 non-null object\n",
      "county_st                                             2378 non-null object\n",
      "Case_Mix_Indexes                                      2378 non-null float64\n",
      "FY_Wage_Index                                         2378 non-null float64\n",
      "3_Year_Avg_Hourly_Wage                                2378 non-null float64\n",
      "median_household_income                               2378 non-null float64\n",
      "some_college_or_higher                                2378 non-null float64\n",
      "emergency_services_True                               2378 non-null uint8\n",
      "hospital_ownership_Nonprofit_Other                    2378 non-null uint8\n",
      "hospital_ownership_Other                              2378 non-null uint8\n",
      "hospital_ownership_Private_Nonprofit                  2378 non-null uint8\n",
      "hospital_ownership_Proprietary                        2378 non-null uint8\n",
      "hospital_overall_rating_2                             2378 non-null uint8\n",
      "hospital_overall_rating_3                             2378 non-null uint8\n",
      "hospital_overall_rating_4                             2378 non-null uint8\n",
      "hospital_overall_rating_5                             2378 non-null uint8\n",
      "mortality_better_than_national_average                2378 non-null uint8\n",
      "mortality_same_as_national_average                    2378 non-null uint8\n",
      "safety_of_care_better_than_national_average           2378 non-null uint8\n",
      "safety_of_care_same_as_national_average               2378 non-null uint8\n",
      "patient_experience_better_than_national_average       2378 non-null uint8\n",
      "patient_experience_same_as_national_average           2378 non-null uint8\n",
      "effectiveness_of_care_better_than_national_average    2378 non-null uint8\n",
      "effectiveness_of_care_same_as_national_average        2378 non-null uint8\n",
      "timeliness_of_care_better_than_national_average       2378 non-null uint8\n",
      "timeliness_of_care_same_as_national_average           2378 non-null uint8\n",
      "medical_imaging_better_than_national_average          2378 non-null uint8\n",
      "medical_imaging_same_as_national_average              2378 non-null uint8\n",
      "bed_count                                             2378 non-null float64\n",
      "rural                                                 2378 non-null int64\n",
      "med_school_affiliation                                2378 non-null int64\n",
      "dtypes: float64(11), int64(5), object(9), uint8(21)\n",
      "memory usage: 531.8+ KB\n"
     ]
    }
   ],
   "source": [
    "hosp2.info()"
   ]
  },
  {
   "cell_type": "code",
   "execution_count": 18,
   "metadata": {},
   "outputs": [],
   "source": [
    "with open('hosp2.pickle', 'wb') as to_write:\n",
    "    pickle.dump(hosp2, to_write)"
   ]
  },
  {
   "cell_type": "code",
   "execution_count": null,
   "metadata": {},
   "outputs": [],
   "source": []
  }
 ],
 "metadata": {
  "kernelspec": {
   "display_name": "Python [conda env:metis] *",
   "language": "python",
   "name": "conda-env-metis-py"
  },
  "language_info": {
   "codemirror_mode": {
    "name": "ipython",
    "version": 3
   },
   "file_extension": ".py",
   "mimetype": "text/x-python",
   "name": "python",
   "nbconvert_exporter": "python",
   "pygments_lexer": "ipython3",
   "version": "3.6.9"
  }
 },
 "nbformat": 4,
 "nbformat_minor": 2
}
